{
 "cells": [
  {
   "cell_type": "markdown",
   "metadata": {
    "colab_type": "text",
    "id": "view-in-github"
   },
   "source": [
    "<a href=\"https://colab.research.google.com/github/himanshag/SECOM/blob/main/base_file.ipynb\" target=\"_parent\"><img src=\"https://colab.research.google.com/assets/colab-badge.svg\" alt=\"Open In Colab\"/></a>"
   ]
  },
  {
   "cell_type": "markdown",
   "metadata": {
    "id": "s8CoiNMU1IQ8"
   },
   "source": [
    "#### Importing packages"
   ]
  },
  {
   "cell_type": "code",
   "execution_count": 108,
   "metadata": {
    "colab": {
     "base_uri": "https://localhost:8080/",
     "height": 374
    },
    "id": "VNPgCs7b1Jso",
    "outputId": "3a670258-8b30-4127-af0b-8b26a1e138f1"
   },
   "outputs": [],
   "source": [
    "import pandas as pd\n",
    "import seaborn as sns\n",
    "import numpy as np\n",
    "import matplotlib.pyplot as plt\n",
    "from sklearn.model_selection import train_test_split\n",
    "from sklearn.neighbors import KNeighborsClassifier\n",
    "import plotly as py\n",
    "import plotly.express as px\n",
    "import missingno as msno\n",
    "from sklearn.impute import KNNImputer\n",
    "from sklearn.preprocessing import StandardScaler\n",
    "from sklearn.ensemble import RandomForestClassifier\n",
    "from sklearn.metrics import confusion_matrix\n",
    "from sklearn.metrics import classification_report\n",
    "from sklearn.metrics import plot_roc_curve\n",
    "from sklearn.metrics import accuracy_score\n",
    "# to avoid warnings\n",
    "import warnings\n",
    "warnings.filterwarnings('ignore')\n",
    "warnings.warn(\"this will not show\")"
   ]
  },
  {
   "cell_type": "markdown",
   "metadata": {
    "id": "za0s4Egl1QU5"
   },
   "source": [
    "#### Functions"
   ]
  },
  {
   "cell_type": "code",
   "execution_count": 109,
   "metadata": {
    "id": "RlMVRmdS1R0l"
   },
   "outputs": [],
   "source": [
    "# Function to remove missing values above a given threshold\n",
    "def missing_remove(dataframe, threshold):\n",
    "    columns = dataframe.columns[(dataframe.isna().sum()/dataframe.shape[1])>threshold].tolist()\n",
    "    print(f\"# Features deleted with more than {threshold} % missing values\", len(columns))\n",
    "    return dataframe.drop(columns, axis=1,inplace=True)"
   ]
  },
  {
   "cell_type": "code",
   "execution_count": 110,
   "metadata": {
    "id": "i62Cd7qc1LeI"
   },
   "outputs": [],
   "source": [
    "# Function to remove features with unique values\n",
    "def unique_remove(dataframe):\n",
    "    unique_features = []\n",
    "    for col in dataframe.columns:\n",
    "        if(dataframe[col].unique().size == 2):\n",
    "            if(len(unique_features) == 0):\n",
    "                unique_features =  dataframe[col]\n",
    "            else:\n",
    "                 unique_features = pd.concat([unique_features, dataframe[col]], axis=1)\n",
    "            dataframe.drop(col, axis=1, inplace=True)"
   ]
  },
  {
   "cell_type": "code",
   "execution_count": 111,
   "metadata": {
    "id": "j_OUWkYC1WQD"
   },
   "outputs": [],
   "source": [
    "# Function to remove outlier\n",
    "def outlier_detection_zcore(dataframe):\n",
    "    data_mean, data_std  = dataframe.mean(), dataframe.std()\n",
    "    data_z_scores = ((dataframe - data_mean) / data_std).abs()\n",
    "    m = data_z_scores > 3\n",
    "    dataframe = dataframe.mask(m,inplace=True)\n",
    "    return dataframe"
   ]
  },
  {
   "cell_type": "code",
   "execution_count": 226,
   "metadata": {
    "id": "ICLy3MkK4OTH"
   },
   "outputs": [],
   "source": [
    "def rfc(X_train_rfc,X_test_rfc,max_depth):\n",
    "  scaler = StandardScaler()\n",
    "  scaler.fit(X_train_rfc)\n",
    "  train_std = pd.DataFrame(scaler.transform(X_train_rfc), columns=X_train_rfc.columns)\n",
    "  test_std = pd.DataFrame(scaler.transform(X_test_rfc), columns=X_test_rfc.columns)\n",
    "  model = RandomForestClassifier(n_estimators=100, criterion='entropy', max_depth=max_depth,random_state=0)\n",
    "  model.fit(X_train_rfc, y_train)\n",
    "  y_pred = model.predict(X_test_rfc)\n",
    "  print(confusion_matrix(y_test, y_pred))\n",
    "  sns.heatmap(confusion_matrix(y_test, y_pred), annot=True, fmt=\"d\")\n",
    "  print(classification_report(y_test, y_pred))\n",
    "  ax = plt.gca()\n",
    "  plot = plot_roc_curve(model, X_test_rfc, y_test, ax=ax, alpha=0.8)\n",
    "  print(\"Test Accuracy Score\", accuracy_score(y_test, y_pred))\n",
    "  f1score = f1_score(y_test, y_pred, average='micro')\n",
    "  mccscore=matthews_corrcoef(y_test, y_pred)\n",
    "  return f1score, mccscore"
   ]
  },
  {
   "cell_type": "code",
   "execution_count": 224,
   "metadata": {},
   "outputs": [],
   "source": [
    "from sklearn.linear_model import LogisticRegression\n",
    "from sklearn.metrics import f1_score, matthews_corrcoef\n",
    "from yellowbrick.classifier import ConfusionMatrix, ClassPredictionError\n",
    "def evaluate(train_df, test_df, train_target, test_target):\n",
    "    \n",
    "    scaler = StandardScaler()\n",
    "    scaler.fit(train_df)\n",
    "    train_std = pd.DataFrame(scaler.transform(train_df), columns=train_df.columns)\n",
    "    test_std = pd.DataFrame(scaler.transform(test_df), columns=test_df.columns)\n",
    "    \n",
    "    logreg = LogisticRegression(random_state = 42, class_weight='balanced', C=200, dual=False, solver='liblinear')\n",
    "    logreg.fit(train_std, train_target.values.ravel())\n",
    "    \n",
    "    y_pred = logreg.predict(test_std)\n",
    "    y_true = test_target.values.ravel()\n",
    "    f1score = f1_score(y_true, y_pred, average='micro')\n",
    "    mccscore=matthews_corrcoef(y_true, y_pred)\n",
    "    \n",
    "   \n",
    "    cm = ConfusionMatrix(logreg, classes=['Pass', 'Fail'], cmap=\"YlGn\", size=(800,700))\n",
    "    cm.score(test_std, y_true)\n",
    "    cm.show()\n",
    "    ax = plt.gca()\n",
    "    plot = plot_roc_curve(logreg, test_df, test_target, ax=ax, alpha=0.8)\n",
    "    \n",
    "    return f1score, mccscore"
   ]
  },
  {
   "cell_type": "code",
   "execution_count": 232,
   "metadata": {},
   "outputs": [],
   "source": [
    "from sklearn import svm\n",
    "def svmevaluate(train_df, test_df, train_target, test_target):\n",
    "    \n",
    "    scaler = StandardScaler()\n",
    "    scaler.fit(train_df)\n",
    "    train_std = pd.DataFrame(scaler.transform(train_df), columns=train_df.columns)\n",
    "    test_std = pd.DataFrame(scaler.transform(test_df), columns=test_df.columns)\n",
    "    \n",
    "    svme = svm.SVC()\n",
    "    svme.fit(train_std, train_target.values.ravel())\n",
    "    \n",
    "    y_pred = svme.predict(test_std)\n",
    "    y_true = test_target.values.ravel()\n",
    "    f1score = f1_score(y_true, y_pred, average='micro')\n",
    "    mccscore=matthews_corrcoef(y_true, y_pred)\n",
    "    \n",
    "   \n",
    "    cm = ConfusionMatrix(svme, classes=['Pass', 'Fail'], cmap=\"YlGn\", size=(800,700))\n",
    "    cm.score(test_std, y_true)\n",
    "    cm.show()\n",
    "    ax = plt.gca()\n",
    "    plot = plot_roc_curve(svme, test_df, test_target, ax=ax, alpha=0.8)\n",
    "    \n",
    "    return f1score, mccscore"
   ]
  },
  {
   "cell_type": "markdown",
   "metadata": {
    "id": "QYimj7lt1efy"
   },
   "source": [
    "#### Importing and basic cleaning"
   ]
  },
  {
   "cell_type": "code",
   "execution_count": 114,
   "metadata": {
    "id": "LbJIxqWC1hBn"
   },
   "outputs": [],
   "source": [
    "# Importing data from internet in runtime\n",
    "data_url=\"https://archive.ics.uci.edu/ml/machine-learning-databases/secom/secom.data\""
   ]
  },
  {
   "cell_type": "code",
   "execution_count": 115,
   "metadata": {
    "id": "vLONGBRz1iz7"
   },
   "outputs": [],
   "source": [
    "# Assigning data to a pandas dataframe\n",
    "secom_data = pd.read_csv(data_url,sep=' ',header=None)"
   ]
  },
  {
   "cell_type": "code",
   "execution_count": 116,
   "metadata": {
    "colab": {
     "base_uri": "https://localhost:8080/",
     "height": 300
    },
    "id": "mJ-CpITl1lJG",
    "outputId": "30a5f530-8bcc-47cb-bee2-f89a475f2a7e"
   },
   "outputs": [
    {
     "data": {
      "text/html": [
       "<div>\n",
       "<style scoped>\n",
       "    .dataframe tbody tr th:only-of-type {\n",
       "        vertical-align: middle;\n",
       "    }\n",
       "\n",
       "    .dataframe tbody tr th {\n",
       "        vertical-align: top;\n",
       "    }\n",
       "\n",
       "    .dataframe thead th {\n",
       "        text-align: right;\n",
       "    }\n",
       "</style>\n",
       "<table border=\"1\" class=\"dataframe\">\n",
       "  <thead>\n",
       "    <tr style=\"text-align: right;\">\n",
       "      <th></th>\n",
       "      <th>Feature_1</th>\n",
       "      <th>Feature_2</th>\n",
       "      <th>Feature_3</th>\n",
       "      <th>Feature_4</th>\n",
       "      <th>Feature_5</th>\n",
       "      <th>Feature_6</th>\n",
       "      <th>Feature_7</th>\n",
       "      <th>Feature_8</th>\n",
       "      <th>Feature_9</th>\n",
       "      <th>Feature_10</th>\n",
       "      <th>...</th>\n",
       "      <th>Feature_581</th>\n",
       "      <th>Feature_582</th>\n",
       "      <th>Feature_583</th>\n",
       "      <th>Feature_584</th>\n",
       "      <th>Feature_585</th>\n",
       "      <th>Feature_586</th>\n",
       "      <th>Feature_587</th>\n",
       "      <th>Feature_588</th>\n",
       "      <th>Feature_589</th>\n",
       "      <th>Feature_590</th>\n",
       "    </tr>\n",
       "  </thead>\n",
       "  <tbody>\n",
       "    <tr>\n",
       "      <th>0</th>\n",
       "      <td>3030.93</td>\n",
       "      <td>2564.00</td>\n",
       "      <td>2187.7333</td>\n",
       "      <td>1411.1265</td>\n",
       "      <td>1.3602</td>\n",
       "      <td>100.0</td>\n",
       "      <td>97.6133</td>\n",
       "      <td>0.1242</td>\n",
       "      <td>1.5005</td>\n",
       "      <td>0.0162</td>\n",
       "      <td>...</td>\n",
       "      <td>NaN</td>\n",
       "      <td>NaN</td>\n",
       "      <td>0.5005</td>\n",
       "      <td>0.0118</td>\n",
       "      <td>0.0035</td>\n",
       "      <td>2.3630</td>\n",
       "      <td>NaN</td>\n",
       "      <td>NaN</td>\n",
       "      <td>NaN</td>\n",
       "      <td>NaN</td>\n",
       "    </tr>\n",
       "    <tr>\n",
       "      <th>1</th>\n",
       "      <td>3095.78</td>\n",
       "      <td>2465.14</td>\n",
       "      <td>2230.4222</td>\n",
       "      <td>1463.6606</td>\n",
       "      <td>0.8294</td>\n",
       "      <td>100.0</td>\n",
       "      <td>102.3433</td>\n",
       "      <td>0.1247</td>\n",
       "      <td>1.4966</td>\n",
       "      <td>-0.0005</td>\n",
       "      <td>...</td>\n",
       "      <td>0.0060</td>\n",
       "      <td>208.2045</td>\n",
       "      <td>0.5019</td>\n",
       "      <td>0.0223</td>\n",
       "      <td>0.0055</td>\n",
       "      <td>4.4447</td>\n",
       "      <td>0.0096</td>\n",
       "      <td>0.0201</td>\n",
       "      <td>0.0060</td>\n",
       "      <td>208.2045</td>\n",
       "    </tr>\n",
       "    <tr>\n",
       "      <th>2</th>\n",
       "      <td>2932.61</td>\n",
       "      <td>2559.94</td>\n",
       "      <td>2186.4111</td>\n",
       "      <td>1698.0172</td>\n",
       "      <td>1.5102</td>\n",
       "      <td>100.0</td>\n",
       "      <td>95.4878</td>\n",
       "      <td>0.1241</td>\n",
       "      <td>1.4436</td>\n",
       "      <td>0.0041</td>\n",
       "      <td>...</td>\n",
       "      <td>0.0148</td>\n",
       "      <td>82.8602</td>\n",
       "      <td>0.4958</td>\n",
       "      <td>0.0157</td>\n",
       "      <td>0.0039</td>\n",
       "      <td>3.1745</td>\n",
       "      <td>0.0584</td>\n",
       "      <td>0.0484</td>\n",
       "      <td>0.0148</td>\n",
       "      <td>82.8602</td>\n",
       "    </tr>\n",
       "    <tr>\n",
       "      <th>3</th>\n",
       "      <td>2988.72</td>\n",
       "      <td>2479.90</td>\n",
       "      <td>2199.0333</td>\n",
       "      <td>909.7926</td>\n",
       "      <td>1.3204</td>\n",
       "      <td>100.0</td>\n",
       "      <td>104.2367</td>\n",
       "      <td>0.1217</td>\n",
       "      <td>1.4882</td>\n",
       "      <td>-0.0124</td>\n",
       "      <td>...</td>\n",
       "      <td>0.0044</td>\n",
       "      <td>73.8432</td>\n",
       "      <td>0.4990</td>\n",
       "      <td>0.0103</td>\n",
       "      <td>0.0025</td>\n",
       "      <td>2.0544</td>\n",
       "      <td>0.0202</td>\n",
       "      <td>0.0149</td>\n",
       "      <td>0.0044</td>\n",
       "      <td>73.8432</td>\n",
       "    </tr>\n",
       "    <tr>\n",
       "      <th>4</th>\n",
       "      <td>3032.24</td>\n",
       "      <td>2502.87</td>\n",
       "      <td>2233.3667</td>\n",
       "      <td>1326.5200</td>\n",
       "      <td>1.5334</td>\n",
       "      <td>100.0</td>\n",
       "      <td>100.3967</td>\n",
       "      <td>0.1235</td>\n",
       "      <td>1.5031</td>\n",
       "      <td>-0.0031</td>\n",
       "      <td>...</td>\n",
       "      <td>NaN</td>\n",
       "      <td>NaN</td>\n",
       "      <td>0.4800</td>\n",
       "      <td>0.4766</td>\n",
       "      <td>0.1045</td>\n",
       "      <td>99.3032</td>\n",
       "      <td>0.0202</td>\n",
       "      <td>0.0149</td>\n",
       "      <td>0.0044</td>\n",
       "      <td>73.8432</td>\n",
       "    </tr>\n",
       "  </tbody>\n",
       "</table>\n",
       "<p>5 rows × 590 columns</p>\n",
       "</div>"
      ],
      "text/plain": [
       "   Feature_1  Feature_2  Feature_3  Feature_4  Feature_5  Feature_6  \\\n",
       "0    3030.93    2564.00  2187.7333  1411.1265     1.3602      100.0   \n",
       "1    3095.78    2465.14  2230.4222  1463.6606     0.8294      100.0   \n",
       "2    2932.61    2559.94  2186.4111  1698.0172     1.5102      100.0   \n",
       "3    2988.72    2479.90  2199.0333   909.7926     1.3204      100.0   \n",
       "4    3032.24    2502.87  2233.3667  1326.5200     1.5334      100.0   \n",
       "\n",
       "   Feature_7  Feature_8  Feature_9  Feature_10  ...  Feature_581  Feature_582  \\\n",
       "0    97.6133     0.1242     1.5005      0.0162  ...          NaN          NaN   \n",
       "1   102.3433     0.1247     1.4966     -0.0005  ...       0.0060     208.2045   \n",
       "2    95.4878     0.1241     1.4436      0.0041  ...       0.0148      82.8602   \n",
       "3   104.2367     0.1217     1.4882     -0.0124  ...       0.0044      73.8432   \n",
       "4   100.3967     0.1235     1.5031     -0.0031  ...          NaN          NaN   \n",
       "\n",
       "   Feature_583  Feature_584  Feature_585  Feature_586  Feature_587  \\\n",
       "0       0.5005       0.0118       0.0035       2.3630          NaN   \n",
       "1       0.5019       0.0223       0.0055       4.4447       0.0096   \n",
       "2       0.4958       0.0157       0.0039       3.1745       0.0584   \n",
       "3       0.4990       0.0103       0.0025       2.0544       0.0202   \n",
       "4       0.4800       0.4766       0.1045      99.3032       0.0202   \n",
       "\n",
       "   Feature_588  Feature_589  Feature_590  \n",
       "0          NaN          NaN          NaN  \n",
       "1       0.0201       0.0060     208.2045  \n",
       "2       0.0484       0.0148      82.8602  \n",
       "3       0.0149       0.0044      73.8432  \n",
       "4       0.0149       0.0044      73.8432  \n",
       "\n",
       "[5 rows x 590 columns]"
      ]
     },
     "execution_count": 116,
     "metadata": {},
     "output_type": "execute_result"
    }
   ],
   "source": [
    "# Renaming the columns \n",
    "secom_data.columns = [\"Feature_\"+str(column+1) for column in range(len(secom_data.columns))]\n",
    "secom_data.head()"
   ]
  },
  {
   "cell_type": "code",
   "execution_count": 117,
   "metadata": {
    "id": "1m82GHOT1msU"
   },
   "outputs": [],
   "source": [
    "# Importing target data from internet in runtime\n",
    "label_url=\"https://archive.ics.uci.edu/ml/machine-learning-databases/secom/secom_labels.data\""
   ]
  },
  {
   "cell_type": "code",
   "execution_count": 118,
   "metadata": {
    "id": "MXNuzPJe1sNk"
   },
   "outputs": [],
   "source": [
    "# Assigning target data to a pandas dataframe\n",
    "secom_labels = pd.read_csv(label_url, sep = \" \",header=None)"
   ]
  },
  {
   "cell_type": "code",
   "execution_count": 119,
   "metadata": {
    "id": "RqtL5guL1tz7"
   },
   "outputs": [],
   "source": [
    "# Renaming the columns \n",
    "secom_labels.columns = [\"Classification\",\"Timestamp\"]"
   ]
  },
  {
   "cell_type": "code",
   "execution_count": 120,
   "metadata": {
    "id": "84Dl-Fay1vz3"
   },
   "outputs": [],
   "source": [
    "# Changing datatype for consitency\n",
    "secom_labels['Timestamp'] = pd.to_datetime(secom_labels['Timestamp'],errors='raise')"
   ]
  },
  {
   "cell_type": "code",
   "execution_count": 121,
   "metadata": {
    "id": "qSmgspyk1xcL"
   },
   "outputs": [],
   "source": [
    "# Merging the data\n",
    "data= pd.concat([secom_labels,secom_data],axis=1)"
   ]
  },
  {
   "cell_type": "code",
   "execution_count": 122,
   "metadata": {
    "id": "foQ0Zplo1yxq"
   },
   "outputs": [],
   "source": [
    "# Dropping the timestamp column as it provides no insights\n",
    "data.drop(columns=\"Timestamp\", errors='raise',inplace=True)"
   ]
  },
  {
   "cell_type": "code",
   "execution_count": 123,
   "metadata": {
    "id": "wSd7j_0210WF"
   },
   "outputs": [],
   "source": [
    "target = data[['Classification']]\n",
    "data.drop(['Classification'], axis=1,inplace=True)"
   ]
  },
  {
   "cell_type": "markdown",
   "metadata": {
    "id": "gcnUqd02122m"
   },
   "source": [
    "#### Spliting the data into training set and test set"
   ]
  },
  {
   "cell_type": "code",
   "execution_count": 124,
   "metadata": {
    "id": "UfkKHvKQ14hm"
   },
   "outputs": [],
   "source": [
    "from sklearn.model_selection import train_test_split\n",
    "X_train, X_test, y_train, y_test = train_test_split(data,target, test_size=0.2, random_state=42, stratify=target)\n",
    "# We use the startify parameter as the data is imbalanced on the basis of pass and fail and this will ensure the same \n",
    "#is retained when we split - Random state will help us create a reproducible data - Test size is the split ration"
   ]
  },
  {
   "cell_type": "code",
   "execution_count": 125,
   "metadata": {
    "id": "zoPcLGkRzCNR"
   },
   "outputs": [],
   "source": [
    "X_test_original = X_test"
   ]
  },
  {
   "cell_type": "markdown",
   "metadata": {
    "id": "VngQ8qmq18L2"
   },
   "source": [
    "#### Re-labeling the Target values\n"
   ]
  },
  {
   "cell_type": "code",
   "execution_count": 126,
   "metadata": {
    "id": "Zita67WD18oW"
   },
   "outputs": [],
   "source": [
    "# Relabeling target variables 1 is pass and 0 is fail\n",
    "y_train = y_train.replace(to_replace=[-1, 1], value=[1, 0])\n",
    "y_test = y_test.replace(to_replace=[-1, 1], value=[1, 0])"
   ]
  },
  {
   "cell_type": "code",
   "execution_count": 19,
   "metadata": {
    "id": "Qqf5h04o2BV3"
   },
   "outputs": [],
   "source": [
    "# # Scaling the data\n",
    "# scaler = StandardScaler()\n",
    "# scaler.fit(X_train)\n",
    "# X_train = pd.DataFrame(scaler.transform(X_train), columns=X_train.columns)\n",
    "# X_test = pd.DataFrame(scaler.transform(X_test), columns=X_test.columns)"
   ]
  },
  {
   "cell_type": "markdown",
   "metadata": {
    "id": "Ktw4-If-2JVo"
   },
   "source": [
    "# Decision : Removing columns with more that 50% missing values"
   ]
  },
  {
   "cell_type": "code",
   "execution_count": 127,
   "metadata": {
    "colab": {
     "base_uri": "https://localhost:8080/"
    },
    "id": "Sealjvqy16tt",
    "outputId": "44d09e94-bb7b-4e06-9d84-c223ff29e689"
   },
   "outputs": [
    {
     "data": {
      "text/plain": [
       "(1253, 590)"
      ]
     },
     "execution_count": 127,
     "metadata": {},
     "output_type": "execute_result"
    }
   ],
   "source": [
    "X_train.shape"
   ]
  },
  {
   "cell_type": "code",
   "execution_count": 128,
   "metadata": {
    "colab": {
     "base_uri": "https://localhost:8080/"
    },
    "id": "K3sSkLKz2MQv",
    "outputId": "67bc7de7-e5eb-405e-f814-3064a66ba089"
   },
   "outputs": [
    {
     "name": "stdout",
     "output_type": "stream",
     "text": [
      "# Features deleted with more than 0.5 % missing values 32\n"
     ]
    },
    {
     "data": {
      "text/plain": [
       "(1253, 558)"
      ]
     },
     "execution_count": 128,
     "metadata": {},
     "output_type": "execute_result"
    }
   ],
   "source": [
    "X_train_missing = X_train\n",
    "missing_remove(X_train_missing, 0.5)\n",
    "X_train_missing.shape"
   ]
  },
  {
   "cell_type": "markdown",
   "metadata": {
    "id": "eWk4oFZGoytT"
   },
   "source": [
    "# Decision : Removing Columns with non unique values"
   ]
  },
  {
   "cell_type": "code",
   "execution_count": 22,
   "metadata": {
    "colab": {
     "base_uri": "https://localhost:8080/"
    },
    "id": "e9nWQlfj12pT",
    "outputId": "e10a1110-29b0-44a8-d506-7f3ce2a7dbae"
   },
   "outputs": [
    {
     "data": {
      "text/plain": [
       "(1175, 442)"
      ]
     },
     "execution_count": 22,
     "metadata": {},
     "output_type": "execute_result"
    }
   ],
   "source": [
    "X_train_unique = X_train_missing\n",
    "unique_remove(X_train_unique)\n",
    "X_train_unique.shape"
   ]
  },
  {
   "cell_type": "code",
   "execution_count": 129,
   "metadata": {
    "colab": {
     "base_uri": "https://localhost:8080/"
    },
    "id": "bXtP6DVM13Iu",
    "outputId": "0a18bfaf-4786-42a0-de9b-bf83a0176eb8"
   },
   "outputs": [
    {
     "data": {
      "text/plain": [
       "(314, 558)"
      ]
     },
     "execution_count": 129,
     "metadata": {},
     "output_type": "execute_result"
    }
   ],
   "source": [
    "# From test set deleting columns that are removed in training set\n",
    "X_test_missing = pd.DataFrame(X_test[np.array(X_train.columns)])\n",
    "X_test_missing.shape"
   ]
  },
  {
   "cell_type": "code",
   "execution_count": null,
   "metadata": {
    "id": "oJMFgday4HEi"
   },
   "outputs": [],
   "source": [
    "# From test set deleting columns that are removed in training set\n",
    "X_test_missing = pd.DataFrame(X_test[np.array(X_train.columns)])\n",
    "X_test_unique.shape"
   ]
  },
  {
   "cell_type": "markdown",
   "metadata": {
    "id": "BGCsY1go4BPk"
   },
   "source": [
    "# Decision : Replacing outliers with 3s boundary"
   ]
  },
  {
   "cell_type": "markdown",
   "metadata": {
    "id": "5GF5OKR37z9k"
   },
   "source": [
    "##### Other option of removing outliers and replacing them has been explored in file \"Base file - removing outliers and replacing with knn.ipynb\""
   ]
  },
  {
   "cell_type": "code",
   "execution_count": 130,
   "metadata": {
    "id": "8nKubTxv2Qio"
   },
   "outputs": [],
   "source": [
    "def replace_outlier(val, mean, std):\n",
    "    if val > mean + 3*std:\n",
    "        return mean + 3*std \n",
    "    elif val < mean - 3*std:\n",
    "        return mean - 3*std\n",
    "    return val"
   ]
  },
  {
   "cell_type": "code",
   "execution_count": 131,
   "metadata": {
    "id": "dR6rW4Sa1jux"
   },
   "outputs": [],
   "source": [
    "# replace with 3s in X_train\n",
    "for col in X_train_unique.columns:\n",
    "    mean = X_train_unique[col].mean()\n",
    "    std_dev = X_train_unique[col].std(axis=0)\n",
    "    X_train_unique[col] = X_train_unique[col].map(lambda x: replace_outlier(x, mean, std_dev))"
   ]
  },
  {
   "cell_type": "code",
   "execution_count": 132,
   "metadata": {
    "id": "FSHmjvRz1lkY"
   },
   "outputs": [],
   "source": [
    "# replace with 3s in X_test\n",
    "for col in X_test_unique.columns:\n",
    "    mean = X_test_unique[col].mean()\n",
    "    std_dev = X_test_unique[col].std(axis=0)\n",
    "    X_test_unique[col] = X_test_unique[col].map(lambda x: replace_outlier(x, mean, std_dev))"
   ]
  },
  {
   "cell_type": "markdown",
   "metadata": {
    "id": "MZ_qt_Kt1-Mj"
   },
   "source": [
    "# Decision : KNN Imputation"
   ]
  },
  {
   "cell_type": "code",
   "execution_count": 196,
   "metadata": {
    "colab": {
     "background_save": true,
     "base_uri": "https://localhost:8080/"
    },
    "id": "lVUDFiOD2B3i",
    "outputId": "7de71081-aeb5-4e6f-fbfb-67e39a9e4f4a"
   },
   "outputs": [
    {
     "data": {
      "text/plain": [
       "0"
      ]
     },
     "execution_count": 196,
     "metadata": {},
     "output_type": "execute_result"
    }
   ],
   "source": [
    "from sklearn.impute import KNNImputer\n",
    "knn = KNNImputer()\n",
    "knn.fit(X_train_missing)\n",
    "X_train_knn=pd.DataFrame(knn.transform(X_train_missing), columns=X_train_missing.columns)\n",
    "X_train_knn.isna().sum().sum()"
   ]
  },
  {
   "cell_type": "code",
   "execution_count": 197,
   "metadata": {
    "colab": {
     "background_save": true,
     "base_uri": "https://localhost:8080/"
    },
    "id": "2O-i15vi2RNR",
    "outputId": "60799b07-a4ff-43fc-b166-48400d0b5ada"
   },
   "outputs": [
    {
     "data": {
      "text/plain": [
       "0"
      ]
     },
     "execution_count": 197,
     "metadata": {},
     "output_type": "execute_result"
    }
   ],
   "source": [
    "from sklearn.impute import KNNImputer\n",
    "knn = KNNImputer()\n",
    "knn.fit(X_test_missing)\n",
    "X_test_knn=pd.DataFrame(knn.transform(X_test_missing), columns=X_test_missing.columns)\n",
    "X_test_knn.isna().sum().sum()"
   ]
  },
  {
   "cell_type": "code",
   "execution_count": 227,
   "metadata": {
    "colab": {
     "background_save": true,
     "base_uri": "https://localhost:8080/",
     "height": 453
    },
    "id": "x6GtYJCo41fU",
    "outputId": "17238a2a-80fc-44f3-8241-621edeaa546a"
   },
   "outputs": [
    {
     "name": "stdout",
     "output_type": "stream",
     "text": [
      "[[  0  21]\n",
      " [  0 293]]\n",
      "              precision    recall  f1-score   support\n",
      "\n",
      "           0       0.00      0.00      0.00        21\n",
      "           1       0.93      1.00      0.97       293\n",
      "\n",
      "    accuracy                           0.93       314\n",
      "   macro avg       0.47      0.50      0.48       314\n",
      "weighted avg       0.87      0.93      0.90       314\n",
      "\n",
      "Test Accuracy Score 0.9331210191082803\n"
     ]
    },
    {
     "data": {
      "text/plain": [
       "(0.9331210191082803, 0.0)"
      ]
     },
     "execution_count": 227,
     "metadata": {},
     "output_type": "execute_result"
    },
    {
     "data": {
      "image/png": "[encoded data removed]",
      "text/plain": [
       "<Figure size 576x396 with 2 Axes>"
      ]
     },
     "metadata": {},
     "output_type": "display_data"
    }
   ],
   "source": [
    "rfc(X_train_knn,X_test_knn,6)"
   ]
  },
  {
   "cell_type": "code",
   "execution_count": 225,
   "metadata": {},
   "outputs": [
    {
     "data": {
      "image/png": "[encoded data removed]",
      "text/plain": [
       "<Figure size 800x700 with 1 Axes>"
      ]
     },
     "metadata": {},
     "output_type": "display_data"
    },
    {
     "data": {
      "text/plain": [
       "(0.8057324840764332, 0.114476044953223)"
      ]
     },
     "execution_count": 225,
     "metadata": {},
     "output_type": "execute_result"
    },
    {
     "data": {
      "image/png": "[encoded data removed]",
      "text/plain": [
       "<Figure size 576x396 with 1 Axes>"
      ]
     },
     "metadata": {},
     "output_type": "display_data"
    }
   ],
   "source": [
    "evaluate(X_train_knn, X_test_knn, y_train, y_test)"
   ]
  },
  {
   "cell_type": "code",
   "execution_count": 233,
   "metadata": {},
   "outputs": [
    {
     "data": {
      "image/png": "[encoded data removed]",
      "text/plain": [
       "<Figure size 800x700 with 1 Axes>"
      ]
     },
     "metadata": {},
     "output_type": "display_data"
    },
    {
     "data": {
      "text/plain": [
       "(0.9331210191082803, 0.0)"
      ]
     },
     "execution_count": 233,
     "metadata": {},
     "output_type": "execute_result"
    },
    {
     "data": {
      "image/png": "[encoded data removed]",
      "text/plain": [
       "<Figure size 576x396 with 1 Axes>"
      ]
     },
     "metadata": {},
     "output_type": "display_data"
    }
   ],
   "source": [
    "svmevaluate(X_train_knn, X_test_knn, y_train, y_test)"
   ]
  },
  {
   "cell_type": "markdown",
   "metadata": {
    "id": "AaIejDkL7-BY"
   },
   "source": [
    "## Explored and Rejected : Mice"
   ]
  },
  {
   "cell_type": "code",
   "execution_count": 202,
   "metadata": {
    "id": "sXhMtLx68B1B"
   },
   "outputs": [],
   "source": [
    "from sklearn.experimental import enable_iterative_imputer\n",
    "from sklearn.impute import IterativeImputer\n",
    "from sklearn.linear_model import LinearRegression\n",
    "\n",
    "MICE_imputer = IterativeImputer(random_state=100)\n",
    "X_train_MICE = X_train.copy(deep=True)\n",
    "X_train_MICE.iloc[:,:] = pd.DataFrame(MICE_imputer.fit_transform(X_train))\n",
    "#X_train_MICE.index = X_train.index\n",
    "X_train = X_train_MICE"
   ]
  },
  {
   "cell_type": "code",
   "execution_count": 206,
   "metadata": {},
   "outputs": [
    {
     "data": {
      "text/html": [
       "<div>\n",
       "<style scoped>\n",
       "    .dataframe tbody tr th:only-of-type {\n",
       "        vertical-align: middle;\n",
       "    }\n",
       "\n",
       "    .dataframe tbody tr th {\n",
       "        vertical-align: top;\n",
       "    }\n",
       "\n",
       "    .dataframe thead th {\n",
       "        text-align: right;\n",
       "    }\n",
       "</style>\n",
       "<table border=\"1\" class=\"dataframe\">\n",
       "  <thead>\n",
       "    <tr style=\"text-align: right;\">\n",
       "      <th></th>\n",
       "      <th>Feature_1</th>\n",
       "      <th>Feature_2</th>\n",
       "      <th>Feature_3</th>\n",
       "      <th>Feature_4</th>\n",
       "      <th>Feature_5</th>\n",
       "      <th>Feature_6</th>\n",
       "      <th>Feature_7</th>\n",
       "      <th>Feature_8</th>\n",
       "      <th>Feature_9</th>\n",
       "      <th>Feature_10</th>\n",
       "      <th>...</th>\n",
       "      <th>Feature_577</th>\n",
       "      <th>Feature_578</th>\n",
       "      <th>Feature_583</th>\n",
       "      <th>Feature_584</th>\n",
       "      <th>Feature_585</th>\n",
       "      <th>Feature_586</th>\n",
       "      <th>Feature_587</th>\n",
       "      <th>Feature_588</th>\n",
       "      <th>Feature_589</th>\n",
       "      <th>Feature_590</th>\n",
       "    </tr>\n",
       "  </thead>\n",
       "  <tbody>\n",
       "    <tr>\n",
       "      <th>1198</th>\n",
       "      <td>3075.32</td>\n",
       "      <td>2491.07</td>\n",
       "      <td>2185.1000</td>\n",
       "      <td>1201.0491</td>\n",
       "      <td>0.7821</td>\n",
       "      <td>100.0</td>\n",
       "      <td>105.8489</td>\n",
       "      <td>0.1208</td>\n",
       "      <td>1.4002</td>\n",
       "      <td>-0.0151</td>\n",
       "      <td>...</td>\n",
       "      <td>1.0970</td>\n",
       "      <td>16.9045</td>\n",
       "      <td>0.4974</td>\n",
       "      <td>0.0128</td>\n",
       "      <td>0.0033</td>\n",
       "      <td>2.5767</td>\n",
       "      <td>0.0223</td>\n",
       "      <td>0.0105</td>\n",
       "      <td>0.0034</td>\n",
       "      <td>47.0690</td>\n",
       "    </tr>\n",
       "    <tr>\n",
       "      <th>436</th>\n",
       "      <td>3071.58</td>\n",
       "      <td>2489.47</td>\n",
       "      <td>2217.3777</td>\n",
       "      <td>1425.1041</td>\n",
       "      <td>1.7585</td>\n",
       "      <td>100.0</td>\n",
       "      <td>106.2556</td>\n",
       "      <td>0.1200</td>\n",
       "      <td>1.5270</td>\n",
       "      <td>0.0066</td>\n",
       "      <td>...</td>\n",
       "      <td>1.3400</td>\n",
       "      <td>11.3021</td>\n",
       "      <td>0.5004</td>\n",
       "      <td>0.0316</td>\n",
       "      <td>0.0066</td>\n",
       "      <td>6.3183</td>\n",
       "      <td>0.0329</td>\n",
       "      <td>0.0055</td>\n",
       "      <td>0.0022</td>\n",
       "      <td>16.6695</td>\n",
       "    </tr>\n",
       "    <tr>\n",
       "      <th>635</th>\n",
       "      <td>3017.53</td>\n",
       "      <td>2524.09</td>\n",
       "      <td>2201.0667</td>\n",
       "      <td>880.2317</td>\n",
       "      <td>1.4148</td>\n",
       "      <td>100.0</td>\n",
       "      <td>106.5478</td>\n",
       "      <td>0.1211</td>\n",
       "      <td>1.3720</td>\n",
       "      <td>-0.0005</td>\n",
       "      <td>...</td>\n",
       "      <td>1.4452</td>\n",
       "      <td>17.2719</td>\n",
       "      <td>0.4998</td>\n",
       "      <td>0.0097</td>\n",
       "      <td>0.0026</td>\n",
       "      <td>1.9495</td>\n",
       "      <td>0.0328</td>\n",
       "      <td>0.0235</td>\n",
       "      <td>0.0068</td>\n",
       "      <td>71.5333</td>\n",
       "    </tr>\n",
       "    <tr>\n",
       "      <th>996</th>\n",
       "      <td>2901.62</td>\n",
       "      <td>2569.45</td>\n",
       "      <td>2223.9000</td>\n",
       "      <td>1745.3724</td>\n",
       "      <td>1.9974</td>\n",
       "      <td>100.0</td>\n",
       "      <td>96.7567</td>\n",
       "      <td>0.1241</td>\n",
       "      <td>1.5950</td>\n",
       "      <td>-0.0163</td>\n",
       "      <td>...</td>\n",
       "      <td>1.6245</td>\n",
       "      <td>13.2830</td>\n",
       "      <td>0.5004</td>\n",
       "      <td>0.0174</td>\n",
       "      <td>0.0034</td>\n",
       "      <td>3.4771</td>\n",
       "      <td>0.0200</td>\n",
       "      <td>0.0205</td>\n",
       "      <td>0.0061</td>\n",
       "      <td>102.5241</td>\n",
       "    </tr>\n",
       "    <tr>\n",
       "      <th>782</th>\n",
       "      <td>2982.59</td>\n",
       "      <td>2466.86</td>\n",
       "      <td>2117.5889</td>\n",
       "      <td>894.0996</td>\n",
       "      <td>1.4330</td>\n",
       "      <td>100.0</td>\n",
       "      <td>106.4944</td>\n",
       "      <td>0.1253</td>\n",
       "      <td>1.4418</td>\n",
       "      <td>-0.0096</td>\n",
       "      <td>...</td>\n",
       "      <td>1.2250</td>\n",
       "      <td>14.3891</td>\n",
       "      <td>0.4986</td>\n",
       "      <td>0.0172</td>\n",
       "      <td>0.0038</td>\n",
       "      <td>3.4561</td>\n",
       "      <td>0.0373</td>\n",
       "      <td>0.0079</td>\n",
       "      <td>0.0030</td>\n",
       "      <td>21.0599</td>\n",
       "    </tr>\n",
       "    <tr>\n",
       "      <th>...</th>\n",
       "      <td>...</td>\n",
       "      <td>...</td>\n",
       "      <td>...</td>\n",
       "      <td>...</td>\n",
       "      <td>...</td>\n",
       "      <td>...</td>\n",
       "      <td>...</td>\n",
       "      <td>...</td>\n",
       "      <td>...</td>\n",
       "      <td>...</td>\n",
       "      <td>...</td>\n",
       "      <td>...</td>\n",
       "      <td>...</td>\n",
       "      <td>...</td>\n",
       "      <td>...</td>\n",
       "      <td>...</td>\n",
       "      <td>...</td>\n",
       "      <td>...</td>\n",
       "      <td>...</td>\n",
       "      <td>...</td>\n",
       "      <td>...</td>\n",
       "    </tr>\n",
       "    <tr>\n",
       "      <th>180</th>\n",
       "      <td>3058.89</td>\n",
       "      <td>2504.38</td>\n",
       "      <td>2221.9444</td>\n",
       "      <td>1551.6947</td>\n",
       "      <td>1.5296</td>\n",
       "      <td>100.0</td>\n",
       "      <td>99.2678</td>\n",
       "      <td>0.1222</td>\n",
       "      <td>1.4068</td>\n",
       "      <td>0.0057</td>\n",
       "      <td>...</td>\n",
       "      <td>1.8868</td>\n",
       "      <td>8.9120</td>\n",
       "      <td>0.5018</td>\n",
       "      <td>0.0460</td>\n",
       "      <td>0.0097</td>\n",
       "      <td>9.1677</td>\n",
       "      <td>-0.0012</td>\n",
       "      <td>0.0220</td>\n",
       "      <td>0.0072</td>\n",
       "      <td>0.0000</td>\n",
       "    </tr>\n",
       "    <tr>\n",
       "      <th>365</th>\n",
       "      <td>2988.92</td>\n",
       "      <td>2460.91</td>\n",
       "      <td>2178.0778</td>\n",
       "      <td>941.9524</td>\n",
       "      <td>0.8039</td>\n",
       "      <td>100.0</td>\n",
       "      <td>104.0167</td>\n",
       "      <td>0.1229</td>\n",
       "      <td>1.5829</td>\n",
       "      <td>-0.0278</td>\n",
       "      <td>...</td>\n",
       "      <td>1.2816</td>\n",
       "      <td>10.4728</td>\n",
       "      <td>0.4976</td>\n",
       "      <td>0.0148</td>\n",
       "      <td>0.0032</td>\n",
       "      <td>2.9645</td>\n",
       "      <td>0.0291</td>\n",
       "      <td>0.0135</td>\n",
       "      <td>0.0045</td>\n",
       "      <td>46.4165</td>\n",
       "    </tr>\n",
       "    <tr>\n",
       "      <th>1420</th>\n",
       "      <td>2975.74</td>\n",
       "      <td>2517.35</td>\n",
       "      <td>2162.5556</td>\n",
       "      <td>1041.0369</td>\n",
       "      <td>1.4305</td>\n",
       "      <td>100.0</td>\n",
       "      <td>100.4111</td>\n",
       "      <td>0.1238</td>\n",
       "      <td>1.4968</td>\n",
       "      <td>-0.0201</td>\n",
       "      <td>...</td>\n",
       "      <td>1.0949</td>\n",
       "      <td>16.9589</td>\n",
       "      <td>0.4994</td>\n",
       "      <td>0.0115</td>\n",
       "      <td>0.0033</td>\n",
       "      <td>2.3077</td>\n",
       "      <td>0.0299</td>\n",
       "      <td>0.0071</td>\n",
       "      <td>0.0020</td>\n",
       "      <td>23.6431</td>\n",
       "    </tr>\n",
       "    <tr>\n",
       "      <th>113</th>\n",
       "      <td>2928.16</td>\n",
       "      <td>2523.21</td>\n",
       "      <td>2210.6111</td>\n",
       "      <td>1184.6481</td>\n",
       "      <td>1.2577</td>\n",
       "      <td>100.0</td>\n",
       "      <td>102.9356</td>\n",
       "      <td>0.1201</td>\n",
       "      <td>1.4453</td>\n",
       "      <td>-0.0126</td>\n",
       "      <td>...</td>\n",
       "      <td>1.8020</td>\n",
       "      <td>7.1763</td>\n",
       "      <td>0.5016</td>\n",
       "      <td>0.0160</td>\n",
       "      <td>0.0035</td>\n",
       "      <td>3.1882</td>\n",
       "      <td>0.0049</td>\n",
       "      <td>0.0144</td>\n",
       "      <td>0.0047</td>\n",
       "      <td>293.2614</td>\n",
       "    </tr>\n",
       "    <tr>\n",
       "      <th>470</th>\n",
       "      <td>2929.84</td>\n",
       "      <td>2504.50</td>\n",
       "      <td>2183.3111</td>\n",
       "      <td>1588.5090</td>\n",
       "      <td>1.6269</td>\n",
       "      <td>100.0</td>\n",
       "      <td>102.8467</td>\n",
       "      <td>0.1248</td>\n",
       "      <td>1.5545</td>\n",
       "      <td>-0.0370</td>\n",
       "      <td>...</td>\n",
       "      <td>2.0907</td>\n",
       "      <td>6.5821</td>\n",
       "      <td>0.4985</td>\n",
       "      <td>0.0150</td>\n",
       "      <td>0.0045</td>\n",
       "      <td>3.0151</td>\n",
       "      <td>0.0193</td>\n",
       "      <td>0.0122</td>\n",
       "      <td>0.0040</td>\n",
       "      <td>63.0838</td>\n",
       "    </tr>\n",
       "  </tbody>\n",
       "</table>\n",
       "<p>1253 rows × 558 columns</p>\n",
       "</div>"
      ],
      "text/plain": [
       "      Feature_1  Feature_2  Feature_3  Feature_4  Feature_5  Feature_6  \\\n",
       "1198    3075.32    2491.07  2185.1000  1201.0491     0.7821      100.0   \n",
       "436     3071.58    2489.47  2217.3777  1425.1041     1.7585      100.0   \n",
       "635     3017.53    2524.09  2201.0667   880.2317     1.4148      100.0   \n",
       "996     2901.62    2569.45  2223.9000  1745.3724     1.9974      100.0   \n",
       "782     2982.59    2466.86  2117.5889   894.0996     1.4330      100.0   \n",
       "...         ...        ...        ...        ...        ...        ...   \n",
       "180     3058.89    2504.38  2221.9444  1551.6947     1.5296      100.0   \n",
       "365     2988.92    2460.91  2178.0778   941.9524     0.8039      100.0   \n",
       "1420    2975.74    2517.35  2162.5556  1041.0369     1.4305      100.0   \n",
       "113     2928.16    2523.21  2210.6111  1184.6481     1.2577      100.0   \n",
       "470     2929.84    2504.50  2183.3111  1588.5090     1.6269      100.0   \n",
       "\n",
       "      Feature_7  Feature_8  Feature_9  Feature_10  ...  Feature_577  \\\n",
       "1198   105.8489     0.1208     1.4002     -0.0151  ...       1.0970   \n",
       "436    106.2556     0.1200     1.5270      0.0066  ...       1.3400   \n",
       "635    106.5478     0.1211     1.3720     -0.0005  ...       1.4452   \n",
       "996     96.7567     0.1241     1.5950     -0.0163  ...       1.6245   \n",
       "782    106.4944     0.1253     1.4418     -0.0096  ...       1.2250   \n",
       "...         ...        ...        ...         ...  ...          ...   \n",
       "180     99.2678     0.1222     1.4068      0.0057  ...       1.8868   \n",
       "365    104.0167     0.1229     1.5829     -0.0278  ...       1.2816   \n",
       "1420   100.4111     0.1238     1.4968     -0.0201  ...       1.0949   \n",
       "113    102.9356     0.1201     1.4453     -0.0126  ...       1.8020   \n",
       "470    102.8467     0.1248     1.5545     -0.0370  ...       2.0907   \n",
       "\n",
       "      Feature_578  Feature_583  Feature_584  Feature_585  Feature_586  \\\n",
       "1198      16.9045       0.4974       0.0128       0.0033       2.5767   \n",
       "436       11.3021       0.5004       0.0316       0.0066       6.3183   \n",
       "635       17.2719       0.4998       0.0097       0.0026       1.9495   \n",
       "996       13.2830       0.5004       0.0174       0.0034       3.4771   \n",
       "782       14.3891       0.4986       0.0172       0.0038       3.4561   \n",
       "...           ...          ...          ...          ...          ...   \n",
       "180        8.9120       0.5018       0.0460       0.0097       9.1677   \n",
       "365       10.4728       0.4976       0.0148       0.0032       2.9645   \n",
       "1420      16.9589       0.4994       0.0115       0.0033       2.3077   \n",
       "113        7.1763       0.5016       0.0160       0.0035       3.1882   \n",
       "470        6.5821       0.4985       0.0150       0.0045       3.0151   \n",
       "\n",
       "      Feature_587  Feature_588  Feature_589  Feature_590  \n",
       "1198       0.0223       0.0105       0.0034      47.0690  \n",
       "436        0.0329       0.0055       0.0022      16.6695  \n",
       "635        0.0328       0.0235       0.0068      71.5333  \n",
       "996        0.0200       0.0205       0.0061     102.5241  \n",
       "782        0.0373       0.0079       0.0030      21.0599  \n",
       "...           ...          ...          ...          ...  \n",
       "180       -0.0012       0.0220       0.0072       0.0000  \n",
       "365        0.0291       0.0135       0.0045      46.4165  \n",
       "1420       0.0299       0.0071       0.0020      23.6431  \n",
       "113        0.0049       0.0144       0.0047     293.2614  \n",
       "470        0.0193       0.0122       0.0040      63.0838  \n",
       "\n",
       "[1253 rows x 558 columns]"
      ]
     },
     "execution_count": 206,
     "metadata": {},
     "output_type": "execute_result"
    }
   ],
   "source": [
    "X_train"
   ]
  },
  {
   "cell_type": "code",
   "execution_count": 209,
   "metadata": {},
   "outputs": [],
   "source": [
    "def Outlier(X) :\n",
    "       \n",
    "        z_train= pd.DataFrame(stats.zscore(X,nan_policy='omit'))\n",
    "        z_train\n",
    "       \n",
    "        print('Number of Outliers : ',sum(z_train.apply(lambda x: sum(x.apply(lambda x: 1 if abs(x)>3 else 0)))))\n",
    "\n",
    "        is_outlier = abs(z_train)>3\n",
    "        is_outlier.columns = X.columns\n",
    "        is_outlier.index = X.index\n",
    "        return(X.mask(is_outlier, np.nan))"
   ]
  },
  {
   "cell_type": "code",
   "execution_count": 210,
   "metadata": {},
   "outputs": [
    {
     "name": "stdout",
     "output_type": "stream",
     "text": [
      "Number of Outliers :  1472\n"
     ]
    }
   ],
   "source": [
    "from scipy import stats\n",
    "X_test = Outlier(X_test)"
   ]
  },
  {
   "cell_type": "code",
   "execution_count": 213,
   "metadata": {},
   "outputs": [
    {
     "data": {
      "text/html": [
       "<div>\n",
       "<style scoped>\n",
       "    .dataframe tbody tr th:only-of-type {\n",
       "        vertical-align: middle;\n",
       "    }\n",
       "\n",
       "    .dataframe tbody tr th {\n",
       "        vertical-align: top;\n",
       "    }\n",
       "\n",
       "    .dataframe thead th {\n",
       "        text-align: right;\n",
       "    }\n",
       "</style>\n",
       "<table border=\"1\" class=\"dataframe\">\n",
       "  <thead>\n",
       "    <tr style=\"text-align: right;\">\n",
       "      <th></th>\n",
       "      <th>Feature_1</th>\n",
       "      <th>Feature_2</th>\n",
       "      <th>Feature_3</th>\n",
       "      <th>Feature_4</th>\n",
       "      <th>Feature_5</th>\n",
       "      <th>Feature_6</th>\n",
       "      <th>Feature_7</th>\n",
       "      <th>Feature_8</th>\n",
       "      <th>Feature_9</th>\n",
       "      <th>Feature_10</th>\n",
       "      <th>...</th>\n",
       "      <th>Feature_577</th>\n",
       "      <th>Feature_578</th>\n",
       "      <th>Feature_583</th>\n",
       "      <th>Feature_584</th>\n",
       "      <th>Feature_585</th>\n",
       "      <th>Feature_586</th>\n",
       "      <th>Feature_587</th>\n",
       "      <th>Feature_588</th>\n",
       "      <th>Feature_589</th>\n",
       "      <th>Feature_590</th>\n",
       "    </tr>\n",
       "  </thead>\n",
       "  <tbody>\n",
       "    <tr>\n",
       "      <th>246</th>\n",
       "      <td>2985.06</td>\n",
       "      <td>2509.80</td>\n",
       "      <td>2177.3222</td>\n",
       "      <td>1089.3655</td>\n",
       "      <td>1.3101</td>\n",
       "      <td>100.0</td>\n",
       "      <td>101.1478</td>\n",
       "      <td>0.1216</td>\n",
       "      <td>1.4245</td>\n",
       "      <td>-0.0056</td>\n",
       "      <td>...</td>\n",
       "      <td>1.5783</td>\n",
       "      <td>17.2084</td>\n",
       "      <td>0.4989</td>\n",
       "      <td>0.0095</td>\n",
       "      <td>0.0031</td>\n",
       "      <td>1.8958</td>\n",
       "      <td>0.0154</td>\n",
       "      <td>0.0271</td>\n",
       "      <td>0.0104</td>\n",
       "      <td>176.0329</td>\n",
       "    </tr>\n",
       "    <tr>\n",
       "      <th>1315</th>\n",
       "      <td>2942.21</td>\n",
       "      <td>2459.02</td>\n",
       "      <td>2210.8556</td>\n",
       "      <td>1665.0062</td>\n",
       "      <td>2.4475</td>\n",
       "      <td>100.0</td>\n",
       "      <td>97.1056</td>\n",
       "      <td>0.1227</td>\n",
       "      <td>1.5257</td>\n",
       "      <td>-0.0009</td>\n",
       "      <td>...</td>\n",
       "      <td>1.4715</td>\n",
       "      <td>14.4480</td>\n",
       "      <td>0.5014</td>\n",
       "      <td>0.0155</td>\n",
       "      <td>0.0034</td>\n",
       "      <td>3.0998</td>\n",
       "      <td>0.0098</td>\n",
       "      <td>0.0071</td>\n",
       "      <td>0.0022</td>\n",
       "      <td>72.1094</td>\n",
       "    </tr>\n",
       "    <tr>\n",
       "      <th>444</th>\n",
       "      <td>3114.46</td>\n",
       "      <td>2656.84</td>\n",
       "      <td>2207.0444</td>\n",
       "      <td>1269.6078</td>\n",
       "      <td>1.7571</td>\n",
       "      <td>100.0</td>\n",
       "      <td>97.0189</td>\n",
       "      <td>0.1221</td>\n",
       "      <td>1.4164</td>\n",
       "      <td>0.0006</td>\n",
       "      <td>...</td>\n",
       "      <td>1.9176</td>\n",
       "      <td>7.5069</td>\n",
       "      <td>0.5036</td>\n",
       "      <td>0.0091</td>\n",
       "      <td>0.0029</td>\n",
       "      <td>1.8001</td>\n",
       "      <td>0.0282</td>\n",
       "      <td>0.0194</td>\n",
       "      <td>0.0059</td>\n",
       "      <td>68.7444</td>\n",
       "    </tr>\n",
       "    <tr>\n",
       "      <th>296</th>\n",
       "      <td>2864.05</td>\n",
       "      <td>2533.75</td>\n",
       "      <td>2224.0000</td>\n",
       "      <td>1510.0797</td>\n",
       "      <td>1.5611</td>\n",
       "      <td>100.0</td>\n",
       "      <td>99.8300</td>\n",
       "      <td>0.1199</td>\n",
       "      <td>1.3743</td>\n",
       "      <td>-0.0005</td>\n",
       "      <td>...</td>\n",
       "      <td>1.9678</td>\n",
       "      <td>10.7489</td>\n",
       "      <td>0.5025</td>\n",
       "      <td>0.0197</td>\n",
       "      <td>0.0044</td>\n",
       "      <td>3.9136</td>\n",
       "      <td>0.0291</td>\n",
       "      <td>0.0237</td>\n",
       "      <td>0.0071</td>\n",
       "      <td>81.3456</td>\n",
       "    </tr>\n",
       "    <tr>\n",
       "      <th>1295</th>\n",
       "      <td>3089.26</td>\n",
       "      <td>2414.63</td>\n",
       "      <td>2209.8000</td>\n",
       "      <td>1175.5508</td>\n",
       "      <td>1.1464</td>\n",
       "      <td>100.0</td>\n",
       "      <td>112.1367</td>\n",
       "      <td>0.1227</td>\n",
       "      <td>1.3557</td>\n",
       "      <td>0.0024</td>\n",
       "      <td>...</td>\n",
       "      <td>1.4267</td>\n",
       "      <td>12.3718</td>\n",
       "      <td>0.5000</td>\n",
       "      <td>0.0103</td>\n",
       "      <td>0.0026</td>\n",
       "      <td>2.0700</td>\n",
       "      <td>0.0308</td>\n",
       "      <td>0.0183</td>\n",
       "      <td>0.0063</td>\n",
       "      <td>59.3775</td>\n",
       "    </tr>\n",
       "    <tr>\n",
       "      <th>...</th>\n",
       "      <td>...</td>\n",
       "      <td>...</td>\n",
       "      <td>...</td>\n",
       "      <td>...</td>\n",
       "      <td>...</td>\n",
       "      <td>...</td>\n",
       "      <td>...</td>\n",
       "      <td>...</td>\n",
       "      <td>...</td>\n",
       "      <td>...</td>\n",
       "      <td>...</td>\n",
       "      <td>...</td>\n",
       "      <td>...</td>\n",
       "      <td>...</td>\n",
       "      <td>...</td>\n",
       "      <td>...</td>\n",
       "      <td>...</td>\n",
       "      <td>...</td>\n",
       "      <td>...</td>\n",
       "      <td>...</td>\n",
       "      <td>...</td>\n",
       "    </tr>\n",
       "    <tr>\n",
       "      <th>174</th>\n",
       "      <td>2929.20</td>\n",
       "      <td>2486.59</td>\n",
       "      <td>2234.6111</td>\n",
       "      <td>1590.1699</td>\n",
       "      <td>1.2049</td>\n",
       "      <td>100.0</td>\n",
       "      <td>98.7567</td>\n",
       "      <td>0.1208</td>\n",
       "      <td>1.5884</td>\n",
       "      <td>0.0097</td>\n",
       "      <td>...</td>\n",
       "      <td>1.4843</td>\n",
       "      <td>19.5630</td>\n",
       "      <td>0.5000</td>\n",
       "      <td>0.0115</td>\n",
       "      <td>0.0037</td>\n",
       "      <td>2.3030</td>\n",
       "      <td>0.0254</td>\n",
       "      <td>0.0160</td>\n",
       "      <td>0.0051</td>\n",
       "      <td>62.9443</td>\n",
       "    </tr>\n",
       "    <tr>\n",
       "      <th>1309</th>\n",
       "      <td>3014.85</td>\n",
       "      <td>2453.45</td>\n",
       "      <td>2189.6778</td>\n",
       "      <td>1295.2883</td>\n",
       "      <td>2.1394</td>\n",
       "      <td>100.0</td>\n",
       "      <td>107.4811</td>\n",
       "      <td>0.1238</td>\n",
       "      <td>1.4214</td>\n",
       "      <td>0.0070</td>\n",
       "      <td>...</td>\n",
       "      <td>2.0113</td>\n",
       "      <td>14.5194</td>\n",
       "      <td>0.5004</td>\n",
       "      <td>0.0163</td>\n",
       "      <td>0.0035</td>\n",
       "      <td>3.2522</td>\n",
       "      <td>0.0230</td>\n",
       "      <td>0.0064</td>\n",
       "      <td>0.0024</td>\n",
       "      <td>27.7025</td>\n",
       "    </tr>\n",
       "    <tr>\n",
       "      <th>1333</th>\n",
       "      <td>2971.75</td>\n",
       "      <td>2566.30</td>\n",
       "      <td>2206.4000</td>\n",
       "      <td>982.5452</td>\n",
       "      <td>1.1853</td>\n",
       "      <td>100.0</td>\n",
       "      <td>116.8167</td>\n",
       "      <td>0.1228</td>\n",
       "      <td>1.5840</td>\n",
       "      <td>-0.0058</td>\n",
       "      <td>...</td>\n",
       "      <td>2.0346</td>\n",
       "      <td>14.8076</td>\n",
       "      <td>0.4963</td>\n",
       "      <td>0.0160</td>\n",
       "      <td>0.0041</td>\n",
       "      <td>3.2258</td>\n",
       "      <td>0.0230</td>\n",
       "      <td>0.0210</td>\n",
       "      <td>0.0053</td>\n",
       "      <td>91.4264</td>\n",
       "    </tr>\n",
       "    <tr>\n",
       "      <th>972</th>\n",
       "      <td>3043.12</td>\n",
       "      <td>2473.67</td>\n",
       "      <td>2180.5556</td>\n",
       "      <td>1165.1351</td>\n",
       "      <td>0.7892</td>\n",
       "      <td>100.0</td>\n",
       "      <td>101.4578</td>\n",
       "      <td>0.1226</td>\n",
       "      <td>1.4276</td>\n",
       "      <td>0.0121</td>\n",
       "      <td>...</td>\n",
       "      <td>1.9655</td>\n",
       "      <td>17.0028</td>\n",
       "      <td>0.4998</td>\n",
       "      <td>0.0166</td>\n",
       "      <td>0.0042</td>\n",
       "      <td>3.3275</td>\n",
       "      <td>0.0223</td>\n",
       "      <td>0.0159</td>\n",
       "      <td>0.0053</td>\n",
       "      <td>71.0108</td>\n",
       "    </tr>\n",
       "    <tr>\n",
       "      <th>1037</th>\n",
       "      <td>3036.99</td>\n",
       "      <td>2448.38</td>\n",
       "      <td>2194.9555</td>\n",
       "      <td>1108.2246</td>\n",
       "      <td>1.2476</td>\n",
       "      <td>100.0</td>\n",
       "      <td>102.2822</td>\n",
       "      <td>0.1202</td>\n",
       "      <td>1.5149</td>\n",
       "      <td>0.0025</td>\n",
       "      <td>...</td>\n",
       "      <td>83.2685</td>\n",
       "      <td>54.8262</td>\n",
       "      <td>0.4942</td>\n",
       "      <td>0.0172</td>\n",
       "      <td>0.0052</td>\n",
       "      <td>3.4764</td>\n",
       "      <td>0.0229</td>\n",
       "      <td>0.0182</td>\n",
       "      <td>0.0063</td>\n",
       "      <td>79.6170</td>\n",
       "    </tr>\n",
       "  </tbody>\n",
       "</table>\n",
       "<p>314 rows × 558 columns</p>\n",
       "</div>"
      ],
      "text/plain": [
       "      Feature_1  Feature_2  Feature_3  Feature_4  Feature_5  Feature_6  \\\n",
       "246     2985.06    2509.80  2177.3222  1089.3655     1.3101      100.0   \n",
       "1315    2942.21    2459.02  2210.8556  1665.0062     2.4475      100.0   \n",
       "444     3114.46    2656.84  2207.0444  1269.6078     1.7571      100.0   \n",
       "296     2864.05    2533.75  2224.0000  1510.0797     1.5611      100.0   \n",
       "1295    3089.26    2414.63  2209.8000  1175.5508     1.1464      100.0   \n",
       "...         ...        ...        ...        ...        ...        ...   \n",
       "174     2929.20    2486.59  2234.6111  1590.1699     1.2049      100.0   \n",
       "1309    3014.85    2453.45  2189.6778  1295.2883     2.1394      100.0   \n",
       "1333    2971.75    2566.30  2206.4000   982.5452     1.1853      100.0   \n",
       "972     3043.12    2473.67  2180.5556  1165.1351     0.7892      100.0   \n",
       "1037    3036.99    2448.38  2194.9555  1108.2246     1.2476      100.0   \n",
       "\n",
       "      Feature_7  Feature_8  Feature_9  Feature_10  ...  Feature_577  \\\n",
       "246    101.1478     0.1216     1.4245     -0.0056  ...       1.5783   \n",
       "1315    97.1056     0.1227     1.5257     -0.0009  ...       1.4715   \n",
       "444     97.0189     0.1221     1.4164      0.0006  ...       1.9176   \n",
       "296     99.8300     0.1199     1.3743     -0.0005  ...       1.9678   \n",
       "1295   112.1367     0.1227     1.3557      0.0024  ...       1.4267   \n",
       "...         ...        ...        ...         ...  ...          ...   \n",
       "174     98.7567     0.1208     1.5884      0.0097  ...       1.4843   \n",
       "1309   107.4811     0.1238     1.4214      0.0070  ...       2.0113   \n",
       "1333   116.8167     0.1228     1.5840     -0.0058  ...       2.0346   \n",
       "972    101.4578     0.1226     1.4276      0.0121  ...       1.9655   \n",
       "1037   102.2822     0.1202     1.5149      0.0025  ...      83.2685   \n",
       "\n",
       "      Feature_578  Feature_583  Feature_584  Feature_585  Feature_586  \\\n",
       "246       17.2084       0.4989       0.0095       0.0031       1.8958   \n",
       "1315      14.4480       0.5014       0.0155       0.0034       3.0998   \n",
       "444        7.5069       0.5036       0.0091       0.0029       1.8001   \n",
       "296       10.7489       0.5025       0.0197       0.0044       3.9136   \n",
       "1295      12.3718       0.5000       0.0103       0.0026       2.0700   \n",
       "...           ...          ...          ...          ...          ...   \n",
       "174       19.5630       0.5000       0.0115       0.0037       2.3030   \n",
       "1309      14.5194       0.5004       0.0163       0.0035       3.2522   \n",
       "1333      14.8076       0.4963       0.0160       0.0041       3.2258   \n",
       "972       17.0028       0.4998       0.0166       0.0042       3.3275   \n",
       "1037      54.8262       0.4942       0.0172       0.0052       3.4764   \n",
       "\n",
       "      Feature_587  Feature_588  Feature_589  Feature_590  \n",
       "246        0.0154       0.0271       0.0104     176.0329  \n",
       "1315       0.0098       0.0071       0.0022      72.1094  \n",
       "444        0.0282       0.0194       0.0059      68.7444  \n",
       "296        0.0291       0.0237       0.0071      81.3456  \n",
       "1295       0.0308       0.0183       0.0063      59.3775  \n",
       "...           ...          ...          ...          ...  \n",
       "174        0.0254       0.0160       0.0051      62.9443  \n",
       "1309       0.0230       0.0064       0.0024      27.7025  \n",
       "1333       0.0230       0.0210       0.0053      91.4264  \n",
       "972        0.0223       0.0159       0.0053      71.0108  \n",
       "1037       0.0229       0.0182       0.0063      79.6170  \n",
       "\n",
       "[314 rows x 558 columns]"
      ]
     },
     "execution_count": 213,
     "metadata": {},
     "output_type": "execute_result"
    }
   ],
   "source": [
    "X_test_MICE"
   ]
  },
  {
   "cell_type": "code",
   "execution_count": 211,
   "metadata": {
    "id": "xkUtcV1s8lAX"
   },
   "outputs": [
    {
     "name": "stdout",
     "output_type": "stream",
     "text": [
      "[IterativeImputer] Completing matrix with shape (314, 558)\n",
      "[IterativeImputer] Ending imputation round 1/10, elapsed time 14.18\n",
      "[IterativeImputer] Change: 0.0, scaled tolerance: 36.664 \n",
      "[IterativeImputer] Early stopping criterion reached.\n"
     ]
    }
   ],
   "source": [
    "X_test_MICE = X_test_missing.copy(deep=True)\n",
    "X_test_MICE.iloc[:,:] = pd.DataFrame(imp.fit_transform(X_test_missing))\n",
    "X_test_missing = X_test_MICE"
   ]
  },
  {
   "cell_type": "code",
   "execution_count": 216,
   "metadata": {
    "colab": {
     "base_uri": "https://localhost:8080/",
     "height": 453
    },
    "id": "kYqaZ-yx9etl",
    "outputId": "74d44c73-f30b-4d75-cc41-4d659922da0a"
   },
   "outputs": [
    {
     "name": "stdout",
     "output_type": "stream",
     "text": [
      "[[  0  21]\n",
      " [  0 293]]\n",
      "              precision    recall  f1-score   support\n",
      "\n",
      "           0       0.00      0.00      0.00        21\n",
      "           1       0.93      1.00      0.97       293\n",
      "\n",
      "    accuracy                           0.93       314\n",
      "   macro avg       0.47      0.50      0.48       314\n",
      "weighted avg       0.87      0.93      0.90       314\n",
      "\n",
      "Test Accuracy Score 0.9331210191082803\n"
     ]
    },
    {
     "data": {
      "text/plain": [
       "(0.9331210191082803, 0.0)"
      ]
     },
     "execution_count": 216,
     "metadata": {},
     "output_type": "execute_result"
    },
    {
     "data": {
      "image/png": "[encoded data removed]",
      "text/plain": [
       "<Figure size 576x396 with 2 Axes>"
      ]
     },
     "metadata": {},
     "output_type": "display_data"
    }
   ],
   "source": [
    "rfc(X_train_MICE,X_test_MICE,4)"
   ]
  },
  {
   "cell_type": "code",
   "execution_count": 217,
   "metadata": {},
   "outputs": [
    {
     "data": {
      "image/png": "[encoded data removed]",
      "text/plain": [
       "<Figure size 800x700 with 1 Axes>"
      ]
     },
     "metadata": {},
     "output_type": "display_data"
    },
    {
     "data": {
      "text/plain": [
       "(0.8535031847133757, 0.10772261664364587)"
      ]
     },
     "execution_count": 217,
     "metadata": {},
     "output_type": "execute_result"
    },
    {
     "data": {
      "image/png": "[encoded data removed]",
      "text/plain": [
       "<Figure size 576x396 with 1 Axes>"
      ]
     },
     "metadata": {},
     "output_type": "display_data"
    }
   ],
   "source": [
    "evaluate(X_train_MICE, X_test_MICE, y_train, y_test)"
   ]
  },
  {
   "cell_type": "code",
   "execution_count": null,
   "metadata": {
    "id": "D7wjjW1CH0-U"
   },
   "outputs": [],
   "source": [
    "lr = LinearRegression()\n",
    "imp = IterativeImputer(estimator=lr,missing_values=np.nan, max_iter=20, verbose=2, imputation_order='roman',random_state=0)\n",
    "X_train_mice_20 =imp.fit_transform(X_train_unique)"
   ]
  },
  {
   "cell_type": "code",
   "execution_count": null,
   "metadata": {
    "id": "jDFT0GgOLZ3b"
   },
   "outputs": [],
   "source": [
    "X_test_MICE_20 = X_test_unique.copy(deep=True)\n",
    "X_test_MICE_20.iloc[:,:] = pd.DataFrame(imp.fit_transform(X_test_unique))\n",
    "X_test_unique = X_test_MICE_20"
   ]
  },
  {
   "cell_type": "code",
   "execution_count": null,
   "metadata": {
    "colab": {
     "base_uri": "https://localhost:8080/",
     "height": 453
    },
    "id": "ioP-S8PIMHwf",
    "outputId": "8ce45d73-991c-44bd-b38b-47314979e53b"
   },
   "outputs": [],
   "source": [
    "rfc(X_train_mice_20,X_test_MICE_20,4)"
   ]
  },
  {
   "cell_type": "markdown",
   "metadata": {
    "id": "zyBswGn5Pq1V"
   },
   "source": [
    "# Feature Selection"
   ]
  },
  {
   "cell_type": "markdown",
   "metadata": {
    "id": "NHtm88EKMXTY"
   },
   "source": [
    "## Boruta - 15 features"
   ]
  },
  {
   "cell_type": "code",
   "execution_count": 138,
   "metadata": {
    "id": "fPU0HBS-MVBh"
   },
   "outputs": [],
   "source": [
    "#Boruta function\n",
    "\n",
    "def BorutaFeatureSelection (X, y) :\n",
    "    feature_names = np.array(X.columns)\n",
    "\n",
    "    model = model = RandomForestClassifier(n_jobs=-1, class_weight='balanced_subsample', max_depth=5, random_state=100)\n",
    "    model.fit(X, y)\n",
    "    \n",
    "    feature_selector = BorutaPy(model, n_estimators='auto', verbose=2, random_state=100, max_iter=100)\n",
    "\n",
    "    feature_selector.fit(X.to_numpy(),y)\n",
    "\n",
    "    feature_selector.support_\n",
    "\n",
    "    feature_selector.ranking_\n",
    "\n",
    "    feature_ranks = list(zip(feature_names, \n",
    "                             feature_selector.ranking_, \n",
    "                             feature_selector.support_))\n",
    "\n",
    "    for feat in feature_ranks:\n",
    "        print('Feature: {:<30} Rank: {},  Keep: {}'.format(feat[0], feat[1], feat[2]))\n",
    "        \n",
    "    final_features = list()\n",
    "    indexes = np.where(feature_selector.ranking_ <= 1)\n",
    "    for x in np.nditer(indexes):\n",
    "        final_features.append(feature_names[x])\n",
    "    print(final_features)\n",
    "    \n",
    "    return pd.DataFrame(X.filter(final_features)) , final_features"
   ]
  },
  {
   "cell_type": "code",
   "execution_count": 139,
   "metadata": {
    "id": "x93BU7vXNEzJ"
   },
   "outputs": [
    {
     "name": "stdout",
     "output_type": "stream",
     "text": [
      "Iteration: \t1 / 100\n",
      "Confirmed: \t0\n",
      "Tentative: \t558\n",
      "Rejected: \t0\n",
      "Iteration: \t2 / 100\n",
      "Confirmed: \t0\n",
      "Tentative: \t558\n",
      "Rejected: \t0\n",
      "Iteration: \t3 / 100\n",
      "Confirmed: \t0\n",
      "Tentative: \t558\n",
      "Rejected: \t0\n",
      "Iteration: \t4 / 100\n",
      "Confirmed: \t0\n",
      "Tentative: \t558\n",
      "Rejected: \t0\n",
      "Iteration: \t5 / 100\n",
      "Confirmed: \t0\n",
      "Tentative: \t558\n",
      "Rejected: \t0\n",
      "Iteration: \t6 / 100\n",
      "Confirmed: \t0\n",
      "Tentative: \t558\n",
      "Rejected: \t0\n",
      "Iteration: \t7 / 100\n",
      "Confirmed: \t0\n",
      "Tentative: \t558\n",
      "Rejected: \t0\n",
      "Iteration: \t8 / 100\n",
      "Confirmed: \t0\n",
      "Tentative: \t21\n",
      "Rejected: \t537\n",
      "Iteration: \t9 / 100\n",
      "Confirmed: \t4\n",
      "Tentative: \t17\n",
      "Rejected: \t537\n",
      "Iteration: \t10 / 100\n",
      "Confirmed: \t4\n",
      "Tentative: \t17\n",
      "Rejected: \t537\n",
      "Iteration: \t11 / 100\n",
      "Confirmed: \t4\n",
      "Tentative: \t17\n",
      "Rejected: \t537\n",
      "Iteration: \t12 / 100\n",
      "Confirmed: \t6\n",
      "Tentative: \t13\n",
      "Rejected: \t539\n",
      "Iteration: \t13 / 100\n",
      "Confirmed: \t6\n",
      "Tentative: \t13\n",
      "Rejected: \t539\n",
      "Iteration: \t14 / 100\n",
      "Confirmed: \t6\n",
      "Tentative: \t13\n",
      "Rejected: \t539\n",
      "Iteration: \t15 / 100\n",
      "Confirmed: \t6\n",
      "Tentative: \t13\n",
      "Rejected: \t539\n",
      "Iteration: \t16 / 100\n",
      "Confirmed: \t8\n",
      "Tentative: \t11\n",
      "Rejected: \t539\n",
      "Iteration: \t17 / 100\n",
      "Confirmed: \t8\n",
      "Tentative: \t11\n",
      "Rejected: \t539\n",
      "Iteration: \t18 / 100\n",
      "Confirmed: \t8\n",
      "Tentative: \t11\n",
      "Rejected: \t539\n",
      "Iteration: \t19 / 100\n",
      "Confirmed: \t8\n",
      "Tentative: \t11\n",
      "Rejected: \t539\n",
      "Iteration: \t20 / 100\n",
      "Confirmed: \t8\n",
      "Tentative: \t11\n",
      "Rejected: \t539\n",
      "Iteration: \t21 / 100\n",
      "Confirmed: \t8\n",
      "Tentative: \t11\n",
      "Rejected: \t539\n",
      "Iteration: \t22 / 100\n",
      "Confirmed: \t9\n",
      "Tentative: \t10\n",
      "Rejected: \t539\n",
      "Iteration: \t23 / 100\n",
      "Confirmed: \t9\n",
      "Tentative: \t10\n",
      "Rejected: \t539\n",
      "Iteration: \t24 / 100\n",
      "Confirmed: \t9\n",
      "Tentative: \t10\n",
      "Rejected: \t539\n",
      "Iteration: \t25 / 100\n",
      "Confirmed: \t9\n",
      "Tentative: \t10\n",
      "Rejected: \t539\n",
      "Iteration: \t26 / 100\n",
      "Confirmed: \t9\n",
      "Tentative: \t10\n",
      "Rejected: \t539\n",
      "Iteration: \t27 / 100\n",
      "Confirmed: \t9\n",
      "Tentative: \t10\n",
      "Rejected: \t539\n",
      "Iteration: \t28 / 100\n",
      "Confirmed: \t9\n",
      "Tentative: \t10\n",
      "Rejected: \t539\n",
      "Iteration: \t29 / 100\n",
      "Confirmed: \t10\n",
      "Tentative: \t9\n",
      "Rejected: \t539\n",
      "Iteration: \t30 / 100\n",
      "Confirmed: \t10\n",
      "Tentative: \t9\n",
      "Rejected: \t539\n",
      "Iteration: \t31 / 100\n",
      "Confirmed: \t10\n",
      "Tentative: \t9\n",
      "Rejected: \t539\n",
      "Iteration: \t32 / 100\n",
      "Confirmed: \t10\n",
      "Tentative: \t9\n",
      "Rejected: \t539\n",
      "Iteration: \t33 / 100\n",
      "Confirmed: \t10\n",
      "Tentative: \t9\n",
      "Rejected: \t539\n",
      "Iteration: \t34 / 100\n",
      "Confirmed: \t11\n",
      "Tentative: \t8\n",
      "Rejected: \t539\n",
      "Iteration: \t35 / 100\n",
      "Confirmed: \t11\n",
      "Tentative: \t8\n",
      "Rejected: \t539\n",
      "Iteration: \t36 / 100\n",
      "Confirmed: \t11\n",
      "Tentative: \t8\n",
      "Rejected: \t539\n",
      "Iteration: \t37 / 100\n",
      "Confirmed: \t13\n",
      "Tentative: \t6\n",
      "Rejected: \t539\n",
      "Iteration: \t38 / 100\n",
      "Confirmed: \t13\n",
      "Tentative: \t6\n",
      "Rejected: \t539\n",
      "Iteration: \t39 / 100\n",
      "Confirmed: \t13\n",
      "Tentative: \t6\n",
      "Rejected: \t539\n",
      "Iteration: \t40 / 100\n",
      "Confirmed: \t13\n",
      "Tentative: \t6\n",
      "Rejected: \t539\n",
      "Iteration: \t41 / 100\n",
      "Confirmed: \t13\n",
      "Tentative: \t6\n",
      "Rejected: \t539\n",
      "Iteration: \t42 / 100\n",
      "Confirmed: \t13\n",
      "Tentative: \t6\n",
      "Rejected: \t539\n",
      "Iteration: \t43 / 100\n",
      "Confirmed: \t13\n",
      "Tentative: \t6\n",
      "Rejected: \t539\n",
      "Iteration: \t44 / 100\n",
      "Confirmed: \t13\n",
      "Tentative: \t6\n",
      "Rejected: \t539\n",
      "Iteration: \t45 / 100\n",
      "Confirmed: \t13\n",
      "Tentative: \t6\n",
      "Rejected: \t539\n",
      "Iteration: \t46 / 100\n",
      "Confirmed: \t13\n",
      "Tentative: \t6\n",
      "Rejected: \t539\n",
      "Iteration: \t47 / 100\n",
      "Confirmed: \t13\n",
      "Tentative: \t6\n",
      "Rejected: \t539\n",
      "Iteration: \t48 / 100\n",
      "Confirmed: \t13\n",
      "Tentative: \t6\n",
      "Rejected: \t539\n",
      "Iteration: \t49 / 100\n",
      "Confirmed: \t14\n",
      "Tentative: \t4\n",
      "Rejected: \t540\n",
      "Iteration: \t50 / 100\n",
      "Confirmed: \t14\n",
      "Tentative: \t4\n",
      "Rejected: \t540\n",
      "Iteration: \t51 / 100\n",
      "Confirmed: \t14\n",
      "Tentative: \t4\n",
      "Rejected: \t540\n",
      "Iteration: \t52 / 100\n",
      "Confirmed: \t14\n",
      "Tentative: \t4\n",
      "Rejected: \t540\n",
      "Iteration: \t53 / 100\n",
      "Confirmed: \t14\n",
      "Tentative: \t4\n",
      "Rejected: \t540\n",
      "Iteration: \t54 / 100\n",
      "Confirmed: \t15\n",
      "Tentative: \t3\n",
      "Rejected: \t540\n",
      "Iteration: \t55 / 100\n",
      "Confirmed: \t15\n",
      "Tentative: \t3\n",
      "Rejected: \t540\n",
      "Iteration: \t56 / 100\n",
      "Confirmed: \t15\n",
      "Tentative: \t3\n",
      "Rejected: \t540\n",
      "Iteration: \t57 / 100\n",
      "Confirmed: \t15\n",
      "Tentative: \t3\n",
      "Rejected: \t540\n",
      "Iteration: \t58 / 100\n",
      "Confirmed: \t15\n",
      "Tentative: \t3\n",
      "Rejected: \t540\n",
      "Iteration: \t59 / 100\n",
      "Confirmed: \t15\n",
      "Tentative: \t3\n",
      "Rejected: \t540\n",
      "Iteration: \t60 / 100\n",
      "Confirmed: \t15\n",
      "Tentative: \t3\n",
      "Rejected: \t540\n",
      "Iteration: \t61 / 100\n",
      "Confirmed: \t15\n",
      "Tentative: \t3\n",
      "Rejected: \t540\n",
      "Iteration: \t62 / 100\n",
      "Confirmed: \t15\n",
      "Tentative: \t3\n",
      "Rejected: \t540\n",
      "Iteration: \t63 / 100\n",
      "Confirmed: \t15\n",
      "Tentative: \t3\n",
      "Rejected: \t540\n",
      "Iteration: \t64 / 100\n",
      "Confirmed: \t15\n",
      "Tentative: \t3\n",
      "Rejected: \t540\n",
      "Iteration: \t65 / 100\n",
      "Confirmed: \t15\n",
      "Tentative: \t3\n",
      "Rejected: \t540\n",
      "Iteration: \t66 / 100\n",
      "Confirmed: \t15\n",
      "Tentative: \t3\n",
      "Rejected: \t540\n",
      "Iteration: \t67 / 100\n",
      "Confirmed: \t15\n",
      "Tentative: \t3\n",
      "Rejected: \t540\n",
      "Iteration: \t68 / 100\n",
      "Confirmed: \t15\n",
      "Tentative: \t3\n",
      "Rejected: \t540\n",
      "Iteration: \t69 / 100\n",
      "Confirmed: \t15\n",
      "Tentative: \t3\n",
      "Rejected: \t540\n",
      "Iteration: \t70 / 100\n",
      "Confirmed: \t15\n",
      "Tentative: \t3\n",
      "Rejected: \t540\n",
      "Iteration: \t71 / 100\n",
      "Confirmed: \t15\n",
      "Tentative: \t3\n",
      "Rejected: \t540\n",
      "Iteration: \t72 / 100\n",
      "Confirmed: \t15\n",
      "Tentative: \t3\n",
      "Rejected: \t540\n",
      "Iteration: \t73 / 100\n",
      "Confirmed: \t15\n",
      "Tentative: \t3\n",
      "Rejected: \t540\n",
      "Iteration: \t74 / 100\n",
      "Confirmed: \t15\n",
      "Tentative: \t3\n",
      "Rejected: \t540\n",
      "Iteration: \t75 / 100\n",
      "Confirmed: \t15\n",
      "Tentative: \t3\n",
      "Rejected: \t540\n",
      "Iteration: \t76 / 100\n",
      "Confirmed: \t15\n",
      "Tentative: \t3\n",
      "Rejected: \t540\n",
      "Iteration: \t77 / 100\n",
      "Confirmed: \t15\n",
      "Tentative: \t3\n",
      "Rejected: \t540\n",
      "Iteration: \t78 / 100\n",
      "Confirmed: \t15\n",
      "Tentative: \t3\n",
      "Rejected: \t540\n",
      "Iteration: \t79 / 100\n",
      "Confirmed: \t15\n",
      "Tentative: \t3\n",
      "Rejected: \t540\n",
      "Iteration: \t80 / 100\n",
      "Confirmed: \t15\n",
      "Tentative: \t3\n",
      "Rejected: \t540\n",
      "Iteration: \t81 / 100\n",
      "Confirmed: \t15\n",
      "Tentative: \t3\n",
      "Rejected: \t540\n",
      "Iteration: \t82 / 100\n",
      "Confirmed: \t15\n",
      "Tentative: \t3\n",
      "Rejected: \t540\n",
      "Iteration: \t83 / 100\n",
      "Confirmed: \t15\n",
      "Tentative: \t3\n",
      "Rejected: \t540\n",
      "Iteration: \t84 / 100\n",
      "Confirmed: \t15\n",
      "Tentative: \t3\n",
      "Rejected: \t540\n",
      "Iteration: \t85 / 100\n",
      "Confirmed: \t15\n",
      "Tentative: \t3\n",
      "Rejected: \t540\n",
      "Iteration: \t86 / 100\n",
      "Confirmed: \t15\n",
      "Tentative: \t3\n",
      "Rejected: \t540\n",
      "Iteration: \t87 / 100\n",
      "Confirmed: \t15\n",
      "Tentative: \t3\n",
      "Rejected: \t540\n",
      "Iteration: \t88 / 100\n",
      "Confirmed: \t15\n",
      "Tentative: \t3\n",
      "Rejected: \t540\n",
      "Iteration: \t89 / 100\n",
      "Confirmed: \t15\n",
      "Tentative: \t3\n",
      "Rejected: \t540\n",
      "Iteration: \t90 / 100\n",
      "Confirmed: \t15\n",
      "Tentative: \t3\n",
      "Rejected: \t540\n",
      "Iteration: \t91 / 100\n",
      "Confirmed: \t15\n",
      "Tentative: \t3\n",
      "Rejected: \t540\n",
      "Iteration: \t92 / 100\n",
      "Confirmed: \t15\n",
      "Tentative: \t3\n",
      "Rejected: \t540\n",
      "Iteration: \t93 / 100\n",
      "Confirmed: \t15\n",
      "Tentative: \t3\n",
      "Rejected: \t540\n",
      "Iteration: \t94 / 100\n",
      "Confirmed: \t15\n",
      "Tentative: \t3\n",
      "Rejected: \t540\n",
      "Iteration: \t95 / 100\n",
      "Confirmed: \t15\n",
      "Tentative: \t3\n",
      "Rejected: \t540\n",
      "Iteration: \t96 / 100\n",
      "Confirmed: \t15\n",
      "Tentative: \t3\n",
      "Rejected: \t540\n",
      "Iteration: \t97 / 100\n",
      "Confirmed: \t15\n",
      "Tentative: \t3\n",
      "Rejected: \t540\n",
      "Iteration: \t98 / 100\n",
      "Confirmed: \t15\n",
      "Tentative: \t3\n",
      "Rejected: \t540\n",
      "Iteration: \t99 / 100\n",
      "Confirmed: \t15\n",
      "Tentative: \t3\n",
      "Rejected: \t540\n",
      "\n",
      "\n",
      "BorutaPy finished running.\n",
      "\n",
      "Iteration: \t100 / 100\n",
      "Confirmed: \t15\n",
      "Tentative: \t2\n",
      "Rejected: \t540\n",
      "Feature: Feature_1                      Rank: 26,  Keep: False\n",
      "Feature: Feature_2                      Rank: 246,  Keep: False\n",
      "Feature: Feature_3                      Rank: 362,  Keep: False\n",
      "Feature: Feature_4                      Rank: 326,  Keep: False\n",
      "Feature: Feature_5                      Rank: 264,  Keep: False\n",
      "Feature: Feature_6                      Rank: 483,  Keep: False\n",
      "Feature: Feature_7                      Rank: 273,  Keep: False\n",
      "Feature: Feature_8                      Rank: 285,  Keep: False\n",
      "Feature: Feature_9                      Rank: 86,  Keep: False\n",
      "Feature: Feature_10                     Rank: 137,  Keep: False\n",
      "Feature: Feature_11                     Rank: 88,  Keep: False\n",
      "Feature: Feature_12                     Rank: 355,  Keep: False\n",
      "Feature: Feature_13                     Rank: 226,  Keep: False\n",
      "Feature: Feature_14                     Rank: 483,  Keep: False\n",
      "Feature: Feature_15                     Rank: 26,  Keep: False\n",
      "Feature: Feature_16                     Rank: 145,  Keep: False\n",
      "Feature: Feature_17                     Rank: 75,  Keep: False\n",
      "Feature: Feature_18                     Rank: 136,  Keep: False\n",
      "Feature: Feature_19                     Rank: 293,  Keep: False\n",
      "Feature: Feature_20                     Rank: 127,  Keep: False\n",
      "Feature: Feature_21                     Rank: 335,  Keep: False\n",
      "Feature: Feature_22                     Rank: 1,  Keep: True\n",
      "Feature: Feature_23                     Rank: 108,  Keep: False\n",
      "Feature: Feature_24                     Rank: 370,  Keep: False\n",
      "Feature: Feature_25                     Rank: 190,  Keep: False\n",
      "Feature: Feature_26                     Rank: 105,  Keep: False\n",
      "Feature: Feature_27                     Rank: 207,  Keep: False\n",
      "Feature: Feature_28                     Rank: 160,  Keep: False\n",
      "Feature: Feature_29                     Rank: 4,  Keep: False\n",
      "Feature: Feature_30                     Rank: 406,  Keep: False\n",
      "Feature: Feature_31                     Rank: 329,  Keep: False\n",
      "Feature: Feature_32                     Rank: 1,  Keep: True\n",
      "Feature: Feature_33                     Rank: 219,  Keep: False\n",
      "Feature: Feature_34                     Rank: 1,  Keep: True\n",
      "Feature: Feature_35                     Rank: 251,  Keep: False\n",
      "Feature: Feature_36                     Rank: 74,  Keep: False\n",
      "Feature: Feature_37                     Rank: 302,  Keep: False\n",
      "Feature: Feature_38                     Rank: 64,  Keep: False\n",
      "Feature: Feature_39                     Rank: 83,  Keep: False\n",
      "Feature: Feature_40                     Rank: 42,  Keep: False\n",
      "Feature: Feature_41                     Rank: 146,  Keep: False\n",
      "Feature: Feature_42                     Rank: 262,  Keep: False\n",
      "Feature: Feature_43                     Rank: 483,  Keep: False\n",
      "Feature: Feature_44                     Rank: 94,  Keep: False\n",
      "Feature: Feature_45                     Rank: 359,  Keep: False\n",
      "Feature: Feature_46                     Rank: 135,  Keep: False\n",
      "Feature: Feature_47                     Rank: 246,  Keep: False\n",
      "Feature: Feature_48                     Rank: 184,  Keep: False\n",
      "Feature: Feature_49                     Rank: 114,  Keep: False\n",
      "Feature: Feature_50                     Rank: 483,  Keep: False\n",
      "Feature: Feature_51                     Rank: 324,  Keep: False\n",
      "Feature: Feature_52                     Rank: 273,  Keep: False\n",
      "Feature: Feature_53                     Rank: 483,  Keep: False\n",
      "Feature: Feature_54                     Rank: 243,  Keep: False\n",
      "Feature: Feature_55                     Rank: 221,  Keep: False\n",
      "Feature: Feature_56                     Rank: 53,  Keep: False\n",
      "Feature: Feature_57                     Rank: 48,  Keep: False\n",
      "Feature: Feature_58                     Rank: 243,  Keep: False\n",
      "Feature: Feature_59                     Rank: 55,  Keep: False\n",
      "Feature: Feature_60                     Rank: 1,  Keep: True\n",
      "Feature: Feature_61                     Rank: 254,  Keep: False\n",
      "Feature: Feature_62                     Rank: 162,  Keep: False\n",
      "Feature: Feature_63                     Rank: 61,  Keep: False\n",
      "Feature: Feature_64                     Rank: 8,  Keep: False\n",
      "Feature: Feature_65                     Rank: 1,  Keep: True\n",
      "Feature: Feature_66                     Rank: 1,  Keep: True\n",
      "Feature: Feature_67                     Rank: 179,  Keep: False\n",
      "Feature: Feature_68                     Rank: 122,  Keep: False\n",
      "Feature: Feature_69                     Rank: 155,  Keep: False\n",
      "Feature: Feature_70                     Rank: 483,  Keep: False\n",
      "Feature: Feature_71                     Rank: 71,  Keep: False\n",
      "Feature: Feature_72                     Rank: 227,  Keep: False\n",
      "Feature: Feature_75                     Rank: 422,  Keep: False\n",
      "Feature: Feature_76                     Rank: 149,  Keep: False\n",
      "Feature: Feature_77                     Rank: 113,  Keep: False\n",
      "Feature: Feature_78                     Rank: 294,  Keep: False\n",
      "Feature: Feature_79                     Rank: 51,  Keep: False\n",
      "Feature: Feature_80                     Rank: 77,  Keep: False\n",
      "Feature: Feature_81                     Rank: 280,  Keep: False\n",
      "Feature: Feature_82                     Rank: 24,  Keep: False\n",
      "Feature: Feature_83                     Rank: 338,  Keep: False\n",
      "Feature: Feature_84                     Rank: 177,  Keep: False\n",
      "Feature: Feature_85                     Rank: 409,  Keep: False\n",
      "Feature: Feature_87                     Rank: 129,  Keep: False\n",
      "Feature: Feature_88                     Rank: 366,  Keep: False\n",
      "Feature: Feature_89                     Rank: 172,  Keep: False\n",
      "Feature: Feature_90                     Rank: 167,  Keep: False\n",
      "Feature: Feature_91                     Rank: 58,  Keep: False\n",
      "Feature: Feature_92                     Rank: 35,  Keep: False\n",
      "Feature: Feature_93                     Rank: 198,  Keep: False\n",
      "Feature: Feature_94                     Rank: 229,  Keep: False\n",
      "Feature: Feature_95                     Rank: 418,  Keep: False\n",
      "Feature: Feature_96                     Rank: 126,  Keep: False\n",
      "Feature: Feature_97                     Rank: 212,  Keep: False\n",
      "Feature: Feature_98                     Rank: 483,  Keep: False\n",
      "Feature: Feature_99                     Rank: 348,  Keep: False\n",
      "Feature: Feature_100                    Rank: 262,  Keep: False\n",
      "Feature: Feature_101                    Rank: 81,  Keep: False\n",
      "Feature: Feature_102                    Rank: 416,  Keep: False\n",
      "Feature: Feature_103                    Rank: 18,  Keep: False\n",
      "Feature: Feature_104                    Rank: 1,  Keep: True\n",
      "Feature: Feature_105                    Rank: 389,  Keep: False\n",
      "Feature: Feature_106                    Rank: 329,  Keep: False\n",
      "Feature: Feature_107                    Rank: 352,  Keep: False\n",
      "Feature: Feature_108                    Rank: 246,  Keep: False\n",
      "Feature: Feature_109                    Rank: 196,  Keep: False\n",
      "Feature: Feature_114                    Rank: 111,  Keep: False\n",
      "Feature: Feature_115                    Rank: 419,  Keep: False\n",
      "Feature: Feature_116                    Rank: 104,  Keep: False\n",
      "Feature: Feature_117                    Rank: 227,  Keep: False\n",
      "Feature: Feature_118                    Rank: 131,  Keep: False\n",
      "Feature: Feature_119                    Rank: 289,  Keep: False\n",
      "Feature: Feature_120                    Rank: 404,  Keep: False\n",
      "Feature: Feature_121                    Rank: 141,  Keep: False\n",
      "Feature: Feature_122                    Rank: 23,  Keep: False\n",
      "Feature: Feature_123                    Rank: 12,  Keep: False\n",
      "Feature: Feature_124                    Rank: 61,  Keep: False\n",
      "Feature: Feature_125                    Rank: 21,  Keep: False\n",
      "Feature: Feature_126                    Rank: 2,  Keep: False\n",
      "Feature: Feature_127                    Rank: 17,  Keep: False\n",
      "Feature: Feature_128                    Rank: 12,  Keep: False\n",
      "Feature: Feature_129                    Rank: 119,  Keep: False\n",
      "Feature: Feature_130                    Rank: 2,  Keep: False\n",
      "Feature: Feature_131                    Rank: 1,  Keep: True\n",
      "Feature: Feature_132                    Rank: 116,  Keep: False\n",
      "Feature: Feature_133                    Rank: 98,  Keep: False\n",
      "Feature: Feature_134                    Rank: 115,  Keep: False\n",
      "Feature: Feature_135                    Rank: 353,  Keep: False\n",
      "Feature: Feature_136                    Rank: 110,  Keep: False\n",
      "Feature: Feature_137                    Rank: 387,  Keep: False\n",
      "Feature: Feature_138                    Rank: 180,  Keep: False\n",
      "Feature: Feature_139                    Rank: 151,  Keep: False\n",
      "Feature: Feature_140                    Rank: 189,  Keep: False\n",
      "Feature: Feature_141                    Rank: 374,  Keep: False\n",
      "Feature: Feature_142                    Rank: 483,  Keep: False\n",
      "Feature: Feature_143                    Rank: 337,  Keep: False\n",
      "Feature: Feature_144                    Rank: 242,  Keep: False\n",
      "Feature: Feature_145                    Rank: 170,  Keep: False\n",
      "Feature: Feature_146                    Rank: 158,  Keep: False\n",
      "Feature: Feature_147                    Rank: 19,  Keep: False\n",
      "Feature: Feature_148                    Rank: 85,  Keep: False\n",
      "Feature: Feature_149                    Rank: 266,  Keep: False\n",
      "Feature: Feature_150                    Rank: 483,  Keep: False\n",
      "Feature: Feature_151                    Rank: 222,  Keep: False\n",
      "Feature: Feature_152                    Rank: 285,  Keep: False\n",
      "Feature: Feature_153                    Rank: 34,  Keep: False\n",
      "Feature: Feature_154                    Rank: 95,  Keep: False\n",
      "Feature: Feature_155                    Rank: 385,  Keep: False\n",
      "Feature: Feature_156                    Rank: 123,  Keep: False\n",
      "Feature: Feature_157                    Rank: 186,  Keep: False\n",
      "Feature: Feature_160                    Rank: 121,  Keep: False\n",
      "Feature: Feature_161                    Rank: 56,  Keep: False\n",
      "Feature: Feature_162                    Rank: 132,  Keep: False\n",
      "Feature: Feature_163                    Rank: 318,  Keep: False\n",
      "Feature: Feature_164                    Rank: 140,  Keep: False\n",
      "Feature: Feature_165                    Rank: 309,  Keep: False\n",
      "Feature: Feature_166                    Rank: 358,  Keep: False\n",
      "Feature: Feature_167                    Rank: 335,  Keep: False\n",
      "Feature: Feature_168                    Rank: 413,  Keep: False\n",
      "Feature: Feature_169                    Rank: 266,  Keep: False\n",
      "Feature: Feature_170                    Rank: 324,  Keep: False\n",
      "Feature: Feature_171                    Rank: 165,  Keep: False\n",
      "Feature: Feature_172                    Rank: 238,  Keep: False\n",
      "Feature: Feature_173                    Rank: 143,  Keep: False\n",
      "Feature: Feature_174                    Rank: 254,  Keep: False\n",
      "Feature: Feature_175                    Rank: 100,  Keep: False\n",
      "Feature: Feature_176                    Rank: 69,  Keep: False\n",
      "Feature: Feature_177                    Rank: 323,  Keep: False\n",
      "Feature: Feature_178                    Rank: 311,  Keep: False\n",
      "Feature: Feature_179                    Rank: 483,  Keep: False\n",
      "Feature: Feature_180                    Rank: 483,  Keep: False\n",
      "Feature: Feature_181                    Rank: 5,  Keep: False\n",
      "Feature: Feature_182                    Rank: 175,  Keep: False\n",
      "Feature: Feature_183                    Rank: 29,  Keep: False\n",
      "Feature: Feature_184                    Rank: 9,  Keep: False\n",
      "Feature: Feature_185                    Rank: 278,  Keep: False\n",
      "Feature: Feature_186                    Rank: 382,  Keep: False\n",
      "Feature: Feature_187                    Rank: 483,  Keep: False\n",
      "Feature: Feature_188                    Rank: 88,  Keep: False\n",
      "Feature: Feature_189                    Rank: 99,  Keep: False\n",
      "Feature: Feature_190                    Rank: 483,  Keep: False\n",
      "Feature: Feature_191                    Rank: 483,  Keep: False\n",
      "Feature: Feature_192                    Rank: 483,  Keep: False\n",
      "Feature: Feature_193                    Rank: 483,  Keep: False\n",
      "Feature: Feature_194                    Rank: 483,  Keep: False\n",
      "Feature: Feature_195                    Rank: 483,  Keep: False\n",
      "Feature: Feature_196                    Rank: 59,  Keep: False\n",
      "Feature: Feature_197                    Rank: 321,  Keep: False\n",
      "Feature: Feature_198                    Rank: 81,  Keep: False\n",
      "Feature: Feature_199                    Rank: 305,  Keep: False\n",
      "Feature: Feature_200                    Rank: 192,  Keep: False\n",
      "Feature: Feature_201                    Rank: 7,  Keep: False\n",
      "Feature: Feature_202                    Rank: 332,  Keep: False\n",
      "Feature: Feature_203                    Rank: 229,  Keep: False\n",
      "Feature: Feature_204                    Rank: 91,  Keep: False\n",
      "Feature: Feature_205                    Rank: 260,  Keep: False\n",
      "Feature: Feature_206                    Rank: 1,  Keep: True\n",
      "Feature: Feature_207                    Rank: 483,  Keep: False\n",
      "Feature: Feature_208                    Rank: 97,  Keep: False\n",
      "Feature: Feature_209                    Rank: 261,  Keep: False\n",
      "Feature: Feature_210                    Rank: 483,  Keep: False\n",
      "Feature: Feature_211                    Rank: 147,  Keep: False\n",
      "Feature: Feature_212                    Rank: 300,  Keep: False\n",
      "Feature: Feature_213                    Rank: 343,  Keep: False\n",
      "Feature: Feature_214                    Rank: 1,  Keep: True\n",
      "Feature: Feature_215                    Rank: 314,  Keep: False\n",
      "Feature: Feature_216                    Rank: 305,  Keep: False\n",
      "Feature: Feature_217                    Rank: 164,  Keep: False\n",
      "Feature: Feature_218                    Rank: 308,  Keep: False\n",
      "Feature: Feature_219                    Rank: 201,  Keep: False\n",
      "Feature: Feature_220                    Rank: 376,  Keep: False\n",
      "Feature: Feature_222                    Rank: 342,  Keep: False\n",
      "Feature: Feature_223                    Rank: 382,  Keep: False\n",
      "Feature: Feature_224                    Rank: 299,  Keep: False\n",
      "Feature: Feature_225                    Rank: 363,  Keep: False\n",
      "Feature: Feature_226                    Rank: 174,  Keep: False\n",
      "Feature: Feature_227                    Rank: 483,  Keep: False\n",
      "Feature: Feature_228                    Rank: 80,  Keep: False\n",
      "Feature: Feature_229                    Rank: 305,  Keep: False\n",
      "Feature: Feature_230                    Rank: 483,  Keep: False\n",
      "Feature: Feature_231                    Rank: 483,  Keep: False\n",
      "Feature: Feature_232                    Rank: 483,  Keep: False\n",
      "Feature: Feature_233                    Rank: 483,  Keep: False\n",
      "Feature: Feature_234                    Rank: 483,  Keep: False\n",
      "Feature: Feature_235                    Rank: 483,  Keep: False\n",
      "Feature: Feature_236                    Rank: 483,  Keep: False\n",
      "Feature: Feature_237                    Rank: 483,  Keep: False\n",
      "Feature: Feature_238                    Rank: 483,  Keep: False\n",
      "Feature: Feature_239                    Rank: 367,  Keep: False\n",
      "Feature: Feature_240                    Rank: 198,  Keep: False\n",
      "Feature: Feature_241                    Rank: 483,  Keep: False\n",
      "Feature: Feature_242                    Rank: 483,  Keep: False\n",
      "Feature: Feature_243                    Rank: 483,  Keep: False\n",
      "Feature: Feature_244                    Rank: 483,  Keep: False\n",
      "Feature: Feature_249                    Rank: 314,  Keep: False\n",
      "Feature: Feature_250                    Rank: 417,  Keep: False\n",
      "Feature: Feature_251                    Rank: 67,  Keep: False\n",
      "Feature: Feature_252                    Rank: 377,  Keep: False\n",
      "Feature: Feature_253                    Rank: 128,  Keep: False\n",
      "Feature: Feature_254                    Rank: 203,  Keep: False\n",
      "Feature: Feature_255                    Rank: 282,  Keep: False\n",
      "Feature: Feature_256                    Rank: 328,  Keep: False\n",
      "Feature: Feature_257                    Rank: 483,  Keep: False\n",
      "Feature: Feature_258                    Rank: 483,  Keep: False\n",
      "Feature: Feature_259                    Rank: 483,  Keep: False\n",
      "Feature: Feature_260                    Rank: 483,  Keep: False\n",
      "Feature: Feature_261                    Rank: 483,  Keep: False\n",
      "Feature: Feature_262                    Rank: 483,  Keep: False\n",
      "Feature: Feature_263                    Rank: 483,  Keep: False\n",
      "Feature: Feature_264                    Rank: 483,  Keep: False\n",
      "Feature: Feature_265                    Rank: 483,  Keep: False\n",
      "Feature: Feature_266                    Rank: 483,  Keep: False\n",
      "Feature: Feature_267                    Rank: 483,  Keep: False\n",
      "Feature: Feature_268                    Rank: 173,  Keep: False\n",
      "Feature: Feature_269                    Rank: 269,  Keep: False\n",
      "Feature: Feature_270                    Rank: 219,  Keep: False\n",
      "Feature: Feature_271                    Rank: 46,  Keep: False\n",
      "Feature: Feature_272                    Rank: 287,  Keep: False\n",
      "Feature: Feature_273                    Rank: 232,  Keep: False\n",
      "Feature: Feature_274                    Rank: 223,  Keep: False\n",
      "Feature: Feature_275                    Rank: 240,  Keep: False\n",
      "Feature: Feature_276                    Rank: 183,  Keep: False\n",
      "Feature: Feature_277                    Rank: 483,  Keep: False\n",
      "Feature: Feature_278                    Rank: 379,  Keep: False\n",
      "Feature: Feature_279                    Rank: 411,  Keep: False\n",
      "Feature: Feature_280                    Rank: 119,  Keep: False\n",
      "Feature: Feature_281                    Rank: 90,  Keep: False\n",
      "Feature: Feature_282                    Rank: 14,  Keep: False\n",
      "Feature: Feature_283                    Rank: 102,  Keep: False\n",
      "Feature: Feature_284                    Rank: 339,  Keep: False\n",
      "Feature: Feature_285                    Rank: 483,  Keep: False\n",
      "Feature: Feature_286                    Rank: 231,  Keep: False\n",
      "Feature: Feature_287                    Rank: 182,  Keep: False\n",
      "Feature: Feature_288                    Rank: 26,  Keep: False\n",
      "Feature: Feature_289                    Rank: 109,  Keep: False\n",
      "Feature: Feature_290                    Rank: 371,  Keep: False\n",
      "Feature: Feature_291                    Rank: 33,  Keep: False\n",
      "Feature: Feature_292                    Rank: 213,  Keep: False\n",
      "Feature: Feature_295                    Rank: 79,  Keep: False\n",
      "Feature: Feature_296                    Rank: 28,  Keep: False\n",
      "Feature: Feature_297                    Rank: 185,  Keep: False\n",
      "Feature: Feature_298                    Rank: 287,  Keep: False\n",
      "Feature: Feature_299                    Rank: 60,  Keep: False\n",
      "Feature: Feature_300                    Rank: 278,  Keep: False\n",
      "Feature: Feature_301                    Rank: 400,  Keep: False\n",
      "Feature: Feature_302                    Rank: 195,  Keep: False\n",
      "Feature: Feature_303                    Rank: 374,  Keep: False\n",
      "Feature: Feature_304                    Rank: 350,  Keep: False\n",
      "Feature: Feature_305                    Rank: 300,  Keep: False\n",
      "Feature: Feature_306                    Rank: 347,  Keep: False\n",
      "Feature: Feature_307                    Rank: 223,  Keep: False\n",
      "Feature: Feature_308                    Rank: 46,  Keep: False\n",
      "Feature: Feature_309                    Rank: 206,  Keep: False\n",
      "Feature: Feature_310                    Rank: 86,  Keep: False\n",
      "Feature: Feature_311                    Rank: 41,  Keep: False\n",
      "Feature: Feature_312                    Rank: 215,  Keep: False\n",
      "Feature: Feature_313                    Rank: 236,  Keep: False\n",
      "Feature: Feature_314                    Rank: 483,  Keep: False\n",
      "Feature: Feature_315                    Rank: 483,  Keep: False\n",
      "Feature: Feature_316                    Rank: 483,  Keep: False\n",
      "Feature: Feature_317                    Rank: 6,  Keep: False\n",
      "Feature: Feature_318                    Rank: 125,  Keep: False\n",
      "Feature: Feature_319                    Rank: 93,  Keep: False\n",
      "Feature: Feature_320                    Rank: 1,  Keep: True\n",
      "Feature: Feature_321                    Rank: 258,  Keep: False\n",
      "Feature: Feature_322                    Rank: 257,  Keep: False\n",
      "Feature: Feature_323                    Rank: 483,  Keep: False\n",
      "Feature: Feature_324                    Rank: 73,  Keep: False\n",
      "Feature: Feature_325                    Rank: 162,  Keep: False\n",
      "Feature: Feature_326                    Rank: 483,  Keep: False\n",
      "Feature: Feature_327                    Rank: 483,  Keep: False\n",
      "Feature: Feature_328                    Rank: 483,  Keep: False\n",
      "Feature: Feature_329                    Rank: 483,  Keep: False\n",
      "Feature: Feature_330                    Rank: 483,  Keep: False\n",
      "Feature: Feature_331                    Rank: 483,  Keep: False\n",
      "Feature: Feature_332                    Rank: 50,  Keep: False\n",
      "Feature: Feature_333                    Rank: 365,  Keep: False\n",
      "Feature: Feature_334                    Rank: 64,  Keep: False\n",
      "Feature: Feature_335                    Rank: 241,  Keep: False\n",
      "Feature: Feature_336                    Rank: 273,  Keep: False\n",
      "Feature: Feature_337                    Rank: 31,  Keep: False\n",
      "Feature: Feature_338                    Rank: 394,  Keep: False\n",
      "Feature: Feature_339                    Rank: 200,  Keep: False\n",
      "Feature: Feature_340                    Rank: 192,  Keep: False\n",
      "Feature: Feature_341                    Rank: 364,  Keep: False\n",
      "Feature: Feature_342                    Rank: 3,  Keep: False\n",
      "Feature: Feature_343                    Rank: 483,  Keep: False\n",
      "Feature: Feature_344                    Rank: 161,  Keep: False\n",
      "Feature: Feature_345                    Rank: 154,  Keep: False\n",
      "Feature: Feature_348                    Rank: 483,  Keep: False\n",
      "Feature: Feature_349                    Rank: 39,  Keep: False\n",
      "Feature: Feature_350                    Rank: 234,  Keep: False\n",
      "Feature: Feature_351                    Rank: 390,  Keep: False\n",
      "Feature: Feature_352                    Rank: 1,  Keep: True\n",
      "Feature: Feature_353                    Rank: 181,  Keep: False\n",
      "Feature: Feature_354                    Rank: 215,  Keep: False\n",
      "Feature: Feature_355                    Rank: 314,  Keep: False\n",
      "Feature: Feature_356                    Rank: 153,  Keep: False\n",
      "Feature: Feature_357                    Rank: 194,  Keep: False\n",
      "Feature: Feature_358                    Rank: 402,  Keep: False\n",
      "Feature: Feature_360                    Rank: 401,  Keep: False\n",
      "Feature: Feature_361                    Rank: 345,  Keep: False\n",
      "Feature: Feature_362                    Rank: 295,  Keep: False\n",
      "Feature: Feature_363                    Rank: 355,  Keep: False\n",
      "Feature: Feature_364                    Rank: 355,  Keep: False\n",
      "Feature: Feature_365                    Rank: 483,  Keep: False\n",
      "Feature: Feature_366                    Rank: 107,  Keep: False\n",
      "Feature: Feature_367                    Rank: 360,  Keep: False\n",
      "Feature: Feature_368                    Rank: 412,  Keep: False\n",
      "Feature: Feature_369                    Rank: 341,  Keep: False\n",
      "Feature: Feature_370                    Rank: 483,  Keep: False\n",
      "Feature: Feature_371                    Rank: 483,  Keep: False\n",
      "Feature: Feature_372                    Rank: 483,  Keep: False\n",
      "Feature: Feature_373                    Rank: 483,  Keep: False\n",
      "Feature: Feature_374                    Rank: 483,  Keep: False\n",
      "Feature: Feature_375                    Rank: 483,  Keep: False\n",
      "Feature: Feature_376                    Rank: 483,  Keep: False\n",
      "Feature: Feature_377                    Rank: 396,  Keep: False\n",
      "Feature: Feature_378                    Rank: 19,  Keep: False\n",
      "Feature: Feature_379                    Rank: 483,  Keep: False\n",
      "Feature: Feature_380                    Rank: 483,  Keep: False\n",
      "Feature: Feature_381                    Rank: 483,  Keep: False\n",
      "Feature: Feature_382                    Rank: 483,  Keep: False\n",
      "Feature: Feature_387                    Rank: 380,  Keep: False\n",
      "Feature: Feature_388                    Rank: 420,  Keep: False\n",
      "Feature: Feature_389                    Rank: 105,  Keep: False\n",
      "Feature: Feature_390                    Rank: 410,  Keep: False\n",
      "Feature: Feature_391                    Rank: 46,  Keep: False\n",
      "Feature: Feature_392                    Rank: 271,  Keep: False\n",
      "Feature: Feature_393                    Rank: 355,  Keep: False\n",
      "Feature: Feature_394                    Rank: 198,  Keep: False\n",
      "Feature: Feature_395                    Rank: 483,  Keep: False\n",
      "Feature: Feature_396                    Rank: 483,  Keep: False\n",
      "Feature: Feature_397                    Rank: 483,  Keep: False\n",
      "Feature: Feature_398                    Rank: 483,  Keep: False\n",
      "Feature: Feature_399                    Rank: 483,  Keep: False\n",
      "Feature: Feature_400                    Rank: 483,  Keep: False\n",
      "Feature: Feature_401                    Rank: 483,  Keep: False\n",
      "Feature: Feature_402                    Rank: 483,  Keep: False\n",
      "Feature: Feature_403                    Rank: 483,  Keep: False\n",
      "Feature: Feature_404                    Rank: 483,  Keep: False\n",
      "Feature: Feature_405                    Rank: 483,  Keep: False\n",
      "Feature: Feature_406                    Rank: 54,  Keep: False\n",
      "Feature: Feature_407                    Rank: 233,  Keep: False\n",
      "Feature: Feature_408                    Rank: 284,  Keep: False\n",
      "Feature: Feature_409                    Rank: 100,  Keep: False\n",
      "Feature: Feature_410                    Rank: 283,  Keep: False\n",
      "Feature: Feature_411                    Rank: 250,  Keep: False\n",
      "Feature: Feature_412                    Rank: 142,  Keep: False\n",
      "Feature: Feature_413                    Rank: 276,  Keep: False\n",
      "Feature: Feature_414                    Rank: 320,  Keep: False\n",
      "Feature: Feature_415                    Rank: 483,  Keep: False\n",
      "Feature: Feature_416                    Rank: 398,  Keep: False\n",
      "Feature: Feature_417                    Rank: 118,  Keep: False\n",
      "Feature: Feature_418                    Rank: 37,  Keep: False\n",
      "Feature: Feature_419                    Rank: 388,  Keep: False\n",
      "Feature: Feature_420                    Rank: 236,  Keep: False\n",
      "Feature: Feature_421                    Rank: 123,  Keep: False\n",
      "Feature: Feature_422                    Rank: 350,  Keep: False\n",
      "Feature: Feature_423                    Rank: 483,  Keep: False\n",
      "Feature: Feature_424                    Rank: 10,  Keep: False\n",
      "Feature: Feature_425                    Rank: 210,  Keep: False\n",
      "Feature: Feature_426                    Rank: 32,  Keep: False\n",
      "Feature: Feature_427                    Rank: 95,  Keep: False\n",
      "Feature: Feature_428                    Rank: 406,  Keep: False\n",
      "Feature: Feature_429                    Rank: 44,  Keep: False\n",
      "Feature: Feature_430                    Rank: 171,  Keep: False\n",
      "Feature: Feature_431                    Rank: 68,  Keep: False\n",
      "Feature: Feature_432                    Rank: 21,  Keep: False\n",
      "Feature: Feature_433                    Rank: 225,  Keep: False\n",
      "Feature: Feature_434                    Rank: 103,  Keep: False\n",
      "Feature: Feature_435                    Rank: 256,  Keep: False\n",
      "Feature: Feature_436                    Rank: 188,  Keep: False\n",
      "Feature: Feature_437                    Rank: 349,  Keep: False\n",
      "Feature: Feature_438                    Rank: 334,  Keep: False\n",
      "Feature: Feature_439                    Rank: 403,  Keep: False\n",
      "Feature: Feature_440                    Rank: 277,  Keep: False\n",
      "Feature: Feature_441                    Rank: 215,  Keep: False\n",
      "Feature: Feature_442                    Rank: 192,  Keep: False\n",
      "Feature: Feature_443                    Rank: 343,  Keep: False\n",
      "Feature: Feature_444                    Rank: 64,  Keep: False\n",
      "Feature: Feature_445                    Rank: 268,  Keep: False\n",
      "Feature: Feature_446                    Rank: 152,  Keep: False\n",
      "Feature: Feature_447                    Rank: 72,  Keep: False\n",
      "Feature: Feature_448                    Rank: 207,  Keep: False\n",
      "Feature: Feature_449                    Rank: 385,  Keep: False\n",
      "Feature: Feature_450                    Rank: 483,  Keep: False\n",
      "Feature: Feature_451                    Rank: 483,  Keep: False\n",
      "Feature: Feature_452                    Rank: 483,  Keep: False\n",
      "Feature: Feature_453                    Rank: 10,  Keep: False\n",
      "Feature: Feature_454                    Rank: 157,  Keep: False\n",
      "Feature: Feature_455                    Rank: 78,  Keep: False\n",
      "Feature: Feature_456                    Rank: 16,  Keep: False\n",
      "Feature: Feature_457                    Rank: 202,  Keep: False\n",
      "Feature: Feature_458                    Rank: 397,  Keep: False\n",
      "Feature: Feature_459                    Rank: 483,  Keep: False\n",
      "Feature: Feature_460                    Rank: 134,  Keep: False\n",
      "Feature: Feature_461                    Rank: 43,  Keep: False\n",
      "Feature: Feature_462                    Rank: 483,  Keep: False\n",
      "Feature: Feature_463                    Rank: 483,  Keep: False\n",
      "Feature: Feature_464                    Rank: 483,  Keep: False\n",
      "Feature: Feature_465                    Rank: 483,  Keep: False\n",
      "Feature: Feature_466                    Rank: 483,  Keep: False\n",
      "Feature: Feature_467                    Rank: 483,  Keep: False\n",
      "Feature: Feature_468                    Rank: 116,  Keep: False\n",
      "Feature: Feature_469                    Rank: 57,  Keep: False\n",
      "Feature: Feature_470                    Rank: 39,  Keep: False\n",
      "Feature: Feature_471                    Rank: 369,  Keep: False\n",
      "Feature: Feature_472                    Rank: 326,  Keep: False\n",
      "Feature: Feature_473                    Rank: 319,  Keep: False\n",
      "Feature: Feature_474                    Rank: 249,  Keep: False\n",
      "Feature: Feature_475                    Rank: 217,  Keep: False\n",
      "Feature: Feature_476                    Rank: 92,  Keep: False\n",
      "Feature: Feature_477                    Rank: 314,  Keep: False\n",
      "Feature: Feature_478                    Rank: 1,  Keep: True\n",
      "Feature: Feature_479                    Rank: 483,  Keep: False\n",
      "Feature: Feature_480                    Rank: 64,  Keep: False\n",
      "Feature: Feature_481                    Rank: 158,  Keep: False\n",
      "Feature: Feature_482                    Rank: 483,  Keep: False\n",
      "Feature: Feature_483                    Rank: 399,  Keep: False\n",
      "Feature: Feature_484                    Rank: 311,  Keep: False\n",
      "Feature: Feature_485                    Rank: 130,  Keep: False\n",
      "Feature: Feature_486                    Rank: 252,  Keep: False\n",
      "Feature: Feature_487                    Rank: 177,  Keep: False\n",
      "Feature: Feature_488                    Rank: 275,  Keep: False\n",
      "Feature: Feature_489                    Rank: 15,  Keep: False\n",
      "Feature: Feature_490                    Rank: 138,  Keep: False\n",
      "Feature: Feature_491                    Rank: 168,  Keep: False\n",
      "Feature: Feature_492                    Rank: 317,  Keep: False\n",
      "Feature: Feature_494                    Rank: 392,  Keep: False\n",
      "Feature: Feature_495                    Rank: 309,  Keep: False\n",
      "Feature: Feature_496                    Rank: 265,  Keep: False\n",
      "Feature: Feature_497                    Rank: 297,  Keep: False\n",
      "Feature: Feature_498                    Rank: 218,  Keep: False\n",
      "Feature: Feature_499                    Rank: 483,  Keep: False\n",
      "Feature: Feature_500                    Rank: 211,  Keep: False\n",
      "Feature: Feature_501                    Rank: 235,  Keep: False\n",
      "Feature: Feature_502                    Rank: 483,  Keep: False\n",
      "Feature: Feature_503                    Rank: 483,  Keep: False\n",
      "Feature: Feature_504                    Rank: 483,  Keep: False\n",
      "Feature: Feature_505                    Rank: 483,  Keep: False\n",
      "Feature: Feature_506                    Rank: 483,  Keep: False\n",
      "Feature: Feature_507                    Rank: 483,  Keep: False\n",
      "Feature: Feature_508                    Rank: 483,  Keep: False\n",
      "Feature: Feature_509                    Rank: 483,  Keep: False\n",
      "Feature: Feature_510                    Rank: 483,  Keep: False\n",
      "Feature: Feature_511                    Rank: 1,  Keep: True\n",
      "Feature: Feature_512                    Rank: 70,  Keep: False\n",
      "Feature: Feature_513                    Rank: 483,  Keep: False\n",
      "Feature: Feature_514                    Rank: 483,  Keep: False\n",
      "Feature: Feature_515                    Rank: 483,  Keep: False\n",
      "Feature: Feature_516                    Rank: 483,  Keep: False\n",
      "Feature: Feature_521                    Rank: 322,  Keep: False\n",
      "Feature: Feature_522                    Rank: 421,  Keep: False\n",
      "Feature: Feature_523                    Rank: 76,  Keep: False\n",
      "Feature: Feature_524                    Rank: 149,  Keep: False\n",
      "Feature: Feature_525                    Rank: 144,  Keep: False\n",
      "Feature: Feature_526                    Rank: 280,  Keep: False\n",
      "Feature: Feature_527                    Rank: 204,  Keep: False\n",
      "Feature: Feature_528                    Rank: 332,  Keep: False\n",
      "Feature: Feature_529                    Rank: 483,  Keep: False\n",
      "Feature: Feature_530                    Rank: 483,  Keep: False\n",
      "Feature: Feature_531                    Rank: 483,  Keep: False\n",
      "Feature: Feature_532                    Rank: 483,  Keep: False\n",
      "Feature: Feature_533                    Rank: 483,  Keep: False\n",
      "Feature: Feature_534                    Rank: 483,  Keep: False\n",
      "Feature: Feature_535                    Rank: 483,  Keep: False\n",
      "Feature: Feature_536                    Rank: 483,  Keep: False\n",
      "Feature: Feature_537                    Rank: 483,  Keep: False\n",
      "Feature: Feature_538                    Rank: 483,  Keep: False\n",
      "Feature: Feature_539                    Rank: 483,  Keep: False\n",
      "Feature: Feature_540                    Rank: 139,  Keep: False\n",
      "Feature: Feature_541                    Rank: 238,  Keep: False\n",
      "Feature: Feature_542                    Rank: 176,  Keep: False\n",
      "Feature: Feature_543                    Rank: 305,  Keep: False\n",
      "Feature: Feature_544                    Rank: 395,  Keep: False\n",
      "Feature: Feature_545                    Rank: 415,  Keep: False\n",
      "Feature: Feature_546                    Rank: 378,  Keep: False\n",
      "Feature: Feature_547                    Rank: 291,  Keep: False\n",
      "Feature: Feature_548                    Rank: 30,  Keep: False\n",
      "Feature: Feature_549                    Rank: 368,  Keep: False\n",
      "Feature: Feature_550                    Rank: 204,  Keep: False\n",
      "Feature: Feature_551                    Rank: 346,  Keep: False\n",
      "Feature: Feature_552                    Rank: 269,  Keep: False\n",
      "Feature: Feature_553                    Rank: 209,  Keep: False\n",
      "Feature: Feature_554                    Rank: 372,  Keep: False\n",
      "Feature: Feature_555                    Rank: 296,  Keep: False\n",
      "Feature: Feature_556                    Rank: 393,  Keep: False\n",
      "Feature: Feature_557                    Rank: 259,  Keep: False\n",
      "Feature: Feature_558                    Rank: 291,  Keep: False\n",
      "Feature: Feature_559                    Rank: 381,  Keep: False\n",
      "Feature: Feature_560                    Rank: 169,  Keep: False\n",
      "Feature: Feature_561                    Rank: 133,  Keep: False\n",
      "Feature: Feature_562                    Rank: 111,  Keep: False\n",
      "Feature: Feature_563                    Rank: 36,  Keep: False\n",
      "Feature: Feature_564                    Rank: 48,  Keep: False\n",
      "Feature: Feature_565                    Rank: 391,  Keep: False\n",
      "Feature: Feature_566                    Rank: 408,  Keep: False\n",
      "Feature: Feature_567                    Rank: 384,  Keep: False\n",
      "Feature: Feature_568                    Rank: 404,  Keep: False\n",
      "Feature: Feature_569                    Rank: 414,  Keep: False\n",
      "Feature: Feature_570                    Rank: 303,  Keep: False\n",
      "Feature: Feature_571                    Rank: 289,  Keep: False\n",
      "Feature: Feature_572                    Rank: 148,  Keep: False\n",
      "Feature: Feature_573                    Rank: 246,  Keep: False\n",
      "Feature: Feature_574                    Rank: 52,  Keep: False\n",
      "Feature: Feature_575                    Rank: 155,  Keep: False\n",
      "Feature: Feature_576                    Rank: 165,  Keep: False\n",
      "Feature: Feature_577                    Rank: 254,  Keep: False\n",
      "Feature: Feature_578                    Rank: 1,  Keep: True\n",
      "Feature: Feature_583                    Rank: 187,  Keep: False\n",
      "Feature: Feature_584                    Rank: 297,  Keep: False\n",
      "Feature: Feature_585                    Rank: 332,  Keep: False\n",
      "Feature: Feature_586                    Rank: 340,  Keep: False\n",
      "Feature: Feature_587                    Rank: 373,  Keep: False\n",
      "Feature: Feature_588                    Rank: 38,  Keep: False\n",
      "Feature: Feature_589                    Rank: 84,  Keep: False\n",
      "Feature: Feature_590                    Rank: 360,  Keep: False\n",
      "['Feature_22', 'Feature_32', 'Feature_34', 'Feature_60', 'Feature_65', 'Feature_66', 'Feature_104', 'Feature_131', 'Feature_206', 'Feature_214', 'Feature_320', 'Feature_352', 'Feature_478', 'Feature_511', 'Feature_578']\n"
     ]
    }
   ],
   "source": [
    "from sklearn.ensemble import RandomForestClassifier\n",
    "from boruta import BorutaPy\n",
    "X_train_boruta , final_features = BorutaFeatureSelection(X_train_knn,y_train.values.ravel())"
   ]
  },
  {
   "cell_type": "code",
   "execution_count": 140,
   "metadata": {
    "colab": {
     "base_uri": "https://localhost:8080/"
    },
    "id": "PmsoFTseNUXu",
    "outputId": "23cbf78e-9081-4f5d-c371-c54950e3a8d5"
   },
   "outputs": [
    {
     "data": {
      "text/plain": [
       "(314, 15)"
      ]
     },
     "execution_count": 140,
     "metadata": {},
     "output_type": "execute_result"
    }
   ],
   "source": [
    "# From test set deleting columns that are removed in training set\n",
    "X_test_boruta = X_test_knn[np.array(X_train_boruta.columns)]\n",
    "X_test_boruta.shape"
   ]
  },
  {
   "cell_type": "code",
   "execution_count": 153,
   "metadata": {
    "colab": {
     "base_uri": "https://localhost:8080/",
     "height": 453
    },
    "id": "3Cgm-ha_N1s1",
    "outputId": "b712445e-cf62-4143-8ea5-7618cef7f6b1"
   },
   "outputs": [
    {
     "name": "stdout",
     "output_type": "stream",
     "text": [
      "[[  0  21]\n",
      " [  0 293]]\n",
      "              precision    recall  f1-score   support\n",
      "\n",
      "           0       0.00      0.00      0.00        21\n",
      "           1       0.93      1.00      0.97       293\n",
      "\n",
      "    accuracy                           0.93       314\n",
      "   macro avg       0.47      0.50      0.48       314\n",
      "weighted avg       0.87      0.93      0.90       314\n",
      "\n",
      "Test Accuracy Score 0.9331210191082803\n"
     ]
    },
    {
     "data": {
      "image/png": "[encoded data removed]",
      "text/plain": [
       "<Figure size 576x396 with 2 Axes>"
      ]
     },
     "metadata": {},
     "output_type": "display_data"
    }
   ],
   "source": [
    "rfc(X_train_boruta,X_test_boruta,6)"
   ]
  },
  {
   "cell_type": "code",
   "execution_count": 154,
   "metadata": {},
   "outputs": [
    {
     "data": {
      "image/png": "[encoded data removed]",
      "text/plain": [
       "<Figure size 800x700 with 1 Axes>"
      ]
     },
     "metadata": {},
     "output_type": "display_data"
    },
    {
     "data": {
      "text/plain": [
       "(0.7484076433121017, 0.1891085885485535)"
      ]
     },
     "execution_count": 154,
     "metadata": {},
     "output_type": "execute_result"
    },
    {
     "data": {
      "image/png": "[encoded data removed]",
      "text/plain": [
       "<Figure size 576x396 with 1 Axes>"
      ]
     },
     "metadata": {},
     "output_type": "display_data"
    }
   ],
   "source": [
    "evaluate(X_train_boruta, X_test_boruta, y_train, y_test)"
   ]
  },
  {
   "cell_type": "markdown",
   "metadata": {
    "id": "ES_vbYwIPECg"
   },
   "source": [
    "## Chi Square based on P values over less than 0.4 - 29 features"
   ]
  },
  {
   "cell_type": "code",
   "execution_count": 144,
   "metadata": {},
   "outputs": [
    {
     "data": {
      "text/html": [
       "<div>\n",
       "<style scoped>\n",
       "    .dataframe tbody tr th:only-of-type {\n",
       "        vertical-align: middle;\n",
       "    }\n",
       "\n",
       "    .dataframe tbody tr th {\n",
       "        vertical-align: top;\n",
       "    }\n",
       "\n",
       "    .dataframe thead th {\n",
       "        text-align: right;\n",
       "    }\n",
       "</style>\n",
       "<table border=\"1\" class=\"dataframe\">\n",
       "  <thead>\n",
       "    <tr style=\"text-align: right;\">\n",
       "      <th></th>\n",
       "      <th>Feature_1</th>\n",
       "      <th>Feature_2</th>\n",
       "      <th>Feature_3</th>\n",
       "      <th>Feature_4</th>\n",
       "      <th>Feature_5</th>\n",
       "      <th>Feature_6</th>\n",
       "      <th>Feature_7</th>\n",
       "      <th>Feature_8</th>\n",
       "      <th>Feature_9</th>\n",
       "      <th>Feature_10</th>\n",
       "      <th>...</th>\n",
       "      <th>Feature_577</th>\n",
       "      <th>Feature_578</th>\n",
       "      <th>Feature_583</th>\n",
       "      <th>Feature_584</th>\n",
       "      <th>Feature_585</th>\n",
       "      <th>Feature_586</th>\n",
       "      <th>Feature_587</th>\n",
       "      <th>Feature_588</th>\n",
       "      <th>Feature_589</th>\n",
       "      <th>Feature_590</th>\n",
       "    </tr>\n",
       "  </thead>\n",
       "  <tbody>\n",
       "    <tr>\n",
       "      <th>0</th>\n",
       "      <td>0.541632</td>\n",
       "      <td>0.480126</td>\n",
       "      <td>0.488754</td>\n",
       "      <td>0.163123</td>\n",
       "      <td>0.000091</td>\n",
       "      <td>0.0</td>\n",
       "      <td>0.503337</td>\n",
       "      <td>0.939347</td>\n",
       "      <td>0.449506</td>\n",
       "      <td>0.223469</td>\n",
       "      <td>...</td>\n",
       "      <td>0.002215</td>\n",
       "      <td>0.133392</td>\n",
       "      <td>0.612500</td>\n",
       "      <td>0.013401</td>\n",
       "      <td>0.012683</td>\n",
       "      <td>0.013183</td>\n",
       "      <td>0.327485</td>\n",
       "      <td>0.095176</td>\n",
       "      <td>0.086957</td>\n",
       "      <td>0.063839</td>\n",
       "    </tr>\n",
       "    <tr>\n",
       "      <th>1</th>\n",
       "      <td>0.535532</td>\n",
       "      <td>0.477786</td>\n",
       "      <td>0.615529</td>\n",
       "      <td>0.237708</td>\n",
       "      <td>0.000969</td>\n",
       "      <td>0.0</td>\n",
       "      <td>0.511968</td>\n",
       "      <td>0.933126</td>\n",
       "      <td>0.721960</td>\n",
       "      <td>0.410699</td>\n",
       "      <td>...</td>\n",
       "      <td>0.004929</td>\n",
       "      <td>0.072746</td>\n",
       "      <td>0.706250</td>\n",
       "      <td>0.053393</td>\n",
       "      <td>0.044878</td>\n",
       "      <td>0.051356</td>\n",
       "      <td>0.416040</td>\n",
       "      <td>0.029987</td>\n",
       "      <td>0.043478</td>\n",
       "      <td>0.022609</td>\n",
       "    </tr>\n",
       "    <tr>\n",
       "      <th>2</th>\n",
       "      <td>0.447375</td>\n",
       "      <td>0.528432</td>\n",
       "      <td>0.551465</td>\n",
       "      <td>0.056327</td>\n",
       "      <td>0.000660</td>\n",
       "      <td>0.0</td>\n",
       "      <td>0.518169</td>\n",
       "      <td>0.941680</td>\n",
       "      <td>0.388913</td>\n",
       "      <td>0.349439</td>\n",
       "      <td>...</td>\n",
       "      <td>0.006104</td>\n",
       "      <td>0.137369</td>\n",
       "      <td>0.687500</td>\n",
       "      <td>0.006807</td>\n",
       "      <td>0.005854</td>\n",
       "      <td>0.006784</td>\n",
       "      <td>0.415205</td>\n",
       "      <td>0.264668</td>\n",
       "      <td>0.210145</td>\n",
       "      <td>0.097020</td>\n",
       "    </tr>\n",
       "    <tr>\n",
       "      <th>3</th>\n",
       "      <td>0.258322</td>\n",
       "      <td>0.594789</td>\n",
       "      <td>0.641146</td>\n",
       "      <td>0.344321</td>\n",
       "      <td>0.001184</td>\n",
       "      <td>0.0</td>\n",
       "      <td>0.310383</td>\n",
       "      <td>0.965008</td>\n",
       "      <td>0.868070</td>\n",
       "      <td>0.213115</td>\n",
       "      <td>...</td>\n",
       "      <td>0.008107</td>\n",
       "      <td>0.094189</td>\n",
       "      <td>0.706250</td>\n",
       "      <td>0.023187</td>\n",
       "      <td>0.013659</td>\n",
       "      <td>0.022369</td>\n",
       "      <td>0.308271</td>\n",
       "      <td>0.225554</td>\n",
       "      <td>0.184783</td>\n",
       "      <td>0.139053</td>\n",
       "    </tr>\n",
       "    <tr>\n",
       "      <th>4</th>\n",
       "      <td>0.390387</td>\n",
       "      <td>0.444709</td>\n",
       "      <td>0.223595</td>\n",
       "      <td>0.060943</td>\n",
       "      <td>0.000676</td>\n",
       "      <td>0.0</td>\n",
       "      <td>0.517036</td>\n",
       "      <td>0.974339</td>\n",
       "      <td>0.538891</td>\n",
       "      <td>0.270923</td>\n",
       "      <td>...</td>\n",
       "      <td>0.003645</td>\n",
       "      <td>0.106163</td>\n",
       "      <td>0.650000</td>\n",
       "      <td>0.022761</td>\n",
       "      <td>0.017561</td>\n",
       "      <td>0.022155</td>\n",
       "      <td>0.452799</td>\n",
       "      <td>0.061278</td>\n",
       "      <td>0.072464</td>\n",
       "      <td>0.028563</td>\n",
       "    </tr>\n",
       "    <tr>\n",
       "      <th>...</th>\n",
       "      <td>...</td>\n",
       "      <td>...</td>\n",
       "      <td>...</td>\n",
       "      <td>...</td>\n",
       "      <td>...</td>\n",
       "      <td>...</td>\n",
       "      <td>...</td>\n",
       "      <td>...</td>\n",
       "      <td>...</td>\n",
       "      <td>...</td>\n",
       "      <td>...</td>\n",
       "      <td>...</td>\n",
       "      <td>...</td>\n",
       "      <td>...</td>\n",
       "      <td>...</td>\n",
       "      <td>...</td>\n",
       "      <td>...</td>\n",
       "      <td>...</td>\n",
       "      <td>...</td>\n",
       "      <td>...</td>\n",
       "      <td>...</td>\n",
       "    </tr>\n",
       "    <tr>\n",
       "      <th>1248</th>\n",
       "      <td>0.514834</td>\n",
       "      <td>0.499598</td>\n",
       "      <td>0.633465</td>\n",
       "      <td>0.279848</td>\n",
       "      <td>0.000763</td>\n",
       "      <td>0.0</td>\n",
       "      <td>0.363674</td>\n",
       "      <td>0.950233</td>\n",
       "      <td>0.463687</td>\n",
       "      <td>0.402934</td>\n",
       "      <td>...</td>\n",
       "      <td>0.011037</td>\n",
       "      <td>0.046873</td>\n",
       "      <td>0.750000</td>\n",
       "      <td>0.084025</td>\n",
       "      <td>0.075122</td>\n",
       "      <td>0.080425</td>\n",
       "      <td>0.131161</td>\n",
       "      <td>0.245111</td>\n",
       "      <td>0.224638</td>\n",
       "      <td>0.000000</td>\n",
       "    </tr>\n",
       "    <tr>\n",
       "      <th>1249</th>\n",
       "      <td>0.400711</td>\n",
       "      <td>0.436005</td>\n",
       "      <td>0.461173</td>\n",
       "      <td>0.076873</td>\n",
       "      <td>0.000110</td>\n",
       "      <td>0.0</td>\n",
       "      <td>0.464454</td>\n",
       "      <td>0.955677</td>\n",
       "      <td>0.842071</td>\n",
       "      <td>0.113891</td>\n",
       "      <td>...</td>\n",
       "      <td>0.004277</td>\n",
       "      <td>0.063768</td>\n",
       "      <td>0.618750</td>\n",
       "      <td>0.017656</td>\n",
       "      <td>0.011707</td>\n",
       "      <td>0.017140</td>\n",
       "      <td>0.384294</td>\n",
       "      <td>0.134289</td>\n",
       "      <td>0.126812</td>\n",
       "      <td>0.062954</td>\n",
       "    </tr>\n",
       "    <tr>\n",
       "      <th>1250</th>\n",
       "      <td>0.379214</td>\n",
       "      <td>0.518572</td>\n",
       "      <td>0.400208</td>\n",
       "      <td>0.109857</td>\n",
       "      <td>0.000674</td>\n",
       "      <td>0.0</td>\n",
       "      <td>0.387937</td>\n",
       "      <td>0.962675</td>\n",
       "      <td>0.657069</td>\n",
       "      <td>0.180328</td>\n",
       "      <td>...</td>\n",
       "      <td>0.002192</td>\n",
       "      <td>0.133981</td>\n",
       "      <td>0.675000</td>\n",
       "      <td>0.010636</td>\n",
       "      <td>0.012683</td>\n",
       "      <td>0.010439</td>\n",
       "      <td>0.390977</td>\n",
       "      <td>0.050847</td>\n",
       "      <td>0.036232</td>\n",
       "      <td>0.032067</td>\n",
       "    </tr>\n",
       "    <tr>\n",
       "      <th>1251</th>\n",
       "      <td>0.301610</td>\n",
       "      <td>0.527144</td>\n",
       "      <td>0.588952</td>\n",
       "      <td>0.157663</td>\n",
       "      <td>0.000518</td>\n",
       "      <td>0.0</td>\n",
       "      <td>0.441511</td>\n",
       "      <td>0.933904</td>\n",
       "      <td>0.546412</td>\n",
       "      <td>0.245039</td>\n",
       "      <td>...</td>\n",
       "      <td>0.010090</td>\n",
       "      <td>0.028083</td>\n",
       "      <td>0.743750</td>\n",
       "      <td>0.020208</td>\n",
       "      <td>0.014634</td>\n",
       "      <td>0.019422</td>\n",
       "      <td>0.182122</td>\n",
       "      <td>0.146023</td>\n",
       "      <td>0.134058</td>\n",
       "      <td>0.397748</td>\n",
       "    </tr>\n",
       "    <tr>\n",
       "      <th>1252</th>\n",
       "      <td>0.304350</td>\n",
       "      <td>0.499773</td>\n",
       "      <td>0.481728</td>\n",
       "      <td>0.292103</td>\n",
       "      <td>0.000851</td>\n",
       "      <td>0.0</td>\n",
       "      <td>0.439625</td>\n",
       "      <td>0.970451</td>\n",
       "      <td>0.781049</td>\n",
       "      <td>0.034513</td>\n",
       "      <td>...</td>\n",
       "      <td>0.013315</td>\n",
       "      <td>0.021651</td>\n",
       "      <td>0.646875</td>\n",
       "      <td>0.018081</td>\n",
       "      <td>0.024390</td>\n",
       "      <td>0.017656</td>\n",
       "      <td>0.302423</td>\n",
       "      <td>0.117340</td>\n",
       "      <td>0.108696</td>\n",
       "      <td>0.085560</td>\n",
       "    </tr>\n",
       "  </tbody>\n",
       "</table>\n",
       "<p>1253 rows × 558 columns</p>\n",
       "</div>"
      ],
      "text/plain": [
       "      Feature_1  Feature_2  Feature_3  Feature_4  Feature_5  Feature_6  \\\n",
       "0      0.541632   0.480126   0.488754   0.163123   0.000091        0.0   \n",
       "1      0.535532   0.477786   0.615529   0.237708   0.000969        0.0   \n",
       "2      0.447375   0.528432   0.551465   0.056327   0.000660        0.0   \n",
       "3      0.258322   0.594789   0.641146   0.344321   0.001184        0.0   \n",
       "4      0.390387   0.444709   0.223595   0.060943   0.000676        0.0   \n",
       "...         ...        ...        ...        ...        ...        ...   \n",
       "1248   0.514834   0.499598   0.633465   0.279848   0.000763        0.0   \n",
       "1249   0.400711   0.436005   0.461173   0.076873   0.000110        0.0   \n",
       "1250   0.379214   0.518572   0.400208   0.109857   0.000674        0.0   \n",
       "1251   0.301610   0.527144   0.588952   0.157663   0.000518        0.0   \n",
       "1252   0.304350   0.499773   0.481728   0.292103   0.000851        0.0   \n",
       "\n",
       "      Feature_7  Feature_8  Feature_9  Feature_10  ...  Feature_577  \\\n",
       "0      0.503337   0.939347   0.449506    0.223469  ...     0.002215   \n",
       "1      0.511968   0.933126   0.721960    0.410699  ...     0.004929   \n",
       "2      0.518169   0.941680   0.388913    0.349439  ...     0.006104   \n",
       "3      0.310383   0.965008   0.868070    0.213115  ...     0.008107   \n",
       "4      0.517036   0.974339   0.538891    0.270923  ...     0.003645   \n",
       "...         ...        ...        ...         ...  ...          ...   \n",
       "1248   0.363674   0.950233   0.463687    0.402934  ...     0.011037   \n",
       "1249   0.464454   0.955677   0.842071    0.113891  ...     0.004277   \n",
       "1250   0.387937   0.962675   0.657069    0.180328  ...     0.002192   \n",
       "1251   0.441511   0.933904   0.546412    0.245039  ...     0.010090   \n",
       "1252   0.439625   0.970451   0.781049    0.034513  ...     0.013315   \n",
       "\n",
       "      Feature_578  Feature_583  Feature_584  Feature_585  Feature_586  \\\n",
       "0        0.133392     0.612500     0.013401     0.012683     0.013183   \n",
       "1        0.072746     0.706250     0.053393     0.044878     0.051356   \n",
       "2        0.137369     0.687500     0.006807     0.005854     0.006784   \n",
       "3        0.094189     0.706250     0.023187     0.013659     0.022369   \n",
       "4        0.106163     0.650000     0.022761     0.017561     0.022155   \n",
       "...           ...          ...          ...          ...          ...   \n",
       "1248     0.046873     0.750000     0.084025     0.075122     0.080425   \n",
       "1249     0.063768     0.618750     0.017656     0.011707     0.017140   \n",
       "1250     0.133981     0.675000     0.010636     0.012683     0.010439   \n",
       "1251     0.028083     0.743750     0.020208     0.014634     0.019422   \n",
       "1252     0.021651     0.646875     0.018081     0.024390     0.017656   \n",
       "\n",
       "      Feature_587  Feature_588  Feature_589  Feature_590  \n",
       "0        0.327485     0.095176     0.086957     0.063839  \n",
       "1        0.416040     0.029987     0.043478     0.022609  \n",
       "2        0.415205     0.264668     0.210145     0.097020  \n",
       "3        0.308271     0.225554     0.184783     0.139053  \n",
       "4        0.452799     0.061278     0.072464     0.028563  \n",
       "...           ...          ...          ...          ...  \n",
       "1248     0.131161     0.245111     0.224638     0.000000  \n",
       "1249     0.384294     0.134289     0.126812     0.062954  \n",
       "1250     0.390977     0.050847     0.036232     0.032067  \n",
       "1251     0.182122     0.146023     0.134058     0.397748  \n",
       "1252     0.302423     0.117340     0.108696     0.085560  \n",
       "\n",
       "[1253 rows x 558 columns]"
      ]
     },
     "execution_count": 144,
     "metadata": {},
     "output_type": "execute_result"
    }
   ],
   "source": [
    "from sklearn import preprocessing\n",
    "from sklearn.preprocessing import MinMaxScaler\n",
    "normalized_x_train = X_train_knn\n",
    "normalized_x_train[normalized_x_train.columns] = MinMaxScaler().fit_transform(normalized_x_train[normalized_x_train.columns])\n",
    "normalized_x_train"
   ]
  },
  {
   "cell_type": "code",
   "execution_count": 145,
   "metadata": {
    "id": "ptyz1irjP4dv"
   },
   "outputs": [],
   "source": [
    "from sklearn.feature_selection import SelectKBest, chi2\n",
    "f_score = chi2(normalized_x_train,y_train)\n",
    "p_values = pd.Series(f_score[1])\n",
    "p_values.index = normalized_x_train.columns\n",
    "p_values.sort_values(ascending=True,inplace=True)\n",
    "significant = p_values[0:29]\n",
    "new = list(significant.index)\n",
    "X_train_chi = X_train_knn.loc[:, new]"
   ]
  },
  {
   "cell_type": "code",
   "execution_count": 146,
   "metadata": {
    "colab": {
     "base_uri": "https://localhost:8080/"
    },
    "id": "zZ_RWoboQQkg",
    "outputId": "70c00c97-a8b0-4412-95a3-e6abec319fd5"
   },
   "outputs": [
    {
     "data": {
      "text/plain": [
       "(314, 29)"
      ]
     },
     "execution_count": 146,
     "metadata": {},
     "output_type": "execute_result"
    }
   ],
   "source": [
    "# From test set deleting columns that are removed in training set\n",
    "X_test_chi = X_test_knn[np.array(X_train_chi.columns)]\n",
    "X_test_chi.shape"
   ]
  },
  {
   "cell_type": "code",
   "execution_count": 156,
   "metadata": {
    "colab": {
     "base_uri": "https://localhost:8080/",
     "height": 453
    },
    "id": "Ouzo6AHIQeSe",
    "outputId": "3896129f-16a9-4165-8f70-e7eb4bce6cb1"
   },
   "outputs": [
    {
     "name": "stdout",
     "output_type": "stream",
     "text": [
      "[[  0  21]\n",
      " [  6 287]]\n",
      "              precision    recall  f1-score   support\n",
      "\n",
      "           0       0.00      0.00      0.00        21\n",
      "           1       0.93      0.98      0.96       293\n",
      "\n",
      "    accuracy                           0.91       314\n",
      "   macro avg       0.47      0.49      0.48       314\n",
      "weighted avg       0.87      0.91      0.89       314\n",
      "\n",
      "Test Accuracy Score 0.9140127388535032\n"
     ]
    },
    {
     "data": {
      "image/png": "[encoded data removed]",
      "text/plain": [
       "<Figure size 576x396 with 2 Axes>"
      ]
     },
     "metadata": {},
     "output_type": "display_data"
    }
   ],
   "source": [
    "rfc(X_train_chi,X_test_chi,7)"
   ]
  },
  {
   "cell_type": "code",
   "execution_count": 155,
   "metadata": {},
   "outputs": [
    {
     "data": {
      "image/png": "[encoded data removed]",
      "text/plain": [
       "<Figure size 800x700 with 1 Axes>"
      ]
     },
     "metadata": {},
     "output_type": "display_data"
    },
    {
     "data": {
      "text/plain": [
       "(0.9331210191082803, 0.0)"
      ]
     },
     "execution_count": 155,
     "metadata": {},
     "output_type": "execute_result"
    },
    {
     "data": {
      "image/png": "[encoded data removed]",
      "text/plain": [
       "<Figure size 576x396 with 1 Axes>"
      ]
     },
     "metadata": {},
     "output_type": "display_data"
    }
   ],
   "source": [
    "evaluate(X_train_chi, X_test_chi, y_train, y_test)"
   ]
  },
  {
   "cell_type": "markdown",
   "metadata": {
    "id": "Y_a9D6_nQ6ZX"
   },
   "source": [
    "## Chi Square based on top values- 20 features"
   ]
  },
  {
   "cell_type": "code",
   "execution_count": 157,
   "metadata": {
    "id": "JJKznZnoQ-ib"
   },
   "outputs": [],
   "source": [
    "from sklearn.feature_selection import SelectKBest, chi2\n",
    "chi = SelectKBest(chi2, k=15).fit(normalized_x_train, y_train)\n",
    "new_c = normalized_x_train.columns[chi.get_support()]\n",
    "X_train_chi_k = X_train_knn.loc[:, new_c]"
   ]
  },
  {
   "cell_type": "code",
   "execution_count": 158,
   "metadata": {
    "colab": {
     "base_uri": "https://localhost:8080/"
    },
    "id": "mUyZg1AnTF9w",
    "outputId": "c2e0e33c-a1cb-4625-f80c-913a0bc4954b"
   },
   "outputs": [
    {
     "data": {
      "text/plain": [
       "(314, 15)"
      ]
     },
     "execution_count": 158,
     "metadata": {},
     "output_type": "execute_result"
    }
   ],
   "source": [
    "# From test set deleting columns that are removed in training set\n",
    "X_test_chi_k = X_test_knn[np.array(X_train_chi_k.columns)]\n",
    "X_test_chi_k.shape"
   ]
  },
  {
   "cell_type": "code",
   "execution_count": 159,
   "metadata": {
    "colab": {
     "base_uri": "https://localhost:8080/",
     "height": 453
    },
    "id": "J6lDwiNQTani",
    "outputId": "01e1246f-4e00-45c4-bca7-7b465833deed"
   },
   "outputs": [
    {
     "name": "stdout",
     "output_type": "stream",
     "text": [
      "[[  0  21]\n",
      " [  0 293]]\n",
      "              precision    recall  f1-score   support\n",
      "\n",
      "           0       0.00      0.00      0.00        21\n",
      "           1       0.93      1.00      0.97       293\n",
      "\n",
      "    accuracy                           0.93       314\n",
      "   macro avg       0.47      0.50      0.48       314\n",
      "weighted avg       0.87      0.93      0.90       314\n",
      "\n",
      "Test Accuracy Score 0.9331210191082803\n"
     ]
    },
    {
     "data": {
      "image/png": "[encoded data removed]",
      "text/plain": [
       "<Figure size 576x396 with 2 Axes>"
      ]
     },
     "metadata": {},
     "output_type": "display_data"
    }
   ],
   "source": [
    "rfc(X_train_chi_k,X_test_chi_k,7)"
   ]
  },
  {
   "cell_type": "code",
   "execution_count": 160,
   "metadata": {},
   "outputs": [
    {
     "data": {
      "image/png": "[encoded data removed]",
      "text/plain": [
       "<Figure size 800x700 with 1 Axes>"
      ]
     },
     "metadata": {},
     "output_type": "display_data"
    },
    {
     "data": {
      "text/plain": [
       "(0.22929936305732485, -0.05687380285651507)"
      ]
     },
     "execution_count": 160,
     "metadata": {},
     "output_type": "execute_result"
    },
    {
     "data": {
      "image/png": "[encoded data removed]",
      "text/plain": [
       "<Figure size 576x396 with 1 Axes>"
      ]
     },
     "metadata": {},
     "output_type": "display_data"
    }
   ],
   "source": [
    "evaluate(X_train_chi_k, X_test_chi_k, y_train, y_test)"
   ]
  },
  {
   "cell_type": "markdown",
   "metadata": {
    "id": "FMAunmEGUEJD"
   },
   "source": [
    "## Mutual Info gain - 15 features"
   ]
  },
  {
   "cell_type": "code",
   "execution_count": 161,
   "metadata": {
    "id": "XQNFgmfmUIFY"
   },
   "outputs": [],
   "source": [
    "from sklearn.feature_selection import mutual_info_classif\n",
    "mutual = mutual_info_classif(X_train_knn,y_train.values.ravel())\n",
    "from sklearn.feature_selection import SelectKBest\n",
    "top20 = SelectKBest(mutual_info_classif,k=15).fit(X_train_knn,y_train)\n",
    "new_m = X_train_knn.columns[top20.get_support()]\n",
    "X_train_m = X_train_knn.loc[:, new_m]"
   ]
  },
  {
   "cell_type": "code",
   "execution_count": 162,
   "metadata": {
    "colab": {
     "base_uri": "https://localhost:8080/"
    },
    "id": "e3tZmR8AU5bi",
    "outputId": "48e42c1c-f107-45c1-898b-d4e60407e9b9"
   },
   "outputs": [
    {
     "data": {
      "text/plain": [
       "(314, 15)"
      ]
     },
     "execution_count": 162,
     "metadata": {},
     "output_type": "execute_result"
    }
   ],
   "source": [
    "# From test set deleting columns that are removed in training set\n",
    "X_test_m = X_test_knn[np.array(X_train_m.columns)]\n",
    "X_test_m.shape"
   ]
  },
  {
   "cell_type": "code",
   "execution_count": 163,
   "metadata": {
    "colab": {
     "base_uri": "https://localhost:8080/",
     "height": 453
    },
    "id": "kaHiAaUGVoMo",
    "outputId": "55ca85a8-c0fe-4fb2-9a05-fecaee7b5aff"
   },
   "outputs": [
    {
     "name": "stdout",
     "output_type": "stream",
     "text": [
      "[[  0  21]\n",
      " [  0 293]]\n",
      "              precision    recall  f1-score   support\n",
      "\n",
      "           0       0.00      0.00      0.00        21\n",
      "           1       0.93      1.00      0.97       293\n",
      "\n",
      "    accuracy                           0.93       314\n",
      "   macro avg       0.47      0.50      0.48       314\n",
      "weighted avg       0.87      0.93      0.90       314\n",
      "\n",
      "Test Accuracy Score 0.9331210191082803\n"
     ]
    },
    {
     "data": {
      "image/png": "[encoded data removed]",
      "text/plain": [
       "<Figure size 576x396 with 2 Axes>"
      ]
     },
     "metadata": {},
     "output_type": "display_data"
    }
   ],
   "source": [
    "rfc(X_train_m,X_test_m,6)"
   ]
  },
  {
   "cell_type": "code",
   "execution_count": 165,
   "metadata": {},
   "outputs": [
    {
     "data": {
      "image/png": "[encoded data removed]",
      "text/plain": [
       "<Figure size 800x700 with 1 Axes>"
      ]
     },
     "metadata": {},
     "output_type": "display_data"
    },
    {
     "data": {
      "text/plain": [
       "(0.9299363057324841, -0.015132255601226411)"
      ]
     },
     "execution_count": 165,
     "metadata": {},
     "output_type": "execute_result"
    },
    {
     "data": {
      "image/png": "[encoded data removed]",
      "text/plain": [
       "<Figure size 576x396 with 1 Axes>"
      ]
     },
     "metadata": {},
     "output_type": "display_data"
    }
   ],
   "source": [
    "evaluate(X_train_m, X_test_m, y_train, y_test)"
   ]
  },
  {
   "cell_type": "markdown",
   "metadata": {
    "id": "JEes6zMUWPDN"
   },
   "source": [
    "## Lasso - 31 features"
   ]
  },
  {
   "cell_type": "code",
   "execution_count": 169,
   "metadata": {
    "id": "YpQivUBNXSPw"
   },
   "outputs": [],
   "source": [
    "import numpy as np\n",
    "import pandas as pd\n",
    "from sklearn.linear_model import Ridge, Lasso\n",
    "from sklearn.metrics import mean_squared_error,r2_score\n",
    "from sklearn.model_selection import train_test_split, cross_val_score\n",
    "from sklearn.feature_selection import SelectFromModel\n",
    "from sklearn import model_selection\n",
    "import matplotlib.pyplot as plt\n",
    "from sklearn.linear_model import RidgeCV, LassoCV\n",
    "import numpy as np\n",
    "from sklearn.preprocessing import StandardScaler\n",
    "from sklearn.pipeline import Pipeline\n",
    "from sklearn.model_selection import train_test_split, GridSearchCV\n",
    "from sklearn.linear_model import Lasso\n",
    "from sklearn.linear_model import Lasso, LogisticRegression"
   ]
  },
  {
   "cell_type": "code",
   "execution_count": 170,
   "metadata": {
    "id": "Fb0qHvJUXUqH"
   },
   "outputs": [],
   "source": [
    "## Selecting features using Lasso\n",
    "sel_ = SelectFromModel(Lasso(alpha=0.5))\n",
    "sel_.fit(X_train_knn, y_train)\n",
    "sel_.get_support()\n",
    "X_train_knn = pd.DataFrame(X_train_knn)"
   ]
  },
  {
   "cell_type": "code",
   "execution_count": 171,
   "metadata": {
    "colab": {
     "base_uri": "https://localhost:8080/"
    },
    "id": "rkSQONPLXXKC",
    "outputId": "94c3aaaa-a408-44e2-f989-2ae74b2fbaae"
   },
   "outputs": [
    {
     "name": "stdout",
     "output_type": "stream",
     "text": [
      "total features: 558\n",
      "selected features: 0\n",
      "features with coefficients shrank to zero: 558\n"
     ]
    }
   ],
   "source": [
    "#To See Selected set of features\n",
    "\n",
    "selected_feat = X_train_knn.columns[(sel_.get_support())]\n",
    "print('total features: {}'.format((X_train_knn.shape[1])))\n",
    "print('selected features: {}'.format(len(selected_feat)))\n",
    "print('features with coefficients shrank to zero: {}'.format(\n",
    "np.sum(sel_.estimator_.coef_ == 0)))"
   ]
  },
  {
   "cell_type": "code",
   "execution_count": 47,
   "metadata": {
    "colab": {
     "base_uri": "https://localhost:8080/"
    },
    "id": "42A1nOr1XY_E",
    "outputId": "71317ee6-3b87-4d98-9664-740edd8c221d"
   },
   "outputs": [
    {
     "data": {
      "text/plain": [
       "((1175, 0), (392, 0))"
      ]
     },
     "execution_count": 47,
     "metadata": {},
     "output_type": "execute_result"
    }
   ],
   "source": [
    "#Make a list of with the selected features\n",
    "removed_feats = X_train_knn.columns[(sel_.estimator_.coef_ == 0).ravel().tolist()]\n",
    "removed_feats\n",
    "\n",
    "X_train_lasso = sel_.transform(X_train_knn)\n",
    "X_test_lasso = sel_.transform(X_test_knn)\n",
    "X_train_lasso.shape, X_test_lasso.shape"
   ]
  },
  {
   "cell_type": "code",
   "execution_count": 48,
   "metadata": {
    "colab": {
     "base_uri": "https://localhost:8080/",
     "height": 346
    },
    "id": "FLS8Ql28XmCw",
    "outputId": "6e774c06-f144-4e56-e7b6-2f25965444cd"
   },
   "outputs": [
    {
     "ename": "ValueError",
     "evalue": "Found array with 0 feature(s) (shape=(1175, 0)) while a minimum of 1 is required by RandomForestClassifier.",
     "output_type": "error",
     "traceback": [
      "\u001b[1;31m---------------------------------------------------------------------------\u001b[0m",
      "\u001b[1;31mValueError\u001b[0m                                Traceback (most recent call last)",
      "\u001b[1;32mC:\\Users\\RASHMI~1\\AppData\\Local\\Temp/ipykernel_23968/1292107345.py\u001b[0m in \u001b[0;36m<module>\u001b[1;34m\u001b[0m\n\u001b[1;32m----> 1\u001b[1;33m \u001b[0mrfc\u001b[0m\u001b[1;33m(\u001b[0m\u001b[0mX_train_lasso\u001b[0m\u001b[1;33m,\u001b[0m\u001b[0mX_test_lasso\u001b[0m\u001b[1;33m,\u001b[0m\u001b[1;36m6\u001b[0m\u001b[1;33m)\u001b[0m\u001b[1;33m\u001b[0m\u001b[1;33m\u001b[0m\u001b[0m\n\u001b[0m",
      "\u001b[1;32mC:\\Users\\RASHMI~1\\AppData\\Local\\Temp/ipykernel_23968/1879499482.py\u001b[0m in \u001b[0;36mrfc\u001b[1;34m(X_train_rfc, X_test_rfc, max_depth)\u001b[0m\n\u001b[0;32m      1\u001b[0m \u001b[1;32mdef\u001b[0m \u001b[0mrfc\u001b[0m\u001b[1;33m(\u001b[0m\u001b[0mX_train_rfc\u001b[0m\u001b[1;33m,\u001b[0m\u001b[0mX_test_rfc\u001b[0m\u001b[1;33m,\u001b[0m\u001b[0mmax_depth\u001b[0m\u001b[1;33m)\u001b[0m\u001b[1;33m:\u001b[0m\u001b[1;33m\u001b[0m\u001b[1;33m\u001b[0m\u001b[0m\n\u001b[0;32m      2\u001b[0m   \u001b[0mmodel\u001b[0m \u001b[1;33m=\u001b[0m \u001b[0mRandomForestClassifier\u001b[0m\u001b[1;33m(\u001b[0m\u001b[0mn_estimators\u001b[0m\u001b[1;33m=\u001b[0m\u001b[1;36m100\u001b[0m\u001b[1;33m,\u001b[0m \u001b[0mcriterion\u001b[0m\u001b[1;33m=\u001b[0m\u001b[1;34m'entropy'\u001b[0m\u001b[1;33m,\u001b[0m \u001b[0mmax_depth\u001b[0m\u001b[1;33m=\u001b[0m\u001b[0mmax_depth\u001b[0m\u001b[1;33m)\u001b[0m\u001b[1;33m\u001b[0m\u001b[1;33m\u001b[0m\u001b[0m\n\u001b[1;32m----> 3\u001b[1;33m   \u001b[0mmodel\u001b[0m\u001b[1;33m.\u001b[0m\u001b[0mfit\u001b[0m\u001b[1;33m(\u001b[0m\u001b[0mX_train_rfc\u001b[0m\u001b[1;33m,\u001b[0m \u001b[0my_train\u001b[0m\u001b[1;33m)\u001b[0m\u001b[1;33m\u001b[0m\u001b[1;33m\u001b[0m\u001b[0m\n\u001b[0m\u001b[0;32m      4\u001b[0m   \u001b[0my_pred\u001b[0m \u001b[1;33m=\u001b[0m \u001b[0mmodel\u001b[0m\u001b[1;33m.\u001b[0m\u001b[0mpredict\u001b[0m\u001b[1;33m(\u001b[0m\u001b[0mX_test_rfc\u001b[0m\u001b[1;33m)\u001b[0m\u001b[1;33m\u001b[0m\u001b[1;33m\u001b[0m\u001b[0m\n\u001b[0;32m      5\u001b[0m   \u001b[0msns\u001b[0m\u001b[1;33m.\u001b[0m\u001b[0mheatmap\u001b[0m\u001b[1;33m(\u001b[0m\u001b[0mconfusion_matrix\u001b[0m\u001b[1;33m(\u001b[0m\u001b[0my_test\u001b[0m\u001b[1;33m,\u001b[0m \u001b[0my_pred\u001b[0m\u001b[1;33m)\u001b[0m\u001b[1;33m,\u001b[0m \u001b[0mannot\u001b[0m\u001b[1;33m=\u001b[0m\u001b[1;32mTrue\u001b[0m\u001b[1;33m,\u001b[0m \u001b[0mfmt\u001b[0m\u001b[1;33m=\u001b[0m\u001b[1;34m\"d\"\u001b[0m\u001b[1;33m,\u001b[0m \u001b[0myticklabels\u001b[0m \u001b[1;33m=\u001b[0m \u001b[1;33m[\u001b[0m\u001b[1;34m'Pred. Pass'\u001b[0m \u001b[1;33m,\u001b[0m \u001b[1;34m'Pred. Fail'\u001b[0m\u001b[1;33m]\u001b[0m \u001b[1;33m,\u001b[0m \u001b[0mxticklabels\u001b[0m \u001b[1;33m=\u001b[0m \u001b[1;33m[\u001b[0m\u001b[1;34m'Act. Pass'\u001b[0m\u001b[1;33m,\u001b[0m \u001b[1;34m'Act. Fail'\u001b[0m\u001b[1;33m]\u001b[0m\u001b[1;33m)\u001b[0m\u001b[1;33m\u001b[0m\u001b[1;33m\u001b[0m\u001b[0m\n",
      "\u001b[1;32mC:\\Users\\public\\anaconda3\\lib\\site-packages\\sklearn\\ensemble\\_forest.py\u001b[0m in \u001b[0;36mfit\u001b[1;34m(self, X, y, sample_weight)\u001b[0m\n\u001b[0;32m    329\u001b[0m         \u001b[1;32mif\u001b[0m \u001b[0missparse\u001b[0m\u001b[1;33m(\u001b[0m\u001b[0my\u001b[0m\u001b[1;33m)\u001b[0m\u001b[1;33m:\u001b[0m\u001b[1;33m\u001b[0m\u001b[1;33m\u001b[0m\u001b[0m\n\u001b[0;32m    330\u001b[0m             \u001b[1;32mraise\u001b[0m \u001b[0mValueError\u001b[0m\u001b[1;33m(\u001b[0m\u001b[1;34m\"sparse multilabel-indicator for y is not supported.\"\u001b[0m\u001b[1;33m)\u001b[0m\u001b[1;33m\u001b[0m\u001b[1;33m\u001b[0m\u001b[0m\n\u001b[1;32m--> 331\u001b[1;33m         X, y = self._validate_data(\n\u001b[0m\u001b[0;32m    332\u001b[0m             \u001b[0mX\u001b[0m\u001b[1;33m,\u001b[0m \u001b[0my\u001b[0m\u001b[1;33m,\u001b[0m \u001b[0mmulti_output\u001b[0m\u001b[1;33m=\u001b[0m\u001b[1;32mTrue\u001b[0m\u001b[1;33m,\u001b[0m \u001b[0maccept_sparse\u001b[0m\u001b[1;33m=\u001b[0m\u001b[1;34m\"csc\"\u001b[0m\u001b[1;33m,\u001b[0m \u001b[0mdtype\u001b[0m\u001b[1;33m=\u001b[0m\u001b[0mDTYPE\u001b[0m\u001b[1;33m\u001b[0m\u001b[1;33m\u001b[0m\u001b[0m\n\u001b[0;32m    333\u001b[0m         )\n",
      "\u001b[1;32mC:\\Users\\public\\anaconda3\\lib\\site-packages\\sklearn\\base.py\u001b[0m in \u001b[0;36m_validate_data\u001b[1;34m(self, X, y, reset, validate_separately, **check_params)\u001b[0m\n\u001b[0;32m    594\u001b[0m                 \u001b[0my\u001b[0m \u001b[1;33m=\u001b[0m \u001b[0mcheck_array\u001b[0m\u001b[1;33m(\u001b[0m\u001b[0my\u001b[0m\u001b[1;33m,\u001b[0m \u001b[0minput_name\u001b[0m\u001b[1;33m=\u001b[0m\u001b[1;34m\"y\"\u001b[0m\u001b[1;33m,\u001b[0m \u001b[1;33m**\u001b[0m\u001b[0mcheck_y_params\u001b[0m\u001b[1;33m)\u001b[0m\u001b[1;33m\u001b[0m\u001b[1;33m\u001b[0m\u001b[0m\n\u001b[0;32m    595\u001b[0m             \u001b[1;32melse\u001b[0m\u001b[1;33m:\u001b[0m\u001b[1;33m\u001b[0m\u001b[1;33m\u001b[0m\u001b[0m\n\u001b[1;32m--> 596\u001b[1;33m                 \u001b[0mX\u001b[0m\u001b[1;33m,\u001b[0m \u001b[0my\u001b[0m \u001b[1;33m=\u001b[0m \u001b[0mcheck_X_y\u001b[0m\u001b[1;33m(\u001b[0m\u001b[0mX\u001b[0m\u001b[1;33m,\u001b[0m \u001b[0my\u001b[0m\u001b[1;33m,\u001b[0m \u001b[1;33m**\u001b[0m\u001b[0mcheck_params\u001b[0m\u001b[1;33m)\u001b[0m\u001b[1;33m\u001b[0m\u001b[1;33m\u001b[0m\u001b[0m\n\u001b[0m\u001b[0;32m    597\u001b[0m             \u001b[0mout\u001b[0m \u001b[1;33m=\u001b[0m \u001b[0mX\u001b[0m\u001b[1;33m,\u001b[0m \u001b[0my\u001b[0m\u001b[1;33m\u001b[0m\u001b[1;33m\u001b[0m\u001b[0m\n\u001b[0;32m    598\u001b[0m \u001b[1;33m\u001b[0m\u001b[0m\n",
      "\u001b[1;32mC:\\Users\\public\\anaconda3\\lib\\site-packages\\sklearn\\utils\\validation.py\u001b[0m in \u001b[0;36mcheck_X_y\u001b[1;34m(X, y, accept_sparse, accept_large_sparse, dtype, order, copy, force_all_finite, ensure_2d, allow_nd, multi_output, ensure_min_samples, ensure_min_features, y_numeric, estimator)\u001b[0m\n\u001b[0;32m   1072\u001b[0m         )\n\u001b[0;32m   1073\u001b[0m \u001b[1;33m\u001b[0m\u001b[0m\n\u001b[1;32m-> 1074\u001b[1;33m     X = check_array(\n\u001b[0m\u001b[0;32m   1075\u001b[0m         \u001b[0mX\u001b[0m\u001b[1;33m,\u001b[0m\u001b[1;33m\u001b[0m\u001b[1;33m\u001b[0m\u001b[0m\n\u001b[0;32m   1076\u001b[0m         \u001b[0maccept_sparse\u001b[0m\u001b[1;33m=\u001b[0m\u001b[0maccept_sparse\u001b[0m\u001b[1;33m,\u001b[0m\u001b[1;33m\u001b[0m\u001b[1;33m\u001b[0m\u001b[0m\n",
      "\u001b[1;32mC:\\Users\\public\\anaconda3\\lib\\site-packages\\sklearn\\utils\\validation.py\u001b[0m in \u001b[0;36mcheck_array\u001b[1;34m(array, accept_sparse, accept_large_sparse, dtype, order, copy, force_all_finite, ensure_2d, allow_nd, ensure_min_samples, ensure_min_features, estimator, input_name)\u001b[0m\n\u001b[0;32m    916\u001b[0m         \u001b[0mn_features\u001b[0m \u001b[1;33m=\u001b[0m \u001b[0marray\u001b[0m\u001b[1;33m.\u001b[0m\u001b[0mshape\u001b[0m\u001b[1;33m[\u001b[0m\u001b[1;36m1\u001b[0m\u001b[1;33m]\u001b[0m\u001b[1;33m\u001b[0m\u001b[1;33m\u001b[0m\u001b[0m\n\u001b[0;32m    917\u001b[0m         \u001b[1;32mif\u001b[0m \u001b[0mn_features\u001b[0m \u001b[1;33m<\u001b[0m \u001b[0mensure_min_features\u001b[0m\u001b[1;33m:\u001b[0m\u001b[1;33m\u001b[0m\u001b[1;33m\u001b[0m\u001b[0m\n\u001b[1;32m--> 918\u001b[1;33m             raise ValueError(\n\u001b[0m\u001b[0;32m    919\u001b[0m                 \u001b[1;34m\"Found array with %d feature(s) (shape=%s) while\"\u001b[0m\u001b[1;33m\u001b[0m\u001b[1;33m\u001b[0m\u001b[0m\n\u001b[0;32m    920\u001b[0m                 \u001b[1;34m\" a minimum of %d is required%s.\"\u001b[0m\u001b[1;33m\u001b[0m\u001b[1;33m\u001b[0m\u001b[0m\n",
      "\u001b[1;31mValueError\u001b[0m: Found array with 0 feature(s) (shape=(1175, 0)) while a minimum of 1 is required by RandomForestClassifier."
     ]
    }
   ],
   "source": [
    "rfc(X_train_lasso,X_test_lasso,6)"
   ]
  },
  {
   "cell_type": "code",
   "execution_count": 49,
   "metadata": {
    "id": "67O0y7ddZzhk"
   },
   "outputs": [],
   "source": [
    "#importing the necessary libraries\n",
    "from mlxtend.feature_selection import SequentialFeatureSelector as SFS\n",
    "from sklearn.linear_model import LinearRegression\n",
    "# Sequential Forward Selection(sfs)\n",
    "sfs = SFS(LinearRegression(),k_features=15,forward=True,verbose=True,scoring='neg_mean_squared_error')"
   ]
  },
  {
   "cell_type": "code",
   "execution_count": 50,
   "metadata": {},
   "outputs": [
    {
     "name": "stderr",
     "output_type": "stream",
     "text": [
      "[Parallel(n_jobs=1)]: Using backend SequentialBackend with 1 concurrent workers.\n",
      "[Parallel(n_jobs=1)]: Done 442 out of 442 | elapsed:    8.0s finished\n",
      "Features: 1/15[Parallel(n_jobs=1)]: Using backend SequentialBackend with 1 concurrent workers.\n",
      "[Parallel(n_jobs=1)]: Done 441 out of 441 | elapsed:    7.0s finished\n",
      "Features: 2/15[Parallel(n_jobs=1)]: Using backend SequentialBackend with 1 concurrent workers.\n",
      "[Parallel(n_jobs=1)]: Done 440 out of 440 | elapsed:    7.0s finished\n",
      "Features: 3/15[Parallel(n_jobs=1)]: Using backend SequentialBackend with 1 concurrent workers.\n",
      "[Parallel(n_jobs=1)]: Done 439 out of 439 | elapsed:    6.9s finished\n",
      "Features: 4/15[Parallel(n_jobs=1)]: Using backend SequentialBackend with 1 concurrent workers.\n",
      "[Parallel(n_jobs=1)]: Done 438 out of 438 | elapsed:    6.9s finished\n",
      "Features: 5/15[Parallel(n_jobs=1)]: Using backend SequentialBackend with 1 concurrent workers.\n",
      "[Parallel(n_jobs=1)]: Done 437 out of 437 | elapsed:    7.1s finished\n",
      "Features: 6/15[Parallel(n_jobs=1)]: Using backend SequentialBackend with 1 concurrent workers.\n",
      "[Parallel(n_jobs=1)]: Done 436 out of 436 | elapsed:    7.2s finished\n",
      "Features: 7/15[Parallel(n_jobs=1)]: Using backend SequentialBackend with 1 concurrent workers.\n",
      "[Parallel(n_jobs=1)]: Done 435 out of 435 | elapsed:    7.0s finished\n",
      "Features: 8/15[Parallel(n_jobs=1)]: Using backend SequentialBackend with 1 concurrent workers.\n",
      "[Parallel(n_jobs=1)]: Done 434 out of 434 | elapsed:    7.2s finished\n",
      "Features: 9/15[Parallel(n_jobs=1)]: Using backend SequentialBackend with 1 concurrent workers.\n",
      "[Parallel(n_jobs=1)]: Done 433 out of 433 | elapsed:    7.1s finished\n",
      "Features: 10/15[Parallel(n_jobs=1)]: Using backend SequentialBackend with 1 concurrent workers.\n",
      "[Parallel(n_jobs=1)]: Done 432 out of 432 | elapsed:    7.2s finished\n",
      "Features: 11/15[Parallel(n_jobs=1)]: Using backend SequentialBackend with 1 concurrent workers.\n",
      "[Parallel(n_jobs=1)]: Done 431 out of 431 | elapsed:    7.2s finished\n",
      "Features: 12/15[Parallel(n_jobs=1)]: Using backend SequentialBackend with 1 concurrent workers.\n",
      "[Parallel(n_jobs=1)]: Done 430 out of 430 | elapsed:    7.3s finished\n",
      "Features: 13/15[Parallel(n_jobs=1)]: Using backend SequentialBackend with 1 concurrent workers.\n",
      "[Parallel(n_jobs=1)]: Done 429 out of 429 | elapsed:    7.3s finished\n",
      "Features: 14/15[Parallel(n_jobs=1)]: Using backend SequentialBackend with 1 concurrent workers.\n",
      "[Parallel(n_jobs=1)]: Done 428 out of 428 | elapsed:    7.3s finished\n",
      "Features: 15/15"
     ]
    },
    {
     "name": "stdout",
     "output_type": "stream",
     "text": [
      "['Feature_22', 'Feature_60', 'Feature_65', 'Feature_76', 'Feature_87', 'Feature_104', 'Feature_114', 'Feature_122', 'Feature_130', 'Feature_206', 'Feature_250', 'Feature_311', 'Feature_320', 'Feature_481', 'Feature_574']\n"
     ]
    }
   ],
   "source": [
    "sfs.fit(X_train_knn, y_train)\n",
    "sfs_list = list(sfs.k_feature_names_)\n",
    "print(sfs_list)\n"
   ]
  },
  {
   "cell_type": "code",
   "execution_count": 51,
   "metadata": {},
   "outputs": [],
   "source": [
    "# creating a new dataframe using the above variables and adding the target variable\n",
    "X_train_sfs = X_train_knn[sfs_list]"
   ]
  },
  {
   "cell_type": "code",
   "execution_count": 52,
   "metadata": {},
   "outputs": [
    {
     "data": {
      "text/plain": [
       "(392, 15)"
      ]
     },
     "execution_count": 52,
     "metadata": {},
     "output_type": "execute_result"
    }
   ],
   "source": [
    "# From test set deleting columns that are removed in training set\n",
    "X_test_sfs = X_test_knn[np.array(X_train_sfs.columns)]\n",
    "X_test_sfs.shape"
   ]
  },
  {
   "cell_type": "code",
   "execution_count": 53,
   "metadata": {},
   "outputs": [
    {
     "name": "stdout",
     "output_type": "stream",
     "text": [
      "              precision    recall  f1-score   support\n",
      "\n",
      "           0       0.00      0.00      0.00        26\n",
      "           1       0.93      1.00      0.97       366\n",
      "\n",
      "    accuracy                           0.93       392\n",
      "   macro avg       0.47      0.50      0.48       392\n",
      "weighted avg       0.87      0.93      0.90       392\n",
      "\n",
      "Test Accuracy Score 0.9336734693877551\n"
     ]
    },
    {
     "data": {
      "image/png": "[encoded data removed]",
      "text/plain": [
       "<Figure size 432x288 with 2 Axes>"
      ]
     },
     "metadata": {
      "needs_background": "light"
     },
     "output_type": "display_data"
    }
   ],
   "source": [
    "rfc(X_train_sfs,X_test_sfs,4)"
   ]
  },
  {
   "cell_type": "markdown",
   "metadata": {},
   "source": [
    "## Backward elimination"
   ]
  },
  {
   "cell_type": "code",
   "execution_count": 54,
   "metadata": {},
   "outputs": [
    {
     "name": "stderr",
     "output_type": "stream",
     "text": [
      "[Parallel(n_jobs=1)]: Using backend SequentialBackend with 1 concurrent workers.\n",
      "[Parallel(n_jobs=1)]: Done 442 out of 442 | elapsed:  1.5min finished\n",
      "Features: 441/15[Parallel(n_jobs=1)]: Using backend SequentialBackend with 1 concurrent workers.\n",
      "[Parallel(n_jobs=1)]: Done 441 out of 441 | elapsed:  1.5min finished\n",
      "Features: 440/15[Parallel(n_jobs=1)]: Using backend SequentialBackend with 1 concurrent workers.\n",
      "[Parallel(n_jobs=1)]: Done 440 out of 440 | elapsed:  1.5min finished\n",
      "Features: 439/15[Parallel(n_jobs=1)]: Using backend SequentialBackend with 1 concurrent workers.\n",
      "[Parallel(n_jobs=1)]: Done 439 out of 439 | elapsed:  1.5min finished\n",
      "Features: 438/15[Parallel(n_jobs=1)]: Using backend SequentialBackend with 1 concurrent workers.\n",
      "[Parallel(n_jobs=1)]: Done 438 out of 438 | elapsed:  1.5min finished\n",
      "Features: 437/15[Parallel(n_jobs=1)]: Using backend SequentialBackend with 1 concurrent workers.\n",
      "[Parallel(n_jobs=1)]: Done 437 out of 437 | elapsed:  1.4min finished\n",
      "Features: 436/15[Parallel(n_jobs=1)]: Using backend SequentialBackend with 1 concurrent workers.\n",
      "[Parallel(n_jobs=1)]: Done 436 out of 436 | elapsed:  1.5min finished\n",
      "Features: 435/15[Parallel(n_jobs=1)]: Using backend SequentialBackend with 1 concurrent workers.\n",
      "[Parallel(n_jobs=1)]: Done 435 out of 435 | elapsed:  1.4min finished\n",
      "Features: 434/15[Parallel(n_jobs=1)]: Using backend SequentialBackend with 1 concurrent workers.\n",
      "[Parallel(n_jobs=1)]: Done 434 out of 434 | elapsed:  1.4min finished\n",
      "Features: 433/15[Parallel(n_jobs=1)]: Using backend SequentialBackend with 1 concurrent workers.\n",
      "[Parallel(n_jobs=1)]: Done 433 out of 433 | elapsed:  1.4min finished\n",
      "Features: 432/15[Parallel(n_jobs=1)]: Using backend SequentialBackend with 1 concurrent workers.\n",
      "[Parallel(n_jobs=1)]: Done 432 out of 432 | elapsed:  1.4min finished\n",
      "Features: 431/15[Parallel(n_jobs=1)]: Using backend SequentialBackend with 1 concurrent workers.\n",
      "[Parallel(n_jobs=1)]: Done 431 out of 431 | elapsed:  1.4min finished\n",
      "Features: 430/15[Parallel(n_jobs=1)]: Using backend SequentialBackend with 1 concurrent workers.\n",
      "[Parallel(n_jobs=1)]: Done 430 out of 430 | elapsed:  1.4min finished\n",
      "Features: 429/15[Parallel(n_jobs=1)]: Using backend SequentialBackend with 1 concurrent workers.\n",
      "[Parallel(n_jobs=1)]: Done 429 out of 429 | elapsed:  1.4min finished\n",
      "Features: 428/15[Parallel(n_jobs=1)]: Using backend SequentialBackend with 1 concurrent workers.\n",
      "[Parallel(n_jobs=1)]: Done 428 out of 428 | elapsed:  1.4min finished\n",
      "Features: 427/15[Parallel(n_jobs=1)]: Using backend SequentialBackend with 1 concurrent workers.\n",
      "[Parallel(n_jobs=1)]: Done 427 out of 427 | elapsed:  1.4min finished\n",
      "Features: 426/15[Parallel(n_jobs=1)]: Using backend SequentialBackend with 1 concurrent workers.\n",
      "[Parallel(n_jobs=1)]: Done 426 out of 426 | elapsed:  1.4min finished\n",
      "Features: 425/15[Parallel(n_jobs=1)]: Using backend SequentialBackend with 1 concurrent workers.\n"
     ]
    },
    {
     "name": "stdout",
     "output_type": "stream",
     "text": [
      "['Feature_1', 'Feature_2', 'Feature_3', 'Feature_4', 'Feature_5', 'Feature_7', 'Feature_8', 'Feature_9', 'Feature_10', 'Feature_11', 'Feature_12', 'Feature_13', 'Feature_15', 'Feature_16', 'Feature_17', 'Feature_18', 'Feature_19', 'Feature_20', 'Feature_21', 'Feature_22', 'Feature_23', 'Feature_24', 'Feature_25', 'Feature_26', 'Feature_27', 'Feature_28', 'Feature_29', 'Feature_30', 'Feature_31', 'Feature_32', 'Feature_33', 'Feature_34', 'Feature_35', 'Feature_36', 'Feature_37', 'Feature_38', 'Feature_39', 'Feature_40', 'Feature_41', 'Feature_42', 'Feature_44', 'Feature_45', 'Feature_46', 'Feature_47', 'Feature_48', 'Feature_49', 'Feature_54', 'Feature_55', 'Feature_56', 'Feature_57', 'Feature_58', 'Feature_60', 'Feature_61', 'Feature_62', 'Feature_63', 'Feature_64', 'Feature_65', 'Feature_66', 'Feature_67', 'Feature_68', 'Feature_69', 'Feature_71', 'Feature_72', 'Feature_75', 'Feature_76', 'Feature_77', 'Feature_78', 'Feature_79', 'Feature_80', 'Feature_81', 'Feature_82', 'Feature_83', 'Feature_84', 'Feature_85', 'Feature_87', 'Feature_88', 'Feature_89', 'Feature_90', 'Feature_91', 'Feature_92', 'Feature_93', 'Feature_94', 'Feature_95', 'Feature_96', 'Feature_97', 'Feature_100', 'Feature_101', 'Feature_102', 'Feature_103', 'Feature_104', 'Feature_105', 'Feature_106', 'Feature_107', 'Feature_108', 'Feature_109', 'Feature_114', 'Feature_115', 'Feature_116', 'Feature_117', 'Feature_118', 'Feature_119', 'Feature_120', 'Feature_121', 'Feature_122', 'Feature_123', 'Feature_124', 'Feature_126', 'Feature_127', 'Feature_128', 'Feature_129', 'Feature_130', 'Feature_131', 'Feature_132', 'Feature_133', 'Feature_134', 'Feature_135', 'Feature_136', 'Feature_137', 'Feature_138', 'Feature_139', 'Feature_140', 'Feature_141', 'Feature_143', 'Feature_144', 'Feature_145', 'Feature_146', 'Feature_147', 'Feature_148', 'Feature_149', 'Feature_151', 'Feature_152', 'Feature_154', 'Feature_155', 'Feature_156', 'Feature_157', 'Feature_160', 'Feature_161', 'Feature_162', 'Feature_163', 'Feature_164', 'Feature_165', 'Feature_166', 'Feature_167', 'Feature_168', 'Feature_169', 'Feature_170', 'Feature_171', 'Feature_172', 'Feature_173', 'Feature_174', 'Feature_175', 'Feature_176', 'Feature_177', 'Feature_178', 'Feature_181', 'Feature_182', 'Feature_183', 'Feature_184', 'Feature_185', 'Feature_186', 'Feature_188', 'Feature_189', 'Feature_196', 'Feature_197', 'Feature_198', 'Feature_199', 'Feature_200', 'Feature_202', 'Feature_203', 'Feature_204', 'Feature_205', 'Feature_206', 'Feature_207', 'Feature_208', 'Feature_209', 'Feature_210', 'Feature_211', 'Feature_212', 'Feature_213', 'Feature_214', 'Feature_215', 'Feature_216', 'Feature_217', 'Feature_218', 'Feature_219', 'Feature_220', 'Feature_222', 'Feature_223', 'Feature_224', 'Feature_225', 'Feature_226', 'Feature_228', 'Feature_229', 'Feature_239', 'Feature_240', 'Feature_249', 'Feature_250', 'Feature_251', 'Feature_252', 'Feature_253', 'Feature_254', 'Feature_255', 'Feature_256', 'Feature_268', 'Feature_269', 'Feature_270', 'Feature_271', 'Feature_272', 'Feature_273', 'Feature_274', 'Feature_275', 'Feature_276', 'Feature_278', 'Feature_279', 'Feature_280', 'Feature_281', 'Feature_282', 'Feature_283', 'Feature_284', 'Feature_286', 'Feature_287', 'Feature_288', 'Feature_289', 'Feature_290', 'Feature_291', 'Feature_292', 'Feature_295', 'Feature_296', 'Feature_297', 'Feature_298', 'Feature_300', 'Feature_301', 'Feature_302', 'Feature_303', 'Feature_304', 'Feature_305', 'Feature_306', 'Feature_307', 'Feature_308', 'Feature_309', 'Feature_310', 'Feature_311', 'Feature_312', 'Feature_313', 'Feature_317', 'Feature_318', 'Feature_319', 'Feature_320', 'Feature_321', 'Feature_322', 'Feature_324', 'Feature_325', 'Feature_332', 'Feature_333', 'Feature_334', 'Feature_335', 'Feature_337', 'Feature_338', 'Feature_340', 'Feature_341', 'Feature_342', 'Feature_343', 'Feature_344', 'Feature_348', 'Feature_349', 'Feature_350', 'Feature_351', 'Feature_352', 'Feature_353', 'Feature_354', 'Feature_355', 'Feature_356', 'Feature_357', 'Feature_358', 'Feature_360', 'Feature_361', 'Feature_362', 'Feature_363', 'Feature_364', 'Feature_366', 'Feature_367', 'Feature_368', 'Feature_369', 'Feature_377', 'Feature_378', 'Feature_387', 'Feature_388', 'Feature_389', 'Feature_390', 'Feature_391', 'Feature_392', 'Feature_393', 'Feature_394', 'Feature_406', 'Feature_407', 'Feature_408', 'Feature_409', 'Feature_410', 'Feature_411', 'Feature_412', 'Feature_413', 'Feature_414', 'Feature_416', 'Feature_417', 'Feature_418', 'Feature_419', 'Feature_420', 'Feature_422', 'Feature_424', 'Feature_425', 'Feature_426', 'Feature_427', 'Feature_428', 'Feature_429', 'Feature_430', 'Feature_431', 'Feature_432', 'Feature_433', 'Feature_434', 'Feature_435', 'Feature_437', 'Feature_438', 'Feature_439', 'Feature_441', 'Feature_442', 'Feature_443', 'Feature_444', 'Feature_445', 'Feature_446', 'Feature_447', 'Feature_448', 'Feature_449', 'Feature_453', 'Feature_454', 'Feature_456', 'Feature_457', 'Feature_458', 'Feature_460', 'Feature_461', 'Feature_468', 'Feature_469', 'Feature_470', 'Feature_471', 'Feature_472', 'Feature_473', 'Feature_474', 'Feature_475', 'Feature_476', 'Feature_477', 'Feature_479', 'Feature_480', 'Feature_481', 'Feature_483', 'Feature_484', 'Feature_485', 'Feature_486', 'Feature_487', 'Feature_488', 'Feature_489', 'Feature_490', 'Feature_491', 'Feature_492', 'Feature_494', 'Feature_495', 'Feature_496', 'Feature_497', 'Feature_498', 'Feature_500', 'Feature_501', 'Feature_511', 'Feature_512', 'Feature_521', 'Feature_522', 'Feature_523', 'Feature_524', 'Feature_526', 'Feature_527', 'Feature_528', 'Feature_540', 'Feature_541', 'Feature_542', 'Feature_543', 'Feature_544', 'Feature_545', 'Feature_546', 'Feature_547', 'Feature_548', 'Feature_549', 'Feature_550', 'Feature_551', 'Feature_552', 'Feature_553', 'Feature_554', 'Feature_555', 'Feature_556', 'Feature_557', 'Feature_558', 'Feature_559', 'Feature_560', 'Feature_561', 'Feature_562', 'Feature_563', 'Feature_564', 'Feature_565', 'Feature_566', 'Feature_567', 'Feature_568', 'Feature_569', 'Feature_570', 'Feature_571', 'Feature_572', 'Feature_573', 'Feature_574', 'Feature_575', 'Feature_576', 'Feature_577', 'Feature_578', 'Feature_583', 'Feature_584', 'Feature_585', 'Feature_586', 'Feature_587', 'Feature_588', 'Feature_589', 'Feature_590']\n"
     ]
    },
    {
     "name": "stderr",
     "output_type": "stream",
     "text": [
      "\n",
      "STOPPING EARLY DUE TO KEYBOARD INTERRUPT..."
     ]
    },
    {
     "data": {
      "text/plain": [
       "(392, 425)"
      ]
     },
     "execution_count": 54,
     "metadata": {},
     "output_type": "execute_result"
    }
   ],
   "source": [
    "#importing the necessary libraries\n",
    "from mlxtend.feature_selection import SequentialFeatureSelector as SFS\n",
    "from sklearn.linear_model import LinearRegression\n",
    "# Sequential Backward Selection(sbs)\n",
    "sbs = SFS(LinearRegression(),k_features=15,forward=False,verbose=True,scoring='neg_mean_squared_error')\n",
    "sbs.fit(X_train_knn, y_train)\n",
    "sbs_list = list(sbs.k_feature_names_)\n",
    "print(sbs_list)\n",
    "# creating a new dataframe using the above variables and adding the target variable\n",
    "X_train_sbs = X_train_knn[sbs_list]\n",
    "# From test set deleting columns that are removed in training set\n",
    "X_test_sbs = X_test_knn[np.array(X_train_sbs.columns)]\n",
    "X_test_sbs.shape"
   ]
  },
  {
   "cell_type": "code",
   "execution_count": 55,
   "metadata": {},
   "outputs": [
    {
     "name": "stdout",
     "output_type": "stream",
     "text": [
      "              precision    recall  f1-score   support\n",
      "\n",
      "           0       0.00      0.00      0.00        26\n",
      "           1       0.93      1.00      0.97       366\n",
      "\n",
      "    accuracy                           0.93       392\n",
      "   macro avg       0.47      0.50      0.48       392\n",
      "weighted avg       0.87      0.93      0.90       392\n",
      "\n",
      "Test Accuracy Score 0.9336734693877551\n"
     ]
    },
    {
     "data": {
      "image/png": "[encoded data removed]",
      "text/plain": [
       "<Figure size 432x288 with 2 Axes>"
      ]
     },
     "metadata": {
      "needs_background": "light"
     },
     "output_type": "display_data"
    }
   ],
   "source": [
    "rfc(X_train_sbs,X_test_sbs,6)"
   ]
  },
  {
   "cell_type": "markdown",
   "metadata": {},
   "source": [
    "## Exhaustive search"
   ]
  },
  {
   "cell_type": "code",
   "execution_count": 59,
   "metadata": {},
   "outputs": [],
   "source": [
    "#importing the necessary libraries\n",
    "from mlxtend.feature_selection import SequentialFeatureSelector as SFS\n",
    "from sklearn.ensemble import RandomForestClassifier\n",
    "from mlxtend.feature_selection import ExhaustiveFeatureSelector as EFS\n",
    "\n"
   ]
  },
  {
   "cell_type": "code",
   "execution_count": 60,
   "metadata": {},
   "outputs": [],
   "source": [
    "efs = EFS(RandomForestClassifier(n_jobs=4),min_features=15,max_features=20,scoring='roc_auc',\n",
    "           print_progress=True,cv=2,n_jobs=4) "
   ]
  },
  {
   "cell_type": "code",
   "execution_count": 63,
   "metadata": {},
   "outputs": [
    {
     "ename": "KeyboardInterrupt",
     "evalue": "",
     "output_type": "error",
     "traceback": [
      "\u001b[1;31m---------------------------------------------------------------------------\u001b[0m",
      "\u001b[1;31mKeyboardInterrupt\u001b[0m                         Traceback (most recent call last)",
      "\u001b[1;32mC:\\Users\\RASHMI~1\\AppData\\Local\\Temp/ipykernel_23968/1740025916.py\u001b[0m in \u001b[0;36m<module>\u001b[1;34m\u001b[0m\n\u001b[1;32m----> 1\u001b[1;33m \u001b[0mefs\u001b[0m\u001b[1;33m.\u001b[0m\u001b[0mfit\u001b[0m\u001b[1;33m(\u001b[0m\u001b[0mX_train_knn\u001b[0m\u001b[1;33m,\u001b[0m \u001b[0my_train\u001b[0m\u001b[1;33m.\u001b[0m\u001b[0mvalues\u001b[0m\u001b[1;33m.\u001b[0m\u001b[0mravel\u001b[0m\u001b[1;33m(\u001b[0m\u001b[1;33m)\u001b[0m\u001b[1;33m)\u001b[0m\u001b[1;33m\u001b[0m\u001b[1;33m\u001b[0m\u001b[0m\n\u001b[0m",
      "\u001b[1;32mC:\\Users\\public\\anaconda3\\lib\\site-packages\\mlxtend\\feature_selection\\exhaustive_feature_selector.py\u001b[0m in \u001b[0;36mfit\u001b[1;34m(self, X, y, custom_feature_names, groups, **fit_params)\u001b[0m\n\u001b[0;32m    292\u001b[0m         \u001b[0mparallel\u001b[0m \u001b[1;33m=\u001b[0m \u001b[0mParallel\u001b[0m\u001b[1;33m(\u001b[0m\u001b[0mn_jobs\u001b[0m\u001b[1;33m=\u001b[0m\u001b[0mn_jobs\u001b[0m\u001b[1;33m,\u001b[0m \u001b[0mpre_dispatch\u001b[0m\u001b[1;33m=\u001b[0m\u001b[0mself\u001b[0m\u001b[1;33m.\u001b[0m\u001b[0mpre_dispatch\u001b[0m\u001b[1;33m)\u001b[0m\u001b[1;33m\u001b[0m\u001b[1;33m\u001b[0m\u001b[0m\n\u001b[0;32m    293\u001b[0m         work = enumerate(\n\u001b[1;32m--> 294\u001b[1;33m             parallel(\n\u001b[0m\u001b[0;32m    295\u001b[0m                 \u001b[0mdelayed\u001b[0m\u001b[1;33m(\u001b[0m\u001b[0m_calc_score\u001b[0m\u001b[1;33m)\u001b[0m\u001b[1;33m(\u001b[0m\u001b[0mself\u001b[0m\u001b[1;33m,\u001b[0m \u001b[0mX_\u001b[0m\u001b[1;33m,\u001b[0m \u001b[0my\u001b[0m\u001b[1;33m,\u001b[0m \u001b[0mc\u001b[0m\u001b[1;33m,\u001b[0m \u001b[0mgroups\u001b[0m\u001b[1;33m=\u001b[0m\u001b[0mgroups\u001b[0m\u001b[1;33m,\u001b[0m \u001b[1;33m**\u001b[0m\u001b[0mfit_params\u001b[0m\u001b[1;33m)\u001b[0m\u001b[1;33m\u001b[0m\u001b[1;33m\u001b[0m\u001b[0m\n\u001b[0;32m    296\u001b[0m                 \u001b[1;32mfor\u001b[0m \u001b[0mc\u001b[0m \u001b[1;32min\u001b[0m \u001b[0mcandidates\u001b[0m\u001b[1;33m\u001b[0m\u001b[1;33m\u001b[0m\u001b[0m\n",
      "\u001b[1;32mC:\\Users\\public\\anaconda3\\lib\\site-packages\\joblib\\parallel.py\u001b[0m in \u001b[0;36m__call__\u001b[1;34m(self, iterable)\u001b[0m\n\u001b[0;32m   1054\u001b[0m \u001b[1;33m\u001b[0m\u001b[0m\n\u001b[0;32m   1055\u001b[0m             \u001b[1;32mwith\u001b[0m \u001b[0mself\u001b[0m\u001b[1;33m.\u001b[0m\u001b[0m_backend\u001b[0m\u001b[1;33m.\u001b[0m\u001b[0mretrieval_context\u001b[0m\u001b[1;33m(\u001b[0m\u001b[1;33m)\u001b[0m\u001b[1;33m:\u001b[0m\u001b[1;33m\u001b[0m\u001b[1;33m\u001b[0m\u001b[0m\n\u001b[1;32m-> 1056\u001b[1;33m                 \u001b[0mself\u001b[0m\u001b[1;33m.\u001b[0m\u001b[0mretrieve\u001b[0m\u001b[1;33m(\u001b[0m\u001b[1;33m)\u001b[0m\u001b[1;33m\u001b[0m\u001b[1;33m\u001b[0m\u001b[0m\n\u001b[0m\u001b[0;32m   1057\u001b[0m             \u001b[1;31m# Make sure that we get a last message telling us we are done\u001b[0m\u001b[1;33m\u001b[0m\u001b[1;33m\u001b[0m\u001b[0m\n\u001b[0;32m   1058\u001b[0m             \u001b[0melapsed_time\u001b[0m \u001b[1;33m=\u001b[0m \u001b[0mtime\u001b[0m\u001b[1;33m.\u001b[0m\u001b[0mtime\u001b[0m\u001b[1;33m(\u001b[0m\u001b[1;33m)\u001b[0m \u001b[1;33m-\u001b[0m \u001b[0mself\u001b[0m\u001b[1;33m.\u001b[0m\u001b[0m_start_time\u001b[0m\u001b[1;33m\u001b[0m\u001b[1;33m\u001b[0m\u001b[0m\n",
      "\u001b[1;32mC:\\Users\\public\\anaconda3\\lib\\site-packages\\joblib\\parallel.py\u001b[0m in \u001b[0;36mretrieve\u001b[1;34m(self)\u001b[0m\n\u001b[0;32m    933\u001b[0m             \u001b[1;32mtry\u001b[0m\u001b[1;33m:\u001b[0m\u001b[1;33m\u001b[0m\u001b[1;33m\u001b[0m\u001b[0m\n\u001b[0;32m    934\u001b[0m                 \u001b[1;32mif\u001b[0m \u001b[0mgetattr\u001b[0m\u001b[1;33m(\u001b[0m\u001b[0mself\u001b[0m\u001b[1;33m.\u001b[0m\u001b[0m_backend\u001b[0m\u001b[1;33m,\u001b[0m \u001b[1;34m'supports_timeout'\u001b[0m\u001b[1;33m,\u001b[0m \u001b[1;32mFalse\u001b[0m\u001b[1;33m)\u001b[0m\u001b[1;33m:\u001b[0m\u001b[1;33m\u001b[0m\u001b[1;33m\u001b[0m\u001b[0m\n\u001b[1;32m--> 935\u001b[1;33m                     \u001b[0mself\u001b[0m\u001b[1;33m.\u001b[0m\u001b[0m_output\u001b[0m\u001b[1;33m.\u001b[0m\u001b[0mextend\u001b[0m\u001b[1;33m(\u001b[0m\u001b[0mjob\u001b[0m\u001b[1;33m.\u001b[0m\u001b[0mget\u001b[0m\u001b[1;33m(\u001b[0m\u001b[0mtimeout\u001b[0m\u001b[1;33m=\u001b[0m\u001b[0mself\u001b[0m\u001b[1;33m.\u001b[0m\u001b[0mtimeout\u001b[0m\u001b[1;33m)\u001b[0m\u001b[1;33m)\u001b[0m\u001b[1;33m\u001b[0m\u001b[1;33m\u001b[0m\u001b[0m\n\u001b[0m\u001b[0;32m    936\u001b[0m                 \u001b[1;32melse\u001b[0m\u001b[1;33m:\u001b[0m\u001b[1;33m\u001b[0m\u001b[1;33m\u001b[0m\u001b[0m\n\u001b[0;32m    937\u001b[0m                     \u001b[0mself\u001b[0m\u001b[1;33m.\u001b[0m\u001b[0m_output\u001b[0m\u001b[1;33m.\u001b[0m\u001b[0mextend\u001b[0m\u001b[1;33m(\u001b[0m\u001b[0mjob\u001b[0m\u001b[1;33m.\u001b[0m\u001b[0mget\u001b[0m\u001b[1;33m(\u001b[0m\u001b[1;33m)\u001b[0m\u001b[1;33m)\u001b[0m\u001b[1;33m\u001b[0m\u001b[1;33m\u001b[0m\u001b[0m\n",
      "\u001b[1;32mC:\\Users\\public\\anaconda3\\lib\\site-packages\\joblib\\_parallel_backends.py\u001b[0m in \u001b[0;36mwrap_future_result\u001b[1;34m(future, timeout)\u001b[0m\n\u001b[0;32m    540\u001b[0m         AsyncResults.get from multiprocessing.\"\"\"\n\u001b[0;32m    541\u001b[0m         \u001b[1;32mtry\u001b[0m\u001b[1;33m:\u001b[0m\u001b[1;33m\u001b[0m\u001b[1;33m\u001b[0m\u001b[0m\n\u001b[1;32m--> 542\u001b[1;33m             \u001b[1;32mreturn\u001b[0m \u001b[0mfuture\u001b[0m\u001b[1;33m.\u001b[0m\u001b[0mresult\u001b[0m\u001b[1;33m(\u001b[0m\u001b[0mtimeout\u001b[0m\u001b[1;33m=\u001b[0m\u001b[0mtimeout\u001b[0m\u001b[1;33m)\u001b[0m\u001b[1;33m\u001b[0m\u001b[1;33m\u001b[0m\u001b[0m\n\u001b[0m\u001b[0;32m    543\u001b[0m         \u001b[1;32mexcept\u001b[0m \u001b[0mCfTimeoutError\u001b[0m \u001b[1;32mas\u001b[0m \u001b[0me\u001b[0m\u001b[1;33m:\u001b[0m\u001b[1;33m\u001b[0m\u001b[1;33m\u001b[0m\u001b[0m\n\u001b[0;32m    544\u001b[0m             \u001b[1;32mraise\u001b[0m \u001b[0mTimeoutError\u001b[0m \u001b[1;32mfrom\u001b[0m \u001b[0me\u001b[0m\u001b[1;33m\u001b[0m\u001b[1;33m\u001b[0m\u001b[0m\n",
      "\u001b[1;32mC:\\Users\\public\\anaconda3\\lib\\concurrent\\futures\\_base.py\u001b[0m in \u001b[0;36mresult\u001b[1;34m(self, timeout)\u001b[0m\n\u001b[0;32m    438\u001b[0m                     \u001b[1;32mreturn\u001b[0m \u001b[0mself\u001b[0m\u001b[1;33m.\u001b[0m\u001b[0m__get_result\u001b[0m\u001b[1;33m(\u001b[0m\u001b[1;33m)\u001b[0m\u001b[1;33m\u001b[0m\u001b[1;33m\u001b[0m\u001b[0m\n\u001b[0;32m    439\u001b[0m \u001b[1;33m\u001b[0m\u001b[0m\n\u001b[1;32m--> 440\u001b[1;33m                 \u001b[0mself\u001b[0m\u001b[1;33m.\u001b[0m\u001b[0m_condition\u001b[0m\u001b[1;33m.\u001b[0m\u001b[0mwait\u001b[0m\u001b[1;33m(\u001b[0m\u001b[0mtimeout\u001b[0m\u001b[1;33m)\u001b[0m\u001b[1;33m\u001b[0m\u001b[1;33m\u001b[0m\u001b[0m\n\u001b[0m\u001b[0;32m    441\u001b[0m \u001b[1;33m\u001b[0m\u001b[0m\n\u001b[0;32m    442\u001b[0m                 \u001b[1;32mif\u001b[0m \u001b[0mself\u001b[0m\u001b[1;33m.\u001b[0m\u001b[0m_state\u001b[0m \u001b[1;32min\u001b[0m \u001b[1;33m[\u001b[0m\u001b[0mCANCELLED\u001b[0m\u001b[1;33m,\u001b[0m \u001b[0mCANCELLED_AND_NOTIFIED\u001b[0m\u001b[1;33m]\u001b[0m\u001b[1;33m:\u001b[0m\u001b[1;33m\u001b[0m\u001b[1;33m\u001b[0m\u001b[0m\n",
      "\u001b[1;32mC:\\Users\\public\\anaconda3\\lib\\threading.py\u001b[0m in \u001b[0;36mwait\u001b[1;34m(self, timeout)\u001b[0m\n\u001b[0;32m    310\u001b[0m         \u001b[1;32mtry\u001b[0m\u001b[1;33m:\u001b[0m    \u001b[1;31m# restore state no matter what (e.g., KeyboardInterrupt)\u001b[0m\u001b[1;33m\u001b[0m\u001b[1;33m\u001b[0m\u001b[0m\n\u001b[0;32m    311\u001b[0m             \u001b[1;32mif\u001b[0m \u001b[0mtimeout\u001b[0m \u001b[1;32mis\u001b[0m \u001b[1;32mNone\u001b[0m\u001b[1;33m:\u001b[0m\u001b[1;33m\u001b[0m\u001b[1;33m\u001b[0m\u001b[0m\n\u001b[1;32m--> 312\u001b[1;33m                 \u001b[0mwaiter\u001b[0m\u001b[1;33m.\u001b[0m\u001b[0macquire\u001b[0m\u001b[1;33m(\u001b[0m\u001b[1;33m)\u001b[0m\u001b[1;33m\u001b[0m\u001b[1;33m\u001b[0m\u001b[0m\n\u001b[0m\u001b[0;32m    313\u001b[0m                 \u001b[0mgotit\u001b[0m \u001b[1;33m=\u001b[0m \u001b[1;32mTrue\u001b[0m\u001b[1;33m\u001b[0m\u001b[1;33m\u001b[0m\u001b[0m\n\u001b[0;32m    314\u001b[0m             \u001b[1;32melse\u001b[0m\u001b[1;33m:\u001b[0m\u001b[1;33m\u001b[0m\u001b[1;33m\u001b[0m\u001b[0m\n",
      "\u001b[1;31mKeyboardInterrupt\u001b[0m: "
     ]
    }
   ],
   "source": [
    "efs.fit(X_train_knn, y_train.values.ravel())"
   ]
  },
  {
   "cell_type": "code",
   "execution_count": null,
   "metadata": {},
   "outputs": [],
   "source": [
    "efs_list = list(efs.best_feature_names_)\n",
    "print(efs_list)\n",
    "# creating a new dataframe using the above variables and adding the target variable\n",
    "X_train_efs = X_train_knn[efs_list]\n",
    "# From test set deleting columns that are removed in training set\n",
    "X_test_efs = X_test_knn[np.array(X_train_efs.columns)]\n",
    "X_test_efs.shape"
   ]
  },
  {
   "cell_type": "code",
   "execution_count": null,
   "metadata": {},
   "outputs": [],
   "source": [
    "rfc(X_train_efs,X_test_efs,6)"
   ]
  },
  {
   "cell_type": "markdown",
   "metadata": {},
   "source": [
    "## Recursive feature elimination"
   ]
  },
  {
   "cell_type": "code",
   "execution_count": 66,
   "metadata": {},
   "outputs": [],
   "source": [
    "from sklearn.ensemble import RandomForestRegressor\n",
    "regressor = RandomForestRegressor(n_estimators=100, max_depth=1)"
   ]
  },
  {
   "cell_type": "code",
   "execution_count": 67,
   "metadata": {},
   "outputs": [
    {
     "data": {
      "text/html": [
       "<style>#sk-container-id-1 {color: black;background-color: white;}#sk-container-id-1 pre{padding: 0;}#sk-container-id-1 div.sk-toggleable {background-color: white;}#sk-container-id-1 label.sk-toggleable__label {cursor: pointer;display: block;width: 100%;margin-bottom: 0;padding: 0.3em;box-sizing: border-box;text-align: center;}#sk-container-id-1 label.sk-toggleable__label-arrow:before {content: \"▸\";float: left;margin-right: 0.25em;color: #696969;}#sk-container-id-1 label.sk-toggleable__label-arrow:hover:before {color: black;}#sk-container-id-1 div.sk-estimator:hover label.sk-toggleable__label-arrow:before {color: black;}#sk-container-id-1 div.sk-toggleable__content {max-height: 0;max-width: 0;overflow: hidden;text-align: left;background-color: #f0f8ff;}#sk-container-id-1 div.sk-toggleable__content pre {margin: 0.2em;color: black;border-radius: 0.25em;background-color: #f0f8ff;}#sk-container-id-1 input.sk-toggleable__control:checked~div.sk-toggleable__content {max-height: 200px;max-width: 100%;overflow: auto;}#sk-container-id-1 input.sk-toggleable__control:checked~label.sk-toggleable__label-arrow:before {content: \"▾\";}#sk-container-id-1 div.sk-estimator input.sk-toggleable__control:checked~label.sk-toggleable__label {background-color: #d4ebff;}#sk-container-id-1 div.sk-label input.sk-toggleable__control:checked~label.sk-toggleable__label {background-color: #d4ebff;}#sk-container-id-1 input.sk-hidden--visually {border: 0;clip: rect(1px 1px 1px 1px);clip: rect(1px, 1px, 1px, 1px);height: 1px;margin: -1px;overflow: hidden;padding: 0;position: absolute;width: 1px;}#sk-container-id-1 div.sk-estimator {font-family: monospace;background-color: #f0f8ff;border: 1px dotted black;border-radius: 0.25em;box-sizing: border-box;margin-bottom: 0.5em;}#sk-container-id-1 div.sk-estimator:hover {background-color: #d4ebff;}#sk-container-id-1 div.sk-parallel-item::after {content: \"\";width: 100%;border-bottom: 1px solid gray;flex-grow: 1;}#sk-container-id-1 div.sk-label:hover label.sk-toggleable__label {background-color: #d4ebff;}#sk-container-id-1 div.sk-serial::before {content: \"\";position: absolute;border-left: 1px solid gray;box-sizing: border-box;top: 0;bottom: 0;left: 50%;z-index: 0;}#sk-container-id-1 div.sk-serial {display: flex;flex-direction: column;align-items: center;background-color: white;padding-right: 0.2em;padding-left: 0.2em;position: relative;}#sk-container-id-1 div.sk-item {position: relative;z-index: 1;}#sk-container-id-1 div.sk-parallel {display: flex;align-items: stretch;justify-content: center;background-color: white;position: relative;}#sk-container-id-1 div.sk-item::before, #sk-container-id-1 div.sk-parallel-item::before {content: \"\";position: absolute;border-left: 1px solid gray;box-sizing: border-box;top: 0;bottom: 0;left: 50%;z-index: -1;}#sk-container-id-1 div.sk-parallel-item {display: flex;flex-direction: column;z-index: 1;position: relative;background-color: white;}#sk-container-id-1 div.sk-parallel-item:first-child::after {align-self: flex-end;width: 50%;}#sk-container-id-1 div.sk-parallel-item:last-child::after {align-self: flex-start;width: 50%;}#sk-container-id-1 div.sk-parallel-item:only-child::after {width: 0;}#sk-container-id-1 div.sk-dashed-wrapped {border: 1px dashed gray;margin: 0 0.4em 0.5em 0.4em;box-sizing: border-box;padding-bottom: 0.4em;background-color: white;}#sk-container-id-1 div.sk-label label {font-family: monospace;font-weight: bold;display: inline-block;line-height: 1.2em;}#sk-container-id-1 div.sk-label-container {text-align: center;}#sk-container-id-1 div.sk-container {/* jupyter's `normalize.less` sets `[hidden] { display: none; }` but bootstrap.min.css set `[hidden] { display: none !important; }` so we also need the `!important` here to be able to override the default hidden behavior on the sphinx rendered scikit-learn.org. See: https://github.com/scikit-learn/scikit-learn/issues/21755 */display: inline-block !important;position: relative;}#sk-container-id-1 div.sk-text-repr-fallback {display: none;}</style><div id=\"sk-container-id-1\" class=\"sk-top-container\"><div class=\"sk-text-repr-fallback\"><pre>RFE(estimator=RandomForestRegressor(max_depth=1), n_features_to_select=15)</pre><b>In a Jupyter environment, please rerun this cell to show the HTML representation or trust the notebook. <br />On GitHub, the HTML representation is unable to render, please try loading this page with nbviewer.org.</b></div><div class=\"sk-container\" hidden><div class=\"sk-item sk-dashed-wrapped\"><div class=\"sk-label-container\"><div class=\"sk-label sk-toggleable\"><input class=\"sk-toggleable__control sk-hidden--visually\" id=\"sk-estimator-id-1\" type=\"checkbox\" ><label for=\"sk-estimator-id-1\" class=\"sk-toggleable__label sk-toggleable__label-arrow\">RFE</label><div class=\"sk-toggleable__content\"><pre>RFE(estimator=RandomForestRegressor(max_depth=1), n_features_to_select=15)</pre></div></div></div><div class=\"sk-parallel\"><div class=\"sk-parallel-item\"><div class=\"sk-item\"><div class=\"sk-label-container\"><div class=\"sk-label sk-toggleable\"><input class=\"sk-toggleable__control sk-hidden--visually\" id=\"sk-estimator-id-2\" type=\"checkbox\" ><label for=\"sk-estimator-id-2\" class=\"sk-toggleable__label sk-toggleable__label-arrow\">estimator: RandomForestRegressor</label><div class=\"sk-toggleable__content\"><pre>RandomForestRegressor(max_depth=1)</pre></div></div></div><div class=\"sk-serial\"><div class=\"sk-item\"><div class=\"sk-estimator sk-toggleable\"><input class=\"sk-toggleable__control sk-hidden--visually\" id=\"sk-estimator-id-3\" type=\"checkbox\" ><label for=\"sk-estimator-id-3\" class=\"sk-toggleable__label sk-toggleable__label-arrow\">RandomForestRegressor</label><div class=\"sk-toggleable__content\"><pre>RandomForestRegressor(max_depth=1)</pre></div></div></div></div></div></div></div></div></div></div>"
      ],
      "text/plain": [
       "RFE(estimator=RandomForestRegressor(max_depth=1), n_features_to_select=15)"
      ]
     },
     "execution_count": 67,
     "metadata": {},
     "output_type": "execute_result"
    }
   ],
   "source": [
    "from sklearn.feature_selection import RFE\n",
    "n_features_to_select = 15\n",
    "rfe = RFE(regressor, n_features_to_select=n_features_to_select)\n",
    "rfe.fit(X_train_knn, y_train)\n"
   ]
  },
  {
   "cell_type": "code",
   "execution_count": 80,
   "metadata": {},
   "outputs": [
    {
     "name": "stdout",
     "output_type": "stream",
     "text": [
      "1 Feature_64\n",
      "1 Feature_65\n",
      "1 Feature_66\n",
      "1 Feature_68\n",
      "1 Feature_104\n",
      "1 Feature_122\n",
      "1 Feature_133\n",
      "1 Feature_154\n",
      "1 Feature_442\n",
      "1 Feature_449\n",
      "1 Feature_453\n",
      "1 Feature_454\n",
      "1 Feature_476\n",
      "1 Feature_540\n",
      "1 Feature_563\n",
      "2 Feature_60\n",
      "3 Feature_562\n",
      "4 Feature_67\n",
      "5 Feature_554\n",
      "6 Feature_63\n",
      "7 Feature_62\n",
      "8 Feature_457\n",
      "9 Feature_455\n",
      "10 Feature_61\n",
      "11 Feature_456\n",
      "12 Feature_458\n",
      "13 Feature_71\n",
      "14 Feature_69\n",
      "15 Feature_460\n",
      "16 Feature_469\n",
      "17 Feature_471\n",
      "18 Feature_75\n",
      "19 Feature_76\n",
      "20 Feature_461\n",
      "21 Feature_72\n",
      "22 Feature_468\n",
      "23 Feature_77\n",
      "24 Feature_79\n",
      "25 Feature_470\n",
      "26 Feature_78\n",
      "27 Feature_472\n",
      "28 Feature_474\n",
      "29 Feature_82\n",
      "30 Feature_478\n",
      "31 Feature_80\n",
      "32 Feature_473\n",
      "33 Feature_81\n",
      "34 Feature_479\n",
      "35 Feature_475\n",
      "36 Feature_84\n",
      "37 Feature_85\n",
      "38 Feature_89\n",
      "39 Feature_477\n",
      "40 Feature_83\n",
      "41 Feature_88\n",
      "42 Feature_87\n",
      "43 Feature_481\n",
      "44 Feature_480\n",
      "45 Feature_491\n",
      "46 Feature_90\n",
      "47 Feature_483\n",
      "48 Feature_484\n",
      "49 Feature_91\n",
      "50 Feature_92\n",
      "51 Feature_94\n",
      "52 Feature_486\n",
      "53 Feature_93\n",
      "54 Feature_487\n",
      "55 Feature_488\n",
      "56 Feature_95\n",
      "57 Feature_489\n",
      "58 Feature_494\n",
      "59 Feature_96\n",
      "60 Feature_97\n",
      "61 Feature_492\n",
      "62 Feature_99\n",
      "63 Feature_101\n",
      "64 Feature_485\n",
      "65 Feature_490\n",
      "66 Feature_501\n",
      "67 Feature_100\n",
      "68 Feature_103\n",
      "69 Feature_102\n",
      "70 Feature_495\n",
      "71 Feature_497\n",
      "72 Feature_511\n",
      "73 Feature_107\n",
      "74 Feature_105\n",
      "75 Feature_496\n",
      "76 Feature_512\n",
      "77 Feature_521\n",
      "78 Feature_500\n",
      "79 Feature_106\n",
      "80 Feature_109\n",
      "81 Feature_498\n",
      "82 Feature_108\n",
      "83 Feature_523\n",
      "84 Feature_114\n",
      "85 Feature_524\n",
      "86 Feature_116\n",
      "87 Feature_522\n",
      "88 Feature_117\n",
      "89 Feature_118\n",
      "90 Feature_115\n",
      "91 Feature_525\n",
      "92 Feature_120\n",
      "93 Feature_526\n",
      "94 Feature_121\n",
      "95 Feature_119\n",
      "96 Feature_123\n",
      "97 Feature_527\n",
      "98 Feature_528\n",
      "99 Feature_542\n",
      "100 Feature_543\n",
      "101 Feature_544\n",
      "102 Feature_124\n",
      "103 Feature_546\n",
      "104 Feature_127\n",
      "105 Feature_545\n",
      "106 Feature_125\n",
      "107 Feature_541\n",
      "108 Feature_129\n",
      "109 Feature_547\n",
      "110 Feature_126\n",
      "111 Feature_548\n",
      "112 Feature_128\n",
      "113 Feature_551\n",
      "114 Feature_130\n",
      "115 Feature_549\n",
      "116 Feature_131\n",
      "117 Feature_550\n",
      "118 Feature_553\n",
      "119 Feature_132\n",
      "120 Feature_552\n",
      "121 Feature_448\n",
      "122 Feature_135\n",
      "123 Feature_137\n",
      "124 Feature_138\n",
      "125 Feature_561\n",
      "126 Feature_555\n",
      "127 Feature_447\n",
      "128 Feature_134\n",
      "129 Feature_446\n",
      "130 Feature_136\n",
      "131 Feature_139\n",
      "132 Feature_556\n",
      "133 Feature_140\n",
      "134 Feature_557\n",
      "135 Feature_445\n",
      "136 Feature_141\n",
      "137 Feature_143\n",
      "138 Feature_559\n",
      "139 Feature_558\n",
      "140 Feature_144\n",
      "141 Feature_444\n",
      "142 Feature_145\n",
      "143 Feature_146\n",
      "144 Feature_560\n",
      "145 Feature_443\n",
      "146 Feature_147\n",
      "147 Feature_153\n",
      "148 Feature_149\n",
      "149 Feature_441\n",
      "150 Feature_148\n",
      "151 Feature_440\n",
      "152 Feature_152\n",
      "153 Feature_439\n",
      "154 Feature_151\n",
      "155 Feature_438\n",
      "156 Feature_155\n",
      "157 Feature_437\n",
      "158 Feature_157\n",
      "159 Feature_436\n",
      "160 Feature_160\n",
      "161 Feature_435\n",
      "162 Feature_434\n",
      "163 Feature_156\n",
      "164 Feature_161\n",
      "165 Feature_433\n",
      "166 Feature_163\n",
      "167 Feature_432\n",
      "168 Feature_165\n",
      "169 Feature_431\n",
      "170 Feature_171\n",
      "171 Feature_430\n",
      "172 Feature_166\n",
      "173 Feature_429\n",
      "174 Feature_162\n",
      "175 Feature_164\n",
      "176 Feature_167\n",
      "177 Feature_564\n",
      "178 Feature_168\n",
      "179 Feature_565\n",
      "180 Feature_169\n",
      "181 Feature_566\n",
      "182 Feature_170\n",
      "183 Feature_567\n",
      "184 Feature_568\n",
      "185 Feature_428\n",
      "186 Feature_172\n",
      "187 Feature_427\n",
      "188 Feature_173\n",
      "189 Feature_569\n",
      "190 Feature_174\n",
      "191 Feature_570\n",
      "192 Feature_175\n",
      "193 Feature_571\n",
      "194 Feature_176\n",
      "195 Feature_426\n",
      "196 Feature_177\n",
      "197 Feature_425\n",
      "198 Feature_178\n",
      "199 Feature_424\n",
      "200 Feature_181\n",
      "201 Feature_422\n",
      "202 Feature_182\n",
      "203 Feature_421\n",
      "204 Feature_183\n",
      "205 Feature_420\n",
      "206 Feature_184\n",
      "207 Feature_419\n",
      "208 Feature_185\n",
      "209 Feature_418\n",
      "210 Feature_186\n",
      "211 Feature_417\n",
      "212 Feature_188\n",
      "213 Feature_416\n",
      "214 Feature_189\n",
      "215 Feature_414\n",
      "216 Feature_196\n",
      "217 Feature_413\n",
      "218 Feature_197\n",
      "219 Feature_412\n",
      "220 Feature_198\n",
      "221 Feature_572\n",
      "222 Feature_199\n",
      "223 Feature_573\n",
      "224 Feature_201\n",
      "225 Feature_574\n",
      "226 Feature_202\n",
      "227 Feature_575\n",
      "228 Feature_204\n",
      "229 Feature_411\n",
      "230 Feature_205\n",
      "231 Feature_410\n",
      "232 Feature_203\n",
      "233 Feature_409\n",
      "234 Feature_206\n",
      "235 Feature_408\n",
      "236 Feature_200\n",
      "237 Feature_407\n",
      "238 Feature_207\n",
      "239 Feature_406\n",
      "240 Feature_208\n",
      "241 Feature_394\n",
      "242 Feature_210\n",
      "243 Feature_393\n",
      "244 Feature_213\n",
      "245 Feature_392\n",
      "246 Feature_217\n",
      "247 Feature_391\n",
      "248 Feature_390\n",
      "249 Feature_211\n",
      "250 Feature_219\n",
      "251 Feature_389\n",
      "252 Feature_240\n",
      "253 Feature_388\n",
      "254 Feature_268\n",
      "255 Feature_387\n",
      "256 Feature_209\n",
      "257 Feature_378\n",
      "258 Feature_214\n",
      "259 Feature_377\n",
      "260 Feature_212\n",
      "261 Feature_369\n",
      "262 Feature_218\n",
      "263 Feature_368\n",
      "264 Feature_216\n",
      "265 Feature_367\n",
      "266 Feature_229\n",
      "267 Feature_366\n",
      "268 Feature_215\n",
      "269 Feature_364\n",
      "270 Feature_224\n",
      "271 Feature_363\n",
      "272 Feature_222\n",
      "273 Feature_362\n",
      "274 Feature_220\n",
      "275 Feature_361\n",
      "276 Feature_226\n",
      "277 Feature_360\n",
      "278 Feature_223\n",
      "279 Feature_358\n",
      "280 Feature_228\n",
      "281 Feature_357\n",
      "282 Feature_225\n",
      "283 Feature_239\n",
      "284 Feature_249\n",
      "285 Feature_576\n",
      "286 Feature_250\n",
      "287 Feature_577\n",
      "288 Feature_251\n",
      "289 Feature_578\n",
      "290 Feature_253\n",
      "291 Feature_583\n",
      "292 Feature_254\n",
      "293 Feature_584\n",
      "294 Feature_255\n",
      "295 Feature_585\n",
      "296 Feature_256\n",
      "297 Feature_586\n",
      "298 Feature_587\n",
      "299 Feature_356\n",
      "300 Feature_252\n",
      "301 Feature_355\n",
      "302 Feature_269\n",
      "303 Feature_588\n",
      "304 Feature_270\n",
      "305 Feature_354\n",
      "306 Feature_271\n",
      "307 Feature_353\n",
      "308 Feature_272\n",
      "309 Feature_352\n",
      "310 Feature_273\n",
      "311 Feature_351\n",
      "312 Feature_274\n",
      "313 Feature_350\n",
      "314 Feature_275\n",
      "315 Feature_349\n",
      "316 Feature_276\n",
      "317 Feature_348\n",
      "318 Feature_278\n",
      "319 Feature_345\n",
      "320 Feature_279\n",
      "321 Feature_344\n",
      "322 Feature_281\n",
      "323 Feature_343\n",
      "324 Feature_282\n",
      "325 Feature_342\n",
      "326 Feature_283\n",
      "327 Feature_341\n",
      "328 Feature_284\n",
      "329 Feature_340\n",
      "330 Feature_287\n",
      "331 Feature_339\n",
      "332 Feature_288\n",
      "333 Feature_338\n",
      "334 Feature_289\n",
      "335 Feature_337\n",
      "336 Feature_290\n",
      "337 Feature_336\n",
      "338 Feature_291\n",
      "339 Feature_335\n",
      "340 Feature_297\n",
      "341 Feature_334\n",
      "342 Feature_298\n",
      "343 Feature_333\n",
      "344 Feature_332\n",
      "345 Feature_286\n",
      "346 Feature_299\n",
      "347 Feature_325\n",
      "348 Feature_300\n",
      "349 Feature_324\n",
      "350 Feature_301\n",
      "351 Feature_322\n",
      "352 Feature_302\n",
      "353 Feature_321\n",
      "354 Feature_303\n",
      "355 Feature_320\n",
      "356 Feature_304\n",
      "357 Feature_319\n",
      "358 Feature_305\n",
      "359 Feature_318\n",
      "360 Feature_306\n",
      "361 Feature_317\n",
      "362 Feature_307\n",
      "363 Feature_313\n",
      "364 Feature_308\n",
      "365 Feature_312\n",
      "366 Feature_309\n",
      "367 Feature_589\n",
      "368 Feature_310\n",
      "369 Feature_590\n",
      "370 Feature_311\n",
      "371 Feature_59\n",
      "372 Feature_58\n",
      "373 Feature_57\n",
      "374 Feature_56\n",
      "375 Feature_55\n",
      "376 Feature_54\n",
      "377 Feature_52\n",
      "378 Feature_51\n",
      "379 Feature_49\n",
      "380 Feature_48\n",
      "381 Feature_47\n",
      "382 Feature_46\n",
      "383 Feature_45\n",
      "384 Feature_44\n",
      "385 Feature_42\n",
      "386 Feature_41\n",
      "387 Feature_40\n",
      "388 Feature_39\n",
      "389 Feature_38\n",
      "390 Feature_37\n",
      "391 Feature_36\n",
      "392 Feature_35\n",
      "393 Feature_34\n",
      "394 Feature_33\n",
      "395 Feature_32\n",
      "396 Feature_31\n",
      "397 Feature_30\n",
      "398 Feature_29\n",
      "399 Feature_28\n",
      "400 Feature_27\n",
      "401 Feature_296\n",
      "402 Feature_292\n",
      "403 Feature_295\n",
      "404 Feature_26\n",
      "405 Feature_25\n",
      "406 Feature_24\n",
      "407 Feature_23\n",
      "408 Feature_22\n",
      "409 Feature_21\n",
      "410 Feature_20\n",
      "411 Feature_19\n",
      "412 Feature_18\n",
      "413 Feature_17\n",
      "414 Feature_16\n",
      "415 Feature_15\n",
      "416 Feature_13\n",
      "417 Feature_12\n",
      "418 Feature_11\n",
      "419 Feature_10\n",
      "420 Feature_9\n",
      "421 Feature_8\n",
      "422 Feature_7\n",
      "423 Feature_5\n",
      "424 Feature_4\n",
      "425 Feature_3\n",
      "426 Feature_280\n",
      "427 Feature_2\n",
      "428 Feature_1\n"
     ]
    }
   ],
   "source": [
    "from operator import itemgetter\n",
    "features = X_train_knn.columns.to_list()\n",
    "for x, y in (sorted(zip(rfe.ranking_ , features), key=itemgetter(0))):\n",
    "    print(x, y)"
   ]
  },
  {
   "cell_type": "code",
   "execution_count": 82,
   "metadata": {},
   "outputs": [
    {
     "data": {
      "text/plain": [
       "(392, 15)"
      ]
     },
     "execution_count": 82,
     "metadata": {},
     "output_type": "execute_result"
    }
   ],
   "source": [
    "rfe_list = [\"Feature_64\",\"Feature_65\",\"Feature_66\",\"Feature_68\",\"Feature_104\",\"Feature_122\",\"Feature_133\",\n",
    "            \"Feature_154\",\"Feature_442\",\"Feature_449\",\"Feature_453\",\"Feature_454\",\"Feature_476\",\"Feature_540\",\n",
    "            \"Feature_563\"]\n",
    "# creating a new dataframe using the above variables and adding the target variable\n",
    "X_train_rfe = X_train_knn[rfe_list]\n",
    "# From test set deleting columns that are removed in training set\n",
    "X_test_rfe = X_test_knn[np.array(X_train_rfe.columns)]\n",
    "X_test_rfe.shape"
   ]
  },
  {
   "cell_type": "code",
   "execution_count": 83,
   "metadata": {},
   "outputs": [
    {
     "name": "stdout",
     "output_type": "stream",
     "text": [
      "              precision    recall  f1-score   support\n",
      "\n",
      "           0       0.00      0.00      0.00        26\n",
      "           1       0.93      1.00      0.97       366\n",
      "\n",
      "    accuracy                           0.93       392\n",
      "   macro avg       0.47      0.50      0.48       392\n",
      "weighted avg       0.87      0.93      0.90       392\n",
      "\n",
      "Test Accuracy Score 0.9336734693877551\n"
     ]
    },
    {
     "data": {
      "image/png": "[encoded data removed]",
      "text/plain": [
       "<Figure size 432x288 with 2 Axes>"
      ]
     },
     "metadata": {
      "needs_background": "light"
     },
     "output_type": "display_data"
    }
   ],
   "source": [
    "rfc(X_train_rfe,X_test_rfe,6)"
   ]
  },
  {
   "cell_type": "code",
   "execution_count": null,
   "metadata": {},
   "outputs": [],
   "source": []
  }
 ],
 "metadata": {
  "colab": {
   "collapsed_sections": [],
   "include_colab_link": true,
   "name": "base file.ipynb",
   "provenance": [],
   "toc_visible": true
  },
  "kernelspec": {
   "display_name": "Python 3 (ipykernel)",
   "language": "python",
   "name": "python3"
  },
  "language_info": {
   "codemirror_mode": {
    "name": "ipython",
    "version": 3
   },
   "file_extension": ".py",
   "mimetype": "text/x-python",
   "name": "python",
   "nbconvert_exporter": "python",
   "pygments_lexer": "ipython3",
   "version": "3.9.7"
  }
 },
 "nbformat": 4,
 "nbformat_minor": 1
}
