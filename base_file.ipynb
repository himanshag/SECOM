{
  "cells": [
    {
      "cell_type": "markdown",
      "metadata": {
        "id": "view-in-github",
        "colab_type": "text"
      },
      "source": [
        "<a href=\"https://colab.research.google.com/github/himanshag/SECOM/blob/main/base_file.ipynb\" target=\"_parent\"><img src=\"https://colab.research.google.com/assets/colab-badge.svg\" alt=\"Open In Colab\"/></a>"
      ]
    },
    {
      "cell_type": "markdown",
      "metadata": {
        "id": "s8CoiNMU1IQ8"
      },
      "source": [
        "#### Importing packages"
      ]
    },
    {
      "cell_type": "code",
      "execution_count": 539,
      "metadata": {
        "colab": {
          "base_uri": "https://localhost:8080/",
          "height": 374
        },
        "id": "VNPgCs7b1Jso",
        "outputId": "3a670258-8b30-4127-af0b-8b26a1e138f1"
      },
      "outputs": [
        {
          "output_type": "error",
          "ename": "ModuleNotFoundError",
          "evalue": "ignored",
          "traceback": [
            "\u001b[0;31m---------------------------------------------------------------------------\u001b[0m",
            "\u001b[0;31mModuleNotFoundError\u001b[0m                       Traceback (most recent call last)",
            "\u001b[0;32m<ipython-input-539-b75f64a77704>\u001b[0m in \u001b[0;36m<module>\u001b[0;34m()\u001b[0m\n\u001b[1;32m     15\u001b[0m \u001b[0;32mfrom\u001b[0m \u001b[0msklearn\u001b[0m\u001b[0;34m.\u001b[0m\u001b[0mmetrics\u001b[0m \u001b[0;32mimport\u001b[0m \u001b[0mplot_roc_curve\u001b[0m\u001b[0;34m\u001b[0m\u001b[0;34m\u001b[0m\u001b[0m\n\u001b[1;32m     16\u001b[0m \u001b[0;32mfrom\u001b[0m \u001b[0msklearn\u001b[0m\u001b[0;34m.\u001b[0m\u001b[0mmetrics\u001b[0m \u001b[0;32mimport\u001b[0m \u001b[0maccuracy_score\u001b[0m\u001b[0;34m\u001b[0m\u001b[0;34m\u001b[0m\u001b[0m\n\u001b[0;32m---> 17\u001b[0;31m \u001b[0;32mimport\u001b[0m \u001b[0mBorutaPy\u001b[0m\u001b[0;34m\u001b[0m\u001b[0;34m\u001b[0m\u001b[0m\n\u001b[0m\u001b[1;32m     18\u001b[0m \u001b[0;31m# to avoid warnings\u001b[0m\u001b[0;34m\u001b[0m\u001b[0;34m\u001b[0m\u001b[0;34m\u001b[0m\u001b[0m\n\u001b[1;32m     19\u001b[0m \u001b[0;32mimport\u001b[0m \u001b[0mwarnings\u001b[0m\u001b[0;34m\u001b[0m\u001b[0;34m\u001b[0m\u001b[0m\n",
            "\u001b[0;31mModuleNotFoundError\u001b[0m: No module named 'BorutaPy'",
            "",
            "\u001b[0;31m---------------------------------------------------------------------------\u001b[0;32m\nNOTE: If your import is failing due to a missing package, you can\nmanually install dependencies using either !pip or !apt.\n\nTo view examples of installing some common dependencies, click the\n\"Open Examples\" button below.\n\u001b[0;31m---------------------------------------------------------------------------\u001b[0m\n"
          ],
          "errorDetails": {
            "actions": [
              {
                "action": "open_url",
                "actionText": "Open Examples",
                "url": "/notebooks/snippets/importing_libraries.ipynb"
              }
            ]
          }
        }
      ],
      "source": [
        "import pandas as pd\n",
        "import seaborn as sns\n",
        "import numpy as np\n",
        "import matplotlib.pyplot as plt\n",
        "from sklearn.model_selection import train_test_split\n",
        "from sklearn.neighbors import KNeighborsClassifier\n",
        "import plotly as py\n",
        "import plotly.express as px\n",
        "import missingno as msno\n",
        "from sklearn.impute import KNNImputer\n",
        "from sklearn.preprocessing import StandardScaler\n",
        "from sklearn.ensemble import RandomForestClassifier\n",
        "from sklearn.metrics import confusion_matrix\n",
        "from sklearn.metrics import classification_report\n",
        "from sklearn.metrics import plot_roc_curve\n",
        "from sklearn.metrics import accuracy_score\n",
        "import BorutaPy\n",
        "# to avoid warnings\n",
        "import warnings\n",
        "warnings.filterwarnings('ignore')\n",
        "warnings.warn(\"this will not show\")"
      ]
    },
    {
      "cell_type": "markdown",
      "metadata": {
        "id": "za0s4Egl1QU5"
      },
      "source": [
        "#### Functions"
      ]
    },
    {
      "cell_type": "code",
      "execution_count": null,
      "metadata": {
        "id": "RlMVRmdS1R0l"
      },
      "outputs": [],
      "source": [
        "# Function to remove missing values above a given threshold\n",
        "def missing_remove(dataframe, threshold):\n",
        "    columns = dataframe.columns[(dataframe.isna().sum()/dataframe.shape[1])>threshold].tolist()\n",
        "    print(f\"# Features deleted with more than {threshold} % missing values\", len(columns))\n",
        "    return dataframe.drop(columns, axis=1,inplace=True)"
      ]
    },
    {
      "cell_type": "code",
      "execution_count": null,
      "metadata": {
        "id": "i62Cd7qc1LeI"
      },
      "outputs": [],
      "source": [
        "# Function to remove features with unique values\n",
        "def unique_remove(dataframe):\n",
        "    unique_features = []\n",
        "    for col in dataframe.columns:\n",
        "        if(dataframe[col].unique().size == 2):\n",
        "            if(len(unique_features) == 0):\n",
        "                unique_features =  dataframe[col]\n",
        "            else:\n",
        "                 unique_features = pd.concat([unique_features, dataframe[col]], axis=1)\n",
        "            dataframe.drop(col, axis=1, inplace=True)"
      ]
    },
    {
      "cell_type": "code",
      "execution_count": null,
      "metadata": {
        "id": "j_OUWkYC1WQD"
      },
      "outputs": [],
      "source": [
        "# Function to remove outlier\n",
        "def outlier_detection_zcore(dataframe):\n",
        "    data_mean, data_std  = dataframe.mean(), dataframe.std()\n",
        "    data_z_scores = ((dataframe - data_mean) / data_std).abs()\n",
        "    m = data_z_scores > 3\n",
        "    dataframe = dataframe.mask(m,inplace=True)\n",
        "    return dataframe"
      ]
    },
    {
      "cell_type": "code",
      "execution_count": null,
      "metadata": {
        "id": "ICLy3MkK4OTH"
      },
      "outputs": [],
      "source": [
        "def rfc(X_train_rfc,X_test_rfc,max_depth):\n",
        "  model = RandomForestClassifier(n_estimators=100, criterion='entropy', max_depth=max_depth)\n",
        "  model.fit(X_train_rfc, y_train)\n",
        "  y_pred = model.predict(X_test_rfc)\n",
        "  sns.heatmap(confusion_matrix(y_test, y_pred), annot=True, fmt=\"d\", yticklabels = ['Pred. Pass' , 'Pred. Fail'] , xticklabels = ['Act. Pass', 'Act. Fail'])\n",
        "  print(classification_report(y_test, y_pred))\n",
        "  ax = plt.gca()\n",
        "  plot = plot_roc_curve(model, X_test_rfc, y_test, ax=ax, alpha=0.8)\n",
        "  print(\"Test Accuracy Score\", accuracy_score(y_test, y_pred))"
      ]
    },
    {
      "cell_type": "markdown",
      "metadata": {
        "id": "QYimj7lt1efy"
      },
      "source": [
        "#### Importing and basic cleaning"
      ]
    },
    {
      "cell_type": "code",
      "execution_count": null,
      "metadata": {
        "id": "LbJIxqWC1hBn"
      },
      "outputs": [],
      "source": [
        "# Importing data from internet in runtime\n",
        "data_url=\"https://archive.ics.uci.edu/ml/machine-learning-databases/secom/secom.data\""
      ]
    },
    {
      "cell_type": "code",
      "execution_count": null,
      "metadata": {
        "id": "vLONGBRz1iz7"
      },
      "outputs": [],
      "source": [
        "# Assigning data to a pandas dataframe\n",
        "secom_data = pd.read_csv(data_url,sep=' ',header=None)"
      ]
    },
    {
      "cell_type": "code",
      "execution_count": null,
      "metadata": {
        "colab": {
          "base_uri": "https://localhost:8080/",
          "height": 300
        },
        "id": "mJ-CpITl1lJG",
        "outputId": "30a5f530-8bcc-47cb-bee2-f89a475f2a7e"
      },
      "outputs": [
        {
          "data": {
            "text/html": [
              "\n",
              "  <div id=\"df-51f99c64-dce9-4cb4-b941-47531937a45a\">\n",
              "    <div class=\"colab-df-container\">\n",
              "      <div>\n",
              "<style scoped>\n",
              "    .dataframe tbody tr th:only-of-type {\n",
              "        vertical-align: middle;\n",
              "    }\n",
              "\n",
              "    .dataframe tbody tr th {\n",
              "        vertical-align: top;\n",
              "    }\n",
              "\n",
              "    .dataframe thead th {\n",
              "        text-align: right;\n",
              "    }\n",
              "</style>\n",
              "<table border=\"1\" class=\"dataframe\">\n",
              "  <thead>\n",
              "    <tr style=\"text-align: right;\">\n",
              "      <th></th>\n",
              "      <th>Feature_1</th>\n",
              "      <th>Feature_2</th>\n",
              "      <th>Feature_3</th>\n",
              "      <th>Feature_4</th>\n",
              "      <th>Feature_5</th>\n",
              "      <th>Feature_6</th>\n",
              "      <th>Feature_7</th>\n",
              "      <th>Feature_8</th>\n",
              "      <th>Feature_9</th>\n",
              "      <th>Feature_10</th>\n",
              "      <th>...</th>\n",
              "      <th>Feature_581</th>\n",
              "      <th>Feature_582</th>\n",
              "      <th>Feature_583</th>\n",
              "      <th>Feature_584</th>\n",
              "      <th>Feature_585</th>\n",
              "      <th>Feature_586</th>\n",
              "      <th>Feature_587</th>\n",
              "      <th>Feature_588</th>\n",
              "      <th>Feature_589</th>\n",
              "      <th>Feature_590</th>\n",
              "    </tr>\n",
              "  </thead>\n",
              "  <tbody>\n",
              "    <tr>\n",
              "      <th>0</th>\n",
              "      <td>3030.93</td>\n",
              "      <td>2564.00</td>\n",
              "      <td>2187.7333</td>\n",
              "      <td>1411.1265</td>\n",
              "      <td>1.3602</td>\n",
              "      <td>100.0</td>\n",
              "      <td>97.6133</td>\n",
              "      <td>0.1242</td>\n",
              "      <td>1.5005</td>\n",
              "      <td>0.0162</td>\n",
              "      <td>...</td>\n",
              "      <td>NaN</td>\n",
              "      <td>NaN</td>\n",
              "      <td>0.5005</td>\n",
              "      <td>0.0118</td>\n",
              "      <td>0.0035</td>\n",
              "      <td>2.3630</td>\n",
              "      <td>NaN</td>\n",
              "      <td>NaN</td>\n",
              "      <td>NaN</td>\n",
              "      <td>NaN</td>\n",
              "    </tr>\n",
              "    <tr>\n",
              "      <th>1</th>\n",
              "      <td>3095.78</td>\n",
              "      <td>2465.14</td>\n",
              "      <td>2230.4222</td>\n",
              "      <td>1463.6606</td>\n",
              "      <td>0.8294</td>\n",
              "      <td>100.0</td>\n",
              "      <td>102.3433</td>\n",
              "      <td>0.1247</td>\n",
              "      <td>1.4966</td>\n",
              "      <td>-0.0005</td>\n",
              "      <td>...</td>\n",
              "      <td>0.0060</td>\n",
              "      <td>208.2045</td>\n",
              "      <td>0.5019</td>\n",
              "      <td>0.0223</td>\n",
              "      <td>0.0055</td>\n",
              "      <td>4.4447</td>\n",
              "      <td>0.0096</td>\n",
              "      <td>0.0201</td>\n",
              "      <td>0.0060</td>\n",
              "      <td>208.2045</td>\n",
              "    </tr>\n",
              "    <tr>\n",
              "      <th>2</th>\n",
              "      <td>2932.61</td>\n",
              "      <td>2559.94</td>\n",
              "      <td>2186.4111</td>\n",
              "      <td>1698.0172</td>\n",
              "      <td>1.5102</td>\n",
              "      <td>100.0</td>\n",
              "      <td>95.4878</td>\n",
              "      <td>0.1241</td>\n",
              "      <td>1.4436</td>\n",
              "      <td>0.0041</td>\n",
              "      <td>...</td>\n",
              "      <td>0.0148</td>\n",
              "      <td>82.8602</td>\n",
              "      <td>0.4958</td>\n",
              "      <td>0.0157</td>\n",
              "      <td>0.0039</td>\n",
              "      <td>3.1745</td>\n",
              "      <td>0.0584</td>\n",
              "      <td>0.0484</td>\n",
              "      <td>0.0148</td>\n",
              "      <td>82.8602</td>\n",
              "    </tr>\n",
              "    <tr>\n",
              "      <th>3</th>\n",
              "      <td>2988.72</td>\n",
              "      <td>2479.90</td>\n",
              "      <td>2199.0333</td>\n",
              "      <td>909.7926</td>\n",
              "      <td>1.3204</td>\n",
              "      <td>100.0</td>\n",
              "      <td>104.2367</td>\n",
              "      <td>0.1217</td>\n",
              "      <td>1.4882</td>\n",
              "      <td>-0.0124</td>\n",
              "      <td>...</td>\n",
              "      <td>0.0044</td>\n",
              "      <td>73.8432</td>\n",
              "      <td>0.4990</td>\n",
              "      <td>0.0103</td>\n",
              "      <td>0.0025</td>\n",
              "      <td>2.0544</td>\n",
              "      <td>0.0202</td>\n",
              "      <td>0.0149</td>\n",
              "      <td>0.0044</td>\n",
              "      <td>73.8432</td>\n",
              "    </tr>\n",
              "    <tr>\n",
              "      <th>4</th>\n",
              "      <td>3032.24</td>\n",
              "      <td>2502.87</td>\n",
              "      <td>2233.3667</td>\n",
              "      <td>1326.5200</td>\n",
              "      <td>1.5334</td>\n",
              "      <td>100.0</td>\n",
              "      <td>100.3967</td>\n",
              "      <td>0.1235</td>\n",
              "      <td>1.5031</td>\n",
              "      <td>-0.0031</td>\n",
              "      <td>...</td>\n",
              "      <td>NaN</td>\n",
              "      <td>NaN</td>\n",
              "      <td>0.4800</td>\n",
              "      <td>0.4766</td>\n",
              "      <td>0.1045</td>\n",
              "      <td>99.3032</td>\n",
              "      <td>0.0202</td>\n",
              "      <td>0.0149</td>\n",
              "      <td>0.0044</td>\n",
              "      <td>73.8432</td>\n",
              "    </tr>\n",
              "  </tbody>\n",
              "</table>\n",
              "<p>5 rows × 590 columns</p>\n",
              "</div>\n",
              "      <button class=\"colab-df-convert\" onclick=\"convertToInteractive('df-51f99c64-dce9-4cb4-b941-47531937a45a')\"\n",
              "              title=\"Convert this dataframe to an interactive table.\"\n",
              "              style=\"display:none;\">\n",
              "        \n",
              "  <svg xmlns=\"http://www.w3.org/2000/svg\" height=\"24px\"viewBox=\"0 0 24 24\"\n",
              "       width=\"24px\">\n",
              "    <path d=\"M0 0h24v24H0V0z\" fill=\"none\"/>\n",
              "    <path d=\"M18.56 5.44l.94 2.06.94-2.06 2.06-.94-2.06-.94-.94-2.06-.94 2.06-2.06.94zm-11 1L8.5 8.5l.94-2.06 2.06-.94-2.06-.94L8.5 2.5l-.94 2.06-2.06.94zm10 10l.94 2.06.94-2.06 2.06-.94-2.06-.94-.94-2.06-.94 2.06-2.06.94z\"/><path d=\"M17.41 7.96l-1.37-1.37c-.4-.4-.92-.59-1.43-.59-.52 0-1.04.2-1.43.59L10.3 9.45l-7.72 7.72c-.78.78-.78 2.05 0 2.83L4 21.41c.39.39.9.59 1.41.59.51 0 1.02-.2 1.41-.59l7.78-7.78 2.81-2.81c.8-.78.8-2.07 0-2.86zM5.41 20L4 18.59l7.72-7.72 1.47 1.35L5.41 20z\"/>\n",
              "  </svg>\n",
              "      </button>\n",
              "      \n",
              "  <style>\n",
              "    .colab-df-container {\n",
              "      display:flex;\n",
              "      flex-wrap:wrap;\n",
              "      gap: 12px;\n",
              "    }\n",
              "\n",
              "    .colab-df-convert {\n",
              "      background-color: #E8F0FE;\n",
              "      border: none;\n",
              "      border-radius: 50%;\n",
              "      cursor: pointer;\n",
              "      display: none;\n",
              "      fill: #1967D2;\n",
              "      height: 32px;\n",
              "      padding: 0 0 0 0;\n",
              "      width: 32px;\n",
              "    }\n",
              "\n",
              "    .colab-df-convert:hover {\n",
              "      background-color: #E2EBFA;\n",
              "      box-shadow: 0px 1px 2px rgba(60, 64, 67, 0.3), 0px 1px 3px 1px rgba(60, 64, 67, 0.15);\n",
              "      fill: #174EA6;\n",
              "    }\n",
              "\n",
              "    [theme=dark] .colab-df-convert {\n",
              "      background-color: #3B4455;\n",
              "      fill: #D2E3FC;\n",
              "    }\n",
              "\n",
              "    [theme=dark] .colab-df-convert:hover {\n",
              "      background-color: #434B5C;\n",
              "      box-shadow: 0px 1px 3px 1px rgba(0, 0, 0, 0.15);\n",
              "      filter: drop-shadow(0px 1px 2px rgba(0, 0, 0, 0.3));\n",
              "      fill: #FFFFFF;\n",
              "    }\n",
              "  </style>\n",
              "\n",
              "      <script>\n",
              "        const buttonEl =\n",
              "          document.querySelector('#df-51f99c64-dce9-4cb4-b941-47531937a45a button.colab-df-convert');\n",
              "        buttonEl.style.display =\n",
              "          google.colab.kernel.accessAllowed ? 'block' : 'none';\n",
              "\n",
              "        async function convertToInteractive(key) {\n",
              "          const element = document.querySelector('#df-51f99c64-dce9-4cb4-b941-47531937a45a');\n",
              "          const dataTable =\n",
              "            await google.colab.kernel.invokeFunction('convertToInteractive',\n",
              "                                                     [key], {});\n",
              "          if (!dataTable) return;\n",
              "\n",
              "          const docLinkHtml = 'Like what you see? Visit the ' +\n",
              "            '<a target=\"_blank\" href=https://colab.research.google.com/notebooks/data_table.ipynb>data table notebook</a>'\n",
              "            + ' to learn more about interactive tables.';\n",
              "          element.innerHTML = '';\n",
              "          dataTable['output_type'] = 'display_data';\n",
              "          await google.colab.output.renderOutput(dataTable, element);\n",
              "          const docLink = document.createElement('div');\n",
              "          docLink.innerHTML = docLinkHtml;\n",
              "          element.appendChild(docLink);\n",
              "        }\n",
              "      </script>\n",
              "    </div>\n",
              "  </div>\n",
              "  "
            ],
            "text/plain": [
              "   Feature_1  Feature_2  Feature_3  Feature_4  Feature_5  Feature_6  \\\n",
              "0    3030.93    2564.00  2187.7333  1411.1265     1.3602      100.0   \n",
              "1    3095.78    2465.14  2230.4222  1463.6606     0.8294      100.0   \n",
              "2    2932.61    2559.94  2186.4111  1698.0172     1.5102      100.0   \n",
              "3    2988.72    2479.90  2199.0333   909.7926     1.3204      100.0   \n",
              "4    3032.24    2502.87  2233.3667  1326.5200     1.5334      100.0   \n",
              "\n",
              "   Feature_7  Feature_8  Feature_9  Feature_10  ...  Feature_581  Feature_582  \\\n",
              "0    97.6133     0.1242     1.5005      0.0162  ...          NaN          NaN   \n",
              "1   102.3433     0.1247     1.4966     -0.0005  ...       0.0060     208.2045   \n",
              "2    95.4878     0.1241     1.4436      0.0041  ...       0.0148      82.8602   \n",
              "3   104.2367     0.1217     1.4882     -0.0124  ...       0.0044      73.8432   \n",
              "4   100.3967     0.1235     1.5031     -0.0031  ...          NaN          NaN   \n",
              "\n",
              "   Feature_583  Feature_584  Feature_585  Feature_586  Feature_587  \\\n",
              "0       0.5005       0.0118       0.0035       2.3630          NaN   \n",
              "1       0.5019       0.0223       0.0055       4.4447       0.0096   \n",
              "2       0.4958       0.0157       0.0039       3.1745       0.0584   \n",
              "3       0.4990       0.0103       0.0025       2.0544       0.0202   \n",
              "4       0.4800       0.4766       0.1045      99.3032       0.0202   \n",
              "\n",
              "   Feature_588  Feature_589  Feature_590  \n",
              "0          NaN          NaN          NaN  \n",
              "1       0.0201       0.0060     208.2045  \n",
              "2       0.0484       0.0148      82.8602  \n",
              "3       0.0149       0.0044      73.8432  \n",
              "4       0.0149       0.0044      73.8432  \n",
              "\n",
              "[5 rows x 590 columns]"
            ]
          },
          "execution_count": 385,
          "metadata": {},
          "output_type": "execute_result"
        }
      ],
      "source": [
        "# Renaming the columns \n",
        "secom_data.columns = [\"Feature_\"+str(column+1) for column in range(len(secom_data.columns))]\n",
        "secom_data.head()"
      ]
    },
    {
      "cell_type": "code",
      "execution_count": null,
      "metadata": {
        "id": "1m82GHOT1msU"
      },
      "outputs": [],
      "source": [
        "# Importing target data from internet in runtime\n",
        "label_url=\"https://archive.ics.uci.edu/ml/machine-learning-databases/secom/secom_labels.data\""
      ]
    },
    {
      "cell_type": "code",
      "execution_count": null,
      "metadata": {
        "id": "MXNuzPJe1sNk"
      },
      "outputs": [],
      "source": [
        "# Assigning target data to a pandas dataframe\n",
        "secom_labels = pd.read_csv(label_url, sep = \" \",header=None)"
      ]
    },
    {
      "cell_type": "code",
      "execution_count": null,
      "metadata": {
        "id": "RqtL5guL1tz7"
      },
      "outputs": [],
      "source": [
        "# Renaming the columns \n",
        "secom_labels.columns = [\"Classification\",\"Timestamp\"]"
      ]
    },
    {
      "cell_type": "code",
      "execution_count": null,
      "metadata": {
        "id": "84Dl-Fay1vz3"
      },
      "outputs": [],
      "source": [
        "# Changing datatype for consitency\n",
        "secom_labels['Timestamp'] = pd.to_datetime(secom_labels['Timestamp'],errors='raise')"
      ]
    },
    {
      "cell_type": "code",
      "execution_count": null,
      "metadata": {
        "id": "qSmgspyk1xcL"
      },
      "outputs": [],
      "source": [
        "# Merging the data\n",
        "data= pd.concat([secom_labels,secom_data],axis=1)"
      ]
    },
    {
      "cell_type": "code",
      "execution_count": null,
      "metadata": {
        "id": "foQ0Zplo1yxq"
      },
      "outputs": [],
      "source": [
        "# Dropping the timestamp column as it provides no insights\n",
        "data.drop(columns=\"Timestamp\", errors='raise',inplace=True)"
      ]
    },
    {
      "cell_type": "code",
      "execution_count": null,
      "metadata": {
        "id": "wSd7j_0210WF"
      },
      "outputs": [],
      "source": [
        "target = data[['Classification']]\n",
        "data.drop(['Classification'], axis=1,inplace=True)"
      ]
    },
    {
      "cell_type": "markdown",
      "metadata": {
        "id": "gcnUqd02122m"
      },
      "source": [
        "#### Spliting the data into training set and test set"
      ]
    },
    {
      "cell_type": "code",
      "execution_count": null,
      "metadata": {
        "id": "UfkKHvKQ14hm"
      },
      "outputs": [],
      "source": [
        "from sklearn.model_selection import train_test_split\n",
        "X_train, X_test, y_train, y_test = train_test_split(data,target, test_size=0.25, random_state=42, stratify=target)\n",
        "# We use the startify parameter as the data is imbalanced on the basis of pass and fail and this will ensure the same \n",
        "#is retained when we split - Random state will help us create a reproducible data - Test size is the split ration"
      ]
    },
    {
      "cell_type": "code",
      "execution_count": null,
      "metadata": {
        "id": "zoPcLGkRzCNR"
      },
      "outputs": [],
      "source": [
        "X_test_original = X_test"
      ]
    },
    {
      "cell_type": "markdown",
      "metadata": {
        "id": "VngQ8qmq18L2"
      },
      "source": [
        "#### Re-labeling the Target values\n"
      ]
    },
    {
      "cell_type": "code",
      "execution_count": null,
      "metadata": {
        "id": "Zita67WD18oW"
      },
      "outputs": [],
      "source": [
        "# Relabeling target variables 1 is pass and 0 is fail\n",
        "y_train = y_train.replace(to_replace=[-1, 1], value=[1, 0])\n",
        "y_test = y_test.replace(to_replace=[-1, 1], value=[1, 0])"
      ]
    },
    {
      "cell_type": "code",
      "execution_count": null,
      "metadata": {
        "id": "Qqf5h04o2BV3"
      },
      "outputs": [],
      "source": [
        "# # Scaling the data\n",
        "# scaler = StandardScaler()\n",
        "# scaler.fit(X_train)\n",
        "# X_train = pd.DataFrame(scaler.transform(X_train), columns=X_train.columns)\n",
        "# X_test = pd.DataFrame(scaler.transform(X_test), columns=X_test.columns)"
      ]
    },
    {
      "cell_type": "markdown",
      "metadata": {
        "id": "Ktw4-If-2JVo"
      },
      "source": [
        "# Decision : Removing columns with more that 50% missing values"
      ]
    },
    {
      "cell_type": "code",
      "execution_count": null,
      "metadata": {
        "colab": {
          "base_uri": "https://localhost:8080/"
        },
        "id": "Sealjvqy16tt",
        "outputId": "44d09e94-bb7b-4e06-9d84-c223ff29e689"
      },
      "outputs": [
        {
          "data": {
            "text/plain": [
              "(1175, 590)"
            ]
          },
          "execution_count": 397,
          "metadata": {},
          "output_type": "execute_result"
        }
      ],
      "source": [
        "X_train.shape"
      ]
    },
    {
      "cell_type": "code",
      "execution_count": null,
      "metadata": {
        "colab": {
          "base_uri": "https://localhost:8080/"
        },
        "id": "K3sSkLKz2MQv",
        "outputId": "67bc7de7-e5eb-405e-f814-3064a66ba089"
      },
      "outputs": [
        {
          "name": "stdout",
          "output_type": "stream",
          "text": [
            "# Features deleted with more than 0.5 % missing values 32\n"
          ]
        },
        {
          "data": {
            "text/plain": [
              "(1175, 558)"
            ]
          },
          "execution_count": 398,
          "metadata": {},
          "output_type": "execute_result"
        }
      ],
      "source": [
        "X_train_missing = X_train\n",
        "missing_remove(X_train_missing, 0.5)\n",
        "X_train_missing.shape"
      ]
    },
    {
      "cell_type": "markdown",
      "metadata": {
        "id": "eWk4oFZGoytT"
      },
      "source": [
        "# Decision : Removing Columns with non unique values"
      ]
    },
    {
      "cell_type": "code",
      "execution_count": null,
      "metadata": {
        "colab": {
          "base_uri": "https://localhost:8080/"
        },
        "id": "e9nWQlfj12pT",
        "outputId": "e10a1110-29b0-44a8-d506-7f3ce2a7dbae"
      },
      "outputs": [
        {
          "data": {
            "text/plain": [
              "(1175, 442)"
            ]
          },
          "execution_count": 399,
          "metadata": {},
          "output_type": "execute_result"
        }
      ],
      "source": [
        "X_train_unique = X_train_missing\n",
        "unique_remove(X_train_unique)\n",
        "X_train_unique.shape"
      ]
    },
    {
      "cell_type": "code",
      "execution_count": null,
      "metadata": {
        "colab": {
          "base_uri": "https://localhost:8080/"
        },
        "id": "bXtP6DVM13Iu",
        "outputId": "0a18bfaf-4786-42a0-de9b-bf83a0176eb8"
      },
      "outputs": [
        {
          "data": {
            "text/plain": [
              "(392, 442)"
            ]
          },
          "execution_count": 400,
          "metadata": {},
          "output_type": "execute_result"
        }
      ],
      "source": [
        "# From test set deleting columns that are removed in training set\n",
        "X_test_unique = pd.DataFrame(X_test[np.array(X_train.columns)])\n",
        "X_test_unique.shape"
      ]
    },
    {
      "cell_type": "code",
      "execution_count": null,
      "metadata": {
        "id": "oJMFgday4HEi"
      },
      "outputs": [],
      "source": [
        ""
      ]
    },
    {
      "cell_type": "markdown",
      "metadata": {
        "id": "BGCsY1go4BPk"
      },
      "source": [
        "# Decision : Replacing outliers with 3s boundary"
      ]
    },
    {
      "cell_type": "markdown",
      "metadata": {
        "id": "5GF5OKR37z9k"
      },
      "source": [
        "##### Other option of removing outliers and replacing them has been explored in file \"Base file - removing outliers and replacing with knn.ipynb\""
      ]
    },
    {
      "cell_type": "code",
      "execution_count": null,
      "metadata": {
        "id": "8nKubTxv2Qio"
      },
      "outputs": [],
      "source": [
        "def replace_outlier(val, mean, std):\n",
        "    if val > mean + 3*std:\n",
        "        return mean + 3*std \n",
        "    elif val < mean - 3*std:\n",
        "        return mean - 3*std\n",
        "    return val"
      ]
    },
    {
      "cell_type": "code",
      "execution_count": null,
      "metadata": {
        "id": "dR6rW4Sa1jux"
      },
      "outputs": [],
      "source": [
        "# replace with 3s in X_train\n",
        "for col in X_train_unique.columns:\n",
        "    mean = X_train_unique[col].mean()\n",
        "    std_dev = X_train_unique[col].std(axis=0)\n",
        "    X_train_unique[col] = X_train_unique[col].map(lambda x: replace_outlier(x, mean, std_dev))"
      ]
    },
    {
      "cell_type": "code",
      "execution_count": null,
      "metadata": {
        "id": "FSHmjvRz1lkY"
      },
      "outputs": [],
      "source": [
        "# replace with 3s in X_test\n",
        "for col in X_test_unique.columns:\n",
        "    mean = X_test_unique[col].mean()\n",
        "    std_dev = X_test_unique[col].std(axis=0)\n",
        "    X_test_unique[col] = X_test_unique[col].map(lambda x: replace_outlier(x, mean, std_dev))"
      ]
    },
    {
      "cell_type": "markdown",
      "metadata": {
        "id": "MZ_qt_Kt1-Mj"
      },
      "source": [
        "# Decision : KNN Imputation"
      ]
    },
    {
      "cell_type": "code",
      "execution_count": null,
      "metadata": {
        "colab": {
          "background_save": true,
          "base_uri": "https://localhost:8080/"
        },
        "id": "lVUDFiOD2B3i",
        "outputId": "7de71081-aeb5-4e6f-fbfb-67e39a9e4f4a"
      },
      "outputs": [
        {
          "data": {
            "text/plain": [
              "0"
            ]
          },
          "execution_count": null,
          "metadata": {},
          "output_type": "execute_result"
        }
      ],
      "source": [
        "from sklearn.impute import KNNImputer\n",
        "knn = KNNImputer()\n",
        "knn.fit(X_train_unique)\n",
        "X_train_knn=pd.DataFrame(knn.transform(X_train_unique), columns=X_train_unique.columns)\n",
        "X_train_knn.isna().sum().sum()"
      ]
    },
    {
      "cell_type": "code",
      "execution_count": null,
      "metadata": {
        "colab": {
          "background_save": true,
          "base_uri": "https://localhost:8080/"
        },
        "id": "2O-i15vi2RNR",
        "outputId": "60799b07-a4ff-43fc-b166-48400d0b5ada"
      },
      "outputs": [
        {
          "data": {
            "text/plain": [
              "0"
            ]
          },
          "execution_count": null,
          "metadata": {},
          "output_type": "execute_result"
        }
      ],
      "source": [
        "from sklearn.impute import KNNImputer\n",
        "knn = KNNImputer()\n",
        "knn.fit(X_test_unique)\n",
        "X_test_knn=pd.DataFrame(knn.transform(X_test_unique), columns=X_test_unique.columns)\n",
        "X_test_knn.isna().sum().sum()"
      ]
    },
    {
      "cell_type": "code",
      "execution_count": null,
      "metadata": {
        "colab": {
          "background_save": true,
          "base_uri": "https://localhost:8080/",
          "height": 453
        },
        "id": "x6GtYJCo41fU",
        "outputId": "17238a2a-80fc-44f3-8241-621edeaa546a"
      },
      "outputs": [
        {
          "name": "stderr",
          "output_type": "stream",
          "text": [
            "/usr/local/lib/python3.7/dist-packages/ipykernel_launcher.py:3: DataConversionWarning: A column-vector y was passed when a 1d array was expected. Please change the shape of y to (n_samples,), for example using ravel().\n",
            "  This is separate from the ipykernel package so we can avoid doing imports until\n",
            "/usr/local/lib/python3.7/dist-packages/sklearn/metrics/_classification.py:1318: UndefinedMetricWarning: Precision and F-score are ill-defined and being set to 0.0 in labels with no predicted samples. Use `zero_division` parameter to control this behavior.\n",
            "  _warn_prf(average, modifier, msg_start, len(result))\n",
            "/usr/local/lib/python3.7/dist-packages/sklearn/metrics/_classification.py:1318: UndefinedMetricWarning: Precision and F-score are ill-defined and being set to 0.0 in labels with no predicted samples. Use `zero_division` parameter to control this behavior.\n",
            "  _warn_prf(average, modifier, msg_start, len(result))\n",
            "/usr/local/lib/python3.7/dist-packages/sklearn/metrics/_classification.py:1318: UndefinedMetricWarning: Precision and F-score are ill-defined and being set to 0.0 in labels with no predicted samples. Use `zero_division` parameter to control this behavior.\n",
            "  _warn_prf(average, modifier, msg_start, len(result))\n",
            "/usr/local/lib/python3.7/dist-packages/sklearn/utils/deprecation.py:87: FutureWarning: Function plot_roc_curve is deprecated; Function :func:`plot_roc_curve` is deprecated in 1.0 and will be removed in 1.2. Use one of the class methods: :meth:`sklearn.metric.RocCurveDisplay.from_predictions` or :meth:`sklearn.metric.RocCurveDisplay.from_estimator`.\n",
            "  warnings.warn(msg, category=FutureWarning)\n"
          ]
        },
        {
          "name": "stdout",
          "output_type": "stream",
          "text": [
            "              precision    recall  f1-score   support\n",
            "\n",
            "           0       0.00      0.00      0.00        26\n",
            "           1       0.93      1.00      0.97       366\n",
            "\n",
            "    accuracy                           0.93       392\n",
            "   macro avg       0.47      0.50      0.48       392\n",
            "weighted avg       0.87      0.93      0.90       392\n",
            "\n",
            "Test Accuracy Score 0.9336734693877551\n"
          ]
        },
        {
          "data": {
            "image/png": "[encoded data removed]",
            "text/plain": [
              "<Figure size 432x288 with 2 Axes>"
            ]
          },
          "metadata": {},
          "output_type": "display_data"
        }
      ],
      "source": [
        "rfc(X_train_knn,X_test_knn,4)"
      ]
    },
    {
      "cell_type": "markdown",
      "metadata": {
        "id": "AaIejDkL7-BY"
      },
      "source": [
        "## Explored and Rejected : Mice"
      ]
    },
    {
      "cell_type": "code",
      "execution_count": null,
      "metadata": {
        "id": "sXhMtLx68B1B"
      },
      "outputs": [],
      "source": [
        "from sklearn.experimental import enable_iterative_imputer\n",
        "from sklearn.impute import IterativeImputer\n",
        "from sklearn.linear_model import LinearRegression\n",
        "\n",
        "lr = LinearRegression()\n",
        "imp = IterativeImputer(estimator=lr,missing_values=np.nan, max_iter=10, verbose=2, imputation_order='roman',random_state=0)\n",
        "X_train_mice =imp.fit_transform(X_train_unique)"
      ]
    },
    {
      "cell_type": "code",
      "execution_count": null,
      "metadata": {
        "id": "xkUtcV1s8lAX"
      },
      "outputs": [],
      "source": [
        "X_test_MICE = X_test_unique.copy(deep=True)\n",
        "X_test_MICE.iloc[:,:] = pd.DataFrame(imp.fit_transform(X_test_unique))\n",
        "X_test_unique = X_test_MICE"
      ]
    },
    {
      "cell_type": "code",
      "execution_count": null,
      "metadata": {
        "colab": {
          "base_uri": "https://localhost:8080/",
          "height": 453
        },
        "id": "kYqaZ-yx9etl",
        "outputId": "74d44c73-f30b-4d75-cc41-4d659922da0a"
      },
      "outputs": [
        {
          "name": "stdout",
          "output_type": "stream",
          "text": [
            "              precision    recall  f1-score   support\n",
            "\n",
            "           0       0.00      0.00      0.00        26\n",
            "           1       0.93      1.00      0.97       366\n",
            "\n",
            "    accuracy                           0.93       392\n",
            "   macro avg       0.47      0.50      0.48       392\n",
            "weighted avg       0.87      0.93      0.90       392\n",
            "\n",
            "Test Accuracy Score 0.9336734693877551\n"
          ]
        },
        {
          "data": {
            "image/png": "[encoded data removed]",
            "text/plain": [
              "<Figure size 432x288 with 2 Axes>"
            ]
          },
          "metadata": {},
          "output_type": "display_data"
        }
      ],
      "source": [
        "rfc(X_train_mice,X_test_MICE,4)"
      ]
    },
    {
      "cell_type": "code",
      "execution_count": null,
      "metadata": {
        "id": "D7wjjW1CH0-U"
      },
      "outputs": [],
      "source": [
        "lr = LinearRegression()\n",
        "imp = IterativeImputer(estimator=lr,missing_values=np.nan, max_iter=20, verbose=2, imputation_order='roman',random_state=0)\n",
        "X_train_mice_20 =imp.fit_transform(X_train_unique)"
      ]
    },
    {
      "cell_type": "code",
      "execution_count": null,
      "metadata": {
        "id": "jDFT0GgOLZ3b"
      },
      "outputs": [],
      "source": [
        "X_test_MICE_20 = X_test_unique.copy(deep=True)\n",
        "X_test_MICE_20.iloc[:,:] = pd.DataFrame(imp.fit_transform(X_test_unique))\n",
        "X_test_unique = X_test_MICE_20"
      ]
    },
    {
      "cell_type": "code",
      "execution_count": null,
      "metadata": {
        "colab": {
          "base_uri": "https://localhost:8080/",
          "height": 453
        },
        "id": "ioP-S8PIMHwf",
        "outputId": "8ce45d73-991c-44bd-b38b-47314979e53b"
      },
      "outputs": [
        {
          "name": "stdout",
          "output_type": "stream",
          "text": [
            "              precision    recall  f1-score   support\n",
            "\n",
            "           0       0.00      0.00      0.00        26\n",
            "           1       0.93      1.00      0.97       366\n",
            "\n",
            "    accuracy                           0.93       392\n",
            "   macro avg       0.47      0.50      0.48       392\n",
            "weighted avg       0.87      0.93      0.90       392\n",
            "\n",
            "Test Accuracy Score 0.9336734693877551\n"
          ]
        },
        {
          "data": {
            "image/png": "[encoded data removed]",
            "text/plain": [
              "<Figure size 432x288 with 2 Axes>"
            ]
          },
          "metadata": {},
          "output_type": "display_data"
        }
      ],
      "source": [
        "rfc(X_train_mice_20,X_test_MICE_20,4)"
      ]
    },
    {
      "cell_type": "markdown",
      "metadata": {
        "id": "zyBswGn5Pq1V"
      },
      "source": [
        "# Feature Selection"
      ]
    },
    {
      "cell_type": "markdown",
      "metadata": {
        "id": "NHtm88EKMXTY"
      },
      "source": [
        "## Boruta - 15 features"
      ]
    },
    {
      "cell_type": "code",
      "execution_count": null,
      "metadata": {
        "id": "fPU0HBS-MVBh"
      },
      "outputs": [],
      "source": [
        "#Boruta function\n",
        "\n",
        "def BorutaFeatureSelection (X, y) :\n",
        "    feature_names = np.array(X.columns)\n",
        "\n",
        "    model = model = RandomForestClassifier(n_jobs=-1, class_weight='balanced_subsample', max_depth=5, random_state=100)\n",
        "    model.fit(X, y)\n",
        "    \n",
        "    feature_selector = BorutaPy(model, n_estimators='auto', verbose=2, random_state=100, max_iter=100)\n",
        "\n",
        "    feature_selector.fit(X.to_numpy(),y)\n",
        "\n",
        "    feature_selector.support_\n",
        "\n",
        "    feature_selector.ranking_\n",
        "\n",
        "    feature_ranks = list(zip(feature_names, \n",
        "                             feature_selector.ranking_, \n",
        "                             feature_selector.support_))\n",
        "\n",
        "    for feat in feature_ranks:\n",
        "        print('Feature: {:<30} Rank: {},  Keep: {}'.format(feat[0], feat[1], feat[2]))\n",
        "        \n",
        "    final_features = list()\n",
        "    indexes = np.where(feature_selector.ranking_ <= 1)\n",
        "    for x in np.nditer(indexes):\n",
        "        final_features.append(feature_names[x])\n",
        "    print(final_features)\n",
        "    \n",
        "    return pd.DataFrame(X.filter(final_features)) , final_features"
      ]
    },
    {
      "cell_type": "code",
      "execution_count": null,
      "metadata": {
        "id": "x93BU7vXNEzJ"
      },
      "outputs": [],
      "source": [
        "from sklearn.ensemble import RandomForestClassifier\n",
        "from boruta import BorutaPy\n",
        "X_train_boruta , final_features = BorutaFeatureSelection(X_train_knn,y_train.values.ravel())"
      ]
    },
    {
      "cell_type": "code",
      "execution_count": null,
      "metadata": {
        "colab": {
          "base_uri": "https://localhost:8080/"
        },
        "id": "PmsoFTseNUXu",
        "outputId": "23cbf78e-9081-4f5d-c371-c54950e3a8d5"
      },
      "outputs": [
        {
          "data": {
            "text/plain": [
              "(392, 15)"
            ]
          },
          "execution_count": 439,
          "metadata": {},
          "output_type": "execute_result"
        }
      ],
      "source": [
        "# From test set deleting columns that are removed in training set\n",
        "X_test_boruta = X_test_knn[np.array(X_train_boruta.columns)]\n",
        "X_test_boruta.shape"
      ]
    },
    {
      "cell_type": "code",
      "execution_count": null,
      "metadata": {
        "colab": {
          "base_uri": "https://localhost:8080/",
          "height": 453
        },
        "id": "3Cgm-ha_N1s1",
        "outputId": "b712445e-cf62-4143-8ea5-7618cef7f6b1"
      },
      "outputs": [
        {
          "name": "stdout",
          "output_type": "stream",
          "text": [
            "              precision    recall  f1-score   support\n",
            "\n",
            "           0       0.00      0.00      0.00        26\n",
            "           1       0.93      1.00      0.97       366\n",
            "\n",
            "    accuracy                           0.93       392\n",
            "   macro avg       0.47      0.50      0.48       392\n",
            "weighted avg       0.87      0.93      0.90       392\n",
            "\n",
            "Test Accuracy Score 0.9336734693877551\n"
          ]
        },
        {
          "data": {
            "image/png": "[encoded data removed]",
            "text/plain": [
              "<Figure size 432x288 with 2 Axes>"
            ]
          },
          "metadata": {},
          "output_type": "display_data"
        }
      ],
      "source": [
        "rfc(X_train_boruta,X_test_boruta,6)"
      ]
    },
    {
      "cell_type": "markdown",
      "metadata": {
        "id": "ES_vbYwIPECg"
      },
      "source": [
        "## Chi Square based on P values over less than 0.4 - 29 features"
      ]
    },
    {
      "cell_type": "code",
      "execution_count": null,
      "metadata": {
        "id": "ptyz1irjP4dv"
      },
      "outputs": [],
      "source": [
        "from sklearn.feature_selection import SelectKBest, chi2\n",
        "f_score = chi2(normalized_x_train,y_train)\n",
        "p_values = pd.Series(f_score[1])\n",
        "p_values.index = normalized_x_train.columns\n",
        "p_values.sort_values(ascending=True,inplace=True)\n",
        "significant = p_values[0:29]\n",
        "new = list(significant.index)\n",
        "X_train_chi = X_train_knn.loc[:, new]"
      ]
    },
    {
      "cell_type": "code",
      "execution_count": null,
      "metadata": {
        "colab": {
          "base_uri": "https://localhost:8080/"
        },
        "id": "zZ_RWoboQQkg",
        "outputId": "70c00c97-a8b0-4412-95a3-e6abec319fd5"
      },
      "outputs": [
        {
          "data": {
            "text/plain": [
              "(392, 29)"
            ]
          },
          "execution_count": 453,
          "metadata": {},
          "output_type": "execute_result"
        }
      ],
      "source": [
        "# From test set deleting columns that are removed in training set\n",
        "X_test_chi = X_test_knn[np.array(X_train_chi.columns)]\n",
        "X_test_chi.shape"
      ]
    },
    {
      "cell_type": "code",
      "execution_count": null,
      "metadata": {
        "colab": {
          "base_uri": "https://localhost:8080/",
          "height": 453
        },
        "id": "Ouzo6AHIQeSe",
        "outputId": "3896129f-16a9-4165-8f70-e7eb4bce6cb1"
      },
      "outputs": [
        {
          "name": "stdout",
          "output_type": "stream",
          "text": [
            "              precision    recall  f1-score   support\n",
            "\n",
            "           0       0.00      0.00      0.00        26\n",
            "           1       0.93      1.00      0.97       366\n",
            "\n",
            "    accuracy                           0.93       392\n",
            "   macro avg       0.47      0.50      0.48       392\n",
            "weighted avg       0.87      0.93      0.90       392\n",
            "\n",
            "Test Accuracy Score 0.9336734693877551\n"
          ]
        },
        {
          "data": {
            "image/png": "[encoded data removed]",
            "text/plain": [
              "<Figure size 432x288 with 2 Axes>"
            ]
          },
          "metadata": {},
          "output_type": "display_data"
        }
      ],
      "source": [
        "rfc(X_train_chi,X_test_chi,7)"
      ]
    },
    {
      "cell_type": "markdown",
      "metadata": {
        "id": "Y_a9D6_nQ6ZX"
      },
      "source": [
        "## Chi Square based on top values- 20 features"
      ]
    },
    {
      "cell_type": "code",
      "execution_count": null,
      "metadata": {
        "id": "JJKznZnoQ-ib"
      },
      "outputs": [],
      "source": [
        "from sklearn.feature_selection import SelectKBest, chi2\n",
        "chi = SelectKBest(chi2, k=15).fit(normalized_x_train, y_train)\n",
        "new_c = normalized_x_train.columns[chi.get_support()]\n",
        "X_train_chi_k = X_train_knn.loc[:, new_c]"
      ]
    },
    {
      "cell_type": "code",
      "execution_count": null,
      "metadata": {
        "colab": {
          "base_uri": "https://localhost:8080/"
        },
        "id": "mUyZg1AnTF9w",
        "outputId": "c2e0e33c-a1cb-4625-f80c-913a0bc4954b"
      },
      "outputs": [
        {
          "data": {
            "text/plain": [
              "(392, 15)"
            ]
          },
          "execution_count": 494,
          "metadata": {},
          "output_type": "execute_result"
        }
      ],
      "source": [
        "# From test set deleting columns that are removed in training set\n",
        "X_test_chi_k = X_test_knn[np.array(X_train_chi_k.columns)]\n",
        "X_test_chi_k.shape"
      ]
    },
    {
      "cell_type": "code",
      "execution_count": null,
      "metadata": {
        "colab": {
          "base_uri": "https://localhost:8080/",
          "height": 453
        },
        "id": "J6lDwiNQTani",
        "outputId": "01e1246f-4e00-45c4-bca7-7b465833deed"
      },
      "outputs": [
        {
          "name": "stdout",
          "output_type": "stream",
          "text": [
            "              precision    recall  f1-score   support\n",
            "\n",
            "           0       0.00      0.00      0.00        26\n",
            "           1       0.93      1.00      0.97       366\n",
            "\n",
            "    accuracy                           0.93       392\n",
            "   macro avg       0.47      0.50      0.48       392\n",
            "weighted avg       0.87      0.93      0.90       392\n",
            "\n",
            "Test Accuracy Score 0.9336734693877551\n"
          ]
        },
        {
          "data": {
            "image/png": "[encoded data removed]",
            "text/plain": [
              "<Figure size 432x288 with 2 Axes>"
            ]
          },
          "metadata": {},
          "output_type": "display_data"
        }
      ],
      "source": [
        "rfc(X_train_chi_k,X_test_chi_k,7)"
      ]
    },
    {
      "cell_type": "markdown",
      "metadata": {
        "id": "FMAunmEGUEJD"
      },
      "source": [
        "## Mutual Info gain - 15 features"
      ]
    },
    {
      "cell_type": "code",
      "execution_count": null,
      "metadata": {
        "id": "XQNFgmfmUIFY"
      },
      "outputs": [],
      "source": [
        "from sklearn.feature_selection import mutual_info_classif\n",
        "mutual = mutual_info_classif(X_train_knn,y_train.values.ravel())\n",
        "from sklearn.feature_selection import SelectKBest\n",
        "top20 = SelectKBest(mutual_info_classif,k=15).fit(X_train_knn,y_train)\n",
        "new_m = X_train_knn.columns[top20.get_support()]\n",
        "X_train_m = X_train_knn.loc[:, new_m]"
      ]
    },
    {
      "cell_type": "code",
      "execution_count": null,
      "metadata": {
        "colab": {
          "base_uri": "https://localhost:8080/"
        },
        "id": "e3tZmR8AU5bi",
        "outputId": "48e42c1c-f107-45c1-898b-d4e60407e9b9"
      },
      "outputs": [
        {
          "data": {
            "text/plain": [
              "(392, 15)"
            ]
          },
          "execution_count": 513,
          "metadata": {},
          "output_type": "execute_result"
        }
      ],
      "source": [
        "# From test set deleting columns that are removed in training set\n",
        "X_test_m = X_test_knn[np.array(X_train_m.columns)]\n",
        "X_test_m.shape"
      ]
    },
    {
      "cell_type": "code",
      "execution_count": null,
      "metadata": {
        "colab": {
          "base_uri": "https://localhost:8080/",
          "height": 453
        },
        "id": "kaHiAaUGVoMo",
        "outputId": "55ca85a8-c0fe-4fb2-9a05-fecaee7b5aff"
      },
      "outputs": [
        {
          "name": "stdout",
          "output_type": "stream",
          "text": [
            "              precision    recall  f1-score   support\n",
            "\n",
            "           0       0.00      0.00      0.00        26\n",
            "           1       0.93      1.00      0.97       366\n",
            "\n",
            "    accuracy                           0.93       392\n",
            "   macro avg       0.47      0.50      0.48       392\n",
            "weighted avg       0.87      0.93      0.90       392\n",
            "\n",
            "Test Accuracy Score 0.9336734693877551\n"
          ]
        },
        {
          "data": {
            "image/png": "[encoded data removed]",
            "text/plain": [
              "<Figure size 432x288 with 2 Axes>"
            ]
          },
          "metadata": {},
          "output_type": "display_data"
        }
      ],
      "source": [
        "rfc(X_train_m,X_test_m,6)"
      ]
    },
    {
      "cell_type": "markdown",
      "metadata": {
        "id": "JEes6zMUWPDN"
      },
      "source": [
        "## Lasso - 31 features"
      ]
    },
    {
      "cell_type": "code",
      "execution_count": null,
      "metadata": {
        "id": "YpQivUBNXSPw"
      },
      "outputs": [],
      "source": [
        "import numpy as np\n",
        "import pandas as pd\n",
        "from sklearn.linear_model import Ridge, Lasso\n",
        "from sklearn.metrics import mean_squared_error,r2_score\n",
        "from sklearn.model_selection import train_test_split, cross_val_score\n",
        "from sklearn.feature_selection import SelectFromModel\n",
        "from sklearn import model_selection\n",
        "import matplotlib.pyplot as plt\n",
        "from sklearn.linear_model import RidgeCV, LassoCV\n",
        "import numpy as np\n",
        "from sklearn.preprocessing import StandardScaler\n",
        "from sklearn.pipeline import Pipeline\n",
        "from sklearn.model_selection import train_test_split, GridSearchCV\n",
        "from sklearn.linear_model import Lasso\n",
        "from sklearn.linear_model import Lasso, LogisticRegression"
      ]
    },
    {
      "cell_type": "code",
      "execution_count": null,
      "metadata": {
        "id": "Fb0qHvJUXUqH"
      },
      "outputs": [],
      "source": [
        "## Selecting features using Lasso\n",
        "sel_ = SelectFromModel(Lasso(alpha=0.2))\n",
        "sel_.fit(X_train_knn, y_train)\n",
        "sel_.get_support()\n",
        "X_train_knn = pd.DataFrame(X_train_knn)"
      ]
    },
    {
      "cell_type": "code",
      "execution_count": null,
      "metadata": {
        "colab": {
          "base_uri": "https://localhost:8080/"
        },
        "id": "rkSQONPLXXKC",
        "outputId": "94c3aaaa-a408-44e2-f989-2ae74b2fbaae"
      },
      "outputs": [
        {
          "name": "stdout",
          "output_type": "stream",
          "text": [
            "total features: 442\n",
            "selected features: 0\n",
            "features with coefficients shrank to zero: 442\n"
          ]
        }
      ],
      "source": [
        "#To See Selected set of features\n",
        "\n",
        "selected_feat = X_train_knn.columns[(sel_.get_support())]\n",
        "print('total features: {}'.format((X_train_knn.shape[1])))\n",
        "print('selected features: {}'.format(len(selected_feat)))\n",
        "print('features with coefficients shrank to zero: {}'.format(\n",
        "np.sum(sel_.estimator_.coef_ == 0)))"
      ]
    },
    {
      "cell_type": "code",
      "execution_count": null,
      "metadata": {
        "colab": {
          "base_uri": "https://localhost:8080/"
        },
        "id": "42A1nOr1XY_E",
        "outputId": "71317ee6-3b87-4d98-9664-740edd8c221d"
      },
      "outputs": [
        {
          "data": {
            "text/plain": [
              "((1175, 0), (392, 0))"
            ]
          },
          "execution_count": 522,
          "metadata": {},
          "output_type": "execute_result"
        }
      ],
      "source": [
        "#Make a list of with the selected features\n",
        "removed_feats = X_train_knn.columns[(sel_.estimator_.coef_ == 0).ravel().tolist()]\n",
        "removed_feats\n",
        "\n",
        "X_train_lasso = sel_.transform(X_train_knn)\n",
        "X_test_lasso = sel_.transform(X_test_knn)\n",
        "X_train_lasso.shape, X_test_lasso.shape"
      ]
    },
    {
      "cell_type": "code",
      "execution_count": 540,
      "metadata": {
        "id": "FLS8Ql28XmCw",
        "colab": {
          "base_uri": "https://localhost:8080/",
          "height": 346
        },
        "outputId": "6e774c06-f144-4e56-e7b6-2f25965444cd"
      },
      "outputs": [
        {
          "output_type": "error",
          "ename": "ValueError",
          "evalue": "ignored",
          "traceback": [
            "\u001b[0;31m---------------------------------------------------------------------------\u001b[0m",
            "\u001b[0;31mValueError\u001b[0m                                Traceback (most recent call last)",
            "\u001b[0;32m<ipython-input-540-965219a1c6b6>\u001b[0m in \u001b[0;36m<module>\u001b[0;34m()\u001b[0m\n\u001b[0;32m----> 1\u001b[0;31m \u001b[0mrfc\u001b[0m\u001b[0;34m(\u001b[0m\u001b[0mX_train_lasso\u001b[0m\u001b[0;34m,\u001b[0m\u001b[0mX_test_lasso\u001b[0m\u001b[0;34m,\u001b[0m\u001b[0;36m6\u001b[0m\u001b[0;34m)\u001b[0m\u001b[0;34m\u001b[0m\u001b[0;34m\u001b[0m\u001b[0m\n\u001b[0m",
            "\u001b[0;32m<ipython-input-382-54dec4f077a2>\u001b[0m in \u001b[0;36mrfc\u001b[0;34m(X_train_rfc, X_test_rfc, max_depth)\u001b[0m\n\u001b[1;32m      1\u001b[0m \u001b[0;32mdef\u001b[0m \u001b[0mrfc\u001b[0m\u001b[0;34m(\u001b[0m\u001b[0mX_train_rfc\u001b[0m\u001b[0;34m,\u001b[0m\u001b[0mX_test_rfc\u001b[0m\u001b[0;34m,\u001b[0m\u001b[0mmax_depth\u001b[0m\u001b[0;34m)\u001b[0m\u001b[0;34m:\u001b[0m\u001b[0;34m\u001b[0m\u001b[0;34m\u001b[0m\u001b[0m\n\u001b[1;32m      2\u001b[0m   \u001b[0mmodel\u001b[0m \u001b[0;34m=\u001b[0m \u001b[0mRandomForestClassifier\u001b[0m\u001b[0;34m(\u001b[0m\u001b[0mn_estimators\u001b[0m\u001b[0;34m=\u001b[0m\u001b[0;36m100\u001b[0m\u001b[0;34m,\u001b[0m \u001b[0mcriterion\u001b[0m\u001b[0;34m=\u001b[0m\u001b[0;34m'entropy'\u001b[0m\u001b[0;34m,\u001b[0m \u001b[0mmax_depth\u001b[0m\u001b[0;34m=\u001b[0m\u001b[0mmax_depth\u001b[0m\u001b[0;34m)\u001b[0m\u001b[0;34m\u001b[0m\u001b[0;34m\u001b[0m\u001b[0m\n\u001b[0;32m----> 3\u001b[0;31m   \u001b[0mmodel\u001b[0m\u001b[0;34m.\u001b[0m\u001b[0mfit\u001b[0m\u001b[0;34m(\u001b[0m\u001b[0mX_train_rfc\u001b[0m\u001b[0;34m,\u001b[0m \u001b[0my_train\u001b[0m\u001b[0;34m)\u001b[0m\u001b[0;34m\u001b[0m\u001b[0;34m\u001b[0m\u001b[0m\n\u001b[0m\u001b[1;32m      4\u001b[0m   \u001b[0my_pred\u001b[0m \u001b[0;34m=\u001b[0m \u001b[0mmodel\u001b[0m\u001b[0;34m.\u001b[0m\u001b[0mpredict\u001b[0m\u001b[0;34m(\u001b[0m\u001b[0mX_test_rfc\u001b[0m\u001b[0;34m)\u001b[0m\u001b[0;34m\u001b[0m\u001b[0;34m\u001b[0m\u001b[0m\n\u001b[1;32m      5\u001b[0m   \u001b[0msns\u001b[0m\u001b[0;34m.\u001b[0m\u001b[0mheatmap\u001b[0m\u001b[0;34m(\u001b[0m\u001b[0mconfusion_matrix\u001b[0m\u001b[0;34m(\u001b[0m\u001b[0my_test\u001b[0m\u001b[0;34m,\u001b[0m \u001b[0my_pred\u001b[0m\u001b[0;34m)\u001b[0m\u001b[0;34m,\u001b[0m \u001b[0mannot\u001b[0m\u001b[0;34m=\u001b[0m\u001b[0;32mTrue\u001b[0m\u001b[0;34m,\u001b[0m \u001b[0mfmt\u001b[0m\u001b[0;34m=\u001b[0m\u001b[0;34m\"d\"\u001b[0m\u001b[0;34m,\u001b[0m \u001b[0myticklabels\u001b[0m \u001b[0;34m=\u001b[0m \u001b[0;34m[\u001b[0m\u001b[0;34m'Pred. Pass'\u001b[0m \u001b[0;34m,\u001b[0m \u001b[0;34m'Pred. Fail'\u001b[0m\u001b[0;34m]\u001b[0m \u001b[0;34m,\u001b[0m \u001b[0mxticklabels\u001b[0m \u001b[0;34m=\u001b[0m \u001b[0;34m[\u001b[0m\u001b[0;34m'Act. Pass'\u001b[0m\u001b[0;34m,\u001b[0m \u001b[0;34m'Act. Fail'\u001b[0m\u001b[0;34m]\u001b[0m\u001b[0;34m)\u001b[0m\u001b[0;34m\u001b[0m\u001b[0;34m\u001b[0m\u001b[0m\n",
            "\u001b[0;32m/usr/local/lib/python3.7/dist-packages/sklearn/ensemble/_forest.py\u001b[0m in \u001b[0;36mfit\u001b[0;34m(self, X, y, sample_weight)\u001b[0m\n\u001b[1;32m    326\u001b[0m             \u001b[0;32mraise\u001b[0m \u001b[0mValueError\u001b[0m\u001b[0;34m(\u001b[0m\u001b[0;34m\"sparse multilabel-indicator for y is not supported.\"\u001b[0m\u001b[0;34m)\u001b[0m\u001b[0;34m\u001b[0m\u001b[0;34m\u001b[0m\u001b[0m\n\u001b[1;32m    327\u001b[0m         X, y = self._validate_data(\n\u001b[0;32m--> 328\u001b[0;31m             \u001b[0mX\u001b[0m\u001b[0;34m,\u001b[0m \u001b[0my\u001b[0m\u001b[0;34m,\u001b[0m \u001b[0mmulti_output\u001b[0m\u001b[0;34m=\u001b[0m\u001b[0;32mTrue\u001b[0m\u001b[0;34m,\u001b[0m \u001b[0maccept_sparse\u001b[0m\u001b[0;34m=\u001b[0m\u001b[0;34m\"csc\"\u001b[0m\u001b[0;34m,\u001b[0m \u001b[0mdtype\u001b[0m\u001b[0;34m=\u001b[0m\u001b[0mDTYPE\u001b[0m\u001b[0;34m\u001b[0m\u001b[0;34m\u001b[0m\u001b[0m\n\u001b[0m\u001b[1;32m    329\u001b[0m         )\n\u001b[1;32m    330\u001b[0m         \u001b[0;32mif\u001b[0m \u001b[0msample_weight\u001b[0m \u001b[0;32mis\u001b[0m \u001b[0;32mnot\u001b[0m \u001b[0;32mNone\u001b[0m\u001b[0;34m:\u001b[0m\u001b[0;34m\u001b[0m\u001b[0;34m\u001b[0m\u001b[0m\n",
            "\u001b[0;32m/usr/local/lib/python3.7/dist-packages/sklearn/base.py\u001b[0m in \u001b[0;36m_validate_data\u001b[0;34m(self, X, y, reset, validate_separately, **check_params)\u001b[0m\n\u001b[1;32m    579\u001b[0m                 \u001b[0my\u001b[0m \u001b[0;34m=\u001b[0m \u001b[0mcheck_array\u001b[0m\u001b[0;34m(\u001b[0m\u001b[0my\u001b[0m\u001b[0;34m,\u001b[0m \u001b[0;34m**\u001b[0m\u001b[0mcheck_y_params\u001b[0m\u001b[0;34m)\u001b[0m\u001b[0;34m\u001b[0m\u001b[0;34m\u001b[0m\u001b[0m\n\u001b[1;32m    580\u001b[0m             \u001b[0;32melse\u001b[0m\u001b[0;34m:\u001b[0m\u001b[0;34m\u001b[0m\u001b[0;34m\u001b[0m\u001b[0m\n\u001b[0;32m--> 581\u001b[0;31m                 \u001b[0mX\u001b[0m\u001b[0;34m,\u001b[0m \u001b[0my\u001b[0m \u001b[0;34m=\u001b[0m \u001b[0mcheck_X_y\u001b[0m\u001b[0;34m(\u001b[0m\u001b[0mX\u001b[0m\u001b[0;34m,\u001b[0m \u001b[0my\u001b[0m\u001b[0;34m,\u001b[0m \u001b[0;34m**\u001b[0m\u001b[0mcheck_params\u001b[0m\u001b[0;34m)\u001b[0m\u001b[0;34m\u001b[0m\u001b[0;34m\u001b[0m\u001b[0m\n\u001b[0m\u001b[1;32m    582\u001b[0m             \u001b[0mout\u001b[0m \u001b[0;34m=\u001b[0m \u001b[0mX\u001b[0m\u001b[0;34m,\u001b[0m \u001b[0my\u001b[0m\u001b[0;34m\u001b[0m\u001b[0;34m\u001b[0m\u001b[0m\n\u001b[1;32m    583\u001b[0m \u001b[0;34m\u001b[0m\u001b[0m\n",
            "\u001b[0;32m/usr/local/lib/python3.7/dist-packages/sklearn/utils/validation.py\u001b[0m in \u001b[0;36mcheck_X_y\u001b[0;34m(X, y, accept_sparse, accept_large_sparse, dtype, order, copy, force_all_finite, ensure_2d, allow_nd, multi_output, ensure_min_samples, ensure_min_features, y_numeric, estimator)\u001b[0m\n\u001b[1;32m    974\u001b[0m         \u001b[0mensure_min_samples\u001b[0m\u001b[0;34m=\u001b[0m\u001b[0mensure_min_samples\u001b[0m\u001b[0;34m,\u001b[0m\u001b[0;34m\u001b[0m\u001b[0;34m\u001b[0m\u001b[0m\n\u001b[1;32m    975\u001b[0m         \u001b[0mensure_min_features\u001b[0m\u001b[0;34m=\u001b[0m\u001b[0mensure_min_features\u001b[0m\u001b[0;34m,\u001b[0m\u001b[0;34m\u001b[0m\u001b[0;34m\u001b[0m\u001b[0m\n\u001b[0;32m--> 976\u001b[0;31m         \u001b[0mestimator\u001b[0m\u001b[0;34m=\u001b[0m\u001b[0mestimator\u001b[0m\u001b[0;34m,\u001b[0m\u001b[0;34m\u001b[0m\u001b[0;34m\u001b[0m\u001b[0m\n\u001b[0m\u001b[1;32m    977\u001b[0m     )\n\u001b[1;32m    978\u001b[0m \u001b[0;34m\u001b[0m\u001b[0m\n",
            "\u001b[0;32m/usr/local/lib/python3.7/dist-packages/sklearn/utils/validation.py\u001b[0m in \u001b[0;36mcheck_array\u001b[0;34m(array, accept_sparse, accept_large_sparse, dtype, order, copy, force_all_finite, ensure_2d, allow_nd, ensure_min_samples, ensure_min_features, estimator)\u001b[0m\n\u001b[1;32m    815\u001b[0m                 \u001b[0;34m\"Found array with %d feature(s) (shape=%s) while\"\u001b[0m\u001b[0;34m\u001b[0m\u001b[0;34m\u001b[0m\u001b[0m\n\u001b[1;32m    816\u001b[0m                 \u001b[0;34m\" a minimum of %d is required%s.\"\u001b[0m\u001b[0;34m\u001b[0m\u001b[0;34m\u001b[0m\u001b[0m\n\u001b[0;32m--> 817\u001b[0;31m                 \u001b[0;34m%\u001b[0m \u001b[0;34m(\u001b[0m\u001b[0mn_features\u001b[0m\u001b[0;34m,\u001b[0m \u001b[0marray\u001b[0m\u001b[0;34m.\u001b[0m\u001b[0mshape\u001b[0m\u001b[0;34m,\u001b[0m \u001b[0mensure_min_features\u001b[0m\u001b[0;34m,\u001b[0m \u001b[0mcontext\u001b[0m\u001b[0;34m)\u001b[0m\u001b[0;34m\u001b[0m\u001b[0;34m\u001b[0m\u001b[0m\n\u001b[0m\u001b[1;32m    818\u001b[0m             )\n\u001b[1;32m    819\u001b[0m \u001b[0;34m\u001b[0m\u001b[0m\n",
            "\u001b[0;31mValueError\u001b[0m: Found array with 0 feature(s) (shape=(1175, 0)) while a minimum of 1 is required."
          ]
        }
      ],
      "source": [
        "rfc(X_train_lasso,X_test_lasso,6)"
      ]
    },
    {
      "cell_type": "code",
      "source": [
        "pip install BorutaPy"
      ],
      "metadata": {
        "colab": {
          "base_uri": "https://localhost:8080/"
        },
        "id": "nskL3M9YZwdH",
        "outputId": "8e3d1da5-7011-4075-f140-dc611d61996c"
      },
      "execution_count": 542,
      "outputs": [
        {
          "output_type": "stream",
          "name": "stdout",
          "text": [
            "Looking in indexes: https://pypi.org/simple, https://us-python.pkg.dev/colab-wheels/public/simple/\n",
            "\u001b[31mERROR: Could not find a version that satisfies the requirement BorutaPy (from versions: none)\u001b[0m\n",
            "\u001b[31mERROR: No matching distribution found for BorutaPy\u001b[0m\n"
          ]
        }
      ]
    },
    {
      "cell_type": "code",
      "source": [
        ""
      ],
      "metadata": {
        "id": "67O0y7ddZzhk"
      },
      "execution_count": null,
      "outputs": []
    }
  ],
  "metadata": {
    "colab": {
      "collapsed_sections": [],
      "name": "base file.ipynb",
      "toc_visible": true,
      "provenance": [],
      "include_colab_link": true
    },
    "kernelspec": {
      "display_name": "Python 3",
      "name": "python3"
    },
    "language_info": {
      "name": "python"
    }
  },
  "nbformat": 4,
  "nbformat_minor": 0
}