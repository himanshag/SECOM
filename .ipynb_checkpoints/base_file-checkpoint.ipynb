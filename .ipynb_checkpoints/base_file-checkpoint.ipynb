{
 "cells": [
  {
   "cell_type": "markdown",
   "metadata": {
    "colab_type": "text",
    "id": "view-in-github"
   },
   "source": [
    "<a href=\"https://colab.research.google.com/github/himanshag/SECOM/blob/main/base_file.ipynb\" target=\"_parent\"><img src=\"https://colab.research.google.com/assets/colab-badge.svg\" alt=\"Open In Colab\"/></a>"
   ]
  },
  {
   "cell_type": "markdown",
   "metadata": {
    "id": "s8CoiNMU1IQ8"
   },
   "source": [
    "#### Importing packages"
   ]
  },
  {
   "cell_type": "code",
   "execution_count": 4,
   "metadata": {
    "colab": {
     "base_uri": "https://localhost:8080/",
     "height": 374
    },
    "id": "VNPgCs7b1Jso",
    "outputId": "3a670258-8b30-4127-af0b-8b26a1e138f1"
   },
   "outputs": [],
   "source": [
    "import pandas as pd\n",
    "import seaborn as sns\n",
    "import numpy as np\n",
    "import matplotlib.pyplot as plt\n",
    "from sklearn.model_selection import train_test_split\n",
    "from sklearn.neighbors import KNeighborsClassifier\n",
    "import plotly as py\n",
    "import plotly.express as px\n",
    "import missingno as msno\n",
    "from sklearn.impute import KNNImputer\n",
    "from sklearn.preprocessing import StandardScaler\n",
    "from sklearn.ensemble import RandomForestClassifier\n",
    "from sklearn.metrics import confusion_matrix\n",
    "from sklearn.metrics import classification_report\n",
    "from sklearn.metrics import plot_roc_curve\n",
    "from sklearn.metrics import accuracy_score\n",
    "# to avoid warnings\n",
    "import warnings\n",
    "warnings.filterwarnings('ignore')\n",
    "warnings.warn(\"this will not show\")"
   ]
  },
  {
   "cell_type": "markdown",
   "metadata": {
    "id": "za0s4Egl1QU5"
   },
   "source": [
    "#### Functions"
   ]
  },
  {
   "cell_type": "code",
   "execution_count": 5,
   "metadata": {
    "id": "RlMVRmdS1R0l"
   },
   "outputs": [],
   "source": [
    "# Function to remove missing values above a given threshold\n",
    "def missing_remove(dataframe, threshold):\n",
    "    columns = dataframe.columns[(dataframe.isna().sum()/dataframe.shape[1])>threshold].tolist()\n",
    "    print(f\"# Features deleted with more than {threshold} % missing values\", len(columns))\n",
    "    return dataframe.drop(columns, axis=1,inplace=True)"
   ]
  },
  {
   "cell_type": "code",
   "execution_count": 6,
   "metadata": {
    "id": "i62Cd7qc1LeI"
   },
   "outputs": [],
   "source": [
    "# Function to remove features with unique values\n",
    "def unique_remove(dataframe):\n",
    "    unique_features = []\n",
    "    for col in dataframe.columns:\n",
    "        if(dataframe[col].unique().size == 2):\n",
    "            if(len(unique_features) == 0):\n",
    "                unique_features =  dataframe[col]\n",
    "            else:\n",
    "                 unique_features = pd.concat([unique_features, dataframe[col]], axis=1)\n",
    "            dataframe.drop(col, axis=1, inplace=True)"
   ]
  },
  {
   "cell_type": "code",
   "execution_count": 7,
   "metadata": {
    "id": "j_OUWkYC1WQD"
   },
   "outputs": [],
   "source": [
    "# Function to remove outlier\n",
    "def outlier_detection_zcore(dataframe):\n",
    "    data_mean, data_std  = dataframe.mean(), dataframe.std()\n",
    "    data_z_scores = ((dataframe - data_mean) / data_std).abs()\n",
    "    m = data_z_scores > 3\n",
    "    dataframe = dataframe.mask(m,inplace=True)\n",
    "    return dataframe"
   ]
  },
  {
   "cell_type": "code",
   "execution_count": 8,
   "metadata": {
    "id": "ICLy3MkK4OTH"
   },
   "outputs": [],
   "source": [
    "def rfc(X_train_rfc,X_test_rfc,max_depth):\n",
    "  model = RandomForestClassifier(n_estimators=100, criterion='entropy', max_depth=max_depth)\n",
    "  model.fit(X_train_rfc, y_train)\n",
    "  y_pred = model.predict(X_test_rfc)\n",
    "  sns.heatmap(confusion_matrix(y_test, y_pred), annot=True, fmt=\"d\", yticklabels = ['Pred. Pass' , 'Pred. Fail'] , xticklabels = ['Act. Pass', 'Act. Fail'])\n",
    "  print(classification_report(y_test, y_pred))\n",
    "  ax = plt.gca()\n",
    "  plot = plot_roc_curve(model, X_test_rfc, y_test, ax=ax, alpha=0.8)\n",
    "  print(\"Test Accuracy Score\", accuracy_score(y_test, y_pred))"
   ]
  },
  {
   "cell_type": "markdown",
   "metadata": {
    "id": "QYimj7lt1efy"
   },
   "source": [
    "#### Importing and basic cleaning"
   ]
  },
  {
   "cell_type": "code",
   "execution_count": 9,
   "metadata": {
    "id": "LbJIxqWC1hBn"
   },
   "outputs": [],
   "source": [
    "# Importing data from internet in runtime\n",
    "data_url=\"https://archive.ics.uci.edu/ml/machine-learning-databases/secom/secom.data\""
   ]
  },
  {
   "cell_type": "code",
   "execution_count": 10,
   "metadata": {
    "id": "vLONGBRz1iz7"
   },
   "outputs": [],
   "source": [
    "# Assigning data to a pandas dataframe\n",
    "secom_data = pd.read_csv(data_url,sep=' ',header=None)"
   ]
  },
  {
   "cell_type": "code",
   "execution_count": 11,
   "metadata": {
    "colab": {
     "base_uri": "https://localhost:8080/",
     "height": 300
    },
    "id": "mJ-CpITl1lJG",
    "outputId": "30a5f530-8bcc-47cb-bee2-f89a475f2a7e"
   },
   "outputs": [
    {
     "data": {
      "text/html": [
       "<div>\n",
       "<style scoped>\n",
       "    .dataframe tbody tr th:only-of-type {\n",
       "        vertical-align: middle;\n",
       "    }\n",
       "\n",
       "    .dataframe tbody tr th {\n",
       "        vertical-align: top;\n",
       "    }\n",
       "\n",
       "    .dataframe thead th {\n",
       "        text-align: right;\n",
       "    }\n",
       "</style>\n",
       "<table border=\"1\" class=\"dataframe\">\n",
       "  <thead>\n",
       "    <tr style=\"text-align: right;\">\n",
       "      <th></th>\n",
       "      <th>Feature_1</th>\n",
       "      <th>Feature_2</th>\n",
       "      <th>Feature_3</th>\n",
       "      <th>Feature_4</th>\n",
       "      <th>Feature_5</th>\n",
       "      <th>Feature_6</th>\n",
       "      <th>Feature_7</th>\n",
       "      <th>Feature_8</th>\n",
       "      <th>Feature_9</th>\n",
       "      <th>Feature_10</th>\n",
       "      <th>...</th>\n",
       "      <th>Feature_581</th>\n",
       "      <th>Feature_582</th>\n",
       "      <th>Feature_583</th>\n",
       "      <th>Feature_584</th>\n",
       "      <th>Feature_585</th>\n",
       "      <th>Feature_586</th>\n",
       "      <th>Feature_587</th>\n",
       "      <th>Feature_588</th>\n",
       "      <th>Feature_589</th>\n",
       "      <th>Feature_590</th>\n",
       "    </tr>\n",
       "  </thead>\n",
       "  <tbody>\n",
       "    <tr>\n",
       "      <th>0</th>\n",
       "      <td>3030.93</td>\n",
       "      <td>2564.00</td>\n",
       "      <td>2187.7333</td>\n",
       "      <td>1411.1265</td>\n",
       "      <td>1.3602</td>\n",
       "      <td>100.0</td>\n",
       "      <td>97.6133</td>\n",
       "      <td>0.1242</td>\n",
       "      <td>1.5005</td>\n",
       "      <td>0.0162</td>\n",
       "      <td>...</td>\n",
       "      <td>NaN</td>\n",
       "      <td>NaN</td>\n",
       "      <td>0.5005</td>\n",
       "      <td>0.0118</td>\n",
       "      <td>0.0035</td>\n",
       "      <td>2.3630</td>\n",
       "      <td>NaN</td>\n",
       "      <td>NaN</td>\n",
       "      <td>NaN</td>\n",
       "      <td>NaN</td>\n",
       "    </tr>\n",
       "    <tr>\n",
       "      <th>1</th>\n",
       "      <td>3095.78</td>\n",
       "      <td>2465.14</td>\n",
       "      <td>2230.4222</td>\n",
       "      <td>1463.6606</td>\n",
       "      <td>0.8294</td>\n",
       "      <td>100.0</td>\n",
       "      <td>102.3433</td>\n",
       "      <td>0.1247</td>\n",
       "      <td>1.4966</td>\n",
       "      <td>-0.0005</td>\n",
       "      <td>...</td>\n",
       "      <td>0.0060</td>\n",
       "      <td>208.2045</td>\n",
       "      <td>0.5019</td>\n",
       "      <td>0.0223</td>\n",
       "      <td>0.0055</td>\n",
       "      <td>4.4447</td>\n",
       "      <td>0.0096</td>\n",
       "      <td>0.0201</td>\n",
       "      <td>0.0060</td>\n",
       "      <td>208.2045</td>\n",
       "    </tr>\n",
       "    <tr>\n",
       "      <th>2</th>\n",
       "      <td>2932.61</td>\n",
       "      <td>2559.94</td>\n",
       "      <td>2186.4111</td>\n",
       "      <td>1698.0172</td>\n",
       "      <td>1.5102</td>\n",
       "      <td>100.0</td>\n",
       "      <td>95.4878</td>\n",
       "      <td>0.1241</td>\n",
       "      <td>1.4436</td>\n",
       "      <td>0.0041</td>\n",
       "      <td>...</td>\n",
       "      <td>0.0148</td>\n",
       "      <td>82.8602</td>\n",
       "      <td>0.4958</td>\n",
       "      <td>0.0157</td>\n",
       "      <td>0.0039</td>\n",
       "      <td>3.1745</td>\n",
       "      <td>0.0584</td>\n",
       "      <td>0.0484</td>\n",
       "      <td>0.0148</td>\n",
       "      <td>82.8602</td>\n",
       "    </tr>\n",
       "    <tr>\n",
       "      <th>3</th>\n",
       "      <td>2988.72</td>\n",
       "      <td>2479.90</td>\n",
       "      <td>2199.0333</td>\n",
       "      <td>909.7926</td>\n",
       "      <td>1.3204</td>\n",
       "      <td>100.0</td>\n",
       "      <td>104.2367</td>\n",
       "      <td>0.1217</td>\n",
       "      <td>1.4882</td>\n",
       "      <td>-0.0124</td>\n",
       "      <td>...</td>\n",
       "      <td>0.0044</td>\n",
       "      <td>73.8432</td>\n",
       "      <td>0.4990</td>\n",
       "      <td>0.0103</td>\n",
       "      <td>0.0025</td>\n",
       "      <td>2.0544</td>\n",
       "      <td>0.0202</td>\n",
       "      <td>0.0149</td>\n",
       "      <td>0.0044</td>\n",
       "      <td>73.8432</td>\n",
       "    </tr>\n",
       "    <tr>\n",
       "      <th>4</th>\n",
       "      <td>3032.24</td>\n",
       "      <td>2502.87</td>\n",
       "      <td>2233.3667</td>\n",
       "      <td>1326.5200</td>\n",
       "      <td>1.5334</td>\n",
       "      <td>100.0</td>\n",
       "      <td>100.3967</td>\n",
       "      <td>0.1235</td>\n",
       "      <td>1.5031</td>\n",
       "      <td>-0.0031</td>\n",
       "      <td>...</td>\n",
       "      <td>NaN</td>\n",
       "      <td>NaN</td>\n",
       "      <td>0.4800</td>\n",
       "      <td>0.4766</td>\n",
       "      <td>0.1045</td>\n",
       "      <td>99.3032</td>\n",
       "      <td>0.0202</td>\n",
       "      <td>0.0149</td>\n",
       "      <td>0.0044</td>\n",
       "      <td>73.8432</td>\n",
       "    </tr>\n",
       "  </tbody>\n",
       "</table>\n",
       "<p>5 rows × 590 columns</p>\n",
       "</div>"
      ],
      "text/plain": [
       "   Feature_1  Feature_2  Feature_3  Feature_4  Feature_5  Feature_6  \\\n",
       "0    3030.93    2564.00  2187.7333  1411.1265     1.3602      100.0   \n",
       "1    3095.78    2465.14  2230.4222  1463.6606     0.8294      100.0   \n",
       "2    2932.61    2559.94  2186.4111  1698.0172     1.5102      100.0   \n",
       "3    2988.72    2479.90  2199.0333   909.7926     1.3204      100.0   \n",
       "4    3032.24    2502.87  2233.3667  1326.5200     1.5334      100.0   \n",
       "\n",
       "   Feature_7  Feature_8  Feature_9  Feature_10  ...  Feature_581  Feature_582  \\\n",
       "0    97.6133     0.1242     1.5005      0.0162  ...          NaN          NaN   \n",
       "1   102.3433     0.1247     1.4966     -0.0005  ...       0.0060     208.2045   \n",
       "2    95.4878     0.1241     1.4436      0.0041  ...       0.0148      82.8602   \n",
       "3   104.2367     0.1217     1.4882     -0.0124  ...       0.0044      73.8432   \n",
       "4   100.3967     0.1235     1.5031     -0.0031  ...          NaN          NaN   \n",
       "\n",
       "   Feature_583  Feature_584  Feature_585  Feature_586  Feature_587  \\\n",
       "0       0.5005       0.0118       0.0035       2.3630          NaN   \n",
       "1       0.5019       0.0223       0.0055       4.4447       0.0096   \n",
       "2       0.4958       0.0157       0.0039       3.1745       0.0584   \n",
       "3       0.4990       0.0103       0.0025       2.0544       0.0202   \n",
       "4       0.4800       0.4766       0.1045      99.3032       0.0202   \n",
       "\n",
       "   Feature_588  Feature_589  Feature_590  \n",
       "0          NaN          NaN          NaN  \n",
       "1       0.0201       0.0060     208.2045  \n",
       "2       0.0484       0.0148      82.8602  \n",
       "3       0.0149       0.0044      73.8432  \n",
       "4       0.0149       0.0044      73.8432  \n",
       "\n",
       "[5 rows x 590 columns]"
      ]
     },
     "execution_count": 11,
     "metadata": {},
     "output_type": "execute_result"
    }
   ],
   "source": [
    "# Renaming the columns \n",
    "secom_data.columns = [\"Feature_\"+str(column+1) for column in range(len(secom_data.columns))]\n",
    "secom_data.head()"
   ]
  },
  {
   "cell_type": "code",
   "execution_count": 12,
   "metadata": {
    "id": "1m82GHOT1msU"
   },
   "outputs": [],
   "source": [
    "# Importing target data from internet in runtime\n",
    "label_url=\"https://archive.ics.uci.edu/ml/machine-learning-databases/secom/secom_labels.data\""
   ]
  },
  {
   "cell_type": "code",
   "execution_count": 13,
   "metadata": {
    "id": "MXNuzPJe1sNk"
   },
   "outputs": [],
   "source": [
    "# Assigning target data to a pandas dataframe\n",
    "secom_labels = pd.read_csv(label_url, sep = \" \",header=None)"
   ]
  },
  {
   "cell_type": "code",
   "execution_count": 14,
   "metadata": {
    "id": "RqtL5guL1tz7"
   },
   "outputs": [],
   "source": [
    "# Renaming the columns \n",
    "secom_labels.columns = [\"Classification\",\"Timestamp\"]"
   ]
  },
  {
   "cell_type": "code",
   "execution_count": 15,
   "metadata": {
    "id": "84Dl-Fay1vz3"
   },
   "outputs": [],
   "source": [
    "# Changing datatype for consitency\n",
    "secom_labels['Timestamp'] = pd.to_datetime(secom_labels['Timestamp'],errors='raise')"
   ]
  },
  {
   "cell_type": "code",
   "execution_count": 16,
   "metadata": {
    "id": "qSmgspyk1xcL"
   },
   "outputs": [],
   "source": [
    "# Merging the data\n",
    "data= pd.concat([secom_labels,secom_data],axis=1)"
   ]
  },
  {
   "cell_type": "code",
   "execution_count": 17,
   "metadata": {
    "id": "foQ0Zplo1yxq"
   },
   "outputs": [],
   "source": [
    "# Dropping the timestamp column as it provides no insights\n",
    "data.drop(columns=\"Timestamp\", errors='raise',inplace=True)"
   ]
  },
  {
   "cell_type": "code",
   "execution_count": 18,
   "metadata": {
    "id": "wSd7j_0210WF"
   },
   "outputs": [],
   "source": [
    "target = data[['Classification']]\n",
    "data.drop(['Classification'], axis=1,inplace=True)"
   ]
  },
  {
   "cell_type": "markdown",
   "metadata": {
    "id": "gcnUqd02122m"
   },
   "source": [
    "#### Spliting the data into training set and test set"
   ]
  },
  {
   "cell_type": "code",
   "execution_count": 19,
   "metadata": {
    "id": "UfkKHvKQ14hm"
   },
   "outputs": [],
   "source": [
    "from sklearn.model_selection import train_test_split\n",
    "X_train, X_test, y_train, y_test = train_test_split(data,target, test_size=0.25, random_state=42, stratify=target)\n",
    "# We use the startify parameter as the data is imbalanced on the basis of pass and fail and this will ensure the same \n",
    "#is retained when we split - Random state will help us create a reproducible data - Test size is the split ration"
   ]
  },
  {
   "cell_type": "code",
   "execution_count": 20,
   "metadata": {
    "id": "zoPcLGkRzCNR"
   },
   "outputs": [],
   "source": [
    "X_test_original = X_test"
   ]
  },
  {
   "cell_type": "markdown",
   "metadata": {
    "id": "VngQ8qmq18L2"
   },
   "source": [
    "#### Re-labeling the Target values\n"
   ]
  },
  {
   "cell_type": "code",
   "execution_count": 21,
   "metadata": {
    "id": "Zita67WD18oW"
   },
   "outputs": [],
   "source": [
    "# Relabeling target variables 1 is pass and 0 is fail\n",
    "y_train = y_train.replace(to_replace=[-1, 1], value=[1, 0])\n",
    "y_test = y_test.replace(to_replace=[-1, 1], value=[1, 0])"
   ]
  },
  {
   "cell_type": "code",
   "execution_count": 22,
   "metadata": {
    "id": "Qqf5h04o2BV3"
   },
   "outputs": [],
   "source": [
    "# # Scaling the data\n",
    "# scaler = StandardScaler()\n",
    "# scaler.fit(X_train)\n",
    "# X_train = pd.DataFrame(scaler.transform(X_train), columns=X_train.columns)\n",
    "# X_test = pd.DataFrame(scaler.transform(X_test), columns=X_test.columns)"
   ]
  },
  {
   "cell_type": "markdown",
   "metadata": {
    "id": "Ktw4-If-2JVo"
   },
   "source": [
    "# Decision : Removing columns with more that 50% missing values"
   ]
  },
  {
   "cell_type": "code",
   "execution_count": 23,
   "metadata": {
    "colab": {
     "base_uri": "https://localhost:8080/"
    },
    "id": "Sealjvqy16tt",
    "outputId": "44d09e94-bb7b-4e06-9d84-c223ff29e689"
   },
   "outputs": [
    {
     "data": {
      "text/plain": [
       "(1175, 590)"
      ]
     },
     "execution_count": 23,
     "metadata": {},
     "output_type": "execute_result"
    }
   ],
   "source": [
    "X_train.shape"
   ]
  },
  {
   "cell_type": "code",
   "execution_count": 24,
   "metadata": {
    "colab": {
     "base_uri": "https://localhost:8080/"
    },
    "id": "K3sSkLKz2MQv",
    "outputId": "67bc7de7-e5eb-405e-f814-3064a66ba089"
   },
   "outputs": [
    {
     "name": "stdout",
     "output_type": "stream",
     "text": [
      "# Features deleted with more than 0.5 % missing values 32\n"
     ]
    },
    {
     "data": {
      "text/plain": [
       "(1175, 558)"
      ]
     },
     "execution_count": 24,
     "metadata": {},
     "output_type": "execute_result"
    }
   ],
   "source": [
    "X_train_missing = X_train\n",
    "missing_remove(X_train_missing, 0.5)\n",
    "X_train_missing.shape"
   ]
  },
  {
   "cell_type": "markdown",
   "metadata": {
    "id": "eWk4oFZGoytT"
   },
   "source": [
    "# Decision : Removing Columns with non unique values"
   ]
  },
  {
   "cell_type": "code",
   "execution_count": 25,
   "metadata": {
    "colab": {
     "base_uri": "https://localhost:8080/"
    },
    "id": "e9nWQlfj12pT",
    "outputId": "e10a1110-29b0-44a8-d506-7f3ce2a7dbae"
   },
   "outputs": [
    {
     "data": {
      "text/plain": [
       "(1175, 442)"
      ]
     },
     "execution_count": 25,
     "metadata": {},
     "output_type": "execute_result"
    }
   ],
   "source": [
    "X_train_unique = X_train_missing\n",
    "unique_remove(X_train_unique)\n",
    "X_train_unique.shape"
   ]
  },
  {
   "cell_type": "code",
   "execution_count": 26,
   "metadata": {
    "colab": {
     "base_uri": "https://localhost:8080/"
    },
    "id": "bXtP6DVM13Iu",
    "outputId": "0a18bfaf-4786-42a0-de9b-bf83a0176eb8"
   },
   "outputs": [
    {
     "data": {
      "text/plain": [
       "(392, 442)"
      ]
     },
     "execution_count": 26,
     "metadata": {},
     "output_type": "execute_result"
    }
   ],
   "source": [
    "# From test set deleting columns that are removed in training set\n",
    "X_test_unique = pd.DataFrame(X_test[np.array(X_train.columns)])\n",
    "X_test_unique.shape"
   ]
  },
  {
   "cell_type": "code",
   "execution_count": null,
   "metadata": {
    "id": "oJMFgday4HEi"
   },
   "outputs": [],
   "source": []
  },
  {
   "cell_type": "markdown",
   "metadata": {
    "id": "BGCsY1go4BPk"
   },
   "source": [
    "# Decision : Replacing outliers with 3s boundary"
   ]
  },
  {
   "cell_type": "markdown",
   "metadata": {
    "id": "5GF5OKR37z9k"
   },
   "source": [
    "##### Other option of removing outliers and replacing them has been explored in file \"Base file - removing outliers and replacing with knn.ipynb\""
   ]
  },
  {
   "cell_type": "code",
   "execution_count": 27,
   "metadata": {
    "id": "8nKubTxv2Qio"
   },
   "outputs": [],
   "source": [
    "def replace_outlier(val, mean, std):\n",
    "    if val > mean + 3*std:\n",
    "        return mean + 3*std \n",
    "    elif val < mean - 3*std:\n",
    "        return mean - 3*std\n",
    "    return val"
   ]
  },
  {
   "cell_type": "code",
   "execution_count": 28,
   "metadata": {
    "id": "dR6rW4Sa1jux"
   },
   "outputs": [],
   "source": [
    "# replace with 3s in X_train\n",
    "for col in X_train_unique.columns:\n",
    "    mean = X_train_unique[col].mean()\n",
    "    std_dev = X_train_unique[col].std(axis=0)\n",
    "    X_train_unique[col] = X_train_unique[col].map(lambda x: replace_outlier(x, mean, std_dev))"
   ]
  },
  {
   "cell_type": "code",
   "execution_count": 29,
   "metadata": {
    "id": "FSHmjvRz1lkY"
   },
   "outputs": [],
   "source": [
    "# replace with 3s in X_test\n",
    "for col in X_test_unique.columns:\n",
    "    mean = X_test_unique[col].mean()\n",
    "    std_dev = X_test_unique[col].std(axis=0)\n",
    "    X_test_unique[col] = X_test_unique[col].map(lambda x: replace_outlier(x, mean, std_dev))"
   ]
  },
  {
   "cell_type": "markdown",
   "metadata": {
    "id": "MZ_qt_Kt1-Mj"
   },
   "source": [
    "# Decision : KNN Imputation"
   ]
  },
  {
   "cell_type": "code",
   "execution_count": 30,
   "metadata": {
    "colab": {
     "background_save": true,
     "base_uri": "https://localhost:8080/"
    },
    "id": "lVUDFiOD2B3i",
    "outputId": "7de71081-aeb5-4e6f-fbfb-67e39a9e4f4a"
   },
   "outputs": [
    {
     "data": {
      "text/plain": [
       "0"
      ]
     },
     "execution_count": 30,
     "metadata": {},
     "output_type": "execute_result"
    }
   ],
   "source": [
    "from sklearn.impute import KNNImputer\n",
    "knn = KNNImputer()\n",
    "knn.fit(X_train_unique)\n",
    "X_train_knn=pd.DataFrame(knn.transform(X_train_unique), columns=X_train_unique.columns)\n",
    "X_train_knn.isna().sum().sum()"
   ]
  },
  {
   "cell_type": "code",
   "execution_count": 31,
   "metadata": {
    "colab": {
     "background_save": true,
     "base_uri": "https://localhost:8080/"
    },
    "id": "2O-i15vi2RNR",
    "outputId": "60799b07-a4ff-43fc-b166-48400d0b5ada"
   },
   "outputs": [
    {
     "data": {
      "text/plain": [
       "0"
      ]
     },
     "execution_count": 31,
     "metadata": {},
     "output_type": "execute_result"
    }
   ],
   "source": [
    "from sklearn.impute import KNNImputer\n",
    "knn = KNNImputer()\n",
    "knn.fit(X_test_unique)\n",
    "X_test_knn=pd.DataFrame(knn.transform(X_test_unique), columns=X_test_unique.columns)\n",
    "X_test_knn.isna().sum().sum()"
   ]
  },
  {
   "cell_type": "code",
   "execution_count": 32,
   "metadata": {
    "colab": {
     "background_save": true,
     "base_uri": "https://localhost:8080/",
     "height": 453
    },
    "id": "x6GtYJCo41fU",
    "outputId": "17238a2a-80fc-44f3-8241-621edeaa546a"
   },
   "outputs": [
    {
     "name": "stdout",
     "output_type": "stream",
     "text": [
      "              precision    recall  f1-score   support\n",
      "\n",
      "           0       0.00      0.00      0.00        26\n",
      "           1       0.93      1.00      0.97       366\n",
      "\n",
      "    accuracy                           0.93       392\n",
      "   macro avg       0.47      0.50      0.48       392\n",
      "weighted avg       0.87      0.93      0.90       392\n",
      "\n",
      "Test Accuracy Score 0.9336734693877551\n"
     ]
    },
    {
     "data": {
      "image/png": "[encoded data removed]",
      "text/plain": [
       "<Figure size 432x288 with 2 Axes>"
      ]
     },
     "metadata": {
      "needs_background": "light"
     },
     "output_type": "display_data"
    }
   ],
   "source": [
    "rfc(X_train_knn,X_test_knn,4)"
   ]
  },
  {
   "cell_type": "markdown",
   "metadata": {
    "id": "AaIejDkL7-BY"
   },
   "source": [
    "## Explored and Rejected : Mice"
   ]
  },
  {
   "cell_type": "code",
   "execution_count": 33,
   "metadata": {
    "id": "sXhMtLx68B1B"
   },
   "outputs": [
    {
     "name": "stdout",
     "output_type": "stream",
     "text": [
      "[IterativeImputer] Completing matrix with shape (1175, 442)\n",
      "[IterativeImputer] Ending imputation round 1/10, elapsed time 18.32\n",
      "[IterativeImputer] Change: 1948.2741045362725, scaled tolerance: 24.015109116296827 \n",
      "[IterativeImputer] Ending imputation round 2/10, elapsed time 36.85\n",
      "[IterativeImputer] Change: 779.2054285665209, scaled tolerance: 24.015109116296827 \n"
     ]
    },
    {
     "ename": "KeyboardInterrupt",
     "evalue": "",
     "output_type": "error",
     "traceback": [
      "\u001b[1;31m---------------------------------------------------------------------------\u001b[0m",
      "\u001b[1;31mKeyboardInterrupt\u001b[0m                         Traceback (most recent call last)",
      "\u001b[1;32mC:\\Users\\RASHMI~1\\AppData\\Local\\Temp/ipykernel_20080/4043841403.py\u001b[0m in \u001b[0;36m<module>\u001b[1;34m\u001b[0m\n\u001b[0;32m      5\u001b[0m \u001b[0mlr\u001b[0m \u001b[1;33m=\u001b[0m \u001b[0mLinearRegression\u001b[0m\u001b[1;33m(\u001b[0m\u001b[1;33m)\u001b[0m\u001b[1;33m\u001b[0m\u001b[1;33m\u001b[0m\u001b[0m\n\u001b[0;32m      6\u001b[0m \u001b[0mimp\u001b[0m \u001b[1;33m=\u001b[0m \u001b[0mIterativeImputer\u001b[0m\u001b[1;33m(\u001b[0m\u001b[0mestimator\u001b[0m\u001b[1;33m=\u001b[0m\u001b[0mlr\u001b[0m\u001b[1;33m,\u001b[0m\u001b[0mmissing_values\u001b[0m\u001b[1;33m=\u001b[0m\u001b[0mnp\u001b[0m\u001b[1;33m.\u001b[0m\u001b[0mnan\u001b[0m\u001b[1;33m,\u001b[0m \u001b[0mmax_iter\u001b[0m\u001b[1;33m=\u001b[0m\u001b[1;36m10\u001b[0m\u001b[1;33m,\u001b[0m \u001b[0mverbose\u001b[0m\u001b[1;33m=\u001b[0m\u001b[1;36m2\u001b[0m\u001b[1;33m,\u001b[0m \u001b[0mimputation_order\u001b[0m\u001b[1;33m=\u001b[0m\u001b[1;34m'roman'\u001b[0m\u001b[1;33m,\u001b[0m\u001b[0mrandom_state\u001b[0m\u001b[1;33m=\u001b[0m\u001b[1;36m0\u001b[0m\u001b[1;33m)\u001b[0m\u001b[1;33m\u001b[0m\u001b[1;33m\u001b[0m\u001b[0m\n\u001b[1;32m----> 7\u001b[1;33m \u001b[0mX_train_mice\u001b[0m \u001b[1;33m=\u001b[0m\u001b[0mimp\u001b[0m\u001b[1;33m.\u001b[0m\u001b[0mfit_transform\u001b[0m\u001b[1;33m(\u001b[0m\u001b[0mX_train_unique\u001b[0m\u001b[1;33m)\u001b[0m\u001b[1;33m\u001b[0m\u001b[1;33m\u001b[0m\u001b[0m\n\u001b[0m",
      "\u001b[1;32mC:\\Users\\public\\anaconda3\\lib\\site-packages\\sklearn\\impute\\_iterative.py\u001b[0m in \u001b[0;36mfit_transform\u001b[1;34m(self, X, y)\u001b[0m\n\u001b[0;32m    663\u001b[0m                     \u001b[0mn_features\u001b[0m\u001b[1;33m,\u001b[0m \u001b[0mfeat_idx\u001b[0m\u001b[1;33m,\u001b[0m \u001b[0mabs_corr_mat\u001b[0m\u001b[1;33m\u001b[0m\u001b[1;33m\u001b[0m\u001b[0m\n\u001b[0;32m    664\u001b[0m                 )\n\u001b[1;32m--> 665\u001b[1;33m                 Xt, estimator = self._impute_one_feature(\n\u001b[0m\u001b[0;32m    666\u001b[0m                     \u001b[0mXt\u001b[0m\u001b[1;33m,\u001b[0m\u001b[1;33m\u001b[0m\u001b[1;33m\u001b[0m\u001b[0m\n\u001b[0;32m    667\u001b[0m                     \u001b[0mmask_missing_values\u001b[0m\u001b[1;33m,\u001b[0m\u001b[1;33m\u001b[0m\u001b[1;33m\u001b[0m\u001b[0m\n",
      "\u001b[1;32mC:\\Users\\public\\anaconda3\\lib\\site-packages\\sklearn\\impute\\_iterative.py\u001b[0m in \u001b[0;36m_impute_one_feature\u001b[1;34m(self, X_filled, mask_missing_values, feat_idx, neighbor_feat_idx, estimator, fit_mode)\u001b[0m\n\u001b[0;32m    316\u001b[0m             \u001b[0mX_train\u001b[0m \u001b[1;33m=\u001b[0m \u001b[0m_safe_indexing\u001b[0m\u001b[1;33m(\u001b[0m\u001b[0mX_filled\u001b[0m\u001b[1;33m[\u001b[0m\u001b[1;33m:\u001b[0m\u001b[1;33m,\u001b[0m \u001b[0mneighbor_feat_idx\u001b[0m\u001b[1;33m]\u001b[0m\u001b[1;33m,\u001b[0m \u001b[1;33m~\u001b[0m\u001b[0mmissing_row_mask\u001b[0m\u001b[1;33m)\u001b[0m\u001b[1;33m\u001b[0m\u001b[1;33m\u001b[0m\u001b[0m\n\u001b[0;32m    317\u001b[0m             \u001b[0my_train\u001b[0m \u001b[1;33m=\u001b[0m \u001b[0m_safe_indexing\u001b[0m\u001b[1;33m(\u001b[0m\u001b[0mX_filled\u001b[0m\u001b[1;33m[\u001b[0m\u001b[1;33m:\u001b[0m\u001b[1;33m,\u001b[0m \u001b[0mfeat_idx\u001b[0m\u001b[1;33m]\u001b[0m\u001b[1;33m,\u001b[0m \u001b[1;33m~\u001b[0m\u001b[0mmissing_row_mask\u001b[0m\u001b[1;33m)\u001b[0m\u001b[1;33m\u001b[0m\u001b[1;33m\u001b[0m\u001b[0m\n\u001b[1;32m--> 318\u001b[1;33m             \u001b[0mestimator\u001b[0m\u001b[1;33m.\u001b[0m\u001b[0mfit\u001b[0m\u001b[1;33m(\u001b[0m\u001b[0mX_train\u001b[0m\u001b[1;33m,\u001b[0m \u001b[0my_train\u001b[0m\u001b[1;33m)\u001b[0m\u001b[1;33m\u001b[0m\u001b[1;33m\u001b[0m\u001b[0m\n\u001b[0m\u001b[0;32m    319\u001b[0m \u001b[1;33m\u001b[0m\u001b[0m\n\u001b[0;32m    320\u001b[0m         \u001b[1;31m# if no missing values, don't predict\u001b[0m\u001b[1;33m\u001b[0m\u001b[1;33m\u001b[0m\u001b[0m\n",
      "\u001b[1;32mC:\\Users\\public\\anaconda3\\lib\\site-packages\\sklearn\\linear_model\\_base.py\u001b[0m in \u001b[0;36mfit\u001b[1;34m(self, X, y, sample_weight)\u001b[0m\n\u001b[0;32m    734\u001b[0m                 \u001b[0mself\u001b[0m\u001b[1;33m.\u001b[0m\u001b[0mcoef_\u001b[0m \u001b[1;33m=\u001b[0m \u001b[0mnp\u001b[0m\u001b[1;33m.\u001b[0m\u001b[0mvstack\u001b[0m\u001b[1;33m(\u001b[0m\u001b[1;33m[\u001b[0m\u001b[0mout\u001b[0m\u001b[1;33m[\u001b[0m\u001b[1;36m0\u001b[0m\u001b[1;33m]\u001b[0m \u001b[1;32mfor\u001b[0m \u001b[0mout\u001b[0m \u001b[1;32min\u001b[0m \u001b[0mouts\u001b[0m\u001b[1;33m]\u001b[0m\u001b[1;33m)\u001b[0m\u001b[1;33m\u001b[0m\u001b[1;33m\u001b[0m\u001b[0m\n\u001b[0;32m    735\u001b[0m         \u001b[1;32melse\u001b[0m\u001b[1;33m:\u001b[0m\u001b[1;33m\u001b[0m\u001b[1;33m\u001b[0m\u001b[0m\n\u001b[1;32m--> 736\u001b[1;33m             \u001b[0mself\u001b[0m\u001b[1;33m.\u001b[0m\u001b[0mcoef_\u001b[0m\u001b[1;33m,\u001b[0m \u001b[0m_\u001b[0m\u001b[1;33m,\u001b[0m \u001b[0mself\u001b[0m\u001b[1;33m.\u001b[0m\u001b[0mrank_\u001b[0m\u001b[1;33m,\u001b[0m \u001b[0mself\u001b[0m\u001b[1;33m.\u001b[0m\u001b[0msingular_\u001b[0m \u001b[1;33m=\u001b[0m \u001b[0mlinalg\u001b[0m\u001b[1;33m.\u001b[0m\u001b[0mlstsq\u001b[0m\u001b[1;33m(\u001b[0m\u001b[0mX\u001b[0m\u001b[1;33m,\u001b[0m \u001b[0my\u001b[0m\u001b[1;33m)\u001b[0m\u001b[1;33m\u001b[0m\u001b[1;33m\u001b[0m\u001b[0m\n\u001b[0m\u001b[0;32m    737\u001b[0m             \u001b[0mself\u001b[0m\u001b[1;33m.\u001b[0m\u001b[0mcoef_\u001b[0m \u001b[1;33m=\u001b[0m \u001b[0mself\u001b[0m\u001b[1;33m.\u001b[0m\u001b[0mcoef_\u001b[0m\u001b[1;33m.\u001b[0m\u001b[0mT\u001b[0m\u001b[1;33m\u001b[0m\u001b[1;33m\u001b[0m\u001b[0m\n\u001b[0;32m    738\u001b[0m \u001b[1;33m\u001b[0m\u001b[0m\n",
      "\u001b[1;32mC:\\Users\\public\\anaconda3\\lib\\site-packages\\scipy\\linalg\\basic.py\u001b[0m in \u001b[0;36mlstsq\u001b[1;34m(a, b, cond, overwrite_a, overwrite_b, check_finite, lapack_driver)\u001b[0m\n\u001b[0;32m   1202\u001b[0m             \u001b[1;32mif\u001b[0m \u001b[0mreal_data\u001b[0m\u001b[1;33m:\u001b[0m\u001b[1;33m\u001b[0m\u001b[1;33m\u001b[0m\u001b[0m\n\u001b[0;32m   1203\u001b[0m                 \u001b[0mlwork\u001b[0m\u001b[1;33m,\u001b[0m \u001b[0miwork\u001b[0m \u001b[1;33m=\u001b[0m \u001b[0m_compute_lwork\u001b[0m\u001b[1;33m(\u001b[0m\u001b[0mlapack_lwork\u001b[0m\u001b[1;33m,\u001b[0m \u001b[0mm\u001b[0m\u001b[1;33m,\u001b[0m \u001b[0mn\u001b[0m\u001b[1;33m,\u001b[0m \u001b[0mnrhs\u001b[0m\u001b[1;33m,\u001b[0m \u001b[0mcond\u001b[0m\u001b[1;33m)\u001b[0m\u001b[1;33m\u001b[0m\u001b[1;33m\u001b[0m\u001b[0m\n\u001b[1;32m-> 1204\u001b[1;33m                 x, s, rank, info = lapack_func(a1, b1, lwork,\n\u001b[0m\u001b[0;32m   1205\u001b[0m                                                iwork, cond, False, False)\n\u001b[0;32m   1206\u001b[0m             \u001b[1;32melse\u001b[0m\u001b[1;33m:\u001b[0m  \u001b[1;31m# complex data\u001b[0m\u001b[1;33m\u001b[0m\u001b[1;33m\u001b[0m\u001b[0m\n",
      "\u001b[1;31mKeyboardInterrupt\u001b[0m: "
     ]
    }
   ],
   "source": [
    "from sklearn.experimental import enable_iterative_imputer\n",
    "from sklearn.impute import IterativeImputer\n",
    "from sklearn.linear_model import LinearRegression\n",
    "\n",
    "lr = LinearRegression()\n",
    "imp = IterativeImputer(estimator=lr,missing_values=np.nan, max_iter=10, verbose=2, imputation_order='roman',random_state=0)\n",
    "X_train_mice =imp.fit_transform(X_train_unique)"
   ]
  },
  {
   "cell_type": "code",
   "execution_count": null,
   "metadata": {
    "id": "xkUtcV1s8lAX"
   },
   "outputs": [],
   "source": [
    "X_test_MICE = X_test_unique.copy(deep=True)\n",
    "X_test_MICE.iloc[:,:] = pd.DataFrame(imp.fit_transform(X_test_unique))\n",
    "X_test_unique = X_test_MICE"
   ]
  },
  {
   "cell_type": "code",
   "execution_count": null,
   "metadata": {
    "colab": {
     "base_uri": "https://localhost:8080/",
     "height": 453
    },
    "id": "kYqaZ-yx9etl",
    "outputId": "74d44c73-f30b-4d75-cc41-4d659922da0a"
   },
   "outputs": [],
   "source": [
    "rfc(X_train_mice,X_test_MICE,4)"
   ]
  },
  {
   "cell_type": "code",
   "execution_count": null,
   "metadata": {
    "id": "D7wjjW1CH0-U"
   },
   "outputs": [],
   "source": [
    "lr = LinearRegression()\n",
    "imp = IterativeImputer(estimator=lr,missing_values=np.nan, max_iter=20, verbose=2, imputation_order='roman',random_state=0)\n",
    "X_train_mice_20 =imp.fit_transform(X_train_unique)"
   ]
  },
  {
   "cell_type": "code",
   "execution_count": null,
   "metadata": {
    "id": "jDFT0GgOLZ3b"
   },
   "outputs": [],
   "source": [
    "X_test_MICE_20 = X_test_unique.copy(deep=True)\n",
    "X_test_MICE_20.iloc[:,:] = pd.DataFrame(imp.fit_transform(X_test_unique))\n",
    "X_test_unique = X_test_MICE_20"
   ]
  },
  {
   "cell_type": "code",
   "execution_count": null,
   "metadata": {
    "colab": {
     "base_uri": "https://localhost:8080/",
     "height": 453
    },
    "id": "ioP-S8PIMHwf",
    "outputId": "8ce45d73-991c-44bd-b38b-47314979e53b"
   },
   "outputs": [],
   "source": [
    "rfc(X_train_mice_20,X_test_MICE_20,4)"
   ]
  },
  {
   "cell_type": "markdown",
   "metadata": {
    "id": "zyBswGn5Pq1V"
   },
   "source": [
    "# Feature Selection"
   ]
  },
  {
   "cell_type": "markdown",
   "metadata": {
    "id": "NHtm88EKMXTY"
   },
   "source": [
    "## Boruta - 15 features"
   ]
  },
  {
   "cell_type": "code",
   "execution_count": 34,
   "metadata": {
    "id": "fPU0HBS-MVBh"
   },
   "outputs": [],
   "source": [
    "#Boruta function\n",
    "\n",
    "def BorutaFeatureSelection (X, y) :\n",
    "    feature_names = np.array(X.columns)\n",
    "\n",
    "    model = model = RandomForestClassifier(n_jobs=-1, class_weight='balanced_subsample', max_depth=5, random_state=100)\n",
    "    model.fit(X, y)\n",
    "    \n",
    "    feature_selector = BorutaPy(model, n_estimators='auto', verbose=2, random_state=100, max_iter=100)\n",
    "\n",
    "    feature_selector.fit(X.to_numpy(),y)\n",
    "\n",
    "    feature_selector.support_\n",
    "\n",
    "    feature_selector.ranking_\n",
    "\n",
    "    feature_ranks = list(zip(feature_names, \n",
    "                             feature_selector.ranking_, \n",
    "                             feature_selector.support_))\n",
    "\n",
    "    for feat in feature_ranks:\n",
    "        print('Feature: {:<30} Rank: {},  Keep: {}'.format(feat[0], feat[1], feat[2]))\n",
    "        \n",
    "    final_features = list()\n",
    "    indexes = np.where(feature_selector.ranking_ <= 1)\n",
    "    for x in np.nditer(indexes):\n",
    "        final_features.append(feature_names[x])\n",
    "    print(final_features)\n",
    "    \n",
    "    return pd.DataFrame(X.filter(final_features)) , final_features"
   ]
  },
  {
   "cell_type": "code",
   "execution_count": 35,
   "metadata": {
    "id": "x93BU7vXNEzJ"
   },
   "outputs": [
    {
     "name": "stdout",
     "output_type": "stream",
     "text": [
      "Iteration: \t1 / 100\n",
      "Confirmed: \t0\n",
      "Tentative: \t442\n",
      "Rejected: \t0\n",
      "Iteration: \t2 / 100\n",
      "Confirmed: \t0\n",
      "Tentative: \t442\n",
      "Rejected: \t0\n",
      "Iteration: \t3 / 100\n",
      "Confirmed: \t0\n",
      "Tentative: \t442\n",
      "Rejected: \t0\n",
      "Iteration: \t4 / 100\n",
      "Confirmed: \t0\n",
      "Tentative: \t442\n",
      "Rejected: \t0\n",
      "Iteration: \t5 / 100\n",
      "Confirmed: \t0\n",
      "Tentative: \t442\n",
      "Rejected: \t0\n",
      "Iteration: \t6 / 100\n",
      "Confirmed: \t0\n",
      "Tentative: \t442\n",
      "Rejected: \t0\n",
      "Iteration: \t7 / 100\n",
      "Confirmed: \t0\n",
      "Tentative: \t442\n",
      "Rejected: \t0\n",
      "Iteration: \t8 / 100\n",
      "Confirmed: \t0\n",
      "Tentative: \t18\n",
      "Rejected: \t424\n",
      "Iteration: \t9 / 100\n",
      "Confirmed: \t3\n",
      "Tentative: \t15\n",
      "Rejected: \t424\n",
      "Iteration: \t10 / 100\n",
      "Confirmed: \t3\n",
      "Tentative: \t15\n",
      "Rejected: \t424\n",
      "Iteration: \t11 / 100\n",
      "Confirmed: \t3\n",
      "Tentative: \t15\n",
      "Rejected: \t424\n",
      "Iteration: \t12 / 100\n",
      "Confirmed: \t3\n",
      "Tentative: \t15\n",
      "Rejected: \t424\n",
      "Iteration: \t13 / 100\n",
      "Confirmed: \t3\n",
      "Tentative: \t15\n",
      "Rejected: \t424\n",
      "Iteration: \t14 / 100\n",
      "Confirmed: \t3\n",
      "Tentative: \t15\n",
      "Rejected: \t424\n",
      "Iteration: \t15 / 100\n",
      "Confirmed: \t3\n",
      "Tentative: \t15\n",
      "Rejected: \t424\n",
      "Iteration: \t16 / 100\n",
      "Confirmed: \t3\n",
      "Tentative: \t15\n",
      "Rejected: \t424\n",
      "Iteration: \t17 / 100\n",
      "Confirmed: \t3\n",
      "Tentative: \t15\n",
      "Rejected: \t424\n",
      "Iteration: \t18 / 100\n",
      "Confirmed: \t3\n",
      "Tentative: \t15\n",
      "Rejected: \t424\n",
      "Iteration: \t19 / 100\n",
      "Confirmed: \t3\n",
      "Tentative: \t15\n",
      "Rejected: \t424\n",
      "Iteration: \t20 / 100\n",
      "Confirmed: \t3\n",
      "Tentative: \t15\n",
      "Rejected: \t424\n",
      "Iteration: \t21 / 100\n",
      "Confirmed: \t3\n",
      "Tentative: \t15\n",
      "Rejected: \t424\n",
      "Iteration: \t22 / 100\n",
      "Confirmed: \t4\n",
      "Tentative: \t14\n",
      "Rejected: \t424\n",
      "Iteration: \t23 / 100\n",
      "Confirmed: \t4\n",
      "Tentative: \t14\n",
      "Rejected: \t424\n",
      "Iteration: \t24 / 100\n",
      "Confirmed: \t4\n",
      "Tentative: \t14\n",
      "Rejected: \t424\n",
      "Iteration: \t25 / 100\n",
      "Confirmed: \t4\n",
      "Tentative: \t14\n",
      "Rejected: \t424\n",
      "Iteration: \t26 / 100\n",
      "Confirmed: \t4\n",
      "Tentative: \t13\n",
      "Rejected: \t425\n",
      "Iteration: \t27 / 100\n",
      "Confirmed: \t4\n",
      "Tentative: \t13\n",
      "Rejected: \t425\n",
      "Iteration: \t28 / 100\n",
      "Confirmed: \t4\n",
      "Tentative: \t13\n",
      "Rejected: \t425\n",
      "Iteration: \t29 / 100\n",
      "Confirmed: \t5\n",
      "Tentative: \t12\n",
      "Rejected: \t425\n",
      "Iteration: \t30 / 100\n",
      "Confirmed: \t5\n",
      "Tentative: \t12\n",
      "Rejected: \t425\n",
      "Iteration: \t31 / 100\n",
      "Confirmed: \t5\n",
      "Tentative: \t12\n",
      "Rejected: \t425\n",
      "Iteration: \t32 / 100\n",
      "Confirmed: \t6\n",
      "Tentative: \t11\n",
      "Rejected: \t425\n",
      "Iteration: \t33 / 100\n",
      "Confirmed: \t6\n",
      "Tentative: \t11\n",
      "Rejected: \t425\n",
      "Iteration: \t34 / 100\n",
      "Confirmed: \t7\n",
      "Tentative: \t10\n",
      "Rejected: \t425\n",
      "Iteration: \t35 / 100\n",
      "Confirmed: \t7\n",
      "Tentative: \t10\n",
      "Rejected: \t425\n",
      "Iteration: \t36 / 100\n",
      "Confirmed: \t7\n",
      "Tentative: \t10\n",
      "Rejected: \t425\n",
      "Iteration: \t37 / 100\n",
      "Confirmed: \t8\n",
      "Tentative: \t9\n",
      "Rejected: \t425\n",
      "Iteration: \t38 / 100\n",
      "Confirmed: \t8\n",
      "Tentative: \t9\n",
      "Rejected: \t425\n",
      "Iteration: \t39 / 100\n",
      "Confirmed: \t8\n",
      "Tentative: \t9\n",
      "Rejected: \t425\n",
      "Iteration: \t40 / 100\n",
      "Confirmed: \t10\n",
      "Tentative: \t7\n",
      "Rejected: \t425\n",
      "Iteration: \t41 / 100\n",
      "Confirmed: \t10\n",
      "Tentative: \t7\n",
      "Rejected: \t425\n",
      "Iteration: \t42 / 100\n",
      "Confirmed: \t10\n",
      "Tentative: \t7\n",
      "Rejected: \t425\n",
      "Iteration: \t43 / 100\n",
      "Confirmed: \t11\n",
      "Tentative: \t6\n",
      "Rejected: \t425\n",
      "Iteration: \t44 / 100\n",
      "Confirmed: \t11\n",
      "Tentative: \t6\n",
      "Rejected: \t425\n",
      "Iteration: \t45 / 100\n",
      "Confirmed: \t11\n",
      "Tentative: \t6\n",
      "Rejected: \t425\n",
      "Iteration: \t46 / 100\n",
      "Confirmed: \t11\n",
      "Tentative: \t6\n",
      "Rejected: \t425\n",
      "Iteration: \t47 / 100\n",
      "Confirmed: \t11\n",
      "Tentative: \t6\n",
      "Rejected: \t425\n",
      "Iteration: \t48 / 100\n",
      "Confirmed: \t11\n",
      "Tentative: \t6\n",
      "Rejected: \t425\n",
      "Iteration: \t49 / 100\n",
      "Confirmed: \t12\n",
      "Tentative: \t5\n",
      "Rejected: \t425\n",
      "Iteration: \t50 / 100\n",
      "Confirmed: \t12\n",
      "Tentative: \t5\n",
      "Rejected: \t425\n",
      "Iteration: \t51 / 100\n",
      "Confirmed: \t12\n",
      "Tentative: \t5\n",
      "Rejected: \t425\n",
      "Iteration: \t52 / 100\n",
      "Confirmed: \t12\n",
      "Tentative: \t5\n",
      "Rejected: \t425\n",
      "Iteration: \t53 / 100\n",
      "Confirmed: \t12\n",
      "Tentative: \t5\n",
      "Rejected: \t425\n",
      "Iteration: \t54 / 100\n",
      "Confirmed: \t12\n",
      "Tentative: \t5\n",
      "Rejected: \t425\n",
      "Iteration: \t55 / 100\n",
      "Confirmed: \t12\n",
      "Tentative: \t5\n",
      "Rejected: \t425\n",
      "Iteration: \t56 / 100\n",
      "Confirmed: \t12\n",
      "Tentative: \t5\n",
      "Rejected: \t425\n",
      "Iteration: \t57 / 100\n",
      "Confirmed: \t12\n",
      "Tentative: \t5\n",
      "Rejected: \t425\n",
      "Iteration: \t58 / 100\n",
      "Confirmed: \t12\n",
      "Tentative: \t5\n",
      "Rejected: \t425\n",
      "Iteration: \t59 / 100\n",
      "Confirmed: \t12\n",
      "Tentative: \t5\n",
      "Rejected: \t425\n",
      "Iteration: \t60 / 100\n",
      "Confirmed: \t12\n",
      "Tentative: \t5\n",
      "Rejected: \t425\n",
      "Iteration: \t61 / 100\n",
      "Confirmed: \t12\n",
      "Tentative: \t5\n",
      "Rejected: \t425\n",
      "Iteration: \t62 / 100\n",
      "Confirmed: \t12\n",
      "Tentative: \t5\n",
      "Rejected: \t425\n",
      "Iteration: \t63 / 100\n",
      "Confirmed: \t12\n",
      "Tentative: \t5\n",
      "Rejected: \t425\n",
      "Iteration: \t64 / 100\n",
      "Confirmed: \t12\n",
      "Tentative: \t5\n",
      "Rejected: \t425\n",
      "Iteration: \t65 / 100\n",
      "Confirmed: \t12\n",
      "Tentative: \t5\n",
      "Rejected: \t425\n",
      "Iteration: \t66 / 100\n",
      "Confirmed: \t12\n",
      "Tentative: \t5\n",
      "Rejected: \t425\n",
      "Iteration: \t67 / 100\n",
      "Confirmed: \t14\n",
      "Tentative: \t3\n",
      "Rejected: \t425\n",
      "Iteration: \t68 / 100\n",
      "Confirmed: \t14\n",
      "Tentative: \t3\n",
      "Rejected: \t425\n",
      "Iteration: \t69 / 100\n",
      "Confirmed: \t14\n",
      "Tentative: \t3\n",
      "Rejected: \t425\n",
      "Iteration: \t70 / 100\n",
      "Confirmed: \t14\n",
      "Tentative: \t3\n",
      "Rejected: \t425\n",
      "Iteration: \t71 / 100\n",
      "Confirmed: \t14\n",
      "Tentative: \t3\n",
      "Rejected: \t425\n",
      "Iteration: \t72 / 100\n",
      "Confirmed: \t14\n",
      "Tentative: \t3\n",
      "Rejected: \t425\n",
      "Iteration: \t73 / 100\n",
      "Confirmed: \t14\n",
      "Tentative: \t3\n",
      "Rejected: \t425\n",
      "Iteration: \t74 / 100\n",
      "Confirmed: \t14\n",
      "Tentative: \t3\n",
      "Rejected: \t425\n",
      "Iteration: \t75 / 100\n",
      "Confirmed: \t14\n",
      "Tentative: \t3\n",
      "Rejected: \t425\n",
      "Iteration: \t76 / 100\n",
      "Confirmed: \t14\n",
      "Tentative: \t3\n",
      "Rejected: \t425\n",
      "Iteration: \t77 / 100\n",
      "Confirmed: \t14\n",
      "Tentative: \t3\n",
      "Rejected: \t425\n",
      "Iteration: \t78 / 100\n",
      "Confirmed: \t14\n",
      "Tentative: \t3\n",
      "Rejected: \t425\n",
      "Iteration: \t79 / 100\n",
      "Confirmed: \t14\n",
      "Tentative: \t3\n",
      "Rejected: \t425\n",
      "Iteration: \t80 / 100\n",
      "Confirmed: \t14\n",
      "Tentative: \t3\n",
      "Rejected: \t425\n",
      "Iteration: \t81 / 100\n",
      "Confirmed: \t14\n",
      "Tentative: \t3\n",
      "Rejected: \t425\n",
      "Iteration: \t82 / 100\n",
      "Confirmed: \t14\n",
      "Tentative: \t3\n",
      "Rejected: \t425\n",
      "Iteration: \t83 / 100\n",
      "Confirmed: \t14\n",
      "Tentative: \t3\n",
      "Rejected: \t425\n",
      "Iteration: \t84 / 100\n",
      "Confirmed: \t14\n",
      "Tentative: \t3\n",
      "Rejected: \t425\n",
      "Iteration: \t85 / 100\n",
      "Confirmed: \t14\n",
      "Tentative: \t3\n",
      "Rejected: \t425\n",
      "Iteration: \t86 / 100\n",
      "Confirmed: \t14\n",
      "Tentative: \t3\n",
      "Rejected: \t425\n",
      "Iteration: \t87 / 100\n",
      "Confirmed: \t14\n",
      "Tentative: \t3\n",
      "Rejected: \t425\n",
      "Iteration: \t88 / 100\n",
      "Confirmed: \t14\n",
      "Tentative: \t3\n",
      "Rejected: \t425\n",
      "Iteration: \t89 / 100\n",
      "Confirmed: \t14\n",
      "Tentative: \t3\n",
      "Rejected: \t425\n",
      "Iteration: \t90 / 100\n",
      "Confirmed: \t15\n",
      "Tentative: \t2\n",
      "Rejected: \t425\n",
      "Iteration: \t91 / 100\n",
      "Confirmed: \t15\n",
      "Tentative: \t2\n",
      "Rejected: \t425\n",
      "Iteration: \t92 / 100\n",
      "Confirmed: \t15\n",
      "Tentative: \t2\n",
      "Rejected: \t425\n",
      "Iteration: \t93 / 100\n",
      "Confirmed: \t15\n",
      "Tentative: \t2\n",
      "Rejected: \t425\n",
      "Iteration: \t94 / 100\n",
      "Confirmed: \t15\n",
      "Tentative: \t2\n",
      "Rejected: \t425\n",
      "Iteration: \t95 / 100\n",
      "Confirmed: \t15\n",
      "Tentative: \t2\n",
      "Rejected: \t425\n",
      "Iteration: \t96 / 100\n",
      "Confirmed: \t15\n",
      "Tentative: \t2\n",
      "Rejected: \t425\n",
      "Iteration: \t97 / 100\n",
      "Confirmed: \t15\n",
      "Tentative: \t2\n",
      "Rejected: \t425\n",
      "Iteration: \t98 / 100\n",
      "Confirmed: \t15\n",
      "Tentative: \t2\n",
      "Rejected: \t425\n",
      "Iteration: \t99 / 100\n",
      "Confirmed: \t15\n",
      "Tentative: \t2\n",
      "Rejected: \t425\n",
      "\n",
      "\n",
      "BorutaPy finished running.\n",
      "\n",
      "Iteration: \t100 / 100\n",
      "Confirmed: \t15\n",
      "Tentative: \t1\n",
      "Rejected: \t425\n",
      "Feature: Feature_1                      Rank: 27,  Keep: False\n",
      "Feature: Feature_2                      Rank: 165,  Keep: False\n",
      "Feature: Feature_3                      Rank: 341,  Keep: False\n",
      "Feature: Feature_4                      Rank: 305,  Keep: False\n",
      "Feature: Feature_5                      Rank: 315,  Keep: False\n",
      "Feature: Feature_7                      Rank: 242,  Keep: False\n",
      "Feature: Feature_8                      Rank: 195,  Keep: False\n",
      "Feature: Feature_9                      Rank: 36,  Keep: False\n",
      "Feature: Feature_10                     Rank: 108,  Keep: False\n",
      "Feature: Feature_11                     Rank: 268,  Keep: False\n",
      "Feature: Feature_12                     Rank: 407,  Keep: False\n",
      "Feature: Feature_13                     Rank: 315,  Keep: False\n",
      "Feature: Feature_15                     Rank: 21,  Keep: False\n",
      "Feature: Feature_16                     Rank: 67,  Keep: False\n",
      "Feature: Feature_17                     Rank: 83,  Keep: False\n",
      "Feature: Feature_18                     Rank: 183,  Keep: False\n",
      "Feature: Feature_19                     Rank: 293,  Keep: False\n",
      "Feature: Feature_20                     Rank: 85,  Keep: False\n",
      "Feature: Feature_21                     Rank: 311,  Keep: False\n",
      "Feature: Feature_22                     Rank: 1,  Keep: True\n",
      "Feature: Feature_23                     Rank: 54,  Keep: False\n",
      "Feature: Feature_24                     Rank: 304,  Keep: False\n",
      "Feature: Feature_25                     Rank: 307,  Keep: False\n",
      "Feature: Feature_26                     Rank: 74,  Keep: False\n",
      "Feature: Feature_27                     Rank: 181,  Keep: False\n",
      "Feature: Feature_28                     Rank: 192,  Keep: False\n",
      "Feature: Feature_29                     Rank: 7,  Keep: False\n",
      "Feature: Feature_30                     Rank: 359,  Keep: False\n",
      "Feature: Feature_31                     Rank: 268,  Keep: False\n",
      "Feature: Feature_32                     Rank: 1,  Keep: True\n",
      "Feature: Feature_33                     Rank: 267,  Keep: False\n",
      "Feature: Feature_34                     Rank: 1,  Keep: True\n",
      "Feature: Feature_35                     Rank: 168,  Keep: False\n",
      "Feature: Feature_36                     Rank: 139,  Keep: False\n",
      "Feature: Feature_37                     Rank: 176,  Keep: False\n",
      "Feature: Feature_38                     Rank: 91,  Keep: False\n",
      "Feature: Feature_39                     Rank: 152,  Keep: False\n",
      "Feature: Feature_40                     Rank: 96,  Keep: False\n",
      "Feature: Feature_41                     Rank: 76,  Keep: False\n",
      "Feature: Feature_42                     Rank: 210,  Keep: False\n",
      "Feature: Feature_44                     Rank: 76,  Keep: False\n",
      "Feature: Feature_45                     Rank: 328,  Keep: False\n",
      "Feature: Feature_46                     Rank: 118,  Keep: False\n",
      "Feature: Feature_47                     Rank: 294,  Keep: False\n",
      "Feature: Feature_48                     Rank: 223,  Keep: False\n",
      "Feature: Feature_49                     Rank: 172,  Keep: False\n",
      "Feature: Feature_51                     Rank: 301,  Keep: False\n",
      "Feature: Feature_52                     Rank: 170,  Keep: False\n",
      "Feature: Feature_54                     Rank: 255,  Keep: False\n",
      "Feature: Feature_55                     Rank: 312,  Keep: False\n",
      "Feature: Feature_56                     Rank: 110,  Keep: False\n",
      "Feature: Feature_57                     Rank: 43,  Keep: False\n",
      "Feature: Feature_58                     Rank: 181,  Keep: False\n",
      "Feature: Feature_59                     Rank: 93,  Keep: False\n",
      "Feature: Feature_60                     Rank: 1,  Keep: True\n",
      "Feature: Feature_61                     Rank: 229,  Keep: False\n",
      "Feature: Feature_62                     Rank: 81,  Keep: False\n",
      "Feature: Feature_63                     Rank: 126,  Keep: False\n",
      "Feature: Feature_64                     Rank: 11,  Keep: False\n",
      "Feature: Feature_65                     Rank: 1,  Keep: True\n",
      "Feature: Feature_66                     Rank: 1,  Keep: True\n",
      "Feature: Feature_67                     Rank: 140,  Keep: False\n",
      "Feature: Feature_68                     Rank: 78,  Keep: False\n",
      "Feature: Feature_69                     Rank: 103,  Keep: False\n",
      "Feature: Feature_71                     Rank: 123,  Keep: False\n",
      "Feature: Feature_72                     Rank: 261,  Keep: False\n",
      "Feature: Feature_75                     Rank: 425,  Keep: False\n",
      "Feature: Feature_76                     Rank: 116,  Keep: False\n",
      "Feature: Feature_77                     Rank: 83,  Keep: False\n",
      "Feature: Feature_78                     Rank: 258,  Keep: False\n",
      "Feature: Feature_79                     Rank: 10,  Keep: False\n",
      "Feature: Feature_80                     Rank: 53,  Keep: False\n",
      "Feature: Feature_81                     Rank: 262,  Keep: False\n",
      "Feature: Feature_82                     Rank: 6,  Keep: False\n",
      "Feature: Feature_83                     Rank: 375,  Keep: False\n",
      "Feature: Feature_84                     Rank: 336,  Keep: False\n",
      "Feature: Feature_85                     Rank: 374,  Keep: False\n",
      "Feature: Feature_87                     Rank: 110,  Keep: False\n",
      "Feature: Feature_88                     Rank: 408,  Keep: False\n",
      "Feature: Feature_89                     Rank: 277,  Keep: False\n",
      "Feature: Feature_90                     Rank: 178,  Keep: False\n",
      "Feature: Feature_91                     Rank: 69,  Keep: False\n",
      "Feature: Feature_92                     Rank: 46,  Keep: False\n",
      "Feature: Feature_93                     Rank: 324,  Keep: False\n",
      "Feature: Feature_94                     Rank: 274,  Keep: False\n",
      "Feature: Feature_95                     Rank: 417,  Keep: False\n",
      "Feature: Feature_96                     Rank: 66,  Keep: False\n",
      "Feature: Feature_97                     Rank: 275,  Keep: False\n",
      "Feature: Feature_99                     Rank: 246,  Keep: False\n",
      "Feature: Feature_100                    Rank: 232,  Keep: False\n",
      "Feature: Feature_101                    Rank: 123,  Keep: False\n",
      "Feature: Feature_102                    Rank: 416,  Keep: False\n",
      "Feature: Feature_103                    Rank: 35,  Keep: False\n",
      "Feature: Feature_104                    Rank: 1,  Keep: True\n",
      "Feature: Feature_105                    Rank: 352,  Keep: False\n",
      "Feature: Feature_106                    Rank: 381,  Keep: False\n",
      "Feature: Feature_107                    Rank: 350,  Keep: False\n",
      "Feature: Feature_108                    Rank: 202,  Keep: False\n",
      "Feature: Feature_109                    Rank: 328,  Keep: False\n",
      "Feature: Feature_114                    Rank: 137,  Keep: False\n",
      "Feature: Feature_115                    Rank: 420,  Keep: False\n",
      "Feature: Feature_116                    Rank: 106,  Keep: False\n",
      "Feature: Feature_117                    Rank: 259,  Keep: False\n",
      "Feature: Feature_118                    Rank: 116,  Keep: False\n",
      "Feature: Feature_119                    Rank: 278,  Keep: False\n",
      "Feature: Feature_120                    Rank: 295,  Keep: False\n",
      "Feature: Feature_121                    Rank: 234,  Keep: False\n",
      "Feature: Feature_122                    Rank: 1,  Keep: True\n",
      "Feature: Feature_123                    Rank: 27,  Keep: False\n",
      "Feature: Feature_124                    Rank: 33,  Keep: False\n",
      "Feature: Feature_125                    Rank: 16,  Keep: False\n",
      "Feature: Feature_126                    Rank: 4,  Keep: False\n",
      "Feature: Feature_127                    Rank: 19,  Keep: False\n",
      "Feature: Feature_128                    Rank: 29,  Keep: False\n",
      "Feature: Feature_129                    Rank: 172,  Keep: False\n",
      "Feature: Feature_130                    Rank: 3,  Keep: False\n",
      "Feature: Feature_131                    Rank: 1,  Keep: True\n",
      "Feature: Feature_132                    Rank: 200,  Keep: False\n",
      "Feature: Feature_133                    Rank: 71,  Keep: False\n",
      "Feature: Feature_134                    Rank: 79,  Keep: False\n",
      "Feature: Feature_135                    Rank: 343,  Keep: False\n",
      "Feature: Feature_136                    Rank: 144,  Keep: False\n",
      "Feature: Feature_137                    Rank: 397,  Keep: False\n",
      "Feature: Feature_138                    Rank: 249,  Keep: False\n",
      "Feature: Feature_139                    Rank: 210,  Keep: False\n",
      "Feature: Feature_140                    Rank: 276,  Keep: False\n",
      "Feature: Feature_141                    Rank: 230,  Keep: False\n",
      "Feature: Feature_143                    Rank: 302,  Keep: False\n",
      "Feature: Feature_144                    Rank: 226,  Keep: False\n",
      "Feature: Feature_145                    Rank: 59,  Keep: False\n",
      "Feature: Feature_146                    Rank: 278,  Keep: False\n",
      "Feature: Feature_147                    Rank: 40,  Keep: False\n",
      "Feature: Feature_148                    Rank: 89,  Keep: False\n",
      "Feature: Feature_149                    Rank: 326,  Keep: False\n",
      "Feature: Feature_151                    Rank: 283,  Keep: False\n",
      "Feature: Feature_152                    Rank: 281,  Keep: False\n",
      "Feature: Feature_153                    Rank: 13,  Keep: False\n",
      "Feature: Feature_154                    Rank: 64,  Keep: False\n",
      "Feature: Feature_155                    Rank: 370,  Keep: False\n",
      "Feature: Feature_156                    Rank: 169,  Keep: False\n",
      "Feature: Feature_157                    Rank: 93,  Keep: False\n",
      "Feature: Feature_160                    Rank: 116,  Keep: False\n",
      "Feature: Feature_161                    Rank: 59,  Keep: False\n",
      "Feature: Feature_162                    Rank: 128,  Keep: False\n",
      "Feature: Feature_163                    Rank: 257,  Keep: False\n",
      "Feature: Feature_164                    Rank: 49,  Keep: False\n",
      "Feature: Feature_165                    Rank: 209,  Keep: False\n",
      "Feature: Feature_166                    Rank: 396,  Keep: False\n",
      "Feature: Feature_167                    Rank: 414,  Keep: False\n",
      "Feature: Feature_168                    Rank: 403,  Keep: False\n",
      "Feature: Feature_169                    Rank: 356,  Keep: False\n",
      "Feature: Feature_170                    Rank: 346,  Keep: False\n",
      "Feature: Feature_171                    Rank: 167,  Keep: False\n",
      "Feature: Feature_172                    Rank: 287,  Keep: False\n",
      "Feature: Feature_173                    Rank: 153,  Keep: False\n",
      "Feature: Feature_174                    Rank: 248,  Keep: False\n",
      "Feature: Feature_175                    Rank: 103,  Keep: False\n",
      "Feature: Feature_176                    Rank: 12,  Keep: False\n",
      "Feature: Feature_177                    Rank: 363,  Keep: False\n",
      "Feature: Feature_178                    Rank: 361,  Keep: False\n",
      "Feature: Feature_181                    Rank: 20,  Keep: False\n",
      "Feature: Feature_182                    Rank: 81,  Keep: False\n",
      "Feature: Feature_183                    Rank: 43,  Keep: False\n",
      "Feature: Feature_184                    Rank: 8,  Keep: False\n",
      "Feature: Feature_185                    Rank: 217,  Keep: False\n",
      "Feature: Feature_186                    Rank: 394,  Keep: False\n",
      "Feature: Feature_188                    Rank: 148,  Keep: False\n",
      "Feature: Feature_189                    Rank: 54,  Keep: False\n",
      "Feature: Feature_196                    Rank: 72,  Keep: False\n",
      "Feature: Feature_197                    Rank: 317,  Keep: False\n",
      "Feature: Feature_198                    Rank: 93,  Keep: False\n",
      "Feature: Feature_199                    Rank: 342,  Keep: False\n",
      "Feature: Feature_200                    Rank: 365,  Keep: False\n",
      "Feature: Feature_201                    Rank: 25,  Keep: False\n",
      "Feature: Feature_202                    Rank: 223,  Keep: False\n",
      "Feature: Feature_203                    Rank: 56,  Keep: False\n",
      "Feature: Feature_204                    Rank: 143,  Keep: False\n",
      "Feature: Feature_205                    Rank: 190,  Keep: False\n",
      "Feature: Feature_206                    Rank: 1,  Keep: True\n",
      "Feature: Feature_207                    Rank: 425,  Keep: False\n",
      "Feature: Feature_208                    Rank: 151,  Keep: False\n",
      "Feature: Feature_209                    Rank: 218,  Keep: False\n",
      "Feature: Feature_210                    Rank: 425,  Keep: False\n",
      "Feature: Feature_211                    Rank: 98,  Keep: False\n",
      "Feature: Feature_212                    Rank: 314,  Keep: False\n",
      "Feature: Feature_213                    Rank: 383,  Keep: False\n",
      "Feature: Feature_214                    Rank: 1,  Keep: True\n",
      "Feature: Feature_215                    Rank: 270,  Keep: False\n",
      "Feature: Feature_216                    Rank: 247,  Keep: False\n",
      "Feature: Feature_217                    Rank: 101,  Keep: False\n",
      "Feature: Feature_218                    Rank: 142,  Keep: False\n",
      "Feature: Feature_219                    Rank: 157,  Keep: False\n",
      "Feature: Feature_220                    Rank: 410,  Keep: False\n",
      "Feature: Feature_222                    Rank: 390,  Keep: False\n",
      "Feature: Feature_223                    Rank: 368,  Keep: False\n",
      "Feature: Feature_224                    Rank: 291,  Keep: False\n",
      "Feature: Feature_225                    Rank: 388,  Keep: False\n",
      "Feature: Feature_226                    Rank: 233,  Keep: False\n",
      "Feature: Feature_228                    Rank: 49,  Keep: False\n",
      "Feature: Feature_229                    Rank: 174,  Keep: False\n",
      "Feature: Feature_239                    Rank: 367,  Keep: False\n",
      "Feature: Feature_240                    Rank: 207,  Keep: False\n",
      "Feature: Feature_249                    Rank: 219,  Keep: False\n",
      "Feature: Feature_250                    Rank: 419,  Keep: False\n",
      "Feature: Feature_251                    Rank: 126,  Keep: False\n",
      "Feature: Feature_252                    Rank: 310,  Keep: False\n",
      "Feature: Feature_253                    Rank: 226,  Keep: False\n",
      "Feature: Feature_254                    Rank: 241,  Keep: False\n",
      "Feature: Feature_255                    Rank: 361,  Keep: False\n",
      "Feature: Feature_256                    Rank: 289,  Keep: False\n",
      "Feature: Feature_268                    Rank: 106,  Keep: False\n",
      "Feature: Feature_269                    Rank: 223,  Keep: False\n",
      "Feature: Feature_270                    Rank: 184,  Keep: False\n",
      "Feature: Feature_271                    Rank: 42,  Keep: False\n",
      "Feature: Feature_272                    Rank: 272,  Keep: False\n",
      "Feature: Feature_273                    Rank: 196,  Keep: False\n",
      "Feature: Feature_274                    Rank: 213,  Keep: False\n",
      "Feature: Feature_275                    Rank: 296,  Keep: False\n",
      "Feature: Feature_276                    Rank: 353,  Keep: False\n",
      "Feature: Feature_278                    Rank: 334,  Keep: False\n",
      "Feature: Feature_279                    Rank: 411,  Keep: False\n",
      "Feature: Feature_280                    Rank: 64,  Keep: False\n",
      "Feature: Feature_281                    Rank: 86,  Keep: False\n",
      "Feature: Feature_282                    Rank: 30,  Keep: False\n",
      "Feature: Feature_283                    Rank: 96,  Keep: False\n",
      "Feature: Feature_284                    Rank: 351,  Keep: False\n",
      "Feature: Feature_286                    Rank: 299,  Keep: False\n",
      "Feature: Feature_287                    Rank: 219,  Keep: False\n",
      "Feature: Feature_288                    Rank: 21,  Keep: False\n",
      "Feature: Feature_289                    Rank: 123,  Keep: False\n",
      "Feature: Feature_290                    Rank: 354,  Keep: False\n",
      "Feature: Feature_291                    Rank: 34,  Keep: False\n",
      "Feature: Feature_292                    Rank: 186,  Keep: False\n",
      "Feature: Feature_295                    Rank: 136,  Keep: False\n",
      "Feature: Feature_296                    Rank: 131,  Keep: False\n",
      "Feature: Feature_297                    Rank: 184,  Keep: False\n",
      "Feature: Feature_298                    Rank: 307,  Keep: False\n",
      "Feature: Feature_299                    Rank: 23,  Keep: False\n",
      "Feature: Feature_300                    Rank: 114,  Keep: False\n",
      "Feature: Feature_301                    Rank: 379,  Keep: False\n",
      "Feature: Feature_302                    Rank: 263,  Keep: False\n",
      "Feature: Feature_303                    Rank: 320,  Keep: False\n",
      "Feature: Feature_304                    Rank: 205,  Keep: False\n",
      "Feature: Feature_305                    Rank: 297,  Keep: False\n",
      "Feature: Feature_306                    Rank: 339,  Keep: False\n",
      "Feature: Feature_307                    Rank: 243,  Keep: False\n",
      "Feature: Feature_308                    Rank: 132,  Keep: False\n",
      "Feature: Feature_309                    Rank: 201,  Keep: False\n",
      "Feature: Feature_310                    Rank: 88,  Keep: False\n",
      "Feature: Feature_311                    Rank: 13,  Keep: False\n",
      "Feature: Feature_312                    Rank: 370,  Keep: False\n",
      "Feature: Feature_313                    Rank: 299,  Keep: False\n",
      "Feature: Feature_317                    Rank: 18,  Keep: False\n",
      "Feature: Feature_318                    Rank: 37,  Keep: False\n",
      "Feature: Feature_319                    Rank: 238,  Keep: False\n",
      "Feature: Feature_320                    Rank: 1,  Keep: True\n",
      "Feature: Feature_321                    Rank: 212,  Keep: False\n",
      "Feature: Feature_322                    Rank: 376,  Keep: False\n",
      "Feature: Feature_324                    Rank: 99,  Keep: False\n",
      "Feature: Feature_325                    Rank: 72,  Keep: False\n",
      "Feature: Feature_332                    Rank: 69,  Keep: False\n",
      "Feature: Feature_333                    Rank: 345,  Keep: False\n",
      "Feature: Feature_334                    Rank: 47,  Keep: False\n",
      "Feature: Feature_335                    Rank: 289,  Keep: False\n",
      "Feature: Feature_336                    Rank: 166,  Keep: False\n",
      "Feature: Feature_337                    Rank: 17,  Keep: False\n",
      "Feature: Feature_338                    Rank: 379,  Keep: False\n",
      "Feature: Feature_339                    Rank: 150,  Keep: False\n",
      "Feature: Feature_340                    Rank: 215,  Keep: False\n",
      "Feature: Feature_341                    Rank: 285,  Keep: False\n",
      "Feature: Feature_342                    Rank: 2,  Keep: False\n",
      "Feature: Feature_343                    Rank: 425,  Keep: False\n",
      "Feature: Feature_344                    Rank: 163,  Keep: False\n",
      "Feature: Feature_345                    Rank: 140,  Keep: False\n",
      "Feature: Feature_348                    Rank: 425,  Keep: False\n",
      "Feature: Feature_349                    Rank: 41,  Keep: False\n",
      "Feature: Feature_350                    Rank: 323,  Keep: False\n",
      "Feature: Feature_351                    Rank: 365,  Keep: False\n",
      "Feature: Feature_352                    Rank: 1,  Keep: True\n",
      "Feature: Feature_353                    Rank: 313,  Keep: False\n",
      "Feature: Feature_354                    Rank: 221,  Keep: False\n",
      "Feature: Feature_355                    Rank: 158,  Keep: False\n",
      "Feature: Feature_356                    Rank: 175,  Keep: False\n",
      "Feature: Feature_357                    Rank: 340,  Keep: False\n",
      "Feature: Feature_358                    Rank: 413,  Keep: False\n",
      "Feature: Feature_360                    Rank: 359,  Keep: False\n",
      "Feature: Feature_361                    Rank: 348,  Keep: False\n",
      "Feature: Feature_362                    Rank: 235,  Keep: False\n",
      "Feature: Feature_363                    Rank: 386,  Keep: False\n",
      "Feature: Feature_364                    Rank: 244,  Keep: False\n",
      "Feature: Feature_366                    Rank: 76,  Keep: False\n",
      "Feature: Feature_367                    Rank: 385,  Keep: False\n",
      "Feature: Feature_368                    Rank: 402,  Keep: False\n",
      "Feature: Feature_369                    Rank: 336,  Keep: False\n",
      "Feature: Feature_377                    Rank: 401,  Keep: False\n",
      "Feature: Feature_378                    Rank: 58,  Keep: False\n",
      "Feature: Feature_387                    Rank: 349,  Keep: False\n",
      "Feature: Feature_388                    Rank: 421,  Keep: False\n",
      "Feature: Feature_389                    Rank: 123,  Keep: False\n",
      "Feature: Feature_390                    Rank: 415,  Keep: False\n",
      "Feature: Feature_391                    Rank: 120,  Keep: False\n",
      "Feature: Feature_392                    Rank: 253,  Keep: False\n",
      "Feature: Feature_393                    Rank: 260,  Keep: False\n",
      "Feature: Feature_394                    Rank: 322,  Keep: False\n",
      "Feature: Feature_406                    Rank: 39,  Keep: False\n",
      "Feature: Feature_407                    Rank: 146,  Keep: False\n",
      "Feature: Feature_408                    Rank: 346,  Keep: False\n",
      "Feature: Feature_409                    Rank: 129,  Keep: False\n",
      "Feature: Feature_410                    Rank: 383,  Keep: False\n",
      "Feature: Feature_411                    Rank: 199,  Keep: False\n",
      "Feature: Feature_412                    Rank: 194,  Keep: False\n",
      "Feature: Feature_413                    Rank: 177,  Keep: False\n",
      "Feature: Feature_414                    Rank: 256,  Keep: False\n",
      "Feature: Feature_416                    Rank: 409,  Keep: False\n",
      "Feature: Feature_417                    Rank: 135,  Keep: False\n",
      "Feature: Feature_418                    Rank: 52,  Keep: False\n",
      "Feature: Feature_419                    Rank: 400,  Keep: False\n",
      "Feature: Feature_420                    Rank: 389,  Keep: False\n",
      "Feature: Feature_421                    Rank: 87,  Keep: False\n",
      "Feature: Feature_422                    Rank: 397,  Keep: False\n",
      "Feature: Feature_424                    Rank: 62,  Keep: False\n",
      "Feature: Feature_425                    Rank: 309,  Keep: False\n",
      "Feature: Feature_426                    Rank: 24,  Keep: False\n",
      "Feature: Feature_427                    Rank: 67,  Keep: False\n",
      "Feature: Feature_428                    Rank: 379,  Keep: False\n",
      "Feature: Feature_429                    Rank: 99,  Keep: False\n",
      "Feature: Feature_430                    Rank: 186,  Keep: False\n",
      "Feature: Feature_431                    Rank: 134,  Keep: False\n",
      "Feature: Feature_432                    Rank: 61,  Keep: False\n",
      "Feature: Feature_433                    Rank: 144,  Keep: False\n",
      "Feature: Feature_434                    Rank: 179,  Keep: False\n",
      "Feature: Feature_435                    Rank: 192,  Keep: False\n",
      "Feature: Feature_436                    Rank: 159,  Keep: False\n",
      "Feature: Feature_437                    Rank: 406,  Keep: False\n",
      "Feature: Feature_438                    Rank: 319,  Keep: False\n",
      "Feature: Feature_439                    Rank: 283,  Keep: False\n",
      "Feature: Feature_440                    Rank: 223,  Keep: False\n",
      "Feature: Feature_441                    Rank: 228,  Keep: False\n",
      "Feature: Feature_442                    Rank: 146,  Keep: False\n",
      "Feature: Feature_443                    Rank: 303,  Keep: False\n",
      "Feature: Feature_444                    Rank: 149,  Keep: False\n",
      "Feature: Feature_445                    Rank: 205,  Keep: False\n",
      "Feature: Feature_446                    Rank: 132,  Keep: False\n",
      "Feature: Feature_447                    Rank: 15,  Keep: False\n",
      "Feature: Feature_448                    Rank: 270,  Keep: False\n",
      "Feature: Feature_449                    Rank: 334,  Keep: False\n",
      "Feature: Feature_453                    Rank: 32,  Keep: False\n",
      "Feature: Feature_454                    Rank: 161,  Keep: False\n",
      "Feature: Feature_455                    Rank: 90,  Keep: False\n",
      "Feature: Feature_456                    Rank: 8,  Keep: False\n",
      "Feature: Feature_457                    Rank: 216,  Keep: False\n",
      "Feature: Feature_458                    Rank: 392,  Keep: False\n",
      "Feature: Feature_460                    Rank: 93,  Keep: False\n",
      "Feature: Feature_461                    Rank: 31,  Keep: False\n",
      "Feature: Feature_468                    Rank: 156,  Keep: False\n",
      "Feature: Feature_469                    Rank: 81,  Keep: False\n",
      "Feature: Feature_470                    Rank: 45,  Keep: False\n",
      "Feature: Feature_471                    Rank: 327,  Keep: False\n",
      "Feature: Feature_472                    Rank: 332,  Keep: False\n",
      "Feature: Feature_473                    Rank: 286,  Keep: False\n",
      "Feature: Feature_474                    Rank: 159,  Keep: False\n",
      "Feature: Feature_475                    Rank: 281,  Keep: False\n",
      "Feature: Feature_476                    Rank: 112,  Keep: False\n",
      "Feature: Feature_477                    Rank: 181,  Keep: False\n",
      "Feature: Feature_478                    Rank: 1,  Keep: True\n",
      "Feature: Feature_479                    Rank: 425,  Keep: False\n",
      "Feature: Feature_480                    Rank: 155,  Keep: False\n",
      "Feature: Feature_481                    Rank: 190,  Keep: False\n",
      "Feature: Feature_483                    Rank: 412,  Keep: False\n",
      "Feature: Feature_484                    Rank: 338,  Keep: False\n",
      "Feature: Feature_485                    Rank: 214,  Keep: False\n",
      "Feature: Feature_486                    Rank: 249,  Keep: False\n",
      "Feature: Feature_487                    Rank: 161,  Keep: False\n",
      "Feature: Feature_488                    Rank: 239,  Keep: False\n",
      "Feature: Feature_489                    Rank: 26,  Keep: False\n",
      "Feature: Feature_490                    Rank: 105,  Keep: False\n",
      "Feature: Feature_491                    Rank: 129,  Keep: False\n",
      "Feature: Feature_492                    Rank: 236,  Keep: False\n",
      "Feature: Feature_494                    Rank: 393,  Keep: False\n",
      "Feature: Feature_495                    Rank: 324,  Keep: False\n",
      "Feature: Feature_496                    Rank: 190,  Keep: False\n",
      "Feature: Feature_497                    Rank: 399,  Keep: False\n",
      "Feature: Feature_498                    Rank: 197,  Keep: False\n",
      "Feature: Feature_500                    Rank: 103,  Keep: False\n",
      "Feature: Feature_501                    Rank: 330,  Keep: False\n",
      "Feature: Feature_511                    Rank: 1,  Keep: True\n",
      "Feature: Feature_512                    Rank: 112,  Keep: False\n",
      "Feature: Feature_521                    Rank: 354,  Keep: False\n",
      "Feature: Feature_522                    Rank: 422,  Keep: False\n",
      "Feature: Feature_523                    Rank: 138,  Keep: False\n",
      "Feature: Feature_524                    Rank: 202,  Keep: False\n",
      "Feature: Feature_525                    Rank: 119,  Keep: False\n",
      "Feature: Feature_526                    Rank: 252,  Keep: False\n",
      "Feature: Feature_527                    Rank: 298,  Keep: False\n",
      "Feature: Feature_528                    Rank: 357,  Keep: False\n",
      "Feature: Feature_540                    Rank: 164,  Keep: False\n",
      "Feature: Feature_541                    Rank: 273,  Keep: False\n",
      "Feature: Feature_542                    Rank: 188,  Keep: False\n",
      "Feature: Feature_543                    Rank: 320,  Keep: False\n",
      "Feature: Feature_544                    Rank: 370,  Keep: False\n",
      "Feature: Feature_545                    Rank: 418,  Keep: False\n",
      "Feature: Feature_546                    Rank: 334,  Keep: False\n",
      "Feature: Feature_547                    Rank: 245,  Keep: False\n",
      "Feature: Feature_548                    Rank: 57,  Keep: False\n",
      "Feature: Feature_549                    Rank: 372,  Keep: False\n",
      "Feature: Feature_550                    Rank: 280,  Keep: False\n",
      "Feature: Feature_551                    Rank: 318,  Keep: False\n",
      "Feature: Feature_552                    Rank: 253,  Keep: False\n",
      "Feature: Feature_553                    Rank: 207,  Keep: False\n",
      "Feature: Feature_554                    Rank: 330,  Keep: False\n",
      "Feature: Feature_555                    Rank: 343,  Keep: False\n",
      "Feature: Feature_556                    Rank: 292,  Keep: False\n",
      "Feature: Feature_557                    Rank: 364,  Keep: False\n",
      "Feature: Feature_558                    Rank: 237,  Keep: False\n",
      "Feature: Feature_559                    Rank: 381,  Keep: False\n",
      "Feature: Feature_560                    Rank: 239,  Keep: False\n",
      "Feature: Feature_561                    Rank: 205,  Keep: False\n",
      "Feature: Feature_562                    Rank: 108,  Keep: False\n",
      "Feature: Feature_563                    Rank: 63,  Keep: False\n",
      "Feature: Feature_564                    Rank: 51,  Keep: False\n",
      "Feature: Feature_565                    Rank: 404,  Keep: False\n",
      "Feature: Feature_566                    Rank: 231,  Keep: False\n",
      "Feature: Feature_567                    Rank: 395,  Keep: False\n",
      "Feature: Feature_568                    Rank: 391,  Keep: False\n",
      "Feature: Feature_569                    Rank: 377,  Keep: False\n",
      "Feature: Feature_570                    Rank: 307,  Keep: False\n",
      "Feature: Feature_571                    Rank: 373,  Keep: False\n",
      "Feature: Feature_572                    Rank: 172,  Keep: False\n",
      "Feature: Feature_573                    Rank: 251,  Keep: False\n",
      "Feature: Feature_574                    Rank: 38,  Keep: False\n",
      "Feature: Feature_575                    Rank: 264,  Keep: False\n",
      "Feature: Feature_576                    Rank: 154,  Keep: False\n",
      "Feature: Feature_577                    Rank: 405,  Keep: False\n",
      "Feature: Feature_578                    Rank: 5,  Keep: False\n",
      "Feature: Feature_583                    Rank: 265,  Keep: False\n",
      "Feature: Feature_584                    Rank: 197,  Keep: False\n",
      "Feature: Feature_585                    Rank: 266,  Keep: False\n",
      "Feature: Feature_586                    Rank: 289,  Keep: False\n",
      "Feature: Feature_587                    Rank: 358,  Keep: False\n",
      "Feature: Feature_588                    Rank: 48,  Keep: False\n",
      "Feature: Feature_589                    Rank: 120,  Keep: False\n",
      "Feature: Feature_590                    Rank: 386,  Keep: False\n",
      "['Feature_22', 'Feature_32', 'Feature_34', 'Feature_60', 'Feature_65', 'Feature_66', 'Feature_104', 'Feature_122', 'Feature_131', 'Feature_206', 'Feature_214', 'Feature_320', 'Feature_352', 'Feature_478', 'Feature_511']\n"
     ]
    }
   ],
   "source": [
    "from sklearn.ensemble import RandomForestClassifier\n",
    "from boruta import BorutaPy\n",
    "X_train_boruta , final_features = BorutaFeatureSelection(X_train_knn,y_train.values.ravel())"
   ]
  },
  {
   "cell_type": "code",
   "execution_count": 36,
   "metadata": {
    "colab": {
     "base_uri": "https://localhost:8080/"
    },
    "id": "PmsoFTseNUXu",
    "outputId": "23cbf78e-9081-4f5d-c371-c54950e3a8d5"
   },
   "outputs": [
    {
     "data": {
      "text/plain": [
       "(392, 15)"
      ]
     },
     "execution_count": 36,
     "metadata": {},
     "output_type": "execute_result"
    }
   ],
   "source": [
    "# From test set deleting columns that are removed in training set\n",
    "X_test_boruta = X_test_knn[np.array(X_train_boruta.columns)]\n",
    "X_test_boruta.shape"
   ]
  },
  {
   "cell_type": "code",
   "execution_count": 37,
   "metadata": {
    "colab": {
     "base_uri": "https://localhost:8080/",
     "height": 453
    },
    "id": "3Cgm-ha_N1s1",
    "outputId": "b712445e-cf62-4143-8ea5-7618cef7f6b1"
   },
   "outputs": [
    {
     "name": "stdout",
     "output_type": "stream",
     "text": [
      "              precision    recall  f1-score   support\n",
      "\n",
      "           0       0.00      0.00      0.00        26\n",
      "           1       0.93      1.00      0.97       366\n",
      "\n",
      "    accuracy                           0.93       392\n",
      "   macro avg       0.47      0.50      0.48       392\n",
      "weighted avg       0.87      0.93      0.90       392\n",
      "\n",
      "Test Accuracy Score 0.9336734693877551\n"
     ]
    },
    {
     "data": {
      "image/png": "[encoded data removed]",
      "text/plain": [
       "<Figure size 432x288 with 2 Axes>"
      ]
     },
     "metadata": {
      "needs_background": "light"
     },
     "output_type": "display_data"
    }
   ],
   "source": [
    "rfc(X_train_boruta,X_test_boruta,6)"
   ]
  },
  {
   "cell_type": "markdown",
   "metadata": {
    "id": "ES_vbYwIPECg"
   },
   "source": [
    "## Chi Square based on P values over less than 0.4 - 29 features"
   ]
  },
  {
   "cell_type": "code",
   "execution_count": 39,
   "metadata": {},
   "outputs": [
    {
     "data": {
      "text/html": [
       "<div>\n",
       "<style scoped>\n",
       "    .dataframe tbody tr th:only-of-type {\n",
       "        vertical-align: middle;\n",
       "    }\n",
       "\n",
       "    .dataframe tbody tr th {\n",
       "        vertical-align: top;\n",
       "    }\n",
       "\n",
       "    .dataframe thead th {\n",
       "        text-align: right;\n",
       "    }\n",
       "</style>\n",
       "<table border=\"1\" class=\"dataframe\">\n",
       "  <thead>\n",
       "    <tr style=\"text-align: right;\">\n",
       "      <th></th>\n",
       "      <th>Feature_1</th>\n",
       "      <th>Feature_2</th>\n",
       "      <th>Feature_3</th>\n",
       "      <th>Feature_4</th>\n",
       "      <th>Feature_5</th>\n",
       "      <th>Feature_7</th>\n",
       "      <th>Feature_8</th>\n",
       "      <th>Feature_9</th>\n",
       "      <th>Feature_10</th>\n",
       "      <th>Feature_11</th>\n",
       "      <th>...</th>\n",
       "      <th>Feature_577</th>\n",
       "      <th>Feature_578</th>\n",
       "      <th>Feature_583</th>\n",
       "      <th>Feature_584</th>\n",
       "      <th>Feature_585</th>\n",
       "      <th>Feature_586</th>\n",
       "      <th>Feature_587</th>\n",
       "      <th>Feature_588</th>\n",
       "      <th>Feature_589</th>\n",
       "      <th>Feature_590</th>\n",
       "    </tr>\n",
       "  </thead>\n",
       "  <tbody>\n",
       "    <tr>\n",
       "      <th>0</th>\n",
       "      <td>0.600250</td>\n",
       "      <td>0.441107</td>\n",
       "      <td>0.414208</td>\n",
       "      <td>0.125135</td>\n",
       "      <td>0.002379</td>\n",
       "      <td>0.536197</td>\n",
       "      <td>0.770123</td>\n",
       "      <td>0.513914</td>\n",
       "      <td>0.333464</td>\n",
       "      <td>0.150016</td>\n",
       "      <td>...</td>\n",
       "      <td>0.003137</td>\n",
       "      <td>0.216070</td>\n",
       "      <td>0.845762</td>\n",
       "      <td>0.090068</td>\n",
       "      <td>0.095545</td>\n",
       "      <td>0.084977</td>\n",
       "      <td>0.470477</td>\n",
       "      <td>0.232348</td>\n",
       "      <td>0.305606</td>\n",
       "      <td>0.163978</td>\n",
       "    </tr>\n",
       "    <tr>\n",
       "      <th>1</th>\n",
       "      <td>0.496945</td>\n",
       "      <td>0.612500</td>\n",
       "      <td>0.593686</td>\n",
       "      <td>0.519458</td>\n",
       "      <td>0.003067</td>\n",
       "      <td>0.404470</td>\n",
       "      <td>0.859519</td>\n",
       "      <td>0.655518</td>\n",
       "      <td>0.374415</td>\n",
       "      <td>0.729092</td>\n",
       "      <td>...</td>\n",
       "      <td>0.029270</td>\n",
       "      <td>0.168558</td>\n",
       "      <td>0.482557</td>\n",
       "      <td>0.011812</td>\n",
       "      <td>0.000000</td>\n",
       "      <td>0.012718</td>\n",
       "      <td>0.358816</td>\n",
       "      <td>0.096594</td>\n",
       "      <td>0.088465</td>\n",
       "      <td>0.164599</td>\n",
       "    </tr>\n",
       "    <tr>\n",
       "      <th>2</th>\n",
       "      <td>0.544575</td>\n",
       "      <td>0.578623</td>\n",
       "      <td>0.721519</td>\n",
       "      <td>0.644325</td>\n",
       "      <td>0.006105</td>\n",
       "      <td>0.424514</td>\n",
       "      <td>0.818014</td>\n",
       "      <td>0.616438</td>\n",
       "      <td>0.425897</td>\n",
       "      <td>0.495680</td>\n",
       "      <td>...</td>\n",
       "      <td>0.013022</td>\n",
       "      <td>0.290446</td>\n",
       "      <td>0.263639</td>\n",
       "      <td>0.124029</td>\n",
       "      <td>0.143318</td>\n",
       "      <td>0.122933</td>\n",
       "      <td>0.531624</td>\n",
       "      <td>0.140975</td>\n",
       "      <td>0.136719</td>\n",
       "      <td>0.093847</td>\n",
       "    </tr>\n",
       "    <tr>\n",
       "      <th>3</th>\n",
       "      <td>0.440925</td>\n",
       "      <td>0.611339</td>\n",
       "      <td>0.390670</td>\n",
       "      <td>0.224579</td>\n",
       "      <td>0.002392</td>\n",
       "      <td>0.440507</td>\n",
       "      <td>0.795665</td>\n",
       "      <td>0.431412</td>\n",
       "      <td>0.498440</td>\n",
       "      <td>0.399464</td>\n",
       "      <td>...</td>\n",
       "      <td>0.011589</td>\n",
       "      <td>0.139861</td>\n",
       "      <td>0.721377</td>\n",
       "      <td>0.050202</td>\n",
       "      <td>0.068247</td>\n",
       "      <td>0.047753</td>\n",
       "      <td>0.275071</td>\n",
       "      <td>0.506467</td>\n",
       "      <td>0.554917</td>\n",
       "      <td>1.000000</td>\n",
       "    </tr>\n",
       "    <tr>\n",
       "      <th>4</th>\n",
       "      <td>0.473521</td>\n",
       "      <td>0.435095</td>\n",
       "      <td>0.629244</td>\n",
       "      <td>0.242218</td>\n",
       "      <td>0.003700</td>\n",
       "      <td>0.803526</td>\n",
       "      <td>0.818014</td>\n",
       "      <td>0.429964</td>\n",
       "      <td>0.266771</td>\n",
       "      <td>0.597241</td>\n",
       "      <td>...</td>\n",
       "      <td>1.000000</td>\n",
       "      <td>1.000000</td>\n",
       "      <td>0.641770</td>\n",
       "      <td>0.029531</td>\n",
       "      <td>0.040948</td>\n",
       "      <td>0.028558</td>\n",
       "      <td>0.453196</td>\n",
       "      <td>0.117479</td>\n",
       "      <td>0.120634</td>\n",
       "      <td>0.112191</td>\n",
       "    </tr>\n",
       "    <tr>\n",
       "      <th>...</th>\n",
       "      <td>...</td>\n",
       "      <td>...</td>\n",
       "      <td>...</td>\n",
       "      <td>...</td>\n",
       "      <td>...</td>\n",
       "      <td>...</td>\n",
       "      <td>...</td>\n",
       "      <td>...</td>\n",
       "      <td>...</td>\n",
       "      <td>...</td>\n",
       "      <td>...</td>\n",
       "      <td>...</td>\n",
       "      <td>...</td>\n",
       "      <td>...</td>\n",
       "      <td>...</td>\n",
       "      <td>...</td>\n",
       "      <td>...</td>\n",
       "      <td>...</td>\n",
       "      <td>...</td>\n",
       "      <td>...</td>\n",
       "      <td>...</td>\n",
       "    </tr>\n",
       "    <tr>\n",
       "      <th>1170</th>\n",
       "      <td>0.896005</td>\n",
       "      <td>0.584719</td>\n",
       "      <td>0.348852</td>\n",
       "      <td>0.202997</td>\n",
       "      <td>0.001216</td>\n",
       "      <td>0.570431</td>\n",
       "      <td>0.843556</td>\n",
       "      <td>0.539002</td>\n",
       "      <td>0.241030</td>\n",
       "      <td>0.566951</td>\n",
       "      <td>...</td>\n",
       "      <td>0.003032</td>\n",
       "      <td>0.178011</td>\n",
       "      <td>0.786057</td>\n",
       "      <td>0.057585</td>\n",
       "      <td>0.054597</td>\n",
       "      <td>0.055047</td>\n",
       "      <td>0.517002</td>\n",
       "      <td>0.164471</td>\n",
       "      <td>0.144761</td>\n",
       "      <td>0.108794</td>\n",
       "    </tr>\n",
       "    <tr>\n",
       "      <th>1171</th>\n",
       "      <td>0.443683</td>\n",
       "      <td>0.425558</td>\n",
       "      <td>0.375896</td>\n",
       "      <td>0.115670</td>\n",
       "      <td>0.000871</td>\n",
       "      <td>0.575664</td>\n",
       "      <td>0.818014</td>\n",
       "      <td>0.822693</td>\n",
       "      <td>0.154446</td>\n",
       "      <td>0.000000</td>\n",
       "      <td>...</td>\n",
       "      <td>0.007211</td>\n",
       "      <td>0.121952</td>\n",
       "      <td>0.392999</td>\n",
       "      <td>0.122552</td>\n",
       "      <td>0.081896</td>\n",
       "      <td>0.119435</td>\n",
       "      <td>0.598089</td>\n",
       "      <td>0.268897</td>\n",
       "      <td>0.281480</td>\n",
       "      <td>0.122516</td>\n",
       "    </tr>\n",
       "    <tr>\n",
       "      <th>1172</th>\n",
       "      <td>0.413386</td>\n",
       "      <td>0.542570</td>\n",
       "      <td>0.288442</td>\n",
       "      <td>0.165300</td>\n",
       "      <td>0.005328</td>\n",
       "      <td>0.479735</td>\n",
       "      <td>0.846748</td>\n",
       "      <td>0.614991</td>\n",
       "      <td>0.244540</td>\n",
       "      <td>0.392337</td>\n",
       "      <td>...</td>\n",
       "      <td>0.003695</td>\n",
       "      <td>0.256227</td>\n",
       "      <td>0.482557</td>\n",
       "      <td>0.073827</td>\n",
       "      <td>0.088720</td>\n",
       "      <td>0.072742</td>\n",
       "      <td>0.608723</td>\n",
       "      <td>0.101816</td>\n",
       "      <td>0.080423</td>\n",
       "      <td>0.062406</td>\n",
       "    </tr>\n",
       "    <tr>\n",
       "      <th>1173</th>\n",
       "      <td>0.304012</td>\n",
       "      <td>0.554719</td>\n",
       "      <td>0.559193</td>\n",
       "      <td>0.237234</td>\n",
       "      <td>0.004099</td>\n",
       "      <td>0.546901</td>\n",
       "      <td>0.728617</td>\n",
       "      <td>0.490755</td>\n",
       "      <td>0.332293</td>\n",
       "      <td>0.770073</td>\n",
       "      <td>...</td>\n",
       "      <td>0.017011</td>\n",
       "      <td>0.053707</td>\n",
       "      <td>0.592016</td>\n",
       "      <td>0.140270</td>\n",
       "      <td>0.102370</td>\n",
       "      <td>0.135338</td>\n",
       "      <td>0.276400</td>\n",
       "      <td>0.292393</td>\n",
       "      <td>0.297564</td>\n",
       "      <td>0.774059</td>\n",
       "    </tr>\n",
       "    <tr>\n",
       "      <th>1174</th>\n",
       "      <td>0.307874</td>\n",
       "      <td>0.515929</td>\n",
       "      <td>0.405381</td>\n",
       "      <td>0.439525</td>\n",
       "      <td>0.006725</td>\n",
       "      <td>0.544535</td>\n",
       "      <td>0.878676</td>\n",
       "      <td>0.754183</td>\n",
       "      <td>0.046802</td>\n",
       "      <td>0.497462</td>\n",
       "      <td>...</td>\n",
       "      <td>0.022447</td>\n",
       "      <td>0.041406</td>\n",
       "      <td>0.437778</td>\n",
       "      <td>0.125505</td>\n",
       "      <td>0.170616</td>\n",
       "      <td>0.123032</td>\n",
       "      <td>0.467818</td>\n",
       "      <td>0.234959</td>\n",
       "      <td>0.241268</td>\n",
       "      <td>0.166509</td>\n",
       "    </tr>\n",
       "  </tbody>\n",
       "</table>\n",
       "<p>1175 rows × 442 columns</p>\n",
       "</div>"
      ],
      "text/plain": [
       "      Feature_1  Feature_2  Feature_3  Feature_4  Feature_5  Feature_7  \\\n",
       "0      0.600250   0.441107   0.414208   0.125135   0.002379   0.536197   \n",
       "1      0.496945   0.612500   0.593686   0.519458   0.003067   0.404470   \n",
       "2      0.544575   0.578623   0.721519   0.644325   0.006105   0.424514   \n",
       "3      0.440925   0.611339   0.390670   0.224579   0.002392   0.440507   \n",
       "4      0.473521   0.435095   0.629244   0.242218   0.003700   0.803526   \n",
       "...         ...        ...        ...        ...        ...        ...   \n",
       "1170   0.896005   0.584719   0.348852   0.202997   0.001216   0.570431   \n",
       "1171   0.443683   0.425558   0.375896   0.115670   0.000871   0.575664   \n",
       "1172   0.413386   0.542570   0.288442   0.165300   0.005328   0.479735   \n",
       "1173   0.304012   0.554719   0.559193   0.237234   0.004099   0.546901   \n",
       "1174   0.307874   0.515929   0.405381   0.439525   0.006725   0.544535   \n",
       "\n",
       "      Feature_8  Feature_9  Feature_10  Feature_11  ...  Feature_577  \\\n",
       "0      0.770123   0.513914    0.333464    0.150016  ...     0.003137   \n",
       "1      0.859519   0.655518    0.374415    0.729092  ...     0.029270   \n",
       "2      0.818014   0.616438    0.425897    0.495680  ...     0.013022   \n",
       "3      0.795665   0.431412    0.498440    0.399464  ...     0.011589   \n",
       "4      0.818014   0.429964    0.266771    0.597241  ...     1.000000   \n",
       "...         ...        ...         ...         ...  ...          ...   \n",
       "1170   0.843556   0.539002    0.241030    0.566951  ...     0.003032   \n",
       "1171   0.818014   0.822693    0.154446    0.000000  ...     0.007211   \n",
       "1172   0.846748   0.614991    0.244540    0.392337  ...     0.003695   \n",
       "1173   0.728617   0.490755    0.332293    0.770073  ...     0.017011   \n",
       "1174   0.878676   0.754183    0.046802    0.497462  ...     0.022447   \n",
       "\n",
       "      Feature_578  Feature_583  Feature_584  Feature_585  Feature_586  \\\n",
       "0        0.216070     0.845762     0.090068     0.095545     0.084977   \n",
       "1        0.168558     0.482557     0.011812     0.000000     0.012718   \n",
       "2        0.290446     0.263639     0.124029     0.143318     0.122933   \n",
       "3        0.139861     0.721377     0.050202     0.068247     0.047753   \n",
       "4        1.000000     0.641770     0.029531     0.040948     0.028558   \n",
       "...           ...          ...          ...          ...          ...   \n",
       "1170     0.178011     0.786057     0.057585     0.054597     0.055047   \n",
       "1171     0.121952     0.392999     0.122552     0.081896     0.119435   \n",
       "1172     0.256227     0.482557     0.073827     0.088720     0.072742   \n",
       "1173     0.053707     0.592016     0.140270     0.102370     0.135338   \n",
       "1174     0.041406     0.437778     0.125505     0.170616     0.123032   \n",
       "\n",
       "      Feature_587  Feature_588  Feature_589  Feature_590  \n",
       "0        0.470477     0.232348     0.305606     0.163978  \n",
       "1        0.358816     0.096594     0.088465     0.164599  \n",
       "2        0.531624     0.140975     0.136719     0.093847  \n",
       "3        0.275071     0.506467     0.554917     1.000000  \n",
       "4        0.453196     0.117479     0.120634     0.112191  \n",
       "...           ...          ...          ...          ...  \n",
       "1170     0.517002     0.164471     0.144761     0.108794  \n",
       "1171     0.598089     0.268897     0.281480     0.122516  \n",
       "1172     0.608723     0.101816     0.080423     0.062406  \n",
       "1173     0.276400     0.292393     0.297564     0.774059  \n",
       "1174     0.467818     0.234959     0.241268     0.166509  \n",
       "\n",
       "[1175 rows x 442 columns]"
      ]
     },
     "execution_count": 39,
     "metadata": {},
     "output_type": "execute_result"
    }
   ],
   "source": [
    "from sklearn import preprocessing\n",
    "from sklearn.preprocessing import MinMaxScaler\n",
    "normalized_x_train = X_train_knn\n",
    "normalized_x_train[normalized_x_train.columns] = MinMaxScaler().fit_transform(normalized_x_train[normalized_x_train.columns])\n",
    "normalized_x_train"
   ]
  },
  {
   "cell_type": "code",
   "execution_count": 40,
   "metadata": {
    "id": "ptyz1irjP4dv"
   },
   "outputs": [],
   "source": [
    "from sklearn.feature_selection import SelectKBest, chi2\n",
    "f_score = chi2(normalized_x_train,y_train)\n",
    "p_values = pd.Series(f_score[1])\n",
    "p_values.index = normalized_x_train.columns\n",
    "p_values.sort_values(ascending=True,inplace=True)\n",
    "significant = p_values[0:29]\n",
    "new = list(significant.index)\n",
    "X_train_chi = X_train_knn.loc[:, new]"
   ]
  },
  {
   "cell_type": "code",
   "execution_count": 41,
   "metadata": {
    "colab": {
     "base_uri": "https://localhost:8080/"
    },
    "id": "zZ_RWoboQQkg",
    "outputId": "70c00c97-a8b0-4412-95a3-e6abec319fd5"
   },
   "outputs": [
    {
     "data": {
      "text/plain": [
       "(392, 29)"
      ]
     },
     "execution_count": 41,
     "metadata": {},
     "output_type": "execute_result"
    }
   ],
   "source": [
    "# From test set deleting columns that are removed in training set\n",
    "X_test_chi = X_test_knn[np.array(X_train_chi.columns)]\n",
    "X_test_chi.shape"
   ]
  },
  {
   "cell_type": "code",
   "execution_count": 42,
   "metadata": {
    "colab": {
     "base_uri": "https://localhost:8080/",
     "height": 453
    },
    "id": "Ouzo6AHIQeSe",
    "outputId": "3896129f-16a9-4165-8f70-e7eb4bce6cb1"
   },
   "outputs": [
    {
     "name": "stdout",
     "output_type": "stream",
     "text": [
      "              precision    recall  f1-score   support\n",
      "\n",
      "           0       0.00      0.00      0.00        26\n",
      "           1       0.93      1.00      0.97       366\n",
      "\n",
      "    accuracy                           0.93       392\n",
      "   macro avg       0.47      0.50      0.48       392\n",
      "weighted avg       0.87      0.93      0.90       392\n",
      "\n",
      "Test Accuracy Score 0.9336734693877551\n"
     ]
    },
    {
     "data": {
      "image/png": "[encoded data removed]",
      "text/plain": [
       "<Figure size 432x288 with 2 Axes>"
      ]
     },
     "metadata": {
      "needs_background": "light"
     },
     "output_type": "display_data"
    }
   ],
   "source": [
    "rfc(X_train_chi,X_test_chi,7)"
   ]
  },
  {
   "cell_type": "markdown",
   "metadata": {
    "id": "Y_a9D6_nQ6ZX"
   },
   "source": [
    "## Chi Square based on top values- 20 features"
   ]
  },
  {
   "cell_type": "code",
   "execution_count": 43,
   "metadata": {
    "id": "JJKznZnoQ-ib"
   },
   "outputs": [],
   "source": [
    "from sklearn.feature_selection import SelectKBest, chi2\n",
    "chi = SelectKBest(chi2, k=15).fit(normalized_x_train, y_train)\n",
    "new_c = normalized_x_train.columns[chi.get_support()]\n",
    "X_train_chi_k = X_train_knn.loc[:, new_c]"
   ]
  },
  {
   "cell_type": "code",
   "execution_count": 44,
   "metadata": {
    "colab": {
     "base_uri": "https://localhost:8080/"
    },
    "id": "mUyZg1AnTF9w",
    "outputId": "c2e0e33c-a1cb-4625-f80c-913a0bc4954b"
   },
   "outputs": [
    {
     "data": {
      "text/plain": [
       "(392, 15)"
      ]
     },
     "execution_count": 44,
     "metadata": {},
     "output_type": "execute_result"
    }
   ],
   "source": [
    "# From test set deleting columns that are removed in training set\n",
    "X_test_chi_k = X_test_knn[np.array(X_train_chi_k.columns)]\n",
    "X_test_chi_k.shape"
   ]
  },
  {
   "cell_type": "code",
   "execution_count": 45,
   "metadata": {
    "colab": {
     "base_uri": "https://localhost:8080/",
     "height": 453
    },
    "id": "J6lDwiNQTani",
    "outputId": "01e1246f-4e00-45c4-bca7-7b465833deed"
   },
   "outputs": [
    {
     "name": "stdout",
     "output_type": "stream",
     "text": [
      "              precision    recall  f1-score   support\n",
      "\n",
      "           0       0.00      0.00      0.00        26\n",
      "           1       0.93      1.00      0.97       366\n",
      "\n",
      "    accuracy                           0.93       392\n",
      "   macro avg       0.47      0.50      0.48       392\n",
      "weighted avg       0.87      0.93      0.90       392\n",
      "\n",
      "Test Accuracy Score 0.9336734693877551\n"
     ]
    },
    {
     "data": {
      "image/png": "[encoded data removed]",
      "text/plain": [
       "<Figure size 432x288 with 2 Axes>"
      ]
     },
     "metadata": {
      "needs_background": "light"
     },
     "output_type": "display_data"
    }
   ],
   "source": [
    "rfc(X_train_chi_k,X_test_chi_k,7)"
   ]
  },
  {
   "cell_type": "markdown",
   "metadata": {
    "id": "FMAunmEGUEJD"
   },
   "source": [
    "## Mutual Info gain - 15 features"
   ]
  },
  {
   "cell_type": "code",
   "execution_count": 46,
   "metadata": {
    "id": "XQNFgmfmUIFY"
   },
   "outputs": [],
   "source": [
    "from sklearn.feature_selection import mutual_info_classif\n",
    "mutual = mutual_info_classif(X_train_knn,y_train.values.ravel())\n",
    "from sklearn.feature_selection import SelectKBest\n",
    "top20 = SelectKBest(mutual_info_classif,k=15).fit(X_train_knn,y_train)\n",
    "new_m = X_train_knn.columns[top20.get_support()]\n",
    "X_train_m = X_train_knn.loc[:, new_m]"
   ]
  },
  {
   "cell_type": "code",
   "execution_count": 47,
   "metadata": {
    "colab": {
     "base_uri": "https://localhost:8080/"
    },
    "id": "e3tZmR8AU5bi",
    "outputId": "48e42c1c-f107-45c1-898b-d4e60407e9b9"
   },
   "outputs": [
    {
     "data": {
      "text/plain": [
       "(392, 15)"
      ]
     },
     "execution_count": 47,
     "metadata": {},
     "output_type": "execute_result"
    }
   ],
   "source": [
    "# From test set deleting columns that are removed in training set\n",
    "X_test_m = X_test_knn[np.array(X_train_m.columns)]\n",
    "X_test_m.shape"
   ]
  },
  {
   "cell_type": "code",
   "execution_count": 48,
   "metadata": {
    "colab": {
     "base_uri": "https://localhost:8080/",
     "height": 453
    },
    "id": "kaHiAaUGVoMo",
    "outputId": "55ca85a8-c0fe-4fb2-9a05-fecaee7b5aff"
   },
   "outputs": [
    {
     "name": "stdout",
     "output_type": "stream",
     "text": [
      "              precision    recall  f1-score   support\n",
      "\n",
      "           0       0.00      0.00      0.00        26\n",
      "           1       0.93      1.00      0.97       366\n",
      "\n",
      "    accuracy                           0.93       392\n",
      "   macro avg       0.47      0.50      0.48       392\n",
      "weighted avg       0.87      0.93      0.90       392\n",
      "\n",
      "Test Accuracy Score 0.9336734693877551\n"
     ]
    },
    {
     "data": {
      "image/png": "[encoded data removed]",
      "text/plain": [
       "<Figure size 432x288 with 2 Axes>"
      ]
     },
     "metadata": {
      "needs_background": "light"
     },
     "output_type": "display_data"
    }
   ],
   "source": [
    "rfc(X_train_m,X_test_m,6)"
   ]
  },
  {
   "cell_type": "markdown",
   "metadata": {
    "id": "JEes6zMUWPDN"
   },
   "source": [
    "## Lasso - 31 features"
   ]
  },
  {
   "cell_type": "code",
   "execution_count": 49,
   "metadata": {
    "id": "YpQivUBNXSPw"
   },
   "outputs": [],
   "source": [
    "import numpy as np\n",
    "import pandas as pd\n",
    "from sklearn.linear_model import Ridge, Lasso\n",
    "from sklearn.metrics import mean_squared_error,r2_score\n",
    "from sklearn.model_selection import train_test_split, cross_val_score\n",
    "from sklearn.feature_selection import SelectFromModel\n",
    "from sklearn import model_selection\n",
    "import matplotlib.pyplot as plt\n",
    "from sklearn.linear_model import RidgeCV, LassoCV\n",
    "import numpy as np\n",
    "from sklearn.preprocessing import StandardScaler\n",
    "from sklearn.pipeline import Pipeline\n",
    "from sklearn.model_selection import train_test_split, GridSearchCV\n",
    "from sklearn.linear_model import Lasso\n",
    "from sklearn.linear_model import Lasso, LogisticRegression"
   ]
  },
  {
   "cell_type": "code",
   "execution_count": 50,
   "metadata": {
    "id": "Fb0qHvJUXUqH"
   },
   "outputs": [],
   "source": [
    "## Selecting features using Lasso\n",
    "sel_ = SelectFromModel(Lasso(alpha=0.2))\n",
    "sel_.fit(X_train_knn, y_train)\n",
    "sel_.get_support()\n",
    "X_train_knn = pd.DataFrame(X_train_knn)"
   ]
  },
  {
   "cell_type": "code",
   "execution_count": 51,
   "metadata": {
    "colab": {
     "base_uri": "https://localhost:8080/"
    },
    "id": "rkSQONPLXXKC",
    "outputId": "94c3aaaa-a408-44e2-f989-2ae74b2fbaae"
   },
   "outputs": [
    {
     "name": "stdout",
     "output_type": "stream",
     "text": [
      "total features: 442\n",
      "selected features: 0\n",
      "features with coefficients shrank to zero: 442\n"
     ]
    }
   ],
   "source": [
    "#To See Selected set of features\n",
    "\n",
    "selected_feat = X_train_knn.columns[(sel_.get_support())]\n",
    "print('total features: {}'.format((X_train_knn.shape[1])))\n",
    "print('selected features: {}'.format(len(selected_feat)))\n",
    "print('features with coefficients shrank to zero: {}'.format(\n",
    "np.sum(sel_.estimator_.coef_ == 0)))"
   ]
  },
  {
   "cell_type": "code",
   "execution_count": 52,
   "metadata": {
    "colab": {
     "base_uri": "https://localhost:8080/"
    },
    "id": "42A1nOr1XY_E",
    "outputId": "71317ee6-3b87-4d98-9664-740edd8c221d"
   },
   "outputs": [
    {
     "data": {
      "text/plain": [
       "((1175, 0), (392, 0))"
      ]
     },
     "execution_count": 52,
     "metadata": {},
     "output_type": "execute_result"
    }
   ],
   "source": [
    "#Make a list of with the selected features\n",
    "removed_feats = X_train_knn.columns[(sel_.estimator_.coef_ == 0).ravel().tolist()]\n",
    "removed_feats\n",
    "\n",
    "X_train_lasso = sel_.transform(X_train_knn)\n",
    "X_test_lasso = sel_.transform(X_test_knn)\n",
    "X_train_lasso.shape, X_test_lasso.shape"
   ]
  },
  {
   "cell_type": "code",
   "execution_count": 53,
   "metadata": {
    "colab": {
     "base_uri": "https://localhost:8080/",
     "height": 346
    },
    "id": "FLS8Ql28XmCw",
    "outputId": "6e774c06-f144-4e56-e7b6-2f25965444cd"
   },
   "outputs": [
    {
     "ename": "ValueError",
     "evalue": "Found array with 0 feature(s) (shape=(1175, 0)) while a minimum of 1 is required by RandomForestClassifier.",
     "output_type": "error",
     "traceback": [
      "\u001b[1;31m---------------------------------------------------------------------------\u001b[0m",
      "\u001b[1;31mValueError\u001b[0m                                Traceback (most recent call last)",
      "\u001b[1;32mC:\\Users\\RASHMI~1\\AppData\\Local\\Temp/ipykernel_20080/1292107345.py\u001b[0m in \u001b[0;36m<module>\u001b[1;34m\u001b[0m\n\u001b[1;32m----> 1\u001b[1;33m \u001b[0mrfc\u001b[0m\u001b[1;33m(\u001b[0m\u001b[0mX_train_lasso\u001b[0m\u001b[1;33m,\u001b[0m\u001b[0mX_test_lasso\u001b[0m\u001b[1;33m,\u001b[0m\u001b[1;36m6\u001b[0m\u001b[1;33m)\u001b[0m\u001b[1;33m\u001b[0m\u001b[1;33m\u001b[0m\u001b[0m\n\u001b[0m",
      "\u001b[1;32mC:\\Users\\RASHMI~1\\AppData\\Local\\Temp/ipykernel_20080/1879499482.py\u001b[0m in \u001b[0;36mrfc\u001b[1;34m(X_train_rfc, X_test_rfc, max_depth)\u001b[0m\n\u001b[0;32m      1\u001b[0m \u001b[1;32mdef\u001b[0m \u001b[0mrfc\u001b[0m\u001b[1;33m(\u001b[0m\u001b[0mX_train_rfc\u001b[0m\u001b[1;33m,\u001b[0m\u001b[0mX_test_rfc\u001b[0m\u001b[1;33m,\u001b[0m\u001b[0mmax_depth\u001b[0m\u001b[1;33m)\u001b[0m\u001b[1;33m:\u001b[0m\u001b[1;33m\u001b[0m\u001b[1;33m\u001b[0m\u001b[0m\n\u001b[0;32m      2\u001b[0m   \u001b[0mmodel\u001b[0m \u001b[1;33m=\u001b[0m \u001b[0mRandomForestClassifier\u001b[0m\u001b[1;33m(\u001b[0m\u001b[0mn_estimators\u001b[0m\u001b[1;33m=\u001b[0m\u001b[1;36m100\u001b[0m\u001b[1;33m,\u001b[0m \u001b[0mcriterion\u001b[0m\u001b[1;33m=\u001b[0m\u001b[1;34m'entropy'\u001b[0m\u001b[1;33m,\u001b[0m \u001b[0mmax_depth\u001b[0m\u001b[1;33m=\u001b[0m\u001b[0mmax_depth\u001b[0m\u001b[1;33m)\u001b[0m\u001b[1;33m\u001b[0m\u001b[1;33m\u001b[0m\u001b[0m\n\u001b[1;32m----> 3\u001b[1;33m   \u001b[0mmodel\u001b[0m\u001b[1;33m.\u001b[0m\u001b[0mfit\u001b[0m\u001b[1;33m(\u001b[0m\u001b[0mX_train_rfc\u001b[0m\u001b[1;33m,\u001b[0m \u001b[0my_train\u001b[0m\u001b[1;33m)\u001b[0m\u001b[1;33m\u001b[0m\u001b[1;33m\u001b[0m\u001b[0m\n\u001b[0m\u001b[0;32m      4\u001b[0m   \u001b[0my_pred\u001b[0m \u001b[1;33m=\u001b[0m \u001b[0mmodel\u001b[0m\u001b[1;33m.\u001b[0m\u001b[0mpredict\u001b[0m\u001b[1;33m(\u001b[0m\u001b[0mX_test_rfc\u001b[0m\u001b[1;33m)\u001b[0m\u001b[1;33m\u001b[0m\u001b[1;33m\u001b[0m\u001b[0m\n\u001b[0;32m      5\u001b[0m   \u001b[0msns\u001b[0m\u001b[1;33m.\u001b[0m\u001b[0mheatmap\u001b[0m\u001b[1;33m(\u001b[0m\u001b[0mconfusion_matrix\u001b[0m\u001b[1;33m(\u001b[0m\u001b[0my_test\u001b[0m\u001b[1;33m,\u001b[0m \u001b[0my_pred\u001b[0m\u001b[1;33m)\u001b[0m\u001b[1;33m,\u001b[0m \u001b[0mannot\u001b[0m\u001b[1;33m=\u001b[0m\u001b[1;32mTrue\u001b[0m\u001b[1;33m,\u001b[0m \u001b[0mfmt\u001b[0m\u001b[1;33m=\u001b[0m\u001b[1;34m\"d\"\u001b[0m\u001b[1;33m,\u001b[0m \u001b[0myticklabels\u001b[0m \u001b[1;33m=\u001b[0m \u001b[1;33m[\u001b[0m\u001b[1;34m'Pred. Pass'\u001b[0m \u001b[1;33m,\u001b[0m \u001b[1;34m'Pred. Fail'\u001b[0m\u001b[1;33m]\u001b[0m \u001b[1;33m,\u001b[0m \u001b[0mxticklabels\u001b[0m \u001b[1;33m=\u001b[0m \u001b[1;33m[\u001b[0m\u001b[1;34m'Act. Pass'\u001b[0m\u001b[1;33m,\u001b[0m \u001b[1;34m'Act. Fail'\u001b[0m\u001b[1;33m]\u001b[0m\u001b[1;33m)\u001b[0m\u001b[1;33m\u001b[0m\u001b[1;33m\u001b[0m\u001b[0m\n",
      "\u001b[1;32mC:\\Users\\public\\anaconda3\\lib\\site-packages\\sklearn\\ensemble\\_forest.py\u001b[0m in \u001b[0;36mfit\u001b[1;34m(self, X, y, sample_weight)\u001b[0m\n\u001b[0;32m    329\u001b[0m         \u001b[1;32mif\u001b[0m \u001b[0missparse\u001b[0m\u001b[1;33m(\u001b[0m\u001b[0my\u001b[0m\u001b[1;33m)\u001b[0m\u001b[1;33m:\u001b[0m\u001b[1;33m\u001b[0m\u001b[1;33m\u001b[0m\u001b[0m\n\u001b[0;32m    330\u001b[0m             \u001b[1;32mraise\u001b[0m \u001b[0mValueError\u001b[0m\u001b[1;33m(\u001b[0m\u001b[1;34m\"sparse multilabel-indicator for y is not supported.\"\u001b[0m\u001b[1;33m)\u001b[0m\u001b[1;33m\u001b[0m\u001b[1;33m\u001b[0m\u001b[0m\n\u001b[1;32m--> 331\u001b[1;33m         X, y = self._validate_data(\n\u001b[0m\u001b[0;32m    332\u001b[0m             \u001b[0mX\u001b[0m\u001b[1;33m,\u001b[0m \u001b[0my\u001b[0m\u001b[1;33m,\u001b[0m \u001b[0mmulti_output\u001b[0m\u001b[1;33m=\u001b[0m\u001b[1;32mTrue\u001b[0m\u001b[1;33m,\u001b[0m \u001b[0maccept_sparse\u001b[0m\u001b[1;33m=\u001b[0m\u001b[1;34m\"csc\"\u001b[0m\u001b[1;33m,\u001b[0m \u001b[0mdtype\u001b[0m\u001b[1;33m=\u001b[0m\u001b[0mDTYPE\u001b[0m\u001b[1;33m\u001b[0m\u001b[1;33m\u001b[0m\u001b[0m\n\u001b[0;32m    333\u001b[0m         )\n",
      "\u001b[1;32mC:\\Users\\public\\anaconda3\\lib\\site-packages\\sklearn\\base.py\u001b[0m in \u001b[0;36m_validate_data\u001b[1;34m(self, X, y, reset, validate_separately, **check_params)\u001b[0m\n\u001b[0;32m    594\u001b[0m                 \u001b[0my\u001b[0m \u001b[1;33m=\u001b[0m \u001b[0mcheck_array\u001b[0m\u001b[1;33m(\u001b[0m\u001b[0my\u001b[0m\u001b[1;33m,\u001b[0m \u001b[0minput_name\u001b[0m\u001b[1;33m=\u001b[0m\u001b[1;34m\"y\"\u001b[0m\u001b[1;33m,\u001b[0m \u001b[1;33m**\u001b[0m\u001b[0mcheck_y_params\u001b[0m\u001b[1;33m)\u001b[0m\u001b[1;33m\u001b[0m\u001b[1;33m\u001b[0m\u001b[0m\n\u001b[0;32m    595\u001b[0m             \u001b[1;32melse\u001b[0m\u001b[1;33m:\u001b[0m\u001b[1;33m\u001b[0m\u001b[1;33m\u001b[0m\u001b[0m\n\u001b[1;32m--> 596\u001b[1;33m                 \u001b[0mX\u001b[0m\u001b[1;33m,\u001b[0m \u001b[0my\u001b[0m \u001b[1;33m=\u001b[0m \u001b[0mcheck_X_y\u001b[0m\u001b[1;33m(\u001b[0m\u001b[0mX\u001b[0m\u001b[1;33m,\u001b[0m \u001b[0my\u001b[0m\u001b[1;33m,\u001b[0m \u001b[1;33m**\u001b[0m\u001b[0mcheck_params\u001b[0m\u001b[1;33m)\u001b[0m\u001b[1;33m\u001b[0m\u001b[1;33m\u001b[0m\u001b[0m\n\u001b[0m\u001b[0;32m    597\u001b[0m             \u001b[0mout\u001b[0m \u001b[1;33m=\u001b[0m \u001b[0mX\u001b[0m\u001b[1;33m,\u001b[0m \u001b[0my\u001b[0m\u001b[1;33m\u001b[0m\u001b[1;33m\u001b[0m\u001b[0m\n\u001b[0;32m    598\u001b[0m \u001b[1;33m\u001b[0m\u001b[0m\n",
      "\u001b[1;32mC:\\Users\\public\\anaconda3\\lib\\site-packages\\sklearn\\utils\\validation.py\u001b[0m in \u001b[0;36mcheck_X_y\u001b[1;34m(X, y, accept_sparse, accept_large_sparse, dtype, order, copy, force_all_finite, ensure_2d, allow_nd, multi_output, ensure_min_samples, ensure_min_features, y_numeric, estimator)\u001b[0m\n\u001b[0;32m   1072\u001b[0m         )\n\u001b[0;32m   1073\u001b[0m \u001b[1;33m\u001b[0m\u001b[0m\n\u001b[1;32m-> 1074\u001b[1;33m     X = check_array(\n\u001b[0m\u001b[0;32m   1075\u001b[0m         \u001b[0mX\u001b[0m\u001b[1;33m,\u001b[0m\u001b[1;33m\u001b[0m\u001b[1;33m\u001b[0m\u001b[0m\n\u001b[0;32m   1076\u001b[0m         \u001b[0maccept_sparse\u001b[0m\u001b[1;33m=\u001b[0m\u001b[0maccept_sparse\u001b[0m\u001b[1;33m,\u001b[0m\u001b[1;33m\u001b[0m\u001b[1;33m\u001b[0m\u001b[0m\n",
      "\u001b[1;32mC:\\Users\\public\\anaconda3\\lib\\site-packages\\sklearn\\utils\\validation.py\u001b[0m in \u001b[0;36mcheck_array\u001b[1;34m(array, accept_sparse, accept_large_sparse, dtype, order, copy, force_all_finite, ensure_2d, allow_nd, ensure_min_samples, ensure_min_features, estimator, input_name)\u001b[0m\n\u001b[0;32m    916\u001b[0m         \u001b[0mn_features\u001b[0m \u001b[1;33m=\u001b[0m \u001b[0marray\u001b[0m\u001b[1;33m.\u001b[0m\u001b[0mshape\u001b[0m\u001b[1;33m[\u001b[0m\u001b[1;36m1\u001b[0m\u001b[1;33m]\u001b[0m\u001b[1;33m\u001b[0m\u001b[1;33m\u001b[0m\u001b[0m\n\u001b[0;32m    917\u001b[0m         \u001b[1;32mif\u001b[0m \u001b[0mn_features\u001b[0m \u001b[1;33m<\u001b[0m \u001b[0mensure_min_features\u001b[0m\u001b[1;33m:\u001b[0m\u001b[1;33m\u001b[0m\u001b[1;33m\u001b[0m\u001b[0m\n\u001b[1;32m--> 918\u001b[1;33m             raise ValueError(\n\u001b[0m\u001b[0;32m    919\u001b[0m                 \u001b[1;34m\"Found array with %d feature(s) (shape=%s) while\"\u001b[0m\u001b[1;33m\u001b[0m\u001b[1;33m\u001b[0m\u001b[0m\n\u001b[0;32m    920\u001b[0m                 \u001b[1;34m\" a minimum of %d is required%s.\"\u001b[0m\u001b[1;33m\u001b[0m\u001b[1;33m\u001b[0m\u001b[0m\n",
      "\u001b[1;31mValueError\u001b[0m: Found array with 0 feature(s) (shape=(1175, 0)) while a minimum of 1 is required by RandomForestClassifier."
     ]
    }
   ],
   "source": [
    "rfc(X_train_lasso,X_test_lasso,6)"
   ]
  },
  {
   "cell_type": "code",
   "execution_count": 61,
   "metadata": {
    "id": "67O0y7ddZzhk"
   },
   "outputs": [],
   "source": [
    "#importing the necessary libraries\n",
    "from mlxtend.feature_selection import SequentialFeatureSelector as SFS\n",
    "from sklearn.linear_model import LinearRegression\n",
    "# Sequential Forward Selection(sfs)\n",
    "sfs = SFS(LinearRegression(),k_features=15,forward=True,verbose=True,scoring='neg_mean_squared_error')"
   ]
  },
  {
   "cell_type": "code",
   "execution_count": 62,
   "metadata": {},
   "outputs": [
    {
     "name": "stderr",
     "output_type": "stream",
     "text": [
      "[Parallel(n_jobs=1)]: Using backend SequentialBackend with 1 concurrent workers.\n",
      "[Parallel(n_jobs=1)]: Done   1 out of   1 | elapsed:    0.0s remaining:    0.0s\n",
      "[Parallel(n_jobs=1)]: Done 442 out of 442 | elapsed:    7.3s finished\n",
      "\n",
      "[2022-06-14 21:24:06] Features: 1/15 -- score: -0.06066227644354394[Parallel(n_jobs=1)]: Using backend SequentialBackend with 1 concurrent workers.\n",
      "[Parallel(n_jobs=1)]: Done   1 out of   1 | elapsed:    0.0s remaining:    0.0s\n",
      "[Parallel(n_jobs=1)]: Done 441 out of 441 | elapsed:    6.4s finished\n",
      "\n",
      "[2022-06-14 21:24:13] Features: 2/15 -- score: -0.060048421303655196[Parallel(n_jobs=1)]: Using backend SequentialBackend with 1 concurrent workers.\n",
      "[Parallel(n_jobs=1)]: Done   1 out of   1 | elapsed:    0.0s remaining:    0.0s\n",
      "[Parallel(n_jobs=1)]: Done 440 out of 440 | elapsed:    6.4s finished\n",
      "\n",
      "[2022-06-14 21:24:19] Features: 3/15 -- score: -0.0594559023848671[Parallel(n_jobs=1)]: Using backend SequentialBackend with 1 concurrent workers.\n",
      "[Parallel(n_jobs=1)]: Done   1 out of   1 | elapsed:    0.0s remaining:    0.0s\n",
      "[Parallel(n_jobs=1)]: Done 439 out of 439 | elapsed:    6.6s finished\n",
      "\n",
      "[2022-06-14 21:24:26] Features: 4/15 -- score: -0.059033607458397516[Parallel(n_jobs=1)]: Using backend SequentialBackend with 1 concurrent workers.\n",
      "[Parallel(n_jobs=1)]: Done   1 out of   1 | elapsed:    0.0s remaining:    0.0s\n",
      "[Parallel(n_jobs=1)]: Done 438 out of 438 | elapsed:    6.6s finished\n",
      "\n",
      "[2022-06-14 21:24:33] Features: 5/15 -- score: -0.05870572077402545[Parallel(n_jobs=1)]: Using backend SequentialBackend with 1 concurrent workers.\n",
      "[Parallel(n_jobs=1)]: Done   1 out of   1 | elapsed:    0.0s remaining:    0.0s\n",
      "[Parallel(n_jobs=1)]: Done 437 out of 437 | elapsed:    6.7s finished\n",
      "\n",
      "[2022-06-14 21:24:39] Features: 6/15 -- score: -0.058331016135395375[Parallel(n_jobs=1)]: Using backend SequentialBackend with 1 concurrent workers.\n",
      "[Parallel(n_jobs=1)]: Done   1 out of   1 | elapsed:    0.0s remaining:    0.0s\n",
      "[Parallel(n_jobs=1)]: Done 436 out of 436 | elapsed:    6.7s finished\n",
      "\n",
      "[2022-06-14 21:24:46] Features: 7/15 -- score: -0.05799523843563087[Parallel(n_jobs=1)]: Using backend SequentialBackend with 1 concurrent workers.\n",
      "[Parallel(n_jobs=1)]: Done   1 out of   1 | elapsed:    0.0s remaining:    0.0s\n",
      "[Parallel(n_jobs=1)]: Done 435 out of 435 | elapsed:    6.8s finished\n",
      "\n",
      "[2022-06-14 21:24:53] Features: 8/15 -- score: -0.057413721386448444[Parallel(n_jobs=1)]: Using backend SequentialBackend with 1 concurrent workers.\n",
      "[Parallel(n_jobs=1)]: Done   1 out of   1 | elapsed:    0.0s remaining:    0.0s\n",
      "[Parallel(n_jobs=1)]: Done 434 out of 434 | elapsed:    7.2s finished\n",
      "\n",
      "[2022-06-14 21:25:00] Features: 9/15 -- score: -0.05705120085386176[Parallel(n_jobs=1)]: Using backend SequentialBackend with 1 concurrent workers.\n",
      "[Parallel(n_jobs=1)]: Done   1 out of   1 | elapsed:    0.0s remaining:    0.0s\n",
      "[Parallel(n_jobs=1)]: Done 433 out of 433 | elapsed:    7.4s finished\n",
      "\n",
      "[2022-06-14 21:25:08] Features: 10/15 -- score: -0.05673154850912245[Parallel(n_jobs=1)]: Using backend SequentialBackend with 1 concurrent workers.\n",
      "[Parallel(n_jobs=1)]: Done   1 out of   1 | elapsed:    0.0s remaining:    0.0s\n",
      "[Parallel(n_jobs=1)]: Done 432 out of 432 | elapsed:    7.0s finished\n",
      "\n",
      "[2022-06-14 21:25:15] Features: 11/15 -- score: -0.05643586747351115[Parallel(n_jobs=1)]: Using backend SequentialBackend with 1 concurrent workers.\n",
      "[Parallel(n_jobs=1)]: Done   1 out of   1 | elapsed:    0.0s remaining:    0.0s\n",
      "[Parallel(n_jobs=1)]: Done 431 out of 431 | elapsed:    7.0s finished\n",
      "\n",
      "[2022-06-14 21:25:22] Features: 12/15 -- score: -0.05615894548494664[Parallel(n_jobs=1)]: Using backend SequentialBackend with 1 concurrent workers.\n",
      "[Parallel(n_jobs=1)]: Done   1 out of   1 | elapsed:    0.0s remaining:    0.0s\n",
      "[Parallel(n_jobs=1)]: Done 430 out of 430 | elapsed:    7.2s finished\n",
      "\n",
      "[2022-06-14 21:25:30] Features: 13/15 -- score: -0.05588573315504956[Parallel(n_jobs=1)]: Using backend SequentialBackend with 1 concurrent workers.\n",
      "[Parallel(n_jobs=1)]: Done   1 out of   1 | elapsed:    0.0s remaining:    0.0s\n",
      "[Parallel(n_jobs=1)]: Done 429 out of 429 | elapsed:    7.2s finished\n",
      "\n",
      "[2022-06-14 21:25:37] Features: 14/15 -- score: -0.05570555840277165[Parallel(n_jobs=1)]: Using backend SequentialBackend with 1 concurrent workers.\n",
      "[Parallel(n_jobs=1)]: Done   1 out of   1 | elapsed:    0.0s remaining:    0.0s\n"
     ]
    },
    {
     "name": "stdout",
     "output_type": "stream",
     "text": [
      "['Feature_22', 'Feature_60', 'Feature_65', 'Feature_76', 'Feature_87', 'Feature_104', 'Feature_114', 'Feature_122', 'Feature_130', 'Feature_206', 'Feature_250', 'Feature_311', 'Feature_320', 'Feature_481', 'Feature_574']\n"
     ]
    },
    {
     "name": "stderr",
     "output_type": "stream",
     "text": [
      "[Parallel(n_jobs=1)]: Done 428 out of 428 | elapsed:    7.2s finished\n",
      "\n",
      "[2022-06-14 21:25:44] Features: 15/15 -- score: -0.055522677780143345"
     ]
    }
   ],
   "source": [
    "sfs.fit(X_train_knn, y_train)\n",
    "sfs_list = list(sfs.k_feature_names_)\n",
    "print(sfs_list)\n"
   ]
  },
  {
   "cell_type": "code",
   "execution_count": 64,
   "metadata": {},
   "outputs": [],
   "source": [
    "# creating a new dataframe using the above variables and adding the target variable\n",
    "X_train_sfs = X_train_knn[sfs_list]"
   ]
  },
  {
   "cell_type": "code",
   "execution_count": 67,
   "metadata": {},
   "outputs": [
    {
     "data": {
      "text/plain": [
       "(392, 15)"
      ]
     },
     "execution_count": 67,
     "metadata": {},
     "output_type": "execute_result"
    }
   ],
   "source": [
    "# From test set deleting columns that are removed in training set\n",
    "X_test_sfs = X_test_knn[np.array(X_train_sfs.columns)]\n",
    "X_test_sfs.shape"
   ]
  },
  {
   "cell_type": "code",
   "execution_count": 69,
   "metadata": {},
   "outputs": [
    {
     "name": "stdout",
     "output_type": "stream",
     "text": [
      "              precision    recall  f1-score   support\n",
      "\n",
      "           0       0.00      0.00      0.00        26\n",
      "           1       0.93      1.00      0.97       366\n",
      "\n",
      "    accuracy                           0.93       392\n",
      "   macro avg       0.47      0.50      0.48       392\n",
      "weighted avg       0.87      0.93      0.90       392\n",
      "\n",
      "Test Accuracy Score 0.9336734693877551\n"
     ]
    },
    {
     "data": {
      "image/png": "[encoded data removed]",
      "text/plain": [
       "<Figure size 432x288 with 2 Axes>"
      ]
     },
     "metadata": {
      "needs_background": "light"
     },
     "output_type": "display_data"
    }
   ],
   "source": [
    "rfc(X_train_sfs,X_test_sfs,4)"
   ]
  },
  {
   "cell_type": "markdown",
   "metadata": {},
   "source": [
    "## Backward elimination"
   ]
  },
  {
   "cell_type": "code",
   "execution_count": 76,
   "metadata": {},
   "outputs": [
    {
     "name": "stdout",
     "output_type": "stream",
     "text": [
      "['Feature_1', 'Feature_2', 'Feature_3', 'Feature_4', 'Feature_5', 'Feature_7', 'Feature_8', 'Feature_9', 'Feature_10', 'Feature_11', 'Feature_12', 'Feature_13', 'Feature_15', 'Feature_16', 'Feature_17', 'Feature_18', 'Feature_19', 'Feature_20', 'Feature_21', 'Feature_22', 'Feature_23', 'Feature_24', 'Feature_25', 'Feature_26', 'Feature_27', 'Feature_28', 'Feature_29', 'Feature_30', 'Feature_31', 'Feature_32', 'Feature_33', 'Feature_34', 'Feature_35', 'Feature_36', 'Feature_37', 'Feature_38', 'Feature_39', 'Feature_40', 'Feature_41', 'Feature_42', 'Feature_44', 'Feature_45', 'Feature_46', 'Feature_47', 'Feature_48', 'Feature_49', 'Feature_52', 'Feature_54', 'Feature_55', 'Feature_56', 'Feature_57', 'Feature_58', 'Feature_59', 'Feature_60', 'Feature_61', 'Feature_62', 'Feature_63', 'Feature_64', 'Feature_65', 'Feature_66', 'Feature_67', 'Feature_68', 'Feature_69', 'Feature_71', 'Feature_72', 'Feature_75', 'Feature_76', 'Feature_77', 'Feature_78', 'Feature_79', 'Feature_80', 'Feature_81', 'Feature_82', 'Feature_83', 'Feature_84', 'Feature_85', 'Feature_87', 'Feature_88', 'Feature_89', 'Feature_90', 'Feature_91', 'Feature_92', 'Feature_93', 'Feature_94', 'Feature_95', 'Feature_96', 'Feature_97', 'Feature_99', 'Feature_100', 'Feature_101', 'Feature_102', 'Feature_103', 'Feature_104', 'Feature_105', 'Feature_106', 'Feature_107', 'Feature_108', 'Feature_109', 'Feature_114', 'Feature_115', 'Feature_116', 'Feature_117', 'Feature_118', 'Feature_119', 'Feature_120', 'Feature_121', 'Feature_122', 'Feature_123', 'Feature_124', 'Feature_126', 'Feature_127', 'Feature_128', 'Feature_129', 'Feature_130', 'Feature_131', 'Feature_132', 'Feature_133', 'Feature_134', 'Feature_135', 'Feature_136', 'Feature_137', 'Feature_138', 'Feature_139', 'Feature_140', 'Feature_141', 'Feature_143', 'Feature_144', 'Feature_145', 'Feature_146', 'Feature_147', 'Feature_148', 'Feature_149', 'Feature_151', 'Feature_152', 'Feature_154', 'Feature_155', 'Feature_156', 'Feature_157', 'Feature_160', 'Feature_161', 'Feature_162', 'Feature_163', 'Feature_164', 'Feature_165', 'Feature_166', 'Feature_167', 'Feature_168', 'Feature_169', 'Feature_170', 'Feature_171', 'Feature_172', 'Feature_173', 'Feature_174', 'Feature_175', 'Feature_176', 'Feature_177', 'Feature_178', 'Feature_181', 'Feature_182', 'Feature_183', 'Feature_184', 'Feature_185', 'Feature_186', 'Feature_188', 'Feature_189', 'Feature_196', 'Feature_197', 'Feature_198', 'Feature_199', 'Feature_200', 'Feature_202', 'Feature_203', 'Feature_204', 'Feature_205', 'Feature_206', 'Feature_207', 'Feature_208', 'Feature_209', 'Feature_210', 'Feature_211', 'Feature_212', 'Feature_213', 'Feature_214', 'Feature_215', 'Feature_216', 'Feature_217', 'Feature_218', 'Feature_219', 'Feature_220', 'Feature_222', 'Feature_223', 'Feature_224', 'Feature_225', 'Feature_226', 'Feature_228', 'Feature_229', 'Feature_239', 'Feature_240', 'Feature_249', 'Feature_250', 'Feature_251', 'Feature_252', 'Feature_253', 'Feature_254', 'Feature_255', 'Feature_256', 'Feature_268', 'Feature_269', 'Feature_270', 'Feature_271', 'Feature_272', 'Feature_273', 'Feature_274', 'Feature_275', 'Feature_276', 'Feature_278', 'Feature_279', 'Feature_280', 'Feature_281', 'Feature_282', 'Feature_283', 'Feature_284', 'Feature_286', 'Feature_287', 'Feature_288', 'Feature_289', 'Feature_290', 'Feature_291', 'Feature_292', 'Feature_295', 'Feature_296', 'Feature_297', 'Feature_298', 'Feature_299', 'Feature_300', 'Feature_301', 'Feature_302', 'Feature_303', 'Feature_304', 'Feature_305', 'Feature_306', 'Feature_307', 'Feature_308', 'Feature_309', 'Feature_310', 'Feature_311', 'Feature_312', 'Feature_313', 'Feature_317', 'Feature_318', 'Feature_319', 'Feature_320', 'Feature_321', 'Feature_322', 'Feature_324', 'Feature_325', 'Feature_332', 'Feature_333', 'Feature_334', 'Feature_335', 'Feature_336', 'Feature_337', 'Feature_338', 'Feature_339', 'Feature_340', 'Feature_341', 'Feature_342', 'Feature_343', 'Feature_344', 'Feature_345', 'Feature_348', 'Feature_349', 'Feature_350', 'Feature_351', 'Feature_352', 'Feature_353', 'Feature_354', 'Feature_355', 'Feature_356', 'Feature_357', 'Feature_358', 'Feature_360', 'Feature_361', 'Feature_362', 'Feature_363', 'Feature_364', 'Feature_366', 'Feature_367', 'Feature_368', 'Feature_369', 'Feature_377', 'Feature_378', 'Feature_387', 'Feature_388', 'Feature_389', 'Feature_390', 'Feature_391', 'Feature_392', 'Feature_393', 'Feature_394', 'Feature_406', 'Feature_407', 'Feature_408', 'Feature_409', 'Feature_410', 'Feature_411', 'Feature_412', 'Feature_413', 'Feature_414', 'Feature_416', 'Feature_417', 'Feature_418', 'Feature_419', 'Feature_420', 'Feature_422', 'Feature_424', 'Feature_425', 'Feature_426', 'Feature_427', 'Feature_428', 'Feature_429', 'Feature_430', 'Feature_431', 'Feature_432', 'Feature_433', 'Feature_434', 'Feature_435', 'Feature_436', 'Feature_437', 'Feature_438', 'Feature_439', 'Feature_440', 'Feature_441', 'Feature_442', 'Feature_443', 'Feature_444', 'Feature_445', 'Feature_446', 'Feature_447', 'Feature_448', 'Feature_449', 'Feature_453', 'Feature_454', 'Feature_455', 'Feature_456', 'Feature_457', 'Feature_458', 'Feature_460', 'Feature_461', 'Feature_468', 'Feature_469', 'Feature_470', 'Feature_471', 'Feature_472', 'Feature_473', 'Feature_474', 'Feature_475', 'Feature_476', 'Feature_477', 'Feature_479', 'Feature_480', 'Feature_481', 'Feature_483', 'Feature_484', 'Feature_485', 'Feature_486', 'Feature_487', 'Feature_488', 'Feature_489', 'Feature_490', 'Feature_491', 'Feature_492', 'Feature_494', 'Feature_495', 'Feature_496', 'Feature_497', 'Feature_498', 'Feature_500', 'Feature_501', 'Feature_511', 'Feature_512', 'Feature_521', 'Feature_522', 'Feature_523', 'Feature_524', 'Feature_526', 'Feature_527', 'Feature_528', 'Feature_540', 'Feature_541', 'Feature_542', 'Feature_543', 'Feature_544', 'Feature_545', 'Feature_546', 'Feature_547', 'Feature_548', 'Feature_549', 'Feature_550', 'Feature_551', 'Feature_552', 'Feature_553', 'Feature_554', 'Feature_555', 'Feature_556', 'Feature_557', 'Feature_558', 'Feature_559', 'Feature_560', 'Feature_561', 'Feature_562', 'Feature_563', 'Feature_564', 'Feature_565', 'Feature_566', 'Feature_567', 'Feature_568', 'Feature_569', 'Feature_570', 'Feature_571', 'Feature_572', 'Feature_573', 'Feature_574', 'Feature_575', 'Feature_576', 'Feature_577', 'Feature_578', 'Feature_583', 'Feature_584', 'Feature_585', 'Feature_586', 'Feature_587', 'Feature_588', 'Feature_589', 'Feature_590']\n"
     ]
    },
    {
     "name": "stderr",
     "output_type": "stream",
     "text": [
      "\n",
      "STOPPING EARLY DUE TO KEYBOARD INTERRUPT..."
     ]
    },
    {
     "data": {
      "text/plain": [
       "(392, 435)"
      ]
     },
     "execution_count": 76,
     "metadata": {},
     "output_type": "execute_result"
    }
   ],
   "source": [
    "#importing the necessary libraries\n",
    "from mlxtend.feature_selection import SequentialFeatureSelector as SFS\n",
    "from sklearn.linear_model import LinearRegression\n",
    "# Sequential Backward Selection(sbs)\n",
    "sbs = SFS(LinearRegression(),k_features=15,forward=False,verbose=True,scoring='neg_mean_squared_error')\n",
    "sbs.fit(X_train_knn, y_train)\n",
    "sbs_list = list(sbs.k_feature_names_)\n",
    "print(sbs_list)\n",
    "# creating a new dataframe using the above variables and adding the target variable\n",
    "X_train_sbs = X_train_knn[sbs_list]\n",
    "# From test set deleting columns that are removed in training set\n",
    "X_test_sbs = X_test_knn[np.array(X_train_sbs.columns)]\n",
    "X_test_sbs.shape"
   ]
  },
  {
   "cell_type": "code",
   "execution_count": 77,
   "metadata": {},
   "outputs": [
    {
     "name": "stdout",
     "output_type": "stream",
     "text": [
      "              precision    recall  f1-score   support\n",
      "\n",
      "           0       0.00      0.00      0.00        26\n",
      "           1       0.93      1.00      0.97       366\n",
      "\n",
      "    accuracy                           0.93       392\n",
      "   macro avg       0.47      0.50      0.48       392\n",
      "weighted avg       0.87      0.93      0.90       392\n",
      "\n",
      "Test Accuracy Score 0.9336734693877551\n"
     ]
    },
    {
     "data": {
      "image/png": "[encoded data removed]",
      "text/plain": [
       "<Figure size 432x288 with 2 Axes>"
      ]
     },
     "metadata": {
      "needs_background": "light"
     },
     "output_type": "display_data"
    }
   ],
   "source": [
    "rfc(X_train_sbs,X_test_sbs,6)"
   ]
  },
  {
   "cell_type": "markdown",
   "metadata": {},
   "source": [
    "## Exhaustive search"
   ]
  },
  {
   "cell_type": "code",
   "execution_count": 79,
   "metadata": {},
   "outputs": [],
   "source": [
    "#importing the necessary libraries\n",
    "from mlxtend.feature_selection import SequentialFeatureSelector as SFS\n",
    "from sklearn.ensemble import RandomForestClassifier\n",
    "from mlxtend.feature_selection import ExhaustiveFeatureSelector as EFS\n",
    "\n"
   ]
  },
  {
   "cell_type": "code",
   "execution_count": 85,
   "metadata": {},
   "outputs": [],
   "source": [
    "efs = EFS(RandomForestClassifier(n_jobs=4),min_features=15,max_features=20,scoring='roc_auc',\n",
    "           print_progress=True,cv=2,n_jobs=4) "
   ]
  },
  {
   "cell_type": "code",
   "execution_count": 86,
   "metadata": {},
   "outputs": [
    {
     "ename": "KeyboardInterrupt",
     "evalue": "",
     "output_type": "error",
     "traceback": [
      "\u001b[1;31m---------------------------------------------------------------------------\u001b[0m",
      "\u001b[1;31mKeyboardInterrupt\u001b[0m                         Traceback (most recent call last)",
      "\u001b[1;32mC:\\Users\\RASHMI~1\\AppData\\Local\\Temp/ipykernel_20080/3717714599.py\u001b[0m in \u001b[0;36m<module>\u001b[1;34m\u001b[0m\n\u001b[1;32m----> 1\u001b[1;33m \u001b[0mefs\u001b[0m\u001b[1;33m.\u001b[0m\u001b[0mfit\u001b[0m\u001b[1;33m(\u001b[0m\u001b[0mX_train_knn\u001b[0m\u001b[1;33m,\u001b[0m \u001b[0my_train\u001b[0m\u001b[1;33m)\u001b[0m\u001b[1;33m\u001b[0m\u001b[1;33m\u001b[0m\u001b[0m\n\u001b[0m",
      "\u001b[1;32mC:\\Users\\public\\anaconda3\\lib\\site-packages\\mlxtend\\feature_selection\\exhaustive_feature_selector.py\u001b[0m in \u001b[0;36mfit\u001b[1;34m(self, X, y, custom_feature_names, groups, **fit_params)\u001b[0m\n\u001b[0;32m    292\u001b[0m         \u001b[0mparallel\u001b[0m \u001b[1;33m=\u001b[0m \u001b[0mParallel\u001b[0m\u001b[1;33m(\u001b[0m\u001b[0mn_jobs\u001b[0m\u001b[1;33m=\u001b[0m\u001b[0mn_jobs\u001b[0m\u001b[1;33m,\u001b[0m \u001b[0mpre_dispatch\u001b[0m\u001b[1;33m=\u001b[0m\u001b[0mself\u001b[0m\u001b[1;33m.\u001b[0m\u001b[0mpre_dispatch\u001b[0m\u001b[1;33m)\u001b[0m\u001b[1;33m\u001b[0m\u001b[1;33m\u001b[0m\u001b[0m\n\u001b[0;32m    293\u001b[0m         work = enumerate(\n\u001b[1;32m--> 294\u001b[1;33m             parallel(\n\u001b[0m\u001b[0;32m    295\u001b[0m                 \u001b[0mdelayed\u001b[0m\u001b[1;33m(\u001b[0m\u001b[0m_calc_score\u001b[0m\u001b[1;33m)\u001b[0m\u001b[1;33m(\u001b[0m\u001b[0mself\u001b[0m\u001b[1;33m,\u001b[0m \u001b[0mX_\u001b[0m\u001b[1;33m,\u001b[0m \u001b[0my\u001b[0m\u001b[1;33m,\u001b[0m \u001b[0mc\u001b[0m\u001b[1;33m,\u001b[0m \u001b[0mgroups\u001b[0m\u001b[1;33m=\u001b[0m\u001b[0mgroups\u001b[0m\u001b[1;33m,\u001b[0m \u001b[1;33m**\u001b[0m\u001b[0mfit_params\u001b[0m\u001b[1;33m)\u001b[0m\u001b[1;33m\u001b[0m\u001b[1;33m\u001b[0m\u001b[0m\n\u001b[0;32m    296\u001b[0m                 \u001b[1;32mfor\u001b[0m \u001b[0mc\u001b[0m \u001b[1;32min\u001b[0m \u001b[0mcandidates\u001b[0m\u001b[1;33m\u001b[0m\u001b[1;33m\u001b[0m\u001b[0m\n",
      "\u001b[1;32mC:\\Users\\public\\anaconda3\\lib\\site-packages\\joblib\\parallel.py\u001b[0m in \u001b[0;36m__call__\u001b[1;34m(self, iterable)\u001b[0m\n\u001b[0;32m   1054\u001b[0m \u001b[1;33m\u001b[0m\u001b[0m\n\u001b[0;32m   1055\u001b[0m             \u001b[1;32mwith\u001b[0m \u001b[0mself\u001b[0m\u001b[1;33m.\u001b[0m\u001b[0m_backend\u001b[0m\u001b[1;33m.\u001b[0m\u001b[0mretrieval_context\u001b[0m\u001b[1;33m(\u001b[0m\u001b[1;33m)\u001b[0m\u001b[1;33m:\u001b[0m\u001b[1;33m\u001b[0m\u001b[1;33m\u001b[0m\u001b[0m\n\u001b[1;32m-> 1056\u001b[1;33m                 \u001b[0mself\u001b[0m\u001b[1;33m.\u001b[0m\u001b[0mretrieve\u001b[0m\u001b[1;33m(\u001b[0m\u001b[1;33m)\u001b[0m\u001b[1;33m\u001b[0m\u001b[1;33m\u001b[0m\u001b[0m\n\u001b[0m\u001b[0;32m   1057\u001b[0m             \u001b[1;31m# Make sure that we get a last message telling us we are done\u001b[0m\u001b[1;33m\u001b[0m\u001b[1;33m\u001b[0m\u001b[0m\n\u001b[0;32m   1058\u001b[0m             \u001b[0melapsed_time\u001b[0m \u001b[1;33m=\u001b[0m \u001b[0mtime\u001b[0m\u001b[1;33m.\u001b[0m\u001b[0mtime\u001b[0m\u001b[1;33m(\u001b[0m\u001b[1;33m)\u001b[0m \u001b[1;33m-\u001b[0m \u001b[0mself\u001b[0m\u001b[1;33m.\u001b[0m\u001b[0m_start_time\u001b[0m\u001b[1;33m\u001b[0m\u001b[1;33m\u001b[0m\u001b[0m\n",
      "\u001b[1;32mC:\\Users\\public\\anaconda3\\lib\\site-packages\\joblib\\parallel.py\u001b[0m in \u001b[0;36mretrieve\u001b[1;34m(self)\u001b[0m\n\u001b[0;32m    933\u001b[0m             \u001b[1;32mtry\u001b[0m\u001b[1;33m:\u001b[0m\u001b[1;33m\u001b[0m\u001b[1;33m\u001b[0m\u001b[0m\n\u001b[0;32m    934\u001b[0m                 \u001b[1;32mif\u001b[0m \u001b[0mgetattr\u001b[0m\u001b[1;33m(\u001b[0m\u001b[0mself\u001b[0m\u001b[1;33m.\u001b[0m\u001b[0m_backend\u001b[0m\u001b[1;33m,\u001b[0m \u001b[1;34m'supports_timeout'\u001b[0m\u001b[1;33m,\u001b[0m \u001b[1;32mFalse\u001b[0m\u001b[1;33m)\u001b[0m\u001b[1;33m:\u001b[0m\u001b[1;33m\u001b[0m\u001b[1;33m\u001b[0m\u001b[0m\n\u001b[1;32m--> 935\u001b[1;33m                     \u001b[0mself\u001b[0m\u001b[1;33m.\u001b[0m\u001b[0m_output\u001b[0m\u001b[1;33m.\u001b[0m\u001b[0mextend\u001b[0m\u001b[1;33m(\u001b[0m\u001b[0mjob\u001b[0m\u001b[1;33m.\u001b[0m\u001b[0mget\u001b[0m\u001b[1;33m(\u001b[0m\u001b[0mtimeout\u001b[0m\u001b[1;33m=\u001b[0m\u001b[0mself\u001b[0m\u001b[1;33m.\u001b[0m\u001b[0mtimeout\u001b[0m\u001b[1;33m)\u001b[0m\u001b[1;33m)\u001b[0m\u001b[1;33m\u001b[0m\u001b[1;33m\u001b[0m\u001b[0m\n\u001b[0m\u001b[0;32m    936\u001b[0m                 \u001b[1;32melse\u001b[0m\u001b[1;33m:\u001b[0m\u001b[1;33m\u001b[0m\u001b[1;33m\u001b[0m\u001b[0m\n\u001b[0;32m    937\u001b[0m                     \u001b[0mself\u001b[0m\u001b[1;33m.\u001b[0m\u001b[0m_output\u001b[0m\u001b[1;33m.\u001b[0m\u001b[0mextend\u001b[0m\u001b[1;33m(\u001b[0m\u001b[0mjob\u001b[0m\u001b[1;33m.\u001b[0m\u001b[0mget\u001b[0m\u001b[1;33m(\u001b[0m\u001b[1;33m)\u001b[0m\u001b[1;33m)\u001b[0m\u001b[1;33m\u001b[0m\u001b[1;33m\u001b[0m\u001b[0m\n",
      "\u001b[1;32mC:\\Users\\public\\anaconda3\\lib\\site-packages\\joblib\\_parallel_backends.py\u001b[0m in \u001b[0;36mwrap_future_result\u001b[1;34m(future, timeout)\u001b[0m\n\u001b[0;32m    540\u001b[0m         AsyncResults.get from multiprocessing.\"\"\"\n\u001b[0;32m    541\u001b[0m         \u001b[1;32mtry\u001b[0m\u001b[1;33m:\u001b[0m\u001b[1;33m\u001b[0m\u001b[1;33m\u001b[0m\u001b[0m\n\u001b[1;32m--> 542\u001b[1;33m             \u001b[1;32mreturn\u001b[0m \u001b[0mfuture\u001b[0m\u001b[1;33m.\u001b[0m\u001b[0mresult\u001b[0m\u001b[1;33m(\u001b[0m\u001b[0mtimeout\u001b[0m\u001b[1;33m=\u001b[0m\u001b[0mtimeout\u001b[0m\u001b[1;33m)\u001b[0m\u001b[1;33m\u001b[0m\u001b[1;33m\u001b[0m\u001b[0m\n\u001b[0m\u001b[0;32m    543\u001b[0m         \u001b[1;32mexcept\u001b[0m \u001b[0mCfTimeoutError\u001b[0m \u001b[1;32mas\u001b[0m \u001b[0me\u001b[0m\u001b[1;33m:\u001b[0m\u001b[1;33m\u001b[0m\u001b[1;33m\u001b[0m\u001b[0m\n\u001b[0;32m    544\u001b[0m             \u001b[1;32mraise\u001b[0m \u001b[0mTimeoutError\u001b[0m \u001b[1;32mfrom\u001b[0m \u001b[0me\u001b[0m\u001b[1;33m\u001b[0m\u001b[1;33m\u001b[0m\u001b[0m\n",
      "\u001b[1;32mC:\\Users\\public\\anaconda3\\lib\\concurrent\\futures\\_base.py\u001b[0m in \u001b[0;36mresult\u001b[1;34m(self, timeout)\u001b[0m\n\u001b[0;32m    438\u001b[0m                     \u001b[1;32mreturn\u001b[0m \u001b[0mself\u001b[0m\u001b[1;33m.\u001b[0m\u001b[0m__get_result\u001b[0m\u001b[1;33m(\u001b[0m\u001b[1;33m)\u001b[0m\u001b[1;33m\u001b[0m\u001b[1;33m\u001b[0m\u001b[0m\n\u001b[0;32m    439\u001b[0m \u001b[1;33m\u001b[0m\u001b[0m\n\u001b[1;32m--> 440\u001b[1;33m                 \u001b[0mself\u001b[0m\u001b[1;33m.\u001b[0m\u001b[0m_condition\u001b[0m\u001b[1;33m.\u001b[0m\u001b[0mwait\u001b[0m\u001b[1;33m(\u001b[0m\u001b[0mtimeout\u001b[0m\u001b[1;33m)\u001b[0m\u001b[1;33m\u001b[0m\u001b[1;33m\u001b[0m\u001b[0m\n\u001b[0m\u001b[0;32m    441\u001b[0m \u001b[1;33m\u001b[0m\u001b[0m\n\u001b[0;32m    442\u001b[0m                 \u001b[1;32mif\u001b[0m \u001b[0mself\u001b[0m\u001b[1;33m.\u001b[0m\u001b[0m_state\u001b[0m \u001b[1;32min\u001b[0m \u001b[1;33m[\u001b[0m\u001b[0mCANCELLED\u001b[0m\u001b[1;33m,\u001b[0m \u001b[0mCANCELLED_AND_NOTIFIED\u001b[0m\u001b[1;33m]\u001b[0m\u001b[1;33m:\u001b[0m\u001b[1;33m\u001b[0m\u001b[1;33m\u001b[0m\u001b[0m\n",
      "\u001b[1;32mC:\\Users\\public\\anaconda3\\lib\\threading.py\u001b[0m in \u001b[0;36mwait\u001b[1;34m(self, timeout)\u001b[0m\n\u001b[0;32m    310\u001b[0m         \u001b[1;32mtry\u001b[0m\u001b[1;33m:\u001b[0m    \u001b[1;31m# restore state no matter what (e.g., KeyboardInterrupt)\u001b[0m\u001b[1;33m\u001b[0m\u001b[1;33m\u001b[0m\u001b[0m\n\u001b[0;32m    311\u001b[0m             \u001b[1;32mif\u001b[0m \u001b[0mtimeout\u001b[0m \u001b[1;32mis\u001b[0m \u001b[1;32mNone\u001b[0m\u001b[1;33m:\u001b[0m\u001b[1;33m\u001b[0m\u001b[1;33m\u001b[0m\u001b[0m\n\u001b[1;32m--> 312\u001b[1;33m                 \u001b[0mwaiter\u001b[0m\u001b[1;33m.\u001b[0m\u001b[0macquire\u001b[0m\u001b[1;33m(\u001b[0m\u001b[1;33m)\u001b[0m\u001b[1;33m\u001b[0m\u001b[1;33m\u001b[0m\u001b[0m\n\u001b[0m\u001b[0;32m    313\u001b[0m                 \u001b[0mgotit\u001b[0m \u001b[1;33m=\u001b[0m \u001b[1;32mTrue\u001b[0m\u001b[1;33m\u001b[0m\u001b[1;33m\u001b[0m\u001b[0m\n\u001b[0;32m    314\u001b[0m             \u001b[1;32melse\u001b[0m\u001b[1;33m:\u001b[0m\u001b[1;33m\u001b[0m\u001b[1;33m\u001b[0m\u001b[0m\n",
      "\u001b[1;31mKeyboardInterrupt\u001b[0m: "
     ]
    }
   ],
   "source": [
    "efs.fit(X_train_knn, y_train)"
   ]
  },
  {
   "cell_type": "code",
   "execution_count": 83,
   "metadata": {},
   "outputs": [
    {
     "ename": "NameError",
     "evalue": "name 'efs' is not defined",
     "output_type": "error",
     "traceback": [
      "\u001b[1;31m---------------------------------------------------------------------------\u001b[0m",
      "\u001b[1;31mNameError\u001b[0m                                 Traceback (most recent call last)",
      "\u001b[1;32mC:\\Users\\RASHMI~1\\AppData\\Local\\Temp/ipykernel_20080/941789786.py\u001b[0m in \u001b[0;36m<module>\u001b[1;34m\u001b[0m\n\u001b[1;32m----> 1\u001b[1;33m \u001b[0mefs_list\u001b[0m \u001b[1;33m=\u001b[0m \u001b[0mlist\u001b[0m\u001b[1;33m(\u001b[0m\u001b[0mefs\u001b[0m\u001b[1;33m.\u001b[0m\u001b[0mbest_feature_names_\u001b[0m\u001b[1;33m)\u001b[0m\u001b[1;33m\u001b[0m\u001b[1;33m\u001b[0m\u001b[0m\n\u001b[0m\u001b[0;32m      2\u001b[0m \u001b[0mprint\u001b[0m\u001b[1;33m(\u001b[0m\u001b[0mefs_list\u001b[0m\u001b[1;33m)\u001b[0m\u001b[1;33m\u001b[0m\u001b[1;33m\u001b[0m\u001b[0m\n\u001b[0;32m      3\u001b[0m \u001b[1;31m# creating a new dataframe using the above variables and adding the target variable\u001b[0m\u001b[1;33m\u001b[0m\u001b[1;33m\u001b[0m\u001b[0m\n\u001b[0;32m      4\u001b[0m \u001b[0mX_train_efs\u001b[0m \u001b[1;33m=\u001b[0m \u001b[0mX_train_knn\u001b[0m\u001b[1;33m[\u001b[0m\u001b[0mefs_list\u001b[0m\u001b[1;33m]\u001b[0m\u001b[1;33m\u001b[0m\u001b[1;33m\u001b[0m\u001b[0m\n\u001b[0;32m      5\u001b[0m \u001b[1;31m# From test set deleting columns that are removed in training set\u001b[0m\u001b[1;33m\u001b[0m\u001b[1;33m\u001b[0m\u001b[0m\n",
      "\u001b[1;31mNameError\u001b[0m: name 'efs' is not defined"
     ]
    }
   ],
   "source": [
    "efs_list = list(efs.best_feature_names_)\n",
    "print(efs_list)\n",
    "# creating a new dataframe using the above variables and adding the target variable\n",
    "X_train_efs = X_train_knn[efs_list]\n",
    "# From test set deleting columns that are removed in training set\n",
    "X_test_efs = X_test_knn[np.array(X_train_efs.columns)]\n",
    "X_test_efs.shape"
   ]
  },
  {
   "cell_type": "code",
   "execution_count": 84,
   "metadata": {},
   "outputs": [
    {
     "ename": "NameError",
     "evalue": "name 'X_train_efs' is not defined",
     "output_type": "error",
     "traceback": [
      "\u001b[1;31m---------------------------------------------------------------------------\u001b[0m",
      "\u001b[1;31mNameError\u001b[0m                                 Traceback (most recent call last)",
      "\u001b[1;32mC:\\Users\\RASHMI~1\\AppData\\Local\\Temp/ipykernel_20080/3297772544.py\u001b[0m in \u001b[0;36m<module>\u001b[1;34m\u001b[0m\n\u001b[1;32m----> 1\u001b[1;33m \u001b[0mrfc\u001b[0m\u001b[1;33m(\u001b[0m\u001b[0mX_train_efs\u001b[0m\u001b[1;33m,\u001b[0m\u001b[0mX_test_efs\u001b[0m\u001b[1;33m,\u001b[0m\u001b[1;36m6\u001b[0m\u001b[1;33m)\u001b[0m\u001b[1;33m\u001b[0m\u001b[1;33m\u001b[0m\u001b[0m\n\u001b[0m",
      "\u001b[1;31mNameError\u001b[0m: name 'X_train_efs' is not defined"
     ]
    }
   ],
   "source": [
    "rfc(X_train_efs,X_test_efs,6)"
   ]
  },
  {
   "cell_type": "markdown",
   "metadata": {},
   "source": [
    "## Recursive feature elimination"
   ]
  },
  {
   "cell_type": "code",
   "execution_count": 87,
   "metadata": {},
   "outputs": [],
   "source": [
    "from sklearn.ensemble import RandomForestRegressor\n",
    "regressor = RandomForestRegressor(n_estimators=100, max_depth=10)"
   ]
  },
  {
   "cell_type": "code",
   "execution_count": 88,
   "metadata": {},
   "outputs": [
    {
     "ename": "KeyboardInterrupt",
     "evalue": "",
     "output_type": "error",
     "traceback": [
      "\u001b[1;31m---------------------------------------------------------------------------\u001b[0m",
      "\u001b[1;31mKeyboardInterrupt\u001b[0m                         Traceback (most recent call last)",
      "\u001b[1;32mC:\\Users\\RASHMI~1\\AppData\\Local\\Temp/ipykernel_20080/3337414326.py\u001b[0m in \u001b[0;36m<module>\u001b[1;34m\u001b[0m\n\u001b[0;32m      2\u001b[0m \u001b[0mn_features_to_select\u001b[0m \u001b[1;33m=\u001b[0m \u001b[1;36m15\u001b[0m\u001b[1;33m\u001b[0m\u001b[1;33m\u001b[0m\u001b[0m\n\u001b[0;32m      3\u001b[0m \u001b[0mrfe\u001b[0m \u001b[1;33m=\u001b[0m \u001b[0mRFE\u001b[0m\u001b[1;33m(\u001b[0m\u001b[0mregressor\u001b[0m\u001b[1;33m,\u001b[0m \u001b[0mn_features_to_select\u001b[0m\u001b[1;33m=\u001b[0m\u001b[0mn_features_to_select\u001b[0m\u001b[1;33m)\u001b[0m\u001b[1;33m\u001b[0m\u001b[1;33m\u001b[0m\u001b[0m\n\u001b[1;32m----> 4\u001b[1;33m \u001b[0mrfe\u001b[0m\u001b[1;33m.\u001b[0m\u001b[0mfit\u001b[0m\u001b[1;33m(\u001b[0m\u001b[0mX_train_knn\u001b[0m\u001b[1;33m,\u001b[0m \u001b[0my_train\u001b[0m\u001b[1;33m)\u001b[0m\u001b[1;33m\u001b[0m\u001b[1;33m\u001b[0m\u001b[0m\n\u001b[0m",
      "\u001b[1;32mC:\\Users\\public\\anaconda3\\lib\\site-packages\\sklearn\\feature_selection\\_rfe.py\u001b[0m in \u001b[0;36mfit\u001b[1;34m(self, X, y, **fit_params)\u001b[0m\n\u001b[0;32m    233\u001b[0m             \u001b[0mFitted\u001b[0m \u001b[0mestimator\u001b[0m\u001b[1;33m.\u001b[0m\u001b[1;33m\u001b[0m\u001b[1;33m\u001b[0m\u001b[0m\n\u001b[0;32m    234\u001b[0m         \"\"\"\n\u001b[1;32m--> 235\u001b[1;33m         \u001b[1;32mreturn\u001b[0m \u001b[0mself\u001b[0m\u001b[1;33m.\u001b[0m\u001b[0m_fit\u001b[0m\u001b[1;33m(\u001b[0m\u001b[0mX\u001b[0m\u001b[1;33m,\u001b[0m \u001b[0my\u001b[0m\u001b[1;33m,\u001b[0m \u001b[1;33m**\u001b[0m\u001b[0mfit_params\u001b[0m\u001b[1;33m)\u001b[0m\u001b[1;33m\u001b[0m\u001b[1;33m\u001b[0m\u001b[0m\n\u001b[0m\u001b[0;32m    236\u001b[0m \u001b[1;33m\u001b[0m\u001b[0m\n\u001b[0;32m    237\u001b[0m     \u001b[1;32mdef\u001b[0m \u001b[0m_fit\u001b[0m\u001b[1;33m(\u001b[0m\u001b[0mself\u001b[0m\u001b[1;33m,\u001b[0m \u001b[0mX\u001b[0m\u001b[1;33m,\u001b[0m \u001b[0my\u001b[0m\u001b[1;33m,\u001b[0m \u001b[0mstep_score\u001b[0m\u001b[1;33m=\u001b[0m\u001b[1;32mNone\u001b[0m\u001b[1;33m,\u001b[0m \u001b[1;33m**\u001b[0m\u001b[0mfit_params\u001b[0m\u001b[1;33m)\u001b[0m\u001b[1;33m:\u001b[0m\u001b[1;33m\u001b[0m\u001b[1;33m\u001b[0m\u001b[0m\n",
      "\u001b[1;32mC:\\Users\\public\\anaconda3\\lib\\site-packages\\sklearn\\feature_selection\\_rfe.py\u001b[0m in \u001b[0;36m_fit\u001b[1;34m(self, X, y, step_score, **fit_params)\u001b[0m\n\u001b[0;32m    294\u001b[0m                 \u001b[0mprint\u001b[0m\u001b[1;33m(\u001b[0m\u001b[1;34m\"Fitting estimator with %d features.\"\u001b[0m \u001b[1;33m%\u001b[0m \u001b[0mnp\u001b[0m\u001b[1;33m.\u001b[0m\u001b[0msum\u001b[0m\u001b[1;33m(\u001b[0m\u001b[0msupport_\u001b[0m\u001b[1;33m)\u001b[0m\u001b[1;33m)\u001b[0m\u001b[1;33m\u001b[0m\u001b[1;33m\u001b[0m\u001b[0m\n\u001b[0;32m    295\u001b[0m \u001b[1;33m\u001b[0m\u001b[0m\n\u001b[1;32m--> 296\u001b[1;33m             \u001b[0mestimator\u001b[0m\u001b[1;33m.\u001b[0m\u001b[0mfit\u001b[0m\u001b[1;33m(\u001b[0m\u001b[0mX\u001b[0m\u001b[1;33m[\u001b[0m\u001b[1;33m:\u001b[0m\u001b[1;33m,\u001b[0m \u001b[0mfeatures\u001b[0m\u001b[1;33m]\u001b[0m\u001b[1;33m,\u001b[0m \u001b[0my\u001b[0m\u001b[1;33m,\u001b[0m \u001b[1;33m**\u001b[0m\u001b[0mfit_params\u001b[0m\u001b[1;33m)\u001b[0m\u001b[1;33m\u001b[0m\u001b[1;33m\u001b[0m\u001b[0m\n\u001b[0m\u001b[0;32m    297\u001b[0m \u001b[1;33m\u001b[0m\u001b[0m\n\u001b[0;32m    298\u001b[0m             \u001b[1;31m# Get importance and rank them\u001b[0m\u001b[1;33m\u001b[0m\u001b[1;33m\u001b[0m\u001b[0m\n",
      "\u001b[1;32mC:\\Users\\public\\anaconda3\\lib\\site-packages\\sklearn\\ensemble\\_forest.py\u001b[0m in \u001b[0;36mfit\u001b[1;34m(self, X, y, sample_weight)\u001b[0m\n\u001b[0;32m    474\u001b[0m             \u001b[1;31m# parallel_backend contexts set at a higher level,\u001b[0m\u001b[1;33m\u001b[0m\u001b[1;33m\u001b[0m\u001b[0m\n\u001b[0;32m    475\u001b[0m             \u001b[1;31m# since correctness does not rely on using threads.\u001b[0m\u001b[1;33m\u001b[0m\u001b[1;33m\u001b[0m\u001b[0m\n\u001b[1;32m--> 476\u001b[1;33m             trees = Parallel(\n\u001b[0m\u001b[0;32m    477\u001b[0m                 \u001b[0mn_jobs\u001b[0m\u001b[1;33m=\u001b[0m\u001b[0mself\u001b[0m\u001b[1;33m.\u001b[0m\u001b[0mn_jobs\u001b[0m\u001b[1;33m,\u001b[0m\u001b[1;33m\u001b[0m\u001b[1;33m\u001b[0m\u001b[0m\n\u001b[0;32m    478\u001b[0m                 \u001b[0mverbose\u001b[0m\u001b[1;33m=\u001b[0m\u001b[0mself\u001b[0m\u001b[1;33m.\u001b[0m\u001b[0mverbose\u001b[0m\u001b[1;33m,\u001b[0m\u001b[1;33m\u001b[0m\u001b[1;33m\u001b[0m\u001b[0m\n",
      "\u001b[1;32mC:\\Users\\public\\anaconda3\\lib\\site-packages\\joblib\\parallel.py\u001b[0m in \u001b[0;36m__call__\u001b[1;34m(self, iterable)\u001b[0m\n\u001b[0;32m   1044\u001b[0m                 \u001b[0mself\u001b[0m\u001b[1;33m.\u001b[0m\u001b[0m_iterating\u001b[0m \u001b[1;33m=\u001b[0m \u001b[0mself\u001b[0m\u001b[1;33m.\u001b[0m\u001b[0m_original_iterator\u001b[0m \u001b[1;32mis\u001b[0m \u001b[1;32mnot\u001b[0m \u001b[1;32mNone\u001b[0m\u001b[1;33m\u001b[0m\u001b[1;33m\u001b[0m\u001b[0m\n\u001b[0;32m   1045\u001b[0m \u001b[1;33m\u001b[0m\u001b[0m\n\u001b[1;32m-> 1046\u001b[1;33m             \u001b[1;32mwhile\u001b[0m \u001b[0mself\u001b[0m\u001b[1;33m.\u001b[0m\u001b[0mdispatch_one_batch\u001b[0m\u001b[1;33m(\u001b[0m\u001b[0miterator\u001b[0m\u001b[1;33m)\u001b[0m\u001b[1;33m:\u001b[0m\u001b[1;33m\u001b[0m\u001b[1;33m\u001b[0m\u001b[0m\n\u001b[0m\u001b[0;32m   1047\u001b[0m                 \u001b[1;32mpass\u001b[0m\u001b[1;33m\u001b[0m\u001b[1;33m\u001b[0m\u001b[0m\n\u001b[0;32m   1048\u001b[0m \u001b[1;33m\u001b[0m\u001b[0m\n",
      "\u001b[1;32mC:\\Users\\public\\anaconda3\\lib\\site-packages\\joblib\\parallel.py\u001b[0m in \u001b[0;36mdispatch_one_batch\u001b[1;34m(self, iterator)\u001b[0m\n\u001b[0;32m    859\u001b[0m                 \u001b[1;32mreturn\u001b[0m \u001b[1;32mFalse\u001b[0m\u001b[1;33m\u001b[0m\u001b[1;33m\u001b[0m\u001b[0m\n\u001b[0;32m    860\u001b[0m             \u001b[1;32melse\u001b[0m\u001b[1;33m:\u001b[0m\u001b[1;33m\u001b[0m\u001b[1;33m\u001b[0m\u001b[0m\n\u001b[1;32m--> 861\u001b[1;33m                 \u001b[0mself\u001b[0m\u001b[1;33m.\u001b[0m\u001b[0m_dispatch\u001b[0m\u001b[1;33m(\u001b[0m\u001b[0mtasks\u001b[0m\u001b[1;33m)\u001b[0m\u001b[1;33m\u001b[0m\u001b[1;33m\u001b[0m\u001b[0m\n\u001b[0m\u001b[0;32m    862\u001b[0m                 \u001b[1;32mreturn\u001b[0m \u001b[1;32mTrue\u001b[0m\u001b[1;33m\u001b[0m\u001b[1;33m\u001b[0m\u001b[0m\n\u001b[0;32m    863\u001b[0m \u001b[1;33m\u001b[0m\u001b[0m\n",
      "\u001b[1;32mC:\\Users\\public\\anaconda3\\lib\\site-packages\\joblib\\parallel.py\u001b[0m in \u001b[0;36m_dispatch\u001b[1;34m(self, batch)\u001b[0m\n\u001b[0;32m    777\u001b[0m         \u001b[1;32mwith\u001b[0m \u001b[0mself\u001b[0m\u001b[1;33m.\u001b[0m\u001b[0m_lock\u001b[0m\u001b[1;33m:\u001b[0m\u001b[1;33m\u001b[0m\u001b[1;33m\u001b[0m\u001b[0m\n\u001b[0;32m    778\u001b[0m             \u001b[0mjob_idx\u001b[0m \u001b[1;33m=\u001b[0m \u001b[0mlen\u001b[0m\u001b[1;33m(\u001b[0m\u001b[0mself\u001b[0m\u001b[1;33m.\u001b[0m\u001b[0m_jobs\u001b[0m\u001b[1;33m)\u001b[0m\u001b[1;33m\u001b[0m\u001b[1;33m\u001b[0m\u001b[0m\n\u001b[1;32m--> 779\u001b[1;33m             \u001b[0mjob\u001b[0m \u001b[1;33m=\u001b[0m \u001b[0mself\u001b[0m\u001b[1;33m.\u001b[0m\u001b[0m_backend\u001b[0m\u001b[1;33m.\u001b[0m\u001b[0mapply_async\u001b[0m\u001b[1;33m(\u001b[0m\u001b[0mbatch\u001b[0m\u001b[1;33m,\u001b[0m \u001b[0mcallback\u001b[0m\u001b[1;33m=\u001b[0m\u001b[0mcb\u001b[0m\u001b[1;33m)\u001b[0m\u001b[1;33m\u001b[0m\u001b[1;33m\u001b[0m\u001b[0m\n\u001b[0m\u001b[0;32m    780\u001b[0m             \u001b[1;31m# A job can complete so quickly than its callback is\u001b[0m\u001b[1;33m\u001b[0m\u001b[1;33m\u001b[0m\u001b[0m\n\u001b[0;32m    781\u001b[0m             \u001b[1;31m# called before we get here, causing self._jobs to\u001b[0m\u001b[1;33m\u001b[0m\u001b[1;33m\u001b[0m\u001b[0m\n",
      "\u001b[1;32mC:\\Users\\public\\anaconda3\\lib\\site-packages\\joblib\\_parallel_backends.py\u001b[0m in \u001b[0;36mapply_async\u001b[1;34m(self, func, callback)\u001b[0m\n\u001b[0;32m    206\u001b[0m     \u001b[1;32mdef\u001b[0m \u001b[0mapply_async\u001b[0m\u001b[1;33m(\u001b[0m\u001b[0mself\u001b[0m\u001b[1;33m,\u001b[0m \u001b[0mfunc\u001b[0m\u001b[1;33m,\u001b[0m \u001b[0mcallback\u001b[0m\u001b[1;33m=\u001b[0m\u001b[1;32mNone\u001b[0m\u001b[1;33m)\u001b[0m\u001b[1;33m:\u001b[0m\u001b[1;33m\u001b[0m\u001b[1;33m\u001b[0m\u001b[0m\n\u001b[0;32m    207\u001b[0m         \u001b[1;34m\"\"\"Schedule a func to be run\"\"\"\u001b[0m\u001b[1;33m\u001b[0m\u001b[1;33m\u001b[0m\u001b[0m\n\u001b[1;32m--> 208\u001b[1;33m         \u001b[0mresult\u001b[0m \u001b[1;33m=\u001b[0m \u001b[0mImmediateResult\u001b[0m\u001b[1;33m(\u001b[0m\u001b[0mfunc\u001b[0m\u001b[1;33m)\u001b[0m\u001b[1;33m\u001b[0m\u001b[1;33m\u001b[0m\u001b[0m\n\u001b[0m\u001b[0;32m    209\u001b[0m         \u001b[1;32mif\u001b[0m \u001b[0mcallback\u001b[0m\u001b[1;33m:\u001b[0m\u001b[1;33m\u001b[0m\u001b[1;33m\u001b[0m\u001b[0m\n\u001b[0;32m    210\u001b[0m             \u001b[0mcallback\u001b[0m\u001b[1;33m(\u001b[0m\u001b[0mresult\u001b[0m\u001b[1;33m)\u001b[0m\u001b[1;33m\u001b[0m\u001b[1;33m\u001b[0m\u001b[0m\n",
      "\u001b[1;32mC:\\Users\\public\\anaconda3\\lib\\site-packages\\joblib\\_parallel_backends.py\u001b[0m in \u001b[0;36m__init__\u001b[1;34m(self, batch)\u001b[0m\n\u001b[0;32m    570\u001b[0m         \u001b[1;31m# Don't delay the application, to avoid keeping the input\u001b[0m\u001b[1;33m\u001b[0m\u001b[1;33m\u001b[0m\u001b[0m\n\u001b[0;32m    571\u001b[0m         \u001b[1;31m# arguments in memory\u001b[0m\u001b[1;33m\u001b[0m\u001b[1;33m\u001b[0m\u001b[0m\n\u001b[1;32m--> 572\u001b[1;33m         \u001b[0mself\u001b[0m\u001b[1;33m.\u001b[0m\u001b[0mresults\u001b[0m \u001b[1;33m=\u001b[0m \u001b[0mbatch\u001b[0m\u001b[1;33m(\u001b[0m\u001b[1;33m)\u001b[0m\u001b[1;33m\u001b[0m\u001b[1;33m\u001b[0m\u001b[0m\n\u001b[0m\u001b[0;32m    573\u001b[0m \u001b[1;33m\u001b[0m\u001b[0m\n\u001b[0;32m    574\u001b[0m     \u001b[1;32mdef\u001b[0m \u001b[0mget\u001b[0m\u001b[1;33m(\u001b[0m\u001b[0mself\u001b[0m\u001b[1;33m)\u001b[0m\u001b[1;33m:\u001b[0m\u001b[1;33m\u001b[0m\u001b[1;33m\u001b[0m\u001b[0m\n",
      "\u001b[1;32mC:\\Users\\public\\anaconda3\\lib\\site-packages\\joblib\\parallel.py\u001b[0m in \u001b[0;36m__call__\u001b[1;34m(self)\u001b[0m\n\u001b[0;32m    260\u001b[0m         \u001b[1;31m# change the default number of processes to -1\u001b[0m\u001b[1;33m\u001b[0m\u001b[1;33m\u001b[0m\u001b[0m\n\u001b[0;32m    261\u001b[0m         \u001b[1;32mwith\u001b[0m \u001b[0mparallel_backend\u001b[0m\u001b[1;33m(\u001b[0m\u001b[0mself\u001b[0m\u001b[1;33m.\u001b[0m\u001b[0m_backend\u001b[0m\u001b[1;33m,\u001b[0m \u001b[0mn_jobs\u001b[0m\u001b[1;33m=\u001b[0m\u001b[0mself\u001b[0m\u001b[1;33m.\u001b[0m\u001b[0m_n_jobs\u001b[0m\u001b[1;33m)\u001b[0m\u001b[1;33m:\u001b[0m\u001b[1;33m\u001b[0m\u001b[1;33m\u001b[0m\u001b[0m\n\u001b[1;32m--> 262\u001b[1;33m             return [func(*args, **kwargs)\n\u001b[0m\u001b[0;32m    263\u001b[0m                     for func, args, kwargs in self.items]\n\u001b[0;32m    264\u001b[0m \u001b[1;33m\u001b[0m\u001b[0m\n",
      "\u001b[1;32mC:\\Users\\public\\anaconda3\\lib\\site-packages\\joblib\\parallel.py\u001b[0m in \u001b[0;36m<listcomp>\u001b[1;34m(.0)\u001b[0m\n\u001b[0;32m    260\u001b[0m         \u001b[1;31m# change the default number of processes to -1\u001b[0m\u001b[1;33m\u001b[0m\u001b[1;33m\u001b[0m\u001b[0m\n\u001b[0;32m    261\u001b[0m         \u001b[1;32mwith\u001b[0m \u001b[0mparallel_backend\u001b[0m\u001b[1;33m(\u001b[0m\u001b[0mself\u001b[0m\u001b[1;33m.\u001b[0m\u001b[0m_backend\u001b[0m\u001b[1;33m,\u001b[0m \u001b[0mn_jobs\u001b[0m\u001b[1;33m=\u001b[0m\u001b[0mself\u001b[0m\u001b[1;33m.\u001b[0m\u001b[0m_n_jobs\u001b[0m\u001b[1;33m)\u001b[0m\u001b[1;33m:\u001b[0m\u001b[1;33m\u001b[0m\u001b[1;33m\u001b[0m\u001b[0m\n\u001b[1;32m--> 262\u001b[1;33m             return [func(*args, **kwargs)\n\u001b[0m\u001b[0;32m    263\u001b[0m                     for func, args, kwargs in self.items]\n\u001b[0;32m    264\u001b[0m \u001b[1;33m\u001b[0m\u001b[0m\n",
      "\u001b[1;32mC:\\Users\\public\\anaconda3\\lib\\site-packages\\sklearn\\utils\\fixes.py\u001b[0m in \u001b[0;36m__call__\u001b[1;34m(self, *args, **kwargs)\u001b[0m\n\u001b[0;32m    115\u001b[0m     \u001b[1;32mdef\u001b[0m \u001b[0m__call__\u001b[0m\u001b[1;33m(\u001b[0m\u001b[0mself\u001b[0m\u001b[1;33m,\u001b[0m \u001b[1;33m*\u001b[0m\u001b[0margs\u001b[0m\u001b[1;33m,\u001b[0m \u001b[1;33m**\u001b[0m\u001b[0mkwargs\u001b[0m\u001b[1;33m)\u001b[0m\u001b[1;33m:\u001b[0m\u001b[1;33m\u001b[0m\u001b[1;33m\u001b[0m\u001b[0m\n\u001b[0;32m    116\u001b[0m         \u001b[1;32mwith\u001b[0m \u001b[0mconfig_context\u001b[0m\u001b[1;33m(\u001b[0m\u001b[1;33m**\u001b[0m\u001b[0mself\u001b[0m\u001b[1;33m.\u001b[0m\u001b[0mconfig\u001b[0m\u001b[1;33m)\u001b[0m\u001b[1;33m:\u001b[0m\u001b[1;33m\u001b[0m\u001b[1;33m\u001b[0m\u001b[0m\n\u001b[1;32m--> 117\u001b[1;33m             \u001b[1;32mreturn\u001b[0m \u001b[0mself\u001b[0m\u001b[1;33m.\u001b[0m\u001b[0mfunction\u001b[0m\u001b[1;33m(\u001b[0m\u001b[1;33m*\u001b[0m\u001b[0margs\u001b[0m\u001b[1;33m,\u001b[0m \u001b[1;33m**\u001b[0m\u001b[0mkwargs\u001b[0m\u001b[1;33m)\u001b[0m\u001b[1;33m\u001b[0m\u001b[1;33m\u001b[0m\u001b[0m\n\u001b[0m\u001b[0;32m    118\u001b[0m \u001b[1;33m\u001b[0m\u001b[0m\n\u001b[0;32m    119\u001b[0m \u001b[1;33m\u001b[0m\u001b[0m\n",
      "\u001b[1;32mC:\\Users\\public\\anaconda3\\lib\\site-packages\\sklearn\\ensemble\\_forest.py\u001b[0m in \u001b[0;36m_parallel_build_trees\u001b[1;34m(tree, bootstrap, X, y, sample_weight, tree_idx, n_trees, verbose, class_weight, n_samples_bootstrap)\u001b[0m\n\u001b[0;32m    187\u001b[0m             \u001b[0mcurr_sample_weight\u001b[0m \u001b[1;33m*=\u001b[0m \u001b[0mcompute_sample_weight\u001b[0m\u001b[1;33m(\u001b[0m\u001b[1;34m\"balanced\"\u001b[0m\u001b[1;33m,\u001b[0m \u001b[0my\u001b[0m\u001b[1;33m,\u001b[0m \u001b[0mindices\u001b[0m\u001b[1;33m=\u001b[0m\u001b[0mindices\u001b[0m\u001b[1;33m)\u001b[0m\u001b[1;33m\u001b[0m\u001b[1;33m\u001b[0m\u001b[0m\n\u001b[0;32m    188\u001b[0m \u001b[1;33m\u001b[0m\u001b[0m\n\u001b[1;32m--> 189\u001b[1;33m         \u001b[0mtree\u001b[0m\u001b[1;33m.\u001b[0m\u001b[0mfit\u001b[0m\u001b[1;33m(\u001b[0m\u001b[0mX\u001b[0m\u001b[1;33m,\u001b[0m \u001b[0my\u001b[0m\u001b[1;33m,\u001b[0m \u001b[0msample_weight\u001b[0m\u001b[1;33m=\u001b[0m\u001b[0mcurr_sample_weight\u001b[0m\u001b[1;33m,\u001b[0m \u001b[0mcheck_input\u001b[0m\u001b[1;33m=\u001b[0m\u001b[1;32mFalse\u001b[0m\u001b[1;33m)\u001b[0m\u001b[1;33m\u001b[0m\u001b[1;33m\u001b[0m\u001b[0m\n\u001b[0m\u001b[0;32m    190\u001b[0m     \u001b[1;32melse\u001b[0m\u001b[1;33m:\u001b[0m\u001b[1;33m\u001b[0m\u001b[1;33m\u001b[0m\u001b[0m\n\u001b[0;32m    191\u001b[0m         \u001b[0mtree\u001b[0m\u001b[1;33m.\u001b[0m\u001b[0mfit\u001b[0m\u001b[1;33m(\u001b[0m\u001b[0mX\u001b[0m\u001b[1;33m,\u001b[0m \u001b[0my\u001b[0m\u001b[1;33m,\u001b[0m \u001b[0msample_weight\u001b[0m\u001b[1;33m=\u001b[0m\u001b[0msample_weight\u001b[0m\u001b[1;33m,\u001b[0m \u001b[0mcheck_input\u001b[0m\u001b[1;33m=\u001b[0m\u001b[1;32mFalse\u001b[0m\u001b[1;33m)\u001b[0m\u001b[1;33m\u001b[0m\u001b[1;33m\u001b[0m\u001b[0m\n",
      "\u001b[1;32mC:\\Users\\public\\anaconda3\\lib\\site-packages\\sklearn\\tree\\_classes.py\u001b[0m in \u001b[0;36mfit\u001b[1;34m(self, X, y, sample_weight, check_input)\u001b[0m\n\u001b[0;32m   1340\u001b[0m         \"\"\"\n\u001b[0;32m   1341\u001b[0m \u001b[1;33m\u001b[0m\u001b[0m\n\u001b[1;32m-> 1342\u001b[1;33m         super().fit(\n\u001b[0m\u001b[0;32m   1343\u001b[0m             \u001b[0mX\u001b[0m\u001b[1;33m,\u001b[0m\u001b[1;33m\u001b[0m\u001b[1;33m\u001b[0m\u001b[0m\n\u001b[0;32m   1344\u001b[0m             \u001b[0my\u001b[0m\u001b[1;33m,\u001b[0m\u001b[1;33m\u001b[0m\u001b[1;33m\u001b[0m\u001b[0m\n",
      "\u001b[1;32mC:\\Users\\public\\anaconda3\\lib\\site-packages\\sklearn\\tree\\_classes.py\u001b[0m in \u001b[0;36mfit\u001b[1;34m(self, X, y, sample_weight, check_input)\u001b[0m\n\u001b[0;32m    456\u001b[0m             )\n\u001b[0;32m    457\u001b[0m \u001b[1;33m\u001b[0m\u001b[0m\n\u001b[1;32m--> 458\u001b[1;33m         \u001b[0mbuilder\u001b[0m\u001b[1;33m.\u001b[0m\u001b[0mbuild\u001b[0m\u001b[1;33m(\u001b[0m\u001b[0mself\u001b[0m\u001b[1;33m.\u001b[0m\u001b[0mtree_\u001b[0m\u001b[1;33m,\u001b[0m \u001b[0mX\u001b[0m\u001b[1;33m,\u001b[0m \u001b[0my\u001b[0m\u001b[1;33m,\u001b[0m \u001b[0msample_weight\u001b[0m\u001b[1;33m)\u001b[0m\u001b[1;33m\u001b[0m\u001b[1;33m\u001b[0m\u001b[0m\n\u001b[0m\u001b[0;32m    459\u001b[0m \u001b[1;33m\u001b[0m\u001b[0m\n\u001b[0;32m    460\u001b[0m         \u001b[1;32mif\u001b[0m \u001b[0mself\u001b[0m\u001b[1;33m.\u001b[0m\u001b[0mn_outputs_\u001b[0m \u001b[1;33m==\u001b[0m \u001b[1;36m1\u001b[0m \u001b[1;32mand\u001b[0m \u001b[0mis_classifier\u001b[0m\u001b[1;33m(\u001b[0m\u001b[0mself\u001b[0m\u001b[1;33m)\u001b[0m\u001b[1;33m:\u001b[0m\u001b[1;33m\u001b[0m\u001b[1;33m\u001b[0m\u001b[0m\n",
      "\u001b[1;31mKeyboardInterrupt\u001b[0m: "
     ]
    }
   ],
   "source": [
    "from sklearn.feature_selection import RFE\n",
    "n_features_to_select = 15\n",
    "rfe = RFE(regressor, n_features_to_select=n_features_to_select)\n",
    "rfe.fit(X_train_knn, y_train)\n"
   ]
  },
  {
   "cell_type": "code",
   "execution_count": null,
   "metadata": {},
   "outputs": [],
   "source": [
    "rfe_list = list(rfe.best_feature_names_)\n",
    "print(rfe_list)\n",
    "# creating a new dataframe using the above variables and adding the target variable\n",
    "X_train_rfe = X_train_knn[rfe_list]\n",
    "# From test set deleting columns that are removed in training set\n",
    "X_test_rfe = X_test_knn[np.array(X_train_rfe.columns)]\n",
    "X_test_rfe.shape"
   ]
  }
 ],
 "metadata": {
  "colab": {
   "collapsed_sections": [],
   "include_colab_link": true,
   "name": "base file.ipynb",
   "provenance": [],
   "toc_visible": true
  },
  "kernelspec": {
   "display_name": "Python 3 (ipykernel)",
   "language": "python",
   "name": "python3"
  },
  "language_info": {
   "codemirror_mode": {
    "name": "ipython",
    "version": 3
   },
   "file_extension": ".py",
   "mimetype": "text/x-python",
   "name": "python",
   "nbconvert_exporter": "python",
   "pygments_lexer": "ipython3",
   "version": "3.9.7"
  }
 },
 "nbformat": 4,
 "nbformat_minor": 1
}
