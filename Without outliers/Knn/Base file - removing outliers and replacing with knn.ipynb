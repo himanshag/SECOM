{
 "cells": [
  {
   "cell_type": "markdown",
   "metadata": {
    "id": "s8CoiNMU1IQ8"
   },
   "source": [
    "#### Importing packages"
   ]
  },
  {
   "cell_type": "code",
   "execution_count": 98,
   "metadata": {
    "id": "VNPgCs7b1Jso"
   },
   "outputs": [],
   "source": [
    "import pandas as pd\n",
    "import seaborn as sns\n",
    "import numpy as np\n",
    "import matplotlib.pyplot as plt\n",
    "from sklearn.model_selection import train_test_split\n",
    "from sklearn.neighbors import KNeighborsClassifier\n",
    "import plotly as py\n",
    "import plotly.express as px\n",
    "import missingno as msno\n",
    "from sklearn.impute import KNNImputer\n",
    "from sklearn.preprocessing import StandardScaler"
   ]
  },
  {
   "cell_type": "markdown",
   "metadata": {
    "id": "za0s4Egl1QU5"
   },
   "source": [
    "#### Functions"
   ]
  },
  {
   "cell_type": "code",
   "execution_count": 99,
   "metadata": {
    "id": "RlMVRmdS1R0l"
   },
   "outputs": [],
   "source": [
    "# Function to remove missing values above a given threshold\n",
    "def missing_remove(dataframe, threshold):\n",
    "    columns = dataframe.columns[(dataframe.isna().sum()/dataframe.shape[1])>threshold].tolist()\n",
    "    print(f\"# Features deleted with more than {threshold} % missing values\", len(columns))\n",
    "    return dataframe.drop(columns, axis=1,inplace=True)"
   ]
  },
  {
   "cell_type": "code",
   "execution_count": 100,
   "metadata": {
    "id": "i62Cd7qc1LeI"
   },
   "outputs": [],
   "source": [
    "# Function to remove features with unique values\n",
    "def unique_remove(dataframe):\n",
    "    unique_features = []\n",
    "    for col in dataframe.columns:\n",
    "        if(dataframe[col].unique().size == 2):\n",
    "            if(len(unique_features) == 0):\n",
    "                unique_features =  dataframe[col]\n",
    "            else:\n",
    "                 unique_features = pd.concat([unique_features, dataframe[col]], axis=1)\n",
    "            dataframe.drop(col, axis=1, inplace=True)"
   ]
  },
  {
   "cell_type": "code",
   "execution_count": 101,
   "metadata": {
    "id": "j_OUWkYC1WQD"
   },
   "outputs": [],
   "source": [
    "# Function to remove outlier\n",
    "def outlier_detection_zcore(dataframe):\n",
    "    data_mean, data_std  = dataframe.mean(), dataframe.std()\n",
    "    data_z_scores = ((dataframe - data_mean) / data_std).abs()\n",
    "    m = data_z_scores > 3\n",
    "    dataframe = dataframe.mask(m,inplace=True)\n",
    "    return dataframe"
   ]
  },
  {
   "cell_type": "markdown",
   "metadata": {
    "id": "QYimj7lt1efy"
   },
   "source": [
    "#### Importing and basic cleaning"
   ]
  },
  {
   "cell_type": "code",
   "execution_count": 102,
   "metadata": {
    "id": "LbJIxqWC1hBn"
   },
   "outputs": [],
   "source": [
    "# Importing data from internet in runtime\n",
    "data_url=\"https://archive.ics.uci.edu/ml/machine-learning-databases/secom/secom.data\""
   ]
  },
  {
   "cell_type": "code",
   "execution_count": 103,
   "metadata": {
    "id": "vLONGBRz1iz7"
   },
   "outputs": [],
   "source": [
    "# Assigning data to a pandas dataframe\n",
    "secom_data = pd.read_csv(data_url,sep=' ',header=None)"
   ]
  },
  {
   "cell_type": "code",
   "execution_count": 104,
   "metadata": {
    "colab": {
     "base_uri": "https://localhost:8080/",
     "height": 300
    },
    "executionInfo": {
     "elapsed": 11,
     "status": "ok",
     "timestamp": 1655219711302,
     "user": {
      "displayName": "Rashmi dsouza",
      "userId": "15818309019845571813"
     },
     "user_tz": -120
    },
    "id": "mJ-CpITl1lJG",
    "outputId": "e8cc519e-358b-4862-e739-3c2a3b24fefa"
   },
   "outputs": [
    {
     "data": {
      "text/html": [
       "<div>\n",
       "<style scoped>\n",
       "    .dataframe tbody tr th:only-of-type {\n",
       "        vertical-align: middle;\n",
       "    }\n",
       "\n",
       "    .dataframe tbody tr th {\n",
       "        vertical-align: top;\n",
       "    }\n",
       "\n",
       "    .dataframe thead th {\n",
       "        text-align: right;\n",
       "    }\n",
       "</style>\n",
       "<table border=\"1\" class=\"dataframe\">\n",
       "  <thead>\n",
       "    <tr style=\"text-align: right;\">\n",
       "      <th></th>\n",
       "      <th>Feature_1</th>\n",
       "      <th>Feature_2</th>\n",
       "      <th>Feature_3</th>\n",
       "      <th>Feature_4</th>\n",
       "      <th>Feature_5</th>\n",
       "      <th>Feature_6</th>\n",
       "      <th>Feature_7</th>\n",
       "      <th>Feature_8</th>\n",
       "      <th>Feature_9</th>\n",
       "      <th>Feature_10</th>\n",
       "      <th>...</th>\n",
       "      <th>Feature_581</th>\n",
       "      <th>Feature_582</th>\n",
       "      <th>Feature_583</th>\n",
       "      <th>Feature_584</th>\n",
       "      <th>Feature_585</th>\n",
       "      <th>Feature_586</th>\n",
       "      <th>Feature_587</th>\n",
       "      <th>Feature_588</th>\n",
       "      <th>Feature_589</th>\n",
       "      <th>Feature_590</th>\n",
       "    </tr>\n",
       "  </thead>\n",
       "  <tbody>\n",
       "    <tr>\n",
       "      <th>0</th>\n",
       "      <td>3030.93</td>\n",
       "      <td>2564.00</td>\n",
       "      <td>2187.7333</td>\n",
       "      <td>1411.1265</td>\n",
       "      <td>1.3602</td>\n",
       "      <td>100.0</td>\n",
       "      <td>97.6133</td>\n",
       "      <td>0.1242</td>\n",
       "      <td>1.5005</td>\n",
       "      <td>0.0162</td>\n",
       "      <td>...</td>\n",
       "      <td>NaN</td>\n",
       "      <td>NaN</td>\n",
       "      <td>0.5005</td>\n",
       "      <td>0.0118</td>\n",
       "      <td>0.0035</td>\n",
       "      <td>2.3630</td>\n",
       "      <td>NaN</td>\n",
       "      <td>NaN</td>\n",
       "      <td>NaN</td>\n",
       "      <td>NaN</td>\n",
       "    </tr>\n",
       "    <tr>\n",
       "      <th>1</th>\n",
       "      <td>3095.78</td>\n",
       "      <td>2465.14</td>\n",
       "      <td>2230.4222</td>\n",
       "      <td>1463.6606</td>\n",
       "      <td>0.8294</td>\n",
       "      <td>100.0</td>\n",
       "      <td>102.3433</td>\n",
       "      <td>0.1247</td>\n",
       "      <td>1.4966</td>\n",
       "      <td>-0.0005</td>\n",
       "      <td>...</td>\n",
       "      <td>0.0060</td>\n",
       "      <td>208.2045</td>\n",
       "      <td>0.5019</td>\n",
       "      <td>0.0223</td>\n",
       "      <td>0.0055</td>\n",
       "      <td>4.4447</td>\n",
       "      <td>0.0096</td>\n",
       "      <td>0.0201</td>\n",
       "      <td>0.0060</td>\n",
       "      <td>208.2045</td>\n",
       "    </tr>\n",
       "    <tr>\n",
       "      <th>2</th>\n",
       "      <td>2932.61</td>\n",
       "      <td>2559.94</td>\n",
       "      <td>2186.4111</td>\n",
       "      <td>1698.0172</td>\n",
       "      <td>1.5102</td>\n",
       "      <td>100.0</td>\n",
       "      <td>95.4878</td>\n",
       "      <td>0.1241</td>\n",
       "      <td>1.4436</td>\n",
       "      <td>0.0041</td>\n",
       "      <td>...</td>\n",
       "      <td>0.0148</td>\n",
       "      <td>82.8602</td>\n",
       "      <td>0.4958</td>\n",
       "      <td>0.0157</td>\n",
       "      <td>0.0039</td>\n",
       "      <td>3.1745</td>\n",
       "      <td>0.0584</td>\n",
       "      <td>0.0484</td>\n",
       "      <td>0.0148</td>\n",
       "      <td>82.8602</td>\n",
       "    </tr>\n",
       "    <tr>\n",
       "      <th>3</th>\n",
       "      <td>2988.72</td>\n",
       "      <td>2479.90</td>\n",
       "      <td>2199.0333</td>\n",
       "      <td>909.7926</td>\n",
       "      <td>1.3204</td>\n",
       "      <td>100.0</td>\n",
       "      <td>104.2367</td>\n",
       "      <td>0.1217</td>\n",
       "      <td>1.4882</td>\n",
       "      <td>-0.0124</td>\n",
       "      <td>...</td>\n",
       "      <td>0.0044</td>\n",
       "      <td>73.8432</td>\n",
       "      <td>0.4990</td>\n",
       "      <td>0.0103</td>\n",
       "      <td>0.0025</td>\n",
       "      <td>2.0544</td>\n",
       "      <td>0.0202</td>\n",
       "      <td>0.0149</td>\n",
       "      <td>0.0044</td>\n",
       "      <td>73.8432</td>\n",
       "    </tr>\n",
       "    <tr>\n",
       "      <th>4</th>\n",
       "      <td>3032.24</td>\n",
       "      <td>2502.87</td>\n",
       "      <td>2233.3667</td>\n",
       "      <td>1326.5200</td>\n",
       "      <td>1.5334</td>\n",
       "      <td>100.0</td>\n",
       "      <td>100.3967</td>\n",
       "      <td>0.1235</td>\n",
       "      <td>1.5031</td>\n",
       "      <td>-0.0031</td>\n",
       "      <td>...</td>\n",
       "      <td>NaN</td>\n",
       "      <td>NaN</td>\n",
       "      <td>0.4800</td>\n",
       "      <td>0.4766</td>\n",
       "      <td>0.1045</td>\n",
       "      <td>99.3032</td>\n",
       "      <td>0.0202</td>\n",
       "      <td>0.0149</td>\n",
       "      <td>0.0044</td>\n",
       "      <td>73.8432</td>\n",
       "    </tr>\n",
       "  </tbody>\n",
       "</table>\n",
       "<p>5 rows × 590 columns</p>\n",
       "</div>"
      ],
      "text/plain": [
       "   Feature_1  Feature_2  Feature_3  Feature_4  Feature_5  Feature_6  \\\n",
       "0    3030.93    2564.00  2187.7333  1411.1265     1.3602      100.0   \n",
       "1    3095.78    2465.14  2230.4222  1463.6606     0.8294      100.0   \n",
       "2    2932.61    2559.94  2186.4111  1698.0172     1.5102      100.0   \n",
       "3    2988.72    2479.90  2199.0333   909.7926     1.3204      100.0   \n",
       "4    3032.24    2502.87  2233.3667  1326.5200     1.5334      100.0   \n",
       "\n",
       "   Feature_7  Feature_8  Feature_9  Feature_10  ...  Feature_581  Feature_582  \\\n",
       "0    97.6133     0.1242     1.5005      0.0162  ...          NaN          NaN   \n",
       "1   102.3433     0.1247     1.4966     -0.0005  ...       0.0060     208.2045   \n",
       "2    95.4878     0.1241     1.4436      0.0041  ...       0.0148      82.8602   \n",
       "3   104.2367     0.1217     1.4882     -0.0124  ...       0.0044      73.8432   \n",
       "4   100.3967     0.1235     1.5031     -0.0031  ...          NaN          NaN   \n",
       "\n",
       "   Feature_583  Feature_584  Feature_585  Feature_586  Feature_587  \\\n",
       "0       0.5005       0.0118       0.0035       2.3630          NaN   \n",
       "1       0.5019       0.0223       0.0055       4.4447       0.0096   \n",
       "2       0.4958       0.0157       0.0039       3.1745       0.0584   \n",
       "3       0.4990       0.0103       0.0025       2.0544       0.0202   \n",
       "4       0.4800       0.4766       0.1045      99.3032       0.0202   \n",
       "\n",
       "   Feature_588  Feature_589  Feature_590  \n",
       "0          NaN          NaN          NaN  \n",
       "1       0.0201       0.0060     208.2045  \n",
       "2       0.0484       0.0148      82.8602  \n",
       "3       0.0149       0.0044      73.8432  \n",
       "4       0.0149       0.0044      73.8432  \n",
       "\n",
       "[5 rows x 590 columns]"
      ]
     },
     "execution_count": 104,
     "metadata": {},
     "output_type": "execute_result"
    }
   ],
   "source": [
    "# Renaming the columns \n",
    "secom_data.columns = [\"Feature_\"+str(column+1) for column in range(len(secom_data.columns))]\n",
    "secom_data.head()"
   ]
  },
  {
   "cell_type": "code",
   "execution_count": 105,
   "metadata": {
    "id": "1m82GHOT1msU"
   },
   "outputs": [],
   "source": [
    "# Importing target data from internet in runtime\n",
    "label_url=\"https://archive.ics.uci.edu/ml/machine-learning-databases/secom/secom_labels.data\""
   ]
  },
  {
   "cell_type": "code",
   "execution_count": 106,
   "metadata": {
    "id": "MXNuzPJe1sNk"
   },
   "outputs": [],
   "source": [
    "# Assigning target data to a pandas dataframe\n",
    "secom_labels = pd.read_csv(label_url, sep = \" \",header=None)"
   ]
  },
  {
   "cell_type": "code",
   "execution_count": 107,
   "metadata": {
    "id": "RqtL5guL1tz7"
   },
   "outputs": [],
   "source": [
    "# Renaming the columns \n",
    "secom_labels.columns = [\"Classification\",\"Timestamp\"]"
   ]
  },
  {
   "cell_type": "code",
   "execution_count": 108,
   "metadata": {
    "id": "84Dl-Fay1vz3"
   },
   "outputs": [],
   "source": [
    "# Changing datatype for consitency\n",
    "secom_labels['Timestamp'] = pd.to_datetime(secom_labels['Timestamp'],errors='raise')"
   ]
  },
  {
   "cell_type": "code",
   "execution_count": 109,
   "metadata": {
    "id": "qSmgspyk1xcL"
   },
   "outputs": [],
   "source": [
    "# Merging the data\n",
    "data= pd.concat([secom_labels,secom_data],axis=1)"
   ]
  },
  {
   "cell_type": "code",
   "execution_count": 110,
   "metadata": {
    "id": "foQ0Zplo1yxq"
   },
   "outputs": [],
   "source": [
    "# Dropping the timestamp column as it provides no insights\n",
    "data.drop(columns=\"Timestamp\", errors='raise',inplace=True)"
   ]
  },
  {
   "cell_type": "code",
   "execution_count": 111,
   "metadata": {
    "id": "wSd7j_0210WF"
   },
   "outputs": [],
   "source": [
    "target = data[['Classification']]\n",
    "data.drop(['Classification'], axis=1,inplace=True)"
   ]
  },
  {
   "cell_type": "markdown",
   "metadata": {
    "id": "gcnUqd02122m"
   },
   "source": [
    "#### Spliting the data into training set and test set"
   ]
  },
  {
   "cell_type": "code",
   "execution_count": 112,
   "metadata": {
    "id": "UfkKHvKQ14hm"
   },
   "outputs": [],
   "source": [
    "from sklearn.model_selection import train_test_split\n",
    "X_train, X_test, y_train, y_test = train_test_split(data,target, test_size=0.25, random_state=42, stratify=target)\n",
    "# We use the startify parameter as the data is imbalanced on the basis of pass and fail and this will ensure the same \n",
    "#is retained when we split - Random state will help us create a reproducible data - Test size is the split ration"
   ]
  },
  {
   "cell_type": "code",
   "execution_count": 113,
   "metadata": {
    "id": "zoPcLGkRzCNR"
   },
   "outputs": [],
   "source": [
    "X_test_original = X_test"
   ]
  },
  {
   "cell_type": "markdown",
   "metadata": {
    "id": "VngQ8qmq18L2"
   },
   "source": [
    "#### Re-labeling the Target values\n"
   ]
  },
  {
   "cell_type": "code",
   "execution_count": 114,
   "metadata": {
    "id": "Zita67WD18oW"
   },
   "outputs": [],
   "source": [
    "# # Relabeling target variables 1 is pass and 0 is fail\n",
    "# y_train = y_train.replace(to_replace=[-1, 1], value=[1, 0])\n",
    "# y_test = y_test.replace(to_replace=[-1, 1], value=[1, 0])"
   ]
  },
  {
   "cell_type": "code",
   "execution_count": 115,
   "metadata": {
    "id": "Qqf5h04o2BV3"
   },
   "outputs": [],
   "source": [
    "# # Scaling the data\n",
    "# scaler = StandardScaler()\n",
    "# scaler.fit(X_train)\n",
    "# X_train = pd.DataFrame(scaler.transform(X_train), columns=X_train.columns)\n",
    "# X_test = pd.DataFrame(scaler.transform(X_test), columns=X_test.columns)"
   ]
  },
  {
   "cell_type": "markdown",
   "metadata": {
    "id": "Ktw4-If-2JVo"
   },
   "source": [
    "#### Removing columns with more that 50% missing values"
   ]
  },
  {
   "cell_type": "code",
   "execution_count": 116,
   "metadata": {
    "colab": {
     "base_uri": "https://localhost:8080/"
    },
    "executionInfo": {
     "elapsed": 19,
     "status": "ok",
     "timestamp": 1655219711734,
     "user": {
      "displayName": "Rashmi dsouza",
      "userId": "15818309019845571813"
     },
     "user_tz": -120
    },
    "id": "Sealjvqy16tt",
    "outputId": "93aaa158-4a32-454a-89a2-8d4c5874f161"
   },
   "outputs": [
    {
     "data": {
      "text/plain": [
       "(1175, 590)"
      ]
     },
     "execution_count": 116,
     "metadata": {},
     "output_type": "execute_result"
    }
   ],
   "source": [
    "X_train.shape"
   ]
  },
  {
   "cell_type": "code",
   "execution_count": 117,
   "metadata": {
    "colab": {
     "base_uri": "https://localhost:8080/",
     "height": 317
    },
    "executionInfo": {
     "elapsed": 16,
     "status": "ok",
     "timestamp": 1655219711735,
     "user": {
      "displayName": "Rashmi dsouza",
      "userId": "15818309019845571813"
     },
     "user_tz": -120
    },
    "id": "K3sSkLKz2MQv",
    "outputId": "58e4977d-3d69-4e54-8cbd-1498790d1530"
   },
   "outputs": [
    {
     "name": "stdout",
     "output_type": "stream",
     "text": [
      "# Features deleted with more than 0.5 % missing values 32\n"
     ]
    },
    {
     "data": {
      "text/html": [
       "<div>\n",
       "<style scoped>\n",
       "    .dataframe tbody tr th:only-of-type {\n",
       "        vertical-align: middle;\n",
       "    }\n",
       "\n",
       "    .dataframe tbody tr th {\n",
       "        vertical-align: top;\n",
       "    }\n",
       "\n",
       "    .dataframe thead th {\n",
       "        text-align: right;\n",
       "    }\n",
       "</style>\n",
       "<table border=\"1\" class=\"dataframe\">\n",
       "  <thead>\n",
       "    <tr style=\"text-align: right;\">\n",
       "      <th></th>\n",
       "      <th>Feature_1</th>\n",
       "      <th>Feature_2</th>\n",
       "      <th>Feature_3</th>\n",
       "      <th>Feature_4</th>\n",
       "      <th>Feature_5</th>\n",
       "      <th>Feature_6</th>\n",
       "      <th>Feature_7</th>\n",
       "      <th>Feature_8</th>\n",
       "      <th>Feature_9</th>\n",
       "      <th>Feature_10</th>\n",
       "      <th>...</th>\n",
       "      <th>Feature_577</th>\n",
       "      <th>Feature_578</th>\n",
       "      <th>Feature_583</th>\n",
       "      <th>Feature_584</th>\n",
       "      <th>Feature_585</th>\n",
       "      <th>Feature_586</th>\n",
       "      <th>Feature_587</th>\n",
       "      <th>Feature_588</th>\n",
       "      <th>Feature_589</th>\n",
       "      <th>Feature_590</th>\n",
       "    </tr>\n",
       "  </thead>\n",
       "  <tbody>\n",
       "    <tr>\n",
       "      <th>160</th>\n",
       "      <td>3057.03</td>\n",
       "      <td>2468.41</td>\n",
       "      <td>2184.8778</td>\n",
       "      <td>960.8486</td>\n",
       "      <td>1.0160</td>\n",
       "      <td>100.0</td>\n",
       "      <td>102.5333</td>\n",
       "      <td>0.1214</td>\n",
       "      <td>1.4549</td>\n",
       "      <td>-0.0125</td>\n",
       "      <td>...</td>\n",
       "      <td>1.0653</td>\n",
       "      <td>15.0191</td>\n",
       "      <td>0.5067</td>\n",
       "      <td>0.0126</td>\n",
       "      <td>0.0034</td>\n",
       "      <td>2.4798</td>\n",
       "      <td>0.0195</td>\n",
       "      <td>0.0121</td>\n",
       "      <td>0.0048</td>\n",
       "      <td>62.1248</td>\n",
       "    </tr>\n",
       "    <tr>\n",
       "      <th>814</th>\n",
       "      <td>3012.09</td>\n",
       "      <td>2551.08</td>\n",
       "      <td>2216.7333</td>\n",
       "      <td>1748.0885</td>\n",
       "      <td>1.1127</td>\n",
       "      <td>100.0</td>\n",
       "      <td>97.5822</td>\n",
       "      <td>0.1242</td>\n",
       "      <td>1.5136</td>\n",
       "      <td>-0.0090</td>\n",
       "      <td>...</td>\n",
       "      <td>2.4530</td>\n",
       "      <td>12.7241</td>\n",
       "      <td>0.4994</td>\n",
       "      <td>0.0073</td>\n",
       "      <td>0.0020</td>\n",
       "      <td>1.4634</td>\n",
       "      <td>0.0111</td>\n",
       "      <td>0.0069</td>\n",
       "      <td>0.0021</td>\n",
       "      <td>62.3602</td>\n",
       "    </tr>\n",
       "    <tr>\n",
       "      <th>124</th>\n",
       "      <td>3032.81</td>\n",
       "      <td>2534.74</td>\n",
       "      <td>2239.4223</td>\n",
       "      <td>1997.3782</td>\n",
       "      <td>1.5397</td>\n",
       "      <td>100.0</td>\n",
       "      <td>98.3356</td>\n",
       "      <td>0.1229</td>\n",
       "      <td>1.4974</td>\n",
       "      <td>-0.0046</td>\n",
       "      <td>...</td>\n",
       "      <td>1.5902</td>\n",
       "      <td>18.6118</td>\n",
       "      <td>0.4950</td>\n",
       "      <td>0.0149</td>\n",
       "      <td>0.0041</td>\n",
       "      <td>3.0137</td>\n",
       "      <td>0.0241</td>\n",
       "      <td>0.0086</td>\n",
       "      <td>0.0027</td>\n",
       "      <td>35.5550</td>\n",
       "    </tr>\n",
       "    <tr>\n",
       "      <th>501</th>\n",
       "      <td>2987.72</td>\n",
       "      <td>2550.52</td>\n",
       "      <td>2180.7000</td>\n",
       "      <td>1159.3838</td>\n",
       "      <td>1.0177</td>\n",
       "      <td>100.0</td>\n",
       "      <td>98.9367</td>\n",
       "      <td>0.1222</td>\n",
       "      <td>1.4207</td>\n",
       "      <td>0.0016</td>\n",
       "      <td>...</td>\n",
       "      <td>1.5141</td>\n",
       "      <td>11.3379</td>\n",
       "      <td>0.5042</td>\n",
       "      <td>0.0099</td>\n",
       "      <td>0.0030</td>\n",
       "      <td>1.9562</td>\n",
       "      <td>0.0048</td>\n",
       "      <td>0.0226</td>\n",
       "      <td>0.0079</td>\n",
       "      <td>474.0812</td>\n",
       "    </tr>\n",
       "    <tr>\n",
       "      <th>1362</th>\n",
       "      <td>3001.90</td>\n",
       "      <td>2465.51</td>\n",
       "      <td>2223.0444</td>\n",
       "      <td>1194.5986</td>\n",
       "      <td>1.2016</td>\n",
       "      <td>100.0</td>\n",
       "      <td>112.5811</td>\n",
       "      <td>0.1229</td>\n",
       "      <td>1.4201</td>\n",
       "      <td>-0.0182</td>\n",
       "      <td>...</td>\n",
       "      <td>83.9190</td>\n",
       "      <td>67.3679</td>\n",
       "      <td>0.5026</td>\n",
       "      <td>0.0085</td>\n",
       "      <td>0.0026</td>\n",
       "      <td>1.6862</td>\n",
       "      <td>0.0182</td>\n",
       "      <td>0.0077</td>\n",
       "      <td>0.0025</td>\n",
       "      <td>42.5048</td>\n",
       "    </tr>\n",
       "  </tbody>\n",
       "</table>\n",
       "<p>5 rows × 558 columns</p>\n",
       "</div>"
      ],
      "text/plain": [
       "      Feature_1  Feature_2  Feature_3  Feature_4  Feature_5  Feature_6  \\\n",
       "160     3057.03    2468.41  2184.8778   960.8486     1.0160      100.0   \n",
       "814     3012.09    2551.08  2216.7333  1748.0885     1.1127      100.0   \n",
       "124     3032.81    2534.74  2239.4223  1997.3782     1.5397      100.0   \n",
       "501     2987.72    2550.52  2180.7000  1159.3838     1.0177      100.0   \n",
       "1362    3001.90    2465.51  2223.0444  1194.5986     1.2016      100.0   \n",
       "\n",
       "      Feature_7  Feature_8  Feature_9  Feature_10  ...  Feature_577  \\\n",
       "160    102.5333     0.1214     1.4549     -0.0125  ...       1.0653   \n",
       "814     97.5822     0.1242     1.5136     -0.0090  ...       2.4530   \n",
       "124     98.3356     0.1229     1.4974     -0.0046  ...       1.5902   \n",
       "501     98.9367     0.1222     1.4207      0.0016  ...       1.5141   \n",
       "1362   112.5811     0.1229     1.4201     -0.0182  ...      83.9190   \n",
       "\n",
       "      Feature_578  Feature_583  Feature_584  Feature_585  Feature_586  \\\n",
       "160       15.0191       0.5067       0.0126       0.0034       2.4798   \n",
       "814       12.7241       0.4994       0.0073       0.0020       1.4634   \n",
       "124       18.6118       0.4950       0.0149       0.0041       3.0137   \n",
       "501       11.3379       0.5042       0.0099       0.0030       1.9562   \n",
       "1362      67.3679       0.5026       0.0085       0.0026       1.6862   \n",
       "\n",
       "      Feature_587  Feature_588  Feature_589  Feature_590  \n",
       "160        0.0195       0.0121       0.0048      62.1248  \n",
       "814        0.0111       0.0069       0.0021      62.3602  \n",
       "124        0.0241       0.0086       0.0027      35.5550  \n",
       "501        0.0048       0.0226       0.0079     474.0812  \n",
       "1362       0.0182       0.0077       0.0025      42.5048  \n",
       "\n",
       "[5 rows x 558 columns]"
      ]
     },
     "execution_count": 117,
     "metadata": {},
     "output_type": "execute_result"
    }
   ],
   "source": [
    "X_train_missing = X_train\n",
    "missing_remove(X_train_missing, 0.5)\n",
    "X_train_missing.head()"
   ]
  },
  {
   "cell_type": "markdown",
   "metadata": {
    "id": "eWk4oFZGoytT"
   },
   "source": [
    "#### Removing Columns with non unique values"
   ]
  },
  {
   "cell_type": "code",
   "execution_count": 118,
   "metadata": {
    "colab": {
     "base_uri": "https://localhost:8080/"
    },
    "executionInfo": {
     "elapsed": 726,
     "status": "ok",
     "timestamp": 1655219712449,
     "user": {
      "displayName": "Rashmi dsouza",
      "userId": "15818309019845571813"
     },
     "user_tz": -120
    },
    "id": "8nKubTxv2Qio",
    "outputId": "b2bd504f-46f0-4eff-8e6c-e93370857d91"
   },
   "outputs": [
    {
     "data": {
      "text/plain": [
       "(1175, 442)"
      ]
     },
     "execution_count": 118,
     "metadata": {},
     "output_type": "execute_result"
    }
   ],
   "source": [
    "X_train_unique = X_train_missing\n",
    "unique_remove(X_train_unique)\n",
    "X_train_unique.shape"
   ]
  },
  {
   "cell_type": "markdown",
   "metadata": {
    "id": "d3YZayAqqXwg"
   },
   "source": [
    "### Removing outliers and using knn"
   ]
  },
  {
   "cell_type": "code",
   "execution_count": 119,
   "metadata": {
    "colab": {
     "base_uri": "https://localhost:8080/"
    },
    "executionInfo": {
     "elapsed": 18,
     "status": "ok",
     "timestamp": 1655219712450,
     "user": {
      "displayName": "Rashmi dsouza",
      "userId": "15818309019845571813"
     },
     "user_tz": -120
    },
    "id": "mCppmUpCqb2d",
    "outputId": "121db5fe-836b-4abc-d30b-2932d884372b"
   },
   "outputs": [
    {
     "data": {
      "text/plain": [
       "6038"
      ]
     },
     "execution_count": 119,
     "metadata": {},
     "output_type": "execute_result"
    }
   ],
   "source": [
    "X_train_missing.isnull().sum().sum()"
   ]
  },
  {
   "cell_type": "code",
   "execution_count": 120,
   "metadata": {
    "colab": {
     "base_uri": "https://localhost:8080/"
    },
    "executionInfo": {
     "elapsed": 15,
     "status": "ok",
     "timestamp": 1655219712450,
     "user": {
      "displayName": "Rashmi dsouza",
      "userId": "15818309019845571813"
     },
     "user_tz": -120
    },
    "id": "aOVYAQYXrH85",
    "outputId": "229ce672-6d64-4b18-f2f7-d663f1e9ddc7"
   },
   "outputs": [
    {
     "data": {
      "text/plain": [
       "10506"
      ]
     },
     "execution_count": 120,
     "metadata": {},
     "output_type": "execute_result"
    }
   ],
   "source": [
    "outlier_detection_zcore(X_train_missing)\n",
    "X_train_missing.isnull().sum().sum()"
   ]
  },
  {
   "cell_type": "code",
   "execution_count": 121,
   "metadata": {
    "colab": {
     "base_uri": "https://localhost:8080/"
    },
    "executionInfo": {
     "elapsed": 311,
     "status": "ok",
     "timestamp": 1655219996081,
     "user": {
      "displayName": "Rashmi dsouza",
      "userId": "15818309019845571813"
     },
     "user_tz": -120
    },
    "id": "OJw8vMJgrMeD",
    "outputId": "85cccb69-3586-47e8-c238-12ca253a5039"
   },
   "outputs": [],
   "source": [
    "# From test set deleting columns that are removed in training set\n",
    "X_test_missing = X_test[np.array(X_train_missing.columns)]\n"
   ]
  },
  {
   "cell_type": "code",
   "execution_count": 122,
   "metadata": {
    "colab": {
     "base_uri": "https://localhost:8080/"
    },
    "executionInfo": {
     "elapsed": 414,
     "status": "ok",
     "timestamp": 1655220070117,
     "user": {
      "displayName": "Rashmi dsouza",
      "userId": "15818309019845571813"
     },
     "user_tz": -120
    },
    "id": "J5qIyjlyqTur",
    "outputId": "a06c4a89-c014-4aaa-c7fc-a28460afa2ed"
   },
   "outputs": [],
   "source": [
    "#X_test.isnull().sum().sum()"
   ]
  },
  {
   "cell_type": "code",
   "execution_count": 123,
   "metadata": {
    "colab": {
     "base_uri": "https://localhost:8080/"
    },
    "executionInfo": {
     "elapsed": 3,
     "status": "ok",
     "timestamp": 1655220087114,
     "user": {
      "displayName": "Rashmi dsouza",
      "userId": "15818309019845571813"
     },
     "user_tz": -120
    },
    "id": "cnM_SSTKrdMq",
    "outputId": "993c092e-9fe1-422f-c7d7-e14e1ed246de"
   },
   "outputs": [
    {
     "data": {
      "text/plain": [
       "3662"
      ]
     },
     "execution_count": 123,
     "metadata": {},
     "output_type": "execute_result"
    }
   ],
   "source": [
    "outlier_detection_zcore(X_test_missing)\n",
    "X_test_missing.isnull().sum().sum()"
   ]
  },
  {
   "cell_type": "markdown",
   "metadata": {
    "id": "ARfGfdv7qVOq"
   },
   "source": [
    "from sklearn.impute import KNNImputer\n",
    "knn = KNNImputer()\n",
    "knn.fit(X_train_unique)\n",
    "X_train_knn=pd.DataFrame(knn.transform(X_train_unique), columns=X_train_unique.columns)\n",
    "X_train_knn.isna().sum().sum()"
   ]
  },
  {
   "cell_type": "code",
   "execution_count": 124,
   "metadata": {},
   "outputs": [
    {
     "data": {
      "text/plain": [
       "0"
      ]
     },
     "execution_count": 124,
     "metadata": {},
     "output_type": "execute_result"
    }
   ],
   "source": [
    "from sklearn.impute import KNNImputer\n",
    "knn = KNNImputer()\n",
    "knn.fit(X_train_missing)\n",
    "X_train_knn=pd.DataFrame(knn.transform(X_train_missing), columns=X_train_missing.columns)\n",
    "X_train_knn.isna().sum().sum()"
   ]
  },
  {
   "cell_type": "code",
   "execution_count": 125,
   "metadata": {},
   "outputs": [
    {
     "data": {
      "text/plain": [
       "0"
      ]
     },
     "execution_count": 125,
     "metadata": {},
     "output_type": "execute_result"
    }
   ],
   "source": [
    "from sklearn.impute import KNNImputer\n",
    "knn = KNNImputer()\n",
    "knn.fit(X_test_missing)\n",
    "X_test_knn=pd.DataFrame(knn.transform(X_test_missing), columns=X_test_missing.columns)\n",
    "X_test_knn.isna().sum().sum()"
   ]
  },
  {
   "cell_type": "code",
   "execution_count": 126,
   "metadata": {},
   "outputs": [],
   "source": [
    "import pandas as pd\n",
    "import seaborn as sns\n",
    "import numpy as np\n",
    "import matplotlib.pyplot as plt\n",
    "from sklearn.model_selection import train_test_split\n",
    "from sklearn.neighbors import KNeighborsClassifier\n",
    "import plotly as py\n",
    "import plotly.express as px\n",
    "import missingno as msno\n",
    "from sklearn.impute import KNNImputer\n",
    "from sklearn.preprocessing import StandardScaler\n",
    "from sklearn.ensemble import RandomForestClassifier\n",
    "from sklearn.metrics import confusion_matrix\n",
    "from sklearn.metrics import classification_report\n",
    "from sklearn.metrics import plot_roc_curve\n",
    "from sklearn.metrics import accuracy_score\n",
    "# to avoid warnings\n",
    "import warnings\n",
    "warnings.filterwarnings('ignore')\n",
    "warnings.warn(\"this will not show\")"
   ]
  },
  {
   "cell_type": "code",
   "execution_count": 127,
   "metadata": {},
   "outputs": [],
   "source": [
    "def rfc(X_train_rfc,X_test_rfc,y_train,max_depth):\n",
    "  from matplotlib.pyplot import figure\n",
    "  figure(figsize=(8, 5), dpi=80)\n",
    "  model = RandomForestClassifier(n_estimators=100, criterion='entropy', max_depth=max_depth)\n",
    "  model.fit(X_train_rfc, y_train)\n",
    "  y_pred = model.predict(X_test_rfc)\n",
    "  sns.heatmap(confusion_matrix(y_test, y_pred), annot=True, fmt=\"d\",yticklabels = ['Act. Pass', 'Act. Fail'], xticklabels = ['Pred. Pass' , 'Pred. Fail'])\n",
    "  print(classification_report(y_test, y_pred))\n",
    "  print(\"Test Accuracy Score\", accuracy_score(y_test, y_pred))\n",
    "  print(\"Train Accuracy Score\", accuracy_score(y_train, model.predict(X_train_rfc)))\n",
    "  print(\"F1 Score\",f1_score(y_test, y_pred, average='micro'))\n",
    "  print(\"MC Score\",matthews_corrcoef(y_test, y_pred))\n",
    "#   #create ROC curve\n",
    "#   plt.plot(fpr,tpr,label='Random Forest Classifier (AUC = %0.2f)' % auc)\n",
    "#   plt.ylabel('True Positive Rate')\n",
    "#   plt.xlabel('False Positive Rate')\n",
    "#   plt.plot([0, 1], [0, 1],'r--')\n",
    "#   plt.xlim([-0.01, 1.0])\n",
    "#   plt.ylim([0.0, 1.05])\n",
    "#   plt.title('Receiver Operating Characteristic')\n",
    "#   plt.legend(loc=\"lower right\")"
   ]
  },
  {
   "cell_type": "code",
   "execution_count": 129,
   "metadata": {},
   "outputs": [
    {
     "name": "stdout",
     "output_type": "stream",
     "text": [
      "              precision    recall  f1-score   support\n",
      "\n",
      "          -1       0.93      1.00      0.97       366\n",
      "           1       0.00      0.00      0.00        26\n",
      "\n",
      "    accuracy                           0.93       392\n",
      "   macro avg       0.47      0.50      0.48       392\n",
      "weighted avg       0.87      0.93      0.90       392\n",
      "\n",
      "Test Accuracy Score 0.9336734693877551\n",
      "Train Accuracy Score 0.9336170212765957\n",
      "F1 Score 0.9336734693877551\n",
      "MC Score 0.0\n"
     ]
    },
    {
     "data": {
      "image/png": "[encoded data removed]",
      "text/plain": [
       "<Figure size 640x400 with 2 Axes>"
      ]
     },
     "metadata": {
      "needs_background": "light"
     },
     "output_type": "display_data"
    }
   ],
   "source": [
    "from sklearn.metrics import f1_score, matthews_corrcoef\n",
    "\n",
    "rfc(X_train_knn,X_test_knn,y_train,4)"
   ]
  },
  {
   "cell_type": "code",
   "execution_count": 130,
   "metadata": {},
   "outputs": [],
   "source": [
    "#importing the necessary libraries\n",
    "from mlxtend.feature_selection import SequentialFeatureSelector as SFS\n",
    "from sklearn.linear_model import LinearRegression\n",
    "# Sequential Forward Selection(sfs)\n",
    "sfs = SFS(LinearRegression(),k_features=15,forward=True,verbose=True,scoring='neg_mean_squared_error')"
   ]
  },
  {
   "cell_type": "code",
   "execution_count": 131,
   "metadata": {},
   "outputs": [
    {
     "name": "stderr",
     "output_type": "stream",
     "text": [
      "[Parallel(n_jobs=1)]: Using backend SequentialBackend with 1 concurrent workers.\n",
      "[Parallel(n_jobs=1)]: Done 442 out of 442 | elapsed:    4.9s finished\n",
      "Features: 1/15[Parallel(n_jobs=1)]: Using backend SequentialBackend with 1 concurrent workers.\n",
      "[Parallel(n_jobs=1)]: Done 441 out of 441 | elapsed:    6.1s finished\n",
      "Features: 2/15[Parallel(n_jobs=1)]: Using backend SequentialBackend with 1 concurrent workers.\n",
      "[Parallel(n_jobs=1)]: Done 440 out of 440 | elapsed:    6.2s finished\n",
      "Features: 3/15[Parallel(n_jobs=1)]: Using backend SequentialBackend with 1 concurrent workers.\n",
      "[Parallel(n_jobs=1)]: Done 439 out of 439 | elapsed:    6.5s finished\n",
      "Features: 4/15[Parallel(n_jobs=1)]: Using backend SequentialBackend with 1 concurrent workers.\n",
      "[Parallel(n_jobs=1)]: Done 438 out of 438 | elapsed:    6.7s finished\n",
      "Features: 5/15[Parallel(n_jobs=1)]: Using backend SequentialBackend with 1 concurrent workers.\n",
      "[Parallel(n_jobs=1)]: Done 437 out of 437 | elapsed:    7.3s finished\n",
      "Features: 6/15[Parallel(n_jobs=1)]: Using backend SequentialBackend with 1 concurrent workers.\n",
      "[Parallel(n_jobs=1)]: Done 436 out of 436 | elapsed:    6.3s finished\n",
      "Features: 7/15[Parallel(n_jobs=1)]: Using backend SequentialBackend with 1 concurrent workers.\n",
      "[Parallel(n_jobs=1)]: Done 435 out of 435 | elapsed:    6.5s finished\n",
      "Features: 8/15[Parallel(n_jobs=1)]: Using backend SequentialBackend with 1 concurrent workers.\n",
      "[Parallel(n_jobs=1)]: Done 434 out of 434 | elapsed:    6.7s finished\n",
      "Features: 9/15[Parallel(n_jobs=1)]: Using backend SequentialBackend with 1 concurrent workers.\n",
      "[Parallel(n_jobs=1)]: Done 433 out of 433 | elapsed:    6.8s finished\n",
      "Features: 10/15[Parallel(n_jobs=1)]: Using backend SequentialBackend with 1 concurrent workers.\n",
      "[Parallel(n_jobs=1)]: Done 432 out of 432 | elapsed:    6.9s finished\n",
      "Features: 11/15[Parallel(n_jobs=1)]: Using backend SequentialBackend with 1 concurrent workers.\n",
      "[Parallel(n_jobs=1)]: Done 431 out of 431 | elapsed:    7.3s finished\n",
      "Features: 12/15[Parallel(n_jobs=1)]: Using backend SequentialBackend with 1 concurrent workers.\n",
      "[Parallel(n_jobs=1)]: Done 430 out of 430 | elapsed:    8.0s finished\n",
      "Features: 13/15[Parallel(n_jobs=1)]: Using backend SequentialBackend with 1 concurrent workers.\n",
      "[Parallel(n_jobs=1)]: Done 429 out of 429 | elapsed:    7.2s finished\n",
      "Features: 14/15[Parallel(n_jobs=1)]: Using backend SequentialBackend with 1 concurrent workers.\n",
      "[Parallel(n_jobs=1)]: Done 428 out of 428 | elapsed:    7.6s finished\n",
      "Features: 15/15"
     ]
    },
    {
     "name": "stdout",
     "output_type": "stream",
     "text": [
      "['Feature_26', 'Feature_34', 'Feature_60', 'Feature_66', 'Feature_87', 'Feature_104', 'Feature_114', 'Feature_122', 'Feature_126', 'Feature_178', 'Feature_205', 'Feature_337', 'Feature_456', 'Feature_478', 'Feature_574']\n"
     ]
    }
   ],
   "source": [
    "sfs.fit(X_train_knn, y_train)\n",
    "sfs_list = list(sfs.k_feature_names_)\n",
    "print(sfs_list)"
   ]
  },
  {
   "cell_type": "code",
   "execution_count": 132,
   "metadata": {},
   "outputs": [],
   "source": [
    "# creating a new dataframe using the above variables and adding the target variable\n",
    "X_train_sfs = X_train_knn[sfs_list]"
   ]
  },
  {
   "cell_type": "code",
   "execution_count": 133,
   "metadata": {},
   "outputs": [
    {
     "data": {
      "text/plain": [
       "(392, 15)"
      ]
     },
     "execution_count": 133,
     "metadata": {},
     "output_type": "execute_result"
    }
   ],
   "source": [
    "# From test set deleting columns that are removed in training set\n",
    "X_test_sfs = X_test_knn[np.array(X_train_sfs.columns)]\n",
    "X_test_sfs.shape"
   ]
  },
  {
   "cell_type": "code",
   "execution_count": 134,
   "metadata": {},
   "outputs": [
    {
     "name": "stdout",
     "output_type": "stream",
     "text": [
      "              precision    recall  f1-score   support\n",
      "\n",
      "          -1       0.93      1.00      0.97       366\n",
      "           1       0.00      0.00      0.00        26\n",
      "\n",
      "    accuracy                           0.93       392\n",
      "   macro avg       0.47      0.50      0.48       392\n",
      "weighted avg       0.87      0.93      0.90       392\n",
      "\n",
      "Test Accuracy Score 0.9336734693877551\n",
      "Train Accuracy Score 0.9429787234042554\n",
      "F1 Score 0.9336734693877551\n",
      "MC Score 0.0\n"
     ]
    },
    {
     "data": {
      "image/png": "[encoded data removed]",
      "text/plain": [
       "<Figure size 640x400 with 2 Axes>"
      ]
     },
     "metadata": {
      "needs_background": "light"
     },
     "output_type": "display_data"
    }
   ],
   "source": [
    "rfc(X_train_sfs,X_test_sfs,y_train,6)"
   ]
  },
  {
   "cell_type": "code",
   "execution_count": 135,
   "metadata": {},
   "outputs": [],
   "source": [
    "import numpy as np\n",
    "from imblearn.over_sampling import SMOTE, ADASYN, RandomOverSampler\n",
    "from imblearn.under_sampling import RandomUnderSampler\n",
    "from sklearn.decomposition import PCA"
   ]
  },
  {
   "cell_type": "code",
   "execution_count": 136,
   "metadata": {},
   "outputs": [],
   "source": [
    "from imblearn.combine import SMOTETomek \n",
    "# Sampling technique\n",
    "\n",
    "def Sampling(X_train, y_train, sampler):\n",
    "\n",
    "    #SMOTE\n",
    "    if sampler == 'SMOTE':\n",
    "        sampler = SMOTE(random_state=100)    \n",
    "    \n",
    "\n",
    "    #SMOTTEENN\n",
    "    if sampler == 'SMOTEENN' :\n",
    "        sampler = SMOTEENN(random_state=100)\n",
    "        \n",
    "    # SMOTETOMEK\n",
    "    \n",
    "    if sampler == 'SMOTETOMEK' :\n",
    "        sampler = SMOTETomek(random_state=100)\n",
    "\n",
    "    #ADASYN\n",
    "    if sampler == 'ADASYN':\n",
    "        sampler = ADASYN(random_state=100)\n",
    "        \n",
    "    #ROSE\n",
    "    if sampler == 'ROSE':\n",
    "        sampler = RandomOverSampler(random_state=100, shrinkage=1)\n",
    "        \n",
    "\n",
    "    X_resampled, y_resampled = sampler.fit_resample(X_train, y_train)\n",
    "    counter = Counter(y_resampled)\n",
    "    print(counter)\n",
    "    return X_resampled, y_resampled"
   ]
  },
  {
   "cell_type": "code",
   "execution_count": 137,
   "metadata": {},
   "outputs": [
    {
     "name": "stdout",
     "output_type": "stream",
     "text": [
      "Counter({'Classification': 1})\n"
     ]
    }
   ],
   "source": [
    "# Imbalance treatment\n",
    "from collections import Counter\n",
    "X_smote, y_smote = Sampling(X_train_sfs, y_train,'SMOTE')"
   ]
  },
  {
   "cell_type": "code",
   "execution_count": 138,
   "metadata": {},
   "outputs": [
    {
     "name": "stdout",
     "output_type": "stream",
     "text": [
      "              precision    recall  f1-score   support\n",
      "\n",
      "          -1       0.95      0.88      0.92       366\n",
      "           1       0.17      0.35      0.23        26\n",
      "\n",
      "    accuracy                           0.85       392\n",
      "   macro avg       0.56      0.61      0.57       392\n",
      "weighted avg       0.90      0.85      0.87       392\n",
      "\n",
      "Test Accuracy Score 0.8469387755102041\n",
      "Train Accuracy Score 0.9480401093892434\n",
      "F1 Score 0.8469387755102041\n",
      "MC Score 0.16776082144842425\n"
     ]
    },
    {
     "data": {
      "image/png": "[encoded data removed]",
      "text/plain": [
       "<Figure size 640x400 with 2 Axes>"
      ]
     },
     "metadata": {
      "needs_background": "light"
     },
     "output_type": "display_data"
    }
   ],
   "source": [
    "rfc(X_smote,X_test_sfs,y_smote,6)"
   ]
  },
  {
   "cell_type": "code",
   "execution_count": 139,
   "metadata": {},
   "outputs": [
    {
     "name": "stdout",
     "output_type": "stream",
     "text": [
      "Counter({'Classification': 1})\n"
     ]
    }
   ],
   "source": [
    "# Imbalance treatment\n",
    "from imblearn.combine import SMOTEENN\n",
    "X_smoteenn, y_smoteenn = Sampling(X_train_sfs, y_train,'SMOTEENN')"
   ]
  },
  {
   "cell_type": "code",
   "execution_count": 140,
   "metadata": {},
   "outputs": [
    {
     "name": "stdout",
     "output_type": "stream",
     "text": [
      "              precision    recall  f1-score   support\n",
      "\n",
      "          -1       0.96      0.77      0.86       366\n",
      "           1       0.14      0.54      0.23        26\n",
      "\n",
      "    accuracy                           0.76       392\n",
      "   macro avg       0.55      0.66      0.54       392\n",
      "weighted avg       0.91      0.76      0.81       392\n",
      "\n",
      "Test Accuracy Score 0.7576530612244898\n",
      "Train Accuracy Score 0.9564958283671037\n",
      "F1 Score 0.7576530612244898\n",
      "MC Score 0.1797409591521339\n"
     ]
    },
    {
     "data": {
      "image/png": "[encoded data removed]",
      "text/plain": [
       "<Figure size 640x400 with 2 Axes>"
      ]
     },
     "metadata": {
      "needs_background": "light"
     },
     "output_type": "display_data"
    }
   ],
   "source": [
    "rfc(X_smoteenn,X_test_sfs,y_smoteenn,6)"
   ]
  },
  {
   "cell_type": "code",
   "execution_count": 141,
   "metadata": {},
   "outputs": [
    {
     "name": "stdout",
     "output_type": "stream",
     "text": [
      "Counter({'Classification': 1})\n"
     ]
    }
   ],
   "source": [
    "# Imbalance treatment\n",
    "X_smotetomek, y_smotetomek = Sampling(X_train_sfs, y_train,'SMOTETOMEK')"
   ]
  },
  {
   "cell_type": "code",
   "execution_count": 142,
   "metadata": {},
   "outputs": [
    {
     "name": "stdout",
     "output_type": "stream",
     "text": [
      "              precision    recall  f1-score   support\n",
      "\n",
      "          -1       0.94      0.88      0.91       366\n",
      "           1       0.12      0.23      0.16        26\n",
      "\n",
      "    accuracy                           0.83       392\n",
      "   macro avg       0.53      0.55      0.53       392\n",
      "weighted avg       0.89      0.83      0.86       392\n",
      "\n",
      "Test Accuracy Score 0.8341836734693877\n",
      "Train Accuracy Score 0.95\n",
      "F1 Score 0.8341836734693878\n",
      "MC Score 0.07975499029964678\n"
     ]
    },
    {
     "data": {
      "image/png": "[encoded data removed]",
      "text/plain": [
       "<Figure size 640x400 with 2 Axes>"
      ]
     },
     "metadata": {
      "needs_background": "light"
     },
     "output_type": "display_data"
    }
   ],
   "source": [
    "rfc(X_smotetomek,X_test_sfs,y_smotetomek,6)"
   ]
  },
  {
   "cell_type": "code",
   "execution_count": 143,
   "metadata": {},
   "outputs": [
    {
     "name": "stdout",
     "output_type": "stream",
     "text": [
      "Counter({'Classification': 1})\n"
     ]
    }
   ],
   "source": [
    "# Imbalance treatment\n",
    "X_adasyn, y_adasyn = Sampling(X_train_sfs, y_train,'ADASYN')"
   ]
  },
  {
   "cell_type": "code",
   "execution_count": 144,
   "metadata": {},
   "outputs": [
    {
     "name": "stdout",
     "output_type": "stream",
     "text": [
      "              precision    recall  f1-score   support\n",
      "\n",
      "          -1       0.95      0.87      0.91       366\n",
      "           1       0.16      0.35      0.21        26\n",
      "\n",
      "    accuracy                           0.83       392\n",
      "   macro avg       0.55      0.61      0.56       392\n",
      "weighted avg       0.90      0.83      0.86       392\n",
      "\n",
      "Test Accuracy Score 0.8316326530612245\n",
      "Train Accuracy Score 0.9468822170900693\n",
      "F1 Score 0.8316326530612244\n",
      "MC Score 0.14877738553304085\n"
     ]
    },
    {
     "data": {
      "image/png": "[encoded data removed]",
      "text/plain": [
       "<Figure size 640x400 with 2 Axes>"
      ]
     },
     "metadata": {
      "needs_background": "light"
     },
     "output_type": "display_data"
    }
   ],
   "source": [
    "rfc(X_adasyn,X_test_sfs,y_adasyn,6)"
   ]
  },
  {
   "cell_type": "code",
   "execution_count": 145,
   "metadata": {},
   "outputs": [
    {
     "name": "stdout",
     "output_type": "stream",
     "text": [
      "Counter({'Classification': 1})\n"
     ]
    }
   ],
   "source": [
    "# Imbalance treatment\n",
    "X_rose, y_rose = Sampling(X_train_sfs, y_train,'ROSE')"
   ]
  },
  {
   "cell_type": "code",
   "execution_count": 146,
   "metadata": {},
   "outputs": [
    {
     "name": "stdout",
     "output_type": "stream",
     "text": [
      "              precision    recall  f1-score   support\n",
      "\n",
      "          -1       0.95      0.86      0.90       366\n",
      "           1       0.15      0.35      0.21        26\n",
      "\n",
      "    accuracy                           0.83       392\n",
      "   macro avg       0.55      0.60      0.56       392\n",
      "weighted avg       0.90      0.83      0.86       392\n",
      "\n",
      "Test Accuracy Score 0.8290816326530612\n",
      "Train Accuracy Score 0.8855970829535096\n",
      "F1 Score 0.8290816326530612\n",
      "MC Score 0.1458309868530234\n"
     ]
    },
    {
     "data": {
      "image/png": "[encoded data removed]",
      "text/plain": [
       "<Figure size 640x400 with 2 Axes>"
      ]
     },
     "metadata": {
      "needs_background": "light"
     },
     "output_type": "display_data"
    }
   ],
   "source": [
    "rfc(X_rose,X_test_sfs,y_rose,6)"
   ]
  },
  {
   "cell_type": "code",
   "execution_count": 147,
   "metadata": {},
   "outputs": [
    {
     "data": {
      "text/plain": [
       "<AxesSubplot:>"
      ]
     },
     "execution_count": 147,
     "metadata": {},
     "output_type": "execute_result"
    },
    {
     "data": {
      "image/png": "[encoded data removed]",
      "text/plain": [
       "<Figure size 504x504 with 1 Axes>"
      ]
     },
     "metadata": {
      "needs_background": "light"
     },
     "output_type": "display_data"
    }
   ],
   "source": [
    "model = RandomForestClassifier()\n",
    "model.fit(X_train_sfs, y_train.values.ravel())\n",
    "    \n",
    "feature_selector = RandomForestClassifier(n_jobs=-1, class_weight='balanced_subsample', max_depth=5, random_state=100)\n",
    "    \n",
    "importances = model.feature_importances_\n",
    "final_df = pd.DataFrame({\"Features\": pd.DataFrame(X_train_sfs).columns, \"Importances\": importances})\n",
    "final_df.set_index('Importances')\n",
    "final_df = final_df.sort_values('Importances')\n",
    "final_df.plot.bar(color = 'teal',figsize=(7,7))"
   ]
  },
  {
   "cell_type": "code",
   "execution_count": 148,
   "metadata": {},
   "outputs": [
    {
     "data": {
      "text/plain": [
       "Text(0.5, 0, 'Random Forest Feature Importance')"
      ]
     },
     "execution_count": 148,
     "metadata": {},
     "output_type": "execute_result"
    },
    {
     "data": {
      "image/png": "[encoded data removed]",
      "text/plain": [
       "<Figure size 432x288 with 1 Axes>"
      ]
     },
     "metadata": {
      "needs_background": "light"
     },
     "output_type": "display_data"
    }
   ],
   "source": [
    "model = RandomForestClassifier()\n",
    "model.fit(X_train_sfs, y_train.values.ravel())\n",
    "feature_selector = RandomForestClassifier(n_jobs=-1, class_weight='balanced_subsample', max_depth=5, random_state=100)\n",
    "#figure(figsize=(6, 6), dpi=80)\n",
    "sorted_idx = model.feature_importances_.argsort()\n",
    "plt.barh(X_train_sfs.columns[sorted_idx], model.feature_importances_[sorted_idx])\n",
    "plt.xlabel(\"Random Forest Feature Importance\")"
   ]
  },
  {
   "cell_type": "code",
   "execution_count": null,
   "metadata": {},
   "outputs": [],
   "source": []
  },
  {
   "cell_type": "code",
   "execution_count": null,
   "metadata": {},
   "outputs": [],
   "source": []
  }
 ],
 "metadata": {
  "colab": {
   "collapsed_sections": [],
   "name": "Base file - removing outliers and replacing with knn.ipynb",
   "provenance": []
  },
  "kernelspec": {
   "display_name": "Python 3 (ipykernel)",
   "language": "python",
   "name": "python3"
  },
  "language_info": {
   "codemirror_mode": {
    "name": "ipython",
    "version": 3
   },
   "file_extension": ".py",
   "mimetype": "text/x-python",
   "name": "python",
   "nbconvert_exporter": "python",
   "pygments_lexer": "ipython3",
   "version": "3.9.7"
  }
 },
 "nbformat": 4,
 "nbformat_minor": 1
}
