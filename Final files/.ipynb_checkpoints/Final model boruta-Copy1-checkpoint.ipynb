{
 "cells": [
  {
   "cell_type": "markdown",
   "metadata": {
    "id": "s8CoiNMU1IQ8"
   },
   "source": [
    "# Importing packages"
   ]
  },
  {
   "cell_type": "code",
   "execution_count": 1,
   "metadata": {
    "id": "VNPgCs7b1Jso"
   },
   "outputs": [],
   "source": [
    "# Importing, cleaning and visualization\n",
    "import pandas as pd\n",
    "import seaborn as sns\n",
    "import numpy as np\n",
    "import matplotlib.pyplot as plt\n",
    "from matplotlib.pyplot import figure\n",
    "# Model Validation\n",
    "from sklearn.model_selection import train_test_split,StratifiedKFold\n",
    "# Imputation\n",
    "from sklearn.impute import KNNImputer\n",
    "# Model Evaluation\n",
    "from sklearn.metrics import confusion_matrix,plot_roc_curve,accuracy_score,recall_score, precision_score,plot_confusion_matrix,f1_score\n",
    "from sklearn.model_selection import cross_val_score\n",
    "# Modelling\n",
    "from sklearn.ensemble import RandomForestClassifier\n",
    "# Balancing\n",
    "from imblearn.over_sampling import SMOTE, ADASYN, RandomOverSampler\n",
    "# Scaling data\n",
    "from sklearn.preprocessing import StandardScaler\n",
    "# Model tuning\n",
    "from sklearn.model_selection import GridSearchCV\n",
    "from sklearn.pipeline import Pipeline\n",
    "# Feature selection\n",
    "from boruta import BorutaPy\n",
    "# To avoid warnings\n",
    "import warnings\n",
    "warnings.filterwarnings('ignore')\n",
    "warnings.warn(\"this will not show\")"
   ]
  },
  {
   "cell_type": "code",
   "execution_count": 2,
   "metadata": {},
   "outputs": [
    {
     "name": "stdout",
     "output_type": "stream",
     "text": [
      "Requirement already satisfied: boruta in c:\\users\\public\\anaconda3\\lib\\site-packages (0.3)\n",
      "Requirement already satisfied: numpy>=1.10.4 in c:\\users\\public\\anaconda3\\lib\\site-packages (from boruta) (1.20.3)\n",
      "Requirement already satisfied: scikit-learn>=0.17.1 in c:\\users\\public\\anaconda3\\lib\\site-packages (from boruta) (1.1.1)\n",
      "Requirement already satisfied: scipy>=0.17.0 in c:\\users\\public\\anaconda3\\lib\\site-packages (from boruta) (1.7.1)\n",
      "Requirement already satisfied: threadpoolctl>=2.0.0 in c:\\users\\public\\anaconda3\\lib\\site-packages (from scikit-learn>=0.17.1->boruta) (2.2.0)\n",
      "Requirement already satisfied: joblib>=1.0.0 in c:\\users\\public\\anaconda3\\lib\\site-packages (from scikit-learn>=0.17.1->boruta) (1.1.0)\n",
      "Note: you may need to restart the kernel to use updated packages.\n"
     ]
    }
   ],
   "source": [
    "pip install boruta"
   ]
  },
  {
   "cell_type": "markdown",
   "metadata": {
    "id": "za0s4Egl1QU5"
   },
   "source": [
    "# Functions"
   ]
  },
  {
   "cell_type": "code",
   "execution_count": 3,
   "metadata": {
    "id": "RlMVRmdS1R0l"
   },
   "outputs": [],
   "source": [
    "# Function to remove missing values above a given threshold\n",
    "def missing_remove(dataframe, threshold):\n",
    "    \"\"\"\n",
    "    Function to remove columns with missing data that exceed the set percentage threshold limit\n",
    "    \n",
    "    Required arguments - \n",
    "    dataframe - Dataframe for processing (type-Pandas Dataframe)\n",
    "    threshold - threshold above which columns will be removed (type-float)\n",
    "    \n",
    "    Optional arguments - None\n",
    "    \n",
    "    Expected output - Message with threshold value and number of columns removed\n",
    "                      Pandas Dataframe that does not contain columns with more missing values than the threshold value\n",
    "    \n",
    "    \"\"\"\n",
    "    columns = dataframe.columns[(dataframe.isna().sum()/dataframe.shape[1])>threshold].tolist()\n",
    "    print(f\"# Features deleted with more than {threshold} % missing values\", len(columns))\n",
    "    return dataframe.drop(columns, axis=1,inplace=True)"
   ]
  },
  {
   "cell_type": "code",
   "execution_count": 4,
   "metadata": {
    "id": "j_OUWkYC1WQD"
   },
   "outputs": [],
   "source": [
    "def replace_outlier(val, mean, std):\n",
    "    \"\"\"\n",
    "    Function to check if a number is greater than (mean +/- 3*standard deviation) \n",
    "    and replace that number with (mean +/- 3*standard deviation)\n",
    "    \n",
    "    Required arguments - \n",
    "    val - any value - float\n",
    "    mean - mean of values -float\n",
    "    std - standard deviation of values - float\n",
    "        \n",
    "    Optional arguments - None\n",
    "    \n",
    "    Expected output - If value is lower than mean+3*standard deviation and higher than mean-3*standard deviation\n",
    "                      then return value \n",
    "                      If value is higher than mean+3*standard deviation and lower than mean-3*standard deviation \n",
    "                      then return mean+/-3*standard deviation    \n",
    "    \"\"\"\n",
    "    if val > mean + 3*std:\n",
    "        return mean + 3*std \n",
    "    elif val < mean - 3*std:\n",
    "        return mean - 3*std\n",
    "    return val"
   ]
  },
  {
   "cell_type": "code",
   "execution_count": 5,
   "metadata": {
    "id": "ICLy3MkK4OTH"
   },
   "outputs": [],
   "source": [
    "def evaluate(model, X_train,X_test,y_train,y_test):\n",
    "    \"\"\"\n",
    "    Function to scale data, fit any model to the training dataset and evaluate that model with test dataset using confusion matrix, \n",
    "    AUC, F1 Score, Sensitivity, Recall and Precision\n",
    "    \n",
    "    Required arguments - \n",
    "    model - Name of the model including model parameters\n",
    "    X_train - training dataset without the target variable\n",
    "    X_test - test dataset without the target variable\n",
    "    y_train - training dataset of the target variable\n",
    "    y_test - validatation data\n",
    "    \n",
    "    Optional arguments - None\n",
    "    \n",
    "    Expected output - Output message - model name and parameters, Testing Accuracy, F1 score, Sensitivity, Recall, Precision\n",
    "                      Plot of Confusion Matrix and AUC\n",
    "    \n",
    "    \"\"\"\n",
    "    #Fitting the model\n",
    "    model.fit(X_train, y_train)\n",
    "    \n",
    "    # Scaling the data\n",
    "    scaler = StandardScaler()\n",
    "    scaler.fit(X_train)\n",
    "    X_train_std = pd.DataFrame(scaler.transform(X_train), columns=X_train.columns)\n",
    "    X_test_std = pd.DataFrame(scaler.transform(X_test), columns=X_test.columns)\n",
    "    \n",
    "    #Predicting target variable for test data\n",
    "    y_pred = model.predict(X_test)\n",
    "    \n",
    "    # Model metrics for evaluation\n",
    "    figure(figsize=(8, 5), dpi=80)\n",
    "    cm=confusion_matrix(y_test, y_pred)\n",
    "    sns.heatmap(cm, annot=True, fmt=\"d\",cmap=\"YlOrRd\",yticklabels = ['Act. Pass', 'Act. Fail'], xticklabels = ['Pred. Pass' , 'Pred. Fail'])\n",
    "    ax = plt.gca()\n",
    "    plot = plot_roc_curve(model, X_test, y_test, ax=ax, alpha=0.8)\n",
    "    print(\"Model Name:\", model)\n",
    "    f1score = f1_score(y_test, y_pred, average='micro')\n",
    "    sensitivity = cm[0,0]/(cm[0,0]+cm[1,0])\n",
    "    recall = recall_score(y_test,y_pred)\n",
    "    precision = precision_score(y_test,y_pred)\n",
    "    print(\"F1 Score:\", f1score) \n",
    "    print(\"Sensitivity:\" , sensitivity)\n",
    "    print(\"Recall:\" , recall)\n",
    "    print(\"Precision:\" , precision)"
   ]
  },
  {
   "cell_type": "code",
   "execution_count": 6,
   "metadata": {
    "id": "6c2XYU0bnD9D"
   },
   "outputs": [],
   "source": [
    "def BorutaFeatureSelection (X_train, y_train) :\n",
    "    \"\"\"\n",
    "    Function to find the best features using Boruta along with the feature scores. Only features with Rank 1 will \n",
    "    be selected and tentative features will be ignored.\n",
    "    \n",
    "    Required arguments - \n",
    "    X_train - training dataset without the target variable\n",
    "    y_train - training dataset of the target variable\n",
    "    \n",
    "    Optional arguments - None\n",
    "    \n",
    "    Expected output - Output message - Feature ranking and whether that feature will be kept or removed\n",
    "                                     - Final features\n",
    "                      Pandas Dataframe that contains only final features selected using Boruta\n",
    "    \"\"\"\n",
    "    feature_names = np.array(X_train.columns)\n",
    "\n",
    "    model =RandomForestClassifier(n_estimators=200, n_jobs=-1, max_depth=6,class_weight='balanced_subsample')\n",
    "    model.fit(X_train, y_train)\n",
    "    \n",
    "    feature_selector = BorutaPy(model, random_state=2, verbose=2,max_iter=455,n_estimators=200)\n",
    "\n",
    "    feature_selector.fit(X_train.to_numpy(),y_train)\n",
    "\n",
    "    feature_selector.support_\n",
    "\n",
    "    feature_selector.ranking_\n",
    "\n",
    "    feature_ranks = list(zip(feature_names, \n",
    "                             feature_selector.ranking_, \n",
    "                             feature_selector.support_))\n",
    "\n",
    "    for feat in feature_ranks:\n",
    "        print('Feature: {:<30} Rank: {},  Keep: {}'.format(feat[0], feat[1], feat[2]))\n",
    "        \n",
    "    final_features = list()\n",
    "    indexes = np.where(feature_selector.ranking_ <= 1)\n",
    "    for x in np.nditer(indexes):\n",
    "        final_features.append(feature_names[x])\n",
    "    print(final_features)\n",
    "    return pd.DataFrame(X_train.filter(final_features)) , final_features"
   ]
  },
  {
   "cell_type": "code",
   "execution_count": 7,
   "metadata": {
    "id": "VQdL9-YfZKNc"
   },
   "outputs": [],
   "source": [
    "def Sampling(X_train, y_train, sampler):\n",
    "    \"\"\"\n",
    "    Function to apply any balancing method to a dataframe\n",
    "    \n",
    "    Required arguments - \n",
    "    X_train - training dataset without the target variable (pandas dataframe)\n",
    "    y_train - training dataset of the target variable (pandas dataframe)\n",
    "    sampler - Name of balancing method (string)\n",
    "    \n",
    "    Optional arguments - None\n",
    "    \n",
    "    Expected output - Pandas Dataframe with balanced data\n",
    "\n",
    "    \"\"\"\n",
    "    #SMOTE\n",
    "    if sampler == 'SMOTE':\n",
    "        sampler = SMOTE(random_state=100)    \n",
    "    \n",
    "    #ADASYN\n",
    "    if sampler == 'ADASYN':\n",
    "        sampler = ADASYN(random_state=100)\n",
    "        \n",
    "    #ROSE\n",
    "    if sampler == 'ROSE':\n",
    "        sampler = RandomOverSampler(random_state=100, shrinkage=1)\n",
    "        \n",
    "    #SMOTE\n",
    "    if sampler == 'SMOTE':\n",
    "        sampler = SMOTE(random_state=100)    \n",
    "    \n",
    "\n",
    "    #SMOTTEENN\n",
    "    if sampler == 'SMOTEENN' :\n",
    "        sampler = SMOTEENN(random_state=100)\n",
    "    \n",
    "     # SMOTETOMEK\n",
    "    \n",
    "    if sampler == 'SMOTETOMEK' :\n",
    "        sampler = SMOTETomek(random_state=100)\n",
    "        \n",
    "    X_resampled, y_resampled = sampler.fit_resample(X_train, y_train)\n",
    "    return X_resampled, y_resampled"
   ]
  },
  {
   "cell_type": "markdown",
   "metadata": {
    "id": "QYimj7lt1efy"
   },
   "source": [
    "# Importing and basic cleaning"
   ]
  },
  {
   "cell_type": "code",
   "execution_count": 8,
   "metadata": {
    "id": "LbJIxqWC1hBn"
   },
   "outputs": [],
   "source": [
    "# Importing data from internet in runtime\n",
    "data_url=\"https://archive.ics.uci.edu/ml/machine-learning-databases/secom/secom.data\""
   ]
  },
  {
   "cell_type": "code",
   "execution_count": 9,
   "metadata": {
    "id": "vLONGBRz1iz7"
   },
   "outputs": [],
   "source": [
    "# Assigning data to a Pandas Dataframe\n",
    "secom_data = pd.read_csv(data_url,sep=' ',header=None)"
   ]
  },
  {
   "cell_type": "code",
   "execution_count": 10,
   "metadata": {
    "colab": {
     "base_uri": "https://localhost:8080/",
     "height": 299
    },
    "id": "mJ-CpITl1lJG",
    "outputId": "abfc9438-fba3-4088-9917-a83a2ef036fb"
   },
   "outputs": [
    {
     "data": {
      "text/html": [
       "<div>\n",
       "<style scoped>\n",
       "    .dataframe tbody tr th:only-of-type {\n",
       "        vertical-align: middle;\n",
       "    }\n",
       "\n",
       "    .dataframe tbody tr th {\n",
       "        vertical-align: top;\n",
       "    }\n",
       "\n",
       "    .dataframe thead th {\n",
       "        text-align: right;\n",
       "    }\n",
       "</style>\n",
       "<table border=\"1\" class=\"dataframe\">\n",
       "  <thead>\n",
       "    <tr style=\"text-align: right;\">\n",
       "      <th></th>\n",
       "      <th>Feature_1</th>\n",
       "      <th>Feature_2</th>\n",
       "      <th>Feature_3</th>\n",
       "      <th>Feature_4</th>\n",
       "      <th>Feature_5</th>\n",
       "      <th>Feature_6</th>\n",
       "      <th>Feature_7</th>\n",
       "      <th>Feature_8</th>\n",
       "      <th>Feature_9</th>\n",
       "      <th>Feature_10</th>\n",
       "      <th>...</th>\n",
       "      <th>Feature_581</th>\n",
       "      <th>Feature_582</th>\n",
       "      <th>Feature_583</th>\n",
       "      <th>Feature_584</th>\n",
       "      <th>Feature_585</th>\n",
       "      <th>Feature_586</th>\n",
       "      <th>Feature_587</th>\n",
       "      <th>Feature_588</th>\n",
       "      <th>Feature_589</th>\n",
       "      <th>Feature_590</th>\n",
       "    </tr>\n",
       "  </thead>\n",
       "  <tbody>\n",
       "    <tr>\n",
       "      <th>0</th>\n",
       "      <td>3030.93</td>\n",
       "      <td>2564.00</td>\n",
       "      <td>2187.7333</td>\n",
       "      <td>1411.1265</td>\n",
       "      <td>1.3602</td>\n",
       "      <td>100.0</td>\n",
       "      <td>97.6133</td>\n",
       "      <td>0.1242</td>\n",
       "      <td>1.5005</td>\n",
       "      <td>0.0162</td>\n",
       "      <td>...</td>\n",
       "      <td>NaN</td>\n",
       "      <td>NaN</td>\n",
       "      <td>0.5005</td>\n",
       "      <td>0.0118</td>\n",
       "      <td>0.0035</td>\n",
       "      <td>2.3630</td>\n",
       "      <td>NaN</td>\n",
       "      <td>NaN</td>\n",
       "      <td>NaN</td>\n",
       "      <td>NaN</td>\n",
       "    </tr>\n",
       "    <tr>\n",
       "      <th>1</th>\n",
       "      <td>3095.78</td>\n",
       "      <td>2465.14</td>\n",
       "      <td>2230.4222</td>\n",
       "      <td>1463.6606</td>\n",
       "      <td>0.8294</td>\n",
       "      <td>100.0</td>\n",
       "      <td>102.3433</td>\n",
       "      <td>0.1247</td>\n",
       "      <td>1.4966</td>\n",
       "      <td>-0.0005</td>\n",
       "      <td>...</td>\n",
       "      <td>0.0060</td>\n",
       "      <td>208.2045</td>\n",
       "      <td>0.5019</td>\n",
       "      <td>0.0223</td>\n",
       "      <td>0.0055</td>\n",
       "      <td>4.4447</td>\n",
       "      <td>0.0096</td>\n",
       "      <td>0.0201</td>\n",
       "      <td>0.0060</td>\n",
       "      <td>208.2045</td>\n",
       "    </tr>\n",
       "    <tr>\n",
       "      <th>2</th>\n",
       "      <td>2932.61</td>\n",
       "      <td>2559.94</td>\n",
       "      <td>2186.4111</td>\n",
       "      <td>1698.0172</td>\n",
       "      <td>1.5102</td>\n",
       "      <td>100.0</td>\n",
       "      <td>95.4878</td>\n",
       "      <td>0.1241</td>\n",
       "      <td>1.4436</td>\n",
       "      <td>0.0041</td>\n",
       "      <td>...</td>\n",
       "      <td>0.0148</td>\n",
       "      <td>82.8602</td>\n",
       "      <td>0.4958</td>\n",
       "      <td>0.0157</td>\n",
       "      <td>0.0039</td>\n",
       "      <td>3.1745</td>\n",
       "      <td>0.0584</td>\n",
       "      <td>0.0484</td>\n",
       "      <td>0.0148</td>\n",
       "      <td>82.8602</td>\n",
       "    </tr>\n",
       "    <tr>\n",
       "      <th>3</th>\n",
       "      <td>2988.72</td>\n",
       "      <td>2479.90</td>\n",
       "      <td>2199.0333</td>\n",
       "      <td>909.7926</td>\n",
       "      <td>1.3204</td>\n",
       "      <td>100.0</td>\n",
       "      <td>104.2367</td>\n",
       "      <td>0.1217</td>\n",
       "      <td>1.4882</td>\n",
       "      <td>-0.0124</td>\n",
       "      <td>...</td>\n",
       "      <td>0.0044</td>\n",
       "      <td>73.8432</td>\n",
       "      <td>0.4990</td>\n",
       "      <td>0.0103</td>\n",
       "      <td>0.0025</td>\n",
       "      <td>2.0544</td>\n",
       "      <td>0.0202</td>\n",
       "      <td>0.0149</td>\n",
       "      <td>0.0044</td>\n",
       "      <td>73.8432</td>\n",
       "    </tr>\n",
       "    <tr>\n",
       "      <th>4</th>\n",
       "      <td>3032.24</td>\n",
       "      <td>2502.87</td>\n",
       "      <td>2233.3667</td>\n",
       "      <td>1326.5200</td>\n",
       "      <td>1.5334</td>\n",
       "      <td>100.0</td>\n",
       "      <td>100.3967</td>\n",
       "      <td>0.1235</td>\n",
       "      <td>1.5031</td>\n",
       "      <td>-0.0031</td>\n",
       "      <td>...</td>\n",
       "      <td>NaN</td>\n",
       "      <td>NaN</td>\n",
       "      <td>0.4800</td>\n",
       "      <td>0.4766</td>\n",
       "      <td>0.1045</td>\n",
       "      <td>99.3032</td>\n",
       "      <td>0.0202</td>\n",
       "      <td>0.0149</td>\n",
       "      <td>0.0044</td>\n",
       "      <td>73.8432</td>\n",
       "    </tr>\n",
       "  </tbody>\n",
       "</table>\n",
       "<p>5 rows × 590 columns</p>\n",
       "</div>"
      ],
      "text/plain": [
       "   Feature_1  Feature_2  Feature_3  Feature_4  Feature_5  Feature_6  \\\n",
       "0    3030.93    2564.00  2187.7333  1411.1265     1.3602      100.0   \n",
       "1    3095.78    2465.14  2230.4222  1463.6606     0.8294      100.0   \n",
       "2    2932.61    2559.94  2186.4111  1698.0172     1.5102      100.0   \n",
       "3    2988.72    2479.90  2199.0333   909.7926     1.3204      100.0   \n",
       "4    3032.24    2502.87  2233.3667  1326.5200     1.5334      100.0   \n",
       "\n",
       "   Feature_7  Feature_8  Feature_9  Feature_10  ...  Feature_581  Feature_582  \\\n",
       "0    97.6133     0.1242     1.5005      0.0162  ...          NaN          NaN   \n",
       "1   102.3433     0.1247     1.4966     -0.0005  ...       0.0060     208.2045   \n",
       "2    95.4878     0.1241     1.4436      0.0041  ...       0.0148      82.8602   \n",
       "3   104.2367     0.1217     1.4882     -0.0124  ...       0.0044      73.8432   \n",
       "4   100.3967     0.1235     1.5031     -0.0031  ...          NaN          NaN   \n",
       "\n",
       "   Feature_583  Feature_584  Feature_585  Feature_586  Feature_587  \\\n",
       "0       0.5005       0.0118       0.0035       2.3630          NaN   \n",
       "1       0.5019       0.0223       0.0055       4.4447       0.0096   \n",
       "2       0.4958       0.0157       0.0039       3.1745       0.0584   \n",
       "3       0.4990       0.0103       0.0025       2.0544       0.0202   \n",
       "4       0.4800       0.4766       0.1045      99.3032       0.0202   \n",
       "\n",
       "   Feature_588  Feature_589  Feature_590  \n",
       "0          NaN          NaN          NaN  \n",
       "1       0.0201       0.0060     208.2045  \n",
       "2       0.0484       0.0148      82.8602  \n",
       "3       0.0149       0.0044      73.8432  \n",
       "4       0.0149       0.0044      73.8432  \n",
       "\n",
       "[5 rows x 590 columns]"
      ]
     },
     "execution_count": 10,
     "metadata": {},
     "output_type": "execute_result"
    }
   ],
   "source": [
    "# Renaming the column's headers \n",
    "secom_data.columns = [\"Feature_\"+str(column+1) for column in range(len(secom_data.columns))]\n",
    "secom_data.head()"
   ]
  },
  {
   "cell_type": "code",
   "execution_count": 11,
   "metadata": {
    "id": "1m82GHOT1msU"
   },
   "outputs": [],
   "source": [
    "# Importing target data from internet in runtime\n",
    "label_url=\"https://archive.ics.uci.edu/ml/machine-learning-databases/secom/secom_labels.data\""
   ]
  },
  {
   "cell_type": "code",
   "execution_count": 12,
   "metadata": {
    "id": "MXNuzPJe1sNk"
   },
   "outputs": [],
   "source": [
    "# Assigning target data to a pandas dataframe\n",
    "secom_labels = pd.read_csv(label_url, sep = \" \",header=None)"
   ]
  },
  {
   "cell_type": "code",
   "execution_count": 13,
   "metadata": {
    "id": "RqtL5guL1tz7"
   },
   "outputs": [],
   "source": [
    "# Renaming the column's headers \n",
    "secom_labels.columns = [\"Classification\",\"Timestamp\"]"
   ]
  },
  {
   "cell_type": "code",
   "execution_count": 14,
   "metadata": {
    "id": "84Dl-Fay1vz3"
   },
   "outputs": [],
   "source": [
    "# Changing datatype for consistency\n",
    "secom_labels['Timestamp'] = pd.to_datetime(secom_labels['Timestamp'],errors='raise')"
   ]
  },
  {
   "cell_type": "code",
   "execution_count": 15,
   "metadata": {
    "id": "qSmgspyk1xcL"
   },
   "outputs": [],
   "source": [
    "# Merging data\n",
    "data= pd.concat([secom_labels,secom_data],axis=1)"
   ]
  },
  {
   "cell_type": "code",
   "execution_count": 16,
   "metadata": {
    "id": "foQ0Zplo1yxq"
   },
   "outputs": [],
   "source": [
    "# Dropping the Timestamp column as it provides no insight\n",
    "data.drop(columns=\"Timestamp\", errors='raise',inplace=True)"
   ]
  },
  {
   "cell_type": "code",
   "execution_count": 17,
   "metadata": {
    "id": "wSd7j_0210WF"
   },
   "outputs": [],
   "source": [
    "# Using the Classification column as the target variable\n",
    "target = data[['Classification']]\n",
    "data.drop(['Classification'], axis=1,inplace=True)"
   ]
  },
  {
   "cell_type": "markdown",
   "metadata": {
    "id": "gcnUqd02122m"
   },
   "source": [
    "# Splitting dataset into training and test dataset\n",
    "\n",
    "#### We split the data into training and test datasets with a ratio of 80:20. Since the dataset is not large enough, we use 80% of the data for training the model. We will train the model using the training dataset and evaluate the model using the test dataset\n",
    "\n",
    "#### Because the data is imbalanced between pass and fail, we use the \"stratify\" parameter to ensure the same ratio of pass and fail is retained when splitting the dataset. The \"random_state\" parameter also helps to create reproducible data."
   ]
  },
  {
   "cell_type": "code",
   "execution_count": 18,
   "metadata": {
    "id": "UfkKHvKQ14hm"
   },
   "outputs": [],
   "source": [
    "X_train, X_test, y_train, y_test = train_test_split(data,target, test_size=0.20, random_state=42, stratify=target)"
   ]
  },
  {
   "cell_type": "markdown",
   "metadata": {
    "id": "Ktw4-If-2JVo"
   },
   "source": [
    "# Removing columns with more than 50% of missing values"
   ]
  },
  {
   "cell_type": "code",
   "execution_count": 19,
   "metadata": {
    "colab": {
     "base_uri": "https://localhost:8080/"
    },
    "id": "K3sSkLKz2MQv",
    "outputId": "8a6cef88-7ace-43d7-f84d-af30c1eb14d4"
   },
   "outputs": [
    {
     "name": "stdout",
     "output_type": "stream",
     "text": [
      "# Features deleted with more than 0.5 % missing values 32\n"
     ]
    },
    {
     "data": {
      "text/plain": [
       "(1253, 558)"
      ]
     },
     "execution_count": 19,
     "metadata": {},
     "output_type": "execute_result"
    }
   ],
   "source": [
    "X_train_missing = X_train\n",
    "missing_remove(X_train_missing, 0.5)\n",
    "X_train_missing.shape"
   ]
  },
  {
   "cell_type": "code",
   "execution_count": 20,
   "metadata": {},
   "outputs": [
    {
     "data": {
      "text/plain": [
       "(314, 558)"
      ]
     },
     "execution_count": 20,
     "metadata": {},
     "output_type": "execute_result"
    }
   ],
   "source": [
    "# Deleting the same columns that are removed in training set from the test set\n",
    "X_test_missing = X_test[np.array(X_train_missing.columns)]\n",
    "X_test_missing.shape"
   ]
  },
  {
   "cell_type": "markdown",
   "metadata": {
    "id": "BGCsY1go4BPk"
   },
   "source": [
    "# Replacing outliers with 3s boundary"
   ]
  },
  {
   "cell_type": "code",
   "execution_count": 21,
   "metadata": {
    "id": "dR6rW4Sa1jux"
   },
   "outputs": [],
   "source": [
    "#Replacing the outliers with 3s boundaries in X_train \n",
    "for col in X_train_missing.columns:\n",
    "    mean = X_train_missing[col].mean()\n",
    "    std_dev = X_train_missing[col].std(axis=0)\n",
    "    X_train_missing[col] = X_train_missing[col].map(lambda x: replace_outlier(x, mean, std_dev))"
   ]
  },
  {
   "cell_type": "code",
   "execution_count": 22,
   "metadata": {
    "id": "FSHmjvRz1lkY"
   },
   "outputs": [],
   "source": [
    "#Replacing the outliers with 3s boundaries in X_test\n",
    "for col in X_test_missing.columns:\n",
    "    mean = X_test_missing[col].mean()\n",
    "    std_dev = X_test_missing[col].std(axis=0)\n",
    "    X_test_missing[col] = X_test_missing[col].map(lambda x: replace_outlier(x, mean, std_dev))"
   ]
  },
  {
   "cell_type": "markdown",
   "metadata": {
    "id": "MZ_qt_Kt1-Mj"
   },
   "source": [
    "# Imputing the missing values with KNN"
   ]
  },
  {
   "cell_type": "code",
   "execution_count": 23,
   "metadata": {
    "colab": {
     "base_uri": "https://localhost:8080/"
    },
    "id": "lVUDFiOD2B3i",
    "outputId": "bad68faa-ed38-4968-fdbf-aa9afa8a0c1e"
   },
   "outputs": [
    {
     "data": {
      "text/plain": [
       "0"
      ]
     },
     "execution_count": 23,
     "metadata": {},
     "output_type": "execute_result"
    }
   ],
   "source": [
    "knn = KNNImputer()\n",
    "knn.fit(X_train_missing)\n",
    "X_train_knn=pd.DataFrame(knn.transform(X_train_missing), columns=X_train_missing.columns)\n",
    "X_train_knn.isna().sum().sum()"
   ]
  },
  {
   "cell_type": "code",
   "execution_count": 24,
   "metadata": {
    "colab": {
     "base_uri": "https://localhost:8080/"
    },
    "id": "2O-i15vi2RNR",
    "outputId": "5e784803-080a-4af1-9776-24ee241b632c"
   },
   "outputs": [
    {
     "data": {
      "text/plain": [
       "0"
      ]
     },
     "execution_count": 24,
     "metadata": {},
     "output_type": "execute_result"
    }
   ],
   "source": [
    "knn.fit(X_test_missing)\n",
    "X_test_knn=pd.DataFrame(knn.transform(X_test_missing), columns=X_test_missing.columns)\n",
    "X_test_knn.isna().sum().sum()"
   ]
  },
  {
   "cell_type": "markdown",
   "metadata": {
    "id": "zyBswGn5Pq1V"
   },
   "source": [
    "# Feature Selection using Boruta"
   ]
  },
  {
   "cell_type": "code",
   "execution_count": null,
   "metadata": {
    "colab": {
     "base_uri": "https://localhost:8080/"
    },
    "id": "rLSW4F5RVP5M",
    "outputId": "546d9da4-eea1-4394-9dad-35041bc31d54",
    "scrolled": true
   },
   "outputs": [
    {
     "name": "stdout",
     "output_type": "stream",
     "text": [
      "Iteration: \t1 / 455\n",
      "Confirmed: \t0\n",
      "Tentative: \t558\n",
      "Rejected: \t0\n",
      "Iteration: \t2 / 455\n",
      "Confirmed: \t0\n",
      "Tentative: \t558\n",
      "Rejected: \t0\n",
      "Iteration: \t3 / 455\n",
      "Confirmed: \t0\n",
      "Tentative: \t558\n",
      "Rejected: \t0\n",
      "Iteration: \t4 / 455\n",
      "Confirmed: \t0\n",
      "Tentative: \t558\n",
      "Rejected: \t0\n",
      "Iteration: \t5 / 455\n",
      "Confirmed: \t0\n",
      "Tentative: \t558\n",
      "Rejected: \t0\n",
      "Iteration: \t6 / 455\n",
      "Confirmed: \t0\n",
      "Tentative: \t558\n",
      "Rejected: \t0\n",
      "Iteration: \t7 / 455\n",
      "Confirmed: \t0\n",
      "Tentative: \t558\n",
      "Rejected: \t0\n",
      "Iteration: \t8 / 455\n",
      "Confirmed: \t0\n",
      "Tentative: \t27\n",
      "Rejected: \t531\n",
      "Iteration: \t9 / 455\n",
      "Confirmed: \t2\n",
      "Tentative: \t25\n",
      "Rejected: \t531\n",
      "Iteration: \t10 / 455\n",
      "Confirmed: \t2\n",
      "Tentative: \t25\n",
      "Rejected: \t531\n",
      "Iteration: \t11 / 455\n",
      "Confirmed: \t2\n",
      "Tentative: \t25\n",
      "Rejected: \t531\n",
      "Iteration: \t12 / 455\n",
      "Confirmed: \t6\n",
      "Tentative: \t18\n",
      "Rejected: \t534\n",
      "Iteration: \t13 / 455\n",
      "Confirmed: \t6\n",
      "Tentative: \t18\n",
      "Rejected: \t534\n",
      "Iteration: \t14 / 455\n",
      "Confirmed: \t6\n",
      "Tentative: \t18\n",
      "Rejected: \t534\n",
      "Iteration: \t15 / 455\n",
      "Confirmed: \t6\n",
      "Tentative: \t18\n",
      "Rejected: \t534\n",
      "Iteration: \t16 / 455\n",
      "Confirmed: \t6\n",
      "Tentative: \t18\n",
      "Rejected: \t534\n",
      "Iteration: \t17 / 455\n",
      "Confirmed: \t6\n",
      "Tentative: \t18\n",
      "Rejected: \t534\n",
      "Iteration: \t18 / 455\n",
      "Confirmed: \t6\n",
      "Tentative: \t18\n",
      "Rejected: \t534\n",
      "Iteration: \t19 / 455\n",
      "Confirmed: \t7\n",
      "Tentative: \t17\n",
      "Rejected: \t534\n",
      "Iteration: \t20 / 455\n",
      "Confirmed: \t7\n",
      "Tentative: \t17\n",
      "Rejected: \t534\n",
      "Iteration: \t21 / 455\n",
      "Confirmed: \t7\n",
      "Tentative: \t17\n",
      "Rejected: \t534\n",
      "Iteration: \t22 / 455\n",
      "Confirmed: \t7\n",
      "Tentative: \t17\n",
      "Rejected: \t534\n",
      "Iteration: \t23 / 455\n",
      "Confirmed: \t7\n",
      "Tentative: \t17\n",
      "Rejected: \t534\n",
      "Iteration: \t24 / 455\n",
      "Confirmed: \t7\n",
      "Tentative: \t17\n",
      "Rejected: \t534\n",
      "Iteration: \t25 / 455\n",
      "Confirmed: \t7\n",
      "Tentative: \t17\n",
      "Rejected: \t534\n",
      "Iteration: \t26 / 455\n",
      "Confirmed: \t9\n",
      "Tentative: \t15\n",
      "Rejected: \t534\n",
      "Iteration: \t27 / 455\n",
      "Confirmed: \t9\n",
      "Tentative: \t15\n",
      "Rejected: \t534\n",
      "Iteration: \t28 / 455\n",
      "Confirmed: \t9\n",
      "Tentative: \t15\n",
      "Rejected: \t534\n",
      "Iteration: \t29 / 455\n",
      "Confirmed: \t10\n",
      "Tentative: \t14\n",
      "Rejected: \t534\n",
      "Iteration: \t30 / 455\n",
      "Confirmed: \t10\n",
      "Tentative: \t14\n",
      "Rejected: \t534\n",
      "Iteration: \t31 / 455\n",
      "Confirmed: \t10\n",
      "Tentative: \t14\n",
      "Rejected: \t534\n",
      "Iteration: \t32 / 455\n",
      "Confirmed: \t11\n",
      "Tentative: \t13\n",
      "Rejected: \t534\n",
      "Iteration: \t33 / 455\n",
      "Confirmed: \t11\n",
      "Tentative: \t13\n",
      "Rejected: \t534\n",
      "Iteration: \t34 / 455\n",
      "Confirmed: \t11\n",
      "Tentative: \t12\n",
      "Rejected: \t535\n",
      "Iteration: \t35 / 455\n",
      "Confirmed: \t11\n",
      "Tentative: \t12\n",
      "Rejected: \t535\n",
      "Iteration: \t36 / 455\n",
      "Confirmed: \t11\n",
      "Tentative: \t12\n",
      "Rejected: \t535\n",
      "Iteration: \t37 / 455\n",
      "Confirmed: \t13\n",
      "Tentative: \t10\n",
      "Rejected: \t535\n",
      "Iteration: \t38 / 455\n",
      "Confirmed: \t13\n",
      "Tentative: \t10\n",
      "Rejected: \t535\n",
      "Iteration: \t39 / 455\n",
      "Confirmed: \t13\n",
      "Tentative: \t10\n",
      "Rejected: \t535\n",
      "Iteration: \t40 / 455\n",
      "Confirmed: \t13\n",
      "Tentative: \t10\n",
      "Rejected: \t535\n",
      "Iteration: \t41 / 455\n",
      "Confirmed: \t13\n",
      "Tentative: \t10\n",
      "Rejected: \t535\n",
      "Iteration: \t42 / 455\n",
      "Confirmed: \t13\n",
      "Tentative: \t10\n",
      "Rejected: \t535\n",
      "Iteration: \t43 / 455\n",
      "Confirmed: \t14\n",
      "Tentative: \t9\n",
      "Rejected: \t535\n",
      "Iteration: \t44 / 455\n",
      "Confirmed: \t14\n",
      "Tentative: \t9\n",
      "Rejected: \t535\n",
      "Iteration: \t45 / 455\n",
      "Confirmed: \t14\n",
      "Tentative: \t9\n",
      "Rejected: \t535\n",
      "Iteration: \t46 / 455\n",
      "Confirmed: \t14\n",
      "Tentative: \t9\n",
      "Rejected: \t535\n",
      "Iteration: \t47 / 455\n",
      "Confirmed: \t14\n",
      "Tentative: \t9\n",
      "Rejected: \t535\n",
      "Iteration: \t48 / 455\n",
      "Confirmed: \t14\n",
      "Tentative: \t9\n",
      "Rejected: \t535\n",
      "Iteration: \t49 / 455\n",
      "Confirmed: \t15\n",
      "Tentative: \t8\n",
      "Rejected: \t535\n",
      "Iteration: \t50 / 455\n",
      "Confirmed: \t15\n",
      "Tentative: \t8\n",
      "Rejected: \t535\n",
      "Iteration: \t51 / 455\n",
      "Confirmed: \t15\n",
      "Tentative: \t8\n",
      "Rejected: \t535\n",
      "Iteration: \t52 / 455\n",
      "Confirmed: \t15\n",
      "Tentative: \t8\n",
      "Rejected: \t535\n",
      "Iteration: \t53 / 455\n",
      "Confirmed: \t15\n",
      "Tentative: \t8\n",
      "Rejected: \t535\n",
      "Iteration: \t54 / 455\n",
      "Confirmed: \t15\n",
      "Tentative: \t8\n",
      "Rejected: \t535\n",
      "Iteration: \t55 / 455\n",
      "Confirmed: \t15\n",
      "Tentative: \t8\n",
      "Rejected: \t535\n",
      "Iteration: \t56 / 455\n",
      "Confirmed: \t15\n",
      "Tentative: \t8\n",
      "Rejected: \t535\n",
      "Iteration: \t57 / 455\n",
      "Confirmed: \t15\n",
      "Tentative: \t8\n",
      "Rejected: \t535\n",
      "Iteration: \t58 / 455\n",
      "Confirmed: \t15\n",
      "Tentative: \t8\n",
      "Rejected: \t535\n",
      "Iteration: \t59 / 455\n",
      "Confirmed: \t16\n",
      "Tentative: \t7\n",
      "Rejected: \t535\n",
      "Iteration: \t60 / 455\n",
      "Confirmed: \t16\n",
      "Tentative: \t7\n",
      "Rejected: \t535\n",
      "Iteration: \t61 / 455\n",
      "Confirmed: \t16\n",
      "Tentative: \t7\n",
      "Rejected: \t535\n",
      "Iteration: \t62 / 455\n",
      "Confirmed: \t16\n",
      "Tentative: \t7\n",
      "Rejected: \t535\n",
      "Iteration: \t63 / 455\n",
      "Confirmed: \t16\n",
      "Tentative: \t7\n",
      "Rejected: \t535\n",
      "Iteration: \t64 / 455\n",
      "Confirmed: \t16\n",
      "Tentative: \t7\n",
      "Rejected: \t535\n",
      "Iteration: \t65 / 455\n",
      "Confirmed: \t16\n",
      "Tentative: \t7\n",
      "Rejected: \t535\n",
      "Iteration: \t66 / 455\n",
      "Confirmed: \t16\n",
      "Tentative: \t7\n",
      "Rejected: \t535\n",
      "Iteration: \t67 / 455\n",
      "Confirmed: \t16\n",
      "Tentative: \t7\n",
      "Rejected: \t535\n",
      "Iteration: \t68 / 455\n",
      "Confirmed: \t16\n",
      "Tentative: \t7\n",
      "Rejected: \t535\n",
      "Iteration: \t69 / 455\n",
      "Confirmed: \t16\n",
      "Tentative: \t7\n",
      "Rejected: \t535\n",
      "Iteration: \t70 / 455\n",
      "Confirmed: \t16\n",
      "Tentative: \t7\n",
      "Rejected: \t535\n",
      "Iteration: \t71 / 455\n",
      "Confirmed: \t16\n",
      "Tentative: \t7\n",
      "Rejected: \t535\n",
      "Iteration: \t72 / 455\n",
      "Confirmed: \t16\n",
      "Tentative: \t7\n",
      "Rejected: \t535\n",
      "Iteration: \t73 / 455\n",
      "Confirmed: \t16\n",
      "Tentative: \t7\n",
      "Rejected: \t535\n",
      "Iteration: \t74 / 455\n",
      "Confirmed: \t16\n",
      "Tentative: \t7\n",
      "Rejected: \t535\n",
      "Iteration: \t75 / 455\n",
      "Confirmed: \t16\n",
      "Tentative: \t7\n",
      "Rejected: \t535\n",
      "Iteration: \t76 / 455\n",
      "Confirmed: \t16\n",
      "Tentative: \t7\n",
      "Rejected: \t535\n",
      "Iteration: \t77 / 455\n",
      "Confirmed: \t16\n",
      "Tentative: \t7\n",
      "Rejected: \t535\n",
      "Iteration: \t78 / 455\n",
      "Confirmed: \t16\n",
      "Tentative: \t7\n",
      "Rejected: \t535\n",
      "Iteration: \t79 / 455\n",
      "Confirmed: \t16\n",
      "Tentative: \t7\n",
      "Rejected: \t535\n",
      "Iteration: \t80 / 455\n",
      "Confirmed: \t17\n",
      "Tentative: \t6\n",
      "Rejected: \t535\n",
      "Iteration: \t81 / 455\n",
      "Confirmed: \t17\n",
      "Tentative: \t6\n",
      "Rejected: \t535\n",
      "Iteration: \t82 / 455\n",
      "Confirmed: \t17\n",
      "Tentative: \t6\n",
      "Rejected: \t535\n",
      "Iteration: \t83 / 455\n",
      "Confirmed: \t17\n",
      "Tentative: \t6\n",
      "Rejected: \t535\n",
      "Iteration: \t84 / 455\n",
      "Confirmed: \t17\n",
      "Tentative: \t6\n",
      "Rejected: \t535\n",
      "Iteration: \t85 / 455\n",
      "Confirmed: \t18\n",
      "Tentative: \t5\n",
      "Rejected: \t535\n",
      "Iteration: \t86 / 455\n",
      "Confirmed: \t18\n",
      "Tentative: \t5\n",
      "Rejected: \t535\n",
      "Iteration: \t87 / 455\n",
      "Confirmed: \t18\n",
      "Tentative: \t5\n",
      "Rejected: \t535\n",
      "Iteration: \t88 / 455\n",
      "Confirmed: \t18\n",
      "Tentative: \t5\n",
      "Rejected: \t535\n",
      "Iteration: \t89 / 455\n",
      "Confirmed: \t18\n",
      "Tentative: \t5\n",
      "Rejected: \t535\n",
      "Iteration: \t90 / 455\n",
      "Confirmed: \t18\n",
      "Tentative: \t5\n",
      "Rejected: \t535\n",
      "Iteration: \t91 / 455\n",
      "Confirmed: \t18\n",
      "Tentative: \t5\n",
      "Rejected: \t535\n",
      "Iteration: \t92 / 455\n",
      "Confirmed: \t18\n",
      "Tentative: \t5\n",
      "Rejected: \t535\n",
      "Iteration: \t93 / 455\n",
      "Confirmed: \t18\n",
      "Tentative: \t5\n",
      "Rejected: \t535\n",
      "Iteration: \t94 / 455\n",
      "Confirmed: \t18\n",
      "Tentative: \t5\n",
      "Rejected: \t535\n",
      "Iteration: \t95 / 455\n",
      "Confirmed: \t18\n",
      "Tentative: \t5\n",
      "Rejected: \t535\n",
      "Iteration: \t96 / 455\n",
      "Confirmed: \t18\n",
      "Tentative: \t5\n",
      "Rejected: \t535\n",
      "Iteration: \t97 / 455\n",
      "Confirmed: \t18\n",
      "Tentative: \t5\n",
      "Rejected: \t535\n",
      "Iteration: \t98 / 455\n",
      "Confirmed: \t18\n",
      "Tentative: \t5\n",
      "Rejected: \t535\n",
      "Iteration: \t99 / 455\n",
      "Confirmed: \t18\n",
      "Tentative: \t5\n",
      "Rejected: \t535\n",
      "Iteration: \t100 / 455\n",
      "Confirmed: \t18\n",
      "Tentative: \t4\n",
      "Rejected: \t536\n",
      "Iteration: \t101 / 455\n",
      "Confirmed: \t18\n",
      "Tentative: \t4\n",
      "Rejected: \t536\n",
      "Iteration: \t102 / 455\n",
      "Confirmed: \t18\n",
      "Tentative: \t4\n",
      "Rejected: \t536\n",
      "Iteration: \t103 / 455\n",
      "Confirmed: \t18\n",
      "Tentative: \t4\n",
      "Rejected: \t536\n",
      "Iteration: \t104 / 455\n",
      "Confirmed: \t18\n",
      "Tentative: \t4\n",
      "Rejected: \t536\n",
      "Iteration: \t105 / 455\n",
      "Confirmed: \t18\n",
      "Tentative: \t4\n",
      "Rejected: \t536\n",
      "Iteration: \t106 / 455\n",
      "Confirmed: \t18\n",
      "Tentative: \t4\n",
      "Rejected: \t536\n",
      "Iteration: \t107 / 455\n",
      "Confirmed: \t18\n",
      "Tentative: \t4\n",
      "Rejected: \t536\n",
      "Iteration: \t108 / 455\n",
      "Confirmed: \t18\n",
      "Tentative: \t4\n",
      "Rejected: \t536\n",
      "Iteration: \t109 / 455\n",
      "Confirmed: \t18\n",
      "Tentative: \t4\n",
      "Rejected: \t536\n",
      "Iteration: \t110 / 455\n",
      "Confirmed: \t18\n",
      "Tentative: \t4\n",
      "Rejected: \t536\n",
      "Iteration: \t111 / 455\n",
      "Confirmed: \t18\n",
      "Tentative: \t4\n",
      "Rejected: \t536\n",
      "Iteration: \t112 / 455\n",
      "Confirmed: \t18\n",
      "Tentative: \t4\n",
      "Rejected: \t536\n",
      "Iteration: \t113 / 455\n",
      "Confirmed: \t18\n",
      "Tentative: \t4\n",
      "Rejected: \t536\n",
      "Iteration: \t114 / 455\n",
      "Confirmed: \t18\n",
      "Tentative: \t4\n",
      "Rejected: \t536\n",
      "Iteration: \t115 / 455\n",
      "Confirmed: \t18\n",
      "Tentative: \t4\n",
      "Rejected: \t536\n",
      "Iteration: \t116 / 455\n",
      "Confirmed: \t18\n",
      "Tentative: \t4\n",
      "Rejected: \t536\n",
      "Iteration: \t117 / 455\n",
      "Confirmed: \t18\n",
      "Tentative: \t4\n",
      "Rejected: \t536\n",
      "Iteration: \t118 / 455\n",
      "Confirmed: \t18\n",
      "Tentative: \t4\n",
      "Rejected: \t536\n",
      "Iteration: \t119 / 455\n",
      "Confirmed: \t18\n",
      "Tentative: \t4\n",
      "Rejected: \t536\n",
      "Iteration: \t120 / 455\n",
      "Confirmed: \t18\n",
      "Tentative: \t4\n",
      "Rejected: \t536\n",
      "Iteration: \t121 / 455\n",
      "Confirmed: \t18\n",
      "Tentative: \t4\n",
      "Rejected: \t536\n",
      "Iteration: \t122 / 455\n",
      "Confirmed: \t18\n",
      "Tentative: \t4\n",
      "Rejected: \t536\n",
      "Iteration: \t123 / 455\n",
      "Confirmed: \t18\n",
      "Tentative: \t4\n",
      "Rejected: \t536\n",
      "Iteration: \t124 / 455\n",
      "Confirmed: \t18\n",
      "Tentative: \t4\n",
      "Rejected: \t536\n",
      "Iteration: \t125 / 455\n",
      "Confirmed: \t18\n",
      "Tentative: \t4\n",
      "Rejected: \t536\n",
      "Iteration: \t126 / 455\n",
      "Confirmed: \t18\n",
      "Tentative: \t4\n",
      "Rejected: \t536\n"
     ]
    },
    {
     "name": "stdout",
     "output_type": "stream",
     "text": [
      "Iteration: \t127 / 455\n",
      "Confirmed: \t18\n",
      "Tentative: \t4\n",
      "Rejected: \t536\n",
      "Iteration: \t128 / 455\n",
      "Confirmed: \t18\n",
      "Tentative: \t4\n",
      "Rejected: \t536\n",
      "Iteration: \t129 / 455\n",
      "Confirmed: \t18\n",
      "Tentative: \t4\n",
      "Rejected: \t536\n",
      "Iteration: \t130 / 455\n",
      "Confirmed: \t18\n",
      "Tentative: \t4\n",
      "Rejected: \t536\n",
      "Iteration: \t131 / 455\n",
      "Confirmed: \t18\n",
      "Tentative: \t4\n",
      "Rejected: \t536\n",
      "Iteration: \t132 / 455\n",
      "Confirmed: \t18\n",
      "Tentative: \t4\n",
      "Rejected: \t536\n",
      "Iteration: \t133 / 455\n",
      "Confirmed: \t18\n",
      "Tentative: \t4\n",
      "Rejected: \t536\n",
      "Iteration: \t134 / 455\n",
      "Confirmed: \t19\n",
      "Tentative: \t3\n",
      "Rejected: \t536\n",
      "Iteration: \t135 / 455\n",
      "Confirmed: \t19\n",
      "Tentative: \t3\n",
      "Rejected: \t536\n",
      "Iteration: \t136 / 455\n",
      "Confirmed: \t19\n",
      "Tentative: \t3\n",
      "Rejected: \t536\n",
      "Iteration: \t137 / 455\n",
      "Confirmed: \t19\n",
      "Tentative: \t3\n",
      "Rejected: \t536\n",
      "Iteration: \t138 / 455\n",
      "Confirmed: \t19\n",
      "Tentative: \t3\n",
      "Rejected: \t536\n",
      "Iteration: \t139 / 455\n",
      "Confirmed: \t19\n",
      "Tentative: \t3\n",
      "Rejected: \t536\n",
      "Iteration: \t140 / 455\n",
      "Confirmed: \t19\n",
      "Tentative: \t3\n",
      "Rejected: \t536\n",
      "Iteration: \t141 / 455\n",
      "Confirmed: \t19\n",
      "Tentative: \t3\n",
      "Rejected: \t536\n",
      "Iteration: \t142 / 455\n",
      "Confirmed: \t19\n",
      "Tentative: \t3\n",
      "Rejected: \t536\n",
      "Iteration: \t143 / 455\n",
      "Confirmed: \t19\n",
      "Tentative: \t3\n",
      "Rejected: \t536\n",
      "Iteration: \t144 / 455\n",
      "Confirmed: \t19\n",
      "Tentative: \t3\n",
      "Rejected: \t536\n",
      "Iteration: \t145 / 455\n",
      "Confirmed: \t19\n",
      "Tentative: \t3\n",
      "Rejected: \t536\n",
      "Iteration: \t146 / 455\n",
      "Confirmed: \t19\n",
      "Tentative: \t3\n",
      "Rejected: \t536\n",
      "Iteration: \t147 / 455\n",
      "Confirmed: \t19\n",
      "Tentative: \t3\n",
      "Rejected: \t536\n",
      "Iteration: \t148 / 455\n",
      "Confirmed: \t19\n",
      "Tentative: \t3\n",
      "Rejected: \t536\n",
      "Iteration: \t149 / 455\n",
      "Confirmed: \t19\n",
      "Tentative: \t3\n",
      "Rejected: \t536\n",
      "Iteration: \t150 / 455\n",
      "Confirmed: \t19\n",
      "Tentative: \t3\n",
      "Rejected: \t536\n",
      "Iteration: \t151 / 455\n",
      "Confirmed: \t19\n",
      "Tentative: \t3\n",
      "Rejected: \t536\n",
      "Iteration: \t152 / 455\n",
      "Confirmed: \t19\n",
      "Tentative: \t3\n",
      "Rejected: \t536\n",
      "Iteration: \t153 / 455\n",
      "Confirmed: \t19\n",
      "Tentative: \t3\n",
      "Rejected: \t536\n",
      "Iteration: \t154 / 455\n",
      "Confirmed: \t19\n",
      "Tentative: \t3\n",
      "Rejected: \t536\n",
      "Iteration: \t155 / 455\n",
      "Confirmed: \t19\n",
      "Tentative: \t3\n",
      "Rejected: \t536\n",
      "Iteration: \t156 / 455\n",
      "Confirmed: \t19\n",
      "Tentative: \t3\n",
      "Rejected: \t536\n",
      "Iteration: \t157 / 455\n",
      "Confirmed: \t19\n",
      "Tentative: \t3\n",
      "Rejected: \t536\n",
      "Iteration: \t158 / 455\n",
      "Confirmed: \t19\n",
      "Tentative: \t3\n",
      "Rejected: \t536\n",
      "Iteration: \t159 / 455\n",
      "Confirmed: \t19\n",
      "Tentative: \t3\n",
      "Rejected: \t536\n",
      "Iteration: \t160 / 455\n",
      "Confirmed: \t19\n",
      "Tentative: \t3\n",
      "Rejected: \t536\n",
      "Iteration: \t161 / 455\n",
      "Confirmed: \t19\n",
      "Tentative: \t3\n",
      "Rejected: \t536\n",
      "Iteration: \t162 / 455\n",
      "Confirmed: \t19\n",
      "Tentative: \t3\n",
      "Rejected: \t536\n",
      "Iteration: \t163 / 455\n",
      "Confirmed: \t19\n",
      "Tentative: \t3\n",
      "Rejected: \t536\n",
      "Iteration: \t164 / 455\n",
      "Confirmed: \t19\n",
      "Tentative: \t3\n",
      "Rejected: \t536\n",
      "Iteration: \t165 / 455\n",
      "Confirmed: \t19\n",
      "Tentative: \t3\n",
      "Rejected: \t536\n",
      "Iteration: \t166 / 455\n",
      "Confirmed: \t19\n",
      "Tentative: \t3\n",
      "Rejected: \t536\n",
      "Iteration: \t167 / 455\n",
      "Confirmed: \t19\n",
      "Tentative: \t3\n",
      "Rejected: \t536\n",
      "Iteration: \t168 / 455\n",
      "Confirmed: \t19\n",
      "Tentative: \t3\n",
      "Rejected: \t536\n",
      "Iteration: \t169 / 455\n",
      "Confirmed: \t19\n",
      "Tentative: \t3\n",
      "Rejected: \t536\n",
      "Iteration: \t170 / 455\n",
      "Confirmed: \t19\n",
      "Tentative: \t3\n",
      "Rejected: \t536\n",
      "Iteration: \t171 / 455\n",
      "Confirmed: \t19\n",
      "Tentative: \t3\n",
      "Rejected: \t536\n",
      "Iteration: \t172 / 455\n",
      "Confirmed: \t19\n",
      "Tentative: \t3\n",
      "Rejected: \t536\n",
      "Iteration: \t173 / 455\n",
      "Confirmed: \t19\n",
      "Tentative: \t3\n",
      "Rejected: \t536\n",
      "Iteration: \t174 / 455\n",
      "Confirmed: \t19\n",
      "Tentative: \t3\n",
      "Rejected: \t536\n",
      "Iteration: \t175 / 455\n",
      "Confirmed: \t19\n",
      "Tentative: \t3\n",
      "Rejected: \t536\n",
      "Iteration: \t176 / 455\n",
      "Confirmed: \t19\n",
      "Tentative: \t3\n",
      "Rejected: \t536\n",
      "Iteration: \t177 / 455\n",
      "Confirmed: \t19\n",
      "Tentative: \t3\n",
      "Rejected: \t536\n",
      "Iteration: \t178 / 455\n",
      "Confirmed: \t19\n",
      "Tentative: \t3\n",
      "Rejected: \t536\n",
      "Iteration: \t179 / 455\n",
      "Confirmed: \t19\n",
      "Tentative: \t3\n",
      "Rejected: \t536\n",
      "Iteration: \t180 / 455\n",
      "Confirmed: \t19\n",
      "Tentative: \t3\n",
      "Rejected: \t536\n",
      "Iteration: \t181 / 455\n",
      "Confirmed: \t19\n",
      "Tentative: \t3\n",
      "Rejected: \t536\n",
      "Iteration: \t182 / 455\n",
      "Confirmed: \t19\n",
      "Tentative: \t3\n",
      "Rejected: \t536\n",
      "Iteration: \t183 / 455\n",
      "Confirmed: \t19\n",
      "Tentative: \t3\n",
      "Rejected: \t536\n",
      "Iteration: \t184 / 455\n",
      "Confirmed: \t19\n",
      "Tentative: \t3\n",
      "Rejected: \t536\n",
      "Iteration: \t185 / 455\n",
      "Confirmed: \t19\n",
      "Tentative: \t3\n",
      "Rejected: \t536\n",
      "Iteration: \t186 / 455\n",
      "Confirmed: \t19\n",
      "Tentative: \t3\n",
      "Rejected: \t536\n",
      "Iteration: \t187 / 455\n",
      "Confirmed: \t19\n",
      "Tentative: \t3\n",
      "Rejected: \t536\n",
      "Iteration: \t188 / 455\n",
      "Confirmed: \t19\n",
      "Tentative: \t3\n",
      "Rejected: \t536\n",
      "Iteration: \t189 / 455\n",
      "Confirmed: \t19\n",
      "Tentative: \t3\n",
      "Rejected: \t536\n",
      "Iteration: \t190 / 455\n",
      "Confirmed: \t19\n",
      "Tentative: \t3\n",
      "Rejected: \t536\n",
      "Iteration: \t191 / 455\n",
      "Confirmed: \t19\n",
      "Tentative: \t3\n",
      "Rejected: \t536\n",
      "Iteration: \t192 / 455\n",
      "Confirmed: \t19\n",
      "Tentative: \t3\n",
      "Rejected: \t536\n",
      "Iteration: \t193 / 455\n",
      "Confirmed: \t19\n",
      "Tentative: \t3\n",
      "Rejected: \t536\n",
      "Iteration: \t194 / 455\n",
      "Confirmed: \t19\n",
      "Tentative: \t3\n",
      "Rejected: \t536\n",
      "Iteration: \t195 / 455\n",
      "Confirmed: \t19\n",
      "Tentative: \t3\n",
      "Rejected: \t536\n",
      "Iteration: \t196 / 455\n",
      "Confirmed: \t19\n",
      "Tentative: \t3\n",
      "Rejected: \t536\n",
      "Iteration: \t197 / 455\n",
      "Confirmed: \t19\n",
      "Tentative: \t3\n",
      "Rejected: \t536\n",
      "Iteration: \t198 / 455\n",
      "Confirmed: \t19\n",
      "Tentative: \t3\n",
      "Rejected: \t536\n",
      "Iteration: \t199 / 455\n",
      "Confirmed: \t19\n",
      "Tentative: \t3\n",
      "Rejected: \t536\n",
      "Iteration: \t200 / 455\n",
      "Confirmed: \t19\n",
      "Tentative: \t3\n",
      "Rejected: \t536\n",
      "Iteration: \t201 / 455\n",
      "Confirmed: \t19\n",
      "Tentative: \t3\n",
      "Rejected: \t536\n",
      "Iteration: \t202 / 455\n",
      "Confirmed: \t19\n",
      "Tentative: \t3\n",
      "Rejected: \t536\n",
      "Iteration: \t203 / 455\n",
      "Confirmed: \t19\n",
      "Tentative: \t3\n",
      "Rejected: \t536\n",
      "Iteration: \t204 / 455\n",
      "Confirmed: \t19\n",
      "Tentative: \t3\n",
      "Rejected: \t536\n",
      "Iteration: \t205 / 455\n",
      "Confirmed: \t19\n",
      "Tentative: \t3\n",
      "Rejected: \t536\n",
      "Iteration: \t206 / 455\n",
      "Confirmed: \t19\n",
      "Tentative: \t3\n",
      "Rejected: \t536\n",
      "Iteration: \t207 / 455\n",
      "Confirmed: \t19\n",
      "Tentative: \t3\n",
      "Rejected: \t536\n",
      "Iteration: \t208 / 455\n",
      "Confirmed: \t19\n",
      "Tentative: \t3\n",
      "Rejected: \t536\n",
      "Iteration: \t209 / 455\n",
      "Confirmed: \t19\n",
      "Tentative: \t3\n",
      "Rejected: \t536\n",
      "Iteration: \t210 / 455\n",
      "Confirmed: \t19\n",
      "Tentative: \t3\n",
      "Rejected: \t536\n",
      "Iteration: \t211 / 455\n",
      "Confirmed: \t19\n",
      "Tentative: \t3\n",
      "Rejected: \t536\n",
      "Iteration: \t212 / 455\n",
      "Confirmed: \t19\n",
      "Tentative: \t3\n",
      "Rejected: \t536\n"
     ]
    }
   ],
   "source": [
    "X_train_boruta , final_features = BorutaFeatureSelection(X_train_knn,y_train.values.ravel())"
   ]
  },
  {
   "cell_type": "code",
   "execution_count": null,
   "metadata": {
    "colab": {
     "base_uri": "https://localhost:8080/"
    },
    "id": "PmsoFTseNUXu",
    "outputId": "456865bc-d4f1-4399-f020-e230d0ecb39f"
   },
   "outputs": [],
   "source": [
    "# Deleting the same columns that are removed in training set from the test set\n",
    "X_test_boruta = X_test_knn[np.array(X_train_boruta.columns)]\n",
    "X_test_boruta.shape"
   ]
  },
  {
   "cell_type": "markdown",
   "metadata": {},
   "source": [
    "### Checking the correlation between variables"
   ]
  },
  {
   "cell_type": "code",
   "execution_count": null,
   "metadata": {
    "colab": {
     "base_uri": "https://localhost:8080/",
     "height": 973
    },
    "id": "DZAHEL6vefF3",
    "outputId": "8dc657bb-67ee-4521-d2e4-f3a0023e9bdd"
   },
   "outputs": [],
   "source": [
    "# Correlation Heatmap\n",
    "plt.rcParams['figure.figsize'] = (15,15)\n",
    "sns.heatmap(X_train_boruta.corr(),cmap=\"YlOrRd\",annot=True)\n",
    "plt.title('Heatmap for the Data', fontsize = 50)"
   ]
  },
  {
   "cell_type": "markdown",
   "metadata": {},
   "source": [
    "### Analysing the best featues"
   ]
  },
  {
   "cell_type": "code",
   "execution_count": null,
   "metadata": {},
   "outputs": [],
   "source": [
    "# Analysing Feature Importance using Random Forest Classifier\n",
    "model = RandomForestClassifier()\n",
    "model.fit(X_train_boruta, y_train.values.ravel())\n",
    "feature_selector = RandomForestClassifier(n_jobs=-1, class_weight='balanced_subsample', max_depth=6, random_state=100)\n",
    "figure(figsize=(6, 10), dpi=70)\n",
    "sorted_idx = model.feature_importances_.argsort()\n",
    "plt.barh(X_train_boruta.columns[sorted_idx], model.feature_importances_[sorted_idx])\n",
    "plt.title('Random Forest Feature Importance')\n",
    "plt.ylabel('Features')\n",
    "plt.xlabel(\"Feature Importance\")"
   ]
  },
  {
   "cell_type": "markdown",
   "metadata": {
    "id": "ofroiNbewG0e"
   },
   "source": [
    "# Balancing the data using ROSE"
   ]
  },
  {
   "cell_type": "code",
   "execution_count": null,
   "metadata": {},
   "outputs": [],
   "source": [
    "# Balancing the data using Random Over-Sampling Examples (ROSE)\n",
    "X_rose, y_rose = Sampling(X_train_boruta, y_train,'ROSE')"
   ]
  },
  {
   "cell_type": "code",
   "execution_count": null,
   "metadata": {},
   "outputs": [],
   "source": [
    "X_smote, y_smote = Sampling(X_train_boruta, y_train,'SMOTE')"
   ]
  },
  {
   "cell_type": "code",
   "execution_count": null,
   "metadata": {},
   "outputs": [],
   "source": [
    "X_adasyn, y_adasyn = Sampling(X_train_boruta, y_train,'ADASYN')"
   ]
  },
  {
   "cell_type": "code",
   "execution_count": null,
   "metadata": {},
   "outputs": [],
   "source": [
    "X_smoteenn, y_smoteenn = Sampling(X_train_boruta, y_train,'SMOTEENN')"
   ]
  },
  {
   "cell_type": "code",
   "execution_count": null,
   "metadata": {},
   "outputs": [],
   "source": [
    "X_smotetomek, y_smotetomek = Sampling(X_train_boruta, y_train,'SMOTETOMEK')"
   ]
  },
  {
   "cell_type": "markdown",
   "metadata": {},
   "source": [
    "# Scaling data and fitting model\n",
    "# - Random Forest Classifier"
   ]
  },
  {
   "cell_type": "code",
   "execution_count": 30,
   "metadata": {},
   "outputs": [
    {
     "name": "stdout",
     "output_type": "stream",
     "text": [
      "Model Name: RandomForestClassifier(class_weight='balanced_subsample', max_depth=6,\n",
      "                       n_jobs=-1, random_state=100)\n",
      "F1 Score: 0.8662420382165607\n",
      "Sensitivity: 0.9630996309963099\n",
      "Recall: 0.5238095238095238\n",
      "Precision: 0.2558139534883721\n"
     ]
    },
    {
     "data": {
      "image/png": "[encoded data removed]",
      "text/plain": [
       "<Figure size 640x400 with 2 Axes>"
      ]
     },
     "metadata": {
      "needs_background": "light"
     },
     "output_type": "display_data"
    }
   ],
   "source": [
    "evaluate(RandomForestClassifier(n_jobs=-1, class_weight='balanced_subsample', max_depth=6, random_state=100),X_rose,X_test_boruta,y_rose,y_test)"
   ]
  },
  {
   "cell_type": "code",
   "execution_count": null,
   "metadata": {},
   "outputs": [],
   "source": [
    "evaluate(RandomForestClassifier(n_jobs=-1, class_weight='balanced_subsample', max_depth=6, random_state=100),X_smote,X_test_boruta,y_smote,y_test)"
   ]
  },
  {
   "cell_type": "code",
   "execution_count": null,
   "metadata": {},
   "outputs": [],
   "source": [
    "evaluate(RandomForestClassifier(n_jobs=-1, class_weight='balanced_subsample', max_depth=6, random_state=100),X_adasyn,X_test_boruta,y_adasyn,y_test)"
   ]
  },
  {
   "cell_type": "code",
   "execution_count": null,
   "metadata": {},
   "outputs": [],
   "source": [
    "evaluate(RandomForestClassifier(n_jobs=-1, class_weight='balanced_subsample', max_depth=6, random_state=100),X_smoteenn,X_test_boruta,y_smoteenn,y_test)"
   ]
  },
  {
   "cell_type": "code",
   "execution_count": null,
   "metadata": {},
   "outputs": [],
   "source": [
    "evaluate(RandomForestClassifier(n_jobs=-1, class_weight='balanced_subsample', max_depth=6, random_state=100),X_smotetomek,X_test_boruta,y_smotetomek,y_test)"
   ]
  },
  {
   "cell_type": "markdown",
   "metadata": {},
   "source": [
    "# Tuning the Model"
   ]
  },
  {
   "cell_type": "code",
   "execution_count": 31,
   "metadata": {},
   "outputs": [
    {
     "name": "stdout",
     "output_type": "stream",
     "text": [
      "Fitting 10 folds for each of 84 candidates, totalling 840 fits\n"
     ]
    },
    {
     "data": {
      "text/html": [
       "<style>#sk-container-id-1 {color: black;background-color: white;}#sk-container-id-1 pre{padding: 0;}#sk-container-id-1 div.sk-toggleable {background-color: white;}#sk-container-id-1 label.sk-toggleable__label {cursor: pointer;display: block;width: 100%;margin-bottom: 0;padding: 0.3em;box-sizing: border-box;text-align: center;}#sk-container-id-1 label.sk-toggleable__label-arrow:before {content: \"▸\";float: left;margin-right: 0.25em;color: #696969;}#sk-container-id-1 label.sk-toggleable__label-arrow:hover:before {color: black;}#sk-container-id-1 div.sk-estimator:hover label.sk-toggleable__label-arrow:before {color: black;}#sk-container-id-1 div.sk-toggleable__content {max-height: 0;max-width: 0;overflow: hidden;text-align: left;background-color: #f0f8ff;}#sk-container-id-1 div.sk-toggleable__content pre {margin: 0.2em;color: black;border-radius: 0.25em;background-color: #f0f8ff;}#sk-container-id-1 input.sk-toggleable__control:checked~div.sk-toggleable__content {max-height: 200px;max-width: 100%;overflow: auto;}#sk-container-id-1 input.sk-toggleable__control:checked~label.sk-toggleable__label-arrow:before {content: \"▾\";}#sk-container-id-1 div.sk-estimator input.sk-toggleable__control:checked~label.sk-toggleable__label {background-color: #d4ebff;}#sk-container-id-1 div.sk-label input.sk-toggleable__control:checked~label.sk-toggleable__label {background-color: #d4ebff;}#sk-container-id-1 input.sk-hidden--visually {border: 0;clip: rect(1px 1px 1px 1px);clip: rect(1px, 1px, 1px, 1px);height: 1px;margin: -1px;overflow: hidden;padding: 0;position: absolute;width: 1px;}#sk-container-id-1 div.sk-estimator {font-family: monospace;background-color: #f0f8ff;border: 1px dotted black;border-radius: 0.25em;box-sizing: border-box;margin-bottom: 0.5em;}#sk-container-id-1 div.sk-estimator:hover {background-color: #d4ebff;}#sk-container-id-1 div.sk-parallel-item::after {content: \"\";width: 100%;border-bottom: 1px solid gray;flex-grow: 1;}#sk-container-id-1 div.sk-label:hover label.sk-toggleable__label {background-color: #d4ebff;}#sk-container-id-1 div.sk-serial::before {content: \"\";position: absolute;border-left: 1px solid gray;box-sizing: border-box;top: 0;bottom: 0;left: 50%;z-index: 0;}#sk-container-id-1 div.sk-serial {display: flex;flex-direction: column;align-items: center;background-color: white;padding-right: 0.2em;padding-left: 0.2em;position: relative;}#sk-container-id-1 div.sk-item {position: relative;z-index: 1;}#sk-container-id-1 div.sk-parallel {display: flex;align-items: stretch;justify-content: center;background-color: white;position: relative;}#sk-container-id-1 div.sk-item::before, #sk-container-id-1 div.sk-parallel-item::before {content: \"\";position: absolute;border-left: 1px solid gray;box-sizing: border-box;top: 0;bottom: 0;left: 50%;z-index: -1;}#sk-container-id-1 div.sk-parallel-item {display: flex;flex-direction: column;z-index: 1;position: relative;background-color: white;}#sk-container-id-1 div.sk-parallel-item:first-child::after {align-self: flex-end;width: 50%;}#sk-container-id-1 div.sk-parallel-item:last-child::after {align-self: flex-start;width: 50%;}#sk-container-id-1 div.sk-parallel-item:only-child::after {width: 0;}#sk-container-id-1 div.sk-dashed-wrapped {border: 1px dashed gray;margin: 0 0.4em 0.5em 0.4em;box-sizing: border-box;padding-bottom: 0.4em;background-color: white;}#sk-container-id-1 div.sk-label label {font-family: monospace;font-weight: bold;display: inline-block;line-height: 1.2em;}#sk-container-id-1 div.sk-label-container {text-align: center;}#sk-container-id-1 div.sk-container {/* jupyter's `normalize.less` sets `[hidden] { display: none; }` but bootstrap.min.css set `[hidden] { display: none !important; }` so we also need the `!important` here to be able to override the default hidden behavior on the sphinx rendered scikit-learn.org. See: https://github.com/scikit-learn/scikit-learn/issues/21755 */display: inline-block !important;position: relative;}#sk-container-id-1 div.sk-text-repr-fallback {display: none;}</style><div id=\"sk-container-id-1\" class=\"sk-top-container\"><div class=\"sk-text-repr-fallback\"><pre>GridSearchCV(cv=10,\n",
       "             estimator=RandomForestClassifier(n_jobs=-1, random_state=42),\n",
       "             param_grid={&#x27;criterion&#x27;: [&#x27;gini&#x27;, &#x27;entropy&#x27;, &#x27;log_loss&#x27;],\n",
       "                         &#x27;max_depth&#x27;: [4, 5, 6, 7, 8, 9, 10],\n",
       "                         &#x27;max_features&#x27;: [&#x27;sqrt&#x27;, &#x27;log2&#x27;, &#x27;auto&#x27;, None]},\n",
       "             scoring=&#x27;roc_auc&#x27;, verbose=1)</pre><b>In a Jupyter environment, please rerun this cell to show the HTML representation or trust the notebook. <br />On GitHub, the HTML representation is unable to render, please try loading this page with nbviewer.org.</b></div><div class=\"sk-container\" hidden><div class=\"sk-item sk-dashed-wrapped\"><div class=\"sk-label-container\"><div class=\"sk-label sk-toggleable\"><input class=\"sk-toggleable__control sk-hidden--visually\" id=\"sk-estimator-id-1\" type=\"checkbox\" ><label for=\"sk-estimator-id-1\" class=\"sk-toggleable__label sk-toggleable__label-arrow\">GridSearchCV</label><div class=\"sk-toggleable__content\"><pre>GridSearchCV(cv=10,\n",
       "             estimator=RandomForestClassifier(n_jobs=-1, random_state=42),\n",
       "             param_grid={&#x27;criterion&#x27;: [&#x27;gini&#x27;, &#x27;entropy&#x27;, &#x27;log_loss&#x27;],\n",
       "                         &#x27;max_depth&#x27;: [4, 5, 6, 7, 8, 9, 10],\n",
       "                         &#x27;max_features&#x27;: [&#x27;sqrt&#x27;, &#x27;log2&#x27;, &#x27;auto&#x27;, None]},\n",
       "             scoring=&#x27;roc_auc&#x27;, verbose=1)</pre></div></div></div><div class=\"sk-parallel\"><div class=\"sk-parallel-item\"><div class=\"sk-item\"><div class=\"sk-label-container\"><div class=\"sk-label sk-toggleable\"><input class=\"sk-toggleable__control sk-hidden--visually\" id=\"sk-estimator-id-2\" type=\"checkbox\" ><label for=\"sk-estimator-id-2\" class=\"sk-toggleable__label sk-toggleable__label-arrow\">estimator: RandomForestClassifier</label><div class=\"sk-toggleable__content\"><pre>RandomForestClassifier(n_jobs=-1, random_state=42)</pre></div></div></div><div class=\"sk-serial\"><div class=\"sk-item\"><div class=\"sk-estimator sk-toggleable\"><input class=\"sk-toggleable__control sk-hidden--visually\" id=\"sk-estimator-id-3\" type=\"checkbox\" ><label for=\"sk-estimator-id-3\" class=\"sk-toggleable__label sk-toggleable__label-arrow\">RandomForestClassifier</label><div class=\"sk-toggleable__content\"><pre>RandomForestClassifier(n_jobs=-1, random_state=42)</pre></div></div></div></div></div></div></div></div></div></div>"
      ],
      "text/plain": [
       "GridSearchCV(cv=10,\n",
       "             estimator=RandomForestClassifier(n_jobs=-1, random_state=42),\n",
       "             param_grid={'criterion': ['gini', 'entropy', 'log_loss'],\n",
       "                         'max_depth': [4, 5, 6, 7, 8, 9, 10],\n",
       "                         'max_features': ['sqrt', 'log2', 'auto', None]},\n",
       "             scoring='roc_auc', verbose=1)"
      ]
     },
     "execution_count": 31,
     "metadata": {},
     "output_type": "execute_result"
    }
   ],
   "source": [
    "# Model: Random Forest Classifier\n",
    "\n",
    "# Define the parameters needed to try\n",
    "params = {'criterion' : [\"gini\",\"entropy\",\"log_loss\"],\n",
    "          'max_depth':[4,5,6,7,8,9,10],\n",
    "         'max_features':[\"sqrt\",\"log2\",\"auto\",None]}\n",
    "          \n",
    "# Find the best parameters with the highest AUC\n",
    "# Fit the model as per fixed and trial parameters and apply cross-validation using StratifiedKFold = 10\n",
    "grid_searcher = GridSearchCV(RandomForestClassifier(n_estimators=100,random_state=42,n_jobs=-1), params,scoring='roc_auc', cv = 10, verbose=1)\n",
    "\n",
    "# Fit the model with the best parameters\n",
    "grid_searcher.fit(X_rose, y_rose)"
   ]
  },
  {
   "cell_type": "code",
   "execution_count": 32,
   "metadata": {},
   "outputs": [
    {
     "name": "stdout",
     "output_type": "stream",
     "text": [
      "\n",
      " Best estimator:\n",
      "RandomForestClassifier(criterion='entropy', max_depth=10, n_jobs=-1,\n",
      "                       random_state=42)\n",
      "\n",
      " Best hyperparameters:\n",
      "{'criterion': 'entropy', 'max_depth': 10, 'max_features': 'sqrt'}\n"
     ]
    }
   ],
   "source": [
    "# Print the best parameters and best estimator\n",
    "\n",
    "print('\\n Best estimator:')\n",
    "print(grid_searcher.best_estimator_)\n",
    "\n",
    "print('\\n Best hyperparameters:')\n",
    "print(grid_searcher.best_params_)"
   ]
  },
  {
   "cell_type": "code",
   "execution_count": 33,
   "metadata": {
    "scrolled": true
   },
   "outputs": [
    {
     "name": "stdout",
     "output_type": "stream",
     "text": [
      "Model Name: RandomForestClassifier(criterion='entropy', max_depth=10, n_jobs=-1,\n",
      "                       random_state=42)\n",
      "F1 Score: 0.89171974522293\n",
      "Sensitivity: 0.9675090252707581\n",
      "Recall: 0.5714285714285714\n",
      "Precision: 0.32432432432432434\n"
     ]
    },
    {
     "data": {
      "image/png": "[encoded data removed]",
      "text/plain": [
       "<Figure size 640x400 with 2 Axes>"
      ]
     },
     "metadata": {
      "needs_background": "light"
     },
     "output_type": "display_data"
    }
   ],
   "source": [
    "# Fit the model with tuned parameters\n",
    "evaluate(grid_searcher.best_estimator_,X_rose,X_test_boruta,y_rose,y_test)\n"
   ]
  },
  {
   "cell_type": "markdown",
   "metadata": {},
   "source": [
    "# Checking if our model is overfitting"
   ]
  },
  {
   "cell_type": "code",
   "execution_count": 34,
   "metadata": {},
   "outputs": [
    {
     "name": "stdout",
     "output_type": "stream",
     "text": [
      "1 train: 0.768, test: 0.799\n",
      "2 train: 0.798, test: 0.793\n",
      "3 train: 0.818, test: 0.815\n",
      "4 train: 0.843, test: 0.806\n",
      "5 train: 0.888, test: 0.847\n",
      "6 train: 0.921, test: 0.854\n",
      "7 train: 0.947, test: 0.879\n",
      "8 train: 0.964, test: 0.892\n",
      "9 train: 0.975, test: 0.892\n",
      "10 train: 0.978, test: 0.892\n",
      "11 train: 0.985, test: 0.892\n",
      "12 train: 0.987, test: 0.882\n",
      "13 train: 0.988, test: 0.895\n",
      "14 train: 0.990, test: 0.885\n",
      "15 train: 0.993, test: 0.882\n",
      "16 train: 0.995, test: 0.892\n",
      "17 train: 0.996, test: 0.885\n",
      "18 train: 0.997, test: 0.885\n",
      "19 train: 0.998, test: 0.889\n",
      "20 train: 0.999, test: 0.885\n"
     ]
    }
   ],
   "source": [
    "# define the tree depth for evaluation \n",
    "values = [i for i in range(1, 21)]\n",
    "# evaluate a decision tree for each depth\n",
    "test_scores=[]\n",
    "train_scores=[]\n",
    "for i in values:\n",
    "    # configure the model\n",
    "    model = RandomForestClassifier(n_estimators=100,max_features='sqrt',random_state=42,n_jobs=-1,max_depth=i,criterion='entropy')\n",
    "    # fit model to the training dataset\n",
    "    model.fit(X_rose, y_rose)\n",
    "    # evaluate model using the training dataset\n",
    "    train_yhat = model.predict(X_rose)\n",
    "    train_acc = accuracy_score(y_rose, train_yhat)\n",
    "    train_scores.append(train_acc)\n",
    "    # evaluate model using the test dataset\n",
    "    test_yhat = model.predict(X_test_boruta)\n",
    "    test_acc = accuracy_score(y_test, test_yhat)\n",
    "    test_scores.append(test_acc)\n",
    "    # print the results\n",
    "    print('%d train: %.3f, test: %.3f' % (i, train_acc, test_acc))"
   ]
  },
  {
   "cell_type": "code",
   "execution_count": 35,
   "metadata": {},
   "outputs": [
    {
     "data": {
      "image/png": "[encoded data removed]",
      "text/plain": [
       "<Figure size 640x400 with 1 Axes>"
      ]
     },
     "metadata": {
      "needs_background": "light"
     },
     "output_type": "display_data"
    }
   ],
   "source": [
    "# Plot the results for better visualization\n",
    "figure(figsize=(8, 5), dpi=80)\n",
    "# plot the scores for training and test dataset vs tree depth\n",
    "plt.plot(values, train_scores, '-o', label='Train')\n",
    "plt.plot(values, test_scores, '-o', label='Test')\n",
    "plt.title('Model Fit Analysis')\n",
    "plt.xlabel('Max Depth (Random Forest)')\n",
    "plt.ylabel('Accuracy Score')\n",
    "plt.legend()\n",
    "loc = list(range(21))\n",
    "plt.xticks(loc)\n",
    "plt.show()"
   ]
  },
  {
   "cell_type": "markdown",
   "metadata": {},
   "source": [
    "# Final model after the best fit"
   ]
  },
  {
   "cell_type": "code",
   "execution_count": 36,
   "metadata": {},
   "outputs": [
    {
     "name": "stdout",
     "output_type": "stream",
     "text": [
      "Model Name: RandomForestClassifier(criterion='entropy', max_depth=8, n_jobs=-1,\n",
      "                       random_state=42)\n",
      "F1 Score: 0.89171974522293\n",
      "Sensitivity: 0.96415770609319\n",
      "Recall: 0.5238095238095238\n",
      "Precision: 0.3142857142857143\n"
     ]
    },
    {
     "data": {
      "image/png": "[encoded data removed]",
      "text/plain": [
       "<Figure size 640x400 with 2 Axes>"
      ]
     },
     "metadata": {
      "needs_background": "light"
     },
     "output_type": "display_data"
    }
   ],
   "source": [
    "evaluate(RandomForestClassifier(n_estimators=100,random_state=42,n_jobs=-1,max_depth=8,criterion='entropy',max_features='sqrt'),\n",
    "         X_rose,X_test_boruta,y_rose,y_test)\n",
    "\n"
   ]
  }
 ],
 "metadata": {
  "colab": {
   "collapsed_sections": [],
   "name": "knn - boruta.ipynb",
   "provenance": []
  },
  "kernelspec": {
   "display_name": "Python 3 (ipykernel)",
   "language": "python",
   "name": "python3"
  },
  "language_info": {
   "codemirror_mode": {
    "name": "ipython",
    "version": 3
   },
   "file_extension": ".py",
   "mimetype": "text/x-python",
   "name": "python",
   "nbconvert_exporter": "python",
   "pygments_lexer": "ipython3",
   "version": "3.9.7"
  }
 },
 "nbformat": 4,
 "nbformat_minor": 1
}
