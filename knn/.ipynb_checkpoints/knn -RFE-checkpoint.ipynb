{
 "cells": [
  {
   "cell_type": "markdown",
   "metadata": {
    "id": "s8CoiNMU1IQ8"
   },
   "source": [
    "#### Importing packages"
   ]
  },
  {
   "cell_type": "code",
   "execution_count": null,
   "metadata": {
    "id": "VNPgCs7b1Jso"
   },
   "outputs": [],
   "source": [
    "import pandas as pd\n",
    "import seaborn as sns\n",
    "import numpy as np\n",
    "import matplotlib.pyplot as plt\n",
    "from sklearn.model_selection import train_test_split\n",
    "from sklearn.neighbors import KNeighborsClassifier\n",
    "import plotly as py\n",
    "import plotly.express as px\n",
    "import missingno as msno\n",
    "from sklearn.impute import KNNImputer\n",
    "from sklearn.preprocessing import StandardScaler\n",
    "from sklearn.ensemble import RandomForestClassifier\n",
    "from sklearn.metrics import confusion_matrix\n",
    "from sklearn.metrics import classification_report\n",
    "from sklearn.metrics import plot_roc_curve\n",
    "from sklearn.metrics import accuracy_score\n",
    "# to avoid warnings\n",
    "import warnings\n",
    "warnings.filterwarnings('ignore')\n",
    "warnings.warn(\"this will not show\")"
   ]
  },
  {
   "cell_type": "markdown",
   "metadata": {
    "id": "za0s4Egl1QU5"
   },
   "source": [
    "#### Functions"
   ]
  },
  {
   "cell_type": "code",
   "execution_count": null,
   "metadata": {
    "id": "RlMVRmdS1R0l"
   },
   "outputs": [],
   "source": [
    "# Function to remove missing values above a given threshold\n",
    "def missing_remove(dataframe, threshold):\n",
    "    columns = dataframe.columns[(dataframe.isna().sum()/dataframe.shape[1])>threshold].tolist()\n",
    "    print(f\"# Features deleted with more than {threshold} % missing values\", len(columns))\n",
    "    return dataframe.drop(columns, axis=1,inplace=True)"
   ]
  },
  {
   "cell_type": "code",
   "execution_count": null,
   "metadata": {
    "id": "i62Cd7qc1LeI"
   },
   "outputs": [],
   "source": [
    "# Function to remove features with unique values\n",
    "def unique_remove(dataframe):\n",
    "    unique_features = []\n",
    "    for col in dataframe.columns:\n",
    "        if(dataframe[col].unique().size == 2):\n",
    "            if(len(unique_features) == 0):\n",
    "                unique_features =  dataframe[col]\n",
    "            else:\n",
    "                 unique_features = pd.concat([unique_features, dataframe[col]], axis=1)\n",
    "            dataframe.drop(col, axis=1, inplace=True)"
   ]
  },
  {
   "cell_type": "code",
   "execution_count": null,
   "metadata": {
    "id": "j_OUWkYC1WQD"
   },
   "outputs": [],
   "source": [
    "# Function to remove outlier\n",
    "def outlier_detection_zcore(dataframe):\n",
    "    data_mean, data_std  = dataframe.mean(), dataframe.std()\n",
    "    data_z_scores = ((dataframe - data_mean) / data_std).abs()\n",
    "    m = data_z_scores > 3\n",
    "    dataframe = dataframe.mask(m,inplace=True)\n",
    "    return dataframe"
   ]
  },
  {
   "cell_type": "code",
   "execution_count": null,
   "metadata": {
    "id": "ICLy3MkK4OTH"
   },
   "outputs": [],
   "source": [
    "def rfc(X_train_rfc,X_test_rfc,y_train,max_depth):\n",
    "  from matplotlib.pyplot import figure\n",
    "  figure(figsize=(8, 5), dpi=80)\n",
    "  model = RandomForestClassifier(n_estimators=100, criterion='entropy', max_depth=max_depth)\n",
    "  model.fit(X_train_rfc, y_train)\n",
    "  y_pred = model.predict(X_test_rfc)\n",
    "  sns.heatmap(confusion_matrix(y_test, y_pred), annot=True, fmt=\"d\",yticklabels = ['Act. Fail', 'Act. Pass'], xticklabels = ['Pred. Fail' , 'Pred. Pass'])\n",
    "  print(classification_report(y_test, y_pred))\n",
    "  ax = plt.gca()\n",
    "  plot = plot_roc_curve(model, X_test_rfc, y_test, ax=ax, alpha=0.8)\n",
    "  print(\"Test Accuracy Score\", accuracy_score(y_test, y_pred))\n",
    "  f1score = f1_score(y_test, y_pred, average='micro')\n",
    "  mccscore=matthews_corrcoef(y_test, y_pred)\n",
    "  return f1score, mccscore"
   ]
  },
  {
   "cell_type": "code",
   "execution_count": null,
   "metadata": {
    "id": "CWlgaZXXafAh"
   },
   "outputs": [],
   "source": [
    "from sklearn.linear_model import LogisticRegression\n",
    "from sklearn.metrics import f1_score, matthews_corrcoef\n",
    "from yellowbrick.classifier import ConfusionMatrix, ClassPredictionError\n",
    "def evaluate(train_df, test_df, train_target, test_target):\n",
    "    \n",
    "    scaler = StandardScaler()\n",
    "    scaler.fit(train_df)\n",
    "    train_std = pd.DataFrame(scaler.transform(train_df), columns=train_df.columns)\n",
    "    test_std = pd.DataFrame(scaler.transform(test_df), columns=test_df.columns)\n",
    "    \n",
    "    logreg = LogisticRegression(random_state = 42, class_weight='balanced', C=200, dual=False, solver='liblinear')\n",
    "    logreg.fit(train_std, train_target.values.ravel())\n",
    "    \n",
    "    y_pred = logreg.predict(test_std)\n",
    "    y_true = test_target.values.ravel()\n",
    "    f1score = f1_score(y_true, y_pred, average='micro')\n",
    "    mccscore=matthews_corrcoef(y_true, y_pred)\n",
    "    \n",
    "   \n",
    "    cm = ConfusionMatrix(logreg, classes=['Fail', 'Pass'], cmap=\"YlGn\", size=(400,400))\n",
    "    cm.score(test_std, y_true)\n",
    "    cm.show()\n",
    "    from matplotlib.pyplot import figure\n",
    "    figure(figsize=(5, 5), dpi=80)\n",
    "    ax = plt.gca()\n",
    "    plot = plot_roc_curve(logreg, test_df, test_target, ax=ax, alpha=0.8)\n",
    "    \n",
    "    return f1score, mccscore"
   ]
  },
  {
   "cell_type": "markdown",
   "metadata": {
    "id": "QYimj7lt1efy"
   },
   "source": [
    "#### Importing and basic cleaning"
   ]
  },
  {
   "cell_type": "code",
   "execution_count": null,
   "metadata": {
    "id": "LbJIxqWC1hBn"
   },
   "outputs": [],
   "source": [
    "# Importing data from internet in runtime\n",
    "data_url=\"https://archive.ics.uci.edu/ml/machine-learning-databases/secom/secom.data\""
   ]
  },
  {
   "cell_type": "code",
   "execution_count": null,
   "metadata": {
    "id": "vLONGBRz1iz7"
   },
   "outputs": [],
   "source": [
    "# Assigning data to a pandas dataframe\n",
    "secom_data = pd.read_csv(data_url,sep=' ',header=None)"
   ]
  },
  {
   "cell_type": "code",
   "execution_count": null,
   "metadata": {
    "colab": {
     "base_uri": "https://localhost:8080/",
     "height": 300
    },
    "executionInfo": {
     "elapsed": 8,
     "status": "ok",
     "timestamp": 1655309525973,
     "user": {
      "displayName": "Rashmi dsouza",
      "userId": "15818309019845571813"
     },
     "user_tz": -120
    },
    "id": "mJ-CpITl1lJG",
    "outputId": "578b5d46-8e7b-4edb-eed8-84693f2dd74c"
   },
   "outputs": [
    {
     "data": {
      "text/html": [
       "\n",
       "  <div id=\"df-5785da47-bc38-483f-a1d5-6c52553cee0a\">\n",
       "    <div class=\"colab-df-container\">\n",
       "      <div>\n",
       "<style scoped>\n",
       "    .dataframe tbody tr th:only-of-type {\n",
       "        vertical-align: middle;\n",
       "    }\n",
       "\n",
       "    .dataframe tbody tr th {\n",
       "        vertical-align: top;\n",
       "    }\n",
       "\n",
       "    .dataframe thead th {\n",
       "        text-align: right;\n",
       "    }\n",
       "</style>\n",
       "<table border=\"1\" class=\"dataframe\">\n",
       "  <thead>\n",
       "    <tr style=\"text-align: right;\">\n",
       "      <th></th>\n",
       "      <th>Feature_1</th>\n",
       "      <th>Feature_2</th>\n",
       "      <th>Feature_3</th>\n",
       "      <th>Feature_4</th>\n",
       "      <th>Feature_5</th>\n",
       "      <th>Feature_6</th>\n",
       "      <th>Feature_7</th>\n",
       "      <th>Feature_8</th>\n",
       "      <th>Feature_9</th>\n",
       "      <th>Feature_10</th>\n",
       "      <th>...</th>\n",
       "      <th>Feature_581</th>\n",
       "      <th>Feature_582</th>\n",
       "      <th>Feature_583</th>\n",
       "      <th>Feature_584</th>\n",
       "      <th>Feature_585</th>\n",
       "      <th>Feature_586</th>\n",
       "      <th>Feature_587</th>\n",
       "      <th>Feature_588</th>\n",
       "      <th>Feature_589</th>\n",
       "      <th>Feature_590</th>\n",
       "    </tr>\n",
       "  </thead>\n",
       "  <tbody>\n",
       "    <tr>\n",
       "      <th>0</th>\n",
       "      <td>3030.93</td>\n",
       "      <td>2564.00</td>\n",
       "      <td>2187.7333</td>\n",
       "      <td>1411.1265</td>\n",
       "      <td>1.3602</td>\n",
       "      <td>100.0</td>\n",
       "      <td>97.6133</td>\n",
       "      <td>0.1242</td>\n",
       "      <td>1.5005</td>\n",
       "      <td>0.0162</td>\n",
       "      <td>...</td>\n",
       "      <td>NaN</td>\n",
       "      <td>NaN</td>\n",
       "      <td>0.5005</td>\n",
       "      <td>0.0118</td>\n",
       "      <td>0.0035</td>\n",
       "      <td>2.3630</td>\n",
       "      <td>NaN</td>\n",
       "      <td>NaN</td>\n",
       "      <td>NaN</td>\n",
       "      <td>NaN</td>\n",
       "    </tr>\n",
       "    <tr>\n",
       "      <th>1</th>\n",
       "      <td>3095.78</td>\n",
       "      <td>2465.14</td>\n",
       "      <td>2230.4222</td>\n",
       "      <td>1463.6606</td>\n",
       "      <td>0.8294</td>\n",
       "      <td>100.0</td>\n",
       "      <td>102.3433</td>\n",
       "      <td>0.1247</td>\n",
       "      <td>1.4966</td>\n",
       "      <td>-0.0005</td>\n",
       "      <td>...</td>\n",
       "      <td>0.0060</td>\n",
       "      <td>208.2045</td>\n",
       "      <td>0.5019</td>\n",
       "      <td>0.0223</td>\n",
       "      <td>0.0055</td>\n",
       "      <td>4.4447</td>\n",
       "      <td>0.0096</td>\n",
       "      <td>0.0201</td>\n",
       "      <td>0.0060</td>\n",
       "      <td>208.2045</td>\n",
       "    </tr>\n",
       "    <tr>\n",
       "      <th>2</th>\n",
       "      <td>2932.61</td>\n",
       "      <td>2559.94</td>\n",
       "      <td>2186.4111</td>\n",
       "      <td>1698.0172</td>\n",
       "      <td>1.5102</td>\n",
       "      <td>100.0</td>\n",
       "      <td>95.4878</td>\n",
       "      <td>0.1241</td>\n",
       "      <td>1.4436</td>\n",
       "      <td>0.0041</td>\n",
       "      <td>...</td>\n",
       "      <td>0.0148</td>\n",
       "      <td>82.8602</td>\n",
       "      <td>0.4958</td>\n",
       "      <td>0.0157</td>\n",
       "      <td>0.0039</td>\n",
       "      <td>3.1745</td>\n",
       "      <td>0.0584</td>\n",
       "      <td>0.0484</td>\n",
       "      <td>0.0148</td>\n",
       "      <td>82.8602</td>\n",
       "    </tr>\n",
       "    <tr>\n",
       "      <th>3</th>\n",
       "      <td>2988.72</td>\n",
       "      <td>2479.90</td>\n",
       "      <td>2199.0333</td>\n",
       "      <td>909.7926</td>\n",
       "      <td>1.3204</td>\n",
       "      <td>100.0</td>\n",
       "      <td>104.2367</td>\n",
       "      <td>0.1217</td>\n",
       "      <td>1.4882</td>\n",
       "      <td>-0.0124</td>\n",
       "      <td>...</td>\n",
       "      <td>0.0044</td>\n",
       "      <td>73.8432</td>\n",
       "      <td>0.4990</td>\n",
       "      <td>0.0103</td>\n",
       "      <td>0.0025</td>\n",
       "      <td>2.0544</td>\n",
       "      <td>0.0202</td>\n",
       "      <td>0.0149</td>\n",
       "      <td>0.0044</td>\n",
       "      <td>73.8432</td>\n",
       "    </tr>\n",
       "    <tr>\n",
       "      <th>4</th>\n",
       "      <td>3032.24</td>\n",
       "      <td>2502.87</td>\n",
       "      <td>2233.3667</td>\n",
       "      <td>1326.5200</td>\n",
       "      <td>1.5334</td>\n",
       "      <td>100.0</td>\n",
       "      <td>100.3967</td>\n",
       "      <td>0.1235</td>\n",
       "      <td>1.5031</td>\n",
       "      <td>-0.0031</td>\n",
       "      <td>...</td>\n",
       "      <td>NaN</td>\n",
       "      <td>NaN</td>\n",
       "      <td>0.4800</td>\n",
       "      <td>0.4766</td>\n",
       "      <td>0.1045</td>\n",
       "      <td>99.3032</td>\n",
       "      <td>0.0202</td>\n",
       "      <td>0.0149</td>\n",
       "      <td>0.0044</td>\n",
       "      <td>73.8432</td>\n",
       "    </tr>\n",
       "  </tbody>\n",
       "</table>\n",
       "<p>5 rows × 590 columns</p>\n",
       "</div>\n",
       "      <button class=\"colab-df-convert\" onclick=\"convertToInteractive('df-5785da47-bc38-483f-a1d5-6c52553cee0a')\"\n",
       "              title=\"Convert this dataframe to an interactive table.\"\n",
       "              style=\"display:none;\">\n",
       "        \n",
       "  <svg xmlns=\"http://www.w3.org/2000/svg\" height=\"24px\"viewBox=\"0 0 24 24\"\n",
       "       width=\"24px\">\n",
       "    <path d=\"M0 0h24v24H0V0z\" fill=\"none\"/>\n",
       "    <path d=\"M18.56 5.44l.94 2.06.94-2.06 2.06-.94-2.06-.94-.94-2.06-.94 2.06-2.06.94zm-11 1L8.5 8.5l.94-2.06 2.06-.94-2.06-.94L8.5 2.5l-.94 2.06-2.06.94zm10 10l.94 2.06.94-2.06 2.06-.94-2.06-.94-.94-2.06-.94 2.06-2.06.94z\"/><path d=\"M17.41 7.96l-1.37-1.37c-.4-.4-.92-.59-1.43-.59-.52 0-1.04.2-1.43.59L10.3 9.45l-7.72 7.72c-.78.78-.78 2.05 0 2.83L4 21.41c.39.39.9.59 1.41.59.51 0 1.02-.2 1.41-.59l7.78-7.78 2.81-2.81c.8-.78.8-2.07 0-2.86zM5.41 20L4 18.59l7.72-7.72 1.47 1.35L5.41 20z\"/>\n",
       "  </svg>\n",
       "      </button>\n",
       "      \n",
       "  <style>\n",
       "    .colab-df-container {\n",
       "      display:flex;\n",
       "      flex-wrap:wrap;\n",
       "      gap: 12px;\n",
       "    }\n",
       "\n",
       "    .colab-df-convert {\n",
       "      background-color: #E8F0FE;\n",
       "      border: none;\n",
       "      border-radius: 50%;\n",
       "      cursor: pointer;\n",
       "      display: none;\n",
       "      fill: #1967D2;\n",
       "      height: 32px;\n",
       "      padding: 0 0 0 0;\n",
       "      width: 32px;\n",
       "    }\n",
       "\n",
       "    .colab-df-convert:hover {\n",
       "      background-color: #E2EBFA;\n",
       "      box-shadow: 0px 1px 2px rgba(60, 64, 67, 0.3), 0px 1px 3px 1px rgba(60, 64, 67, 0.15);\n",
       "      fill: #174EA6;\n",
       "    }\n",
       "\n",
       "    [theme=dark] .colab-df-convert {\n",
       "      background-color: #3B4455;\n",
       "      fill: #D2E3FC;\n",
       "    }\n",
       "\n",
       "    [theme=dark] .colab-df-convert:hover {\n",
       "      background-color: #434B5C;\n",
       "      box-shadow: 0px 1px 3px 1px rgba(0, 0, 0, 0.15);\n",
       "      filter: drop-shadow(0px 1px 2px rgba(0, 0, 0, 0.3));\n",
       "      fill: #FFFFFF;\n",
       "    }\n",
       "  </style>\n",
       "\n",
       "      <script>\n",
       "        const buttonEl =\n",
       "          document.querySelector('#df-5785da47-bc38-483f-a1d5-6c52553cee0a button.colab-df-convert');\n",
       "        buttonEl.style.display =\n",
       "          google.colab.kernel.accessAllowed ? 'block' : 'none';\n",
       "\n",
       "        async function convertToInteractive(key) {\n",
       "          const element = document.querySelector('#df-5785da47-bc38-483f-a1d5-6c52553cee0a');\n",
       "          const dataTable =\n",
       "            await google.colab.kernel.invokeFunction('convertToInteractive',\n",
       "                                                     [key], {});\n",
       "          if (!dataTable) return;\n",
       "\n",
       "          const docLinkHtml = 'Like what you see? Visit the ' +\n",
       "            '<a target=\"_blank\" href=https://colab.research.google.com/notebooks/data_table.ipynb>data table notebook</a>'\n",
       "            + ' to learn more about interactive tables.';\n",
       "          element.innerHTML = '';\n",
       "          dataTable['output_type'] = 'display_data';\n",
       "          await google.colab.output.renderOutput(dataTable, element);\n",
       "          const docLink = document.createElement('div');\n",
       "          docLink.innerHTML = docLinkHtml;\n",
       "          element.appendChild(docLink);\n",
       "        }\n",
       "      </script>\n",
       "    </div>\n",
       "  </div>\n",
       "  "
      ],
      "text/plain": [
       "   Feature_1  Feature_2  Feature_3  Feature_4  Feature_5  Feature_6  \\\n",
       "0    3030.93    2564.00  2187.7333  1411.1265     1.3602      100.0   \n",
       "1    3095.78    2465.14  2230.4222  1463.6606     0.8294      100.0   \n",
       "2    2932.61    2559.94  2186.4111  1698.0172     1.5102      100.0   \n",
       "3    2988.72    2479.90  2199.0333   909.7926     1.3204      100.0   \n",
       "4    3032.24    2502.87  2233.3667  1326.5200     1.5334      100.0   \n",
       "\n",
       "   Feature_7  Feature_8  Feature_9  Feature_10  ...  Feature_581  Feature_582  \\\n",
       "0    97.6133     0.1242     1.5005      0.0162  ...          NaN          NaN   \n",
       "1   102.3433     0.1247     1.4966     -0.0005  ...       0.0060     208.2045   \n",
       "2    95.4878     0.1241     1.4436      0.0041  ...       0.0148      82.8602   \n",
       "3   104.2367     0.1217     1.4882     -0.0124  ...       0.0044      73.8432   \n",
       "4   100.3967     0.1235     1.5031     -0.0031  ...          NaN          NaN   \n",
       "\n",
       "   Feature_583  Feature_584  Feature_585  Feature_586  Feature_587  \\\n",
       "0       0.5005       0.0118       0.0035       2.3630          NaN   \n",
       "1       0.5019       0.0223       0.0055       4.4447       0.0096   \n",
       "2       0.4958       0.0157       0.0039       3.1745       0.0584   \n",
       "3       0.4990       0.0103       0.0025       2.0544       0.0202   \n",
       "4       0.4800       0.4766       0.1045      99.3032       0.0202   \n",
       "\n",
       "   Feature_588  Feature_589  Feature_590  \n",
       "0          NaN          NaN          NaN  \n",
       "1       0.0201       0.0060     208.2045  \n",
       "2       0.0484       0.0148      82.8602  \n",
       "3       0.0149       0.0044      73.8432  \n",
       "4       0.0149       0.0044      73.8432  \n",
       "\n",
       "[5 rows x 590 columns]"
      ]
     },
     "execution_count": 49,
     "metadata": {},
     "output_type": "execute_result"
    }
   ],
   "source": [
    "# Renaming the columns \n",
    "secom_data.columns = [\"Feature_\"+str(column+1) for column in range(len(secom_data.columns))]\n",
    "secom_data.head()"
   ]
  },
  {
   "cell_type": "code",
   "execution_count": null,
   "metadata": {
    "id": "1m82GHOT1msU"
   },
   "outputs": [],
   "source": [
    "# Importing target data from internet in runtime\n",
    "label_url=\"https://archive.ics.uci.edu/ml/machine-learning-databases/secom/secom_labels.data\""
   ]
  },
  {
   "cell_type": "code",
   "execution_count": null,
   "metadata": {
    "id": "MXNuzPJe1sNk"
   },
   "outputs": [],
   "source": [
    "# Assigning target data to a pandas dataframe\n",
    "secom_labels = pd.read_csv(label_url, sep = \" \",header=None)"
   ]
  },
  {
   "cell_type": "code",
   "execution_count": null,
   "metadata": {
    "id": "RqtL5guL1tz7"
   },
   "outputs": [],
   "source": [
    "# Renaming the columns \n",
    "secom_labels.columns = [\"Classification\",\"Timestamp\"]"
   ]
  },
  {
   "cell_type": "code",
   "execution_count": null,
   "metadata": {
    "id": "84Dl-Fay1vz3"
   },
   "outputs": [],
   "source": [
    "# Changing datatype for consitency\n",
    "secom_labels['Timestamp'] = pd.to_datetime(secom_labels['Timestamp'],errors='raise')"
   ]
  },
  {
   "cell_type": "code",
   "execution_count": null,
   "metadata": {
    "id": "qSmgspyk1xcL"
   },
   "outputs": [],
   "source": [
    "# Merging the data\n",
    "data= pd.concat([secom_labels,secom_data],axis=1)"
   ]
  },
  {
   "cell_type": "code",
   "execution_count": null,
   "metadata": {
    "id": "foQ0Zplo1yxq"
   },
   "outputs": [],
   "source": [
    "# Dropping the timestamp column as it provides no insights\n",
    "data.drop(columns=\"Timestamp\", errors='raise',inplace=True)"
   ]
  },
  {
   "cell_type": "code",
   "execution_count": null,
   "metadata": {
    "id": "wSd7j_0210WF"
   },
   "outputs": [],
   "source": [
    "target = data[['Classification']]\n",
    "data.drop(['Classification'], axis=1,inplace=True)"
   ]
  },
  {
   "cell_type": "markdown",
   "metadata": {
    "id": "gcnUqd02122m"
   },
   "source": [
    "#### Spliting the data into training set and test set"
   ]
  },
  {
   "cell_type": "code",
   "execution_count": null,
   "metadata": {
    "id": "UfkKHvKQ14hm"
   },
   "outputs": [],
   "source": [
    "from sklearn.model_selection import train_test_split\n",
    "X_train, X_test, y_train, y_test = train_test_split(data,target, test_size=0.20, random_state=42, stratify=target)\n",
    "# We use the startify parameter as the data is imbalanced on the basis of pass and fail and this will ensure the same \n",
    "#is retained when we split - Random state will help us create a reproducible data - Test size is the split ration"
   ]
  },
  {
   "cell_type": "code",
   "execution_count": null,
   "metadata": {
    "id": "zoPcLGkRzCNR"
   },
   "outputs": [],
   "source": [
    "X_test_original = X_test"
   ]
  },
  {
   "cell_type": "markdown",
   "metadata": {
    "id": "VngQ8qmq18L2"
   },
   "source": [
    "#### Re-labeling the Target values\n"
   ]
  },
  {
   "cell_type": "code",
   "execution_count": null,
   "metadata": {
    "id": "Zita67WD18oW"
   },
   "outputs": [],
   "source": [
    "# Relabeling target variables 1 is pass and 0 is fail\n",
    "y_train = y_train.replace(to_replace=[-1, 1], value=[1, 0])\n",
    "y_test = y_test.replace(to_replace=[-1, 1], value=[1, 0])"
   ]
  },
  {
   "cell_type": "code",
   "execution_count": null,
   "metadata": {
    "id": "Qqf5h04o2BV3"
   },
   "outputs": [],
   "source": [
    "# # Scaling the data\n",
    "# scaler = StandardScaler()\n",
    "# scaler.fit(X_train)\n",
    "# X_train = pd.DataFrame(scaler.transform(X_train), columns=X_train.columns)\n",
    "# X_test = pd.DataFrame(scaler.transform(X_test), columns=X_test.columns)"
   ]
  },
  {
   "cell_type": "markdown",
   "metadata": {
    "id": "Ktw4-If-2JVo"
   },
   "source": [
    "# Decision : Removing columns with more that 50% missing values"
   ]
  },
  {
   "cell_type": "code",
   "execution_count": null,
   "metadata": {
    "colab": {
     "base_uri": "https://localhost:8080/"
    },
    "executionInfo": {
     "elapsed": 14,
     "status": "ok",
     "timestamp": 1655309526877,
     "user": {
      "displayName": "Rashmi dsouza",
      "userId": "15818309019845571813"
     },
     "user_tz": -120
    },
    "id": "Sealjvqy16tt",
    "outputId": "4260e8e6-6eaf-43dd-8422-421f0c241f4d"
   },
   "outputs": [
    {
     "data": {
      "text/plain": [
       "(1253, 590)"
      ]
     },
     "execution_count": 61,
     "metadata": {},
     "output_type": "execute_result"
    }
   ],
   "source": [
    "X_train.shape"
   ]
  },
  {
   "cell_type": "code",
   "execution_count": null,
   "metadata": {
    "colab": {
     "base_uri": "https://localhost:8080/"
    },
    "executionInfo": {
     "elapsed": 10,
     "status": "ok",
     "timestamp": 1655309526878,
     "user": {
      "displayName": "Rashmi dsouza",
      "userId": "15818309019845571813"
     },
     "user_tz": -120
    },
    "id": "K3sSkLKz2MQv",
    "outputId": "880ee8b2-c415-4aee-e3fb-b18cd597e712"
   },
   "outputs": [
    {
     "name": "stdout",
     "output_type": "stream",
     "text": [
      "# Features deleted with more than 0.5 % missing values 32\n"
     ]
    },
    {
     "data": {
      "text/plain": [
       "(1253, 558)"
      ]
     },
     "execution_count": 62,
     "metadata": {},
     "output_type": "execute_result"
    }
   ],
   "source": [
    "X_train_missing = X_train\n",
    "missing_remove(X_train_missing, 0.5)\n",
    "X_train_missing.shape"
   ]
  },
  {
   "cell_type": "code",
   "execution_count": null,
   "metadata": {
    "colab": {
     "base_uri": "https://localhost:8080/"
    },
    "executionInfo": {
     "elapsed": 8,
     "status": "ok",
     "timestamp": 1655309526878,
     "user": {
      "displayName": "Rashmi dsouza",
      "userId": "15818309019845571813"
     },
     "user_tz": -120
    },
    "id": "GMtATkmGbzmV",
    "outputId": "f07edf0b-dd2b-47de-c58f-c1fc2de9e412"
   },
   "outputs": [
    {
     "data": {
      "text/plain": [
       "(314, 558)"
      ]
     },
     "execution_count": 63,
     "metadata": {},
     "output_type": "execute_result"
    }
   ],
   "source": [
    "# From test set deleting columns that are removed in training set\n",
    "X_test_missing = X_test[np.array(X_train_missing.columns)]\n",
    "X_test_missing.shape"
   ]
  },
  {
   "cell_type": "markdown",
   "metadata": {
    "id": "BGCsY1go4BPk"
   },
   "source": [
    "# Decision : Replacing outliers with 3s boundary"
   ]
  },
  {
   "cell_type": "markdown",
   "metadata": {
    "id": "5GF5OKR37z9k"
   },
   "source": [
    "##### Other option of removing outliers and replacing them has been explored in file \"Base file - removing outliers and replacing with knn.ipynb\""
   ]
  },
  {
   "cell_type": "code",
   "execution_count": null,
   "metadata": {
    "id": "8nKubTxv2Qio"
   },
   "outputs": [],
   "source": [
    "def replace_outlier(val, mean, std):\n",
    "    if val > mean + 3*std:\n",
    "        return mean + 3*std \n",
    "    elif val < mean - 3*std:\n",
    "        return mean - 3*std\n",
    "    return val"
   ]
  },
  {
   "cell_type": "code",
   "execution_count": null,
   "metadata": {
    "id": "dR6rW4Sa1jux"
   },
   "outputs": [],
   "source": [
    "# replace with 3s in X_train\n",
    "for col in X_train_missing.columns:\n",
    "    mean = X_train_missing[col].mean()\n",
    "    std_dev = X_train_missing[col].std(axis=0)\n",
    "    X_train_missing[col] = X_train_missing[col].map(lambda x: replace_outlier(x, mean, std_dev))"
   ]
  },
  {
   "cell_type": "code",
   "execution_count": null,
   "metadata": {
    "id": "FSHmjvRz1lkY"
   },
   "outputs": [],
   "source": [
    "# replace with 3s in X_test\n",
    "for col in X_test_missing.columns:\n",
    "    mean = X_test_missing[col].mean()\n",
    "    std_dev = X_test_missing[col].std(axis=0)\n",
    "    X_test_missing[col] = X_test_missing[col].map(lambda x: replace_outlier(x, mean, std_dev))"
   ]
  },
  {
   "cell_type": "markdown",
   "metadata": {
    "id": "MZ_qt_Kt1-Mj"
   },
   "source": [
    "# KNN Imputation"
   ]
  },
  {
   "cell_type": "code",
   "execution_count": null,
   "metadata": {
    "colab": {
     "base_uri": "https://localhost:8080/"
    },
    "executionInfo": {
     "elapsed": 2258,
     "status": "ok",
     "timestamp": 1655309529936,
     "user": {
      "displayName": "Rashmi dsouza",
      "userId": "15818309019845571813"
     },
     "user_tz": -120
    },
    "id": "lVUDFiOD2B3i",
    "outputId": "1c974b92-3d04-44d6-fa34-323b6c54046a"
   },
   "outputs": [
    {
     "data": {
      "text/plain": [
       "0"
      ]
     },
     "execution_count": 67,
     "metadata": {},
     "output_type": "execute_result"
    }
   ],
   "source": [
    "from sklearn.impute import KNNImputer\n",
    "knn = KNNImputer()\n",
    "knn.fit(X_train_missing)\n",
    "X_train_knn=pd.DataFrame(knn.transform(X_train_missing), columns=X_train_missing.columns)\n",
    "X_train_knn.isna().sum().sum()"
   ]
  },
  {
   "cell_type": "code",
   "execution_count": null,
   "metadata": {
    "colab": {
     "base_uri": "https://localhost:8080/"
    },
    "executionInfo": {
     "elapsed": 345,
     "status": "ok",
     "timestamp": 1655309530279,
     "user": {
      "displayName": "Rashmi dsouza",
      "userId": "15818309019845571813"
     },
     "user_tz": -120
    },
    "id": "2O-i15vi2RNR",
    "outputId": "c21ca590-c108-416a-aa53-ce1b5001636c"
   },
   "outputs": [
    {
     "data": {
      "text/plain": [
       "0"
      ]
     },
     "execution_count": 68,
     "metadata": {},
     "output_type": "execute_result"
    }
   ],
   "source": [
    "from sklearn.impute import KNNImputer\n",
    "knn = KNNImputer()\n",
    "knn.fit(X_test_missing)\n",
    "X_test_knn=pd.DataFrame(knn.transform(X_test_missing), columns=X_test_missing.columns)\n",
    "X_test_knn.isna().sum().sum()"
   ]
  },
  {
   "cell_type": "code",
   "execution_count": null,
   "metadata": {
    "colab": {
     "base_uri": "https://localhost:8080/",
     "height": 543
    },
    "executionInfo": {
     "elapsed": 1596,
     "status": "ok",
     "timestamp": 1655309531874,
     "user": {
      "displayName": "Rashmi dsouza",
      "userId": "15818309019845571813"
     },
     "user_tz": -120
    },
    "id": "x6GtYJCo41fU",
    "outputId": "082d0387-193f-41c8-e64b-191bb017cbb2"
   },
   "outputs": [
    {
     "name": "stdout",
     "output_type": "stream",
     "text": [
      "              precision    recall  f1-score   support\n",
      "\n",
      "           0       0.00      0.00      0.00        21\n",
      "           1       0.93      1.00      0.97       293\n",
      "\n",
      "    accuracy                           0.93       314\n",
      "   macro avg       0.47      0.50      0.48       314\n",
      "weighted avg       0.87      0.93      0.90       314\n",
      "\n"
     ]
    },
    {
     "data": {
      "text/plain": [
       "(0.9331210191082803, 0.0)"
      ]
     },
     "execution_count": 69,
     "metadata": {},
     "output_type": "execute_result"
    },
    {
     "data": {
      "image/png": "[encoded data removed]",
      "text/plain": [
       "<Figure size 640x400 with 2 Axes>"
      ]
     },
     "metadata": {},
     "output_type": "display_data"
    }
   ],
   "source": [
    "rfc(X_train_knn,X_test_knn,y_train,4)"
   ]
  },
  {
   "cell_type": "markdown",
   "metadata": {
    "id": "zyBswGn5Pq1V"
   },
   "source": [
    "# Feature Selection"
   ]
  },
  {
   "cell_type": "markdown",
   "metadata": {
    "id": "NHtm88EKMXTY"
   },
   "source": [
    "## Recursive feature elimination"
   ]
  },
  {
   "cell_type": "code",
   "execution_count": null,
   "metadata": {
    "id": "fPU0HBS-MVBh"
   },
   "outputs": [],
   "source": [
    "from sklearn.ensemble import RandomForestRegressor\n",
    "regressor = RandomForestRegressor(n_estimators=100, max_depth=1)"
   ]
  },
  {
   "cell_type": "code",
   "execution_count": null,
   "metadata": {
    "colab": {
     "base_uri": "https://localhost:8080/"
    },
    "executionInfo": {
     "elapsed": 104156,
     "status": "ok",
     "timestamp": 1655309636028,
     "user": {
      "displayName": "Rashmi dsouza",
      "userId": "15818309019845571813"
     },
     "user_tz": -120
    },
    "id": "x93BU7vXNEzJ",
    "outputId": "7e1f96ae-2bd5-4253-ed86-491f9a4a5f3e"
   },
   "outputs": [
    {
     "name": "stdout",
     "output_type": "stream",
     "text": [
      "Iteration: \t1 / 100\n",
      "Confirmed: \t0\n",
      "Tentative: \t558\n",
      "Rejected: \t0\n",
      "Iteration: \t2 / 100\n",
      "Confirmed: \t0\n",
      "Tentative: \t558\n",
      "Rejected: \t0\n",
      "Iteration: \t3 / 100\n",
      "Confirmed: \t0\n",
      "Tentative: \t558\n",
      "Rejected: \t0\n",
      "Iteration: \t4 / 100\n",
      "Confirmed: \t0\n",
      "Tentative: \t558\n",
      "Rejected: \t0\n",
      "Iteration: \t5 / 100\n",
      "Confirmed: \t0\n",
      "Tentative: \t558\n",
      "Rejected: \t0\n",
      "Iteration: \t6 / 100\n",
      "Confirmed: \t0\n",
      "Tentative: \t558\n",
      "Rejected: \t0\n",
      "Iteration: \t7 / 100\n",
      "Confirmed: \t0\n",
      "Tentative: \t558\n",
      "Rejected: \t0\n",
      "Iteration: \t8 / 100\n",
      "Confirmed: \t0\n",
      "Tentative: \t16\n",
      "Rejected: \t542\n",
      "Iteration: \t9 / 100\n",
      "Confirmed: \t4\n",
      "Tentative: \t12\n",
      "Rejected: \t542\n",
      "Iteration: \t10 / 100\n",
      "Confirmed: \t4\n",
      "Tentative: \t12\n",
      "Rejected: \t542\n",
      "Iteration: \t11 / 100\n",
      "Confirmed: \t4\n",
      "Tentative: \t12\n",
      "Rejected: \t542\n",
      "Iteration: \t12 / 100\n",
      "Confirmed: \t5\n",
      "Tentative: \t11\n",
      "Rejected: \t542\n",
      "Iteration: \t13 / 100\n",
      "Confirmed: \t5\n",
      "Tentative: \t11\n",
      "Rejected: \t542\n",
      "Iteration: \t14 / 100\n",
      "Confirmed: \t5\n",
      "Tentative: \t11\n",
      "Rejected: \t542\n",
      "Iteration: \t15 / 100\n",
      "Confirmed: \t5\n",
      "Tentative: \t11\n",
      "Rejected: \t542\n",
      "Iteration: \t16 / 100\n",
      "Confirmed: \t5\n",
      "Tentative: \t11\n",
      "Rejected: \t542\n",
      "Iteration: \t17 / 100\n",
      "Confirmed: \t5\n",
      "Tentative: \t11\n",
      "Rejected: \t542\n",
      "Iteration: \t18 / 100\n",
      "Confirmed: \t5\n",
      "Tentative: \t11\n",
      "Rejected: \t542\n",
      "Iteration: \t19 / 100\n",
      "Confirmed: \t6\n",
      "Tentative: \t10\n",
      "Rejected: \t542\n",
      "Iteration: \t20 / 100\n",
      "Confirmed: \t6\n",
      "Tentative: \t10\n",
      "Rejected: \t542\n",
      "Iteration: \t21 / 100\n",
      "Confirmed: \t6\n",
      "Tentative: \t10\n",
      "Rejected: \t542\n",
      "Iteration: \t22 / 100\n",
      "Confirmed: \t8\n",
      "Tentative: \t8\n",
      "Rejected: \t542\n",
      "Iteration: \t23 / 100\n",
      "Confirmed: \t8\n",
      "Tentative: \t8\n",
      "Rejected: \t542\n",
      "Iteration: \t24 / 100\n",
      "Confirmed: \t8\n",
      "Tentative: \t8\n",
      "Rejected: \t542\n",
      "Iteration: \t25 / 100\n",
      "Confirmed: \t8\n",
      "Tentative: \t8\n",
      "Rejected: \t542\n",
      "Iteration: \t26 / 100\n",
      "Confirmed: \t8\n",
      "Tentative: \t8\n",
      "Rejected: \t542\n",
      "Iteration: \t27 / 100\n",
      "Confirmed: \t8\n",
      "Tentative: \t8\n",
      "Rejected: \t542\n",
      "Iteration: \t28 / 100\n",
      "Confirmed: \t8\n",
      "Tentative: \t8\n",
      "Rejected: \t542\n",
      "Iteration: \t29 / 100\n",
      "Confirmed: \t9\n",
      "Tentative: \t6\n",
      "Rejected: \t543\n",
      "Iteration: \t30 / 100\n",
      "Confirmed: \t9\n",
      "Tentative: \t6\n",
      "Rejected: \t543\n",
      "Iteration: \t31 / 100\n",
      "Confirmed: \t9\n",
      "Tentative: \t6\n",
      "Rejected: \t543\n",
      "Iteration: \t32 / 100\n",
      "Confirmed: \t9\n",
      "Tentative: \t6\n",
      "Rejected: \t543\n",
      "Iteration: \t33 / 100\n",
      "Confirmed: \t9\n",
      "Tentative: \t6\n",
      "Rejected: \t543\n",
      "Iteration: \t34 / 100\n",
      "Confirmed: \t9\n",
      "Tentative: \t6\n",
      "Rejected: \t543\n",
      "Iteration: \t35 / 100\n",
      "Confirmed: \t9\n",
      "Tentative: \t6\n",
      "Rejected: \t543\n",
      "Iteration: \t36 / 100\n",
      "Confirmed: \t9\n",
      "Tentative: \t6\n",
      "Rejected: \t543\n",
      "Iteration: \t37 / 100\n",
      "Confirmed: \t9\n",
      "Tentative: \t6\n",
      "Rejected: \t543\n",
      "Iteration: \t38 / 100\n",
      "Confirmed: \t9\n",
      "Tentative: \t6\n",
      "Rejected: \t543\n",
      "Iteration: \t39 / 100\n",
      "Confirmed: \t9\n",
      "Tentative: \t6\n",
      "Rejected: \t543\n",
      "Iteration: \t40 / 100\n",
      "Confirmed: \t10\n",
      "Tentative: \t5\n",
      "Rejected: \t543\n",
      "Iteration: \t41 / 100\n",
      "Confirmed: \t10\n",
      "Tentative: \t5\n",
      "Rejected: \t543\n",
      "Iteration: \t42 / 100\n",
      "Confirmed: \t10\n",
      "Tentative: \t5\n",
      "Rejected: \t543\n",
      "Iteration: \t43 / 100\n",
      "Confirmed: \t10\n",
      "Tentative: \t5\n",
      "Rejected: \t543\n",
      "Iteration: \t44 / 100\n",
      "Confirmed: \t10\n",
      "Tentative: \t5\n",
      "Rejected: \t543\n",
      "Iteration: \t45 / 100\n",
      "Confirmed: \t10\n",
      "Tentative: \t5\n",
      "Rejected: \t543\n",
      "Iteration: \t46 / 100\n",
      "Confirmed: \t11\n",
      "Tentative: \t4\n",
      "Rejected: \t543\n",
      "Iteration: \t47 / 100\n",
      "Confirmed: \t11\n",
      "Tentative: \t4\n",
      "Rejected: \t543\n",
      "Iteration: \t48 / 100\n",
      "Confirmed: \t11\n",
      "Tentative: \t4\n",
      "Rejected: \t543\n",
      "Iteration: \t49 / 100\n",
      "Confirmed: \t11\n",
      "Tentative: \t4\n",
      "Rejected: \t543\n",
      "Iteration: \t50 / 100\n",
      "Confirmed: \t11\n",
      "Tentative: \t4\n",
      "Rejected: \t543\n",
      "Iteration: \t51 / 100\n",
      "Confirmed: \t11\n",
      "Tentative: \t4\n",
      "Rejected: \t543\n",
      "Iteration: \t52 / 100\n",
      "Confirmed: \t11\n",
      "Tentative: \t4\n",
      "Rejected: \t543\n",
      "Iteration: \t53 / 100\n",
      "Confirmed: \t11\n",
      "Tentative: \t4\n",
      "Rejected: \t543\n",
      "Iteration: \t54 / 100\n",
      "Confirmed: \t12\n",
      "Tentative: \t3\n",
      "Rejected: \t543\n",
      "Iteration: \t55 / 100\n",
      "Confirmed: \t12\n",
      "Tentative: \t3\n",
      "Rejected: \t543\n",
      "Iteration: \t56 / 100\n",
      "Confirmed: \t12\n",
      "Tentative: \t3\n",
      "Rejected: \t543\n",
      "Iteration: \t57 / 100\n",
      "Confirmed: \t12\n",
      "Tentative: \t3\n",
      "Rejected: \t543\n",
      "Iteration: \t58 / 100\n",
      "Confirmed: \t12\n",
      "Tentative: \t3\n",
      "Rejected: \t543\n",
      "Iteration: \t59 / 100\n",
      "Confirmed: \t12\n",
      "Tentative: \t3\n",
      "Rejected: \t543\n",
      "Iteration: \t60 / 100\n",
      "Confirmed: \t12\n",
      "Tentative: \t3\n",
      "Rejected: \t543\n",
      "Iteration: \t61 / 100\n",
      "Confirmed: \t12\n",
      "Tentative: \t3\n",
      "Rejected: \t543\n",
      "Iteration: \t62 / 100\n",
      "Confirmed: \t12\n",
      "Tentative: \t3\n",
      "Rejected: \t543\n",
      "Iteration: \t63 / 100\n",
      "Confirmed: \t12\n",
      "Tentative: \t3\n",
      "Rejected: \t543\n",
      "Iteration: \t64 / 100\n",
      "Confirmed: \t12\n",
      "Tentative: \t3\n",
      "Rejected: \t543\n",
      "Iteration: \t65 / 100\n",
      "Confirmed: \t12\n",
      "Tentative: \t3\n",
      "Rejected: \t543\n",
      "Iteration: \t66 / 100\n",
      "Confirmed: \t12\n",
      "Tentative: \t3\n",
      "Rejected: \t543\n",
      "Iteration: \t67 / 100\n",
      "Confirmed: \t12\n",
      "Tentative: \t3\n",
      "Rejected: \t543\n",
      "Iteration: \t68 / 100\n",
      "Confirmed: \t12\n",
      "Tentative: \t3\n",
      "Rejected: \t543\n",
      "Iteration: \t69 / 100\n",
      "Confirmed: \t12\n",
      "Tentative: \t3\n",
      "Rejected: \t543\n",
      "Iteration: \t70 / 100\n",
      "Confirmed: \t12\n",
      "Tentative: \t3\n",
      "Rejected: \t543\n",
      "Iteration: \t71 / 100\n",
      "Confirmed: \t12\n",
      "Tentative: \t3\n",
      "Rejected: \t543\n",
      "Iteration: \t72 / 100\n",
      "Confirmed: \t12\n",
      "Tentative: \t3\n",
      "Rejected: \t543\n",
      "Iteration: \t73 / 100\n",
      "Confirmed: \t12\n",
      "Tentative: \t3\n",
      "Rejected: \t543\n",
      "Iteration: \t74 / 100\n",
      "Confirmed: \t12\n",
      "Tentative: \t3\n",
      "Rejected: \t543\n",
      "Iteration: \t75 / 100\n",
      "Confirmed: \t12\n",
      "Tentative: \t3\n",
      "Rejected: \t543\n",
      "Iteration: \t76 / 100\n",
      "Confirmed: \t12\n",
      "Tentative: \t3\n",
      "Rejected: \t543\n",
      "Iteration: \t77 / 100\n",
      "Confirmed: \t12\n",
      "Tentative: \t2\n",
      "Rejected: \t544\n",
      "Iteration: \t78 / 100\n",
      "Confirmed: \t12\n",
      "Tentative: \t2\n",
      "Rejected: \t544\n",
      "Iteration: \t79 / 100\n",
      "Confirmed: \t12\n",
      "Tentative: \t2\n",
      "Rejected: \t544\n",
      "Iteration: \t80 / 100\n",
      "Confirmed: \t12\n",
      "Tentative: \t2\n",
      "Rejected: \t544\n",
      "Iteration: \t81 / 100\n",
      "Confirmed: \t12\n",
      "Tentative: \t2\n",
      "Rejected: \t544\n",
      "Iteration: \t82 / 100\n",
      "Confirmed: \t12\n",
      "Tentative: \t2\n",
      "Rejected: \t544\n",
      "Iteration: \t83 / 100\n",
      "Confirmed: \t12\n",
      "Tentative: \t2\n",
      "Rejected: \t544\n",
      "Iteration: \t84 / 100\n",
      "Confirmed: \t12\n",
      "Tentative: \t2\n",
      "Rejected: \t544\n",
      "Iteration: \t85 / 100\n",
      "Confirmed: \t12\n",
      "Tentative: \t2\n",
      "Rejected: \t544\n",
      "Iteration: \t86 / 100\n",
      "Confirmed: \t12\n",
      "Tentative: \t2\n",
      "Rejected: \t544\n",
      "Iteration: \t87 / 100\n",
      "Confirmed: \t12\n",
      "Tentative: \t2\n",
      "Rejected: \t544\n",
      "Iteration: \t88 / 100\n",
      "Confirmed: \t12\n",
      "Tentative: \t2\n",
      "Rejected: \t544\n",
      "Iteration: \t89 / 100\n",
      "Confirmed: \t12\n",
      "Tentative: \t2\n",
      "Rejected: \t544\n",
      "Iteration: \t90 / 100\n",
      "Confirmed: \t12\n",
      "Tentative: \t2\n",
      "Rejected: \t544\n",
      "Iteration: \t91 / 100\n",
      "Confirmed: \t12\n",
      "Tentative: \t2\n",
      "Rejected: \t544\n",
      "Iteration: \t92 / 100\n",
      "Confirmed: \t12\n",
      "Tentative: \t2\n",
      "Rejected: \t544\n",
      "Iteration: \t93 / 100\n",
      "Confirmed: \t12\n",
      "Tentative: \t2\n",
      "Rejected: \t544\n",
      "Iteration: \t94 / 100\n",
      "Confirmed: \t12\n",
      "Tentative: \t2\n",
      "Rejected: \t544\n",
      "Iteration: \t95 / 100\n",
      "Confirmed: \t12\n",
      "Tentative: \t2\n",
      "Rejected: \t544\n",
      "Iteration: \t96 / 100\n",
      "Confirmed: \t12\n",
      "Tentative: \t2\n",
      "Rejected: \t544\n",
      "Iteration: \t97 / 100\n",
      "Confirmed: \t12\n",
      "Tentative: \t2\n",
      "Rejected: \t544\n",
      "Iteration: \t98 / 100\n",
      "Confirmed: \t12\n",
      "Tentative: \t2\n",
      "Rejected: \t544\n",
      "Iteration: \t99 / 100\n",
      "Confirmed: \t12\n",
      "Tentative: \t2\n",
      "Rejected: \t544\n",
      "\n",
      "\n",
      "BorutaPy finished running.\n",
      "\n",
      "Iteration: \t100 / 100\n",
      "Confirmed: \t12\n",
      "Tentative: \t2\n",
      "Rejected: \t544\n",
      "Feature: Feature_1                      Rank: 31,  Keep: False\n",
      "Feature: Feature_2                      Rank: 263,  Keep: False\n",
      "Feature: Feature_3                      Rank: 351,  Keep: False\n",
      "Feature: Feature_4                      Rank: 316,  Keep: False\n",
      "Feature: Feature_5                      Rank: 359,  Keep: False\n",
      "Feature: Feature_6                      Rank: 485,  Keep: False\n",
      "Feature: Feature_7                      Rank: 233,  Keep: False\n",
      "Feature: Feature_8                      Rank: 221,  Keep: False\n",
      "Feature: Feature_9                      Rank: 106,  Keep: False\n",
      "Feature: Feature_10                     Rank: 124,  Keep: False\n",
      "Feature: Feature_11                     Rank: 93,  Keep: False\n",
      "Feature: Feature_12                     Rank: 355,  Keep: False\n",
      "Feature: Feature_13                     Rank: 231,  Keep: False\n",
      "Feature: Feature_14                     Rank: 485,  Keep: False\n",
      "Feature: Feature_15                     Rank: 23,  Keep: False\n",
      "Feature: Feature_16                     Rank: 146,  Keep: False\n",
      "Feature: Feature_17                     Rank: 87,  Keep: False\n",
      "Feature: Feature_18                     Rank: 176,  Keep: False\n",
      "Feature: Feature_19                     Rank: 285,  Keep: False\n",
      "Feature: Feature_20                     Rank: 95,  Keep: False\n",
      "Feature: Feature_21                     Rank: 350,  Keep: False\n",
      "Feature: Feature_22                     Rank: 5,  Keep: False\n",
      "Feature: Feature_23                     Rank: 153,  Keep: False\n",
      "Feature: Feature_24                     Rank: 355,  Keep: False\n",
      "Feature: Feature_25                     Rank: 204,  Keep: False\n",
      "Feature: Feature_26                     Rank: 103,  Keep: False\n",
      "Feature: Feature_27                     Rank: 194,  Keep: False\n",
      "Feature: Feature_28                     Rank: 155,  Keep: False\n",
      "Feature: Feature_29                     Rank: 4,  Keep: False\n",
      "Feature: Feature_30                     Rank: 411,  Keep: False\n",
      "Feature: Feature_31                     Rank: 334,  Keep: False\n",
      "Feature: Feature_32                     Rank: 1,  Keep: True\n",
      "Feature: Feature_33                     Rank: 211,  Keep: False\n",
      "Feature: Feature_34                     Rank: 1,  Keep: True\n",
      "Feature: Feature_35                     Rank: 255,  Keep: False\n",
      "Feature: Feature_36                     Rank: 67,  Keep: False\n",
      "Feature: Feature_37                     Rank: 285,  Keep: False\n",
      "Feature: Feature_38                     Rank: 51,  Keep: False\n",
      "Feature: Feature_39                     Rank: 92,  Keep: False\n",
      "Feature: Feature_40                     Rank: 39,  Keep: False\n",
      "Feature: Feature_41                     Rank: 137,  Keep: False\n",
      "Feature: Feature_42                     Rank: 251,  Keep: False\n",
      "Feature: Feature_43                     Rank: 485,  Keep: False\n",
      "Feature: Feature_44                     Rank: 143,  Keep: False\n",
      "Feature: Feature_45                     Rank: 321,  Keep: False\n",
      "Feature: Feature_46                     Rank: 132,  Keep: False\n",
      "Feature: Feature_47                     Rank: 238,  Keep: False\n",
      "Feature: Feature_48                     Rank: 202,  Keep: False\n",
      "Feature: Feature_49                     Rank: 139,  Keep: False\n",
      "Feature: Feature_50                     Rank: 485,  Keep: False\n",
      "Feature: Feature_51                     Rank: 260,  Keep: False\n",
      "Feature: Feature_52                     Rank: 236,  Keep: False\n",
      "Feature: Feature_53                     Rank: 485,  Keep: False\n",
      "Feature: Feature_54                     Rank: 245,  Keep: False\n",
      "Feature: Feature_55                     Rank: 192,  Keep: False\n",
      "Feature: Feature_56                     Rank: 73,  Keep: False\n",
      "Feature: Feature_57                     Rank: 52,  Keep: False\n",
      "Feature: Feature_58                     Rank: 271,  Keep: False\n",
      "Feature: Feature_59                     Rank: 57,  Keep: False\n",
      "Feature: Feature_60                     Rank: 1,  Keep: True\n",
      "Feature: Feature_61                     Rank: 242,  Keep: False\n",
      "Feature: Feature_62                     Rank: 131,  Keep: False\n",
      "Feature: Feature_63                     Rank: 62,  Keep: False\n",
      "Feature: Feature_64                     Rank: 22,  Keep: False\n",
      "Feature: Feature_65                     Rank: 1,  Keep: True\n",
      "Feature: Feature_66                     Rank: 1,  Keep: True\n",
      "Feature: Feature_67                     Rank: 164,  Keep: False\n",
      "Feature: Feature_68                     Rank: 144,  Keep: False\n",
      "Feature: Feature_69                     Rank: 170,  Keep: False\n",
      "Feature: Feature_70                     Rank: 485,  Keep: False\n",
      "Feature: Feature_71                     Rank: 94,  Keep: False\n",
      "Feature: Feature_72                     Rank: 231,  Keep: False\n",
      "Feature: Feature_75                     Rank: 485,  Keep: False\n",
      "Feature: Feature_76                     Rank: 148,  Keep: False\n",
      "Feature: Feature_77                     Rank: 142,  Keep: False\n",
      "Feature: Feature_78                     Rank: 263,  Keep: False\n",
      "Feature: Feature_79                     Rank: 52,  Keep: False\n",
      "Feature: Feature_80                     Rank: 84,  Keep: False\n",
      "Feature: Feature_81                     Rank: 244,  Keep: False\n",
      "Feature: Feature_82                     Rank: 24,  Keep: False\n",
      "Feature: Feature_83                     Rank: 345,  Keep: False\n",
      "Feature: Feature_84                     Rank: 202,  Keep: False\n",
      "Feature: Feature_85                     Rank: 399,  Keep: False\n",
      "Feature: Feature_87                     Rank: 135,  Keep: False\n",
      "Feature: Feature_88                     Rank: 394,  Keep: False\n",
      "Feature: Feature_89                     Rank: 213,  Keep: False\n",
      "Feature: Feature_90                     Rank: 171,  Keep: False\n",
      "Feature: Feature_91                     Rank: 64,  Keep: False\n",
      "Feature: Feature_92                     Rank: 33,  Keep: False\n",
      "Feature: Feature_93                     Rank: 190,  Keep: False\n",
      "Feature: Feature_94                     Rank: 246,  Keep: False\n",
      "Feature: Feature_95                     Rank: 421,  Keep: False\n",
      "Feature: Feature_96                     Rank: 129,  Keep: False\n",
      "Feature: Feature_97                     Rank: 181,  Keep: False\n",
      "Feature: Feature_98                     Rank: 485,  Keep: False\n",
      "Feature: Feature_99                     Rank: 252,  Keep: False\n",
      "Feature: Feature_100                    Rank: 265,  Keep: False\n",
      "Feature: Feature_101                    Rank: 72,  Keep: False\n",
      "Feature: Feature_102                    Rank: 418,  Keep: False\n",
      "Feature: Feature_103                    Rank: 30,  Keep: False\n",
      "Feature: Feature_104                    Rank: 1,  Keep: True\n",
      "Feature: Feature_105                    Rank: 407,  Keep: False\n",
      "Feature: Feature_106                    Rank: 309,  Keep: False\n",
      "Feature: Feature_107                    Rank: 305,  Keep: False\n",
      "Feature: Feature_108                    Rank: 228,  Keep: False\n",
      "Feature: Feature_109                    Rank: 224,  Keep: False\n",
      "Feature: Feature_114                    Rank: 150,  Keep: False\n",
      "Feature: Feature_115                    Rank: 422,  Keep: False\n",
      "Feature: Feature_116                    Rank: 100,  Keep: False\n",
      "Feature: Feature_117                    Rank: 196,  Keep: False\n",
      "Feature: Feature_118                    Rank: 105,  Keep: False\n",
      "Feature: Feature_119                    Rank: 273,  Keep: False\n",
      "Feature: Feature_120                    Rank: 412,  Keep: False\n",
      "Feature: Feature_121                    Rank: 156,  Keep: False\n",
      "Feature: Feature_122                    Rank: 28,  Keep: False\n",
      "Feature: Feature_123                    Rank: 12,  Keep: False\n",
      "Feature: Feature_124                    Rank: 66,  Keep: False\n",
      "Feature: Feature_125                    Rank: 26,  Keep: False\n",
      "Feature: Feature_126                    Rank: 2,  Keep: False\n",
      "Feature: Feature_127                    Rank: 19,  Keep: False\n",
      "Feature: Feature_128                    Rank: 13,  Keep: False\n",
      "Feature: Feature_129                    Rank: 118,  Keep: False\n",
      "Feature: Feature_130                    Rank: 2,  Keep: False\n",
      "Feature: Feature_131                    Rank: 1,  Keep: True\n",
      "Feature: Feature_132                    Rank: 117,  Keep: False\n",
      "Feature: Feature_133                    Rank: 89,  Keep: False\n",
      "Feature: Feature_134                    Rank: 119,  Keep: False\n",
      "Feature: Feature_135                    Rank: 325,  Keep: False\n",
      "Feature: Feature_136                    Rank: 133,  Keep: False\n",
      "Feature: Feature_137                    Rank: 378,  Keep: False\n",
      "Feature: Feature_138                    Rank: 205,  Keep: False\n",
      "Feature: Feature_139                    Rank: 149,  Keep: False\n",
      "Feature: Feature_140                    Rank: 196,  Keep: False\n",
      "Feature: Feature_141                    Rank: 374,  Keep: False\n",
      "Feature: Feature_142                    Rank: 485,  Keep: False\n",
      "Feature: Feature_143                    Rank: 355,  Keep: False\n",
      "Feature: Feature_144                    Rank: 156,  Keep: False\n",
      "Feature: Feature_145                    Rank: 163,  Keep: False\n",
      "Feature: Feature_146                    Rank: 153,  Keep: False\n",
      "Feature: Feature_147                    Rank: 20,  Keep: False\n",
      "Feature: Feature_148                    Rank: 79,  Keep: False\n",
      "Feature: Feature_149                    Rank: 275,  Keep: False\n",
      "Feature: Feature_150                    Rank: 485,  Keep: False\n",
      "Feature: Feature_151                    Rank: 258,  Keep: False\n",
      "Feature: Feature_152                    Rank: 327,  Keep: False\n",
      "Feature: Feature_153                    Rank: 29,  Keep: False\n",
      "Feature: Feature_154                    Rank: 100,  Keep: False\n",
      "Feature: Feature_155                    Rank: 389,  Keep: False\n",
      "Feature: Feature_156                    Rank: 139,  Keep: False\n",
      "Feature: Feature_157                    Rank: 196,  Keep: False\n",
      "Feature: Feature_160                    Rank: 126,  Keep: False\n",
      "Feature: Feature_161                    Rank: 78,  Keep: False\n",
      "Feature: Feature_162                    Rank: 126,  Keep: False\n",
      "Feature: Feature_163                    Rank: 335,  Keep: False\n",
      "Feature: Feature_164                    Rank: 145,  Keep: False\n",
      "Feature: Feature_165                    Rank: 337,  Keep: False\n",
      "Feature: Feature_166                    Rank: 369,  Keep: False\n",
      "Feature: Feature_167                    Rank: 382,  Keep: False\n",
      "Feature: Feature_168                    Rank: 405,  Keep: False\n",
      "Feature: Feature_169                    Rank: 267,  Keep: False\n",
      "Feature: Feature_170                    Rank: 288,  Keep: False\n",
      "Feature: Feature_171                    Rank: 178,  Keep: False\n",
      "Feature: Feature_172                    Rank: 239,  Keep: False\n",
      "Feature: Feature_173                    Rank: 137,  Keep: False\n",
      "Feature: Feature_174                    Rank: 215,  Keep: False\n",
      "Feature: Feature_175                    Rank: 107,  Keep: False\n",
      "Feature: Feature_176                    Rank: 58,  Keep: False\n",
      "Feature: Feature_177                    Rank: 304,  Keep: False\n",
      "Feature: Feature_178                    Rank: 273,  Keep: False\n",
      "Feature: Feature_179                    Rank: 485,  Keep: False\n",
      "Feature: Feature_180                    Rank: 485,  Keep: False\n",
      "Feature: Feature_181                    Rank: 7,  Keep: False\n",
      "Feature: Feature_182                    Rank: 186,  Keep: False\n",
      "Feature: Feature_183                    Rank: 38,  Keep: False\n",
      "Feature: Feature_184                    Rank: 11,  Keep: False\n",
      "Feature: Feature_185                    Rank: 249,  Keep: False\n",
      "Feature: Feature_186                    Rank: 387,  Keep: False\n",
      "Feature: Feature_187                    Rank: 485,  Keep: False\n",
      "Feature: Feature_188                    Rank: 120,  Keep: False\n",
      "Feature: Feature_189                    Rank: 113,  Keep: False\n",
      "Feature: Feature_190                    Rank: 485,  Keep: False\n",
      "Feature: Feature_191                    Rank: 485,  Keep: False\n",
      "Feature: Feature_192                    Rank: 485,  Keep: False\n",
      "Feature: Feature_193                    Rank: 485,  Keep: False\n",
      "Feature: Feature_194                    Rank: 485,  Keep: False\n",
      "Feature: Feature_195                    Rank: 485,  Keep: False\n",
      "Feature: Feature_196                    Rank: 62,  Keep: False\n",
      "Feature: Feature_197                    Rank: 341,  Keep: False\n",
      "Feature: Feature_198                    Rank: 91,  Keep: False\n",
      "Feature: Feature_199                    Rank: 335,  Keep: False\n",
      "Feature: Feature_200                    Rank: 193,  Keep: False\n",
      "Feature: Feature_201                    Rank: 9,  Keep: False\n",
      "Feature: Feature_202                    Rank: 343,  Keep: False\n",
      "Feature: Feature_203                    Rank: 190,  Keep: False\n",
      "Feature: Feature_204                    Rank: 97,  Keep: False\n",
      "Feature: Feature_205                    Rank: 297,  Keep: False\n",
      "Feature: Feature_206                    Rank: 1,  Keep: True\n",
      "Feature: Feature_207                    Rank: 485,  Keep: False\n",
      "Feature: Feature_208                    Rank: 81,  Keep: False\n",
      "Feature: Feature_209                    Rank: 267,  Keep: False\n",
      "Feature: Feature_210                    Rank: 485,  Keep: False\n",
      "Feature: Feature_211                    Rank: 172,  Keep: False\n",
      "Feature: Feature_212                    Rank: 330,  Keep: False\n",
      "Feature: Feature_213                    Rank: 332,  Keep: False\n",
      "Feature: Feature_214                    Rank: 1,  Keep: True\n",
      "Feature: Feature_215                    Rank: 307,  Keep: False\n",
      "Feature: Feature_216                    Rank: 311,  Keep: False\n",
      "Feature: Feature_217                    Rank: 160,  Keep: False\n",
      "Feature: Feature_218                    Rank: 325,  Keep: False\n",
      "Feature: Feature_219                    Rank: 208,  Keep: False\n",
      "Feature: Feature_220                    Rank: 386,  Keep: False\n",
      "Feature: Feature_222                    Rank: 372,  Keep: False\n",
      "Feature: Feature_223                    Rank: 384,  Keep: False\n",
      "Feature: Feature_224                    Rank: 321,  Keep: False\n",
      "Feature: Feature_225                    Rank: 357,  Keep: False\n",
      "Feature: Feature_226                    Rank: 180,  Keep: False\n",
      "Feature: Feature_227                    Rank: 485,  Keep: False\n",
      "Feature: Feature_228                    Rank: 86,  Keep: False\n",
      "Feature: Feature_229                    Rank: 303,  Keep: False\n",
      "Feature: Feature_230                    Rank: 485,  Keep: False\n",
      "Feature: Feature_231                    Rank: 485,  Keep: False\n",
      "Feature: Feature_232                    Rank: 485,  Keep: False\n",
      "Feature: Feature_233                    Rank: 485,  Keep: False\n",
      "Feature: Feature_234                    Rank: 485,  Keep: False\n",
      "Feature: Feature_235                    Rank: 485,  Keep: False\n",
      "Feature: Feature_236                    Rank: 485,  Keep: False\n",
      "Feature: Feature_237                    Rank: 485,  Keep: False\n",
      "Feature: Feature_238                    Rank: 485,  Keep: False\n",
      "Feature: Feature_239                    Rank: 370,  Keep: False\n",
      "Feature: Feature_240                    Rank: 189,  Keep: False\n",
      "Feature: Feature_241                    Rank: 485,  Keep: False\n",
      "Feature: Feature_242                    Rank: 485,  Keep: False\n",
      "Feature: Feature_243                    Rank: 485,  Keep: False\n",
      "Feature: Feature_244                    Rank: 485,  Keep: False\n",
      "Feature: Feature_249                    Rank: 265,  Keep: False\n",
      "Feature: Feature_250                    Rank: 420,  Keep: False\n",
      "Feature: Feature_251                    Rank: 70,  Keep: False\n",
      "Feature: Feature_252                    Rank: 372,  Keep: False\n",
      "Feature: Feature_253                    Rank: 109,  Keep: False\n",
      "Feature: Feature_254                    Rank: 199,  Keep: False\n",
      "Feature: Feature_255                    Rank: 294,  Keep: False\n",
      "Feature: Feature_256                    Rank: 348,  Keep: False\n",
      "Feature: Feature_257                    Rank: 485,  Keep: False\n",
      "Feature: Feature_258                    Rank: 485,  Keep: False\n",
      "Feature: Feature_259                    Rank: 485,  Keep: False\n",
      "Feature: Feature_260                    Rank: 485,  Keep: False\n",
      "Feature: Feature_261                    Rank: 485,  Keep: False\n",
      "Feature: Feature_262                    Rank: 485,  Keep: False\n",
      "Feature: Feature_263                    Rank: 485,  Keep: False\n",
      "Feature: Feature_264                    Rank: 485,  Keep: False\n",
      "Feature: Feature_265                    Rank: 485,  Keep: False\n",
      "Feature: Feature_266                    Rank: 485,  Keep: False\n",
      "Feature: Feature_267                    Rank: 485,  Keep: False\n",
      "Feature: Feature_268                    Rank: 167,  Keep: False\n",
      "Feature: Feature_269                    Rank: 317,  Keep: False\n",
      "Feature: Feature_270                    Rank: 278,  Keep: False\n",
      "Feature: Feature_271                    Rank: 48,  Keep: False\n",
      "Feature: Feature_272                    Rank: 283,  Keep: False\n",
      "Feature: Feature_273                    Rank: 222,  Keep: False\n",
      "Feature: Feature_274                    Rank: 235,  Keep: False\n",
      "Feature: Feature_275                    Rank: 279,  Keep: False\n",
      "Feature: Feature_276                    Rank: 214,  Keep: False\n",
      "Feature: Feature_277                    Rank: 485,  Keep: False\n",
      "Feature: Feature_278                    Rank: 379,  Keep: False\n",
      "Feature: Feature_279                    Rank: 404,  Keep: False\n",
      "Feature: Feature_280                    Rank: 98,  Keep: False\n",
      "Feature: Feature_281                    Rank: 82,  Keep: False\n",
      "Feature: Feature_282                    Rank: 14,  Keep: False\n",
      "Feature: Feature_283                    Rank: 121,  Keep: False\n",
      "Feature: Feature_284                    Rank: 362,  Keep: False\n",
      "Feature: Feature_285                    Rank: 485,  Keep: False\n",
      "Feature: Feature_286                    Rank: 248,  Keep: False\n",
      "Feature: Feature_287                    Rank: 173,  Keep: False\n",
      "Feature: Feature_288                    Rank: 27,  Keep: False\n",
      "Feature: Feature_289                    Rank: 129,  Keep: False\n",
      "Feature: Feature_290                    Rank: 381,  Keep: False\n",
      "Feature: Feature_291                    Rank: 35,  Keep: False\n",
      "Feature: Feature_292                    Rank: 216,  Keep: False\n",
      "Feature: Feature_295                    Rank: 60,  Keep: False\n",
      "Feature: Feature_296                    Rank: 24,  Keep: False\n",
      "Feature: Feature_297                    Rank: 200,  Keep: False\n",
      "Feature: Feature_298                    Rank: 246,  Keep: False\n",
      "Feature: Feature_299                    Rank: 61,  Keep: False\n",
      "Feature: Feature_300                    Rank: 256,  Keep: False\n",
      "Feature: Feature_301                    Rank: 402,  Keep: False\n",
      "Feature: Feature_302                    Rank: 200,  Keep: False\n",
      "Feature: Feature_303                    Rank: 362,  Keep: False\n",
      "Feature: Feature_304                    Rank: 302,  Keep: False\n",
      "Feature: Feature_305                    Rank: 309,  Keep: False\n",
      "Feature: Feature_306                    Rank: 359,  Keep: False\n",
      "Feature: Feature_307                    Rank: 252,  Keep: False\n",
      "Feature: Feature_308                    Rank: 56,  Keep: False\n",
      "Feature: Feature_309                    Rank: 288,  Keep: False\n",
      "Feature: Feature_310                    Rank: 89,  Keep: False\n",
      "Feature: Feature_311                    Rank: 55,  Keep: False\n",
      "Feature: Feature_312                    Rank: 208,  Keep: False\n",
      "Feature: Feature_313                    Rank: 240,  Keep: False\n",
      "Feature: Feature_314                    Rank: 485,  Keep: False\n",
      "Feature: Feature_315                    Rank: 485,  Keep: False\n",
      "Feature: Feature_316                    Rank: 485,  Keep: False\n",
      "Feature: Feature_317                    Rank: 7,  Keep: False\n",
      "Feature: Feature_318                    Rank: 113,  Keep: False\n",
      "Feature: Feature_319                    Rank: 107,  Keep: False\n",
      "Feature: Feature_320                    Rank: 6,  Keep: False\n",
      "Feature: Feature_321                    Rank: 271,  Keep: False\n",
      "Feature: Feature_322                    Rank: 240,  Keep: False\n",
      "Feature: Feature_323                    Rank: 485,  Keep: False\n",
      "Feature: Feature_324                    Rank: 75,  Keep: False\n",
      "Feature: Feature_325                    Rank: 169,  Keep: False\n",
      "Feature: Feature_326                    Rank: 485,  Keep: False\n",
      "Feature: Feature_327                    Rank: 485,  Keep: False\n",
      "Feature: Feature_328                    Rank: 485,  Keep: False\n",
      "Feature: Feature_329                    Rank: 485,  Keep: False\n",
      "Feature: Feature_330                    Rank: 485,  Keep: False\n",
      "Feature: Feature_331                    Rank: 485,  Keep: False\n",
      "Feature: Feature_332                    Rank: 49,  Keep: False\n",
      "Feature: Feature_333                    Rank: 353,  Keep: False\n",
      "Feature: Feature_334                    Rank: 69,  Keep: False\n",
      "Feature: Feature_335                    Rank: 295,  Keep: False\n",
      "Feature: Feature_336                    Rank: 269,  Keep: False\n",
      "Feature: Feature_337                    Rank: 32,  Keep: False\n",
      "Feature: Feature_338                    Rank: 414,  Keep: False\n",
      "Feature: Feature_339                    Rank: 219,  Keep: False\n",
      "Feature: Feature_340                    Rank: 227,  Keep: False\n",
      "Feature: Feature_341                    Rank: 367,  Keep: False\n",
      "Feature: Feature_342                    Rank: 3,  Keep: False\n",
      "Feature: Feature_343                    Rank: 485,  Keep: False\n",
      "Feature: Feature_344                    Rank: 167,  Keep: False\n",
      "Feature: Feature_345                    Rank: 175,  Keep: False\n",
      "Feature: Feature_348                    Rank: 485,  Keep: False\n",
      "Feature: Feature_349                    Rank: 43,  Keep: False\n",
      "Feature: Feature_350                    Rank: 237,  Keep: False\n",
      "Feature: Feature_351                    Rank: 391,  Keep: False\n",
      "Feature: Feature_352                    Rank: 1,  Keep: True\n",
      "Feature: Feature_353                    Rank: 183,  Keep: False\n",
      "Feature: Feature_354                    Rank: 229,  Keep: False\n",
      "Feature: Feature_355                    Rank: 319,  Keep: False\n",
      "Feature: Feature_356                    Rank: 162,  Keep: False\n",
      "Feature: Feature_357                    Rank: 218,  Keep: False\n",
      "Feature: Feature_358                    Rank: 399,  Keep: False\n",
      "Feature: Feature_360                    Rank: 407,  Keep: False\n",
      "Feature: Feature_361                    Rank: 365,  Keep: False\n",
      "Feature: Feature_362                    Rank: 308,  Keep: False\n",
      "Feature: Feature_363                    Rank: 374,  Keep: False\n",
      "Feature: Feature_364                    Rank: 352,  Keep: False\n",
      "Feature: Feature_365                    Rank: 485,  Keep: False\n",
      "Feature: Feature_366                    Rank: 122,  Keep: False\n",
      "Feature: Feature_367                    Rank: 367,  Keep: False\n",
      "Feature: Feature_368                    Rank: 416,  Keep: False\n",
      "Feature: Feature_369                    Rank: 342,  Keep: False\n",
      "Feature: Feature_370                    Rank: 485,  Keep: False\n",
      "Feature: Feature_371                    Rank: 485,  Keep: False\n",
      "Feature: Feature_372                    Rank: 485,  Keep: False\n",
      "Feature: Feature_373                    Rank: 485,  Keep: False\n",
      "Feature: Feature_374                    Rank: 485,  Keep: False\n",
      "Feature: Feature_375                    Rank: 485,  Keep: False\n",
      "Feature: Feature_376                    Rank: 485,  Keep: False\n",
      "Feature: Feature_377                    Rank: 377,  Keep: False\n",
      "Feature: Feature_378                    Rank: 20,  Keep: False\n",
      "Feature: Feature_379                    Rank: 485,  Keep: False\n",
      "Feature: Feature_380                    Rank: 485,  Keep: False\n",
      "Feature: Feature_381                    Rank: 485,  Keep: False\n",
      "Feature: Feature_382                    Rank: 485,  Keep: False\n",
      "Feature: Feature_387                    Rank: 392,  Keep: False\n",
      "Feature: Feature_388                    Rank: 423,  Keep: False\n",
      "Feature: Feature_389                    Rank: 122,  Keep: False\n",
      "Feature: Feature_390                    Rank: 409,  Keep: False\n",
      "Feature: Feature_391                    Rank: 49,  Keep: False\n",
      "Feature: Feature_392                    Rank: 249,  Keep: False\n",
      "Feature: Feature_393                    Rank: 349,  Keep: False\n",
      "Feature: Feature_394                    Rank: 211,  Keep: False\n",
      "Feature: Feature_395                    Rank: 485,  Keep: False\n",
      "Feature: Feature_396                    Rank: 485,  Keep: False\n",
      "Feature: Feature_397                    Rank: 485,  Keep: False\n",
      "Feature: Feature_398                    Rank: 485,  Keep: False\n",
      "Feature: Feature_399                    Rank: 485,  Keep: False\n",
      "Feature: Feature_400                    Rank: 485,  Keep: False\n",
      "Feature: Feature_401                    Rank: 485,  Keep: False\n",
      "Feature: Feature_402                    Rank: 485,  Keep: False\n",
      "Feature: Feature_403                    Rank: 485,  Keep: False\n",
      "Feature: Feature_404                    Rank: 485,  Keep: False\n",
      "Feature: Feature_405                    Rank: 485,  Keep: False\n",
      "Feature: Feature_406                    Rank: 68,  Keep: False\n",
      "Feature: Feature_407                    Rank: 179,  Keep: False\n",
      "Feature: Feature_408                    Rank: 295,  Keep: False\n",
      "Feature: Feature_409                    Rank: 95,  Keep: False\n",
      "Feature: Feature_410                    Rank: 285,  Keep: False\n",
      "Feature: Feature_411                    Rank: 243,  Keep: False\n",
      "Feature: Feature_412                    Rank: 161,  Keep: False\n",
      "Feature: Feature_413                    Rank: 262,  Keep: False\n",
      "Feature: Feature_414                    Rank: 333,  Keep: False\n",
      "Feature: Feature_415                    Rank: 485,  Keep: False\n",
      "Feature: Feature_416                    Rank: 399,  Keep: False\n",
      "Feature: Feature_417                    Rank: 125,  Keep: False\n",
      "Feature: Feature_418                    Rank: 45,  Keep: False\n",
      "Feature: Feature_419                    Rank: 397,  Keep: False\n",
      "Feature: Feature_420                    Rank: 293,  Keep: False\n",
      "Feature: Feature_421                    Rank: 79,  Keep: False\n",
      "Feature: Feature_422                    Rank: 338,  Keep: False\n",
      "Feature: Feature_423                    Rank: 485,  Keep: False\n",
      "Feature: Feature_424                    Rank: 17,  Keep: False\n",
      "Feature: Feature_425                    Rank: 234,  Keep: False\n",
      "Feature: Feature_426                    Rank: 35,  Keep: False\n",
      "Feature: Feature_427                    Rank: 111,  Keep: False\n",
      "Feature: Feature_428                    Rank: 405,  Keep: False\n",
      "Feature: Feature_429                    Rank: 40,  Keep: False\n",
      "Feature: Feature_430                    Rank: 187,  Keep: False\n",
      "Feature: Feature_431                    Rank: 77,  Keep: False\n",
      "Feature: Feature_432                    Rank: 34,  Keep: False\n",
      "Feature: Feature_433                    Rank: 188,  Keep: False\n",
      "Feature: Feature_434                    Rank: 102,  Keep: False\n",
      "Feature: Feature_435                    Rank: 277,  Keep: False\n",
      "Feature: Feature_436                    Rank: 217,  Keep: False\n",
      "Feature: Feature_437                    Rank: 345,  Keep: False\n",
      "Feature: Feature_438                    Rank: 329,  Keep: False\n",
      "Feature: Feature_439                    Rank: 419,  Keep: False\n",
      "Feature: Feature_440                    Rank: 290,  Keep: False\n",
      "Feature: Feature_441                    Rank: 226,  Keep: False\n",
      "Feature: Feature_442                    Rank: 185,  Keep: False\n",
      "Feature: Feature_443                    Rank: 314,  Keep: False\n",
      "Feature: Feature_444                    Rank: 71,  Keep: False\n",
      "Feature: Feature_445                    Rank: 290,  Keep: False\n",
      "Feature: Feature_446                    Rank: 116,  Keep: False\n",
      "Feature: Feature_447                    Rank: 76,  Keep: False\n",
      "Feature: Feature_448                    Rank: 210,  Keep: False\n",
      "Feature: Feature_449                    Rank: 384,  Keep: False\n",
      "Feature: Feature_450                    Rank: 485,  Keep: False\n",
      "Feature: Feature_451                    Rank: 485,  Keep: False\n",
      "Feature: Feature_452                    Rank: 485,  Keep: False\n",
      "Feature: Feature_453                    Rank: 10,  Keep: False\n",
      "Feature: Feature_454                    Rank: 165,  Keep: False\n",
      "Feature: Feature_455                    Rank: 89,  Keep: False\n",
      "Feature: Feature_456                    Rank: 16,  Keep: False\n",
      "Feature: Feature_457                    Rank: 207,  Keep: False\n",
      "Feature: Feature_458                    Rank: 412,  Keep: False\n",
      "Feature: Feature_459                    Rank: 485,  Keep: False\n",
      "Feature: Feature_460                    Rank: 135,  Keep: False\n",
      "Feature: Feature_461                    Rank: 54,  Keep: False\n",
      "Feature: Feature_462                    Rank: 485,  Keep: False\n",
      "Feature: Feature_463                    Rank: 485,  Keep: False\n",
      "Feature: Feature_464                    Rank: 485,  Keep: False\n",
      "Feature: Feature_465                    Rank: 485,  Keep: False\n",
      "Feature: Feature_466                    Rank: 485,  Keep: False\n",
      "Feature: Feature_467                    Rank: 485,  Keep: False\n",
      "Feature: Feature_468                    Rank: 104,  Keep: False\n",
      "Feature: Feature_469                    Rank: 64,  Keep: False\n",
      "Feature: Feature_470                    Rank: 45,  Keep: False\n",
      "Feature: Feature_471                    Rank: 387,  Keep: False\n",
      "Feature: Feature_472                    Rank: 299,  Keep: False\n",
      "Feature: Feature_473                    Rank: 339,  Keep: False\n",
      "Feature: Feature_474                    Rank: 319,  Keep: False\n",
      "Feature: Feature_475                    Rank: 223,  Keep: False\n",
      "Feature: Feature_476                    Rank: 84,  Keep: False\n",
      "Feature: Feature_477                    Rank: 305,  Keep: False\n",
      "Feature: Feature_478                    Rank: 1,  Keep: True\n",
      "Feature: Feature_479                    Rank: 485,  Keep: False\n",
      "Feature: Feature_480                    Rank: 74,  Keep: False\n",
      "Feature: Feature_481                    Rank: 151,  Keep: False\n",
      "Feature: Feature_482                    Rank: 485,  Keep: False\n",
      "Feature: Feature_483                    Rank: 395,  Keep: False\n",
      "Feature: Feature_484                    Rank: 313,  Keep: False\n",
      "Feature: Feature_485                    Rank: 159,  Keep: False\n",
      "Feature: Feature_486                    Rank: 282,  Keep: False\n",
      "Feature: Feature_487                    Rank: 177,  Keep: False\n",
      "Feature: Feature_488                    Rank: 254,  Keep: False\n",
      "Feature: Feature_489                    Rank: 15,  Keep: False\n",
      "Feature: Feature_490                    Rank: 128,  Keep: False\n",
      "Feature: Feature_491                    Rank: 158,  Keep: False\n",
      "Feature: Feature_492                    Rank: 364,  Keep: False\n",
      "Feature: Feature_494                    Rank: 382,  Keep: False\n",
      "Feature: Feature_495                    Rank: 314,  Keep: False\n",
      "Feature: Feature_496                    Rank: 261,  Keep: False\n",
      "Feature: Feature_497                    Rank: 285,  Keep: False\n",
      "Feature: Feature_498                    Rank: 225,  Keep: False\n",
      "Feature: Feature_499                    Rank: 485,  Keep: False\n",
      "Feature: Feature_500                    Rank: 181,  Keep: False\n",
      "Feature: Feature_501                    Rank: 271,  Keep: False\n",
      "Feature: Feature_502                    Rank: 485,  Keep: False\n",
      "Feature: Feature_503                    Rank: 485,  Keep: False\n",
      "Feature: Feature_504                    Rank: 485,  Keep: False\n",
      "Feature: Feature_505                    Rank: 485,  Keep: False\n",
      "Feature: Feature_506                    Rank: 485,  Keep: False\n",
      "Feature: Feature_507                    Rank: 485,  Keep: False\n",
      "Feature: Feature_508                    Rank: 485,  Keep: False\n",
      "Feature: Feature_509                    Rank: 485,  Keep: False\n",
      "Feature: Feature_510                    Rank: 485,  Keep: False\n",
      "Feature: Feature_511                    Rank: 1,  Keep: True\n",
      "Feature: Feature_512                    Rank: 59,  Keep: False\n",
      "Feature: Feature_513                    Rank: 485,  Keep: False\n",
      "Feature: Feature_514                    Rank: 485,  Keep: False\n",
      "Feature: Feature_515                    Rank: 485,  Keep: False\n",
      "Feature: Feature_516                    Rank: 485,  Keep: False\n",
      "Feature: Feature_521                    Rank: 370,  Keep: False\n",
      "Feature: Feature_522                    Rank: 424,  Keep: False\n",
      "Feature: Feature_523                    Rank: 82,  Keep: False\n",
      "Feature: Feature_524                    Rank: 152,  Keep: False\n",
      "Feature: Feature_525                    Rank: 141,  Keep: False\n",
      "Feature: Feature_526                    Rank: 258,  Keep: False\n",
      "Feature: Feature_527                    Rank: 219,  Keep: False\n",
      "Feature: Feature_528                    Rank: 347,  Keep: False\n",
      "Feature: Feature_529                    Rank: 485,  Keep: False\n",
      "Feature: Feature_530                    Rank: 485,  Keep: False\n",
      "Feature: Feature_531                    Rank: 485,  Keep: False\n",
      "Feature: Feature_532                    Rank: 485,  Keep: False\n",
      "Feature: Feature_533                    Rank: 485,  Keep: False\n",
      "Feature: Feature_534                    Rank: 485,  Keep: False\n",
      "Feature: Feature_535                    Rank: 485,  Keep: False\n",
      "Feature: Feature_536                    Rank: 485,  Keep: False\n",
      "Feature: Feature_537                    Rank: 485,  Keep: False\n",
      "Feature: Feature_538                    Rank: 485,  Keep: False\n",
      "Feature: Feature_539                    Rank: 485,  Keep: False\n",
      "Feature: Feature_540                    Rank: 110,  Keep: False\n",
      "Feature: Feature_541                    Rank: 256,  Keep: False\n",
      "Feature: Feature_542                    Rank: 276,  Keep: False\n",
      "Feature: Feature_543                    Rank: 292,  Keep: False\n",
      "Feature: Feature_544                    Rank: 396,  Keep: False\n",
      "Feature: Feature_545                    Rank: 417,  Keep: False\n",
      "Feature: Feature_546                    Rank: 402,  Keep: False\n",
      "Feature: Feature_547                    Rank: 331,  Keep: False\n",
      "Feature: Feature_548                    Rank: 42,  Keep: False\n",
      "Feature: Feature_549                    Rank: 389,  Keep: False\n",
      "Feature: Feature_550                    Rank: 196,  Keep: False\n",
      "Feature: Feature_551                    Rank: 344,  Keep: False\n",
      "Feature: Feature_552                    Rank: 281,  Keep: False\n",
      "Feature: Feature_553                    Rank: 231,  Keep: False\n",
      "Feature: Feature_554                    Rank: 380,  Keep: False\n",
      "Feature: Feature_555                    Rank: 327,  Keep: False\n",
      "Feature: Feature_556                    Rank: 359,  Keep: False\n",
      "Feature: Feature_557                    Rank: 301,  Keep: False\n",
      "Feature: Feature_558                    Rank: 323,  Keep: False\n",
      "Feature: Feature_559                    Rank: 410,  Keep: False\n",
      "Feature: Feature_560                    Rank: 183,  Keep: False\n",
      "Feature: Feature_561                    Rank: 147,  Keep: False\n",
      "Feature: Feature_562                    Rank: 100,  Keep: False\n",
      "Feature: Feature_563                    Rank: 44,  Keep: False\n",
      "Feature: Feature_564                    Rank: 40,  Keep: False\n",
      "Feature: Feature_565                    Rank: 367,  Keep: False\n",
      "Feature: Feature_566                    Rank: 415,  Keep: False\n",
      "Feature: Feature_567                    Rank: 393,  Keep: False\n",
      "Feature: Feature_568                    Rank: 376,  Keep: False\n",
      "Feature: Feature_569                    Rank: 402,  Keep: False\n",
      "Feature: Feature_570                    Rank: 324,  Keep: False\n",
      "Feature: Feature_571                    Rank: 299,  Keep: False\n",
      "Feature: Feature_572                    Rank: 113,  Keep: False\n",
      "Feature: Feature_573                    Rank: 206,  Keep: False\n",
      "Feature: Feature_574                    Rank: 47,  Keep: False\n",
      "Feature: Feature_575                    Rank: 133,  Keep: False\n",
      "Feature: Feature_576                    Rank: 173,  Keep: False\n",
      "Feature: Feature_577                    Rank: 280,  Keep: False\n",
      "Feature: Feature_578                    Rank: 18,  Keep: False\n",
      "Feature: Feature_583                    Rank: 165,  Keep: False\n",
      "Feature: Feature_584                    Rank: 311,  Keep: False\n",
      "Feature: Feature_585                    Rank: 297,  Keep: False\n",
      "Feature: Feature_586                    Rank: 319,  Keep: False\n",
      "Feature: Feature_587                    Rank: 361,  Keep: False\n",
      "Feature: Feature_588                    Rank: 37,  Keep: False\n",
      "Feature: Feature_589                    Rank: 113,  Keep: False\n",
      "Feature: Feature_590                    Rank: 339,  Keep: False\n",
      "['Feature_32', 'Feature_34', 'Feature_60', 'Feature_65', 'Feature_66', 'Feature_104', 'Feature_131', 'Feature_206', 'Feature_214', 'Feature_352', 'Feature_478', 'Feature_511']\n"
     ]
    }
   ],
   "source": [
    "from sklearn.feature_selection import RFE\n",
    "n_features_to_select = 15\n",
    "rfe = RFE(regressor, n_features_to_select=n_features_to_select)\n",
    "rfe.fit(X_train_knn, y_train)"
   ]
  },
  {
   "cell_type": "code",
   "execution_count": 1,
   "metadata": {
    "colab": {
     "base_uri": "https://localhost:8080/"
    },
    "executionInfo": {
     "elapsed": 18,
     "status": "ok",
     "timestamp": 1655309636029,
     "user": {
      "displayName": "Rashmi dsouza",
      "userId": "15818309019845571813"
     },
     "user_tz": -120
    },
    "id": "PmsoFTseNUXu",
    "outputId": "b50ef9a9-5a6c-46ba-fe0f-6606fa223b99"
   },
   "outputs": [
    {
     "ename": "NameError",
     "evalue": "name 'X_train_knn' is not defined",
     "output_type": "error",
     "traceback": [
      "\u001b[1;31m---------------------------------------------------------------------------\u001b[0m",
      "\u001b[1;31mNameError\u001b[0m                                 Traceback (most recent call last)",
      "\u001b[1;32mC:\\Users\\RASHMI~1\\AppData\\Local\\Temp/ipykernel_13568/3171047443.py\u001b[0m in \u001b[0;36m<module>\u001b[1;34m\u001b[0m\n\u001b[0;32m      1\u001b[0m \u001b[1;31m# creating a new dataframe using the above variables and adding the target variable\u001b[0m\u001b[1;33m\u001b[0m\u001b[1;33m\u001b[0m\u001b[0m\n\u001b[1;32m----> 2\u001b[1;33m \u001b[0mX_train_sfs\u001b[0m \u001b[1;33m=\u001b[0m \u001b[0mX_train_knn\u001b[0m\u001b[1;33m[\u001b[0m\u001b[0msfs_list\u001b[0m\u001b[1;33m]\u001b[0m\u001b[1;33m\u001b[0m\u001b[1;33m\u001b[0m\u001b[0m\n\u001b[0m",
      "\u001b[1;31mNameError\u001b[0m: name 'X_train_knn' is not defined"
     ]
    }
   ],
   "source": [
    "# creating a new dataframe using the above variables and adding the target variable\n",
    "X_train_sfs = X_train_knn[sfs_list]"
   ]
  },
  {
   "cell_type": "code",
   "execution_count": null,
   "metadata": {},
   "outputs": [],
   "source": [
    "from operator import itemgetter\n",
    "features = X_train_knn.columns.to_list()\n",
    "for x, y in (sorted(zip(rfe.ranking_ , features), key=itemgetter(0))):\n",
    "    print(x, y)"
   ]
  },
  {
   "cell_type": "code",
   "execution_count": null,
   "metadata": {
    "colab": {
     "base_uri": "https://localhost:8080/",
     "height": 543
    },
    "executionInfo": {
     "elapsed": 1030,
     "status": "ok",
     "timestamp": 1655309637055,
     "user": {
      "displayName": "Rashmi dsouza",
      "userId": "15818309019845571813"
     },
     "user_tz": -120
    },
    "id": "RNtav2AAa-hI",
    "outputId": "14a949c6-7c6d-4aef-f7eb-3a9f46984a75"
   },
   "outputs": [
    {
     "name": "stdout",
     "output_type": "stream",
     "text": [
      "              precision    recall  f1-score   support\n",
      "\n",
      "           0       0.00      0.00      0.00        21\n",
      "           1       0.93      1.00      0.97       293\n",
      "\n",
      "    accuracy                           0.93       314\n",
      "   macro avg       0.47      0.50      0.48       314\n",
      "weighted avg       0.87      0.93      0.90       314\n",
      "\n"
     ]
    },
    {
     "data": {
      "text/plain": [
       "(0.9331210191082803, 0.0)"
      ]
     },
     "execution_count": 73,
     "metadata": {},
     "output_type": "execute_result"
    },
    {
     "data": {
      "image/png": "[encoded data removed]",
      "text/plain": [
       "<Figure size 640x400 with 2 Axes>"
      ]
     },
     "metadata": {},
     "output_type": "display_data"
    }
   ],
   "source": [
    "rfc(X_train_sfs,X_test_sfs,y_train,6)"
   ]
  },
  {
   "cell_type": "code",
   "execution_count": null,
   "metadata": {
    "colab": {
     "base_uri": "https://localhost:8080/",
     "height": 774
    },
    "executionInfo": {
     "elapsed": 498,
     "status": "ok",
     "timestamp": 1655309637550,
     "user": {
      "displayName": "Rashmi dsouza",
      "userId": "15818309019845571813"
     },
     "user_tz": -120
    },
    "id": "1NIAKIy0dJ4e",
    "outputId": "99379fd2-ebb7-4427-ca0c-96ce1c1def89"
   },
   "outputs": [
    {
     "data": {
      "image/png": "[encoded data removed]",
      "text/plain": [
       "<Figure size 400x400 with 1 Axes>"
      ]
     },
     "metadata": {},
     "output_type": "display_data"
    },
    {
     "data": {
      "text/plain": [
       "(0.7484076433121017, 0.2126015434221779)"
      ]
     },
     "execution_count": 74,
     "metadata": {},
     "output_type": "execute_result"
    },
    {
     "data": {
      "image/png": "[encoded data removed]",
      "text/plain": [
       "<Figure size 400x400 with 1 Axes>"
      ]
     },
     "metadata": {},
     "output_type": "display_data"
    }
   ],
   "source": [
    "evaluate(X_train_sfs,X_test_sfs,y_train,y_test)"
   ]
  },
  {
   "cell_type": "code",
   "execution_count": null,
   "metadata": {
    "colab": {
     "base_uri": "https://localhost:8080/",
     "height": 973
    },
    "executionInfo": {
     "elapsed": 1463,
     "status": "ok",
     "timestamp": 1655309639011,
     "user": {
      "displayName": "Rashmi dsouza",
      "userId": "15818309019845571813"
     },
     "user_tz": -120
    },
    "id": "DZAHEL6vefF3",
    "outputId": "b9ae868d-41e7-4918-ae44-b7eae964e9dc"
   },
   "outputs": [
    {
     "data": {
      "text/plain": [
       "Text(0.5, 1.0, 'Heatmap for the Data')"
      ]
     },
     "execution_count": 75,
     "metadata": {},
     "output_type": "execute_result"
    },
    {
     "data": {
      "image/png": "[encoded data removed]",
      "text/plain": [
       "<Figure size 1080x1080 with 2 Axes>"
      ]
     },
     "metadata": {},
     "output_type": "display_data"
    }
   ],
   "source": [
    "import seaborn as sns\n",
    "# Heatmap for correlation\n",
    "plt.rcParams['figure.figsize'] = (15,15)\n",
    "sns.heatmap(X_train_sfs.corr(),cmap=\"YlOrRd\",annot=True)\n",
    "plt.title('Heatmap for the Data', fontsize = 50)"
   ]
  },
  {
   "cell_type": "markdown",
   "metadata": {
    "id": "ofroiNbewG0e"
   },
   "source": [
    "## Balancing usnig SMOTE"
   ]
  },
  {
   "cell_type": "code",
   "execution_count": null,
   "metadata": {
    "id": "2qPNMFGlwI21"
   },
   "outputs": [],
   "source": [
    "import numpy as np\n",
    "from imblearn.over_sampling import SMOTE, ADASYN, RandomOverSampler\n",
    "from imblearn.under_sampling import RandomUnderSampler\n",
    "from sklearn.decomposition import PCA"
   ]
  },
  {
   "cell_type": "code",
   "execution_count": null,
   "metadata": {
    "id": "EX4ZPMsHwnap"
   },
   "outputs": [],
   "source": [
    "# Sampling technique\n",
    "\n",
    "def Sampling(X_train, y_train, sampler):\n",
    "\n",
    "    #SMOTE\n",
    "    if sampler == 'SMOTE':\n",
    "        sampler = SMOTE(random_state=100)    \n",
    "    \n",
    "\n",
    "    #SMOTTEENN\n",
    "    if sampler == 'SMOTEENN' :\n",
    "        sampler = SMOTEENN(random_state=100)\n",
    "        \n",
    "\n",
    "    X_resampled, y_resampled = sampler.fit_resample(X_train, y_train)\n",
    "    counter = Counter(y_resampled)\n",
    "    print(counter)\n",
    "    return X_resampled, y_resampled"
   ]
  },
  {
   "cell_type": "code",
   "execution_count": null,
   "metadata": {
    "colab": {
     "base_uri": "https://localhost:8080/"
    },
    "executionInfo": {
     "elapsed": 250,
     "status": "ok",
     "timestamp": 1655320093399,
     "user": {
      "displayName": "Rashmi dsouza",
      "userId": "15818309019845571813"
     },
     "user_tz": -120
    },
    "id": "w6e27h2Zw3Ux",
    "outputId": "b6b642f6-8133-4f84-f45a-ea5dd6ae1406"
   },
   "outputs": [
    {
     "name": "stdout",
     "output_type": "stream",
     "text": [
      "Counter({'Classification': 1})\n"
     ]
    }
   ],
   "source": [
    "# Imbalance treatment\n",
    "from collections import Counter\n",
    "X_smote, y_smote = Sampling(X_train_sfs, y_train,'SMOTE')"
   ]
  },
  {
   "cell_type": "code",
   "execution_count": null,
   "metadata": {
    "colab": {
     "base_uri": "https://localhost:8080/",
     "height": 560
    },
    "executionInfo": {
     "elapsed": 1129,
     "status": "ok",
     "timestamp": 1655320891626,
     "user": {
      "displayName": "Rashmi dsouza",
      "userId": "15818309019845571813"
     },
     "user_tz": -120
    },
    "id": "mzZpY-8Xz8Yg",
    "outputId": "62169bb3-b672-4491-8405-9d3594d0c335"
   },
   "outputs": [
    {
     "name": "stdout",
     "output_type": "stream",
     "text": [
      "              precision    recall  f1-score   support\n",
      "\n",
      "           0       0.12      0.48      0.19        21\n",
      "           1       0.95      0.75      0.84       293\n",
      "\n",
      "    accuracy                           0.73       314\n",
      "   macro avg       0.54      0.61      0.51       314\n",
      "weighted avg       0.90      0.73      0.79       314\n",
      "\n",
      "Test Accuracy Score 0.7292993630573248\n"
     ]
    },
    {
     "data": {
      "text/plain": [
       "(0.7292993630573248, 0.12620350463715133)"
      ]
     },
     "execution_count": 94,
     "metadata": {},
     "output_type": "execute_result"
    },
    {
     "data": {
      "image/png": "[encoded data removed]",
      "text/plain": [
       "<Figure size 640x400 with 2 Axes>"
      ]
     },
     "metadata": {},
     "output_type": "display_data"
    }
   ],
   "source": [
    "rfc(X_smote,X_test_sfs,y_smote,6)"
   ]
  },
  {
   "cell_type": "code",
   "execution_count": null,
   "metadata": {
    "colab": {
     "base_uri": "https://localhost:8080/",
     "height": 774
    },
    "executionInfo": {
     "elapsed": 907,
     "status": "ok",
     "timestamp": 1655321027748,
     "user": {
      "displayName": "Rashmi dsouza",
      "userId": "15818309019845571813"
     },
     "user_tz": -120
    },
    "id": "GAbWlDUk0izq",
    "outputId": "4154ff29-0ac6-49b2-f92b-2035d7fe3a4a"
   },
   "outputs": [
    {
     "data": {
      "image/png": "[encoded data removed]",
      "text/plain": [
       "<Figure size 400x400 with 1 Axes>"
      ]
     },
     "metadata": {},
     "output_type": "display_data"
    },
    {
     "data": {
      "text/plain": [
       "(0.7229299363057324, 0.1686191386563218)"
      ]
     },
     "execution_count": 95,
     "metadata": {},
     "output_type": "execute_result"
    },
    {
     "data": {
      "image/png": "[encoded data removed]",
      "text/plain": [
       "<Figure size 400x400 with 1 Axes>"
      ]
     },
     "metadata": {},
     "output_type": "display_data"
    }
   ],
   "source": [
    "evaluate(X_smote,X_test_sfs,y_smote,y_test)"
   ]
  },
  {
   "cell_type": "markdown",
   "metadata": {
    "id": "KPtprJnf0p71"
   },
   "source": [
    "## Smoteenn"
   ]
  },
  {
   "cell_type": "code",
   "execution_count": null,
   "metadata": {
    "colab": {
     "base_uri": "https://localhost:8080/"
    },
    "executionInfo": {
     "elapsed": 312,
     "status": "ok",
     "timestamp": 1655321227976,
     "user": {
      "displayName": "Rashmi dsouza",
      "userId": "15818309019845571813"
     },
     "user_tz": -120
    },
    "id": "L4kqoXzd0oyv",
    "outputId": "eb370b80-0d1a-4787-9f67-3459d5c2109a"
   },
   "outputs": [
    {
     "name": "stdout",
     "output_type": "stream",
     "text": [
      "Counter({'Classification': 1})\n"
     ]
    }
   ],
   "source": [
    "# Imbalance treatment\n",
    "from imblearn.combine import SMOTEENN\n",
    "X_smoteenn, y_smoteenn = Sampling(X_train_sfs, y_train,'SMOTEENN')"
   ]
  },
  {
   "cell_type": "code",
   "execution_count": null,
   "metadata": {
    "colab": {
     "base_uri": "https://localhost:8080/",
     "height": 560
    },
    "executionInfo": {
     "elapsed": 1897,
     "status": "ok",
     "timestamp": 1655321234956,
     "user": {
      "displayName": "Rashmi dsouza",
      "userId": "15818309019845571813"
     },
     "user_tz": -120
    },
    "id": "ynKZksCD1Uv7",
    "outputId": "c9fdc395-abfe-44be-ada8-aeab202c1a21"
   },
   "outputs": [
    {
     "name": "stdout",
     "output_type": "stream",
     "text": [
      "              precision    recall  f1-score   support\n",
      "\n",
      "           0       0.11      0.52      0.18        21\n",
      "           1       0.95      0.70      0.81       293\n",
      "\n",
      "    accuracy                           0.69       314\n",
      "   macro avg       0.53      0.61      0.50       314\n",
      "weighted avg       0.90      0.69      0.77       314\n",
      "\n",
      "Test Accuracy Score 0.6910828025477707\n"
     ]
    },
    {
     "data": {
      "text/plain": [
       "(0.6910828025477707, 0.12232128854230656)"
      ]
     },
     "execution_count": 101,
     "metadata": {},
     "output_type": "execute_result"
    },
    {
     "data": {
      "image/png": "[encoded data removed]",
      "text/plain": [
       "<Figure size 640x400 with 2 Axes>"
      ]
     },
     "metadata": {},
     "output_type": "display_data"
    }
   ],
   "source": [
    "rfc(X_smoteenn,X_test_sfs,y_smoteenn,6)"
   ]
  },
  {
   "cell_type": "code",
   "execution_count": null,
   "metadata": {
    "colab": {
     "base_uri": "https://localhost:8080/",
     "height": 774
    },
    "executionInfo": {
     "elapsed": 1475,
     "status": "ok",
     "timestamp": 1655321280101,
     "user": {
      "displayName": "Rashmi dsouza",
      "userId": "15818309019845571813"
     },
     "user_tz": -120
    },
    "id": "RvoRRYAU1hf4",
    "outputId": "9d8d63cf-13e2-4094-a04e-bd597dc5251b"
   },
   "outputs": [
    {
     "data": {
      "image/png": "[encoded data removed]",
      "text/plain": [
       "<Figure size 400x400 with 1 Axes>"
      ]
     },
     "metadata": {},
     "output_type": "display_data"
    },
    {
     "data": {
      "text/plain": [
       "(0.7452229299363057, 0.2098893166666864)"
      ]
     },
     "execution_count": 102,
     "metadata": {},
     "output_type": "execute_result"
    },
    {
     "data": {
      "image/png": "[encoded data removed]",
      "text/plain": [
       "<Figure size 400x400 with 1 Axes>"
      ]
     },
     "metadata": {},
     "output_type": "display_data"
    }
   ],
   "source": [
    "evaluate(X_smoteenn,X_test_boruta,y_smoteenn,y_test)"
   ]
  }
 ],
 "metadata": {
  "colab": {
   "collapsed_sections": [],
   "name": "knn - boruta.ipynb",
   "provenance": []
  },
  "kernelspec": {
   "display_name": "Python 3 (ipykernel)",
   "language": "python",
   "name": "python3"
  },
  "language_info": {
   "codemirror_mode": {
    "name": "ipython",
    "version": 3
   },
   "file_extension": ".py",
   "mimetype": "text/x-python",
   "name": "python",
   "nbconvert_exporter": "python",
   "pygments_lexer": "ipython3",
   "version": "3.9.7"
  }
 },
 "nbformat": 4,
 "nbformat_minor": 1
}
