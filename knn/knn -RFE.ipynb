{
 "cells": [
  {
   "cell_type": "markdown",
   "metadata": {
    "id": "s8CoiNMU1IQ8"
   },
   "source": [
    "#### Importing packages"
   ]
  },
  {
   "cell_type": "code",
   "execution_count": 1,
   "metadata": {
    "id": "VNPgCs7b1Jso"
   },
   "outputs": [],
   "source": [
    "import pandas as pd\n",
    "import seaborn as sns\n",
    "import numpy as np\n",
    "import matplotlib.pyplot as plt\n",
    "from sklearn.model_selection import train_test_split\n",
    "from sklearn.neighbors import KNeighborsClassifier\n",
    "import plotly as py\n",
    "import plotly.express as px\n",
    "import missingno as msno\n",
    "from sklearn.impute import KNNImputer\n",
    "from sklearn.preprocessing import StandardScaler\n",
    "from sklearn.ensemble import RandomForestClassifier\n",
    "from sklearn.metrics import confusion_matrix\n",
    "from sklearn.metrics import classification_report\n",
    "from sklearn.metrics import plot_roc_curve\n",
    "from sklearn.metrics import accuracy_score\n",
    "# to avoid warnings\n",
    "import warnings\n",
    "warnings.filterwarnings('ignore')\n",
    "warnings.warn(\"this will not show\")"
   ]
  },
  {
   "cell_type": "markdown",
   "metadata": {
    "id": "za0s4Egl1QU5"
   },
   "source": [
    "#### Functions"
   ]
  },
  {
   "cell_type": "code",
   "execution_count": 2,
   "metadata": {
    "id": "RlMVRmdS1R0l"
   },
   "outputs": [],
   "source": [
    "# Function to remove missing values above a given threshold\n",
    "def missing_remove(dataframe, threshold):\n",
    "    columns = dataframe.columns[(dataframe.isna().sum()/dataframe.shape[1])>threshold].tolist()\n",
    "    print(f\"# Features deleted with more than {threshold} % missing values\", len(columns))\n",
    "    return dataframe.drop(columns, axis=1,inplace=True)"
   ]
  },
  {
   "cell_type": "code",
   "execution_count": 3,
   "metadata": {
    "id": "i62Cd7qc1LeI"
   },
   "outputs": [],
   "source": [
    "# Function to remove features with unique values\n",
    "def unique_remove(dataframe):\n",
    "    unique_features = []\n",
    "    for col in dataframe.columns:\n",
    "        if(dataframe[col].unique().size == 2):\n",
    "            if(len(unique_features) == 0):\n",
    "                unique_features =  dataframe[col]\n",
    "            else:\n",
    "                 unique_features = pd.concat([unique_features, dataframe[col]], axis=1)\n",
    "            dataframe.drop(col, axis=1, inplace=True)"
   ]
  },
  {
   "cell_type": "code",
   "execution_count": 4,
   "metadata": {
    "id": "j_OUWkYC1WQD"
   },
   "outputs": [],
   "source": [
    "# Function to remove outlier\n",
    "def outlier_detection_zcore(dataframe):\n",
    "    data_mean, data_std  = dataframe.mean(), dataframe.std()\n",
    "    data_z_scores = ((dataframe - data_mean) / data_std).abs()\n",
    "    m = data_z_scores > 3\n",
    "    dataframe = dataframe.mask(m,inplace=True)\n",
    "    return dataframe"
   ]
  },
  {
   "cell_type": "code",
   "execution_count": 5,
   "metadata": {
    "id": "ICLy3MkK4OTH"
   },
   "outputs": [],
   "source": [
    "def rfc(X_train_rfc,X_test_rfc,y_train,max_depth):\n",
    "  from matplotlib.pyplot import figure\n",
    "  figure(figsize=(8, 5), dpi=80)\n",
    "  model = RandomForestClassifier(n_estimators=100, criterion='entropy', max_depth=max_depth)\n",
    "  model.fit(X_train_rfc, y_train)\n",
    "  y_pred = model.predict(X_test_rfc)\n",
    "  sns.heatmap(confusion_matrix(y_test, y_pred), annot=True, fmt=\"d\",yticklabels = ['Act. Fail', 'Act. Pass'], xticklabels = ['Pred. Fail' , 'Pred. Pass'])\n",
    "  print(classification_report(y_test, y_pred))\n",
    "  ax = plt.gca()\n",
    "  plot = plot_roc_curve(model, X_test_rfc, y_test, ax=ax, alpha=0.8)\n",
    "  print(\"Test Accuracy Score\", accuracy_score(y_test, y_pred))\n",
    "  f1score = f1_score(y_test, y_pred, average='micro')\n",
    "  mccscore=matthews_corrcoef(y_test, y_pred)\n",
    "  return f1score, mccscore"
   ]
  },
  {
   "cell_type": "code",
   "execution_count": 6,
   "metadata": {
    "id": "CWlgaZXXafAh"
   },
   "outputs": [],
   "source": [
    "from sklearn.linear_model import LogisticRegression\n",
    "from sklearn.metrics import f1_score, matthews_corrcoef\n",
    "from yellowbrick.classifier import ConfusionMatrix, ClassPredictionError\n",
    "def evaluate(train_df, test_df, train_target, test_target):\n",
    "    \n",
    "    scaler = StandardScaler()\n",
    "    scaler.fit(train_df)\n",
    "    train_std = pd.DataFrame(scaler.transform(train_df), columns=train_df.columns)\n",
    "    test_std = pd.DataFrame(scaler.transform(test_df), columns=test_df.columns)\n",
    "    \n",
    "    logreg = LogisticRegression(random_state = 42, class_weight='balanced', C=200, dual=False, solver='liblinear')\n",
    "    logreg.fit(train_std, train_target.values.ravel())\n",
    "    \n",
    "    y_pred = logreg.predict(test_std)\n",
    "    y_true = test_target.values.ravel()\n",
    "    f1score = f1_score(y_true, y_pred, average='micro')\n",
    "    mccscore=matthews_corrcoef(y_true, y_pred)\n",
    "    \n",
    "   \n",
    "    cm = ConfusionMatrix(logreg, classes=['Fail', 'Pass'], cmap=\"YlGn\", size=(400,400))\n",
    "    cm.score(test_std, y_true)\n",
    "    cm.show()\n",
    "    from matplotlib.pyplot import figure\n",
    "    figure(figsize=(5, 5), dpi=80)\n",
    "    ax = plt.gca()\n",
    "    plot = plot_roc_curve(logreg, test_df, test_target, ax=ax, alpha=0.8)\n",
    "    \n",
    "    return f1score, mccscore"
   ]
  },
  {
   "cell_type": "markdown",
   "metadata": {
    "id": "QYimj7lt1efy"
   },
   "source": [
    "#### Importing and basic cleaning"
   ]
  },
  {
   "cell_type": "code",
   "execution_count": 7,
   "metadata": {
    "id": "LbJIxqWC1hBn"
   },
   "outputs": [],
   "source": [
    "# Importing data from internet in runtime\n",
    "data_url=\"https://archive.ics.uci.edu/ml/machine-learning-databases/secom/secom.data\""
   ]
  },
  {
   "cell_type": "code",
   "execution_count": 8,
   "metadata": {
    "id": "vLONGBRz1iz7"
   },
   "outputs": [],
   "source": [
    "# Assigning data to a pandas dataframe\n",
    "secom_data = pd.read_csv(data_url,sep=' ',header=None)"
   ]
  },
  {
   "cell_type": "code",
   "execution_count": 9,
   "metadata": {
    "colab": {
     "base_uri": "https://localhost:8080/",
     "height": 300
    },
    "executionInfo": {
     "elapsed": 8,
     "status": "ok",
     "timestamp": 1655309525973,
     "user": {
      "displayName": "Rashmi dsouza",
      "userId": "15818309019845571813"
     },
     "user_tz": -120
    },
    "id": "mJ-CpITl1lJG",
    "outputId": "578b5d46-8e7b-4edb-eed8-84693f2dd74c"
   },
   "outputs": [
    {
     "data": {
      "text/html": [
       "<div>\n",
       "<style scoped>\n",
       "    .dataframe tbody tr th:only-of-type {\n",
       "        vertical-align: middle;\n",
       "    }\n",
       "\n",
       "    .dataframe tbody tr th {\n",
       "        vertical-align: top;\n",
       "    }\n",
       "\n",
       "    .dataframe thead th {\n",
       "        text-align: right;\n",
       "    }\n",
       "</style>\n",
       "<table border=\"1\" class=\"dataframe\">\n",
       "  <thead>\n",
       "    <tr style=\"text-align: right;\">\n",
       "      <th></th>\n",
       "      <th>Feature_1</th>\n",
       "      <th>Feature_2</th>\n",
       "      <th>Feature_3</th>\n",
       "      <th>Feature_4</th>\n",
       "      <th>Feature_5</th>\n",
       "      <th>Feature_6</th>\n",
       "      <th>Feature_7</th>\n",
       "      <th>Feature_8</th>\n",
       "      <th>Feature_9</th>\n",
       "      <th>Feature_10</th>\n",
       "      <th>...</th>\n",
       "      <th>Feature_581</th>\n",
       "      <th>Feature_582</th>\n",
       "      <th>Feature_583</th>\n",
       "      <th>Feature_584</th>\n",
       "      <th>Feature_585</th>\n",
       "      <th>Feature_586</th>\n",
       "      <th>Feature_587</th>\n",
       "      <th>Feature_588</th>\n",
       "      <th>Feature_589</th>\n",
       "      <th>Feature_590</th>\n",
       "    </tr>\n",
       "  </thead>\n",
       "  <tbody>\n",
       "    <tr>\n",
       "      <th>0</th>\n",
       "      <td>3030.93</td>\n",
       "      <td>2564.00</td>\n",
       "      <td>2187.7333</td>\n",
       "      <td>1411.1265</td>\n",
       "      <td>1.3602</td>\n",
       "      <td>100.0</td>\n",
       "      <td>97.6133</td>\n",
       "      <td>0.1242</td>\n",
       "      <td>1.5005</td>\n",
       "      <td>0.0162</td>\n",
       "      <td>...</td>\n",
       "      <td>NaN</td>\n",
       "      <td>NaN</td>\n",
       "      <td>0.5005</td>\n",
       "      <td>0.0118</td>\n",
       "      <td>0.0035</td>\n",
       "      <td>2.3630</td>\n",
       "      <td>NaN</td>\n",
       "      <td>NaN</td>\n",
       "      <td>NaN</td>\n",
       "      <td>NaN</td>\n",
       "    </tr>\n",
       "    <tr>\n",
       "      <th>1</th>\n",
       "      <td>3095.78</td>\n",
       "      <td>2465.14</td>\n",
       "      <td>2230.4222</td>\n",
       "      <td>1463.6606</td>\n",
       "      <td>0.8294</td>\n",
       "      <td>100.0</td>\n",
       "      <td>102.3433</td>\n",
       "      <td>0.1247</td>\n",
       "      <td>1.4966</td>\n",
       "      <td>-0.0005</td>\n",
       "      <td>...</td>\n",
       "      <td>0.0060</td>\n",
       "      <td>208.2045</td>\n",
       "      <td>0.5019</td>\n",
       "      <td>0.0223</td>\n",
       "      <td>0.0055</td>\n",
       "      <td>4.4447</td>\n",
       "      <td>0.0096</td>\n",
       "      <td>0.0201</td>\n",
       "      <td>0.0060</td>\n",
       "      <td>208.2045</td>\n",
       "    </tr>\n",
       "    <tr>\n",
       "      <th>2</th>\n",
       "      <td>2932.61</td>\n",
       "      <td>2559.94</td>\n",
       "      <td>2186.4111</td>\n",
       "      <td>1698.0172</td>\n",
       "      <td>1.5102</td>\n",
       "      <td>100.0</td>\n",
       "      <td>95.4878</td>\n",
       "      <td>0.1241</td>\n",
       "      <td>1.4436</td>\n",
       "      <td>0.0041</td>\n",
       "      <td>...</td>\n",
       "      <td>0.0148</td>\n",
       "      <td>82.8602</td>\n",
       "      <td>0.4958</td>\n",
       "      <td>0.0157</td>\n",
       "      <td>0.0039</td>\n",
       "      <td>3.1745</td>\n",
       "      <td>0.0584</td>\n",
       "      <td>0.0484</td>\n",
       "      <td>0.0148</td>\n",
       "      <td>82.8602</td>\n",
       "    </tr>\n",
       "    <tr>\n",
       "      <th>3</th>\n",
       "      <td>2988.72</td>\n",
       "      <td>2479.90</td>\n",
       "      <td>2199.0333</td>\n",
       "      <td>909.7926</td>\n",
       "      <td>1.3204</td>\n",
       "      <td>100.0</td>\n",
       "      <td>104.2367</td>\n",
       "      <td>0.1217</td>\n",
       "      <td>1.4882</td>\n",
       "      <td>-0.0124</td>\n",
       "      <td>...</td>\n",
       "      <td>0.0044</td>\n",
       "      <td>73.8432</td>\n",
       "      <td>0.4990</td>\n",
       "      <td>0.0103</td>\n",
       "      <td>0.0025</td>\n",
       "      <td>2.0544</td>\n",
       "      <td>0.0202</td>\n",
       "      <td>0.0149</td>\n",
       "      <td>0.0044</td>\n",
       "      <td>73.8432</td>\n",
       "    </tr>\n",
       "    <tr>\n",
       "      <th>4</th>\n",
       "      <td>3032.24</td>\n",
       "      <td>2502.87</td>\n",
       "      <td>2233.3667</td>\n",
       "      <td>1326.5200</td>\n",
       "      <td>1.5334</td>\n",
       "      <td>100.0</td>\n",
       "      <td>100.3967</td>\n",
       "      <td>0.1235</td>\n",
       "      <td>1.5031</td>\n",
       "      <td>-0.0031</td>\n",
       "      <td>...</td>\n",
       "      <td>NaN</td>\n",
       "      <td>NaN</td>\n",
       "      <td>0.4800</td>\n",
       "      <td>0.4766</td>\n",
       "      <td>0.1045</td>\n",
       "      <td>99.3032</td>\n",
       "      <td>0.0202</td>\n",
       "      <td>0.0149</td>\n",
       "      <td>0.0044</td>\n",
       "      <td>73.8432</td>\n",
       "    </tr>\n",
       "  </tbody>\n",
       "</table>\n",
       "<p>5 rows × 590 columns</p>\n",
       "</div>"
      ],
      "text/plain": [
       "   Feature_1  Feature_2  Feature_3  Feature_4  Feature_5  Feature_6  \\\n",
       "0    3030.93    2564.00  2187.7333  1411.1265     1.3602      100.0   \n",
       "1    3095.78    2465.14  2230.4222  1463.6606     0.8294      100.0   \n",
       "2    2932.61    2559.94  2186.4111  1698.0172     1.5102      100.0   \n",
       "3    2988.72    2479.90  2199.0333   909.7926     1.3204      100.0   \n",
       "4    3032.24    2502.87  2233.3667  1326.5200     1.5334      100.0   \n",
       "\n",
       "   Feature_7  Feature_8  Feature_9  Feature_10  ...  Feature_581  Feature_582  \\\n",
       "0    97.6133     0.1242     1.5005      0.0162  ...          NaN          NaN   \n",
       "1   102.3433     0.1247     1.4966     -0.0005  ...       0.0060     208.2045   \n",
       "2    95.4878     0.1241     1.4436      0.0041  ...       0.0148      82.8602   \n",
       "3   104.2367     0.1217     1.4882     -0.0124  ...       0.0044      73.8432   \n",
       "4   100.3967     0.1235     1.5031     -0.0031  ...          NaN          NaN   \n",
       "\n",
       "   Feature_583  Feature_584  Feature_585  Feature_586  Feature_587  \\\n",
       "0       0.5005       0.0118       0.0035       2.3630          NaN   \n",
       "1       0.5019       0.0223       0.0055       4.4447       0.0096   \n",
       "2       0.4958       0.0157       0.0039       3.1745       0.0584   \n",
       "3       0.4990       0.0103       0.0025       2.0544       0.0202   \n",
       "4       0.4800       0.4766       0.1045      99.3032       0.0202   \n",
       "\n",
       "   Feature_588  Feature_589  Feature_590  \n",
       "0          NaN          NaN          NaN  \n",
       "1       0.0201       0.0060     208.2045  \n",
       "2       0.0484       0.0148      82.8602  \n",
       "3       0.0149       0.0044      73.8432  \n",
       "4       0.0149       0.0044      73.8432  \n",
       "\n",
       "[5 rows x 590 columns]"
      ]
     },
     "execution_count": 9,
     "metadata": {},
     "output_type": "execute_result"
    }
   ],
   "source": [
    "# Renaming the columns \n",
    "secom_data.columns = [\"Feature_\"+str(column+1) for column in range(len(secom_data.columns))]\n",
    "secom_data.head()"
   ]
  },
  {
   "cell_type": "code",
   "execution_count": 10,
   "metadata": {
    "id": "1m82GHOT1msU"
   },
   "outputs": [],
   "source": [
    "# Importing target data from internet in runtime\n",
    "label_url=\"https://archive.ics.uci.edu/ml/machine-learning-databases/secom/secom_labels.data\""
   ]
  },
  {
   "cell_type": "code",
   "execution_count": 11,
   "metadata": {
    "id": "MXNuzPJe1sNk"
   },
   "outputs": [],
   "source": [
    "# Assigning target data to a pandas dataframe\n",
    "secom_labels = pd.read_csv(label_url, sep = \" \",header=None)"
   ]
  },
  {
   "cell_type": "code",
   "execution_count": 12,
   "metadata": {
    "id": "RqtL5guL1tz7"
   },
   "outputs": [],
   "source": [
    "# Renaming the columns \n",
    "secom_labels.columns = [\"Classification\",\"Timestamp\"]"
   ]
  },
  {
   "cell_type": "code",
   "execution_count": 13,
   "metadata": {
    "id": "84Dl-Fay1vz3"
   },
   "outputs": [],
   "source": [
    "# Changing datatype for consitency\n",
    "secom_labels['Timestamp'] = pd.to_datetime(secom_labels['Timestamp'],errors='raise')"
   ]
  },
  {
   "cell_type": "code",
   "execution_count": 14,
   "metadata": {
    "id": "qSmgspyk1xcL"
   },
   "outputs": [],
   "source": [
    "# Merging the data\n",
    "data= pd.concat([secom_labels,secom_data],axis=1)"
   ]
  },
  {
   "cell_type": "code",
   "execution_count": 15,
   "metadata": {
    "id": "foQ0Zplo1yxq"
   },
   "outputs": [],
   "source": [
    "# Dropping the timestamp column as it provides no insights\n",
    "data.drop(columns=\"Timestamp\", errors='raise',inplace=True)"
   ]
  },
  {
   "cell_type": "code",
   "execution_count": 16,
   "metadata": {
    "id": "wSd7j_0210WF"
   },
   "outputs": [],
   "source": [
    "target = data[['Classification']]\n",
    "data.drop(['Classification'], axis=1,inplace=True)"
   ]
  },
  {
   "cell_type": "markdown",
   "metadata": {
    "id": "gcnUqd02122m"
   },
   "source": [
    "#### Spliting the data into training set and test set"
   ]
  },
  {
   "cell_type": "code",
   "execution_count": 17,
   "metadata": {
    "id": "UfkKHvKQ14hm"
   },
   "outputs": [],
   "source": [
    "from sklearn.model_selection import train_test_split\n",
    "X_train, X_test, y_train, y_test = train_test_split(data,target, test_size=0.20, random_state=42, stratify=target)\n",
    "# We use the startify parameter as the data is imbalanced on the basis of pass and fail and this will ensure the same \n",
    "#is retained when we split - Random state will help us create a reproducible data - Test size is the split ration"
   ]
  },
  {
   "cell_type": "code",
   "execution_count": 18,
   "metadata": {
    "id": "zoPcLGkRzCNR"
   },
   "outputs": [],
   "source": [
    "X_test_original = X_test"
   ]
  },
  {
   "cell_type": "markdown",
   "metadata": {
    "id": "VngQ8qmq18L2"
   },
   "source": [
    "#### Re-labeling the Target values\n"
   ]
  },
  {
   "cell_type": "code",
   "execution_count": 19,
   "metadata": {
    "id": "Zita67WD18oW"
   },
   "outputs": [],
   "source": [
    "# Relabeling target variables 1 is pass and 0 is fail\n",
    "y_train = y_train.replace(to_replace=[-1, 1], value=[1, 0])\n",
    "y_test = y_test.replace(to_replace=[-1, 1], value=[1, 0])"
   ]
  },
  {
   "cell_type": "code",
   "execution_count": 20,
   "metadata": {
    "id": "Qqf5h04o2BV3"
   },
   "outputs": [],
   "source": [
    "# # Scaling the data\n",
    "# scaler = StandardScaler()\n",
    "# scaler.fit(X_train)\n",
    "# X_train = pd.DataFrame(scaler.transform(X_train), columns=X_train.columns)\n",
    "# X_test = pd.DataFrame(scaler.transform(X_test), columns=X_test.columns)"
   ]
  },
  {
   "cell_type": "markdown",
   "metadata": {
    "id": "Ktw4-If-2JVo"
   },
   "source": [
    "# Decision : Removing columns with more that 50% missing values"
   ]
  },
  {
   "cell_type": "code",
   "execution_count": 21,
   "metadata": {
    "colab": {
     "base_uri": "https://localhost:8080/"
    },
    "executionInfo": {
     "elapsed": 14,
     "status": "ok",
     "timestamp": 1655309526877,
     "user": {
      "displayName": "Rashmi dsouza",
      "userId": "15818309019845571813"
     },
     "user_tz": -120
    },
    "id": "Sealjvqy16tt",
    "outputId": "4260e8e6-6eaf-43dd-8422-421f0c241f4d"
   },
   "outputs": [
    {
     "data": {
      "text/plain": [
       "(1253, 590)"
      ]
     },
     "execution_count": 21,
     "metadata": {},
     "output_type": "execute_result"
    }
   ],
   "source": [
    "X_train.shape"
   ]
  },
  {
   "cell_type": "code",
   "execution_count": 22,
   "metadata": {
    "colab": {
     "base_uri": "https://localhost:8080/"
    },
    "executionInfo": {
     "elapsed": 10,
     "status": "ok",
     "timestamp": 1655309526878,
     "user": {
      "displayName": "Rashmi dsouza",
      "userId": "15818309019845571813"
     },
     "user_tz": -120
    },
    "id": "K3sSkLKz2MQv",
    "outputId": "880ee8b2-c415-4aee-e3fb-b18cd597e712"
   },
   "outputs": [
    {
     "name": "stdout",
     "output_type": "stream",
     "text": [
      "# Features deleted with more than 0.5 % missing values 32\n"
     ]
    },
    {
     "data": {
      "text/plain": [
       "(1253, 558)"
      ]
     },
     "execution_count": 22,
     "metadata": {},
     "output_type": "execute_result"
    }
   ],
   "source": [
    "X_train_missing = X_train\n",
    "missing_remove(X_train_missing, 0.5)\n",
    "X_train_missing.shape"
   ]
  },
  {
   "cell_type": "code",
   "execution_count": 23,
   "metadata": {
    "colab": {
     "base_uri": "https://localhost:8080/"
    },
    "executionInfo": {
     "elapsed": 8,
     "status": "ok",
     "timestamp": 1655309526878,
     "user": {
      "displayName": "Rashmi dsouza",
      "userId": "15818309019845571813"
     },
     "user_tz": -120
    },
    "id": "GMtATkmGbzmV",
    "outputId": "f07edf0b-dd2b-47de-c58f-c1fc2de9e412"
   },
   "outputs": [
    {
     "data": {
      "text/plain": [
       "(314, 558)"
      ]
     },
     "execution_count": 23,
     "metadata": {},
     "output_type": "execute_result"
    }
   ],
   "source": [
    "# From test set deleting columns that are removed in training set\n",
    "X_test_missing = X_test[np.array(X_train_missing.columns)]\n",
    "X_test_missing.shape"
   ]
  },
  {
   "cell_type": "markdown",
   "metadata": {
    "id": "BGCsY1go4BPk"
   },
   "source": [
    "# Decision : Replacing outliers with 3s boundary"
   ]
  },
  {
   "cell_type": "markdown",
   "metadata": {
    "id": "5GF5OKR37z9k"
   },
   "source": [
    "##### Other option of removing outliers and replacing them has been explored in file \"Base file - removing outliers and replacing with knn.ipynb\""
   ]
  },
  {
   "cell_type": "code",
   "execution_count": 24,
   "metadata": {
    "id": "8nKubTxv2Qio"
   },
   "outputs": [],
   "source": [
    "def replace_outlier(val, mean, std):\n",
    "    if val > mean + 3*std:\n",
    "        return mean + 3*std \n",
    "    elif val < mean - 3*std:\n",
    "        return mean - 3*std\n",
    "    return val"
   ]
  },
  {
   "cell_type": "code",
   "execution_count": 25,
   "metadata": {
    "id": "dR6rW4Sa1jux"
   },
   "outputs": [],
   "source": [
    "# replace with 3s in X_train\n",
    "for col in X_train_missing.columns:\n",
    "    mean = X_train_missing[col].mean()\n",
    "    std_dev = X_train_missing[col].std(axis=0)\n",
    "    X_train_missing[col] = X_train_missing[col].map(lambda x: replace_outlier(x, mean, std_dev))"
   ]
  },
  {
   "cell_type": "code",
   "execution_count": 26,
   "metadata": {
    "id": "FSHmjvRz1lkY"
   },
   "outputs": [],
   "source": [
    "# replace with 3s in X_test\n",
    "for col in X_test_missing.columns:\n",
    "    mean = X_test_missing[col].mean()\n",
    "    std_dev = X_test_missing[col].std(axis=0)\n",
    "    X_test_missing[col] = X_test_missing[col].map(lambda x: replace_outlier(x, mean, std_dev))"
   ]
  },
  {
   "cell_type": "markdown",
   "metadata": {
    "id": "MZ_qt_Kt1-Mj"
   },
   "source": [
    "# KNN Imputation"
   ]
  },
  {
   "cell_type": "code",
   "execution_count": 27,
   "metadata": {
    "colab": {
     "base_uri": "https://localhost:8080/"
    },
    "executionInfo": {
     "elapsed": 2258,
     "status": "ok",
     "timestamp": 1655309529936,
     "user": {
      "displayName": "Rashmi dsouza",
      "userId": "15818309019845571813"
     },
     "user_tz": -120
    },
    "id": "lVUDFiOD2B3i",
    "outputId": "1c974b92-3d04-44d6-fa34-323b6c54046a"
   },
   "outputs": [
    {
     "data": {
      "text/plain": [
       "0"
      ]
     },
     "execution_count": 27,
     "metadata": {},
     "output_type": "execute_result"
    }
   ],
   "source": [
    "from sklearn.impute import KNNImputer\n",
    "knn = KNNImputer()\n",
    "knn.fit(X_train_missing)\n",
    "X_train_knn=pd.DataFrame(knn.transform(X_train_missing), columns=X_train_missing.columns)\n",
    "X_train_knn.isna().sum().sum()"
   ]
  },
  {
   "cell_type": "code",
   "execution_count": 28,
   "metadata": {
    "colab": {
     "base_uri": "https://localhost:8080/"
    },
    "executionInfo": {
     "elapsed": 345,
     "status": "ok",
     "timestamp": 1655309530279,
     "user": {
      "displayName": "Rashmi dsouza",
      "userId": "15818309019845571813"
     },
     "user_tz": -120
    },
    "id": "2O-i15vi2RNR",
    "outputId": "c21ca590-c108-416a-aa53-ce1b5001636c"
   },
   "outputs": [
    {
     "data": {
      "text/plain": [
       "0"
      ]
     },
     "execution_count": 28,
     "metadata": {},
     "output_type": "execute_result"
    }
   ],
   "source": [
    "from sklearn.impute import KNNImputer\n",
    "knn = KNNImputer()\n",
    "knn.fit(X_test_missing)\n",
    "X_test_knn=pd.DataFrame(knn.transform(X_test_missing), columns=X_test_missing.columns)\n",
    "X_test_knn.isna().sum().sum()"
   ]
  },
  {
   "cell_type": "code",
   "execution_count": 29,
   "metadata": {
    "colab": {
     "base_uri": "https://localhost:8080/",
     "height": 543
    },
    "executionInfo": {
     "elapsed": 1596,
     "status": "ok",
     "timestamp": 1655309531874,
     "user": {
      "displayName": "Rashmi dsouza",
      "userId": "15818309019845571813"
     },
     "user_tz": -120
    },
    "id": "x6GtYJCo41fU",
    "outputId": "082d0387-193f-41c8-e64b-191bb017cbb2"
   },
   "outputs": [
    {
     "name": "stdout",
     "output_type": "stream",
     "text": [
      "              precision    recall  f1-score   support\n",
      "\n",
      "           0       0.00      0.00      0.00        21\n",
      "           1       0.93      1.00      0.97       293\n",
      "\n",
      "    accuracy                           0.93       314\n",
      "   macro avg       0.47      0.50      0.48       314\n",
      "weighted avg       0.87      0.93      0.90       314\n",
      "\n",
      "Test Accuracy Score 0.9331210191082803\n"
     ]
    },
    {
     "data": {
      "text/plain": [
       "(0.9331210191082803, 0.0)"
      ]
     },
     "execution_count": 29,
     "metadata": {},
     "output_type": "execute_result"
    },
    {
     "data": {
      "image/png": "[encoded data removed]",
      "text/plain": [
       "<Figure size 640x400 with 2 Axes>"
      ]
     },
     "metadata": {},
     "output_type": "display_data"
    }
   ],
   "source": [
    "rfc(X_train_knn,X_test_knn,y_train,4)"
   ]
  },
  {
   "cell_type": "markdown",
   "metadata": {
    "id": "zyBswGn5Pq1V"
   },
   "source": [
    "# Feature Selection"
   ]
  },
  {
   "cell_type": "markdown",
   "metadata": {
    "id": "NHtm88EKMXTY"
   },
   "source": [
    "## Recursive feature elimination"
   ]
  },
  {
   "cell_type": "code",
   "execution_count": 30,
   "metadata": {
    "id": "fPU0HBS-MVBh"
   },
   "outputs": [],
   "source": [
    "from sklearn.ensemble import RandomForestRegressor\n",
    "regressor = RandomForestRegressor(n_estimators=100, max_depth=1)"
   ]
  },
  {
   "cell_type": "code",
   "execution_count": 31,
   "metadata": {
    "colab": {
     "base_uri": "https://localhost:8080/"
    },
    "executionInfo": {
     "elapsed": 104156,
     "status": "ok",
     "timestamp": 1655309636028,
     "user": {
      "displayName": "Rashmi dsouza",
      "userId": "15818309019845571813"
     },
     "user_tz": -120
    },
    "id": "x93BU7vXNEzJ",
    "outputId": "7e1f96ae-2bd5-4253-ed86-491f9a4a5f3e"
   },
   "outputs": [
    {
     "data": {
      "text/html": [
       "<style>#sk-container-id-1 {color: black;background-color: white;}#sk-container-id-1 pre{padding: 0;}#sk-container-id-1 div.sk-toggleable {background-color: white;}#sk-container-id-1 label.sk-toggleable__label {cursor: pointer;display: block;width: 100%;margin-bottom: 0;padding: 0.3em;box-sizing: border-box;text-align: center;}#sk-container-id-1 label.sk-toggleable__label-arrow:before {content: \"▸\";float: left;margin-right: 0.25em;color: #696969;}#sk-container-id-1 label.sk-toggleable__label-arrow:hover:before {color: black;}#sk-container-id-1 div.sk-estimator:hover label.sk-toggleable__label-arrow:before {color: black;}#sk-container-id-1 div.sk-toggleable__content {max-height: 0;max-width: 0;overflow: hidden;text-align: left;background-color: #f0f8ff;}#sk-container-id-1 div.sk-toggleable__content pre {margin: 0.2em;color: black;border-radius: 0.25em;background-color: #f0f8ff;}#sk-container-id-1 input.sk-toggleable__control:checked~div.sk-toggleable__content {max-height: 200px;max-width: 100%;overflow: auto;}#sk-container-id-1 input.sk-toggleable__control:checked~label.sk-toggleable__label-arrow:before {content: \"▾\";}#sk-container-id-1 div.sk-estimator input.sk-toggleable__control:checked~label.sk-toggleable__label {background-color: #d4ebff;}#sk-container-id-1 div.sk-label input.sk-toggleable__control:checked~label.sk-toggleable__label {background-color: #d4ebff;}#sk-container-id-1 input.sk-hidden--visually {border: 0;clip: rect(1px 1px 1px 1px);clip: rect(1px, 1px, 1px, 1px);height: 1px;margin: -1px;overflow: hidden;padding: 0;position: absolute;width: 1px;}#sk-container-id-1 div.sk-estimator {font-family: monospace;background-color: #f0f8ff;border: 1px dotted black;border-radius: 0.25em;box-sizing: border-box;margin-bottom: 0.5em;}#sk-container-id-1 div.sk-estimator:hover {background-color: #d4ebff;}#sk-container-id-1 div.sk-parallel-item::after {content: \"\";width: 100%;border-bottom: 1px solid gray;flex-grow: 1;}#sk-container-id-1 div.sk-label:hover label.sk-toggleable__label {background-color: #d4ebff;}#sk-container-id-1 div.sk-serial::before {content: \"\";position: absolute;border-left: 1px solid gray;box-sizing: border-box;top: 0;bottom: 0;left: 50%;z-index: 0;}#sk-container-id-1 div.sk-serial {display: flex;flex-direction: column;align-items: center;background-color: white;padding-right: 0.2em;padding-left: 0.2em;position: relative;}#sk-container-id-1 div.sk-item {position: relative;z-index: 1;}#sk-container-id-1 div.sk-parallel {display: flex;align-items: stretch;justify-content: center;background-color: white;position: relative;}#sk-container-id-1 div.sk-item::before, #sk-container-id-1 div.sk-parallel-item::before {content: \"\";position: absolute;border-left: 1px solid gray;box-sizing: border-box;top: 0;bottom: 0;left: 50%;z-index: -1;}#sk-container-id-1 div.sk-parallel-item {display: flex;flex-direction: column;z-index: 1;position: relative;background-color: white;}#sk-container-id-1 div.sk-parallel-item:first-child::after {align-self: flex-end;width: 50%;}#sk-container-id-1 div.sk-parallel-item:last-child::after {align-self: flex-start;width: 50%;}#sk-container-id-1 div.sk-parallel-item:only-child::after {width: 0;}#sk-container-id-1 div.sk-dashed-wrapped {border: 1px dashed gray;margin: 0 0.4em 0.5em 0.4em;box-sizing: border-box;padding-bottom: 0.4em;background-color: white;}#sk-container-id-1 div.sk-label label {font-family: monospace;font-weight: bold;display: inline-block;line-height: 1.2em;}#sk-container-id-1 div.sk-label-container {text-align: center;}#sk-container-id-1 div.sk-container {/* jupyter's `normalize.less` sets `[hidden] { display: none; }` but bootstrap.min.css set `[hidden] { display: none !important; }` so we also need the `!important` here to be able to override the default hidden behavior on the sphinx rendered scikit-learn.org. See: https://github.com/scikit-learn/scikit-learn/issues/21755 */display: inline-block !important;position: relative;}#sk-container-id-1 div.sk-text-repr-fallback {display: none;}</style><div id=\"sk-container-id-1\" class=\"sk-top-container\"><div class=\"sk-text-repr-fallback\"><pre>RFE(estimator=RandomForestRegressor(max_depth=1), n_features_to_select=15)</pre><b>In a Jupyter environment, please rerun this cell to show the HTML representation or trust the notebook. <br />On GitHub, the HTML representation is unable to render, please try loading this page with nbviewer.org.</b></div><div class=\"sk-container\" hidden><div class=\"sk-item sk-dashed-wrapped\"><div class=\"sk-label-container\"><div class=\"sk-label sk-toggleable\"><input class=\"sk-toggleable__control sk-hidden--visually\" id=\"sk-estimator-id-1\" type=\"checkbox\" ><label for=\"sk-estimator-id-1\" class=\"sk-toggleable__label sk-toggleable__label-arrow\">RFE</label><div class=\"sk-toggleable__content\"><pre>RFE(estimator=RandomForestRegressor(max_depth=1), n_features_to_select=15)</pre></div></div></div><div class=\"sk-parallel\"><div class=\"sk-parallel-item\"><div class=\"sk-item\"><div class=\"sk-label-container\"><div class=\"sk-label sk-toggleable\"><input class=\"sk-toggleable__control sk-hidden--visually\" id=\"sk-estimator-id-2\" type=\"checkbox\" ><label for=\"sk-estimator-id-2\" class=\"sk-toggleable__label sk-toggleable__label-arrow\">estimator: RandomForestRegressor</label><div class=\"sk-toggleable__content\"><pre>RandomForestRegressor(max_depth=1)</pre></div></div></div><div class=\"sk-serial\"><div class=\"sk-item\"><div class=\"sk-estimator sk-toggleable\"><input class=\"sk-toggleable__control sk-hidden--visually\" id=\"sk-estimator-id-3\" type=\"checkbox\" ><label for=\"sk-estimator-id-3\" class=\"sk-toggleable__label sk-toggleable__label-arrow\">RandomForestRegressor</label><div class=\"sk-toggleable__content\"><pre>RandomForestRegressor(max_depth=1)</pre></div></div></div></div></div></div></div></div></div></div>"
      ],
      "text/plain": [
       "RFE(estimator=RandomForestRegressor(max_depth=1), n_features_to_select=15)"
      ]
     },
     "execution_count": 31,
     "metadata": {},
     "output_type": "execute_result"
    }
   ],
   "source": [
    "from sklearn.feature_selection import RFE\n",
    "n_features_to_select = 15\n",
    "rfe = RFE(regressor, n_features_to_select=n_features_to_select)\n",
    "rfe.fit(X_train_knn, y_train)"
   ]
  },
  {
   "cell_type": "code",
   "execution_count": 33,
   "metadata": {
    "colab": {
     "base_uri": "https://localhost:8080/"
    },
    "executionInfo": {
     "elapsed": 18,
     "status": "ok",
     "timestamp": 1655309636029,
     "user": {
      "displayName": "Rashmi dsouza",
      "userId": "15818309019845571813"
     },
     "user_tz": -120
    },
    "id": "PmsoFTseNUXu",
    "outputId": "b50ef9a9-5a6c-46ba-fe0f-6606fa223b99"
   },
   "outputs": [
    {
     "name": "stdout",
     "output_type": "stream",
     "text": [
      "1 Feature_65\n",
      "1 Feature_66\n",
      "1 Feature_72\n",
      "1 Feature_78\n",
      "1 Feature_104\n",
      "1 Feature_122\n",
      "1 Feature_442\n",
      "1 Feature_501\n",
      "1 Feature_502\n",
      "1 Feature_503\n",
      "1 Feature_504\n",
      "1 Feature_511\n",
      "1 Feature_540\n",
      "1 Feature_558\n",
      "1 Feature_563\n",
      "2 Feature_71\n",
      "3 Feature_69\n",
      "4 Feature_70\n",
      "5 Feature_68\n",
      "6 Feature_507\n",
      "7 Feature_67\n",
      "8 Feature_506\n",
      "9 Feature_75\n",
      "10 Feature_79\n",
      "11 Feature_76\n",
      "12 Feature_505\n",
      "13 Feature_509\n",
      "14 Feature_508\n",
      "15 Feature_77\n",
      "16 Feature_539\n",
      "17 Feature_510\n",
      "18 Feature_512\n",
      "19 Feature_80\n",
      "20 Feature_83\n",
      "21 Feature_513\n",
      "22 Feature_81\n",
      "23 Feature_514\n",
      "24 Feature_82\n",
      "25 Feature_515\n",
      "26 Feature_521\n",
      "27 Feature_84\n",
      "28 Feature_523\n",
      "29 Feature_516\n",
      "30 Feature_85\n",
      "31 Feature_87\n",
      "32 Feature_524\n",
      "33 Feature_88\n",
      "34 Feature_89\n",
      "35 Feature_522\n",
      "36 Feature_525\n",
      "37 Feature_90\n",
      "38 Feature_526\n",
      "39 Feature_92\n",
      "40 Feature_91\n",
      "41 Feature_527\n",
      "42 Feature_528\n",
      "43 Feature_93\n",
      "44 Feature_529\n",
      "45 Feature_94\n",
      "46 Feature_530\n",
      "47 Feature_95\n",
      "48 Feature_531\n",
      "49 Feature_533\n",
      "50 Feature_96\n",
      "51 Feature_97\n",
      "52 Feature_534\n",
      "53 Feature_98\n",
      "54 Feature_100\n",
      "55 Feature_99\n",
      "56 Feature_101\n",
      "57 Feature_532\n",
      "58 Feature_535\n",
      "59 Feature_536\n",
      "60 Feature_537\n",
      "61 Feature_500\n",
      "62 Feature_102\n",
      "63 Feature_103\n",
      "64 Feature_105\n",
      "65 Feature_538\n",
      "66 Feature_106\n",
      "67 Feature_107\n",
      "68 Feature_541\n",
      "69 Feature_542\n",
      "70 Feature_543\n",
      "71 Feature_108\n",
      "72 Feature_109\n",
      "73 Feature_544\n",
      "74 Feature_114\n",
      "75 Feature_115\n",
      "76 Feature_545\n",
      "77 Feature_546\n",
      "78 Feature_116\n",
      "79 Feature_547\n",
      "80 Feature_117\n",
      "81 Feature_548\n",
      "82 Feature_118\n",
      "83 Feature_549\n",
      "84 Feature_120\n",
      "85 Feature_550\n",
      "86 Feature_551\n",
      "87 Feature_119\n",
      "88 Feature_121\n",
      "89 Feature_552\n",
      "90 Feature_553\n",
      "91 Feature_123\n",
      "92 Feature_124\n",
      "93 Feature_554\n",
      "94 Feature_555\n",
      "95 Feature_499\n",
      "96 Feature_125\n",
      "97 Feature_498\n",
      "98 Feature_126\n",
      "99 Feature_497\n",
      "100 Feature_127\n",
      "101 Feature_496\n",
      "102 Feature_128\n",
      "103 Feature_495\n",
      "104 Feature_129\n",
      "105 Feature_494\n",
      "106 Feature_131\n",
      "107 Feature_133\n",
      "108 Feature_132\n",
      "109 Feature_556\n",
      "110 Feature_557\n",
      "111 Feature_492\n",
      "112 Feature_130\n",
      "113 Feature_491\n",
      "114 Feature_134\n",
      "115 Feature_490\n",
      "116 Feature_135\n",
      "117 Feature_489\n",
      "118 Feature_136\n",
      "119 Feature_488\n",
      "120 Feature_137\n",
      "121 Feature_487\n",
      "122 Feature_138\n",
      "123 Feature_486\n",
      "124 Feature_139\n",
      "125 Feature_485\n",
      "126 Feature_140\n",
      "127 Feature_484\n",
      "128 Feature_141\n",
      "129 Feature_483\n",
      "130 Feature_142\n",
      "131 Feature_482\n",
      "132 Feature_143\n",
      "133 Feature_481\n",
      "134 Feature_144\n",
      "135 Feature_480\n",
      "136 Feature_145\n",
      "137 Feature_146\n",
      "138 Feature_147\n",
      "139 Feature_574\n",
      "140 Feature_154\n",
      "141 Feature_575\n",
      "142 Feature_559\n",
      "143 Feature_148\n",
      "144 Feature_561\n",
      "145 Feature_149\n",
      "146 Feature_562\n",
      "147 Feature_479\n",
      "148 Feature_150\n",
      "149 Feature_478\n",
      "150 Feature_560\n",
      "151 Feature_151\n",
      "152 Feature_152\n",
      "153 Feature_477\n",
      "154 Feature_153\n",
      "155 Feature_476\n",
      "156 Feature_155\n",
      "157 Feature_475\n",
      "158 Feature_160\n",
      "159 Feature_474\n",
      "160 Feature_156\n",
      "161 Feature_473\n",
      "162 Feature_157\n",
      "163 Feature_472\n",
      "164 Feature_161\n",
      "165 Feature_471\n",
      "166 Feature_162\n",
      "167 Feature_470\n",
      "168 Feature_171\n",
      "169 Feature_163\n",
      "170 Feature_564\n",
      "171 Feature_164\n",
      "172 Feature_573\n",
      "173 Feature_165\n",
      "174 Feature_565\n",
      "175 Feature_167\n",
      "176 Feature_568\n",
      "177 Feature_166\n",
      "178 Feature_569\n",
      "179 Feature_168\n",
      "180 Feature_570\n",
      "181 Feature_169\n",
      "182 Feature_571\n",
      "183 Feature_469\n",
      "184 Feature_170\n",
      "185 Feature_468\n",
      "186 Feature_174\n",
      "187 Feature_467\n",
      "188 Feature_172\n",
      "189 Feature_466\n",
      "190 Feature_176\n",
      "191 Feature_465\n",
      "192 Feature_175\n",
      "193 Feature_464\n",
      "194 Feature_173\n",
      "195 Feature_463\n",
      "196 Feature_177\n",
      "197 Feature_462\n",
      "198 Feature_178\n",
      "199 Feature_461\n",
      "200 Feature_179\n",
      "201 Feature_460\n",
      "202 Feature_182\n",
      "203 Feature_459\n",
      "204 Feature_180\n",
      "205 Feature_458\n",
      "206 Feature_181\n",
      "207 Feature_457\n",
      "208 Feature_189\n",
      "209 Feature_456\n",
      "210 Feature_183\n",
      "211 Feature_455\n",
      "212 Feature_184\n",
      "213 Feature_185\n",
      "214 Feature_572\n",
      "215 Feature_454\n",
      "216 Feature_186\n",
      "217 Feature_453\n",
      "218 Feature_187\n",
      "219 Feature_452\n",
      "220 Feature_188\n",
      "221 Feature_451\n",
      "222 Feature_190\n",
      "223 Feature_450\n",
      "224 Feature_191\n",
      "225 Feature_449\n",
      "226 Feature_193\n",
      "227 Feature_448\n",
      "228 Feature_192\n",
      "229 Feature_447\n",
      "230 Feature_194\n",
      "231 Feature_446\n",
      "232 Feature_196\n",
      "233 Feature_445\n",
      "234 Feature_195\n",
      "235 Feature_444\n",
      "236 Feature_197\n",
      "237 Feature_443\n",
      "238 Feature_199\n",
      "239 Feature_198\n",
      "240 Feature_200\n",
      "241 Feature_441\n",
      "242 Feature_203\n",
      "243 Feature_440\n",
      "244 Feature_205\n",
      "245 Feature_439\n",
      "246 Feature_206\n",
      "247 Feature_438\n",
      "248 Feature_201\n",
      "249 Feature_437\n",
      "250 Feature_204\n",
      "251 Feature_436\n",
      "252 Feature_202\n",
      "253 Feature_435\n",
      "254 Feature_208\n",
      "255 Feature_434\n",
      "256 Feature_209\n",
      "257 Feature_433\n",
      "258 Feature_427\n",
      "259 Feature_432\n",
      "260 Feature_207\n",
      "261 Feature_431\n",
      "262 Feature_214\n",
      "263 Feature_430\n",
      "264 Feature_210\n",
      "265 Feature_429\n",
      "266 Feature_213\n",
      "267 Feature_428\n",
      "268 Feature_211\n",
      "269 Feature_212\n",
      "270 Feature_215\n",
      "271 Feature_566\n",
      "272 Feature_216\n",
      "273 Feature_567\n",
      "274 Feature_217\n",
      "275 Feature_426\n",
      "276 Feature_218\n",
      "277 Feature_425\n",
      "278 Feature_219\n",
      "279 Feature_424\n",
      "280 Feature_220\n",
      "281 Feature_423\n",
      "282 Feature_222\n",
      "283 Feature_422\n",
      "284 Feature_223\n",
      "285 Feature_421\n",
      "286 Feature_224\n",
      "287 Feature_420\n",
      "288 Feature_225\n",
      "289 Feature_419\n",
      "290 Feature_226\n",
      "291 Feature_418\n",
      "292 Feature_227\n",
      "293 Feature_417\n",
      "294 Feature_228\n",
      "295 Feature_416\n",
      "296 Feature_229\n",
      "297 Feature_415\n",
      "298 Feature_231\n",
      "299 Feature_414\n",
      "300 Feature_232\n",
      "301 Feature_413\n",
      "302 Feature_412\n",
      "303 Feature_230\n",
      "304 Feature_233\n",
      "305 Feature_411\n",
      "306 Feature_234\n",
      "307 Feature_410\n",
      "308 Feature_235\n",
      "309 Feature_409\n",
      "310 Feature_236\n",
      "311 Feature_408\n",
      "312 Feature_237\n",
      "313 Feature_407\n",
      "314 Feature_238\n",
      "315 Feature_406\n",
      "316 Feature_241\n",
      "317 Feature_405\n",
      "318 Feature_244\n",
      "319 Feature_404\n",
      "320 Feature_250\n",
      "321 Feature_403\n",
      "322 Feature_239\n",
      "323 Feature_402\n",
      "324 Feature_243\n",
      "325 Feature_401\n",
      "326 Feature_240\n",
      "327 Feature_400\n",
      "328 Feature_257\n",
      "329 Feature_399\n",
      "330 Feature_268\n",
      "331 Feature_398\n",
      "332 Feature_251\n",
      "333 Feature_397\n",
      "334 Feature_242\n",
      "335 Feature_396\n",
      "336 Feature_262\n",
      "337 Feature_395\n",
      "338 Feature_254\n",
      "339 Feature_394\n",
      "340 Feature_252\n",
      "341 Feature_393\n",
      "342 Feature_256\n",
      "343 Feature_392\n",
      "344 Feature_255\n",
      "345 Feature_391\n",
      "346 Feature_258\n",
      "347 Feature_390\n",
      "348 Feature_253\n",
      "349 Feature_389\n",
      "350 Feature_260\n",
      "351 Feature_388\n",
      "352 Feature_249\n",
      "353 Feature_387\n",
      "354 Feature_261\n",
      "355 Feature_259\n",
      "356 Feature_263\n",
      "357 Feature_576\n",
      "358 Feature_264\n",
      "359 Feature_577\n",
      "360 Feature_265\n",
      "361 Feature_578\n",
      "362 Feature_266\n",
      "363 Feature_583\n",
      "364 Feature_267\n",
      "365 Feature_584\n",
      "366 Feature_585\n",
      "367 Feature_382\n",
      "368 Feature_269\n",
      "369 Feature_381\n",
      "370 Feature_270\n",
      "371 Feature_380\n",
      "372 Feature_271\n",
      "373 Feature_379\n",
      "374 Feature_272\n",
      "375 Feature_378\n",
      "376 Feature_273\n",
      "377 Feature_274\n",
      "378 Feature_586\n",
      "379 Feature_377\n",
      "380 Feature_275\n",
      "381 Feature_376\n",
      "382 Feature_276\n",
      "383 Feature_375\n",
      "384 Feature_277\n",
      "385 Feature_374\n",
      "386 Feature_278\n",
      "387 Feature_373\n",
      "388 Feature_279\n",
      "389 Feature_372\n",
      "390 Feature_280\n",
      "391 Feature_371\n",
      "392 Feature_281\n",
      "393 Feature_370\n",
      "394 Feature_282\n",
      "395 Feature_369\n",
      "396 Feature_283\n",
      "397 Feature_368\n",
      "398 Feature_284\n",
      "399 Feature_367\n",
      "400 Feature_285\n",
      "401 Feature_366\n",
      "402 Feature_286\n",
      "403 Feature_365\n",
      "404 Feature_287\n",
      "405 Feature_364\n",
      "406 Feature_288\n",
      "407 Feature_363\n",
      "408 Feature_289\n",
      "409 Feature_362\n",
      "410 Feature_290\n",
      "411 Feature_361\n",
      "412 Feature_291\n",
      "413 Feature_360\n",
      "414 Feature_292\n",
      "415 Feature_358\n",
      "416 Feature_298\n",
      "417 Feature_357\n",
      "418 Feature_299\n",
      "419 Feature_356\n",
      "420 Feature_300\n",
      "421 Feature_355\n",
      "422 Feature_309\n",
      "423 Feature_354\n",
      "424 Feature_310\n",
      "425 Feature_353\n",
      "426 Feature_311\n",
      "427 Feature_352\n",
      "428 Feature_315\n",
      "429 Feature_351\n",
      "430 Feature_316\n",
      "431 Feature_350\n",
      "432 Feature_317\n",
      "433 Feature_587\n",
      "434 Feature_318\n",
      "435 Feature_349\n",
      "436 Feature_319\n",
      "437 Feature_348\n",
      "438 Feature_320\n",
      "439 Feature_345\n",
      "440 Feature_322\n",
      "441 Feature_588\n",
      "442 Feature_323\n",
      "443 Feature_344\n",
      "444 Feature_324\n",
      "445 Feature_343\n",
      "446 Feature_325\n",
      "447 Feature_342\n",
      "448 Feature_326\n",
      "449 Feature_341\n",
      "450 Feature_327\n",
      "451 Feature_340\n",
      "452 Feature_328\n",
      "453 Feature_589\n",
      "454 Feature_329\n",
      "455 Feature_339\n",
      "456 Feature_334\n",
      "457 Feature_338\n",
      "458 Feature_64\n",
      "459 Feature_337\n",
      "460 Feature_335\n",
      "461 Feature_336\n",
      "462 Feature_63\n",
      "463 Feature_62\n",
      "464 Feature_61\n",
      "465 Feature_60\n",
      "466 Feature_330\n",
      "467 Feature_333\n",
      "468 Feature_331\n",
      "469 Feature_332\n",
      "470 Feature_59\n",
      "471 Feature_58\n",
      "472 Feature_57\n",
      "473 Feature_56\n",
      "474 Feature_55\n",
      "475 Feature_54\n",
      "476 Feature_53\n",
      "477 Feature_52\n",
      "478 Feature_51\n",
      "479 Feature_50\n",
      "480 Feature_49\n",
      "481 Feature_48\n",
      "482 Feature_47\n",
      "483 Feature_46\n",
      "484 Feature_45\n",
      "485 Feature_44\n",
      "486 Feature_43\n",
      "487 Feature_42\n",
      "488 Feature_41\n",
      "489 Feature_40\n",
      "490 Feature_39\n",
      "491 Feature_321\n",
      "492 Feature_38\n",
      "493 Feature_37\n",
      "494 Feature_36\n",
      "495 Feature_35\n",
      "496 Feature_34\n",
      "497 Feature_33\n",
      "498 Feature_32\n",
      "499 Feature_31\n",
      "500 Feature_30\n",
      "501 Feature_29\n",
      "502 Feature_28\n",
      "503 Feature_27\n",
      "504 Feature_314\n",
      "505 Feature_26\n",
      "506 Feature_312\n",
      "507 Feature_313\n",
      "508 Feature_25\n",
      "509 Feature_24\n",
      "510 Feature_23\n",
      "511 Feature_22\n",
      "512 Feature_21\n",
      "513 Feature_20\n",
      "514 Feature_19\n",
      "515 Feature_18\n",
      "516 Feature_17\n",
      "517 Feature_590\n",
      "518 Feature_301\n",
      "519 Feature_308\n",
      "520 Feature_302\n",
      "521 Feature_307\n",
      "522 Feature_303\n",
      "523 Feature_306\n",
      "524 Feature_304\n",
      "525 Feature_305\n",
      "526 Feature_16\n",
      "527 Feature_15\n",
      "528 Feature_14\n",
      "529 Feature_13\n",
      "530 Feature_12\n",
      "531 Feature_11\n",
      "532 Feature_10\n",
      "533 Feature_9\n",
      "534 Feature_8\n",
      "535 Feature_7\n",
      "536 Feature_6\n",
      "537 Feature_5\n",
      "538 Feature_4\n",
      "539 Feature_3\n",
      "540 Feature_295\n",
      "541 Feature_297\n",
      "542 Feature_296\n",
      "543 Feature_2\n",
      "544 Feature_1\n"
     ]
    }
   ],
   "source": [
    "from operator import itemgetter\n",
    "features = X_train_knn.columns.to_list()\n",
    "for x, y in (sorted(zip(rfe.ranking_ , features), key=itemgetter(0))):\n",
    "    print(x, y)"
   ]
  },
  {
   "cell_type": "code",
   "execution_count": 35,
   "metadata": {},
   "outputs": [
    {
     "data": {
      "text/plain": [
       "(314, 15)"
      ]
     },
     "execution_count": 35,
     "metadata": {},
     "output_type": "execute_result"
    }
   ],
   "source": [
    "rfe_list = [\"Feature_65\",\"Feature_66\",\"Feature_72\",\"Feature_78\",\"Feature_104\",\"Feature_122\",\"Feature_442\",\n",
    "            \"Feature_501\",\"Feature_502\",\"Feature_503\",\"Feature_504\",\"Feature_511\",\"Feature_540\",\n",
    "            \"Feature_558\",\"Feature_563\"]\n",
    "# creating a new dataframe using the above variables and adding the target variable\n",
    "X_train_rfe = X_train_knn[rfe_list]\n",
    "# From test set deleting columns that are removed in training set\n",
    "X_test_rfe = X_test_knn[np.array(X_train_rfe.columns)]\n",
    "X_test_rfe.shape"
   ]
  },
  {
   "cell_type": "code",
   "execution_count": 36,
   "metadata": {
    "colab": {
     "base_uri": "https://localhost:8080/",
     "height": 543
    },
    "executionInfo": {
     "elapsed": 1030,
     "status": "ok",
     "timestamp": 1655309637055,
     "user": {
      "displayName": "Rashmi dsouza",
      "userId": "15818309019845571813"
     },
     "user_tz": -120
    },
    "id": "RNtav2AAa-hI",
    "outputId": "14a949c6-7c6d-4aef-f7eb-3a9f46984a75"
   },
   "outputs": [
    {
     "name": "stdout",
     "output_type": "stream",
     "text": [
      "              precision    recall  f1-score   support\n",
      "\n",
      "           0       0.00      0.00      0.00        21\n",
      "           1       0.93      1.00      0.97       293\n",
      "\n",
      "    accuracy                           0.93       314\n",
      "   macro avg       0.47      0.50      0.48       314\n",
      "weighted avg       0.87      0.93      0.90       314\n",
      "\n",
      "Test Accuracy Score 0.9331210191082803\n"
     ]
    },
    {
     "data": {
      "text/plain": [
       "(0.9331210191082803, 0.0)"
      ]
     },
     "execution_count": 36,
     "metadata": {},
     "output_type": "execute_result"
    },
    {
     "data": {
      "image/png": "[encoded data removed]",
      "text/plain": [
       "<Figure size 640x400 with 2 Axes>"
      ]
     },
     "metadata": {},
     "output_type": "display_data"
    }
   ],
   "source": [
    "rfc(X_train_rfe,X_test_rfe,y_train,6)"
   ]
  },
  {
   "cell_type": "code",
   "execution_count": 37,
   "metadata": {
    "colab": {
     "base_uri": "https://localhost:8080/",
     "height": 774
    },
    "executionInfo": {
     "elapsed": 498,
     "status": "ok",
     "timestamp": 1655309637550,
     "user": {
      "displayName": "Rashmi dsouza",
      "userId": "15818309019845571813"
     },
     "user_tz": -120
    },
    "id": "1NIAKIy0dJ4e",
    "outputId": "99379fd2-ebb7-4427-ca0c-96ce1c1def89"
   },
   "outputs": [
    {
     "data": {
      "image/png": "[encoded data removed]",
      "text/plain": [
       "<Figure size 400x400 with 1 Axes>"
      ]
     },
     "metadata": {},
     "output_type": "display_data"
    },
    {
     "data": {
      "text/plain": [
       "(0.6369426751592356, 0.06488056989455691)"
      ]
     },
     "execution_count": 37,
     "metadata": {},
     "output_type": "execute_result"
    },
    {
     "data": {
      "image/png": "[encoded data removed]",
      "text/plain": [
       "<Figure size 400x400 with 1 Axes>"
      ]
     },
     "metadata": {},
     "output_type": "display_data"
    }
   ],
   "source": [
    "evaluate(X_train_rfe,X_test_rfe,y_train,y_test)"
   ]
  },
  {
   "cell_type": "code",
   "execution_count": 38,
   "metadata": {
    "colab": {
     "base_uri": "https://localhost:8080/",
     "height": 973
    },
    "executionInfo": {
     "elapsed": 1463,
     "status": "ok",
     "timestamp": 1655309639011,
     "user": {
      "displayName": "Rashmi dsouza",
      "userId": "15818309019845571813"
     },
     "user_tz": -120
    },
    "id": "DZAHEL6vefF3",
    "outputId": "b9ae868d-41e7-4918-ae44-b7eae964e9dc"
   },
   "outputs": [
    {
     "data": {
      "text/plain": [
       "Text(0.5, 1.0, 'Heatmap for the Data')"
      ]
     },
     "execution_count": 38,
     "metadata": {},
     "output_type": "execute_result"
    },
    {
     "data": {
      "image/png": "[encoded data removed]",
      "text/plain": [
       "<Figure size 1080x1080 with 2 Axes>"
      ]
     },
     "metadata": {},
     "output_type": "display_data"
    }
   ],
   "source": [
    "import seaborn as sns\n",
    "# Heatmap for correlation\n",
    "plt.rcParams['figure.figsize'] = (15,15)\n",
    "sns.heatmap(X_train_rfe.corr(),cmap=\"YlOrRd\",annot=True)\n",
    "plt.title('Heatmap for the Data', fontsize = 50)"
   ]
  },
  {
   "cell_type": "markdown",
   "metadata": {
    "id": "ofroiNbewG0e"
   },
   "source": [
    "## Balancing usnig SMOTE"
   ]
  },
  {
   "cell_type": "code",
   "execution_count": 39,
   "metadata": {
    "id": "2qPNMFGlwI21"
   },
   "outputs": [],
   "source": [
    "import numpy as np\n",
    "from imblearn.over_sampling import SMOTE, ADASYN, RandomOverSampler\n",
    "from imblearn.under_sampling import RandomUnderSampler\n",
    "from sklearn.decomposition import PCA"
   ]
  },
  {
   "cell_type": "code",
   "execution_count": 40,
   "metadata": {
    "id": "EX4ZPMsHwnap"
   },
   "outputs": [],
   "source": [
    "# Sampling technique\n",
    "\n",
    "def Sampling(X_train, y_train, sampler):\n",
    "\n",
    "    #SMOTE\n",
    "    if sampler == 'SMOTE':\n",
    "        sampler = SMOTE(random_state=100)    \n",
    "    \n",
    "\n",
    "    #SMOTTEENN\n",
    "    if sampler == 'SMOTEENN' :\n",
    "        sampler = SMOTEENN(random_state=100)\n",
    "        \n",
    "\n",
    "    X_resampled, y_resampled = sampler.fit_resample(X_train, y_train)\n",
    "    counter = Counter(y_resampled)\n",
    "    print(counter)\n",
    "    return X_resampled, y_resampled"
   ]
  },
  {
   "cell_type": "code",
   "execution_count": 41,
   "metadata": {
    "colab": {
     "base_uri": "https://localhost:8080/"
    },
    "executionInfo": {
     "elapsed": 250,
     "status": "ok",
     "timestamp": 1655320093399,
     "user": {
      "displayName": "Rashmi dsouza",
      "userId": "15818309019845571813"
     },
     "user_tz": -120
    },
    "id": "w6e27h2Zw3Ux",
    "outputId": "b6b642f6-8133-4f84-f45a-ea5dd6ae1406"
   },
   "outputs": [
    {
     "name": "stdout",
     "output_type": "stream",
     "text": [
      "Counter({'Classification': 1})\n"
     ]
    }
   ],
   "source": [
    "# Imbalance treatment\n",
    "from collections import Counter\n",
    "X_smote, y_smote = Sampling(X_train_rfe, y_train,'SMOTE')"
   ]
  },
  {
   "cell_type": "code",
   "execution_count": 42,
   "metadata": {
    "colab": {
     "base_uri": "https://localhost:8080/",
     "height": 560
    },
    "executionInfo": {
     "elapsed": 1129,
     "status": "ok",
     "timestamp": 1655320891626,
     "user": {
      "displayName": "Rashmi dsouza",
      "userId": "15818309019845571813"
     },
     "user_tz": -120
    },
    "id": "mzZpY-8Xz8Yg",
    "outputId": "62169bb3-b672-4491-8405-9d3594d0c335"
   },
   "outputs": [
    {
     "name": "stdout",
     "output_type": "stream",
     "text": [
      "              precision    recall  f1-score   support\n",
      "\n",
      "           0       0.13      0.33      0.19        21\n",
      "           1       0.95      0.85      0.89       293\n",
      "\n",
      "    accuracy                           0.81       314\n",
      "   macro avg       0.54      0.59      0.54       314\n",
      "weighted avg       0.89      0.81      0.85       314\n",
      "\n",
      "Test Accuracy Score 0.8121019108280255\n"
     ]
    },
    {
     "data": {
      "text/plain": [
       "(0.8121019108280255, 0.12079789097389197)"
      ]
     },
     "execution_count": 42,
     "metadata": {},
     "output_type": "execute_result"
    },
    {
     "data": {
      "image/png": "[encoded data removed]",
      "text/plain": [
       "<Figure size 640x400 with 2 Axes>"
      ]
     },
     "metadata": {},
     "output_type": "display_data"
    }
   ],
   "source": [
    "rfc(X_smote,X_test_rfe,y_smote,6)"
   ]
  },
  {
   "cell_type": "code",
   "execution_count": 43,
   "metadata": {
    "colab": {
     "base_uri": "https://localhost:8080/",
     "height": 774
    },
    "executionInfo": {
     "elapsed": 907,
     "status": "ok",
     "timestamp": 1655321027748,
     "user": {
      "displayName": "Rashmi dsouza",
      "userId": "15818309019845571813"
     },
     "user_tz": -120
    },
    "id": "GAbWlDUk0izq",
    "outputId": "4154ff29-0ac6-49b2-f92b-2035d7fe3a4a"
   },
   "outputs": [
    {
     "data": {
      "image/png": "[encoded data removed]",
      "text/plain": [
       "<Figure size 400x400 with 1 Axes>"
      ]
     },
     "metadata": {},
     "output_type": "display_data"
    },
    {
     "data": {
      "text/plain": [
       "(0.6146496815286624, 0.05180321861336922)"
      ]
     },
     "execution_count": 43,
     "metadata": {},
     "output_type": "execute_result"
    },
    {
     "data": {
      "image/png": "[encoded data removed]",
      "text/plain": [
       "<Figure size 400x400 with 1 Axes>"
      ]
     },
     "metadata": {},
     "output_type": "display_data"
    }
   ],
   "source": [
    "evaluate(X_smote,X_test_rfe,y_smote,y_test)"
   ]
  },
  {
   "cell_type": "markdown",
   "metadata": {
    "id": "KPtprJnf0p71"
   },
   "source": [
    "## Smoteenn"
   ]
  },
  {
   "cell_type": "code",
   "execution_count": 44,
   "metadata": {
    "colab": {
     "base_uri": "https://localhost:8080/"
    },
    "executionInfo": {
     "elapsed": 312,
     "status": "ok",
     "timestamp": 1655321227976,
     "user": {
      "displayName": "Rashmi dsouza",
      "userId": "15818309019845571813"
     },
     "user_tz": -120
    },
    "id": "L4kqoXzd0oyv",
    "outputId": "eb370b80-0d1a-4787-9f67-3459d5c2109a"
   },
   "outputs": [
    {
     "name": "stdout",
     "output_type": "stream",
     "text": [
      "Counter({'Classification': 1})\n"
     ]
    }
   ],
   "source": [
    "# Imbalance treatment\n",
    "from imblearn.combine import SMOTEENN\n",
    "X_smoteenn, y_smoteenn = Sampling(X_train_rfe, y_train,'SMOTEENN')"
   ]
  },
  {
   "cell_type": "code",
   "execution_count": 45,
   "metadata": {
    "colab": {
     "base_uri": "https://localhost:8080/",
     "height": 560
    },
    "executionInfo": {
     "elapsed": 1897,
     "status": "ok",
     "timestamp": 1655321234956,
     "user": {
      "displayName": "Rashmi dsouza",
      "userId": "15818309019845571813"
     },
     "user_tz": -120
    },
    "id": "ynKZksCD1Uv7",
    "outputId": "c9fdc395-abfe-44be-ada8-aeab202c1a21"
   },
   "outputs": [
    {
     "name": "stdout",
     "output_type": "stream",
     "text": [
      "              precision    recall  f1-score   support\n",
      "\n",
      "           0       0.11      0.48      0.19        21\n",
      "           1       0.95      0.74      0.83       293\n",
      "\n",
      "    accuracy                           0.72       314\n",
      "   macro avg       0.53      0.61      0.51       314\n",
      "weighted avg       0.90      0.72      0.79       314\n",
      "\n",
      "Test Accuracy Score 0.7197452229299363\n"
     ]
    },
    {
     "data": {
      "text/plain": [
       "(0.7197452229299363, 0.11911013411244278)"
      ]
     },
     "execution_count": 45,
     "metadata": {},
     "output_type": "execute_result"
    },
    {
     "data": {
      "image/png": "[encoded data removed]",
      "text/plain": [
       "<Figure size 640x400 with 2 Axes>"
      ]
     },
     "metadata": {},
     "output_type": "display_data"
    }
   ],
   "source": [
    "rfc(X_smoteenn,X_test_rfe,y_smoteenn,6)"
   ]
  },
  {
   "cell_type": "code",
   "execution_count": 47,
   "metadata": {
    "colab": {
     "base_uri": "https://localhost:8080/",
     "height": 774
    },
    "executionInfo": {
     "elapsed": 1475,
     "status": "ok",
     "timestamp": 1655321280101,
     "user": {
      "displayName": "Rashmi dsouza",
      "userId": "15818309019845571813"
     },
     "user_tz": -120
    },
    "id": "RvoRRYAU1hf4",
    "outputId": "9d8d63cf-13e2-4094-a04e-bd597dc5251b"
   },
   "outputs": [
    {
     "data": {
      "image/png": "[encoded data removed]",
      "text/plain": [
       "<Figure size 400x400 with 1 Axes>"
      ]
     },
     "metadata": {},
     "output_type": "display_data"
    },
    {
     "data": {
      "text/plain": [
       "(0.6146496815286624, 0.029172036418822704)"
      ]
     },
     "execution_count": 47,
     "metadata": {},
     "output_type": "execute_result"
    },
    {
     "data": {
      "image/png": "[encoded data removed]",
      "text/plain": [
       "<Figure size 400x400 with 1 Axes>"
      ]
     },
     "metadata": {},
     "output_type": "display_data"
    }
   ],
   "source": [
    "evaluate(X_smoteenn,X_test_rfe,y_smoteenn,y_test)"
   ]
  },
  {
   "cell_type": "code",
   "execution_count": null,
   "metadata": {},
   "outputs": [],
   "source": []
  }
 ],
 "metadata": {
  "colab": {
   "collapsed_sections": [],
   "name": "knn - boruta.ipynb",
   "provenance": []
  },
  "kernelspec": {
   "display_name": "Python 3 (ipykernel)",
   "language": "python",
   "name": "python3"
  },
  "language_info": {
   "codemirror_mode": {
    "name": "ipython",
    "version": 3
   },
   "file_extension": ".py",
   "mimetype": "text/x-python",
   "name": "python",
   "nbconvert_exporter": "python",
   "pygments_lexer": "ipython3",
   "version": "3.9.7"
  }
 },
 "nbformat": 4,
 "nbformat_minor": 1
}
